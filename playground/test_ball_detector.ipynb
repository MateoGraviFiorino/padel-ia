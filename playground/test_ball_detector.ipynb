{
 "cells": [
  {
   "cell_type": "code",
   "execution_count": 1,
   "id": "c2fce914",
   "metadata": {},
   "outputs": [
    {
     "data": {
      "text/plain": [
       "'/home/tomas/Escritorio/Proyectos/proyecto_vision/padel-ia'"
      ]
     },
     "execution_count": 1,
     "metadata": {},
     "output_type": "execute_result"
    }
   ],
   "source": [
    "import os\n",
    "os.chdir(\"..\")\n",
    "os.getcwd()\n"
   ]
  },
  {
   "cell_type": "code",
   "execution_count": 2,
   "id": "bf5bd6b0",
   "metadata": {},
   "outputs": [],
   "source": [
    "from app.yolo import BallYoloDetector, PlayerYoloDetector"
   ]
  },
  {
   "cell_type": "code",
   "execution_count": 3,
   "id": "8d552308",
   "metadata": {},
   "outputs": [
    {
     "name": "stderr",
     "output_type": "stream",
     "text": [
      "Processing ball with output:   0%|          | 0/45 [00:00<?, ?frames/s]"
     ]
    },
    {
     "name": "stdout",
     "output_type": "stream",
     "text": [
      "\n",
      "0: 544x960 (no detections), 2025.3ms\n",
      "Speed: 5.7ms preprocess, 2025.3ms inference, 0.8ms postprocess per image at shape (1, 3, 544, 960)\n"
     ]
    },
    {
     "name": "stderr",
     "output_type": "stream",
     "text": [
      "Processing ball with output:   2%|▏         | 1/45 [00:04<03:17,  4.48s/frames]"
     ]
    },
    {
     "name": "stdout",
     "output_type": "stream",
     "text": [
      "\n",
      "0: 544x960 (no detections), 2228.8ms\n",
      "Speed: 6.5ms preprocess, 2228.8ms inference, 0.8ms postprocess per image at shape (1, 3, 544, 960)\n"
     ]
    },
    {
     "name": "stderr",
     "output_type": "stream",
     "text": [
      "Processing ball with output:   4%|▍         | 2/45 [00:07<02:41,  3.75s/frames]"
     ]
    },
    {
     "name": "stdout",
     "output_type": "stream",
     "text": [
      "\n",
      "0: 544x960 (no detections), 1830.6ms\n",
      "Speed: 4.8ms preprocess, 1830.6ms inference, 0.7ms postprocess per image at shape (1, 3, 544, 960)\n"
     ]
    },
    {
     "name": "stderr",
     "output_type": "stream",
     "text": [
      "Processing ball with output:   7%|▋         | 3/45 [00:10<02:20,  3.34s/frames]"
     ]
    },
    {
     "name": "stdout",
     "output_type": "stream",
     "text": [
      "\n",
      "0: 544x960 (no detections), 1830.3ms\n",
      "Speed: 4.6ms preprocess, 1830.3ms inference, 0.7ms postprocess per image at shape (1, 3, 544, 960)\n"
     ]
    },
    {
     "name": "stderr",
     "output_type": "stream",
     "text": [
      "Processing ball with output:   9%|▉         | 4/45 [00:13<02:07,  3.11s/frames]"
     ]
    },
    {
     "name": "stdout",
     "output_type": "stream",
     "text": [
      "\n",
      "0: 544x960 (no detections), 1956.7ms\n",
      "Speed: 5.5ms preprocess, 1956.7ms inference, 0.6ms postprocess per image at shape (1, 3, 544, 960)\n"
     ]
    },
    {
     "name": "stderr",
     "output_type": "stream",
     "text": [
      "Processing ball with output:  11%|█         | 5/45 [00:16<02:04,  3.11s/frames]"
     ]
    },
    {
     "name": "stdout",
     "output_type": "stream",
     "text": [
      "\n",
      "0: 544x960 (no detections), 1915.9ms\n",
      "Speed: 5.3ms preprocess, 1915.9ms inference, 0.6ms postprocess per image at shape (1, 3, 544, 960)\n"
     ]
    },
    {
     "name": "stderr",
     "output_type": "stream",
     "text": [
      "Processing ball with output:  13%|█▎        | 6/45 [00:19<01:57,  3.02s/frames]"
     ]
    },
    {
     "name": "stdout",
     "output_type": "stream",
     "text": [
      "\n",
      "0: 544x960 (no detections), 2119.5ms\n",
      "Speed: 5.4ms preprocess, 2119.5ms inference, 0.7ms postprocess per image at shape (1, 3, 544, 960)\n"
     ]
    },
    {
     "name": "stderr",
     "output_type": "stream",
     "text": [
      "Processing ball with output:  16%|█▌        | 7/45 [00:22<01:56,  3.06s/frames]"
     ]
    },
    {
     "name": "stdout",
     "output_type": "stream",
     "text": [
      "\n",
      "0: 544x960 (no detections), 2140.6ms\n",
      "Speed: 4.7ms preprocess, 2140.6ms inference, 0.7ms postprocess per image at shape (1, 3, 544, 960)\n"
     ]
    },
    {
     "name": "stderr",
     "output_type": "stream",
     "text": [
      "Processing ball with output:  18%|█▊        | 8/45 [00:25<01:53,  3.07s/frames]"
     ]
    },
    {
     "name": "stdout",
     "output_type": "stream",
     "text": [
      "\n",
      "0: 544x960 (no detections), 1839.9ms\n",
      "Speed: 5.0ms preprocess, 1839.9ms inference, 0.8ms postprocess per image at shape (1, 3, 544, 960)\n"
     ]
    },
    {
     "name": "stderr",
     "output_type": "stream",
     "text": [
      "Processing ball with output:  20%|██        | 9/45 [00:28<01:48,  3.02s/frames]"
     ]
    },
    {
     "name": "stdout",
     "output_type": "stream",
     "text": [
      "\n",
      "0: 544x960 (no detections), 1978.0ms\n",
      "Speed: 5.2ms preprocess, 1978.0ms inference, 0.6ms postprocess per image at shape (1, 3, 544, 960)\n"
     ]
    },
    {
     "name": "stderr",
     "output_type": "stream",
     "text": [
      "Processing ball with output:  22%|██▏       | 10/45 [00:31<01:46,  3.06s/frames]"
     ]
    },
    {
     "name": "stdout",
     "output_type": "stream",
     "text": [
      "\n",
      "0: 544x960 (no detections), 1972.8ms\n",
      "Speed: 6.0ms preprocess, 1972.8ms inference, 0.6ms postprocess per image at shape (1, 3, 544, 960)\n"
     ]
    },
    {
     "name": "stderr",
     "output_type": "stream",
     "text": [
      "Processing ball with output:  24%|██▍       | 11/45 [00:34<01:43,  3.04s/frames]"
     ]
    },
    {
     "name": "stdout",
     "output_type": "stream",
     "text": [
      "\n",
      "0: 544x960 (no detections), 1854.4ms\n",
      "Speed: 4.5ms preprocess, 1854.4ms inference, 0.5ms postprocess per image at shape (1, 3, 544, 960)\n"
     ]
    },
    {
     "name": "stderr",
     "output_type": "stream",
     "text": [
      "Processing ball with output:  27%|██▋       | 12/45 [00:37<01:38,  2.98s/frames]"
     ]
    },
    {
     "name": "stdout",
     "output_type": "stream",
     "text": [
      "\n",
      "0: 544x960 (no detections), 2158.7ms\n",
      "Speed: 4.6ms preprocess, 2158.7ms inference, 0.5ms postprocess per image at shape (1, 3, 544, 960)\n"
     ]
    },
    {
     "name": "stderr",
     "output_type": "stream",
     "text": [
      "Processing ball with output:  29%|██▉       | 13/45 [00:40<01:36,  3.01s/frames]"
     ]
    },
    {
     "name": "stdout",
     "output_type": "stream",
     "text": [
      "\n",
      "0: 544x960 (no detections), 1805.2ms\n",
      "Speed: 4.5ms preprocess, 1805.2ms inference, 0.7ms postprocess per image at shape (1, 3, 544, 960)\n"
     ]
    },
    {
     "name": "stderr",
     "output_type": "stream",
     "text": [
      "Processing ball with output:  31%|███       | 14/45 [00:43<01:31,  2.94s/frames]"
     ]
    },
    {
     "name": "stdout",
     "output_type": "stream",
     "text": [
      "\n",
      "0: 544x960 (no detections), 1994.1ms\n",
      "Speed: 4.9ms preprocess, 1994.1ms inference, 2.7ms postprocess per image at shape (1, 3, 544, 960)\n"
     ]
    },
    {
     "name": "stderr",
     "output_type": "stream",
     "text": [
      "Processing ball with output:  33%|███▎      | 15/45 [00:46<01:30,  3.01s/frames]"
     ]
    },
    {
     "name": "stdout",
     "output_type": "stream",
     "text": [
      "\n",
      "0: 544x960 1 tennis ball, 2029.3ms\n",
      "Speed: 5.0ms preprocess, 2029.3ms inference, 1.1ms postprocess per image at shape (1, 3, 544, 960)\n"
     ]
    },
    {
     "name": "stderr",
     "output_type": "stream",
     "text": [
      "Processing ball with output:  36%|███▌      | 16/45 [00:49<01:27,  3.01s/frames]"
     ]
    },
    {
     "name": "stdout",
     "output_type": "stream",
     "text": [
      "\n",
      "0: 544x960 1 tennis ball, 1864.7ms\n",
      "Speed: 5.6ms preprocess, 1864.7ms inference, 1.0ms postprocess per image at shape (1, 3, 544, 960)\n"
     ]
    },
    {
     "name": "stderr",
     "output_type": "stream",
     "text": [
      "Processing ball with output:  38%|███▊      | 17/45 [00:52<01:23,  2.97s/frames]"
     ]
    },
    {
     "name": "stdout",
     "output_type": "stream",
     "text": [
      "\n",
      "0: 544x960 1 tennis ball, 2233.0ms\n",
      "Speed: 4.7ms preprocess, 2233.0ms inference, 1.0ms postprocess per image at shape (1, 3, 544, 960)\n"
     ]
    },
    {
     "name": "stderr",
     "output_type": "stream",
     "text": [
      "Processing ball with output:  40%|████      | 18/45 [00:55<01:21,  3.04s/frames]"
     ]
    },
    {
     "name": "stdout",
     "output_type": "stream",
     "text": [
      "\n",
      "0: 544x960 1 tennis ball, 1827.0ms\n",
      "Speed: 4.7ms preprocess, 1827.0ms inference, 1.0ms postprocess per image at shape (1, 3, 544, 960)\n"
     ]
    },
    {
     "name": "stderr",
     "output_type": "stream",
     "text": [
      "Processing ball with output:  42%|████▏     | 19/45 [00:58<01:16,  2.96s/frames]"
     ]
    },
    {
     "name": "stdout",
     "output_type": "stream",
     "text": [
      "\n",
      "0: 544x960 1 tennis ball, 1806.6ms\n",
      "Speed: 4.5ms preprocess, 1806.6ms inference, 1.0ms postprocess per image at shape (1, 3, 544, 960)\n"
     ]
    },
    {
     "name": "stderr",
     "output_type": "stream",
     "text": [
      "Processing ball with output:  44%|████▍     | 20/45 [01:01<01:12,  2.90s/frames]"
     ]
    },
    {
     "name": "stdout",
     "output_type": "stream",
     "text": [
      "\n",
      "0: 544x960 (no detections), 1915.4ms\n",
      "Speed: 4.4ms preprocess, 1915.4ms inference, 0.6ms postprocess per image at shape (1, 3, 544, 960)\n"
     ]
    },
    {
     "name": "stderr",
     "output_type": "stream",
     "text": [
      "Processing ball with output:  47%|████▋     | 21/45 [01:04<01:10,  2.94s/frames]"
     ]
    },
    {
     "name": "stdout",
     "output_type": "stream",
     "text": [
      "\n",
      "0: 544x960 (no detections), 1906.0ms\n",
      "Speed: 4.9ms preprocess, 1906.0ms inference, 0.6ms postprocess per image at shape (1, 3, 544, 960)\n"
     ]
    },
    {
     "name": "stderr",
     "output_type": "stream",
     "text": [
      "Processing ball with output:  49%|████▉     | 22/45 [01:06<01:07,  2.92s/frames]"
     ]
    },
    {
     "name": "stdout",
     "output_type": "stream",
     "text": [
      "\n",
      "0: 544x960 (no detections), 2057.0ms\n",
      "Speed: 5.2ms preprocess, 2057.0ms inference, 0.6ms postprocess per image at shape (1, 3, 544, 960)\n"
     ]
    },
    {
     "name": "stderr",
     "output_type": "stream",
     "text": [
      "Processing ball with output:  51%|█████     | 23/45 [01:10<01:05,  2.97s/frames]"
     ]
    },
    {
     "name": "stdout",
     "output_type": "stream",
     "text": [
      "\n",
      "0: 544x960 (no detections), 2128.6ms\n",
      "Speed: 4.6ms preprocess, 2128.6ms inference, 0.6ms postprocess per image at shape (1, 3, 544, 960)\n"
     ]
    },
    {
     "name": "stderr",
     "output_type": "stream",
     "text": [
      "Processing ball with output:  53%|█████▎    | 24/45 [01:13<01:03,  3.01s/frames]"
     ]
    },
    {
     "name": "stdout",
     "output_type": "stream",
     "text": [
      "\n",
      "0: 544x960 (no detections), 2051.6ms\n",
      "Speed: 4.8ms preprocess, 2051.6ms inference, 0.6ms postprocess per image at shape (1, 3, 544, 960)\n"
     ]
    },
    {
     "name": "stderr",
     "output_type": "stream",
     "text": [
      "Processing ball with output:  56%|█████▌    | 25/45 [01:16<01:00,  3.01s/frames]"
     ]
    },
    {
     "name": "stdout",
     "output_type": "stream",
     "text": [
      "\n",
      "0: 544x960 (no detections), 1808.4ms\n",
      "Speed: 4.8ms preprocess, 1808.4ms inference, 0.8ms postprocess per image at shape (1, 3, 544, 960)\n"
     ]
    },
    {
     "name": "stderr",
     "output_type": "stream",
     "text": [
      "Processing ball with output:  58%|█████▊    | 26/45 [01:18<00:55,  2.94s/frames]"
     ]
    },
    {
     "name": "stdout",
     "output_type": "stream",
     "text": [
      "\n",
      "0: 544x960 (no detections), 1987.3ms\n",
      "Speed: 6.4ms preprocess, 1987.3ms inference, 0.6ms postprocess per image at shape (1, 3, 544, 960)\n"
     ]
    },
    {
     "name": "stderr",
     "output_type": "stream",
     "text": [
      "Processing ball with output:  60%|██████    | 27/45 [01:22<00:54,  3.00s/frames]"
     ]
    },
    {
     "name": "stdout",
     "output_type": "stream",
     "text": [
      "\n",
      "0: 544x960 (no detections), 1883.2ms\n",
      "Speed: 5.0ms preprocess, 1883.2ms inference, 0.6ms postprocess per image at shape (1, 3, 544, 960)\n"
     ]
    },
    {
     "name": "stderr",
     "output_type": "stream",
     "text": [
      "Processing ball with output:  62%|██████▏   | 28/45 [01:24<00:50,  2.96s/frames]"
     ]
    },
    {
     "name": "stdout",
     "output_type": "stream",
     "text": [
      "\n",
      "0: 544x960 (no detections), 2122.9ms\n",
      "Speed: 5.1ms preprocess, 2122.9ms inference, 0.6ms postprocess per image at shape (1, 3, 544, 960)\n"
     ]
    },
    {
     "name": "stderr",
     "output_type": "stream",
     "text": [
      "Processing ball with output:  64%|██████▍   | 29/45 [01:28<00:48,  3.01s/frames]"
     ]
    },
    {
     "name": "stdout",
     "output_type": "stream",
     "text": [
      "\n",
      "0: 544x960 (no detections), 2026.4ms\n",
      "Speed: 5.3ms preprocess, 2026.4ms inference, 0.6ms postprocess per image at shape (1, 3, 544, 960)\n"
     ]
    },
    {
     "name": "stderr",
     "output_type": "stream",
     "text": [
      "Processing ball with output:  67%|██████▋   | 30/45 [01:31<00:45,  3.00s/frames]"
     ]
    },
    {
     "name": "stdout",
     "output_type": "stream",
     "text": [
      "\n",
      "0: 544x960 (no detections), 1812.0ms\n",
      "Speed: 4.3ms preprocess, 1812.0ms inference, 3.7ms postprocess per image at shape (1, 3, 544, 960)\n"
     ]
    },
    {
     "name": "stderr",
     "output_type": "stream",
     "text": [
      "Processing ball with output:  69%|██████▉   | 31/45 [01:33<00:41,  2.94s/frames]"
     ]
    },
    {
     "name": "stdout",
     "output_type": "stream",
     "text": [
      "\n",
      "0: 544x960 (no detections), 1803.2ms\n",
      "Speed: 4.8ms preprocess, 1803.2ms inference, 1.0ms postprocess per image at shape (1, 3, 544, 960)\n"
     ]
    },
    {
     "name": "stderr",
     "output_type": "stream",
     "text": [
      "Processing ball with output:  71%|███████   | 32/45 [01:36<00:37,  2.89s/frames]"
     ]
    },
    {
     "name": "stdout",
     "output_type": "stream",
     "text": [
      "\n",
      "0: 544x960 (no detections), 1750.3ms\n",
      "Speed: 4.3ms preprocess, 1750.3ms inference, 0.7ms postprocess per image at shape (1, 3, 544, 960)\n"
     ]
    },
    {
     "name": "stderr",
     "output_type": "stream",
     "text": [
      "Processing ball with output:  73%|███████▎  | 33/45 [01:39<00:34,  2.83s/frames]"
     ]
    },
    {
     "name": "stdout",
     "output_type": "stream",
     "text": [
      "\n",
      "0: 544x960 (no detections), 2061.6ms\n",
      "Speed: 5.1ms preprocess, 2061.6ms inference, 0.6ms postprocess per image at shape (1, 3, 544, 960)\n"
     ]
    },
    {
     "name": "stderr",
     "output_type": "stream",
     "text": [
      "Processing ball with output:  76%|███████▌  | 34/45 [01:42<00:32,  2.94s/frames]"
     ]
    },
    {
     "name": "stdout",
     "output_type": "stream",
     "text": [
      "\n",
      "0: 544x960 (no detections), 1897.1ms\n",
      "Speed: 4.2ms preprocess, 1897.1ms inference, 0.6ms postprocess per image at shape (1, 3, 544, 960)\n"
     ]
    },
    {
     "name": "stderr",
     "output_type": "stream",
     "text": [
      "Processing ball with output:  78%|███████▊  | 35/45 [01:45<00:29,  2.92s/frames]"
     ]
    },
    {
     "name": "stdout",
     "output_type": "stream",
     "text": [
      "\n",
      "0: 544x960 (no detections), 1778.0ms\n",
      "Speed: 5.3ms preprocess, 1778.0ms inference, 0.6ms postprocess per image at shape (1, 3, 544, 960)\n"
     ]
    },
    {
     "name": "stderr",
     "output_type": "stream",
     "text": [
      "Processing ball with output:  80%|████████  | 36/45 [01:48<00:25,  2.89s/frames]"
     ]
    },
    {
     "name": "stdout",
     "output_type": "stream",
     "text": [
      "\n",
      "0: 544x960 (no detections), 1923.9ms\n",
      "Speed: 4.4ms preprocess, 1923.9ms inference, 0.7ms postprocess per image at shape (1, 3, 544, 960)\n"
     ]
    },
    {
     "name": "stderr",
     "output_type": "stream",
     "text": [
      "Processing ball with output:  82%|████████▏ | 37/45 [01:51<00:23,  2.89s/frames]"
     ]
    },
    {
     "name": "stdout",
     "output_type": "stream",
     "text": [
      "\n",
      "0: 544x960 (no detections), 1794.7ms\n",
      "Speed: 4.5ms preprocess, 1794.7ms inference, 0.7ms postprocess per image at shape (1, 3, 544, 960)\n"
     ]
    },
    {
     "name": "stderr",
     "output_type": "stream",
     "text": [
      "Processing ball with output:  84%|████████▍ | 38/45 [01:53<00:19,  2.85s/frames]"
     ]
    },
    {
     "name": "stdout",
     "output_type": "stream",
     "text": [
      "\n",
      "0: 544x960 (no detections), 2088.8ms\n",
      "Speed: 4.2ms preprocess, 2088.8ms inference, 0.6ms postprocess per image at shape (1, 3, 544, 960)\n"
     ]
    },
    {
     "name": "stderr",
     "output_type": "stream",
     "text": [
      "Processing ball with output:  87%|████████▋ | 39/45 [01:57<00:17,  2.96s/frames]"
     ]
    },
    {
     "name": "stdout",
     "output_type": "stream",
     "text": [
      "\n",
      "0: 544x960 (no detections), 1877.3ms\n",
      "Speed: 5.5ms preprocess, 1877.3ms inference, 0.6ms postprocess per image at shape (1, 3, 544, 960)\n"
     ]
    },
    {
     "name": "stderr",
     "output_type": "stream",
     "text": [
      "Processing ball with output:  89%|████████▉ | 40/45 [01:59<00:14,  2.93s/frames]"
     ]
    },
    {
     "name": "stdout",
     "output_type": "stream",
     "text": [
      "\n",
      "0: 544x960 (no detections), 1937.6ms\n",
      "Speed: 5.1ms preprocess, 1937.6ms inference, 0.6ms postprocess per image at shape (1, 3, 544, 960)\n"
     ]
    },
    {
     "name": "stderr",
     "output_type": "stream",
     "text": [
      "Processing ball with output:  91%|█████████ | 41/45 [02:02<00:11,  2.92s/frames]"
     ]
    },
    {
     "name": "stdout",
     "output_type": "stream",
     "text": [
      "\n",
      "0: 544x960 (no detections), 1949.6ms\n",
      "Speed: 4.4ms preprocess, 1949.6ms inference, 0.6ms postprocess per image at shape (1, 3, 544, 960)\n"
     ]
    },
    {
     "name": "stderr",
     "output_type": "stream",
     "text": [
      "Processing ball with output:  93%|█████████▎| 42/45 [02:05<00:08,  2.92s/frames]"
     ]
    },
    {
     "name": "stdout",
     "output_type": "stream",
     "text": [
      "\n",
      "0: 544x960 (no detections), 2201.1ms\n",
      "Speed: 5.8ms preprocess, 2201.1ms inference, 0.7ms postprocess per image at shape (1, 3, 544, 960)\n"
     ]
    },
    {
     "name": "stderr",
     "output_type": "stream",
     "text": [
      "Processing ball with output:  96%|█████████▌| 43/45 [02:08<00:06,  3.02s/frames]"
     ]
    },
    {
     "name": "stdout",
     "output_type": "stream",
     "text": [
      "\n",
      "0: 544x960 (no detections), 1800.3ms\n",
      "Speed: 4.9ms preprocess, 1800.3ms inference, 0.6ms postprocess per image at shape (1, 3, 544, 960)\n"
     ]
    },
    {
     "name": "stderr",
     "output_type": "stream",
     "text": [
      "Processing ball with output:  98%|█████████▊| 44/45 [02:11<00:02,  2.95s/frames]"
     ]
    },
    {
     "name": "stdout",
     "output_type": "stream",
     "text": [
      "\n",
      "0: 544x960 (no detections), 1927.1ms\n",
      "Speed: 5.6ms preprocess, 1927.1ms inference, 0.6ms postprocess per image at shape (1, 3, 544, 960)\n"
     ]
    },
    {
     "name": "stderr",
     "output_type": "stream",
     "text": [
      "Processing ball with output: 100%|██████████| 45/45 [02:14<00:00,  3.00s/frames]"
     ]
    },
    {
     "name": "stdout",
     "output_type": "stream",
     "text": [
      "Video procesado guardado en: data/output_ball_detected.mp4\n"
     ]
    },
    {
     "name": "stderr",
     "output_type": "stream",
     "text": [
      "\n"
     ]
    }
   ],
   "source": [
    "\n",
    "detector = BallYoloDetector()\n",
    "video_processed_ball = detector.process_video_with_output(\"data/video_cortado.mp4\", \"data/output_ball_detected.mp4\")"
   ]
  },
  {
   "cell_type": "code",
   "execution_count": 4,
   "id": "1261aae9",
   "metadata": {},
   "outputs": [
    {
     "name": "stderr",
     "output_type": "stream",
     "text": [
      "Processing player with output:   0%|          | 0/45 [00:00<?, ?frames/s]"
     ]
    },
    {
     "name": "stdout",
     "output_type": "stream",
     "text": [
      "\n",
      "0: 384x640 6 persons, 1 car, 1 tv, 984.9ms\n",
      "Speed: 3.2ms preprocess, 984.9ms inference, 2.3ms postprocess per image at shape (1, 3, 384, 640)\n"
     ]
    },
    {
     "name": "stderr",
     "output_type": "stream",
     "text": [
      "Processing player with output:   2%|▏         | 1/45 [00:03<02:23,  3.26s/frames]"
     ]
    },
    {
     "name": "stdout",
     "output_type": "stream",
     "text": [
      "\n",
      "0: 384x640 6 persons, 1 car, 1 tv, 1005.5ms\n",
      "Speed: 2.3ms preprocess, 1005.5ms inference, 1.4ms postprocess per image at shape (1, 3, 384, 640)\n"
     ]
    },
    {
     "name": "stderr",
     "output_type": "stream",
     "text": [
      "Processing player with output:   4%|▍         | 2/45 [00:05<01:49,  2.55s/frames]"
     ]
    },
    {
     "name": "stdout",
     "output_type": "stream",
     "text": [
      "\n",
      "0: 384x640 6 persons, 1 car, 1 tv, 998.3ms\n",
      "Speed: 2.0ms preprocess, 998.3ms inference, 2.0ms postprocess per image at shape (1, 3, 384, 640)\n"
     ]
    },
    {
     "name": "stderr",
     "output_type": "stream",
     "text": [
      "Processing player with output:   7%|▋         | 3/45 [00:07<01:36,  2.29s/frames]"
     ]
    },
    {
     "name": "stdout",
     "output_type": "stream",
     "text": [
      "\n",
      "0: 384x640 7 persons, 1 car, 1 tv, 951.0ms\n",
      "Speed: 2.7ms preprocess, 951.0ms inference, 1.0ms postprocess per image at shape (1, 3, 384, 640)\n"
     ]
    },
    {
     "name": "stderr",
     "output_type": "stream",
     "text": [
      "Processing player with output:   9%|▉         | 4/45 [00:09<01:30,  2.21s/frames]"
     ]
    },
    {
     "name": "stdout",
     "output_type": "stream",
     "text": [
      "\n",
      "0: 384x640 7 persons, 1 car, 1 tv, 1005.9ms\n",
      "Speed: 1.9ms preprocess, 1005.9ms inference, 1.0ms postprocess per image at shape (1, 3, 384, 640)\n"
     ]
    },
    {
     "name": "stderr",
     "output_type": "stream",
     "text": [
      "Processing player with output:  11%|█         | 5/45 [00:11<01:25,  2.14s/frames]"
     ]
    },
    {
     "name": "stdout",
     "output_type": "stream",
     "text": [
      "\n",
      "0: 384x640 7 persons, 1 tennis racket, 1 tv, 1008.6ms\n",
      "Speed: 1.9ms preprocess, 1008.6ms inference, 1.2ms postprocess per image at shape (1, 3, 384, 640)\n"
     ]
    },
    {
     "name": "stderr",
     "output_type": "stream",
     "text": [
      "Processing player with output:  13%|█▎        | 6/45 [00:13<01:22,  2.11s/frames]"
     ]
    },
    {
     "name": "stdout",
     "output_type": "stream",
     "text": [
      "\n",
      "0: 384x640 7 persons, 1 tennis racket, 1 tv, 1004.7ms\n",
      "Speed: 2.2ms preprocess, 1004.7ms inference, 1.2ms postprocess per image at shape (1, 3, 384, 640)\n"
     ]
    },
    {
     "name": "stderr",
     "output_type": "stream",
     "text": [
      "Processing player with output:  16%|█▌        | 7/45 [00:15<01:19,  2.08s/frames]"
     ]
    },
    {
     "name": "stdout",
     "output_type": "stream",
     "text": [
      "\n",
      "0: 384x640 7 persons, 1 car, 1 tennis racket, 1 tv, 1014.6ms\n",
      "Speed: 1.7ms preprocess, 1014.6ms inference, 1.4ms postprocess per image at shape (1, 3, 384, 640)\n"
     ]
    },
    {
     "name": "stderr",
     "output_type": "stream",
     "text": [
      "Processing player with output:  18%|█▊        | 8/45 [00:17<01:17,  2.09s/frames]"
     ]
    },
    {
     "name": "stdout",
     "output_type": "stream",
     "text": [
      "\n",
      "0: 384x640 7 persons, 1 car, 1 tennis racket, 1 tv, 998.1ms\n",
      "Speed: 2.3ms preprocess, 998.1ms inference, 1.1ms postprocess per image at shape (1, 3, 384, 640)\n"
     ]
    },
    {
     "name": "stderr",
     "output_type": "stream",
     "text": [
      "Processing player with output:  20%|██        | 9/45 [00:19<01:16,  2.12s/frames]"
     ]
    },
    {
     "name": "stdout",
     "output_type": "stream",
     "text": [
      "\n",
      "0: 384x640 7 persons, 1 car, 1 sports ball, 1 tv, 1032.1ms\n",
      "Speed: 2.0ms preprocess, 1032.1ms inference, 1.0ms postprocess per image at shape (1, 3, 384, 640)\n"
     ]
    },
    {
     "name": "stderr",
     "output_type": "stream",
     "text": [
      "Processing player with output:  22%|██▏       | 10/45 [00:21<01:13,  2.09s/frames]"
     ]
    },
    {
     "name": "stdout",
     "output_type": "stream",
     "text": [
      "\n",
      "0: 384x640 7 persons, 1 car, 1 tv, 985.8ms\n",
      "Speed: 1.9ms preprocess, 985.8ms inference, 0.9ms postprocess per image at shape (1, 3, 384, 640)\n"
     ]
    },
    {
     "name": "stderr",
     "output_type": "stream",
     "text": [
      "Processing player with output:  24%|██▍       | 11/45 [00:23<01:10,  2.06s/frames]"
     ]
    },
    {
     "name": "stdout",
     "output_type": "stream",
     "text": [
      "\n",
      "0: 384x640 7 persons, 1 car, 1 tv, 991.3ms\n",
      "Speed: 1.9ms preprocess, 991.3ms inference, 1.2ms postprocess per image at shape (1, 3, 384, 640)\n"
     ]
    },
    {
     "name": "stderr",
     "output_type": "stream",
     "text": [
      "Processing player with output:  27%|██▋       | 12/45 [00:25<01:07,  2.03s/frames]"
     ]
    },
    {
     "name": "stdout",
     "output_type": "stream",
     "text": [
      "\n",
      "0: 384x640 7 persons, 1 car, 1 tv, 998.8ms\n",
      "Speed: 2.0ms preprocess, 998.8ms inference, 0.9ms postprocess per image at shape (1, 3, 384, 640)\n"
     ]
    },
    {
     "name": "stderr",
     "output_type": "stream",
     "text": [
      "Processing player with output:  29%|██▉       | 13/45 [00:27<01:04,  2.03s/frames]"
     ]
    },
    {
     "name": "stdout",
     "output_type": "stream",
     "text": [
      "\n",
      "0: 384x640 7 persons, 1 tv, 1019.8ms\n",
      "Speed: 6.7ms preprocess, 1019.8ms inference, 1.0ms postprocess per image at shape (1, 3, 384, 640)\n"
     ]
    },
    {
     "name": "stderr",
     "output_type": "stream",
     "text": [
      "Processing player with output:  31%|███       | 14/45 [00:29<01:03,  2.06s/frames]"
     ]
    },
    {
     "name": "stdout",
     "output_type": "stream",
     "text": [
      "\n",
      "0: 384x640 7 persons, 1 car, 1 tv, 997.3ms\n",
      "Speed: 3.8ms preprocess, 997.3ms inference, 1.1ms postprocess per image at shape (1, 3, 384, 640)\n"
     ]
    },
    {
     "name": "stderr",
     "output_type": "stream",
     "text": [
      "Processing player with output:  33%|███▎      | 15/45 [00:32<01:02,  2.09s/frames]"
     ]
    },
    {
     "name": "stdout",
     "output_type": "stream",
     "text": [
      "\n",
      "0: 384x640 7 persons, 1 car, 1 tv, 1010.9ms\n",
      "Speed: 2.6ms preprocess, 1010.9ms inference, 1.0ms postprocess per image at shape (1, 3, 384, 640)\n"
     ]
    },
    {
     "name": "stderr",
     "output_type": "stream",
     "text": [
      "Processing player with output:  36%|███▌      | 16/45 [00:34<00:59,  2.06s/frames]"
     ]
    },
    {
     "name": "stdout",
     "output_type": "stream",
     "text": [
      "\n",
      "0: 384x640 8 persons, 1 car, 1 tv, 987.3ms\n",
      "Speed: 2.0ms preprocess, 987.3ms inference, 0.9ms postprocess per image at shape (1, 3, 384, 640)\n"
     ]
    },
    {
     "name": "stderr",
     "output_type": "stream",
     "text": [
      "Processing player with output:  38%|███▊      | 17/45 [00:36<00:57,  2.04s/frames]"
     ]
    },
    {
     "name": "stdout",
     "output_type": "stream",
     "text": [
      "\n",
      "0: 384x640 8 persons, 1 car, 1 tv, 999.6ms\n",
      "Speed: 1.9ms preprocess, 999.6ms inference, 1.0ms postprocess per image at shape (1, 3, 384, 640)\n"
     ]
    },
    {
     "name": "stderr",
     "output_type": "stream",
     "text": [
      "Processing player with output:  40%|████      | 18/45 [00:38<00:54,  2.03s/frames]"
     ]
    },
    {
     "name": "stdout",
     "output_type": "stream",
     "text": [
      "\n",
      "0: 384x640 8 persons, 1 car, 1 tv, 1041.4ms\n",
      "Speed: 2.0ms preprocess, 1041.4ms inference, 0.9ms postprocess per image at shape (1, 3, 384, 640)\n"
     ]
    },
    {
     "name": "stderr",
     "output_type": "stream",
     "text": [
      "Processing player with output:  42%|████▏     | 19/45 [00:40<00:52,  2.03s/frames]"
     ]
    },
    {
     "name": "stdout",
     "output_type": "stream",
     "text": [
      "\n",
      "0: 384x640 7 persons, 1 car, 2 tennis rackets, 1 tv, 981.0ms\n",
      "Speed: 2.2ms preprocess, 981.0ms inference, 1.7ms postprocess per image at shape (1, 3, 384, 640)\n"
     ]
    },
    {
     "name": "stderr",
     "output_type": "stream",
     "text": [
      "Processing player with output:  44%|████▍     | 20/45 [00:42<00:51,  2.06s/frames]"
     ]
    },
    {
     "name": "stdout",
     "output_type": "stream",
     "text": [
      "\n",
      "0: 384x640 7 persons, 1 car, 2 tennis rackets, 1 tv, 995.7ms\n",
      "Speed: 2.7ms preprocess, 995.7ms inference, 1.7ms postprocess per image at shape (1, 3, 384, 640)\n"
     ]
    },
    {
     "name": "stderr",
     "output_type": "stream",
     "text": [
      "Processing player with output:  47%|████▋     | 21/45 [00:44<00:49,  2.07s/frames]"
     ]
    },
    {
     "name": "stdout",
     "output_type": "stream",
     "text": [
      "\n",
      "0: 384x640 7 persons, 1 car, 2 tennis rackets, 1 tv, 1081.9ms\n",
      "Speed: 2.1ms preprocess, 1081.9ms inference, 1.2ms postprocess per image at shape (1, 3, 384, 640)\n"
     ]
    },
    {
     "name": "stderr",
     "output_type": "stream",
     "text": [
      "Processing player with output:  49%|████▉     | 22/45 [00:46<00:48,  2.09s/frames]"
     ]
    },
    {
     "name": "stdout",
     "output_type": "stream",
     "text": [
      "\n",
      "0: 384x640 7 persons, 1 car, 2 tennis rackets, 1 tv, 1011.1ms\n",
      "Speed: 2.3ms preprocess, 1011.1ms inference, 1.3ms postprocess per image at shape (1, 3, 384, 640)\n"
     ]
    },
    {
     "name": "stderr",
     "output_type": "stream",
     "text": [
      "Processing player with output:  51%|█████     | 23/45 [00:48<00:45,  2.07s/frames]"
     ]
    },
    {
     "name": "stdout",
     "output_type": "stream",
     "text": [
      "\n",
      "0: 384x640 6 persons, 1 car, 2 tennis rackets, 1 tv, 1148.8ms\n",
      "Speed: 3.5ms preprocess, 1148.8ms inference, 1.0ms postprocess per image at shape (1, 3, 384, 640)\n"
     ]
    },
    {
     "name": "stderr",
     "output_type": "stream",
     "text": [
      "Processing player with output:  53%|█████▎    | 24/45 [00:50<00:43,  2.09s/frames]"
     ]
    },
    {
     "name": "stdout",
     "output_type": "stream",
     "text": [
      "\n",
      "0: 384x640 7 persons, 1 car, 1 sports ball, 5 tennis rackets, 1 tv, 1036.4ms\n",
      "Speed: 2.1ms preprocess, 1036.4ms inference, 1.6ms postprocess per image at shape (1, 3, 384, 640)\n"
     ]
    },
    {
     "name": "stderr",
     "output_type": "stream",
     "text": [
      "Processing player with output:  56%|█████▌    | 25/45 [00:52<00:41,  2.08s/frames]"
     ]
    },
    {
     "name": "stdout",
     "output_type": "stream",
     "text": [
      "\n",
      "0: 384x640 6 persons, 1 car, 1 tennis racket, 1 tv, 1041.1ms\n",
      "Speed: 2.6ms preprocess, 1041.1ms inference, 1.3ms postprocess per image at shape (1, 3, 384, 640)\n"
     ]
    },
    {
     "name": "stderr",
     "output_type": "stream",
     "text": [
      "Processing player with output:  58%|█████▊    | 26/45 [00:54<00:39,  2.07s/frames]"
     ]
    },
    {
     "name": "stdout",
     "output_type": "stream",
     "text": [
      "\n",
      "0: 384x640 6 persons, 1 car, 3 tennis rackets, 1 tv, 1004.9ms\n",
      "Speed: 2.4ms preprocess, 1004.9ms inference, 1.2ms postprocess per image at shape (1, 3, 384, 640)\n"
     ]
    },
    {
     "name": "stderr",
     "output_type": "stream",
     "text": [
      "Processing player with output:  60%|██████    | 27/45 [00:56<00:37,  2.10s/frames]"
     ]
    },
    {
     "name": "stdout",
     "output_type": "stream",
     "text": [
      "\n",
      "0: 384x640 6 persons, 1 car, 1 tennis racket, 1 tv, 978.2ms\n",
      "Speed: 2.2ms preprocess, 978.2ms inference, 1.0ms postprocess per image at shape (1, 3, 384, 640)\n"
     ]
    },
    {
     "name": "stderr",
     "output_type": "stream",
     "text": [
      "Processing player with output:  62%|██████▏   | 28/45 [00:58<00:35,  2.06s/frames]"
     ]
    },
    {
     "name": "stdout",
     "output_type": "stream",
     "text": [
      "\n",
      "0: 384x640 6 persons, 1 car, 1 tennis racket, 1 tv, 1008.2ms\n",
      "Speed: 2.2ms preprocess, 1008.2ms inference, 1.0ms postprocess per image at shape (1, 3, 384, 640)\n"
     ]
    },
    {
     "name": "stderr",
     "output_type": "stream",
     "text": [
      "Processing player with output:  64%|██████▍   | 29/45 [01:00<00:32,  2.05s/frames]"
     ]
    },
    {
     "name": "stdout",
     "output_type": "stream",
     "text": [
      "\n",
      "0: 384x640 6 persons, 1 car, 1 tennis racket, 1 tv, 991.1ms\n",
      "Speed: 2.5ms preprocess, 991.1ms inference, 1.1ms postprocess per image at shape (1, 3, 384, 640)\n"
     ]
    },
    {
     "name": "stderr",
     "output_type": "stream",
     "text": [
      "Processing player with output:  67%|██████▋   | 30/45 [01:02<00:30,  2.06s/frames]"
     ]
    },
    {
     "name": "stdout",
     "output_type": "stream",
     "text": [
      "\n",
      "0: 384x640 6 persons, 1 car, 2 tennis rackets, 1 tv, 1065.2ms\n",
      "Speed: 3.4ms preprocess, 1065.2ms inference, 1.0ms postprocess per image at shape (1, 3, 384, 640)\n"
     ]
    },
    {
     "name": "stderr",
     "output_type": "stream",
     "text": [
      "Processing player with output:  69%|██████▉   | 31/45 [01:05<00:28,  2.07s/frames]"
     ]
    },
    {
     "name": "stdout",
     "output_type": "stream",
     "text": [
      "\n",
      "0: 384x640 7 persons, 1 car, 1 tennis racket, 1 tv, 1003.5ms\n",
      "Speed: 2.4ms preprocess, 1003.5ms inference, 0.9ms postprocess per image at shape (1, 3, 384, 640)\n"
     ]
    },
    {
     "name": "stderr",
     "output_type": "stream",
     "text": [
      "Processing player with output:  71%|███████   | 32/45 [01:07<00:27,  2.10s/frames]"
     ]
    },
    {
     "name": "stdout",
     "output_type": "stream",
     "text": [
      "\n",
      "0: 384x640 7 persons, 1 car, 1 tennis racket, 1 tv, 1006.7ms\n",
      "Speed: 1.9ms preprocess, 1006.7ms inference, 1.0ms postprocess per image at shape (1, 3, 384, 640)\n"
     ]
    },
    {
     "name": "stderr",
     "output_type": "stream",
     "text": [
      "Processing player with output:  73%|███████▎  | 33/45 [01:09<00:24,  2.07s/frames]"
     ]
    },
    {
     "name": "stdout",
     "output_type": "stream",
     "text": [
      "\n",
      "0: 384x640 7 persons, 1 car, 1 tennis racket, 1 tv, 1032.6ms\n",
      "Speed: 2.4ms preprocess, 1032.6ms inference, 1.0ms postprocess per image at shape (1, 3, 384, 640)\n"
     ]
    },
    {
     "name": "stderr",
     "output_type": "stream",
     "text": [
      "Processing player with output:  76%|███████▌  | 34/45 [01:11<00:22,  2.07s/frames]"
     ]
    },
    {
     "name": "stdout",
     "output_type": "stream",
     "text": [
      "\n",
      "0: 384x640 7 persons, 1 car, 1 tv, 1174.6ms\n",
      "Speed: 2.2ms preprocess, 1174.6ms inference, 0.9ms postprocess per image at shape (1, 3, 384, 640)\n"
     ]
    },
    {
     "name": "stderr",
     "output_type": "stream",
     "text": [
      "Processing player with output:  78%|███████▊  | 35/45 [01:13<00:21,  2.10s/frames]"
     ]
    },
    {
     "name": "stdout",
     "output_type": "stream",
     "text": [
      "\n",
      "0: 384x640 6 persons, 1 car, 1 tv, 1057.1ms\n",
      "Speed: 1.9ms preprocess, 1057.1ms inference, 1.0ms postprocess per image at shape (1, 3, 384, 640)\n"
     ]
    },
    {
     "name": "stderr",
     "output_type": "stream",
     "text": [
      "Processing player with output:  80%|████████  | 36/45 [01:15<00:18,  2.09s/frames]"
     ]
    },
    {
     "name": "stdout",
     "output_type": "stream",
     "text": [
      "\n",
      "0: 384x640 6 persons, 1 car, 1 tv, 998.8ms\n",
      "Speed: 2.4ms preprocess, 998.8ms inference, 1.2ms postprocess per image at shape (1, 3, 384, 640)\n"
     ]
    },
    {
     "name": "stderr",
     "output_type": "stream",
     "text": [
      "Processing player with output:  82%|████████▏ | 37/45 [01:17<00:16,  2.07s/frames]"
     ]
    },
    {
     "name": "stdout",
     "output_type": "stream",
     "text": [
      "\n",
      "0: 384x640 6 persons, 1 car, 1 tv, 995.2ms\n",
      "Speed: 2.2ms preprocess, 995.2ms inference, 0.9ms postprocess per image at shape (1, 3, 384, 640)\n"
     ]
    },
    {
     "name": "stderr",
     "output_type": "stream",
     "text": [
      "Processing player with output:  84%|████████▍ | 38/45 [01:19<00:14,  2.09s/frames]"
     ]
    },
    {
     "name": "stdout",
     "output_type": "stream",
     "text": [
      "\n",
      "0: 384x640 6 persons, 1 car, 1 tv, 1139.9ms\n",
      "Speed: 2.5ms preprocess, 1139.9ms inference, 0.9ms postprocess per image at shape (1, 3, 384, 640)\n"
     ]
    },
    {
     "name": "stderr",
     "output_type": "stream",
     "text": [
      "Processing player with output:  87%|████████▋ | 39/45 [01:21<00:12,  2.11s/frames]"
     ]
    },
    {
     "name": "stdout",
     "output_type": "stream",
     "text": [
      "\n",
      "0: 384x640 6 persons, 1 car, 1 tv, 1053.5ms\n",
      "Speed: 3.0ms preprocess, 1053.5ms inference, 1.0ms postprocess per image at shape (1, 3, 384, 640)\n"
     ]
    },
    {
     "name": "stderr",
     "output_type": "stream",
     "text": [
      "Processing player with output:  89%|████████▉ | 40/45 [01:23<00:10,  2.10s/frames]"
     ]
    },
    {
     "name": "stdout",
     "output_type": "stream",
     "text": [
      "\n",
      "0: 384x640 6 persons, 1 car, 1 tv, 1050.4ms\n",
      "Speed: 2.2ms preprocess, 1050.4ms inference, 1.2ms postprocess per image at shape (1, 3, 384, 640)\n"
     ]
    },
    {
     "name": "stderr",
     "output_type": "stream",
     "text": [
      "Processing player with output:  91%|█████████ | 41/45 [01:25<00:08,  2.09s/frames]"
     ]
    },
    {
     "name": "stdout",
     "output_type": "stream",
     "text": [
      "\n",
      "0: 384x640 6 persons, 1 car, 1 tv, 1005.9ms\n",
      "Speed: 2.1ms preprocess, 1005.9ms inference, 1.1ms postprocess per image at shape (1, 3, 384, 640)\n"
     ]
    },
    {
     "name": "stderr",
     "output_type": "stream",
     "text": [
      "Processing player with output:  93%|█████████▎| 42/45 [01:28<00:06,  2.06s/frames]"
     ]
    },
    {
     "name": "stdout",
     "output_type": "stream",
     "text": [
      "\n",
      "0: 384x640 7 persons, 1 car, 1 tv, 1008.7ms\n",
      "Speed: 2.4ms preprocess, 1008.7ms inference, 0.9ms postprocess per image at shape (1, 3, 384, 640)\n"
     ]
    },
    {
     "name": "stderr",
     "output_type": "stream",
     "text": [
      "Processing player with output:  96%|█████████▌| 43/45 [01:30<00:04,  2.10s/frames]"
     ]
    },
    {
     "name": "stdout",
     "output_type": "stream",
     "text": [
      "\n",
      "0: 384x640 7 persons, 1 car, 1 tv, 1019.3ms\n",
      "Speed: 1.9ms preprocess, 1019.3ms inference, 0.9ms postprocess per image at shape (1, 3, 384, 640)\n"
     ]
    },
    {
     "name": "stderr",
     "output_type": "stream",
     "text": [
      "Processing player with output:  98%|█████████▊| 44/45 [01:32<00:02,  2.08s/frames]"
     ]
    },
    {
     "name": "stdout",
     "output_type": "stream",
     "text": [
      "\n",
      "0: 384x640 7 persons, 1 car, 1 tv, 992.6ms\n",
      "Speed: 2.1ms preprocess, 992.6ms inference, 0.9ms postprocess per image at shape (1, 3, 384, 640)\n"
     ]
    },
    {
     "name": "stderr",
     "output_type": "stream",
     "text": [
      "Processing player with output: 100%|██████████| 45/45 [01:34<00:00,  2.09s/frames]"
     ]
    },
    {
     "name": "stdout",
     "output_type": "stream",
     "text": [
      "Video procesado guardado en: data/output_video_cortado_detected.mp4\n"
     ]
    },
    {
     "name": "stderr",
     "output_type": "stream",
     "text": [
      "\n"
     ]
    }
   ],
   "source": [
    "\n",
    "detector = PlayerYoloDetector()\n",
    "video_processed = detector.process_video_with_output(\"data/video_cortado.mp4\")"
   ]
  },
  {
   "cell_type": "code",
   "execution_count": 5,
   "id": "fe77eb7f",
   "metadata": {},
   "outputs": [
    {
     "data": {
      "text/plain": [
       "DetectionResultVideo(frame_detections=[DetectionResultFrame(box=[416.7357177734375, 297.18524169921875, 485.989990234375, 417.04473876953125], confidence=0.8665839433670044, class_name='player', class_id='0'), DetectionResultFrame(box=[666.7913818359375, 191.4736328125, 718.575927734375, 285.12969970703125], confidence=0.8487785458564758, class_name='player', class_id='1'), DetectionResultFrame(box=[702.1162109375, 291.65179443359375, 773.1253662109375, 423.00640869140625], confidence=0.8221321105957031, class_name='player', class_id='2'), DetectionResultFrame(box=[454.9957580566406, 170.21865844726562, 509.9507141113281, 232.77886962890625], confidence=0.7553455829620361, class_name='player', class_id='3'), DetectionResultFrame(box=[410.073974609375, 299.38909912109375, 485.7200927734375, 418.17010498046875], confidence=0.877970814704895, class_name='player', class_id='0'), DetectionResultFrame(box=[666.6535034179688, 191.0742950439453, 718.3822631835938, 284.88519287109375], confidence=0.8455100655555725, class_name='player', class_id='1'), DetectionResultFrame(box=[696.3638916015625, 296.8575439453125, 765.9923095703125, 423.84503173828125], confidence=0.8060423135757446, class_name='player', class_id='2'), DetectionResultFrame(box=[449.2610168457031, 171.76025390625, 510.7710876464844, 234.2406005859375], confidence=0.7469876408576965, class_name='player', class_id='3'), DetectionResultFrame(box=[410.08331298828125, 299.38873291015625, 485.71954345703125, 418.12652587890625], confidence=0.8783100843429565, class_name='player', class_id='0'), DetectionResultFrame(box=[666.6907958984375, 191.11932373046875, 718.3623046875, 284.9027099609375], confidence=0.8455560207366943, class_name='player', class_id='1'), DetectionResultFrame(box=[696.2486572265625, 296.86724853515625, 766.2010498046875, 423.69378662109375], confidence=0.8027940988540649, class_name='player', class_id='2'), DetectionResultFrame(box=[449.3992919921875, 171.66824340820312, 510.628662109375, 234.25308227539062], confidence=0.750083863735199, class_name='player', class_id='3'), DetectionResultFrame(box=[408.01031494140625, 302.71661376953125, 485.955810546875, 418.7877197265625], confidence=0.8721663951873779, class_name='player', class_id='0'), DetectionResultFrame(box=[666.3572998046875, 187.9984588623047, 719.1207275390625, 284.89971923828125], confidence=0.8426035046577454, class_name='player', class_id='1'), DetectionResultFrame(box=[693.482421875, 302.3797912597656, 758.942626953125, 427.7536926269531], confidence=0.8281278610229492, class_name='player', class_id='2'), DetectionResultFrame(box=[429.489013671875, 173.561279296875, 507.87445068359375, 239.05322265625], confidence=0.8064807653427124, class_name='player', class_id='3'), DetectionResultFrame(box=[408.04547119140625, 302.7153015136719, 485.93048095703125, 418.7105407714844], confidence=0.872976541519165, class_name='player', class_id='0'), DetectionResultFrame(box=[666.412109375, 188.1417694091797, 719.1031494140625, 284.85137939453125], confidence=0.842041015625, class_name='player', class_id='1'), DetectionResultFrame(box=[693.4366455078125, 302.3585205078125, 758.9857177734375, 427.834716796875], confidence=0.8265596032142639, class_name='player', class_id='2'), DetectionResultFrame(box=[428.74078369140625, 174.0157470703125, 507.81793212890625, 238.995849609375], confidence=0.8111408948898315, class_name='player', class_id='3'), DetectionResultFrame(box=[407.85491943359375, 301.801025390625, 485.78497314453125, 417.4744873046875], confidence=0.8749591708183289, class_name='player', class_id='0'), DetectionResultFrame(box=[666.6630249023438, 187.65354919433594, 719.6754760742188, 284.7330322265625], confidence=0.8539553284645081, class_name='player', class_id='1'), DetectionResultFrame(box=[694.0762939453125, 302.38739013671875, 756.0936279296875, 427.33856201171875], confidence=0.8254287838935852, class_name='player', class_id='2'), DetectionResultFrame(box=[428.5968933105469, 173.80255126953125, 505.9571838378906, 239.2916259765625], confidence=0.7846110463142395, class_name='player', class_id='3'), DetectionResultFrame(box=[407.77392578125, 300.147705078125, 485.30975341796875, 417.01641845703125], confidence=0.8840636014938354, class_name='player', class_id='0'), DetectionResultFrame(box=[667.8709106445312, 186.7674560546875, 720.3833618164062, 284.4495849609375], confidence=0.8449951410293579, class_name='player', class_id='1'), DetectionResultFrame(box=[694.3768310546875, 301.31085205078125, 754.5716552734375, 426.78521728515625], confidence=0.8262609243392944, class_name='player', class_id='2'), DetectionResultFrame(box=[439.455322265625, 175.69000244140625, 503.53759765625, 239.10467529296875], confidence=0.8205354809761047, class_name='player', class_id='3'), DetectionResultFrame(box=[407.34405517578125, 298.9610595703125, 485.41925048828125, 416.140380859375], confidence=0.8900442123413086, class_name='player', class_id='0'), DetectionResultFrame(box=[667.7179565429688, 185.35626220703125, 721.6788940429688, 284.69305419921875], confidence=0.8459355235099792, class_name='player', class_id='1'), DetectionResultFrame(box=[692.6483154296875, 300.24835205078125, 753.7098388671875, 426.69903564453125], confidence=0.8244309425354004, class_name='player', class_id='2'), DetectionResultFrame(box=[432.98883056640625, 175.05270385742188, 499.45611572265625, 240.13125610351562], confidence=0.8071324825286865, class_name='player', class_id='3'), DetectionResultFrame(box=[407.35968017578125, 298.94482421875, 485.40216064453125, 416.1759033203125], confidence=0.8902035355567932, class_name='player', class_id='0'), DetectionResultFrame(box=[667.70849609375, 185.3573760986328, 721.66748046875, 284.69244384765625], confidence=0.8463220596313477, class_name='player', class_id='1'), DetectionResultFrame(box=[692.6661376953125, 300.2698974609375, 753.6246337890625, 426.7003173828125], confidence=0.8242027759552002, class_name='player', class_id='2'), DetectionResultFrame(box=[433.0538330078125, 175.06484985351562, 499.4034423828125, 240.14321899414062], confidence=0.8075758814811707, class_name='player', class_id='3'), DetectionResultFrame(box=[668.4232177734375, 185.1809539794922, 723.0108642578125, 284.79693603515625], confidence=0.8553287982940674, class_name='player', class_id='1'), DetectionResultFrame(box=[407.400634765625, 298.794921875, 484.8817138671875, 415.8953857421875], confidence=0.8524870276451111, class_name='player', class_id='0'), DetectionResultFrame(box=[692.107421875, 299.66497802734375, 752.65673828125, 425.11199951171875], confidence=0.8240177631378174, class_name='player', class_id='2'), DetectionResultFrame(box=[433.24737548828125, 173.94802856445312, 495.2952880859375, 241.14773559570312], confidence=0.8109257817268372, class_name='player', class_id='3'), DetectionResultFrame(box=[405.8355407714844, 299.65289306640625, 488.0215148925781, 416.68328857421875], confidence=0.8726537823677063, class_name='player', class_id='0'), DetectionResultFrame(box=[671.2587280273438, 184.33242797851562, 724.9751586914062, 284.6986999511719], confidence=0.8555264472961426, class_name='player', class_id='1'), DetectionResultFrame(box=[689.7613525390625, 300.3812255859375, 752.3704833984375, 425.9482421875], confidence=0.8342381119728088, class_name='player', class_id='2'), DetectionResultFrame(box=[433.21136474609375, 169.8084716796875, 488.53143310546875, 241.2061767578125], confidence=0.7958060503005981, class_name='player', class_id='3'), DetectionResultFrame(box=[405.89117431640625, 299.6505432128906, 488.2677001953125, 416.6508483886719], confidence=0.8704454302787781, class_name='player', class_id='0'), DetectionResultFrame(box=[671.2721557617188, 184.36788940429688, 724.9788208007812, 284.7187805175781], confidence=0.8550887703895569, class_name='player', class_id='1'), DetectionResultFrame(box=[689.7953491210938, 300.2989501953125, 752.4149780273438, 425.88824462890625], confidence=0.836349606513977, class_name='player', class_id='2'), DetectionResultFrame(box=[433.0401611328125, 169.75970458984375, 488.2608642578125, 241.21929931640625], confidence=0.7949889302253723, class_name='player', class_id='3'), DetectionResultFrame(box=[403.3487854003906, 301.6777038574219, 484.5876159667969, 419.2201232910156], confidence=0.8839110732078552, class_name='player', class_id='0'), DetectionResultFrame(box=[690.30517578125, 301.0584411621094, 752.9559326171875, 422.7453918457031], confidence=0.8541356325149536, class_name='player', class_id='2'), DetectionResultFrame(box=[675.3944091796875, 183.71511840820312, 726.2867431640625, 284.9493103027344], confidence=0.853744626045227, class_name='player', class_id='1'), DetectionResultFrame(box=[429.31451416015625, 164.91619873046875, 483.25628662109375, 241.6395263671875], confidence=0.7962824702262878, class_name='player', class_id='3'), DetectionResultFrame(box=[401.979248046875, 303.5409240722656, 480.44537353515625, 423.6924133300781], confidence=0.900136411190033, class_name='player', class_id='0'), DetectionResultFrame(box=[688.5934448242188, 303.114990234375, 752.1403198242188, 422.2786865234375], confidence=0.8517176508903503, class_name='player', class_id='2'), DetectionResultFrame(box=[681.4962158203125, 183.67135620117188, 727.3641357421875, 284.2905578613281], confidence=0.8408900499343872, class_name='player', class_id='1'), DetectionResultFrame(box=[428.68194580078125, 160.6683349609375, 478.3404541015625, 241.20257568359375], confidence=0.7824876308441162, class_name='player', class_id='3'), DetectionResultFrame(box=[401.19195556640625, 305.1126708984375, 480.90777587890625, 425.8486328125], confidence=0.8952701687812805, class_name='player', class_id='0'), DetectionResultFrame(box=[686.5797729492188, 304.31280517578125, 751.8670043945312, 424.67254638671875], confidence=0.8685355186462402, class_name='player', class_id='2'), DetectionResultFrame(box=[682.1593017578125, 183.55056762695312, 728.3975830078125, 284.5997009277344], confidence=0.8419284224510193, class_name='player', class_id='1'), DetectionResultFrame(box=[427.57122802734375, 155.66744995117188, 473.84417724609375, 240.18386840820312], confidence=0.7555137276649475, class_name='player', class_id='3'), DetectionResultFrame(box=[404.22381591796875, 304.9056396484375, 480.6505126953125, 424.140625], confidence=0.8927263021469116, class_name='player', class_id='0'), DetectionResultFrame(box=[686.8685913085938, 305.25665283203125, 752.9072875976562, 426.94805908203125], confidence=0.8748569488525391, class_name='player', class_id='2'), DetectionResultFrame(box=[682.13720703125, 183.25445556640625, 729.000244140625, 283.9093017578125], confidence=0.8193413615226746, class_name='player', class_id='1'), DetectionResultFrame(box=[426.608154296875, 149.46377563476562, 470.0888671875, 239.68661499023438], confidence=0.7138247489929199, class_name='player', class_id='3'), DetectionResultFrame(box=[687.64208984375, 306.37176513671875, 760.4649658203125, 427.85308837890625], confidence=0.8804571032524109, class_name='player', class_id='2'), DetectionResultFrame(box=[409.8311462402344, 304.7899169921875, 481.1018371582031, 424.6697998046875], confidence=0.8794845342636108, class_name='player', class_id='0'), DetectionResultFrame(box=[690.406005859375, 183.17849731445312, 731.140625, 284.5582580566406], confidence=0.7670778036117554, class_name='player', class_id='1'), DetectionResultFrame(box=[687.6278076171875, 306.37261962890625, 760.5076904296875, 427.83868408203125], confidence=0.8804344534873962, class_name='player', class_id='2'), DetectionResultFrame(box=[409.795654296875, 304.79229736328125, 481.1326904296875, 424.65264892578125], confidence=0.8794762492179871, class_name='player', class_id='0'), DetectionResultFrame(box=[690.4729614257812, 183.1792755126953, 731.4425659179688, 284.30230712890625], confidence=0.7713284492492676, class_name='player', class_id='1'), DetectionResultFrame(box=[687.580810546875, 307.74383544921875, 760.33154296875, 427.83233642578125], confidence=0.8728015422821045, class_name='player', class_id='2'), DetectionResultFrame(box=[418.58575439453125, 304.1830139160156, 481.40032958984375, 424.4906311035156], confidence=0.8560091257095337, class_name='player', class_id='0'), DetectionResultFrame(box=[685.5103149414062, 184.01535034179688, 732.1632690429688, 284.2047424316406], confidence=0.7784686088562012, class_name='player', class_id='1'), DetectionResultFrame(box=[687.3465576171875, 308.52984619140625, 759.7928466796875, 427.9949951171875], confidence=0.8755529522895813, class_name='player', class_id='2'), DetectionResultFrame(box=[418.19219970703125, 303.4094543457031, 482.73895263671875, 424.0402526855469], confidence=0.8514195680618286, class_name='player', class_id='0'), DetectionResultFrame(box=[684.47998046875, 183.55523681640625, 733.602294921875, 284.0489501953125], confidence=0.8170835375785828, class_name='player', class_id='1'), DetectionResultFrame(box=[404.3494873046875, 145.39816284179688, 464.121337890625, 240.27761840820312], confidence=0.7091830372810364, class_name='player', class_id='3'), DetectionResultFrame(box=[687.1104736328125, 307.68963623046875, 757.5599365234375, 428.878173828125], confidence=0.8747240304946899, class_name='player', class_id='2'), DetectionResultFrame(box=[416.8293151855469, 305.26318359375, 478.5906066894531, 426.4219970703125], confidence=0.8391227722167969, class_name='player', class_id='0'), DetectionResultFrame(box=[685.00634765625, 183.5050048828125, 734.8056640625, 281.77294921875], confidence=0.8198384046554565, class_name='player', class_id='1'), DetectionResultFrame(box=[404.748779296875, 145.74774169921875, 460.38604736328125, 238.89764404296875], confidence=0.7887848615646362, class_name='player', class_id='3'), DetectionResultFrame(box=[687.1954345703125, 306.6763916015625, 757.7073974609375, 433.07244873046875], confidence=0.8875792026519775, class_name='player', class_id='2'), DetectionResultFrame(box=[416.4185791015625, 307.1077880859375, 477.4332275390625, 432.2156982421875], confidence=0.8334097266197205, class_name='player', class_id='0'), DetectionResultFrame(box=[684.7093505859375, 183.37635803222656, 735.9349365234375, 281.7432861328125], confidence=0.831810474395752, class_name='player', class_id='1'), DetectionResultFrame(box=[404.69525146484375, 147.3555908203125, 457.00274658203125, 240.94354248046875], confidence=0.7787315845489502, class_name='player', class_id='3'), DetectionResultFrame(box=[687.202880859375, 306.6260986328125, 757.748779296875, 433.086181640625], confidence=0.8876403570175171, class_name='player', class_id='2'), DetectionResultFrame(box=[416.40509033203125, 307.0700378417969, 477.57928466796875, 432.2056579589844], confidence=0.8334288597106934, class_name='player', class_id='0'), DetectionResultFrame(box=[684.6470947265625, 183.35891723632812, 735.9320068359375, 281.7588195800781], confidence=0.8321513533592224, class_name='player', class_id='1'), DetectionResultFrame(box=[404.66888427734375, 147.410400390625, 456.91632080078125, 240.85833740234375], confidence=0.7843115925788879, class_name='player', class_id='3'), DetectionResultFrame(box=[687.4742431640625, 306.7415771484375, 758.1051025390625, 442.2491455078125], confidence=0.8843973875045776, class_name='player', class_id='2'), DetectionResultFrame(box=[416.45233154296875, 309.86187744140625, 471.99786376953125, 437.98907470703125], confidence=0.8219691514968872, class_name='player', class_id='0'), DetectionResultFrame(box=[684.99072265625, 182.3282470703125, 737.857666015625, 281.34747314453125], confidence=0.8037357926368713, class_name='player', class_id='1'), DetectionResultFrame(box=[405.0899658203125, 150.0015869140625, 454.9637451171875, 240.75747680664062], confidence=0.7829322218894958, class_name='player', class_id='3'), DetectionResultFrame(box=[688.2059326171875, 307.22314453125, 759.1854248046875, 445.57659912109375], confidence=0.8888577222824097, class_name='player', class_id='2'), DetectionResultFrame(box=[416.93438720703125, 311.2913513183594, 472.2486572265625, 441.4986877441406], confidence=0.838042676448822, class_name='player', class_id='0'), DetectionResultFrame(box=[684.906982421875, 179.84722900390625, 739.946044921875, 279.0208740234375], confidence=0.8082253336906433, class_name='player', class_id='1'), DetectionResultFrame(box=[405.139404296875, 152.67965698242188, 455.1629638671875, 241.63150024414062], confidence=0.7676095366477966, class_name='player', class_id='3'), DetectionResultFrame(box=[686.3240356445312, 307.96136474609375, 760.3728637695312, 446.8133544921875], confidence=0.8840846419334412, class_name='player', class_id='2'), DetectionResultFrame(box=[684.6107177734375, 179.07388305664062, 742.6663818359375, 278.6995849609375], confidence=0.8320701718330383, class_name='player', class_id='1'), DetectionResultFrame(box=[412.52874755859375, 312.15093994140625, 471.12286376953125, 448.47698974609375], confidence=0.8305763006210327, class_name='player', class_id='0'), DetectionResultFrame(box=[404.08233642578125, 154.63174438476562, 454.05096435546875, 241.696044921875], confidence=0.8131299614906311, class_name='player', class_id='3'), DetectionResultFrame(box=[687.994873046875, 308.112060546875, 762.05615234375, 448.93951416015625], confidence=0.8832366466522217, class_name='player', class_id='2'), DetectionResultFrame(box=[405.00177001953125, 312.23797607421875, 470.48724365234375, 448.80072021484375], confidence=0.8407996892929077, class_name='player', class_id='0'), DetectionResultFrame(box=[403.70074462890625, 154.50213623046875, 454.16839599609375, 241.6827392578125], confidence=0.8144209980964661, class_name='player', class_id='3'), DetectionResultFrame(box=[686.8355102539062, 179.08724975585938, 745.2000122070312, 278.54620361328125], confidence=0.7677122950553894, class_name='player', class_id='1'), DetectionResultFrame(box=[691.79736328125, 306.7117919921875, 762.7789306640625, 448.8541259765625], confidence=0.8987929224967957, class_name='player', class_id='2'), DetectionResultFrame(box=[400.71185302734375, 311.37225341796875, 467.70416259765625, 448.58831787109375], confidence=0.8347107172012329, class_name='player', class_id='0'), DetectionResultFrame(box=[691.3197021484375, 179.92330932617188, 752.0916748046875, 279.01287841796875], confidence=0.8188304901123047, class_name='player', class_id='1'), DetectionResultFrame(box=[403.52716064453125, 153.0506591796875, 454.28472900390625, 241.76058959960938], confidence=0.8111200928688049, class_name='player', class_id='3'), DetectionResultFrame(box=[691.767333984375, 306.65179443359375, 762.669677734375, 448.8580322265625], confidence=0.9019932150840759, class_name='player', class_id='2'), DetectionResultFrame(box=[400.7099609375, 311.3897705078125, 467.942626953125, 448.58251953125], confidence=0.8362426161766052, class_name='player', class_id='0'), DetectionResultFrame(box=[691.29296875, 179.9278564453125, 752.1060791015625, 278.95849609375], confidence=0.8198293447494507, class_name='player', class_id='1'), DetectionResultFrame(box=[403.52813720703125, 153.14169311523438, 454.26995849609375, 241.78561401367188], confidence=0.8130719661712646, class_name='player', class_id='3'), DetectionResultFrame(box=[693.7557373046875, 304.27838134765625, 763.2353515625, 448.8988037109375], confidence=0.8698234558105469, class_name='player', class_id='2'), DetectionResultFrame(box=[696.3143920898438, 181.90811157226562, 757.4368286132812, 278.7884826660156], confidence=0.816218912601471, class_name='player', class_id='1'), DetectionResultFrame(box=[393.41845703125, 312.641357421875, 458.416748046875, 448.9901123046875], confidence=0.802024245262146, class_name='player', class_id='0'), DetectionResultFrame(box=[404.076171875, 150.85409545898438, 454.7926025390625, 241.89834594726562], confidence=0.7958296537399292, class_name='player', class_id='3'), DetectionResultFrame(box=[698.5008544921875, 301.6007080078125, 763.8216552734375, 448.2042236328125], confidence=0.859054446220398, class_name='player', class_id='2'), DetectionResultFrame(box=[699.0416259765625, 185.08468627929688, 762.8726806640625, 280.0143127441406], confidence=0.8457280397415161, class_name='player', class_id='1'), DetectionResultFrame(box=[386.2150573730469, 311.73638916015625, 451.5975036621094, 449.68267822265625], confidence=0.8148431181907654, class_name='player', class_id='0'), DetectionResultFrame(box=[404.483642578125, 147.81216430664062, 454.5291748046875, 240.33450317382812], confidence=0.7709624171257019, class_name='player', class_id='3'), DetectionResultFrame(box=[705.1456909179688, 300.79718017578125, 765.4606323242188, 446.67205810546875], confidence=0.8517246246337891, class_name='player', class_id='2'), DetectionResultFrame(box=[704.2364501953125, 187.5632781982422, 768.4420166015625, 281.21197509765625], confidence=0.8489009141921997, class_name='player', class_id='1'), DetectionResultFrame(box=[405.7392578125, 146.82623291015625, 454.5499267578125, 239.5126953125], confidence=0.7803930044174194, class_name='player', class_id='3'), DetectionResultFrame(box=[379.3148193359375, 312.224853515625, 447.694580078125, 449.0262451171875], confidence=0.684535562992096, class_name='player', class_id='0'), DetectionResultFrame(box=[705.4489135742188, 300.83453369140625, 765.5582885742188, 446.76971435546875], confidence=0.855509340763092, class_name='player', class_id='2'), DetectionResultFrame(box=[704.2268676757812, 187.46969604492188, 768.4390258789062, 281.2038879394531], confidence=0.8489622473716736, class_name='player', class_id='1'), DetectionResultFrame(box=[405.75457763671875, 146.78713989257812, 454.44696044921875, 239.43716430664062], confidence=0.7841655015945435, class_name='player', class_id='3'), DetectionResultFrame(box=[379.30517578125, 312.234375, 447.680908203125, 449.00634765625], confidence=0.6851116418838501, class_name='player', class_id='0'), DetectionResultFrame(box=[707.989990234375, 190.10877990722656, 769.772705078125, 281.8875732421875], confidence=0.8423454165458679, class_name='player', class_id='1'), DetectionResultFrame(box=[712.549560546875, 299.8470458984375, 765.6080322265625, 446.450439453125], confidence=0.839018702507019, class_name='player', class_id='2'), DetectionResultFrame(box=[373.21246337890625, 313.9801025390625, 445.98956298828125, 451.01446533203125], confidence=0.8136000633239746, class_name='player', class_id='0'), DetectionResultFrame(box=[404.71697998046875, 146.39599609375, 456.65802001953125, 238.61273193359375], confidence=0.794305145740509, class_name='player', class_id='3'), DetectionResultFrame(box=[710.07177734375, 189.6765594482422, 771.251708984375, 282.01348876953125], confidence=0.8532220721244812, class_name='player', class_id='1'), DetectionResultFrame(box=[716.43994140625, 299.73919677734375, 765.64453125, 447.56365966796875], confidence=0.8498043417930603, class_name='player', class_id='2'), DetectionResultFrame(box=[404.39227294921875, 147.76007080078125, 457.8602294921875, 239.340576171875], confidence=0.8100677728652954, class_name='player', class_id='3'), DetectionResultFrame(box=[367.87164306640625, 315.89678955078125, 437.40264892578125, 455.00775146484375], confidence=0.7756763696670532, class_name='player', class_id='0'), DetectionResultFrame(box=[709.9774169921875, 189.96566772460938, 772.1387939453125, 282.1949157714844], confidence=0.8603606224060059, class_name='player', class_id='1'), DetectionResultFrame(box=[717.267578125, 300.2638244628906, 765.66748046875, 448.9378967285156], confidence=0.8452023267745972, class_name='player', class_id='2'), DetectionResultFrame(box=[404.24456787109375, 148.9617919921875, 462.0982666015625, 242.35543823242188], confidence=0.8074550032615662, class_name='player', class_id='3'), DetectionResultFrame(box=[361.463134765625, 320.271728515625, 424.75408935546875, 459.53271484375], confidence=0.7918128371238708, class_name='player', class_id='0'), DetectionResultFrame(box=[716.8381958007812, 301.2677307128906, 765.7035522460938, 450.5541687011719], confidence=0.8567863702774048, class_name='player', class_id='2'), DetectionResultFrame(box=[715.8175048828125, 187.85861206054688, 771.7774658203125, 281.9689636230469], confidence=0.8502756953239441, class_name='player', class_id='1'), DetectionResultFrame(box=[404.3341369628906, 151.85311889648438, 463.2314147949219, 243.41839599609375], confidence=0.8187597393989563, class_name='player', class_id='3'), DetectionResultFrame(box=[355.7313232421875, 323.1231689453125, 413.364013671875, 457.426025390625], confidence=0.7847118377685547, class_name='player', class_id='0'), DetectionResultFrame(box=[716.4661254882812, 301.1504821777344, 766.1034545898438, 451.3707580566406], confidence=0.8546926379203796, class_name='player', class_id='2'), DetectionResultFrame(box=[720.794921875, 185.9671630859375, 771.300537109375, 282.00421142578125], confidence=0.845874547958374, class_name='player', class_id='1'), DetectionResultFrame(box=[350.63787841796875, 324.80706787109375, 408.50030517578125, 469.63873291015625], confidence=0.8313087821006775, class_name='player', class_id='0'), DetectionResultFrame(box=[405.2479248046875, 155.09759521484375, 465.5963134765625, 244.23745727539062], confidence=0.8119648098945618, class_name='player', class_id='3'), DetectionResultFrame(box=[716.478271484375, 301.157470703125, 766.113037109375, 451.34466552734375], confidence=0.8545079231262207, class_name='player', class_id='2'), DetectionResultFrame(box=[720.8054809570312, 185.9239044189453, 771.2959594726562, 282.00457763671875], confidence=0.8459019064903259, class_name='player', class_id='1'), DetectionResultFrame(box=[350.6265869140625, 324.77984619140625, 408.47906494140625, 469.61224365234375], confidence=0.8297940492630005, class_name='player', class_id='0'), DetectionResultFrame(box=[405.33038330078125, 155.06683349609375, 465.82952880859375, 244.11114501953125], confidence=0.8109869956970215, class_name='player', class_id='3'), DetectionResultFrame(box=[723.29833984375, 184.3924560546875, 771.0426025390625, 281.87689208984375], confidence=0.8486230373382568, class_name='player', class_id='1'), DetectionResultFrame(box=[715.8359375, 302.39337158203125, 766.270263671875, 451.80780029296875], confidence=0.8466033339500427, class_name='player', class_id='2'), DetectionResultFrame(box=[344.62530517578125, 323.3675537109375, 407.03143310546875, 474.0645751953125], confidence=0.8245134949684143, class_name='player', class_id='0'), DetectionResultFrame(box=[408.2643127441406, 159.14077758789062, 465.7225036621094, 244.01614379882812], confidence=0.775158166885376, class_name='player', class_id='3'), DetectionResultFrame(box=[727.430908203125, 182.7697296142578, 772.344482421875, 282.04229736328125], confidence=0.8391885161399841, class_name='player', class_id='1'), DetectionResultFrame(box=[715.3785400390625, 303.35418701171875, 766.12841796875, 452.56903076171875], confidence=0.8094337582588196, class_name='player', class_id='2'), DetectionResultFrame(box=[414.5926513671875, 163.27874755859375, 465.1175537109375, 244.6146240234375], confidence=0.7879287600517273, class_name='player', class_id='3'), DetectionResultFrame(box=[340.79754638671875, 316.03033447265625, 404.40704345703125, 477.01348876953125], confidence=0.7868136167526245, class_name='player', class_id='0'), DetectionResultFrame(box=[731.4295654296875, 183.7230987548828, 775.8446044921875, 284.82318115234375], confidence=0.8512921929359436, class_name='player', class_id='1'), DetectionResultFrame(box=[414.24481201171875, 166.3138427734375, 466.25311279296875, 248.50302124023438], confidence=0.8206443786621094, class_name='player', class_id='3'), DetectionResultFrame(box=[714.8677368164062, 304.2095031738281, 763.8026733398438, 452.7709655761719], confidence=0.8161594271659851, class_name='player', class_id='2'), DetectionResultFrame(box=[324.5289611816406, 339.419921875, 403.3392639160156, 481.35693359375], confidence=0.7564644813537598, class_name='player', class_id='0'), DetectionResultFrame(box=[733.8744506835938, 184.36044311523438, 778.8805541992188, 284.1324768066406], confidence=0.8366543054580688, class_name='player', class_id='1'), DetectionResultFrame(box=[714.73095703125, 304.33349609375, 763.7412109375, 452.80682373046875], confidence=0.821333110332489, class_name='player', class_id='2'), DetectionResultFrame(box=[415.05322265625, 167.3323974609375, 465.7171630859375, 248.89971923828125], confidence=0.8096452951431274, class_name='player', class_id='3'), DetectionResultFrame(box=[316.8033752441406, 337.700439453125, 400.8005065917969, 482.54449462890625], confidence=0.7540104985237122, class_name='player', class_id='0'), DetectionResultFrame(box=[733.9711303710938, 184.367919921875, 778.8075561523438, 284.12896728515625], confidence=0.8297511339187622, class_name='player', class_id='1'), DetectionResultFrame(box=[714.6775512695312, 304.60595703125, 763.8346557617188, 452.7086181640625], confidence=0.8218029737472534, class_name='player', class_id='2'), DetectionResultFrame(box=[414.9476318359375, 166.53292846679688, 465.704833984375, 248.63531494140625], confidence=0.8061662316322327, class_name='player', class_id='3'), DetectionResultFrame(box=[316.769287109375, 337.5858154296875, 400.8604736328125, 482.5618896484375], confidence=0.7721408605575562, class_name='player', class_id='0'), DetectionResultFrame(box=[714.7214965820312, 304.77386474609375, 763.6973266601562, 452.57415771484375], confidence=0.8215808272361755, class_name='player', class_id='2'), DetectionResultFrame(box=[735.540771484375, 187.3277587890625, 781.052978515625, 284.1488037109375], confidence=0.8080425262451172, class_name='player', class_id='1'), DetectionResultFrame(box=[415.16400146484375, 167.29559326171875, 465.20098876953125, 247.6451416015625], confidence=0.8034155368804932, class_name='player', class_id='3'), DetectionResultFrame(box=[310.3433837890625, 338.2071533203125, 390.3475341796875, 482.269287109375], confidence=0.6819127798080444, class_name='player', class_id='0')])"
      ]
     },
     "execution_count": 5,
     "metadata": {},
     "output_type": "execute_result"
    }
   ],
   "source": [
    "video_processed"
   ]
  }
 ],
 "metadata": {
  "kernelspec": {
   "display_name": "padel-ia-fICo6y9j",
   "language": "python",
   "name": "python3"
  },
  "language_info": {
   "codemirror_mode": {
    "name": "ipython",
    "version": 3
   },
   "file_extension": ".py",
   "mimetype": "text/x-python",
   "name": "python",
   "nbconvert_exporter": "python",
   "pygments_lexer": "ipython3",
   "version": "3.12.3"
  }
 },
 "nbformat": 4,
 "nbformat_minor": 5
}
