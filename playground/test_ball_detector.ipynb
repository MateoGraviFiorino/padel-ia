{
 "cells": [
  {
   "cell_type": "code",
   "execution_count": 1,
   "id": "c2fce914",
   "metadata": {},
   "outputs": [
    {
     "data": {
      "text/plain": [
       "'/home/tomas/Escritorio/Proyectos/proyecto_vision/padel-ia'"
      ]
     },
     "execution_count": 1,
     "metadata": {},
     "output_type": "execute_result"
    }
   ],
   "source": [
    "import os\n",
    "os.chdir(\"..\")\n",
    "os.getcwd()\n"
   ]
  },
  {
   "cell_type": "code",
   "execution_count": 2,
   "id": "bf5bd6b0",
   "metadata": {},
   "outputs": [],
   "source": [
    "from app.yolo import BallYoloDetector, PlayerYoloDetector"
   ]
  },
  {
   "cell_type": "code",
   "execution_count": 3,
   "id": "8d552308",
   "metadata": {},
   "outputs": [
    {
     "name": "stderr",
     "output_type": "stream",
     "text": [
      "Processing ball with output:   0%|          | 0/150 [00:00<?, ?frames/s]"
     ]
    },
    {
     "name": "stdout",
     "output_type": "stream",
     "text": [
      "\n",
      "0: 640x1088 (no detections), 442.1ms\n",
      "Speed: 9.0ms preprocess, 442.1ms inference, 0.8ms postprocess per image at shape (1, 3, 640, 1088)\n"
     ]
    },
    {
     "name": "stderr",
     "output_type": "stream",
     "text": [
      "Processing ball with output:   1%|          | 1/150 [00:01<04:43,  1.90s/frames]"
     ]
    },
    {
     "name": "stdout",
     "output_type": "stream",
     "text": [
      "\n",
      "0: 640x1088 (no detections), 552.8ms\n",
      "Speed: 6.9ms preprocess, 552.8ms inference, 0.9ms postprocess per image at shape (1, 3, 640, 1088)\n"
     ]
    },
    {
     "name": "stderr",
     "output_type": "stream",
     "text": [
      "Processing ball with output:   1%|▏         | 2/150 [00:02<03:04,  1.25s/frames]"
     ]
    },
    {
     "name": "stdout",
     "output_type": "stream",
     "text": [
      "\n",
      "0: 640x1088 (no detections), 439.5ms\n",
      "Speed: 10.6ms preprocess, 439.5ms inference, 0.9ms postprocess per image at shape (1, 3, 640, 1088)\n"
     ]
    },
    {
     "name": "stderr",
     "output_type": "stream",
     "text": [
      "Processing ball with output:   2%|▏         | 3/150 [00:03<02:25,  1.01frames/s]"
     ]
    },
    {
     "name": "stdout",
     "output_type": "stream",
     "text": [
      "\n",
      "0: 640x1088 (no detections), 484.1ms\n",
      "Speed: 6.9ms preprocess, 484.1ms inference, 0.7ms postprocess per image at shape (1, 3, 640, 1088)\n"
     ]
    },
    {
     "name": "stderr",
     "output_type": "stream",
     "text": [
      "Processing ball with output:   3%|▎         | 4/150 [00:04<02:09,  1.13frames/s]"
     ]
    },
    {
     "name": "stdout",
     "output_type": "stream",
     "text": [
      "\n",
      "0: 640x1088 (no detections), 447.0ms\n",
      "Speed: 6.2ms preprocess, 447.0ms inference, 0.6ms postprocess per image at shape (1, 3, 640, 1088)\n"
     ]
    },
    {
     "name": "stderr",
     "output_type": "stream",
     "text": [
      "Processing ball with output:   3%|▎         | 5/150 [00:04<01:59,  1.22frames/s]"
     ]
    },
    {
     "name": "stdout",
     "output_type": "stream",
     "text": [
      "\n",
      "0: 640x1088 (no detections), 444.2ms\n",
      "Speed: 6.5ms preprocess, 444.2ms inference, 0.7ms postprocess per image at shape (1, 3, 640, 1088)\n"
     ]
    },
    {
     "name": "stderr",
     "output_type": "stream",
     "text": [
      "Processing ball with output:   4%|▍         | 6/150 [00:05<01:55,  1.25frames/s]"
     ]
    },
    {
     "name": "stdout",
     "output_type": "stream",
     "text": [
      "\n",
      "0: 640x1088 (no detections), 435.7ms\n",
      "Speed: 6.7ms preprocess, 435.7ms inference, 0.6ms postprocess per image at shape (1, 3, 640, 1088)\n"
     ]
    },
    {
     "name": "stderr",
     "output_type": "stream",
     "text": [
      "Processing ball with output:   5%|▍         | 7/150 [00:06<01:54,  1.25frames/s]"
     ]
    },
    {
     "name": "stdout",
     "output_type": "stream",
     "text": [
      "\n",
      "0: 640x1088 (no detections), 478.8ms\n",
      "Speed: 6.6ms preprocess, 478.8ms inference, 0.6ms postprocess per image at shape (1, 3, 640, 1088)\n"
     ]
    },
    {
     "name": "stderr",
     "output_type": "stream",
     "text": [
      "Processing ball with output:   5%|▌         | 8/150 [00:07<01:54,  1.25frames/s]"
     ]
    },
    {
     "name": "stdout",
     "output_type": "stream",
     "text": [
      "\n",
      "0: 640x1088 (no detections), 432.1ms\n",
      "Speed: 6.1ms preprocess, 432.1ms inference, 0.7ms postprocess per image at shape (1, 3, 640, 1088)\n"
     ]
    },
    {
     "name": "stderr",
     "output_type": "stream",
     "text": [
      "Processing ball with output:   6%|▌         | 9/150 [00:07<01:47,  1.31frames/s]"
     ]
    },
    {
     "name": "stdout",
     "output_type": "stream",
     "text": [
      "\n",
      "0: 640x1088 (no detections), 427.6ms\n",
      "Speed: 6.9ms preprocess, 427.6ms inference, 0.6ms postprocess per image at shape (1, 3, 640, 1088)\n"
     ]
    },
    {
     "name": "stderr",
     "output_type": "stream",
     "text": [
      "Processing ball with output:   7%|▋         | 10/150 [00:08<01:42,  1.36frames/s]"
     ]
    },
    {
     "name": "stdout",
     "output_type": "stream",
     "text": [
      "\n",
      "0: 640x1088 1 ball, 512.1ms\n",
      "Speed: 6.4ms preprocess, 512.1ms inference, 1.4ms postprocess per image at shape (1, 3, 640, 1088)\n"
     ]
    },
    {
     "name": "stderr",
     "output_type": "stream",
     "text": [
      "Processing ball with output:   7%|▋         | 11/150 [00:09<01:42,  1.35frames/s]"
     ]
    },
    {
     "name": "stdout",
     "output_type": "stream",
     "text": [
      "\n",
      "0: 640x1088 1 ball, 610.5ms\n",
      "Speed: 7.0ms preprocess, 610.5ms inference, 1.1ms postprocess per image at shape (1, 3, 640, 1088)\n"
     ]
    },
    {
     "name": "stderr",
     "output_type": "stream",
     "text": [
      "Processing ball with output:   8%|▊         | 12/150 [00:10<01:46,  1.29frames/s]"
     ]
    },
    {
     "name": "stdout",
     "output_type": "stream",
     "text": [
      "\n",
      "0: 640x1088 1 ball, 428.9ms\n",
      "Speed: 6.7ms preprocess, 428.9ms inference, 0.9ms postprocess per image at shape (1, 3, 640, 1088)\n"
     ]
    },
    {
     "name": "stderr",
     "output_type": "stream",
     "text": [
      "Processing ball with output:   9%|▊         | 13/150 [00:10<01:41,  1.34frames/s]"
     ]
    },
    {
     "name": "stdout",
     "output_type": "stream",
     "text": [
      "\n",
      "0: 640x1088 (no detections), 458.5ms\n",
      "Speed: 7.1ms preprocess, 458.5ms inference, 0.8ms postprocess per image at shape (1, 3, 640, 1088)\n"
     ]
    },
    {
     "name": "stderr",
     "output_type": "stream",
     "text": [
      "Processing ball with output:   9%|▉         | 14/150 [00:11<01:39,  1.37frames/s]"
     ]
    },
    {
     "name": "stdout",
     "output_type": "stream",
     "text": [
      "\n",
      "0: 640x1088 (no detections), 454.1ms\n",
      "Speed: 6.5ms preprocess, 454.1ms inference, 0.8ms postprocess per image at shape (1, 3, 640, 1088)\n"
     ]
    },
    {
     "name": "stderr",
     "output_type": "stream",
     "text": [
      "Processing ball with output:  10%|█         | 15/150 [00:12<01:40,  1.35frames/s]"
     ]
    },
    {
     "name": "stdout",
     "output_type": "stream",
     "text": [
      "\n",
      "0: 640x1088 (no detections), 540.9ms\n",
      "Speed: 6.6ms preprocess, 540.9ms inference, 1.4ms postprocess per image at shape (1, 3, 640, 1088)\n"
     ]
    },
    {
     "name": "stderr",
     "output_type": "stream",
     "text": [
      "Processing ball with output:  11%|█         | 16/150 [00:13<01:41,  1.33frames/s]"
     ]
    },
    {
     "name": "stdout",
     "output_type": "stream",
     "text": [
      "\n",
      "0: 640x1088 (no detections), 439.9ms\n",
      "Speed: 6.3ms preprocess, 439.9ms inference, 0.6ms postprocess per image at shape (1, 3, 640, 1088)\n"
     ]
    },
    {
     "name": "stderr",
     "output_type": "stream",
     "text": [
      "Processing ball with output:  11%|█▏        | 17/150 [00:13<01:37,  1.36frames/s]"
     ]
    },
    {
     "name": "stdout",
     "output_type": "stream",
     "text": [
      "\n",
      "0: 640x1088 (no detections), 431.6ms\n",
      "Speed: 10.5ms preprocess, 431.6ms inference, 0.6ms postprocess per image at shape (1, 3, 640, 1088)\n"
     ]
    },
    {
     "name": "stderr",
     "output_type": "stream",
     "text": [
      "Processing ball with output:  12%|█▏        | 18/150 [00:14<01:41,  1.30frames/s]"
     ]
    },
    {
     "name": "stdout",
     "output_type": "stream",
     "text": [
      "\n",
      "0: 640x1088 (no detections), 460.9ms\n",
      "Speed: 5.9ms preprocess, 460.9ms inference, 0.7ms postprocess per image at shape (1, 3, 640, 1088)\n"
     ]
    },
    {
     "name": "stderr",
     "output_type": "stream",
     "text": [
      "Processing ball with output:  13%|█▎        | 19/150 [00:15<01:37,  1.34frames/s]"
     ]
    },
    {
     "name": "stdout",
     "output_type": "stream",
     "text": [
      "\n",
      "0: 640x1088 (no detections), 472.7ms\n",
      "Speed: 7.0ms preprocess, 472.7ms inference, 0.6ms postprocess per image at shape (1, 3, 640, 1088)\n"
     ]
    },
    {
     "name": "stderr",
     "output_type": "stream",
     "text": [
      "Processing ball with output:  13%|█▎        | 20/150 [00:15<01:35,  1.36frames/s]"
     ]
    },
    {
     "name": "stdout",
     "output_type": "stream",
     "text": [
      "\n",
      "0: 640x1088 (no detections), 435.2ms\n",
      "Speed: 6.4ms preprocess, 435.2ms inference, 0.6ms postprocess per image at shape (1, 3, 640, 1088)\n"
     ]
    },
    {
     "name": "stderr",
     "output_type": "stream",
     "text": [
      "Processing ball with output:  14%|█▍        | 21/150 [00:16<01:32,  1.39frames/s]"
     ]
    },
    {
     "name": "stdout",
     "output_type": "stream",
     "text": [
      "\n",
      "0: 640x1088 (no detections), 518.4ms\n",
      "Speed: 6.5ms preprocess, 518.4ms inference, 0.6ms postprocess per image at shape (1, 3, 640, 1088)\n"
     ]
    },
    {
     "name": "stderr",
     "output_type": "stream",
     "text": [
      "Processing ball with output:  15%|█▍        | 22/150 [00:17<01:33,  1.37frames/s]"
     ]
    },
    {
     "name": "stdout",
     "output_type": "stream",
     "text": [
      "\n",
      "0: 640x1088 (no detections), 442.1ms\n",
      "Speed: 6.4ms preprocess, 442.1ms inference, 0.6ms postprocess per image at shape (1, 3, 640, 1088)\n"
     ]
    },
    {
     "name": "stderr",
     "output_type": "stream",
     "text": [
      "Processing ball with output:  15%|█▌        | 23/150 [00:18<01:31,  1.40frames/s]"
     ]
    },
    {
     "name": "stdout",
     "output_type": "stream",
     "text": [
      "\n",
      "0: 640x1088 (no detections), 435.0ms\n",
      "Speed: 6.3ms preprocess, 435.0ms inference, 0.7ms postprocess per image at shape (1, 3, 640, 1088)\n"
     ]
    },
    {
     "name": "stderr",
     "output_type": "stream",
     "text": [
      "Processing ball with output:  16%|█▌        | 24/150 [00:18<01:31,  1.38frames/s]"
     ]
    },
    {
     "name": "stdout",
     "output_type": "stream",
     "text": [
      "\n",
      "0: 640x1088 (no detections), 486.0ms\n",
      "Speed: 8.3ms preprocess, 486.0ms inference, 0.6ms postprocess per image at shape (1, 3, 640, 1088)\n"
     ]
    },
    {
     "name": "stderr",
     "output_type": "stream",
     "text": [
      "Processing ball with output:  17%|█▋        | 25/150 [00:19<01:33,  1.34frames/s]"
     ]
    },
    {
     "name": "stdout",
     "output_type": "stream",
     "text": [
      "\n",
      "0: 640x1088 (no detections), 462.1ms\n",
      "Speed: 7.3ms preprocess, 462.1ms inference, 0.7ms postprocess per image at shape (1, 3, 640, 1088)\n"
     ]
    },
    {
     "name": "stderr",
     "output_type": "stream",
     "text": [
      "Processing ball with output:  17%|█▋        | 26/150 [00:20<01:31,  1.36frames/s]"
     ]
    },
    {
     "name": "stdout",
     "output_type": "stream",
     "text": [
      "\n",
      "0: 640x1088 (no detections), 471.3ms\n",
      "Speed: 7.2ms preprocess, 471.3ms inference, 0.6ms postprocess per image at shape (1, 3, 640, 1088)\n"
     ]
    },
    {
     "name": "stderr",
     "output_type": "stream",
     "text": [
      "Processing ball with output:  18%|█▊        | 27/150 [00:21<01:29,  1.37frames/s]"
     ]
    },
    {
     "name": "stdout",
     "output_type": "stream",
     "text": [
      "\n",
      "0: 640x1088 (no detections), 424.7ms\n",
      "Speed: 6.8ms preprocess, 424.7ms inference, 0.6ms postprocess per image at shape (1, 3, 640, 1088)\n"
     ]
    },
    {
     "name": "stderr",
     "output_type": "stream",
     "text": [
      "Processing ball with output:  19%|█▊        | 28/150 [00:21<01:27,  1.39frames/s]"
     ]
    },
    {
     "name": "stdout",
     "output_type": "stream",
     "text": [
      "\n",
      "0: 640x1088 (no detections), 444.6ms\n",
      "Speed: 6.6ms preprocess, 444.6ms inference, 0.8ms postprocess per image at shape (1, 3, 640, 1088)\n"
     ]
    },
    {
     "name": "stderr",
     "output_type": "stream",
     "text": [
      "Processing ball with output:  19%|█▉        | 29/150 [00:22<01:26,  1.41frames/s]"
     ]
    },
    {
     "name": "stdout",
     "output_type": "stream",
     "text": [
      "\n",
      "0: 640x1088 (no detections), 424.7ms\n",
      "Speed: 6.3ms preprocess, 424.7ms inference, 0.6ms postprocess per image at shape (1, 3, 640, 1088)\n"
     ]
    },
    {
     "name": "stderr",
     "output_type": "stream",
     "text": [
      "Processing ball with output:  20%|██        | 30/150 [00:23<01:28,  1.35frames/s]"
     ]
    },
    {
     "name": "stdout",
     "output_type": "stream",
     "text": [
      "\n",
      "0: 640x1088 (no detections), 421.0ms\n",
      "Speed: 6.6ms preprocess, 421.0ms inference, 0.6ms postprocess per image at shape (1, 3, 640, 1088)\n"
     ]
    },
    {
     "name": "stderr",
     "output_type": "stream",
     "text": [
      "Processing ball with output:  21%|██        | 31/150 [00:23<01:26,  1.37frames/s]"
     ]
    },
    {
     "name": "stdout",
     "output_type": "stream",
     "text": [
      "\n",
      "0: 640x1088 (no detections), 424.8ms\n",
      "Speed: 5.9ms preprocess, 424.8ms inference, 0.6ms postprocess per image at shape (1, 3, 640, 1088)\n"
     ]
    },
    {
     "name": "stderr",
     "output_type": "stream",
     "text": [
      "Processing ball with output:  21%|██▏       | 32/150 [00:24<01:23,  1.41frames/s]"
     ]
    },
    {
     "name": "stdout",
     "output_type": "stream",
     "text": [
      "\n",
      "0: 640x1088 (no detections), 437.1ms\n",
      "Speed: 6.3ms preprocess, 437.1ms inference, 0.6ms postprocess per image at shape (1, 3, 640, 1088)\n"
     ]
    },
    {
     "name": "stderr",
     "output_type": "stream",
     "text": [
      "Processing ball with output:  22%|██▏       | 33/150 [00:25<01:25,  1.36frames/s]"
     ]
    },
    {
     "name": "stdout",
     "output_type": "stream",
     "text": [
      "\n",
      "0: 640x1088 (no detections), 430.6ms\n",
      "Speed: 6.8ms preprocess, 430.6ms inference, 0.6ms postprocess per image at shape (1, 3, 640, 1088)\n"
     ]
    },
    {
     "name": "stderr",
     "output_type": "stream",
     "text": [
      "Processing ball with output:  23%|██▎       | 34/150 [00:26<01:22,  1.40frames/s]"
     ]
    },
    {
     "name": "stdout",
     "output_type": "stream",
     "text": [
      "\n",
      "0: 640x1088 (no detections), 445.5ms\n",
      "Speed: 6.7ms preprocess, 445.5ms inference, 0.6ms postprocess per image at shape (1, 3, 640, 1088)\n"
     ]
    },
    {
     "name": "stderr",
     "output_type": "stream",
     "text": [
      "Processing ball with output:  23%|██▎       | 35/150 [00:26<01:21,  1.42frames/s]"
     ]
    },
    {
     "name": "stdout",
     "output_type": "stream",
     "text": [
      "\n",
      "0: 640x1088 (no detections), 435.6ms\n",
      "Speed: 6.4ms preprocess, 435.6ms inference, 0.9ms postprocess per image at shape (1, 3, 640, 1088)\n"
     ]
    },
    {
     "name": "stderr",
     "output_type": "stream",
     "text": [
      "Processing ball with output:  24%|██▍       | 36/150 [00:27<01:19,  1.43frames/s]"
     ]
    },
    {
     "name": "stdout",
     "output_type": "stream",
     "text": [
      "\n",
      "0: 640x1088 (no detections), 541.5ms\n",
      "Speed: 6.1ms preprocess, 541.5ms inference, 0.6ms postprocess per image at shape (1, 3, 640, 1088)\n"
     ]
    },
    {
     "name": "stderr",
     "output_type": "stream",
     "text": [
      "Processing ball with output:  25%|██▍       | 37/150 [00:28<01:21,  1.38frames/s]"
     ]
    },
    {
     "name": "stdout",
     "output_type": "stream",
     "text": [
      "\n",
      "0: 640x1088 (no detections), 548.5ms\n",
      "Speed: 5.9ms preprocess, 548.5ms inference, 0.6ms postprocess per image at shape (1, 3, 640, 1088)\n"
     ]
    },
    {
     "name": "stderr",
     "output_type": "stream",
     "text": [
      "Processing ball with output:  25%|██▌       | 38/150 [00:29<01:23,  1.35frames/s]"
     ]
    },
    {
     "name": "stdout",
     "output_type": "stream",
     "text": [
      "\n",
      "0: 640x1088 (no detections), 454.4ms\n",
      "Speed: 6.0ms preprocess, 454.4ms inference, 0.6ms postprocess per image at shape (1, 3, 640, 1088)\n"
     ]
    },
    {
     "name": "stderr",
     "output_type": "stream",
     "text": [
      "Processing ball with output:  26%|██▌       | 39/150 [00:29<01:20,  1.37frames/s]"
     ]
    },
    {
     "name": "stdout",
     "output_type": "stream",
     "text": [
      "\n",
      "0: 640x1088 (no detections), 447.3ms\n",
      "Speed: 6.6ms preprocess, 447.3ms inference, 0.7ms postprocess per image at shape (1, 3, 640, 1088)\n"
     ]
    },
    {
     "name": "stderr",
     "output_type": "stream",
     "text": [
      "Processing ball with output:  27%|██▋       | 40/150 [00:30<01:18,  1.39frames/s]"
     ]
    },
    {
     "name": "stdout",
     "output_type": "stream",
     "text": [
      "\n",
      "0: 640x1088 (no detections), 487.4ms\n",
      "Speed: 8.8ms preprocess, 487.4ms inference, 0.6ms postprocess per image at shape (1, 3, 640, 1088)\n"
     ]
    },
    {
     "name": "stderr",
     "output_type": "stream",
     "text": [
      "Processing ball with output:  27%|██▋       | 41/150 [00:31<01:22,  1.31frames/s]"
     ]
    },
    {
     "name": "stdout",
     "output_type": "stream",
     "text": [
      "\n",
      "0: 640x1088 (no detections), 454.3ms\n",
      "Speed: 6.5ms preprocess, 454.3ms inference, 0.6ms postprocess per image at shape (1, 3, 640, 1088)\n"
     ]
    },
    {
     "name": "stderr",
     "output_type": "stream",
     "text": [
      "Processing ball with output:  28%|██▊       | 42/150 [00:32<01:24,  1.28frames/s]"
     ]
    },
    {
     "name": "stdout",
     "output_type": "stream",
     "text": [
      "\n",
      "0: 640x1088 (no detections), 448.1ms\n",
      "Speed: 7.1ms preprocess, 448.1ms inference, 0.6ms postprocess per image at shape (1, 3, 640, 1088)\n"
     ]
    },
    {
     "name": "stderr",
     "output_type": "stream",
     "text": [
      "Processing ball with output:  29%|██▊       | 43/150 [00:32<01:20,  1.33frames/s]"
     ]
    },
    {
     "name": "stdout",
     "output_type": "stream",
     "text": [
      "\n",
      "0: 640x1088 (no detections), 457.8ms\n",
      "Speed: 6.0ms preprocess, 457.8ms inference, 0.6ms postprocess per image at shape (1, 3, 640, 1088)\n"
     ]
    },
    {
     "name": "stderr",
     "output_type": "stream",
     "text": [
      "Processing ball with output:  29%|██▉       | 44/150 [00:33<01:18,  1.35frames/s]"
     ]
    },
    {
     "name": "stdout",
     "output_type": "stream",
     "text": [
      "\n",
      "0: 640x1088 (no detections), 540.3ms\n",
      "Speed: 6.4ms preprocess, 540.3ms inference, 0.7ms postprocess per image at shape (1, 3, 640, 1088)\n"
     ]
    },
    {
     "name": "stderr",
     "output_type": "stream",
     "text": [
      "Processing ball with output:  30%|███       | 45/150 [00:34<01:19,  1.33frames/s]"
     ]
    },
    {
     "name": "stdout",
     "output_type": "stream",
     "text": [
      "\n",
      "0: 640x1088 (no detections), 429.3ms\n",
      "Speed: 6.8ms preprocess, 429.3ms inference, 0.6ms postprocess per image at shape (1, 3, 640, 1088)\n"
     ]
    },
    {
     "name": "stderr",
     "output_type": "stream",
     "text": [
      "Processing ball with output:  31%|███       | 46/150 [00:35<01:18,  1.32frames/s]"
     ]
    },
    {
     "name": "stdout",
     "output_type": "stream",
     "text": [
      "\n",
      "0: 640x1088 (no detections), 453.0ms\n",
      "Speed: 6.2ms preprocess, 453.0ms inference, 0.6ms postprocess per image at shape (1, 3, 640, 1088)\n"
     ]
    },
    {
     "name": "stderr",
     "output_type": "stream",
     "text": [
      "Processing ball with output:  31%|███▏      | 47/150 [00:35<01:15,  1.36frames/s]"
     ]
    },
    {
     "name": "stdout",
     "output_type": "stream",
     "text": [
      "\n",
      "0: 640x1088 (no detections), 453.0ms\n",
      "Speed: 6.6ms preprocess, 453.0ms inference, 0.7ms postprocess per image at shape (1, 3, 640, 1088)\n"
     ]
    },
    {
     "name": "stderr",
     "output_type": "stream",
     "text": [
      "Processing ball with output:  32%|███▏      | 48/150 [00:36<01:13,  1.38frames/s]"
     ]
    },
    {
     "name": "stdout",
     "output_type": "stream",
     "text": [
      "\n",
      "0: 640x1088 (no detections), 466.1ms\n",
      "Speed: 5.9ms preprocess, 466.1ms inference, 0.7ms postprocess per image at shape (1, 3, 640, 1088)\n"
     ]
    },
    {
     "name": "stderr",
     "output_type": "stream",
     "text": [
      "Processing ball with output:  33%|███▎      | 49/150 [00:37<01:12,  1.40frames/s]"
     ]
    },
    {
     "name": "stdout",
     "output_type": "stream",
     "text": [
      "\n",
      "0: 640x1088 (no detections), 456.8ms\n",
      "Speed: 6.7ms preprocess, 456.8ms inference, 0.6ms postprocess per image at shape (1, 3, 640, 1088)\n"
     ]
    },
    {
     "name": "stderr",
     "output_type": "stream",
     "text": [
      "Processing ball with output:  33%|███▎      | 50/150 [00:37<01:11,  1.40frames/s]"
     ]
    },
    {
     "name": "stdout",
     "output_type": "stream",
     "text": [
      "\n",
      "0: 640x1088 (no detections), 437.3ms\n",
      "Speed: 7.2ms preprocess, 437.3ms inference, 0.7ms postprocess per image at shape (1, 3, 640, 1088)\n"
     ]
    },
    {
     "name": "stderr",
     "output_type": "stream",
     "text": [
      "Processing ball with output:  34%|███▍      | 51/150 [00:38<01:12,  1.36frames/s]"
     ]
    },
    {
     "name": "stdout",
     "output_type": "stream",
     "text": [
      "\n",
      "0: 640x1088 (no detections), 436.0ms\n",
      "Speed: 6.8ms preprocess, 436.0ms inference, 0.7ms postprocess per image at shape (1, 3, 640, 1088)\n"
     ]
    },
    {
     "name": "stderr",
     "output_type": "stream",
     "text": [
      "Processing ball with output:  35%|███▍      | 52/150 [00:39<01:14,  1.32frames/s]"
     ]
    },
    {
     "name": "stdout",
     "output_type": "stream",
     "text": [
      "\n",
      "0: 640x1088 (no detections), 474.9ms\n",
      "Speed: 7.9ms preprocess, 474.9ms inference, 0.6ms postprocess per image at shape (1, 3, 640, 1088)\n"
     ]
    },
    {
     "name": "stderr",
     "output_type": "stream",
     "text": [
      "Processing ball with output:  35%|███▌      | 53/150 [00:40<01:17,  1.26frames/s]"
     ]
    },
    {
     "name": "stdout",
     "output_type": "stream",
     "text": [
      "\n",
      "0: 640x1088 (no detections), 418.0ms\n",
      "Speed: 6.4ms preprocess, 418.0ms inference, 0.6ms postprocess per image at shape (1, 3, 640, 1088)\n"
     ]
    },
    {
     "name": "stderr",
     "output_type": "stream",
     "text": [
      "Processing ball with output:  36%|███▌      | 54/150 [00:40<01:12,  1.33frames/s]"
     ]
    },
    {
     "name": "stdout",
     "output_type": "stream",
     "text": [
      "\n",
      "0: 640x1088 (no detections), 432.5ms\n",
      "Speed: 6.0ms preprocess, 432.5ms inference, 0.6ms postprocess per image at shape (1, 3, 640, 1088)\n"
     ]
    },
    {
     "name": "stderr",
     "output_type": "stream",
     "text": [
      "Processing ball with output:  37%|███▋      | 55/150 [00:41<01:09,  1.37frames/s]"
     ]
    },
    {
     "name": "stdout",
     "output_type": "stream",
     "text": [
      "\n",
      "0: 640x1088 (no detections), 424.1ms\n",
      "Speed: 5.7ms preprocess, 424.1ms inference, 0.6ms postprocess per image at shape (1, 3, 640, 1088)\n"
     ]
    },
    {
     "name": "stderr",
     "output_type": "stream",
     "text": [
      "Processing ball with output:  37%|███▋      | 56/150 [00:42<01:07,  1.40frames/s]"
     ]
    },
    {
     "name": "stdout",
     "output_type": "stream",
     "text": [
      "\n",
      "0: 640x1088 (no detections), 534.5ms\n",
      "Speed: 7.4ms preprocess, 534.5ms inference, 0.6ms postprocess per image at shape (1, 3, 640, 1088)\n"
     ]
    },
    {
     "name": "stderr",
     "output_type": "stream",
     "text": [
      "Processing ball with output:  38%|███▊      | 57/150 [00:43<01:08,  1.37frames/s]"
     ]
    },
    {
     "name": "stdout",
     "output_type": "stream",
     "text": [
      "\n",
      "0: 640x1088 (no detections), 430.9ms\n",
      "Speed: 9.9ms preprocess, 430.9ms inference, 0.6ms postprocess per image at shape (1, 3, 640, 1088)\n"
     ]
    },
    {
     "name": "stderr",
     "output_type": "stream",
     "text": [
      "Processing ball with output:  39%|███▊      | 58/150 [00:43<01:05,  1.40frames/s]"
     ]
    },
    {
     "name": "stdout",
     "output_type": "stream",
     "text": [
      "\n",
      "0: 640x1088 (no detections), 431.3ms\n",
      "Speed: 6.1ms preprocess, 431.3ms inference, 0.6ms postprocess per image at shape (1, 3, 640, 1088)\n"
     ]
    },
    {
     "name": "stderr",
     "output_type": "stream",
     "text": [
      "Processing ball with output:  39%|███▉      | 59/150 [00:44<01:03,  1.43frames/s]"
     ]
    },
    {
     "name": "stdout",
     "output_type": "stream",
     "text": [
      "\n",
      "0: 640x1088 (no detections), 501.5ms\n",
      "Speed: 6.4ms preprocess, 501.5ms inference, 3.1ms postprocess per image at shape (1, 3, 640, 1088)\n"
     ]
    },
    {
     "name": "stderr",
     "output_type": "stream",
     "text": [
      "Processing ball with output:  40%|████      | 60/150 [00:45<01:04,  1.40frames/s]"
     ]
    },
    {
     "name": "stdout",
     "output_type": "stream",
     "text": [
      "\n",
      "0: 640x1088 (no detections), 477.0ms\n",
      "Speed: 5.8ms preprocess, 477.0ms inference, 1.1ms postprocess per image at shape (1, 3, 640, 1088)\n"
     ]
    },
    {
     "name": "stderr",
     "output_type": "stream",
     "text": [
      "Processing ball with output:  41%|████      | 61/150 [00:45<01:05,  1.36frames/s]"
     ]
    },
    {
     "name": "stdout",
     "output_type": "stream",
     "text": [
      "\n",
      "0: 640x1088 (no detections), 469.9ms\n",
      "Speed: 5.8ms preprocess, 469.9ms inference, 0.8ms postprocess per image at shape (1, 3, 640, 1088)\n"
     ]
    },
    {
     "name": "stderr",
     "output_type": "stream",
     "text": [
      "Processing ball with output:  41%|████▏     | 62/150 [00:46<01:04,  1.37frames/s]"
     ]
    },
    {
     "name": "stdout",
     "output_type": "stream",
     "text": [
      "\n",
      "0: 640x1088 (no detections), 497.7ms\n",
      "Speed: 6.0ms preprocess, 497.7ms inference, 1.0ms postprocess per image at shape (1, 3, 640, 1088)\n"
     ]
    },
    {
     "name": "stderr",
     "output_type": "stream",
     "text": [
      "Processing ball with output:  42%|████▏     | 63/150 [00:47<01:03,  1.37frames/s]"
     ]
    },
    {
     "name": "stdout",
     "output_type": "stream",
     "text": [
      "\n",
      "0: 640x1088 (no detections), 449.2ms\n",
      "Speed: 6.2ms preprocess, 449.2ms inference, 0.6ms postprocess per image at shape (1, 3, 640, 1088)\n"
     ]
    },
    {
     "name": "stderr",
     "output_type": "stream",
     "text": [
      "Processing ball with output:  43%|████▎     | 64/150 [00:48<01:05,  1.32frames/s]"
     ]
    },
    {
     "name": "stdout",
     "output_type": "stream",
     "text": [
      "\n",
      "0: 640x1088 (no detections), 487.8ms\n",
      "Speed: 6.7ms preprocess, 487.8ms inference, 0.6ms postprocess per image at shape (1, 3, 640, 1088)\n"
     ]
    },
    {
     "name": "stderr",
     "output_type": "stream",
     "text": [
      "Processing ball with output:  43%|████▎     | 65/150 [00:49<01:03,  1.33frames/s]"
     ]
    },
    {
     "name": "stdout",
     "output_type": "stream",
     "text": [
      "\n",
      "0: 640x1088 (no detections), 431.2ms\n",
      "Speed: 6.7ms preprocess, 431.2ms inference, 0.7ms postprocess per image at shape (1, 3, 640, 1088)\n"
     ]
    },
    {
     "name": "stderr",
     "output_type": "stream",
     "text": [
      "Processing ball with output:  44%|████▍     | 66/150 [00:49<01:01,  1.37frames/s]"
     ]
    },
    {
     "name": "stdout",
     "output_type": "stream",
     "text": [
      "\n",
      "0: 640x1088 1 ball, 437.3ms\n",
      "Speed: 7.2ms preprocess, 437.3ms inference, 0.9ms postprocess per image at shape (1, 3, 640, 1088)\n"
     ]
    },
    {
     "name": "stderr",
     "output_type": "stream",
     "text": [
      "Processing ball with output:  45%|████▍     | 67/150 [00:50<00:59,  1.40frames/s]"
     ]
    },
    {
     "name": "stdout",
     "output_type": "stream",
     "text": [
      "\n",
      "0: 640x1088 1 ball, 629.4ms\n",
      "Speed: 7.1ms preprocess, 629.4ms inference, 1.0ms postprocess per image at shape (1, 3, 640, 1088)\n"
     ]
    },
    {
     "name": "stderr",
     "output_type": "stream",
     "text": [
      "Processing ball with output:  45%|████▌     | 68/150 [00:51<01:02,  1.31frames/s]"
     ]
    },
    {
     "name": "stdout",
     "output_type": "stream",
     "text": [
      "\n",
      "0: 640x1088 1 ball, 572.5ms\n",
      "Speed: 6.2ms preprocess, 572.5ms inference, 0.9ms postprocess per image at shape (1, 3, 640, 1088)\n"
     ]
    },
    {
     "name": "stderr",
     "output_type": "stream",
     "text": [
      "Processing ball with output:  46%|████▌     | 69/150 [00:52<01:02,  1.29frames/s]"
     ]
    },
    {
     "name": "stdout",
     "output_type": "stream",
     "text": [
      "\n",
      "0: 640x1088 1 ball, 428.8ms\n",
      "Speed: 6.4ms preprocess, 428.8ms inference, 1.0ms postprocess per image at shape (1, 3, 640, 1088)\n"
     ]
    },
    {
     "name": "stderr",
     "output_type": "stream",
     "text": [
      "Processing ball with output:  47%|████▋     | 70/150 [00:52<00:59,  1.34frames/s]"
     ]
    },
    {
     "name": "stdout",
     "output_type": "stream",
     "text": [
      "\n",
      "0: 640x1088 (no detections), 498.8ms\n",
      "Speed: 6.2ms preprocess, 498.8ms inference, 0.6ms postprocess per image at shape (1, 3, 640, 1088)\n"
     ]
    },
    {
     "name": "stderr",
     "output_type": "stream",
     "text": [
      "Processing ball with output:  47%|████▋     | 71/150 [00:53<00:58,  1.34frames/s]"
     ]
    },
    {
     "name": "stdout",
     "output_type": "stream",
     "text": [
      "\n",
      "0: 640x1088 (no detections), 468.5ms\n",
      "Speed: 6.1ms preprocess, 468.5ms inference, 0.6ms postprocess per image at shape (1, 3, 640, 1088)\n"
     ]
    },
    {
     "name": "stderr",
     "output_type": "stream",
     "text": [
      "Processing ball with output:  48%|████▊     | 72/150 [00:54<00:57,  1.36frames/s]"
     ]
    },
    {
     "name": "stdout",
     "output_type": "stream",
     "text": [
      "\n",
      "0: 640x1088 (no detections), 483.0ms\n",
      "Speed: 6.6ms preprocess, 483.0ms inference, 0.8ms postprocess per image at shape (1, 3, 640, 1088)\n"
     ]
    },
    {
     "name": "stderr",
     "output_type": "stream",
     "text": [
      "Processing ball with output:  49%|████▊     | 73/150 [00:54<00:56,  1.36frames/s]"
     ]
    },
    {
     "name": "stdout",
     "output_type": "stream",
     "text": [
      "\n",
      "0: 640x1088 (no detections), 446.5ms\n",
      "Speed: 6.3ms preprocess, 446.5ms inference, 0.6ms postprocess per image at shape (1, 3, 640, 1088)\n"
     ]
    },
    {
     "name": "stderr",
     "output_type": "stream",
     "text": [
      "Processing ball with output:  49%|████▉     | 74/150 [00:55<00:54,  1.38frames/s]"
     ]
    },
    {
     "name": "stdout",
     "output_type": "stream",
     "text": [
      "\n",
      "0: 640x1088 1 ball, 571.4ms\n",
      "Speed: 6.1ms preprocess, 571.4ms inference, 1.1ms postprocess per image at shape (1, 3, 640, 1088)\n"
     ]
    },
    {
     "name": "stderr",
     "output_type": "stream",
     "text": [
      "Processing ball with output:  50%|█████     | 75/150 [00:56<00:56,  1.33frames/s]"
     ]
    },
    {
     "name": "stdout",
     "output_type": "stream",
     "text": [
      "\n",
      "0: 640x1088 1 ball, 477.2ms\n",
      "Speed: 6.4ms preprocess, 477.2ms inference, 1.0ms postprocess per image at shape (1, 3, 640, 1088)\n"
     ]
    },
    {
     "name": "stderr",
     "output_type": "stream",
     "text": [
      "Processing ball with output:  51%|█████     | 76/150 [00:57<00:59,  1.24frames/s]"
     ]
    },
    {
     "name": "stdout",
     "output_type": "stream",
     "text": [
      "\n",
      "0: 640x1088 1 ball, 460.8ms\n",
      "Speed: 6.7ms preprocess, 460.8ms inference, 1.0ms postprocess per image at shape (1, 3, 640, 1088)\n"
     ]
    },
    {
     "name": "stderr",
     "output_type": "stream",
     "text": [
      "Processing ball with output:  51%|█████▏    | 77/150 [00:58<00:56,  1.29frames/s]"
     ]
    },
    {
     "name": "stdout",
     "output_type": "stream",
     "text": [
      "\n",
      "0: 640x1088 (no detections), 439.5ms\n",
      "Speed: 6.6ms preprocess, 439.5ms inference, 0.6ms postprocess per image at shape (1, 3, 640, 1088)\n"
     ]
    },
    {
     "name": "stderr",
     "output_type": "stream",
     "text": [
      "Processing ball with output:  52%|█████▏    | 78/150 [00:58<00:53,  1.33frames/s]"
     ]
    },
    {
     "name": "stdout",
     "output_type": "stream",
     "text": [
      "\n",
      "0: 640x1088 (no detections), 460.1ms\n",
      "Speed: 6.2ms preprocess, 460.1ms inference, 0.6ms postprocess per image at shape (1, 3, 640, 1088)\n"
     ]
    },
    {
     "name": "stderr",
     "output_type": "stream",
     "text": [
      "Processing ball with output:  53%|█████▎    | 79/150 [00:59<00:52,  1.36frames/s]"
     ]
    },
    {
     "name": "stdout",
     "output_type": "stream",
     "text": [
      "\n",
      "0: 640x1088 (no detections), 449.4ms\n",
      "Speed: 6.7ms preprocess, 449.4ms inference, 0.6ms postprocess per image at shape (1, 3, 640, 1088)\n"
     ]
    },
    {
     "name": "stderr",
     "output_type": "stream",
     "text": [
      "Processing ball with output:  53%|█████▎    | 80/150 [01:00<00:50,  1.38frames/s]"
     ]
    },
    {
     "name": "stdout",
     "output_type": "stream",
     "text": [
      "\n",
      "0: 640x1088 (no detections), 431.4ms\n",
      "Speed: 6.1ms preprocess, 431.4ms inference, 0.6ms postprocess per image at shape (1, 3, 640, 1088)\n"
     ]
    },
    {
     "name": "stderr",
     "output_type": "stream",
     "text": [
      "Processing ball with output:  54%|█████▍    | 81/150 [01:00<00:48,  1.41frames/s]"
     ]
    },
    {
     "name": "stdout",
     "output_type": "stream",
     "text": [
      "\n",
      "0: 640x1088 (no detections), 450.4ms\n",
      "Speed: 8.1ms preprocess, 450.4ms inference, 0.6ms postprocess per image at shape (1, 3, 640, 1088)\n"
     ]
    },
    {
     "name": "stderr",
     "output_type": "stream",
     "text": [
      "Processing ball with output:  55%|█████▍    | 82/150 [01:01<00:49,  1.38frames/s]"
     ]
    },
    {
     "name": "stdout",
     "output_type": "stream",
     "text": [
      "\n",
      "0: 640x1088 (no detections), 465.6ms\n",
      "Speed: 6.2ms preprocess, 465.6ms inference, 0.8ms postprocess per image at shape (1, 3, 640, 1088)\n"
     ]
    },
    {
     "name": "stderr",
     "output_type": "stream",
     "text": [
      "Processing ball with output:  55%|█████▌    | 83/150 [01:02<00:48,  1.39frames/s]"
     ]
    },
    {
     "name": "stdout",
     "output_type": "stream",
     "text": [
      "\n",
      "0: 640x1088 (no detections), 478.1ms\n",
      "Speed: 6.4ms preprocess, 478.1ms inference, 0.8ms postprocess per image at shape (1, 3, 640, 1088)\n"
     ]
    },
    {
     "name": "stderr",
     "output_type": "stream",
     "text": [
      "Processing ball with output:  56%|█████▌    | 84/150 [01:02<00:47,  1.39frames/s]"
     ]
    },
    {
     "name": "stdout",
     "output_type": "stream",
     "text": [
      "\n",
      "0: 640x1088 (no detections), 612.5ms\n",
      "Speed: 6.3ms preprocess, 612.5ms inference, 0.6ms postprocess per image at shape (1, 3, 640, 1088)\n"
     ]
    },
    {
     "name": "stderr",
     "output_type": "stream",
     "text": [
      "Processing ball with output:  57%|█████▋    | 85/150 [01:03<00:49,  1.32frames/s]"
     ]
    },
    {
     "name": "stdout",
     "output_type": "stream",
     "text": [
      "\n",
      "0: 640x1088 (no detections), 490.8ms\n",
      "Speed: 6.9ms preprocess, 490.8ms inference, 0.7ms postprocess per image at shape (1, 3, 640, 1088)\n"
     ]
    },
    {
     "name": "stderr",
     "output_type": "stream",
     "text": [
      "Processing ball with output:  57%|█████▋    | 86/150 [01:04<00:48,  1.33frames/s]"
     ]
    },
    {
     "name": "stdout",
     "output_type": "stream",
     "text": [
      "\n",
      "0: 640x1088 (no detections), 460.5ms\n",
      "Speed: 7.5ms preprocess, 460.5ms inference, 1.5ms postprocess per image at shape (1, 3, 640, 1088)\n"
     ]
    },
    {
     "name": "stderr",
     "output_type": "stream",
     "text": [
      "Processing ball with output:  58%|█████▊    | 87/150 [01:05<00:49,  1.27frames/s]"
     ]
    },
    {
     "name": "stdout",
     "output_type": "stream",
     "text": [
      "\n",
      "0: 640x1088 (no detections), 437.0ms\n",
      "Speed: 6.3ms preprocess, 437.0ms inference, 0.6ms postprocess per image at shape (1, 3, 640, 1088)\n"
     ]
    },
    {
     "name": "stderr",
     "output_type": "stream",
     "text": [
      "Processing ball with output:  59%|█████▊    | 88/150 [01:06<00:46,  1.32frames/s]"
     ]
    },
    {
     "name": "stdout",
     "output_type": "stream",
     "text": [
      "\n",
      "0: 640x1088 (no detections), 459.6ms\n",
      "Speed: 7.1ms preprocess, 459.6ms inference, 0.6ms postprocess per image at shape (1, 3, 640, 1088)\n"
     ]
    },
    {
     "name": "stderr",
     "output_type": "stream",
     "text": [
      "Processing ball with output:  59%|█████▉    | 89/150 [01:06<00:45,  1.35frames/s]"
     ]
    },
    {
     "name": "stdout",
     "output_type": "stream",
     "text": [
      "\n",
      "0: 640x1088 (no detections), 457.0ms\n",
      "Speed: 6.6ms preprocess, 457.0ms inference, 0.6ms postprocess per image at shape (1, 3, 640, 1088)\n"
     ]
    },
    {
     "name": "stderr",
     "output_type": "stream",
     "text": [
      "Processing ball with output:  60%|██████    | 90/150 [01:07<00:45,  1.32frames/s]"
     ]
    },
    {
     "name": "stdout",
     "output_type": "stream",
     "text": [
      "\n",
      "0: 640x1088 (no detections), 548.0ms\n",
      "Speed: 6.7ms preprocess, 548.0ms inference, 0.6ms postprocess per image at shape (1, 3, 640, 1088)\n"
     ]
    },
    {
     "name": "stderr",
     "output_type": "stream",
     "text": [
      "Processing ball with output:  61%|██████    | 91/150 [01:08<00:45,  1.30frames/s]"
     ]
    },
    {
     "name": "stdout",
     "output_type": "stream",
     "text": [
      "\n",
      "0: 640x1088 (no detections), 442.1ms\n",
      "Speed: 5.9ms preprocess, 442.1ms inference, 0.6ms postprocess per image at shape (1, 3, 640, 1088)\n"
     ]
    },
    {
     "name": "stderr",
     "output_type": "stream",
     "text": [
      "Processing ball with output:  61%|██████▏   | 92/150 [01:09<00:42,  1.35frames/s]"
     ]
    },
    {
     "name": "stdout",
     "output_type": "stream",
     "text": [
      "\n",
      "0: 640x1088 (no detections), 442.1ms\n",
      "Speed: 6.2ms preprocess, 442.1ms inference, 0.6ms postprocess per image at shape (1, 3, 640, 1088)\n"
     ]
    },
    {
     "name": "stderr",
     "output_type": "stream",
     "text": [
      "Processing ball with output:  62%|██████▏   | 93/150 [01:09<00:41,  1.38frames/s]"
     ]
    },
    {
     "name": "stdout",
     "output_type": "stream",
     "text": [
      "\n",
      "0: 640x1088 (no detections), 489.6ms\n",
      "Speed: 6.6ms preprocess, 489.6ms inference, 0.6ms postprocess per image at shape (1, 3, 640, 1088)\n"
     ]
    },
    {
     "name": "stderr",
     "output_type": "stream",
     "text": [
      "Processing ball with output:  63%|██████▎   | 94/150 [01:10<00:40,  1.37frames/s]"
     ]
    },
    {
     "name": "stdout",
     "output_type": "stream",
     "text": [
      "\n",
      "0: 640x1088 (no detections), 472.1ms\n",
      "Speed: 7.6ms preprocess, 472.1ms inference, 0.6ms postprocess per image at shape (1, 3, 640, 1088)\n"
     ]
    },
    {
     "name": "stderr",
     "output_type": "stream",
     "text": [
      "Processing ball with output:  63%|██████▎   | 95/150 [01:11<00:40,  1.37frames/s]"
     ]
    },
    {
     "name": "stdout",
     "output_type": "stream",
     "text": [
      "\n",
      "0: 640x1088 (no detections), 448.1ms\n",
      "Speed: 7.7ms preprocess, 448.1ms inference, 0.8ms postprocess per image at shape (1, 3, 640, 1088)\n"
     ]
    },
    {
     "name": "stderr",
     "output_type": "stream",
     "text": [
      "Processing ball with output:  64%|██████▍   | 96/150 [01:11<00:38,  1.39frames/s]"
     ]
    },
    {
     "name": "stdout",
     "output_type": "stream",
     "text": [
      "\n",
      "0: 640x1088 (no detections), 594.7ms\n",
      "Speed: 6.5ms preprocess, 594.7ms inference, 1.0ms postprocess per image at shape (1, 3, 640, 1088)\n"
     ]
    },
    {
     "name": "stderr",
     "output_type": "stream",
     "text": [
      "Processing ball with output:  65%|██████▍   | 97/150 [01:12<00:40,  1.31frames/s]"
     ]
    },
    {
     "name": "stdout",
     "output_type": "stream",
     "text": [
      "\n",
      "0: 640x1088 (no detections), 558.9ms\n",
      "Speed: 7.4ms preprocess, 558.9ms inference, 0.8ms postprocess per image at shape (1, 3, 640, 1088)\n"
     ]
    },
    {
     "name": "stderr",
     "output_type": "stream",
     "text": [
      "Processing ball with output:  65%|██████▌   | 98/150 [01:13<00:40,  1.28frames/s]"
     ]
    },
    {
     "name": "stdout",
     "output_type": "stream",
     "text": [
      "\n",
      "0: 640x1088 (no detections), 458.4ms\n",
      "Speed: 6.1ms preprocess, 458.4ms inference, 0.6ms postprocess per image at shape (1, 3, 640, 1088)\n"
     ]
    },
    {
     "name": "stderr",
     "output_type": "stream",
     "text": [
      "Processing ball with output:  66%|██████▌   | 99/150 [01:14<00:40,  1.25frames/s]"
     ]
    },
    {
     "name": "stdout",
     "output_type": "stream",
     "text": [
      "\n",
      "0: 640x1088 (no detections), 443.8ms\n",
      "Speed: 7.9ms preprocess, 443.8ms inference, 0.6ms postprocess per image at shape (1, 3, 640, 1088)\n"
     ]
    },
    {
     "name": "stderr",
     "output_type": "stream",
     "text": [
      "Processing ball with output:  67%|██████▋   | 100/150 [01:15<00:39,  1.27frames/s]"
     ]
    },
    {
     "name": "stdout",
     "output_type": "stream",
     "text": [
      "\n",
      "0: 640x1088 (no detections), 587.9ms\n",
      "Speed: 6.2ms preprocess, 587.9ms inference, 0.6ms postprocess per image at shape (1, 3, 640, 1088)\n"
     ]
    },
    {
     "name": "stderr",
     "output_type": "stream",
     "text": [
      "Processing ball with output:  67%|██████▋   | 101/150 [01:16<00:39,  1.25frames/s]"
     ]
    },
    {
     "name": "stdout",
     "output_type": "stream",
     "text": [
      "\n",
      "0: 640x1088 (no detections), 454.7ms\n",
      "Speed: 6.0ms preprocess, 454.7ms inference, 0.7ms postprocess per image at shape (1, 3, 640, 1088)\n"
     ]
    },
    {
     "name": "stderr",
     "output_type": "stream",
     "text": [
      "Processing ball with output:  68%|██████▊   | 102/150 [01:16<00:36,  1.30frames/s]"
     ]
    },
    {
     "name": "stdout",
     "output_type": "stream",
     "text": [
      "\n",
      "0: 640x1088 (no detections), 463.6ms\n",
      "Speed: 6.9ms preprocess, 463.6ms inference, 0.6ms postprocess per image at shape (1, 3, 640, 1088)\n"
     ]
    },
    {
     "name": "stderr",
     "output_type": "stream",
     "text": [
      "Processing ball with output:  69%|██████▊   | 103/150 [01:17<00:35,  1.33frames/s]"
     ]
    },
    {
     "name": "stdout",
     "output_type": "stream",
     "text": [
      "\n",
      "0: 640x1088 (no detections), 455.6ms\n",
      "Speed: 6.3ms preprocess, 455.6ms inference, 0.6ms postprocess per image at shape (1, 3, 640, 1088)\n"
     ]
    },
    {
     "name": "stderr",
     "output_type": "stream",
     "text": [
      "Processing ball with output:  69%|██████▉   | 104/150 [01:18<00:33,  1.36frames/s]"
     ]
    },
    {
     "name": "stdout",
     "output_type": "stream",
     "text": [
      "\n",
      "0: 640x1088 (no detections), 463.5ms\n",
      "Speed: 6.6ms preprocess, 463.5ms inference, 0.7ms postprocess per image at shape (1, 3, 640, 1088)\n"
     ]
    },
    {
     "name": "stderr",
     "output_type": "stream",
     "text": [
      "Processing ball with output:  70%|███████   | 105/150 [01:18<00:32,  1.38frames/s]"
     ]
    },
    {
     "name": "stdout",
     "output_type": "stream",
     "text": [
      "\n",
      "0: 640x1088 (no detections), 453.3ms\n",
      "Speed: 6.5ms preprocess, 453.3ms inference, 0.6ms postprocess per image at shape (1, 3, 640, 1088)\n"
     ]
    },
    {
     "name": "stderr",
     "output_type": "stream",
     "text": [
      "Processing ball with output:  71%|███████   | 106/150 [01:19<00:32,  1.35frames/s]"
     ]
    },
    {
     "name": "stdout",
     "output_type": "stream",
     "text": [
      "\n",
      "0: 640x1088 (no detections), 461.2ms\n",
      "Speed: 6.4ms preprocess, 461.2ms inference, 0.6ms postprocess per image at shape (1, 3, 640, 1088)\n"
     ]
    },
    {
     "name": "stderr",
     "output_type": "stream",
     "text": [
      "Processing ball with output:  71%|███████▏  | 107/150 [01:20<00:31,  1.37frames/s]"
     ]
    },
    {
     "name": "stdout",
     "output_type": "stream",
     "text": [
      "\n",
      "0: 640x1088 (no detections), 532.0ms\n",
      "Speed: 7.0ms preprocess, 532.0ms inference, 0.7ms postprocess per image at shape (1, 3, 640, 1088)\n"
     ]
    },
    {
     "name": "stderr",
     "output_type": "stream",
     "text": [
      "Processing ball with output:  72%|███████▏  | 108/150 [01:21<00:31,  1.35frames/s]"
     ]
    },
    {
     "name": "stdout",
     "output_type": "stream",
     "text": [
      "\n",
      "0: 640x1088 (no detections), 477.6ms\n",
      "Speed: 7.2ms preprocess, 477.6ms inference, 0.7ms postprocess per image at shape (1, 3, 640, 1088)\n"
     ]
    },
    {
     "name": "stderr",
     "output_type": "stream",
     "text": [
      "Processing ball with output:  73%|███████▎  | 109/150 [01:21<00:30,  1.35frames/s]"
     ]
    },
    {
     "name": "stdout",
     "output_type": "stream",
     "text": [
      "\n",
      "0: 640x1088 (no detections), 478.8ms\n",
      "Speed: 6.5ms preprocess, 478.8ms inference, 0.6ms postprocess per image at shape (1, 3, 640, 1088)\n"
     ]
    },
    {
     "name": "stderr",
     "output_type": "stream",
     "text": [
      "Processing ball with output:  73%|███████▎  | 110/150 [01:22<00:31,  1.29frames/s]"
     ]
    },
    {
     "name": "stdout",
     "output_type": "stream",
     "text": [
      "\n",
      "0: 640x1088 (no detections), 459.9ms\n",
      "Speed: 6.2ms preprocess, 459.9ms inference, 0.6ms postprocess per image at shape (1, 3, 640, 1088)\n"
     ]
    },
    {
     "name": "stderr",
     "output_type": "stream",
     "text": [
      "Processing ball with output:  74%|███████▍  | 111/150 [01:23<00:29,  1.33frames/s]"
     ]
    },
    {
     "name": "stdout",
     "output_type": "stream",
     "text": [
      "\n",
      "0: 640x1088 (no detections), 444.6ms\n",
      "Speed: 7.3ms preprocess, 444.6ms inference, 0.6ms postprocess per image at shape (1, 3, 640, 1088)\n"
     ]
    },
    {
     "name": "stderr",
     "output_type": "stream",
     "text": [
      "Processing ball with output:  75%|███████▍  | 112/150 [01:24<00:27,  1.37frames/s]"
     ]
    },
    {
     "name": "stdout",
     "output_type": "stream",
     "text": [
      "\n",
      "0: 640x1088 (no detections), 439.0ms\n",
      "Speed: 6.8ms preprocess, 439.0ms inference, 0.6ms postprocess per image at shape (1, 3, 640, 1088)\n"
     ]
    },
    {
     "name": "stderr",
     "output_type": "stream",
     "text": [
      "Processing ball with output:  75%|███████▌  | 113/150 [01:24<00:26,  1.40frames/s]"
     ]
    },
    {
     "name": "stdout",
     "output_type": "stream",
     "text": [
      "\n",
      "0: 640x1088 (no detections), 448.9ms\n",
      "Speed: 6.2ms preprocess, 448.9ms inference, 2.2ms postprocess per image at shape (1, 3, 640, 1088)\n"
     ]
    },
    {
     "name": "stderr",
     "output_type": "stream",
     "text": [
      "Processing ball with output:  76%|███████▌  | 114/150 [01:25<00:26,  1.36frames/s]"
     ]
    },
    {
     "name": "stdout",
     "output_type": "stream",
     "text": [
      "\n",
      "0: 640x1088 1 ball, 432.9ms\n",
      "Speed: 6.1ms preprocess, 432.9ms inference, 1.0ms postprocess per image at shape (1, 3, 640, 1088)\n"
     ]
    },
    {
     "name": "stderr",
     "output_type": "stream",
     "text": [
      "Processing ball with output:  77%|███████▋  | 115/150 [01:26<00:25,  1.39frames/s]"
     ]
    },
    {
     "name": "stdout",
     "output_type": "stream",
     "text": [
      "\n",
      "0: 640x1088 1 ball, 491.9ms\n",
      "Speed: 5.9ms preprocess, 491.9ms inference, 0.9ms postprocess per image at shape (1, 3, 640, 1088)\n"
     ]
    },
    {
     "name": "stderr",
     "output_type": "stream",
     "text": [
      "Processing ball with output:  77%|███████▋  | 116/150 [01:27<00:25,  1.35frames/s]"
     ]
    },
    {
     "name": "stdout",
     "output_type": "stream",
     "text": [
      "\n",
      "0: 640x1088 (no detections), 471.5ms\n",
      "Speed: 6.2ms preprocess, 471.5ms inference, 0.7ms postprocess per image at shape (1, 3, 640, 1088)\n"
     ]
    },
    {
     "name": "stderr",
     "output_type": "stream",
     "text": [
      "Processing ball with output:  78%|███████▊  | 117/150 [01:27<00:24,  1.32frames/s]"
     ]
    },
    {
     "name": "stdout",
     "output_type": "stream",
     "text": [
      "\n",
      "0: 640x1088 1 ball, 450.2ms\n",
      "Speed: 7.2ms preprocess, 450.2ms inference, 1.1ms postprocess per image at shape (1, 3, 640, 1088)\n"
     ]
    },
    {
     "name": "stderr",
     "output_type": "stream",
     "text": [
      "Processing ball with output:  79%|███████▊  | 118/150 [01:28<00:23,  1.35frames/s]"
     ]
    },
    {
     "name": "stdout",
     "output_type": "stream",
     "text": [
      "\n",
      "0: 640x1088 (no detections), 442.5ms\n",
      "Speed: 7.8ms preprocess, 442.5ms inference, 0.7ms postprocess per image at shape (1, 3, 640, 1088)\n"
     ]
    },
    {
     "name": "stderr",
     "output_type": "stream",
     "text": [
      "Processing ball with output:  79%|███████▉  | 119/150 [01:29<00:22,  1.38frames/s]"
     ]
    },
    {
     "name": "stdout",
     "output_type": "stream",
     "text": [
      "\n",
      "0: 640x1088 (no detections), 444.9ms\n",
      "Speed: 6.1ms preprocess, 444.9ms inference, 0.8ms postprocess per image at shape (1, 3, 640, 1088)\n"
     ]
    },
    {
     "name": "stderr",
     "output_type": "stream",
     "text": [
      "Processing ball with output:  80%|████████  | 120/150 [01:29<00:21,  1.40frames/s]"
     ]
    },
    {
     "name": "stdout",
     "output_type": "stream",
     "text": [
      "\n",
      "0: 640x1088 (no detections), 440.7ms\n",
      "Speed: 6.2ms preprocess, 440.7ms inference, 0.7ms postprocess per image at shape (1, 3, 640, 1088)\n"
     ]
    },
    {
     "name": "stderr",
     "output_type": "stream",
     "text": [
      "Processing ball with output:  81%|████████  | 121/150 [01:30<00:20,  1.42frames/s]"
     ]
    },
    {
     "name": "stdout",
     "output_type": "stream",
     "text": [
      "\n",
      "0: 640x1088 (no detections), 446.8ms\n",
      "Speed: 6.6ms preprocess, 446.8ms inference, 0.6ms postprocess per image at shape (1, 3, 640, 1088)\n"
     ]
    },
    {
     "name": "stderr",
     "output_type": "stream",
     "text": [
      "Processing ball with output:  81%|████████▏ | 122/150 [01:31<00:20,  1.34frames/s]"
     ]
    },
    {
     "name": "stdout",
     "output_type": "stream",
     "text": [
      "\n",
      "0: 640x1088 (no detections), 491.4ms\n",
      "Speed: 6.1ms preprocess, 491.4ms inference, 0.6ms postprocess per image at shape (1, 3, 640, 1088)\n"
     ]
    },
    {
     "name": "stderr",
     "output_type": "stream",
     "text": [
      "Processing ball with output:  82%|████████▏ | 123/150 [01:32<00:20,  1.34frames/s]"
     ]
    },
    {
     "name": "stdout",
     "output_type": "stream",
     "text": [
      "\n",
      "0: 640x1088 (no detections), 518.1ms\n",
      "Speed: 11.8ms preprocess, 518.1ms inference, 0.6ms postprocess per image at shape (1, 3, 640, 1088)\n"
     ]
    },
    {
     "name": "stderr",
     "output_type": "stream",
     "text": [
      "Processing ball with output:  83%|████████▎ | 124/150 [01:32<00:19,  1.32frames/s]"
     ]
    },
    {
     "name": "stdout",
     "output_type": "stream",
     "text": [
      "\n",
      "0: 640x1088 (no detections), 453.8ms\n",
      "Speed: 6.6ms preprocess, 453.8ms inference, 0.6ms postprocess per image at shape (1, 3, 640, 1088)\n"
     ]
    },
    {
     "name": "stderr",
     "output_type": "stream",
     "text": [
      "Processing ball with output:  83%|████████▎ | 125/150 [01:33<00:19,  1.31frames/s]"
     ]
    },
    {
     "name": "stdout",
     "output_type": "stream",
     "text": [
      "\n",
      "0: 640x1088 (no detections), 439.7ms\n",
      "Speed: 5.9ms preprocess, 439.7ms inference, 0.6ms postprocess per image at shape (1, 3, 640, 1088)\n"
     ]
    },
    {
     "name": "stderr",
     "output_type": "stream",
     "text": [
      "Processing ball with output:  84%|████████▍ | 126/150 [01:34<00:17,  1.34frames/s]"
     ]
    },
    {
     "name": "stdout",
     "output_type": "stream",
     "text": [
      "\n",
      "0: 640x1088 (no detections), 446.2ms\n",
      "Speed: 6.2ms preprocess, 446.2ms inference, 0.6ms postprocess per image at shape (1, 3, 640, 1088)\n"
     ]
    },
    {
     "name": "stderr",
     "output_type": "stream",
     "text": [
      "Processing ball with output:  85%|████████▍ | 127/150 [01:35<00:16,  1.37frames/s]"
     ]
    },
    {
     "name": "stdout",
     "output_type": "stream",
     "text": [
      "\n",
      "0: 640x1088 (no detections), 528.5ms\n",
      "Speed: 6.4ms preprocess, 528.5ms inference, 0.6ms postprocess per image at shape (1, 3, 640, 1088)\n"
     ]
    },
    {
     "name": "stderr",
     "output_type": "stream",
     "text": [
      "Processing ball with output:  85%|████████▌ | 128/150 [01:35<00:16,  1.34frames/s]"
     ]
    },
    {
     "name": "stdout",
     "output_type": "stream",
     "text": [
      "\n",
      "0: 640x1088 (no detections), 452.5ms\n",
      "Speed: 6.2ms preprocess, 452.5ms inference, 0.6ms postprocess per image at shape (1, 3, 640, 1088)\n"
     ]
    },
    {
     "name": "stderr",
     "output_type": "stream",
     "text": [
      "Processing ball with output:  86%|████████▌ | 129/150 [01:36<00:15,  1.37frames/s]"
     ]
    },
    {
     "name": "stdout",
     "output_type": "stream",
     "text": [
      "\n",
      "0: 640x1088 (no detections), 434.9ms\n",
      "Speed: 8.6ms preprocess, 434.9ms inference, 0.6ms postprocess per image at shape (1, 3, 640, 1088)\n"
     ]
    },
    {
     "name": "stderr",
     "output_type": "stream",
     "text": [
      "Processing ball with output:  87%|████████▋ | 130/150 [01:37<00:14,  1.36frames/s]"
     ]
    },
    {
     "name": "stdout",
     "output_type": "stream",
     "text": [
      "\n",
      "0: 640x1088 (no detections), 439.2ms\n",
      "Speed: 6.9ms preprocess, 439.2ms inference, 0.7ms postprocess per image at shape (1, 3, 640, 1088)\n"
     ]
    },
    {
     "name": "stderr",
     "output_type": "stream",
     "text": [
      "Processing ball with output:  87%|████████▋ | 131/150 [01:38<00:13,  1.39frames/s]"
     ]
    },
    {
     "name": "stdout",
     "output_type": "stream",
     "text": [
      "\n",
      "0: 640x1088 (no detections), 434.5ms\n",
      "Speed: 6.1ms preprocess, 434.5ms inference, 1.2ms postprocess per image at shape (1, 3, 640, 1088)\n"
     ]
    },
    {
     "name": "stderr",
     "output_type": "stream",
     "text": [
      "Processing ball with output:  88%|████████▊ | 132/150 [01:38<00:12,  1.41frames/s]"
     ]
    },
    {
     "name": "stdout",
     "output_type": "stream",
     "text": [
      "\n",
      "0: 640x1088 (no detections), 454.7ms\n",
      "Speed: 6.3ms preprocess, 454.7ms inference, 0.6ms postprocess per image at shape (1, 3, 640, 1088)\n"
     ]
    },
    {
     "name": "stderr",
     "output_type": "stream",
     "text": [
      "Processing ball with output:  89%|████████▊ | 133/150 [01:39<00:12,  1.33frames/s]"
     ]
    },
    {
     "name": "stdout",
     "output_type": "stream",
     "text": [
      "\n",
      "0: 640x1088 (no detections), 724.9ms\n",
      "Speed: 6.3ms preprocess, 724.9ms inference, 0.6ms postprocess per image at shape (1, 3, 640, 1088)\n"
     ]
    },
    {
     "name": "stderr",
     "output_type": "stream",
     "text": [
      "Processing ball with output:  89%|████████▉ | 134/150 [01:40<00:13,  1.22frames/s]"
     ]
    },
    {
     "name": "stdout",
     "output_type": "stream",
     "text": [
      "\n",
      "0: 640x1088 (no detections), 442.9ms\n",
      "Speed: 6.2ms preprocess, 442.9ms inference, 0.6ms postprocess per image at shape (1, 3, 640, 1088)\n"
     ]
    },
    {
     "name": "stderr",
     "output_type": "stream",
     "text": [
      "Processing ball with output:  90%|█████████ | 135/150 [01:41<00:11,  1.28frames/s]"
     ]
    },
    {
     "name": "stdout",
     "output_type": "stream",
     "text": [
      "\n",
      "0: 640x1088 (no detections), 426.9ms\n",
      "Speed: 7.5ms preprocess, 426.9ms inference, 0.6ms postprocess per image at shape (1, 3, 640, 1088)\n"
     ]
    },
    {
     "name": "stderr",
     "output_type": "stream",
     "text": [
      "Processing ball with output:  91%|█████████ | 136/150 [01:41<00:10,  1.33frames/s]"
     ]
    },
    {
     "name": "stdout",
     "output_type": "stream",
     "text": [
      "\n",
      "0: 640x1088 (no detections), 459.3ms\n",
      "Speed: 6.4ms preprocess, 459.3ms inference, 0.7ms postprocess per image at shape (1, 3, 640, 1088)\n"
     ]
    },
    {
     "name": "stderr",
     "output_type": "stream",
     "text": [
      "Processing ball with output:  91%|█████████▏| 137/150 [01:42<00:09,  1.36frames/s]"
     ]
    },
    {
     "name": "stdout",
     "output_type": "stream",
     "text": [
      "\n",
      "0: 640x1088 (no detections), 462.0ms\n",
      "Speed: 6.3ms preprocess, 462.0ms inference, 0.9ms postprocess per image at shape (1, 3, 640, 1088)\n"
     ]
    },
    {
     "name": "stderr",
     "output_type": "stream",
     "text": [
      "Processing ball with output:  92%|█████████▏| 138/150 [01:43<00:08,  1.37frames/s]"
     ]
    },
    {
     "name": "stdout",
     "output_type": "stream",
     "text": [
      "\n",
      "0: 640x1088 (no detections), 449.0ms\n",
      "Speed: 6.4ms preprocess, 449.0ms inference, 0.6ms postprocess per image at shape (1, 3, 640, 1088)\n"
     ]
    },
    {
     "name": "stderr",
     "output_type": "stream",
     "text": [
      "Processing ball with output:  93%|█████████▎| 139/150 [01:44<00:07,  1.39frames/s]"
     ]
    },
    {
     "name": "stdout",
     "output_type": "stream",
     "text": [
      "\n",
      "0: 640x1088 (no detections), 455.7ms\n",
      "Speed: 6.1ms preprocess, 455.7ms inference, 0.6ms postprocess per image at shape (1, 3, 640, 1088)\n"
     ]
    },
    {
     "name": "stderr",
     "output_type": "stream",
     "text": [
      "Processing ball with output:  93%|█████████▎| 140/150 [01:44<00:07,  1.40frames/s]"
     ]
    },
    {
     "name": "stdout",
     "output_type": "stream",
     "text": [
      "\n",
      "0: 640x1088 (no detections), 471.8ms\n",
      "Speed: 5.9ms preprocess, 471.8ms inference, 0.8ms postprocess per image at shape (1, 3, 640, 1088)\n"
     ]
    },
    {
     "name": "stderr",
     "output_type": "stream",
     "text": [
      "Processing ball with output:  94%|█████████▍| 141/150 [01:45<00:06,  1.29frames/s]"
     ]
    },
    {
     "name": "stdout",
     "output_type": "stream",
     "text": [
      "\n",
      "0: 640x1088 (no detections), 454.3ms\n",
      "Speed: 7.2ms preprocess, 454.3ms inference, 2.1ms postprocess per image at shape (1, 3, 640, 1088)\n"
     ]
    },
    {
     "name": "stderr",
     "output_type": "stream",
     "text": [
      "Processing ball with output:  95%|█████████▍| 142/150 [01:46<00:06,  1.32frames/s]"
     ]
    },
    {
     "name": "stdout",
     "output_type": "stream",
     "text": [
      "\n",
      "0: 640x1088 1 ball, 495.9ms\n",
      "Speed: 7.2ms preprocess, 495.9ms inference, 1.0ms postprocess per image at shape (1, 3, 640, 1088)\n"
     ]
    },
    {
     "name": "stderr",
     "output_type": "stream",
     "text": [
      "Processing ball with output:  95%|█████████▌| 143/150 [01:47<00:05,  1.32frames/s]"
     ]
    },
    {
     "name": "stdout",
     "output_type": "stream",
     "text": [
      "\n",
      "0: 640x1088 (no detections), 459.8ms\n",
      "Speed: 6.8ms preprocess, 459.8ms inference, 0.7ms postprocess per image at shape (1, 3, 640, 1088)\n"
     ]
    },
    {
     "name": "stderr",
     "output_type": "stream",
     "text": [
      "Processing ball with output:  96%|█████████▌| 144/150 [01:47<00:04,  1.34frames/s]"
     ]
    },
    {
     "name": "stdout",
     "output_type": "stream",
     "text": [
      "\n",
      "0: 640x1088 (no detections), 447.2ms\n",
      "Speed: 5.9ms preprocess, 447.2ms inference, 0.6ms postprocess per image at shape (1, 3, 640, 1088)\n"
     ]
    },
    {
     "name": "stderr",
     "output_type": "stream",
     "text": [
      "Processing ball with output:  97%|█████████▋| 145/150 [01:48<00:03,  1.30frames/s]"
     ]
    },
    {
     "name": "stdout",
     "output_type": "stream",
     "text": [
      "\n",
      "0: 640x1088 (no detections), 542.8ms\n",
      "Speed: 7.2ms preprocess, 542.8ms inference, 0.6ms postprocess per image at shape (1, 3, 640, 1088)\n"
     ]
    },
    {
     "name": "stderr",
     "output_type": "stream",
     "text": [
      "Processing ball with output:  97%|█████████▋| 146/150 [01:49<00:03,  1.28frames/s]"
     ]
    },
    {
     "name": "stdout",
     "output_type": "stream",
     "text": [
      "\n",
      "0: 640x1088 (no detections), 436.2ms\n",
      "Speed: 6.3ms preprocess, 436.2ms inference, 0.6ms postprocess per image at shape (1, 3, 640, 1088)\n"
     ]
    },
    {
     "name": "stderr",
     "output_type": "stream",
     "text": [
      "Processing ball with output:  98%|█████████▊| 147/150 [01:50<00:02,  1.33frames/s]"
     ]
    },
    {
     "name": "stdout",
     "output_type": "stream",
     "text": [
      "\n",
      "0: 640x1088 (no detections), 453.4ms\n",
      "Speed: 6.4ms preprocess, 453.4ms inference, 0.7ms postprocess per image at shape (1, 3, 640, 1088)\n"
     ]
    },
    {
     "name": "stderr",
     "output_type": "stream",
     "text": [
      "Processing ball with output:  99%|█████████▊| 148/150 [01:50<00:01,  1.33frames/s]"
     ]
    },
    {
     "name": "stdout",
     "output_type": "stream",
     "text": [
      "\n",
      "0: 640x1088 (no detections), 472.2ms\n",
      "Speed: 5.9ms preprocess, 472.2ms inference, 0.6ms postprocess per image at shape (1, 3, 640, 1088)\n"
     ]
    },
    {
     "name": "stderr",
     "output_type": "stream",
     "text": [
      "Processing ball with output:  99%|█████████▉| 149/150 [01:51<00:00,  1.30frames/s]"
     ]
    },
    {
     "name": "stdout",
     "output_type": "stream",
     "text": [
      "\n",
      "0: 640x1088 (no detections), 503.7ms\n",
      "Speed: 5.9ms preprocess, 503.7ms inference, 0.7ms postprocess per image at shape (1, 3, 640, 1088)\n"
     ]
    },
    {
     "name": "stderr",
     "output_type": "stream",
     "text": [
      "Processing ball with output: 100%|██████████| 150/150 [01:52<00:00,  1.33frames/s]"
     ]
    },
    {
     "name": "stdout",
     "output_type": "stream",
     "text": [
      "Video procesado guardado en: data/test_output_ball_detected_5s.mp4\n"
     ]
    },
    {
     "name": "stderr",
     "output_type": "stream",
     "text": [
      "\n"
     ]
    }
   ],
   "source": [
    "\n",
    "detector = BallYoloDetector()\n",
    "video_processed_ball = detector.process_video_with_output(\"data/video_cortado_output_5s.mp4\", \"data/test_output_ball_detected_5s.mp4\")"
   ]
  },
  {
   "cell_type": "code",
   "execution_count": 4,
   "id": "1261aae9",
   "metadata": {},
   "outputs": [],
   "source": [
    "\n",
    "#detector = PlayerYoloDetector()\n",
    "#video_processed = detector.process_video_with_output(\"data/video_cortado.mp4\")"
   ]
  },
  {
   "cell_type": "code",
   "execution_count": 5,
   "id": "fe77eb7f",
   "metadata": {},
   "outputs": [],
   "source": [
    "#video_processed"
   ]
  }
 ],
 "metadata": {
  "kernelspec": {
   "display_name": "padel-ia-fICo6y9j",
   "language": "python",
   "name": "python3"
  },
  "language_info": {
   "codemirror_mode": {
    "name": "ipython",
    "version": 3
   },
   "file_extension": ".py",
   "mimetype": "text/x-python",
   "name": "python",
   "nbconvert_exporter": "python",
   "pygments_lexer": "ipython3",
   "version": "3.12.3"
  }
 },
 "nbformat": 4,
 "nbformat_minor": 5
}
