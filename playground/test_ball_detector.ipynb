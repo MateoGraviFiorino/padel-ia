{
 "cells": [
  {
   "cell_type": "code",
   "execution_count": 1,
   "id": "c2fce914",
   "metadata": {},
   "outputs": [
    {
     "data": {
      "text/plain": [
       "'/home/tomas/Escritorio/Proyectos/proyecto_vision/padel-ia'"
      ]
     },
     "execution_count": 1,
     "metadata": {},
     "output_type": "execute_result"
    }
   ],
   "source": [
    "import os\n",
    "os.chdir(\"..\")\n",
    "os.getcwd()\n"
   ]
  },
  {
   "cell_type": "code",
   "execution_count": 5,
   "id": "bf5bd6b0",
   "metadata": {},
   "outputs": [],
   "source": [
    "from app.yolo import BallYoloDetector, PlayerYoloDetector"
   ]
  },
  {
   "cell_type": "code",
   "execution_count": 3,
   "id": "8d552308",
   "metadata": {},
   "outputs": [
    {
     "name": "stderr",
     "output_type": "stream",
     "text": [
      "Processing ball detections:   0%|          | 0/45 [00:00<?, ?frames/s]"
     ]
    },
    {
     "name": "stdout",
     "output_type": "stream",
     "text": [
      "\n",
      "0: 544x960 (no detections), 2074.3ms\n",
      "Speed: 9.4ms preprocess, 2074.3ms inference, 5.1ms postprocess per image at shape (1, 3, 544, 960)\n"
     ]
    },
    {
     "name": "stderr",
     "output_type": "stream",
     "text": [
      "Processing ball detections:   2%|▏         | 1/45 [00:05<04:00,  5.45s/frames]"
     ]
    },
    {
     "name": "stdout",
     "output_type": "stream",
     "text": [
      "\n",
      "0: 544x960 (no detections), 1696.4ms\n",
      "Speed: 4.7ms preprocess, 1696.4ms inference, 0.7ms postprocess per image at shape (1, 3, 544, 960)\n"
     ]
    },
    {
     "name": "stderr",
     "output_type": "stream",
     "text": [
      "Processing ball detections:   4%|▍         | 2/45 [00:08<02:43,  3.81s/frames]"
     ]
    },
    {
     "name": "stdout",
     "output_type": "stream",
     "text": [
      "\n",
      "0: 544x960 (no detections), 1994.0ms\n",
      "Speed: 4.0ms preprocess, 1994.0ms inference, 0.8ms postprocess per image at shape (1, 3, 544, 960)\n"
     ]
    },
    {
     "name": "stderr",
     "output_type": "stream",
     "text": [
      "Processing ball detections:   7%|▋         | 3/45 [00:11<02:23,  3.43s/frames]"
     ]
    },
    {
     "name": "stdout",
     "output_type": "stream",
     "text": [
      "\n",
      "0: 544x960 (no detections), 1902.1ms\n",
      "Speed: 4.7ms preprocess, 1902.1ms inference, 0.6ms postprocess per image at shape (1, 3, 544, 960)\n"
     ]
    },
    {
     "name": "stderr",
     "output_type": "stream",
     "text": [
      "Processing ball detections:   9%|▉         | 4/45 [00:14<02:14,  3.27s/frames]"
     ]
    },
    {
     "name": "stdout",
     "output_type": "stream",
     "text": [
      "\n",
      "0: 544x960 (no detections), 1815.3ms\n",
      "Speed: 5.0ms preprocess, 1815.3ms inference, 0.7ms postprocess per image at shape (1, 3, 544, 960)\n"
     ]
    },
    {
     "name": "stderr",
     "output_type": "stream",
     "text": [
      "Processing ball detections:  11%|█         | 5/45 [00:16<02:04,  3.11s/frames]"
     ]
    },
    {
     "name": "stdout",
     "output_type": "stream",
     "text": [
      "\n",
      "0: 544x960 (no detections), 1724.7ms\n",
      "Speed: 3.9ms preprocess, 1724.7ms inference, 0.8ms postprocess per image at shape (1, 3, 544, 960)\n"
     ]
    },
    {
     "name": "stderr",
     "output_type": "stream",
     "text": [
      "Processing ball detections:  13%|█▎        | 6/45 [00:19<01:55,  2.96s/frames]"
     ]
    },
    {
     "name": "stdout",
     "output_type": "stream",
     "text": [
      "\n",
      "0: 544x960 (no detections), 1681.3ms\n",
      "Speed: 4.6ms preprocess, 1681.3ms inference, 0.8ms postprocess per image at shape (1, 3, 544, 960)\n"
     ]
    },
    {
     "name": "stderr",
     "output_type": "stream",
     "text": [
      "Processing ball detections:  16%|█▌        | 7/45 [00:22<01:47,  2.84s/frames]"
     ]
    },
    {
     "name": "stdout",
     "output_type": "stream",
     "text": [
      "\n",
      "0: 544x960 (no detections), 1746.0ms\n",
      "Speed: 4.2ms preprocess, 1746.0ms inference, 0.8ms postprocess per image at shape (1, 3, 544, 960)\n"
     ]
    },
    {
     "name": "stderr",
     "output_type": "stream",
     "text": [
      "Processing ball detections:  18%|█▊        | 8/45 [00:24<01:43,  2.80s/frames]"
     ]
    },
    {
     "name": "stdout",
     "output_type": "stream",
     "text": [
      "\n",
      "0: 544x960 (no detections), 1820.1ms\n",
      "Speed: 4.5ms preprocess, 1820.1ms inference, 0.9ms postprocess per image at shape (1, 3, 544, 960)\n"
     ]
    },
    {
     "name": "stderr",
     "output_type": "stream",
     "text": [
      "Processing ball detections:  20%|██        | 9/45 [00:27<01:42,  2.84s/frames]"
     ]
    },
    {
     "name": "stdout",
     "output_type": "stream",
     "text": [
      "\n",
      "0: 544x960 (no detections), 1784.6ms\n",
      "Speed: 5.1ms preprocess, 1784.6ms inference, 0.6ms postprocess per image at shape (1, 3, 544, 960)\n"
     ]
    },
    {
     "name": "stderr",
     "output_type": "stream",
     "text": [
      "Processing ball detections:  22%|██▏       | 10/45 [00:30<01:38,  2.81s/frames]"
     ]
    },
    {
     "name": "stdout",
     "output_type": "stream",
     "text": [
      "\n",
      "0: 544x960 (no detections), 1625.7ms\n",
      "Speed: 5.0ms preprocess, 1625.7ms inference, 0.6ms postprocess per image at shape (1, 3, 544, 960)\n"
     ]
    },
    {
     "name": "stderr",
     "output_type": "stream",
     "text": [
      "Processing ball detections:  24%|██▍       | 11/45 [00:33<01:32,  2.73s/frames]"
     ]
    },
    {
     "name": "stdout",
     "output_type": "stream",
     "text": [
      "\n",
      "0: 544x960 (no detections), 1720.4ms\n",
      "Speed: 5.9ms preprocess, 1720.4ms inference, 0.6ms postprocess per image at shape (1, 3, 544, 960)\n"
     ]
    },
    {
     "name": "stderr",
     "output_type": "stream",
     "text": [
      "Processing ball detections:  27%|██▋       | 12/45 [00:35<01:29,  2.72s/frames]"
     ]
    },
    {
     "name": "stdout",
     "output_type": "stream",
     "text": [
      "\n",
      "0: 544x960 (no detections), 1735.8ms\n",
      "Speed: 4.1ms preprocess, 1735.8ms inference, 0.6ms postprocess per image at shape (1, 3, 544, 960)\n"
     ]
    },
    {
     "name": "stderr",
     "output_type": "stream",
     "text": [
      "Processing ball detections:  29%|██▉       | 13/45 [00:38<01:28,  2.77s/frames]"
     ]
    },
    {
     "name": "stdout",
     "output_type": "stream",
     "text": [
      "\n",
      "0: 544x960 (no detections), 1922.2ms\n",
      "Speed: 5.0ms preprocess, 1922.2ms inference, 0.6ms postprocess per image at shape (1, 3, 544, 960)\n"
     ]
    },
    {
     "name": "stderr",
     "output_type": "stream",
     "text": [
      "Processing ball detections:  31%|███       | 14/45 [00:41<01:29,  2.87s/frames]"
     ]
    },
    {
     "name": "stdout",
     "output_type": "stream",
     "text": [
      "\n",
      "0: 544x960 (no detections), 1915.3ms\n",
      "Speed: 5.0ms preprocess, 1915.3ms inference, 0.6ms postprocess per image at shape (1, 3, 544, 960)\n"
     ]
    },
    {
     "name": "stderr",
     "output_type": "stream",
     "text": [
      "Processing ball detections:  33%|███▎      | 15/45 [00:44<01:27,  2.92s/frames]"
     ]
    },
    {
     "name": "stdout",
     "output_type": "stream",
     "text": [
      "\n",
      "0: 544x960 1 tennis ball, 1723.8ms\n",
      "Speed: 5.1ms preprocess, 1723.8ms inference, 25.6ms postprocess per image at shape (1, 3, 544, 960)\n"
     ]
    },
    {
     "name": "stderr",
     "output_type": "stream",
     "text": [
      "Processing ball detections:  36%|███▌      | 16/45 [00:47<01:23,  2.87s/frames]"
     ]
    },
    {
     "name": "stdout",
     "output_type": "stream",
     "text": [
      "\n",
      "0: 544x960 1 tennis ball, 1678.6ms\n",
      "Speed: 4.3ms preprocess, 1678.6ms inference, 1.0ms postprocess per image at shape (1, 3, 544, 960)\n"
     ]
    },
    {
     "name": "stderr",
     "output_type": "stream",
     "text": [
      "Processing ball detections:  38%|███▊      | 17/45 [00:50<01:18,  2.80s/frames]"
     ]
    },
    {
     "name": "stdout",
     "output_type": "stream",
     "text": [
      "\n",
      "0: 544x960 1 tennis ball, 2049.4ms\n",
      "Speed: 4.2ms preprocess, 2049.4ms inference, 1.9ms postprocess per image at shape (1, 3, 544, 960)\n"
     ]
    },
    {
     "name": "stderr",
     "output_type": "stream",
     "text": [
      "Processing ball detections:  40%|████      | 18/45 [00:53<01:16,  2.85s/frames]"
     ]
    },
    {
     "name": "stdout",
     "output_type": "stream",
     "text": [
      "\n",
      "0: 544x960 1 tennis ball, 1907.8ms\n",
      "Speed: 4.5ms preprocess, 1907.8ms inference, 1.1ms postprocess per image at shape (1, 3, 544, 960)\n"
     ]
    },
    {
     "name": "stderr",
     "output_type": "stream",
     "text": [
      "Processing ball detections:  42%|████▏     | 19/45 [00:56<01:14,  2.85s/frames]"
     ]
    },
    {
     "name": "stdout",
     "output_type": "stream",
     "text": [
      "\n",
      "0: 544x960 1 tennis ball, 1882.8ms\n",
      "Speed: 5.2ms preprocess, 1882.8ms inference, 0.9ms postprocess per image at shape (1, 3, 544, 960)\n"
     ]
    },
    {
     "name": "stderr",
     "output_type": "stream",
     "text": [
      "Processing ball detections:  44%|████▍     | 20/45 [00:59<01:13,  2.92s/frames]"
     ]
    },
    {
     "name": "stdout",
     "output_type": "stream",
     "text": [
      "\n",
      "0: 544x960 (no detections), 1747.0ms\n",
      "Speed: 4.8ms preprocess, 1747.0ms inference, 0.5ms postprocess per image at shape (1, 3, 544, 960)\n"
     ]
    },
    {
     "name": "stderr",
     "output_type": "stream",
     "text": [
      "Processing ball detections:  47%|████▋     | 21/45 [01:01<01:09,  2.89s/frames]"
     ]
    },
    {
     "name": "stdout",
     "output_type": "stream",
     "text": [
      "\n",
      "0: 544x960 (no detections), 1939.0ms\n",
      "Speed: 4.9ms preprocess, 1939.0ms inference, 3.5ms postprocess per image at shape (1, 3, 544, 960)\n"
     ]
    },
    {
     "name": "stderr",
     "output_type": "stream",
     "text": [
      "Processing ball detections:  49%|████▉     | 22/45 [01:04<01:06,  2.91s/frames]"
     ]
    },
    {
     "name": "stdout",
     "output_type": "stream",
     "text": [
      "\n",
      "0: 544x960 (no detections), 1766.0ms\n",
      "Speed: 4.9ms preprocess, 1766.0ms inference, 0.8ms postprocess per image at shape (1, 3, 544, 960)\n"
     ]
    },
    {
     "name": "stderr",
     "output_type": "stream",
     "text": [
      "Processing ball detections:  51%|█████     | 23/45 [01:07<01:03,  2.88s/frames]"
     ]
    },
    {
     "name": "stdout",
     "output_type": "stream",
     "text": [
      "\n",
      "0: 544x960 (no detections), 1709.3ms\n",
      "Speed: 4.4ms preprocess, 1709.3ms inference, 0.6ms postprocess per image at shape (1, 3, 544, 960)\n"
     ]
    },
    {
     "name": "stderr",
     "output_type": "stream",
     "text": [
      "Processing ball detections:  53%|█████▎    | 24/45 [01:10<01:00,  2.87s/frames]"
     ]
    },
    {
     "name": "stdout",
     "output_type": "stream",
     "text": [
      "\n",
      "0: 544x960 (no detections), 1820.4ms\n",
      "Speed: 4.2ms preprocess, 1820.4ms inference, 0.9ms postprocess per image at shape (1, 3, 544, 960)\n"
     ]
    },
    {
     "name": "stderr",
     "output_type": "stream",
     "text": [
      "Processing ball detections:  56%|█████▌    | 25/45 [01:13<00:57,  2.87s/frames]"
     ]
    },
    {
     "name": "stdout",
     "output_type": "stream",
     "text": [
      "\n",
      "0: 544x960 (no detections), 2046.7ms\n",
      "Speed: 5.2ms preprocess, 2046.7ms inference, 0.6ms postprocess per image at shape (1, 3, 544, 960)\n"
     ]
    },
    {
     "name": "stderr",
     "output_type": "stream",
     "text": [
      "Processing ball detections:  58%|█████▊    | 26/45 [01:16<00:57,  3.01s/frames]"
     ]
    },
    {
     "name": "stdout",
     "output_type": "stream",
     "text": [
      "\n",
      "0: 544x960 (no detections), 1786.4ms\n",
      "Speed: 4.6ms preprocess, 1786.4ms inference, 0.6ms postprocess per image at shape (1, 3, 544, 960)\n"
     ]
    },
    {
     "name": "stderr",
     "output_type": "stream",
     "text": [
      "Processing ball detections:  60%|██████    | 27/45 [01:19<00:52,  2.92s/frames]"
     ]
    },
    {
     "name": "stdout",
     "output_type": "stream",
     "text": [
      "\n",
      "0: 544x960 (no detections), 1684.6ms\n",
      "Speed: 4.8ms preprocess, 1684.6ms inference, 0.6ms postprocess per image at shape (1, 3, 544, 960)\n"
     ]
    },
    {
     "name": "stderr",
     "output_type": "stream",
     "text": [
      "Processing ball detections:  62%|██████▏   | 28/45 [01:22<00:48,  2.83s/frames]"
     ]
    },
    {
     "name": "stdout",
     "output_type": "stream",
     "text": [
      "\n",
      "0: 544x960 (no detections), 1623.8ms\n",
      "Speed: 4.7ms preprocess, 1623.8ms inference, 0.6ms postprocess per image at shape (1, 3, 544, 960)\n"
     ]
    },
    {
     "name": "stderr",
     "output_type": "stream",
     "text": [
      "Processing ball detections:  64%|██████▍   | 29/45 [01:24<00:44,  2.75s/frames]"
     ]
    },
    {
     "name": "stdout",
     "output_type": "stream",
     "text": [
      "\n",
      "0: 544x960 (no detections), 1833.3ms\n",
      "Speed: 3.9ms preprocess, 1833.3ms inference, 0.6ms postprocess per image at shape (1, 3, 544, 960)\n"
     ]
    },
    {
     "name": "stderr",
     "output_type": "stream",
     "text": [
      "Processing ball detections:  67%|██████▋   | 30/45 [01:27<00:41,  2.75s/frames]"
     ]
    },
    {
     "name": "stdout",
     "output_type": "stream",
     "text": [
      "\n",
      "0: 544x960 (no detections), 1667.8ms\n",
      "Speed: 4.1ms preprocess, 1667.8ms inference, 0.7ms postprocess per image at shape (1, 3, 544, 960)\n"
     ]
    },
    {
     "name": "stderr",
     "output_type": "stream",
     "text": [
      "Processing ball detections:  69%|██████▉   | 31/45 [01:29<00:37,  2.70s/frames]"
     ]
    },
    {
     "name": "stdout",
     "output_type": "stream",
     "text": [
      "\n",
      "0: 544x960 (no detections), 1690.2ms\n",
      "Speed: 3.9ms preprocess, 1690.2ms inference, 0.7ms postprocess per image at shape (1, 3, 544, 960)\n"
     ]
    },
    {
     "name": "stderr",
     "output_type": "stream",
     "text": [
      "Processing ball detections:  71%|███████   | 32/45 [01:32<00:34,  2.67s/frames]"
     ]
    },
    {
     "name": "stdout",
     "output_type": "stream",
     "text": [
      "\n",
      "0: 544x960 (no detections), 1769.4ms\n",
      "Speed: 4.1ms preprocess, 1769.4ms inference, 0.6ms postprocess per image at shape (1, 3, 544, 960)\n"
     ]
    },
    {
     "name": "stderr",
     "output_type": "stream",
     "text": [
      "Processing ball detections:  73%|███████▎  | 33/45 [01:35<00:32,  2.73s/frames]"
     ]
    },
    {
     "name": "stdout",
     "output_type": "stream",
     "text": [
      "\n",
      "0: 544x960 (no detections), 1690.3ms\n",
      "Speed: 4.9ms preprocess, 1690.3ms inference, 0.5ms postprocess per image at shape (1, 3, 544, 960)\n"
     ]
    },
    {
     "name": "stderr",
     "output_type": "stream",
     "text": [
      "Processing ball detections:  76%|███████▌  | 34/45 [01:38<00:29,  2.70s/frames]"
     ]
    },
    {
     "name": "stdout",
     "output_type": "stream",
     "text": [
      "\n",
      "0: 544x960 (no detections), 1691.3ms\n",
      "Speed: 4.3ms preprocess, 1691.3ms inference, 0.6ms postprocess per image at shape (1, 3, 544, 960)\n"
     ]
    },
    {
     "name": "stderr",
     "output_type": "stream",
     "text": [
      "Processing ball detections:  78%|███████▊  | 35/45 [01:40<00:26,  2.69s/frames]"
     ]
    },
    {
     "name": "stdout",
     "output_type": "stream",
     "text": [
      "\n",
      "0: 544x960 (no detections), 1683.5ms\n",
      "Speed: 4.4ms preprocess, 1683.5ms inference, 0.7ms postprocess per image at shape (1, 3, 544, 960)\n"
     ]
    },
    {
     "name": "stderr",
     "output_type": "stream",
     "text": [
      "Processing ball detections:  80%|████████  | 36/45 [01:43<00:24,  2.67s/frames]"
     ]
    },
    {
     "name": "stdout",
     "output_type": "stream",
     "text": [
      "\n",
      "0: 544x960 (no detections), 1690.0ms\n",
      "Speed: 4.2ms preprocess, 1690.0ms inference, 1.9ms postprocess per image at shape (1, 3, 544, 960)\n"
     ]
    },
    {
     "name": "stderr",
     "output_type": "stream",
     "text": [
      "Processing ball detections:  82%|████████▏ | 37/45 [01:46<00:21,  2.65s/frames]"
     ]
    },
    {
     "name": "stdout",
     "output_type": "stream",
     "text": [
      "\n",
      "0: 544x960 (no detections), 1843.5ms\n",
      "Speed: 6.9ms preprocess, 1843.5ms inference, 0.6ms postprocess per image at shape (1, 3, 544, 960)\n"
     ]
    },
    {
     "name": "stderr",
     "output_type": "stream",
     "text": [
      "Processing ball detections:  84%|████████▍ | 38/45 [01:48<00:19,  2.75s/frames]"
     ]
    },
    {
     "name": "stdout",
     "output_type": "stream",
     "text": [
      "\n",
      "0: 544x960 (no detections), 1763.6ms\n",
      "Speed: 5.6ms preprocess, 1763.6ms inference, 0.6ms postprocess per image at shape (1, 3, 544, 960)\n"
     ]
    },
    {
     "name": "stderr",
     "output_type": "stream",
     "text": [
      "Processing ball detections:  87%|████████▋ | 39/45 [01:51<00:16,  2.75s/frames]"
     ]
    },
    {
     "name": "stdout",
     "output_type": "stream",
     "text": [
      "\n",
      "0: 544x960 (no detections), 1823.2ms\n",
      "Speed: 4.7ms preprocess, 1823.2ms inference, 0.6ms postprocess per image at shape (1, 3, 544, 960)\n"
     ]
    },
    {
     "name": "stderr",
     "output_type": "stream",
     "text": [
      "Processing ball detections:  89%|████████▉ | 40/45 [01:54<00:13,  2.79s/frames]"
     ]
    },
    {
     "name": "stdout",
     "output_type": "stream",
     "text": [
      "\n",
      "0: 544x960 (no detections), 1707.2ms\n",
      "Speed: 4.7ms preprocess, 1707.2ms inference, 0.6ms postprocess per image at shape (1, 3, 544, 960)\n"
     ]
    },
    {
     "name": "stderr",
     "output_type": "stream",
     "text": [
      "Processing ball detections:  91%|█████████ | 41/45 [01:57<00:10,  2.75s/frames]"
     ]
    },
    {
     "name": "stdout",
     "output_type": "stream",
     "text": [
      "\n",
      "0: 544x960 (no detections), 1648.0ms\n",
      "Speed: 4.1ms preprocess, 1648.0ms inference, 0.6ms postprocess per image at shape (1, 3, 544, 960)\n"
     ]
    },
    {
     "name": "stderr",
     "output_type": "stream",
     "text": [
      "Processing ball detections:  93%|█████████▎| 42/45 [01:59<00:08,  2.70s/frames]"
     ]
    },
    {
     "name": "stdout",
     "output_type": "stream",
     "text": [
      "\n",
      "0: 544x960 (no detections), 1792.8ms\n",
      "Speed: 4.7ms preprocess, 1792.8ms inference, 0.7ms postprocess per image at shape (1, 3, 544, 960)\n"
     ]
    },
    {
     "name": "stderr",
     "output_type": "stream",
     "text": [
      "Processing ball detections:  96%|█████████▌| 43/45 [02:02<00:05,  2.70s/frames]"
     ]
    },
    {
     "name": "stdout",
     "output_type": "stream",
     "text": [
      "\n",
      "0: 544x960 (no detections), 1896.8ms\n",
      "Speed: 4.7ms preprocess, 1896.8ms inference, 0.6ms postprocess per image at shape (1, 3, 544, 960)\n"
     ]
    },
    {
     "name": "stderr",
     "output_type": "stream",
     "text": [
      "Processing ball detections:  98%|█████████▊| 44/45 [02:05<00:02,  2.79s/frames]"
     ]
    },
    {
     "name": "stdout",
     "output_type": "stream",
     "text": [
      "\n",
      "0: 544x960 (no detections), 1783.0ms\n",
      "Speed: 7.1ms preprocess, 1783.0ms inference, 0.6ms postprocess per image at shape (1, 3, 544, 960)\n"
     ]
    },
    {
     "name": "stderr",
     "output_type": "stream",
     "text": [
      "Processing ball detections: 100%|██████████| 45/45 [02:08<00:00,  2.85s/frames]\n"
     ]
    }
   ],
   "source": [
    "\n",
    "detector = BallYoloDetector()\n",
    "video_processed = detector.process_video(\"data/video_cortado.mp4\")"
   ]
  },
  {
   "cell_type": "code",
   "execution_count": 4,
   "id": "184b8894",
   "metadata": {},
   "outputs": [
    {
     "data": {
      "text/plain": [
       "DetectionResultVideo(frame_detections=[DetectionResultFrame(box=[403.0492858886719, 127.20198822021484, 414.8090515136719, 139.2366180419922], confidence=0.5432834625244141, class_name='ball'), DetectionResultFrame(box=[399.0586853027344, 115.8934555053711, 411.5763244628906, 129.05128479003906], confidence=0.32108834385871887, class_name='ball'), DetectionResultFrame(box=[399.0328063964844, 115.85999298095703, 411.6348571777344, 129.10336303710938], confidence=0.2999870181083679, class_name='ball'), DetectionResultFrame(box=[395.51611328125, 105.57086181640625, 407.888671875, 118.3193588256836], confidence=0.3561194837093353, class_name='ball'), DetectionResultFrame(box=[391.3313903808594, 95.94112396240234, 403.9364318847656, 108.80517578125], confidence=0.6314639449119568, class_name='ball')])"
      ]
     },
     "execution_count": 4,
     "metadata": {},
     "output_type": "execute_result"
    }
   ],
   "source": [
    "video_processed"
   ]
  },
  {
   "cell_type": "code",
   "execution_count": 7,
   "id": "1261aae9",
   "metadata": {},
   "outputs": [
    {
     "name": "stderr",
     "output_type": "stream",
     "text": [
      "Processing player detections:   0%|          | 0/45 [00:00<?, ?frames/s]"
     ]
    },
    {
     "name": "stdout",
     "output_type": "stream",
     "text": [
      "\n",
      "0: 384x640 6 persons, 1 car, 1 tv, 884.3ms\n",
      "Speed: 1.9ms preprocess, 884.3ms inference, 9.2ms postprocess per image at shape (1, 3, 384, 640)\n"
     ]
    },
    {
     "name": "stderr",
     "output_type": "stream",
     "text": [
      "Processing player detections:   2%|▏         | 1/45 [00:01<01:27,  1.98s/frames]"
     ]
    },
    {
     "name": "stdout",
     "output_type": "stream",
     "text": [
      "\n",
      "0: 384x640 6 persons, 1 car, 1 tv, 815.2ms\n",
      "Speed: 1.7ms preprocess, 815.2ms inference, 1.0ms postprocess per image at shape (1, 3, 384, 640)\n"
     ]
    },
    {
     "name": "stderr",
     "output_type": "stream",
     "text": [
      "Processing player detections:   4%|▍         | 2/45 [00:03<01:18,  1.84s/frames]"
     ]
    },
    {
     "name": "stdout",
     "output_type": "stream",
     "text": [
      "\n",
      "0: 384x640 6 persons, 1 car, 1 tv, 862.2ms\n",
      "Speed: 2.7ms preprocess, 862.2ms inference, 0.9ms postprocess per image at shape (1, 3, 384, 640)\n"
     ]
    },
    {
     "name": "stderr",
     "output_type": "stream",
     "text": [
      "Processing player detections:   7%|▋         | 3/45 [00:05<01:20,  1.91s/frames]"
     ]
    },
    {
     "name": "stdout",
     "output_type": "stream",
     "text": [
      "\n",
      "0: 384x640 7 persons, 1 car, 1 tv, 873.2ms\n",
      "Speed: 2.3ms preprocess, 873.2ms inference, 1.1ms postprocess per image at shape (1, 3, 384, 640)\n"
     ]
    },
    {
     "name": "stderr",
     "output_type": "stream",
     "text": [
      "Processing player detections:   9%|▉         | 4/45 [00:07<01:17,  1.88s/frames]"
     ]
    },
    {
     "name": "stdout",
     "output_type": "stream",
     "text": [
      "\n",
      "0: 384x640 7 persons, 1 car, 1 tv, 820.2ms\n",
      "Speed: 2.4ms preprocess, 820.2ms inference, 1.0ms postprocess per image at shape (1, 3, 384, 640)\n"
     ]
    },
    {
     "name": "stderr",
     "output_type": "stream",
     "text": [
      "Processing player detections:  11%|█         | 5/45 [00:09<01:13,  1.84s/frames]"
     ]
    },
    {
     "name": "stdout",
     "output_type": "stream",
     "text": [
      "\n",
      "0: 384x640 7 persons, 1 tennis racket, 1 tv, 831.7ms\n",
      "Speed: 2.1ms preprocess, 831.7ms inference, 0.9ms postprocess per image at shape (1, 3, 384, 640)\n"
     ]
    },
    {
     "name": "stderr",
     "output_type": "stream",
     "text": [
      "Processing player detections:  13%|█▎        | 6/45 [00:11<01:10,  1.81s/frames]"
     ]
    },
    {
     "name": "stdout",
     "output_type": "stream",
     "text": [
      "\n",
      "0: 384x640 7 persons, 1 tennis racket, 1 tv, 844.2ms\n",
      "Speed: 1.8ms preprocess, 844.2ms inference, 1.0ms postprocess per image at shape (1, 3, 384, 640)\n"
     ]
    },
    {
     "name": "stderr",
     "output_type": "stream",
     "text": [
      "Processing player detections:  16%|█▌        | 7/45 [00:12<01:08,  1.80s/frames]"
     ]
    },
    {
     "name": "stdout",
     "output_type": "stream",
     "text": [
      "\n",
      "0: 384x640 7 persons, 1 car, 1 tennis racket, 1 tv, 832.2ms\n",
      "Speed: 1.9ms preprocess, 832.2ms inference, 1.0ms postprocess per image at shape (1, 3, 384, 640)\n"
     ]
    },
    {
     "name": "stderr",
     "output_type": "stream",
     "text": [
      "Processing player detections:  18%|█▊        | 8/45 [00:14<01:05,  1.78s/frames]"
     ]
    },
    {
     "name": "stdout",
     "output_type": "stream",
     "text": [
      "\n",
      "0: 384x640 7 persons, 1 car, 1 tennis racket, 1 tv, 875.1ms\n",
      "Speed: 2.0ms preprocess, 875.1ms inference, 1.0ms postprocess per image at shape (1, 3, 384, 640)\n"
     ]
    },
    {
     "name": "stderr",
     "output_type": "stream",
     "text": [
      "Processing player detections:  20%|██        | 9/45 [00:16<01:06,  1.86s/frames]"
     ]
    },
    {
     "name": "stdout",
     "output_type": "stream",
     "text": [
      "\n",
      "0: 384x640 7 persons, 1 car, 1 sports ball, 1 tv, 914.1ms\n",
      "Speed: 1.7ms preprocess, 914.1ms inference, 1.0ms postprocess per image at shape (1, 3, 384, 640)\n"
     ]
    },
    {
     "name": "stderr",
     "output_type": "stream",
     "text": [
      "Processing player detections:  22%|██▏       | 10/45 [00:18<01:05,  1.87s/frames]"
     ]
    },
    {
     "name": "stdout",
     "output_type": "stream",
     "text": [
      "\n",
      "0: 384x640 7 persons, 1 car, 1 tv, 1109.2ms\n",
      "Speed: 1.9ms preprocess, 1109.2ms inference, 0.9ms postprocess per image at shape (1, 3, 384, 640)\n"
     ]
    },
    {
     "name": "stderr",
     "output_type": "stream",
     "text": [
      "Processing player detections:  24%|██▍       | 11/45 [00:20<01:07,  1.99s/frames]"
     ]
    },
    {
     "name": "stdout",
     "output_type": "stream",
     "text": [
      "\n",
      "0: 384x640 7 persons, 1 car, 1 tv, 1174.5ms\n",
      "Speed: 4.7ms preprocess, 1174.5ms inference, 1.1ms postprocess per image at shape (1, 3, 384, 640)\n"
     ]
    },
    {
     "name": "stderr",
     "output_type": "stream",
     "text": [
      "Processing player detections:  27%|██▋       | 12/45 [00:23<01:09,  2.12s/frames]"
     ]
    },
    {
     "name": "stdout",
     "output_type": "stream",
     "text": [
      "\n",
      "0: 384x640 7 persons, 1 car, 1 tv, 1181.1ms\n",
      "Speed: 2.6ms preprocess, 1181.1ms inference, 1.2ms postprocess per image at shape (1, 3, 384, 640)\n"
     ]
    },
    {
     "name": "stderr",
     "output_type": "stream",
     "text": [
      "Processing player detections:  29%|██▉       | 13/45 [00:25<01:09,  2.18s/frames]"
     ]
    },
    {
     "name": "stdout",
     "output_type": "stream",
     "text": [
      "\n",
      "0: 384x640 7 persons, 1 tv, 986.2ms\n",
      "Speed: 1.9ms preprocess, 986.2ms inference, 1.1ms postprocess per image at shape (1, 3, 384, 640)\n"
     ]
    },
    {
     "name": "stderr",
     "output_type": "stream",
     "text": [
      "Processing player detections:  31%|███       | 14/45 [00:27<01:08,  2.20s/frames]"
     ]
    },
    {
     "name": "stdout",
     "output_type": "stream",
     "text": [
      "\n",
      "0: 384x640 7 persons, 1 car, 1 tv, 835.4ms\n",
      "Speed: 1.7ms preprocess, 835.4ms inference, 1.2ms postprocess per image at shape (1, 3, 384, 640)\n"
     ]
    },
    {
     "name": "stderr",
     "output_type": "stream",
     "text": [
      "Processing player detections:  33%|███▎      | 15/45 [00:29<01:02,  2.07s/frames]"
     ]
    },
    {
     "name": "stdout",
     "output_type": "stream",
     "text": [
      "\n",
      "0: 384x640 7 persons, 1 car, 1 tv, 1185.8ms\n",
      "Speed: 2.6ms preprocess, 1185.8ms inference, 1.1ms postprocess per image at shape (1, 3, 384, 640)\n"
     ]
    },
    {
     "name": "stderr",
     "output_type": "stream",
     "text": [
      "Processing player detections:  36%|███▌      | 16/45 [00:32<01:03,  2.20s/frames]"
     ]
    },
    {
     "name": "stdout",
     "output_type": "stream",
     "text": [
      "\n",
      "0: 384x640 8 persons, 1 car, 1 tv, 1054.3ms\n",
      "Speed: 2.0ms preprocess, 1054.3ms inference, 1.0ms postprocess per image at shape (1, 3, 384, 640)\n"
     ]
    },
    {
     "name": "stderr",
     "output_type": "stream",
     "text": [
      "Processing player detections:  38%|███▊      | 17/45 [00:34<01:01,  2.19s/frames]"
     ]
    },
    {
     "name": "stdout",
     "output_type": "stream",
     "text": [
      "\n",
      "0: 384x640 8 persons, 1 car, 1 tv, 1132.4ms\n",
      "Speed: 2.7ms preprocess, 1132.4ms inference, 1.0ms postprocess per image at shape (1, 3, 384, 640)\n"
     ]
    },
    {
     "name": "stderr",
     "output_type": "stream",
     "text": [
      "Processing player detections:  40%|████      | 18/45 [00:37<01:08,  2.52s/frames]"
     ]
    },
    {
     "name": "stdout",
     "output_type": "stream",
     "text": [
      "\n",
      "0: 384x640 8 persons, 1 car, 1 tv, 1050.5ms\n",
      "Speed: 2.1ms preprocess, 1050.5ms inference, 1.0ms postprocess per image at shape (1, 3, 384, 640)\n"
     ]
    },
    {
     "name": "stderr",
     "output_type": "stream",
     "text": [
      "Processing player detections:  42%|████▏     | 19/45 [00:39<01:02,  2.39s/frames]"
     ]
    },
    {
     "name": "stdout",
     "output_type": "stream",
     "text": [
      "\n",
      "0: 384x640 7 persons, 1 car, 2 tennis rackets, 1 tv, 1077.2ms\n",
      "Speed: 2.3ms preprocess, 1077.2ms inference, 1.4ms postprocess per image at shape (1, 3, 384, 640)\n"
     ]
    },
    {
     "name": "stderr",
     "output_type": "stream",
     "text": [
      "Processing player detections:  44%|████▍     | 20/45 [00:41<00:58,  2.34s/frames]"
     ]
    },
    {
     "name": "stdout",
     "output_type": "stream",
     "text": [
      "\n",
      "0: 384x640 7 persons, 1 car, 2 tennis rackets, 1 tv, 838.5ms\n",
      "Speed: 2.5ms preprocess, 838.5ms inference, 0.9ms postprocess per image at shape (1, 3, 384, 640)\n"
     ]
    },
    {
     "name": "stderr",
     "output_type": "stream",
     "text": [
      "Processing player detections:  47%|████▋     | 21/45 [00:43<00:53,  2.24s/frames]"
     ]
    },
    {
     "name": "stdout",
     "output_type": "stream",
     "text": [
      "\n",
      "0: 384x640 7 persons, 1 car, 2 tennis rackets, 1 tv, 879.0ms\n",
      "Speed: 2.3ms preprocess, 879.0ms inference, 1.0ms postprocess per image at shape (1, 3, 384, 640)\n"
     ]
    },
    {
     "name": "stderr",
     "output_type": "stream",
     "text": [
      "Processing player detections:  49%|████▉     | 22/45 [00:45<00:48,  2.11s/frames]"
     ]
    },
    {
     "name": "stdout",
     "output_type": "stream",
     "text": [
      "\n",
      "0: 384x640 7 persons, 1 car, 2 tennis rackets, 1 tv, 938.4ms\n",
      "Speed: 2.0ms preprocess, 938.4ms inference, 0.9ms postprocess per image at shape (1, 3, 384, 640)\n"
     ]
    },
    {
     "name": "stderr",
     "output_type": "stream",
     "text": [
      "Processing player detections:  51%|█████     | 23/45 [00:47<00:44,  2.04s/frames]"
     ]
    },
    {
     "name": "stdout",
     "output_type": "stream",
     "text": [
      "\n",
      "0: 384x640 6 persons, 1 car, 2 tennis rackets, 1 tv, 847.2ms\n",
      "Speed: 2.1ms preprocess, 847.2ms inference, 1.0ms postprocess per image at shape (1, 3, 384, 640)\n"
     ]
    },
    {
     "name": "stderr",
     "output_type": "stream",
     "text": [
      "Processing player detections:  53%|█████▎    | 24/45 [00:49<00:41,  1.96s/frames]"
     ]
    },
    {
     "name": "stdout",
     "output_type": "stream",
     "text": [
      "\n",
      "0: 384x640 7 persons, 1 car, 1 sports ball, 5 tennis rackets, 1 tv, 866.0ms\n",
      "Speed: 2.1ms preprocess, 866.0ms inference, 0.9ms postprocess per image at shape (1, 3, 384, 640)\n"
     ]
    },
    {
     "name": "stderr",
     "output_type": "stream",
     "text": [
      "Processing player detections:  56%|█████▌    | 25/45 [00:51<00:38,  1.92s/frames]"
     ]
    },
    {
     "name": "stdout",
     "output_type": "stream",
     "text": [
      "\n",
      "0: 384x640 6 persons, 1 car, 1 tennis racket, 1 tv, 835.3ms\n",
      "Speed: 1.9ms preprocess, 835.3ms inference, 0.9ms postprocess per image at shape (1, 3, 384, 640)\n"
     ]
    },
    {
     "name": "stderr",
     "output_type": "stream",
     "text": [
      "Processing player detections:  58%|█████▊    | 26/45 [00:52<00:35,  1.89s/frames]"
     ]
    },
    {
     "name": "stdout",
     "output_type": "stream",
     "text": [
      "\n",
      "0: 384x640 6 persons, 1 car, 3 tennis rackets, 1 tv, 895.2ms\n",
      "Speed: 1.9ms preprocess, 895.2ms inference, 0.9ms postprocess per image at shape (1, 3, 384, 640)\n"
     ]
    },
    {
     "name": "stderr",
     "output_type": "stream",
     "text": [
      "Processing player detections:  60%|██████    | 27/45 [00:54<00:34,  1.93s/frames]"
     ]
    },
    {
     "name": "stdout",
     "output_type": "stream",
     "text": [
      "\n",
      "0: 384x640 6 persons, 1 car, 1 tennis racket, 1 tv, 837.4ms\n",
      "Speed: 2.3ms preprocess, 837.4ms inference, 0.9ms postprocess per image at shape (1, 3, 384, 640)\n"
     ]
    },
    {
     "name": "stderr",
     "output_type": "stream",
     "text": [
      "Processing player detections:  62%|██████▏   | 28/45 [00:56<00:32,  1.90s/frames]"
     ]
    },
    {
     "name": "stdout",
     "output_type": "stream",
     "text": [
      "\n",
      "0: 384x640 6 persons, 1 car, 1 tennis racket, 1 tv, 943.3ms\n",
      "Speed: 2.8ms preprocess, 943.3ms inference, 1.0ms postprocess per image at shape (1, 3, 384, 640)\n"
     ]
    },
    {
     "name": "stderr",
     "output_type": "stream",
     "text": [
      "Processing player detections:  64%|██████▍   | 29/45 [00:58<00:30,  1.89s/frames]"
     ]
    },
    {
     "name": "stdout",
     "output_type": "stream",
     "text": [
      "\n",
      "0: 384x640 6 persons, 1 car, 1 tennis racket, 1 tv, 848.6ms\n",
      "Speed: 2.0ms preprocess, 848.6ms inference, 1.1ms postprocess per image at shape (1, 3, 384, 640)\n"
     ]
    },
    {
     "name": "stderr",
     "output_type": "stream",
     "text": [
      "Processing player detections:  67%|██████▋   | 30/45 [01:00<00:27,  1.86s/frames]"
     ]
    },
    {
     "name": "stdout",
     "output_type": "stream",
     "text": [
      "\n",
      "0: 384x640 6 persons, 1 car, 2 tennis rackets, 1 tv, 830.2ms\n",
      "Speed: 4.4ms preprocess, 830.2ms inference, 1.2ms postprocess per image at shape (1, 3, 384, 640)\n"
     ]
    },
    {
     "name": "stderr",
     "output_type": "stream",
     "text": [
      "Processing player detections:  69%|██████▉   | 31/45 [01:02<00:25,  1.82s/frames]"
     ]
    },
    {
     "name": "stdout",
     "output_type": "stream",
     "text": [
      "\n",
      "0: 384x640 7 persons, 1 car, 1 tennis racket, 1 tv, 869.9ms\n",
      "Speed: 2.6ms preprocess, 869.9ms inference, 1.1ms postprocess per image at shape (1, 3, 384, 640)\n"
     ]
    },
    {
     "name": "stderr",
     "output_type": "stream",
     "text": [
      "Processing player detections:  71%|███████   | 32/45 [01:04<00:24,  1.87s/frames]"
     ]
    },
    {
     "name": "stdout",
     "output_type": "stream",
     "text": [
      "\n",
      "0: 384x640 7 persons, 1 car, 1 tennis racket, 1 tv, 842.5ms\n",
      "Speed: 2.2ms preprocess, 842.5ms inference, 0.9ms postprocess per image at shape (1, 3, 384, 640)\n"
     ]
    },
    {
     "name": "stderr",
     "output_type": "stream",
     "text": [
      "Processing player detections:  73%|███████▎  | 33/45 [01:05<00:22,  1.85s/frames]"
     ]
    },
    {
     "name": "stdout",
     "output_type": "stream",
     "text": [
      "\n",
      "0: 384x640 7 persons, 1 car, 1 tennis racket, 1 tv, 858.1ms\n",
      "Speed: 2.8ms preprocess, 858.1ms inference, 1.0ms postprocess per image at shape (1, 3, 384, 640)\n"
     ]
    },
    {
     "name": "stderr",
     "output_type": "stream",
     "text": [
      "Processing player detections:  76%|███████▌  | 34/45 [01:07<00:20,  1.83s/frames]"
     ]
    },
    {
     "name": "stdout",
     "output_type": "stream",
     "text": [
      "\n",
      "0: 384x640 7 persons, 1 car, 1 tv, 956.9ms\n",
      "Speed: 2.1ms preprocess, 956.9ms inference, 1.6ms postprocess per image at shape (1, 3, 384, 640)\n"
     ]
    },
    {
     "name": "stderr",
     "output_type": "stream",
     "text": [
      "Processing player detections:  78%|███████▊  | 35/45 [01:09<00:18,  1.85s/frames]"
     ]
    },
    {
     "name": "stdout",
     "output_type": "stream",
     "text": [
      "\n",
      "0: 384x640 6 persons, 1 car, 1 tv, 1131.9ms\n",
      "Speed: 2.8ms preprocess, 1131.9ms inference, 1.1ms postprocess per image at shape (1, 3, 384, 640)\n"
     ]
    },
    {
     "name": "stderr",
     "output_type": "stream",
     "text": [
      "Processing player detections:  80%|████████  | 36/45 [01:11<00:17,  1.98s/frames]"
     ]
    },
    {
     "name": "stdout",
     "output_type": "stream",
     "text": [
      "\n",
      "0: 384x640 6 persons, 1 car, 1 tv, 810.6ms\n",
      "Speed: 2.1ms preprocess, 810.6ms inference, 1.0ms postprocess per image at shape (1, 3, 384, 640)\n"
     ]
    },
    {
     "name": "stderr",
     "output_type": "stream",
     "text": [
      "Processing player detections:  82%|████████▏ | 37/45 [01:13<00:15,  1.91s/frames]"
     ]
    },
    {
     "name": "stdout",
     "output_type": "stream",
     "text": [
      "\n",
      "0: 384x640 6 persons, 1 car, 1 tv, 860.8ms\n",
      "Speed: 2.6ms preprocess, 860.8ms inference, 1.0ms postprocess per image at shape (1, 3, 384, 640)\n"
     ]
    },
    {
     "name": "stderr",
     "output_type": "stream",
     "text": [
      "Processing player detections:  84%|████████▍ | 38/45 [01:15<00:13,  1.93s/frames]"
     ]
    },
    {
     "name": "stdout",
     "output_type": "stream",
     "text": [
      "\n",
      "0: 384x640 6 persons, 1 car, 1 tv, 894.9ms\n",
      "Speed: 2.0ms preprocess, 894.9ms inference, 1.0ms postprocess per image at shape (1, 3, 384, 640)\n"
     ]
    },
    {
     "name": "stderr",
     "output_type": "stream",
     "text": [
      "Processing player detections:  87%|████████▋ | 39/45 [01:17<00:11,  1.90s/frames]"
     ]
    },
    {
     "name": "stdout",
     "output_type": "stream",
     "text": [
      "\n",
      "0: 384x640 6 persons, 1 car, 1 tv, 805.0ms\n",
      "Speed: 1.9ms preprocess, 805.0ms inference, 1.0ms postprocess per image at shape (1, 3, 384, 640)\n"
     ]
    },
    {
     "name": "stderr",
     "output_type": "stream",
     "text": [
      "Processing player detections:  89%|████████▉ | 40/45 [01:19<00:09,  1.84s/frames]"
     ]
    },
    {
     "name": "stdout",
     "output_type": "stream",
     "text": [
      "\n",
      "0: 384x640 6 persons, 1 car, 1 tv, 836.3ms\n",
      "Speed: 1.7ms preprocess, 836.3ms inference, 1.1ms postprocess per image at shape (1, 3, 384, 640)\n"
     ]
    },
    {
     "name": "stderr",
     "output_type": "stream",
     "text": [
      "Processing player detections:  91%|█████████ | 41/45 [01:20<00:07,  1.81s/frames]"
     ]
    },
    {
     "name": "stdout",
     "output_type": "stream",
     "text": [
      "\n",
      "0: 384x640 6 persons, 1 car, 1 tv, 820.5ms\n",
      "Speed: 2.0ms preprocess, 820.5ms inference, 1.0ms postprocess per image at shape (1, 3, 384, 640)\n"
     ]
    },
    {
     "name": "stderr",
     "output_type": "stream",
     "text": [
      "Processing player detections:  93%|█████████▎| 42/45 [01:22<00:05,  1.79s/frames]"
     ]
    },
    {
     "name": "stdout",
     "output_type": "stream",
     "text": [
      "\n",
      "0: 384x640 7 persons, 1 car, 1 tv, 843.0ms\n",
      "Speed: 2.1ms preprocess, 843.0ms inference, 1.0ms postprocess per image at shape (1, 3, 384, 640)\n"
     ]
    },
    {
     "name": "stderr",
     "output_type": "stream",
     "text": [
      "Processing player detections:  96%|█████████▌| 43/45 [01:24<00:03,  1.84s/frames]"
     ]
    },
    {
     "name": "stdout",
     "output_type": "stream",
     "text": [
      "\n",
      "0: 384x640 7 persons, 1 car, 1 tv, 870.4ms\n",
      "Speed: 2.1ms preprocess, 870.4ms inference, 0.9ms postprocess per image at shape (1, 3, 384, 640)\n"
     ]
    },
    {
     "name": "stderr",
     "output_type": "stream",
     "text": [
      "Processing player detections:  98%|█████████▊| 44/45 [01:26<00:01,  1.84s/frames]"
     ]
    },
    {
     "name": "stdout",
     "output_type": "stream",
     "text": [
      "\n",
      "0: 384x640 7 persons, 1 car, 1 tv, 832.1ms\n",
      "Speed: 2.3ms preprocess, 832.1ms inference, 1.0ms postprocess per image at shape (1, 3, 384, 640)\n"
     ]
    },
    {
     "name": "stderr",
     "output_type": "stream",
     "text": [
      "Processing player detections: 100%|██████████| 45/45 [01:28<00:00,  1.96s/frames]\n"
     ]
    }
   ],
   "source": [
    "\n",
    "detector = PlayerYoloDetector()\n",
    "video_processed = detector.process_video(\"data/video_cortado.mp4\")"
   ]
  },
  {
   "cell_type": "code",
   "execution_count": 8,
   "id": "fe77eb7f",
   "metadata": {},
   "outputs": [
    {
     "data": {
      "text/plain": [
       "DetectionResultVideo(frame_detections=[DetectionResultFrame(box=[416.7357177734375, 297.18524169921875, 485.989990234375, 417.04473876953125], confidence=0.8665839433670044, class_name='player'), DetectionResultFrame(box=[666.7913818359375, 191.4736328125, 718.575927734375, 285.12969970703125], confidence=0.8487785458564758, class_name='player'), DetectionResultFrame(box=[702.1162109375, 291.65179443359375, 773.1253662109375, 423.00640869140625], confidence=0.8221321105957031, class_name='player'), DetectionResultFrame(box=[454.9957580566406, 170.21865844726562, 509.9507141113281, 232.77886962890625], confidence=0.7553455829620361, class_name='player'), DetectionResultFrame(box=[1221.57421875, 161.5250244140625, 1279.50439453125, 262.4639587402344], confidence=0.43019914627075195, class_name='player'), DetectionResultFrame(box=[27.821609497070312, 150.25839233398438, 69.04940795898438, 213.05435180664062], confidence=0.3724013864994049, class_name='player'), DetectionResultFrame(box=[1008.4075927734375, 83.29459381103516, 1097.9996337890625, 160.86837768554688], confidence=0.31431353092193604, class_name='player'), DetectionResultFrame(box=[170.1620330810547, 143.5877685546875, 212.27354431152344, 183.98870849609375], confidence=0.2684236168861389, class_name='player'), DetectionResultFrame(box=[410.073974609375, 299.38909912109375, 485.7200927734375, 418.17010498046875], confidence=0.877970814704895, class_name='player'), DetectionResultFrame(box=[666.6535034179688, 191.0742950439453, 718.3822631835938, 284.88519287109375], confidence=0.8455100655555725, class_name='player'), DetectionResultFrame(box=[696.3638916015625, 296.8575439453125, 765.9923095703125, 423.84503173828125], confidence=0.8060423135757446, class_name='player'), DetectionResultFrame(box=[449.2610168457031, 171.76025390625, 510.7710876464844, 234.2406005859375], confidence=0.7469876408576965, class_name='player'), DetectionResultFrame(box=[1221.52294921875, 161.37295532226562, 1279.50537109375, 262.39593505859375], confidence=0.43922159075737, class_name='player'), DetectionResultFrame(box=[27.734346389770508, 150.57415771484375, 69.071044921875, 212.90826416015625], confidence=0.3686670958995819, class_name='player'), DetectionResultFrame(box=[170.11001586914062, 143.54806518554688, 212.37411499023438, 184.19247436523438], confidence=0.2715221047401428, class_name='player'), DetectionResultFrame(box=[1008.60693359375, 83.14224243164062, 1097.990478515625, 160.68051147460938], confidence=0.2582639157772064, class_name='player'), DetectionResultFrame(box=[410.08331298828125, 299.38873291015625, 485.71954345703125, 418.12652587890625], confidence=0.8783100843429565, class_name='player'), DetectionResultFrame(box=[666.6907958984375, 191.11932373046875, 718.3623046875, 284.9027099609375], confidence=0.8455560207366943, class_name='player'), DetectionResultFrame(box=[696.2486572265625, 296.86724853515625, 766.2010498046875, 423.69378662109375], confidence=0.8027940988540649, class_name='player'), DetectionResultFrame(box=[449.3992919921875, 171.66824340820312, 510.628662109375, 234.25308227539062], confidence=0.750083863735199, class_name='player'), DetectionResultFrame(box=[1221.479736328125, 161.468017578125, 1279.501953125, 262.12701416015625], confidence=0.43830081820487976, class_name='player'), DetectionResultFrame(box=[27.663864135742188, 150.6148681640625, 69.02676391601562, 212.93316650390625], confidence=0.3781684339046478, class_name='player'), DetectionResultFrame(box=[169.9665069580078, 143.52743530273438, 212.26402282714844, 184.10037231445312], confidence=0.2622362971305847, class_name='player'), DetectionResultFrame(box=[1008.66259765625, 83.21076965332031, 1098.00048828125, 160.63893127441406], confidence=0.2556711435317993, class_name='player'), DetectionResultFrame(box=[408.01031494140625, 302.71661376953125, 485.955810546875, 418.7877197265625], confidence=0.8721663951873779, class_name='player'), DetectionResultFrame(box=[666.3572998046875, 187.9984588623047, 719.1207275390625, 284.89971923828125], confidence=0.8426035046577454, class_name='player'), DetectionResultFrame(box=[693.482421875, 302.3797912597656, 758.942626953125, 427.7536926269531], confidence=0.8281278610229492, class_name='player'), DetectionResultFrame(box=[429.489013671875, 173.561279296875, 507.87445068359375, 239.05322265625], confidence=0.8064807653427124, class_name='player'), DetectionResultFrame(box=[1221.1650390625, 161.606689453125, 1279.48486328125, 262.24114990234375], confidence=0.4057520031929016, class_name='player'), DetectionResultFrame(box=[27.62107276916504, 150.47335815429688, 69.13236236572266, 213.0587158203125], confidence=0.36586129665374756, class_name='player'), DetectionResultFrame(box=[1008.5867919921875, 83.2131118774414, 1097.9139404296875, 160.75186157226562], confidence=0.3227881193161011, class_name='player'), DetectionResultFrame(box=[169.88699340820312, 143.559326171875, 212.41836547851562, 184.58441162109375], confidence=0.295023649930954, class_name='player'), DetectionResultFrame(box=[0.030597686767578125, 152.46844482421875, 39.988094329833984, 243.93145751953125], confidence=0.27281662821769714, class_name='player'), DetectionResultFrame(box=[408.04547119140625, 302.7153015136719, 485.93048095703125, 418.7105407714844], confidence=0.872976541519165, class_name='player'), DetectionResultFrame(box=[666.412109375, 188.1417694091797, 719.1031494140625, 284.85137939453125], confidence=0.842041015625, class_name='player'), DetectionResultFrame(box=[693.4366455078125, 302.3585205078125, 758.9857177734375, 427.834716796875], confidence=0.8265596032142639, class_name='player'), DetectionResultFrame(box=[428.74078369140625, 174.0157470703125, 507.81793212890625, 238.995849609375], confidence=0.8111408948898315, class_name='player'), DetectionResultFrame(box=[1221.2314453125, 160.79849243164062, 1279.48486328125, 262.5260925292969], confidence=0.3837571144104004, class_name='player'), DetectionResultFrame(box=[27.698638916015625, 150.6597900390625, 69.09988403320312, 212.9754638671875], confidence=0.3694305717945099, class_name='player'), DetectionResultFrame(box=[169.872802734375, 143.5330047607422, 212.42202758789062, 184.6439971923828], confidence=0.28875041007995605, class_name='player'), DetectionResultFrame(box=[0.030521392822265625, 152.41342163085938, 39.38724136352539, 242.87918090820312], confidence=0.27257952094078064, class_name='player'), DetectionResultFrame(box=[1008.6207885742188, 83.262451171875, 1097.975830078125, 160.73294067382812], confidence=0.27041757106781006, class_name='player'), DetectionResultFrame(box=[407.85491943359375, 301.801025390625, 485.78497314453125, 417.4744873046875], confidence=0.8749591708183289, class_name='player'), DetectionResultFrame(box=[666.6630249023438, 187.65354919433594, 719.6754760742188, 284.7330322265625], confidence=0.8539553284645081, class_name='player'), DetectionResultFrame(box=[694.0762939453125, 302.38739013671875, 756.0936279296875, 427.33856201171875], confidence=0.8254287838935852, class_name='player'), DetectionResultFrame(box=[428.5968933105469, 173.80255126953125, 505.9571838378906, 239.2916259765625], confidence=0.7846110463142395, class_name='player'), DetectionResultFrame(box=[1221.209716796875, 160.17617797851562, 1279.49365234375, 262.4942932128906], confidence=0.38134804368019104, class_name='player'), DetectionResultFrame(box=[27.713151931762695, 150.6680145263672, 69.06965637207031, 212.53025817871094], confidence=0.3796630799770355, class_name='player'), DetectionResultFrame(box=[0.0299835205078125, 152.15371704101562, 38.875526428222656, 241.26101684570312], confidence=0.275137722492218, class_name='player'), DetectionResultFrame(box=[169.87066650390625, 143.55429077148438, 212.29925537109375, 184.48199462890625], confidence=0.2738599479198456, class_name='player'), DetectionResultFrame(box=[424.70343017578125, 215.64535522460938, 443.49932861328125, 231.69546508789062], confidence=0.27138763666152954, class_name='player'), DetectionResultFrame(box=[407.77392578125, 300.147705078125, 485.30975341796875, 417.01641845703125], confidence=0.8840636014938354, class_name='player'), DetectionResultFrame(box=[667.8709106445312, 186.7674560546875, 720.3833618164062, 284.4495849609375], confidence=0.8449951410293579, class_name='player'), DetectionResultFrame(box=[694.3768310546875, 301.31085205078125, 754.5716552734375, 426.78521728515625], confidence=0.8262609243392944, class_name='player'), DetectionResultFrame(box=[439.455322265625, 175.69000244140625, 503.53759765625, 239.10467529296875], confidence=0.8205354809761047, class_name='player'), DetectionResultFrame(box=[421.62677001953125, 214.8732452392578, 441.92364501953125, 231.42152404785156], confidence=0.49516668915748596, class_name='player'), DetectionResultFrame(box=[27.67127799987793, 150.58154296875, 69.09812927246094, 212.68487548828125], confidence=0.38062140345573425, class_name='player'), DetectionResultFrame(box=[1221.2689208984375, 160.05810546875, 1279.4913330078125, 262.5779113769531], confidence=0.3712698817253113, class_name='player'), DetectionResultFrame(box=[169.85488891601562, 143.56680297851562, 212.37478637695312, 184.74624633789062], confidence=0.3045366704463959, class_name='player'), DetectionResultFrame(box=[0.028087615966796875, 151.95184326171875, 38.88570785522461, 241.22055053710938], confidence=0.2731006443500519, class_name='player'), DetectionResultFrame(box=[407.34405517578125, 298.9610595703125, 485.41925048828125, 416.140380859375], confidence=0.8900442123413086, class_name='player'), DetectionResultFrame(box=[667.7179565429688, 185.35626220703125, 721.6788940429688, 284.69305419921875], confidence=0.8459355235099792, class_name='player'), DetectionResultFrame(box=[692.6483154296875, 300.24835205078125, 753.7098388671875, 426.69903564453125], confidence=0.8244309425354004, class_name='player'), DetectionResultFrame(box=[432.98883056640625, 175.05270385742188, 499.45611572265625, 240.13125610351562], confidence=0.8071324825286865, class_name='player'), DetectionResultFrame(box=[421.5188293457031, 208.776123046875, 438.0725402832031, 226.0184326171875], confidence=0.43477803468704224, class_name='player'), DetectionResultFrame(box=[1221.2685546875, 160.1817626953125, 1279.48779296875, 262.5495910644531], confidence=0.37794509530067444, class_name='player'), DetectionResultFrame(box=[27.66557502746582, 150.580078125, 69.07635498046875, 213.1090087890625], confidence=0.37536704540252686, class_name='player'), DetectionResultFrame(box=[1008.4645385742188, 83.13579559326172, 1097.949462890625, 160.65057373046875], confidence=0.3125263452529907, class_name='player'), DetectionResultFrame(box=[0.02367401123046875, 151.971923828125, 38.87267303466797, 241.59381103515625], confidence=0.2801365852355957, class_name='player'), DetectionResultFrame(box=[169.83505249023438, 143.56422424316406, 212.34103393554688, 184.58937072753906], confidence=0.2729618549346924, class_name='player'), DetectionResultFrame(box=[407.35968017578125, 298.94482421875, 485.40216064453125, 416.1759033203125], confidence=0.8902035355567932, class_name='player'), DetectionResultFrame(box=[667.70849609375, 185.3573760986328, 721.66748046875, 284.69244384765625], confidence=0.8463220596313477, class_name='player'), DetectionResultFrame(box=[692.6661376953125, 300.2698974609375, 753.6246337890625, 426.7003173828125], confidence=0.8242027759552002, class_name='player'), DetectionResultFrame(box=[433.0538330078125, 175.06484985351562, 499.4034423828125, 240.14321899414062], confidence=0.8075758814811707, class_name='player'), DetectionResultFrame(box=[421.5433044433594, 208.8184356689453, 438.0348205566406, 226.03269958496094], confidence=0.43512076139450073, class_name='player'), DetectionResultFrame(box=[1221.186767578125, 160.77276611328125, 1279.4853515625, 261.9129943847656], confidence=0.4047241508960724, class_name='player'), DetectionResultFrame(box=[27.6987247467041, 150.62374877929688, 69.09854888916016, 212.95718383789062], confidence=0.3779767155647278, class_name='player'), DetectionResultFrame(box=[1008.7403564453125, 83.09381103515625, 1097.9393310546875, 160.579345703125], confidence=0.28788402676582336, class_name='player'), DetectionResultFrame(box=[0.025455474853515625, 151.88076782226562, 39.00887680053711, 241.423095703125], confidence=0.27775537967681885, class_name='player'), DetectionResultFrame(box=[169.81875610351562, 143.60105895996094, 212.37744140625, 184.64659118652344], confidence=0.26495277881622314, class_name='player'), DetectionResultFrame(box=[668.4232177734375, 185.1809539794922, 723.0108642578125, 284.79693603515625], confidence=0.8553287982940674, class_name='player'), DetectionResultFrame(box=[407.400634765625, 298.794921875, 484.8817138671875, 415.8953857421875], confidence=0.8524870276451111, class_name='player'), DetectionResultFrame(box=[692.107421875, 299.66497802734375, 752.65673828125, 425.11199951171875], confidence=0.8240177631378174, class_name='player'), DetectionResultFrame(box=[433.24737548828125, 173.94802856445312, 495.2952880859375, 241.14773559570312], confidence=0.8109257817268372, class_name='player'), DetectionResultFrame(box=[1221.3056640625, 161.36187744140625, 1279.485595703125, 261.99072265625], confidence=0.42799684405326843, class_name='player'), DetectionResultFrame(box=[27.71173858642578, 150.66482543945312, 69.0830078125, 212.82598876953125], confidence=0.3909763991832733, class_name='player'), DetectionResultFrame(box=[474.46807861328125, 394.384765625, 488.45477294921875, 409.5472412109375], confidence=0.3597176969051361, class_name='player'), DetectionResultFrame(box=[1008.7449951171875, 83.16746520996094, 1097.8236083984375, 160.56922912597656], confidence=0.324822336435318, class_name='player'), DetectionResultFrame(box=[0.025928497314453125, 152.12692260742188, 38.958072662353516, 241.65371704101562], confidence=0.2865661084651947, class_name='player'), DetectionResultFrame(box=[169.824951171875, 143.71168518066406, 212.34100341796875, 184.58628845214844], confidence=0.27525511384010315, class_name='player'), DetectionResultFrame(box=[405.8355407714844, 299.65289306640625, 488.0215148925781, 416.68328857421875], confidence=0.8726537823677063, class_name='player'), DetectionResultFrame(box=[671.2587280273438, 184.33242797851562, 724.9751586914062, 284.6986999511719], confidence=0.8555264472961426, class_name='player'), DetectionResultFrame(box=[689.7613525390625, 300.3812255859375, 752.3704833984375, 425.9482421875], confidence=0.8342381119728088, class_name='player'), DetectionResultFrame(box=[433.21136474609375, 169.8084716796875, 488.53143310546875, 241.2061767578125], confidence=0.7958060503005981, class_name='player'), DetectionResultFrame(box=[1221.2774658203125, 161.413818359375, 1279.4859619140625, 261.7086181640625], confidence=0.4262571930885315, class_name='player'), DetectionResultFrame(box=[27.705171585083008, 150.69619750976562, 69.08078002929688, 212.86129760742188], confidence=0.3946569263935089, class_name='player'), DetectionResultFrame(box=[1008.789306640625, 83.20958709716797, 1097.806884765625, 160.48773193359375], confidence=0.33549246191978455, class_name='player'), DetectionResultFrame(box=[0.024730682373046875, 151.91131591796875, 38.96493911743164, 241.51779174804688], confidence=0.28977280855178833, class_name='player'), DetectionResultFrame(box=[169.80538940429688, 143.60458374023438, 212.31674194335938, 184.52737426757812], confidence=0.2804190218448639, class_name='player'), DetectionResultFrame(box=[405.89117431640625, 299.6505432128906, 488.2677001953125, 416.6508483886719], confidence=0.8704454302787781, class_name='player'), DetectionResultFrame(box=[671.2721557617188, 184.36788940429688, 724.9788208007812, 284.7187805175781], confidence=0.8550887703895569, class_name='player'), DetectionResultFrame(box=[689.7953491210938, 300.2989501953125, 752.4149780273438, 425.88824462890625], confidence=0.836349606513977, class_name='player'), DetectionResultFrame(box=[433.0401611328125, 169.75970458984375, 488.2608642578125, 241.21929931640625], confidence=0.7949889302253723, class_name='player'), DetectionResultFrame(box=[1221.392333984375, 161.08688354492188, 1279.489013671875, 261.67742919921875], confidence=0.4322012960910797, class_name='player'), DetectionResultFrame(box=[27.6990966796875, 150.55844116210938, 69.15278625488281, 212.79107666015625], confidence=0.3933350145816803, class_name='player'), DetectionResultFrame(box=[1008.532958984375, 83.29307556152344, 1097.85302734375, 160.6139678955078], confidence=0.35013553500175476, class_name='player'), DetectionResultFrame(box=[0.026058197021484375, 151.99154663085938, 39.08203887939453, 241.47015380859375], confidence=0.2905782163143158, class_name='player'), DetectionResultFrame(box=[169.81338500976562, 143.52403259277344, 212.30416870117188, 184.52513122558594], confidence=0.28374600410461426, class_name='player'), DetectionResultFrame(box=[403.3487854003906, 301.6777038574219, 484.5876159667969, 419.2201232910156], confidence=0.8839110732078552, class_name='player'), DetectionResultFrame(box=[690.30517578125, 301.0584411621094, 752.9559326171875, 422.7453918457031], confidence=0.8541356325149536, class_name='player'), DetectionResultFrame(box=[675.3944091796875, 183.71511840820312, 726.2867431640625, 284.9493103027344], confidence=0.853744626045227, class_name='player'), DetectionResultFrame(box=[429.31451416015625, 164.91619873046875, 483.25628662109375, 241.6395263671875], confidence=0.7962824702262878, class_name='player'), DetectionResultFrame(box=[1221.458251953125, 161.2467041015625, 1279.493408203125, 261.678466796875], confidence=0.44537585973739624, class_name='player'), DetectionResultFrame(box=[27.72321319580078, 150.54806518554688, 69.17755889892578, 212.30728149414062], confidence=0.39854732155799866, class_name='player'), DetectionResultFrame(box=[0.033107757568359375, 151.99459838867188, 39.246826171875, 240.90200805664062], confidence=0.28614887595176697, class_name='player'), DetectionResultFrame(box=[1008.859619140625, 83.30433654785156, 1097.888671875, 160.8283233642578], confidence=0.27747923135757446, class_name='player'), DetectionResultFrame(box=[169.814697265625, 143.58367919921875, 212.29928588867188, 184.51577758789062], confidence=0.2745477259159088, class_name='player'), DetectionResultFrame(box=[401.979248046875, 303.5409240722656, 480.44537353515625, 423.6924133300781], confidence=0.900136411190033, class_name='player'), DetectionResultFrame(box=[688.5934448242188, 303.114990234375, 752.1403198242188, 422.2786865234375], confidence=0.8517176508903503, class_name='player'), DetectionResultFrame(box=[681.4962158203125, 183.67135620117188, 727.3641357421875, 284.2905578613281], confidence=0.8408900499343872, class_name='player'), DetectionResultFrame(box=[428.68194580078125, 160.6683349609375, 478.3404541015625, 241.20257568359375], confidence=0.7824876308441162, class_name='player'), DetectionResultFrame(box=[1221.3311767578125, 161.62374877929688, 1279.4908447265625, 261.65509033203125], confidence=0.44024649262428284, class_name='player'), DetectionResultFrame(box=[27.70960235595703, 150.5803680419922, 69.18853759765625, 212.3043670654297], confidence=0.40064603090286255, class_name='player'), DetectionResultFrame(box=[0.030681610107421875, 151.99285888671875, 39.23519515991211, 240.8524169921875], confidence=0.2820470333099365, class_name='player'), DetectionResultFrame(box=[169.819091796875, 143.613525390625, 212.33587646484375, 184.60516357421875], confidence=0.2819007635116577, class_name='player'), DetectionResultFrame(box=[401.19195556640625, 305.1126708984375, 480.90777587890625, 425.8486328125], confidence=0.8952701687812805, class_name='player'), DetectionResultFrame(box=[686.5797729492188, 304.31280517578125, 751.8670043945312, 424.67254638671875], confidence=0.8685355186462402, class_name='player'), DetectionResultFrame(box=[682.1593017578125, 183.55056762695312, 728.3975830078125, 284.5997009277344], confidence=0.8419284224510193, class_name='player'), DetectionResultFrame(box=[427.57122802734375, 155.66744995117188, 473.84417724609375, 240.18386840820312], confidence=0.7555137276649475, class_name='player'), DetectionResultFrame(box=[1221.364501953125, 161.43316650390625, 1279.491943359375, 261.69085693359375], confidence=0.45284560322761536, class_name='player'), DetectionResultFrame(box=[27.730987548828125, 150.58038330078125, 69.22737121582031, 212.21722412109375], confidence=0.3980408310890198, class_name='player'), DetectionResultFrame(box=[169.8435821533203, 143.65374755859375, 212.30189514160156, 184.5933837890625], confidence=0.28759437799453735, class_name='player'), DetectionResultFrame(box=[0.0352325439453125, 151.91339111328125, 39.29804611206055, 240.9970703125], confidence=0.2801690697669983, class_name='player'), DetectionResultFrame(box=[1008.9530029296875, 83.21221923828125, 1097.9246826171875, 160.81634521484375], confidence=0.2524295449256897, class_name='player'), DetectionResultFrame(box=[404.22381591796875, 304.9056396484375, 480.6505126953125, 424.140625], confidence=0.8927263021469116, class_name='player'), DetectionResultFrame(box=[686.8685913085938, 305.25665283203125, 752.9072875976562, 426.94805908203125], confidence=0.8748569488525391, class_name='player'), DetectionResultFrame(box=[682.13720703125, 183.25445556640625, 729.000244140625, 283.9093017578125], confidence=0.8193413615226746, class_name='player'), DetectionResultFrame(box=[426.608154296875, 149.46377563476562, 470.0888671875, 239.68661499023438], confidence=0.7138247489929199, class_name='player'), DetectionResultFrame(box=[1221.416748046875, 161.00729370117188, 1279.501220703125, 262.1182556152344], confidence=0.46475332975387573, class_name='player'), DetectionResultFrame(box=[27.72044563293457, 150.56292724609375, 69.18423461914062, 212.276123046875], confidence=0.40176546573638916, class_name='player'), DetectionResultFrame(box=[169.82321166992188, 143.42794799804688, 212.36502075195312, 184.68533325195312], confidence=0.3097386360168457, class_name='player'), DetectionResultFrame(box=[0.03627777099609375, 151.82998657226562, 39.304840087890625, 241.13580322265625], confidence=0.28381332755088806, class_name='player'), DetectionResultFrame(box=[1008.8942260742188, 83.28125762939453, 1098.011474609375, 160.9210205078125], confidence=0.270820677280426, class_name='player'), DetectionResultFrame(box=[687.64208984375, 306.37176513671875, 760.4649658203125, 427.85308837890625], confidence=0.8804571032524109, class_name='player'), DetectionResultFrame(box=[409.8311462402344, 304.7899169921875, 481.1018371582031, 424.6697998046875], confidence=0.8794845342636108, class_name='player'), DetectionResultFrame(box=[690.406005859375, 183.17849731445312, 731.140625, 284.5582580566406], confidence=0.7670778036117554, class_name='player'), DetectionResultFrame(box=[425.7977600097656, 148.366455078125, 467.7886657714844, 240.08892822265625], confidence=0.5874460339546204, class_name='player'), DetectionResultFrame(box=[1221.3770751953125, 161.65463256835938, 1279.5089111328125, 261.5640563964844], confidence=0.49012723565101624, class_name='player'), DetectionResultFrame(box=[27.62131690979004, 150.410400390625, 69.1848373413086, 212.4796142578125], confidence=0.399975448846817, class_name='player'), DetectionResultFrame(box=[1009.0677490234375, 83.2032699584961, 1097.9095458984375, 160.78732299804688], confidence=0.33019742369651794, class_name='player'), DetectionResultFrame(box=[169.83230590820312, 143.45675659179688, 212.36007690429688, 184.70419311523438], confidence=0.3264763355255127, class_name='player'), DetectionResultFrame(box=[0.034473419189453125, 151.97616577148438, 39.44552230834961, 240.98788452148438], confidence=0.28968748450279236, class_name='player'), DetectionResultFrame(box=[403.0956115722656, 148.2579345703125, 467.0652160644531, 240.18914794921875], confidence=0.2534152865409851, class_name='player'), DetectionResultFrame(box=[687.6278076171875, 306.37261962890625, 760.5076904296875, 427.83868408203125], confidence=0.8804344534873962, class_name='player'), DetectionResultFrame(box=[409.795654296875, 304.79229736328125, 481.1326904296875, 424.65264892578125], confidence=0.8794762492179871, class_name='player'), DetectionResultFrame(box=[690.4729614257812, 183.1792755126953, 731.4425659179688, 284.30230712890625], confidence=0.7713284492492676, class_name='player'), DetectionResultFrame(box=[425.88250732421875, 148.45794677734375, 467.78497314453125, 240.0538330078125], confidence=0.57366943359375, class_name='player'), DetectionResultFrame(box=[1221.3946533203125, 161.70144653320312, 1279.5096435546875, 261.5480651855469], confidence=0.4854778051376343, class_name='player'), DetectionResultFrame(box=[27.60784912109375, 150.40548706054688, 69.18550109863281, 212.48348999023438], confidence=0.39850547909736633, class_name='player'), DetectionResultFrame(box=[1009.1217041015625, 83.18639373779297, 1097.8824462890625, 160.7244873046875], confidence=0.3622240722179413, class_name='player'), DetectionResultFrame(box=[169.87355041503906, 143.55245971679688, 212.3496551513672, 184.69882202148438], confidence=0.3221786618232727, class_name='player'), DetectionResultFrame(box=[0.035396575927734375, 152.07785034179688, 39.42500686645508, 240.90878295898438], confidence=0.28662917017936707, class_name='player'), DetectionResultFrame(box=[403.107421875, 148.27362060546875, 467.04815673828125, 240.19387817382812], confidence=0.26536935567855835, class_name='player'), DetectionResultFrame(box=[687.580810546875, 307.74383544921875, 760.33154296875, 427.83233642578125], confidence=0.8728015422821045, class_name='player'), DetectionResultFrame(box=[418.58575439453125, 304.1830139160156, 481.40032958984375, 424.4906311035156], confidence=0.8560091257095337, class_name='player'), DetectionResultFrame(box=[685.5103149414062, 184.01535034179688, 732.1632690429688, 284.2047424316406], confidence=0.7784686088562012, class_name='player'), DetectionResultFrame(box=[1221.369873046875, 162.08572387695312, 1279.514892578125, 261.53582763671875], confidence=0.5079768300056458, class_name='player'), DetectionResultFrame(box=[405.1927185058594, 144.99566650390625, 466.2655334472656, 239.55499267578125], confidence=0.4681868553161621, class_name='player'), DetectionResultFrame(box=[27.640419006347656, 150.50665283203125, 69.17613220214844, 212.588623046875], confidence=0.39619380235671997, class_name='player'), DetectionResultFrame(box=[425.53857421875, 144.63894653320312, 466.4913330078125, 238.69198608398438], confidence=0.377995103597641, class_name='player'), DetectionResultFrame(box=[1009.1307983398438, 83.16483306884766, 1097.87744140625, 160.70370483398438], confidence=0.3531550467014313, class_name='player'), DetectionResultFrame(box=[169.87562561035156, 143.57208251953125, 212.3793487548828, 184.76974487304688], confidence=0.3366765081882477, class_name='player'), DetectionResultFrame(box=[0.03524017333984375, 152.10513305664062, 39.39811325073242, 241.05831909179688], confidence=0.28719985485076904, class_name='player'), DetectionResultFrame(box=[687.3465576171875, 308.52984619140625, 759.7928466796875, 427.9949951171875], confidence=0.8755529522895813, class_name='player'), DetectionResultFrame(box=[418.19219970703125, 303.4094543457031, 482.73895263671875, 424.0402526855469], confidence=0.8514195680618286, class_name='player'), DetectionResultFrame(box=[684.47998046875, 183.55523681640625, 733.602294921875, 284.0489501953125], confidence=0.8170835375785828, class_name='player'), DetectionResultFrame(box=[404.3494873046875, 145.39816284179688, 464.121337890625, 240.27761840820312], confidence=0.7091830372810364, class_name='player'), DetectionResultFrame(box=[1221.36767578125, 162.15447998046875, 1279.51708984375, 261.48883056640625], confidence=0.5010609030723572, class_name='player'), DetectionResultFrame(box=[27.644439697265625, 150.39889526367188, 69.12303924560547, 212.60012817382812], confidence=0.40527448058128357, class_name='player'), DetectionResultFrame(box=[461.7597351074219, 326.89556884765625, 478.5451965332031, 353.2392578125], confidence=0.37037375569343567, class_name='player'), DetectionResultFrame(box=[169.9678497314453, 143.60836791992188, 212.35240173339844, 184.62545776367188], confidence=0.3383277654647827, class_name='player'), DetectionResultFrame(box=[1009.0579223632812, 83.13705444335938, 1097.894287109375, 160.76516723632812], confidence=0.3348360061645508, class_name='player'), DetectionResultFrame(box=[678.6029052734375, 234.708251953125, 692.150146484375, 251.9541015625], confidence=0.321410596370697, class_name='player'), DetectionResultFrame(box=[0.030559539794921875, 152.05429077148438, 39.33060836791992, 240.79928588867188], confidence=0.2886612117290497, class_name='player'), DetectionResultFrame(box=[687.1104736328125, 307.68963623046875, 757.5599365234375, 428.878173828125], confidence=0.8747240304946899, class_name='player'), DetectionResultFrame(box=[416.8293151855469, 305.26318359375, 478.5906066894531, 426.4219970703125], confidence=0.8391227722167969, class_name='player'), DetectionResultFrame(box=[685.00634765625, 183.5050048828125, 734.8056640625, 281.77294921875], confidence=0.8198384046554565, class_name='player'), DetectionResultFrame(box=[404.748779296875, 145.74774169921875, 460.38604736328125, 238.89764404296875], confidence=0.7887848615646362, class_name='player'), DetectionResultFrame(box=[1221.42626953125, 162.761474609375, 1279.51416015625, 261.437255859375], confidence=0.4820837378501892, class_name='player'), DetectionResultFrame(box=[461.767578125, 326.78057861328125, 479.862548828125, 350.72259521484375], confidence=0.39677783846855164, class_name='player'), DetectionResultFrame(box=[27.60478401184082, 150.5426025390625, 69.09959411621094, 212.6932373046875], confidence=0.383529394865036, class_name='player'), DetectionResultFrame(box=[678.061767578125, 234.32470703125, 691.205322265625, 252.32470703125], confidence=0.34591636061668396, class_name='player'), DetectionResultFrame(box=[1009.0387573242188, 83.13621520996094, 1097.923583984375, 160.85511779785156], confidence=0.32343026995658875, class_name='player'), DetectionResultFrame(box=[169.90084838867188, 143.59539794921875, 212.4202880859375, 184.8782958984375], confidence=0.32113224267959595, class_name='player'), DetectionResultFrame(box=[0.034252166748046875, 153.10855102539062, 39.294071197509766, 241.15591430664062], confidence=0.263792484998703, class_name='player'), DetectionResultFrame(box=[687.1954345703125, 306.6763916015625, 757.7073974609375, 433.07244873046875], confidence=0.8875792026519775, class_name='player'), DetectionResultFrame(box=[416.4185791015625, 307.1077880859375, 477.4332275390625, 432.2156982421875], confidence=0.8334097266197205, class_name='player'), DetectionResultFrame(box=[684.7093505859375, 183.37635803222656, 735.9349365234375, 281.7432861328125], confidence=0.831810474395752, class_name='player'), DetectionResultFrame(box=[404.69525146484375, 147.3555908203125, 457.00274658203125, 240.94354248046875], confidence=0.7787315845489502, class_name='player'), DetectionResultFrame(box=[1221.35791015625, 163.0692138671875, 1279.512451171875, 261.4123229980469], confidence=0.4857144355773926, class_name='player'), DetectionResultFrame(box=[461.8165283203125, 325.4292907714844, 479.734130859375, 338.5229187011719], confidence=0.4608798027038574, class_name='player'), DetectionResultFrame(box=[677.971923828125, 233.4102783203125, 691.245361328125, 251.9202880859375], confidence=0.4197971224784851, class_name='player'), DetectionResultFrame(box=[27.627365112304688, 150.38540649414062, 69.10076904296875, 212.72018432617188], confidence=0.38183271884918213, class_name='player'), DetectionResultFrame(box=[169.90618896484375, 143.60638427734375, 212.41204833984375, 184.80303955078125], confidence=0.32438528537750244, class_name='player'), DetectionResultFrame(box=[1009.0760498046875, 83.14704895019531, 1097.9195556640625, 160.8068389892578], confidence=0.3125852346420288, class_name='player'), DetectionResultFrame(box=[0.0311737060546875, 153.06915283203125, 39.36610412597656, 240.99234008789062], confidence=0.2651531398296356, class_name='player'), DetectionResultFrame(box=[687.202880859375, 306.6260986328125, 757.748779296875, 433.086181640625], confidence=0.8876403570175171, class_name='player'), DetectionResultFrame(box=[416.40509033203125, 307.0700378417969, 477.57928466796875, 432.2056579589844], confidence=0.8334288597106934, class_name='player'), DetectionResultFrame(box=[684.6470947265625, 183.35891723632812, 735.9320068359375, 281.7588195800781], confidence=0.8321513533592224, class_name='player'), DetectionResultFrame(box=[404.66888427734375, 147.410400390625, 456.91632080078125, 240.85833740234375], confidence=0.7843115925788879, class_name='player'), DetectionResultFrame(box=[1221.3717041015625, 163.01531982421875, 1279.5120849609375, 261.42218017578125], confidence=0.4812891483306885, class_name='player'), DetectionResultFrame(box=[461.7977294921875, 325.4412841796875, 479.724365234375, 338.352783203125], confidence=0.45416030287742615, class_name='player'), DetectionResultFrame(box=[677.9617919921875, 233.51956176757812, 691.197998046875, 251.94210815429688], confidence=0.4168922007083893, class_name='player'), DetectionResultFrame(box=[27.6467342376709, 150.5256805419922, 69.07462310791016, 212.6863250732422], confidence=0.37927767634391785, class_name='player'), DetectionResultFrame(box=[169.91323852539062, 143.60855102539062, 212.40573120117188, 184.77923583984375], confidence=0.32692497968673706, class_name='player'), DetectionResultFrame(box=[1009.0449829101562, 83.14547729492188, 1097.94580078125, 160.83050537109375], confidence=0.32053112983703613, class_name='player'), DetectionResultFrame(box=[0.030246734619140625, 153.1650390625, 39.37128448486328, 241.09478759765625], confidence=0.267244815826416, class_name='player'), DetectionResultFrame(box=[687.4742431640625, 306.7415771484375, 758.1051025390625, 442.2491455078125], confidence=0.8843973875045776, class_name='player'), DetectionResultFrame(box=[416.45233154296875, 309.86187744140625, 471.99786376953125, 437.98907470703125], confidence=0.8219691514968872, class_name='player'), DetectionResultFrame(box=[684.99072265625, 182.3282470703125, 737.857666015625, 281.34747314453125], confidence=0.8037357926368713, class_name='player'), DetectionResultFrame(box=[405.0899658203125, 150.0015869140625, 454.9637451171875, 240.75747680664062], confidence=0.7829322218894958, class_name='player'), DetectionResultFrame(box=[460.8125, 323.89996337890625, 478.8310546875, 338.55938720703125], confidence=0.47596505284309387, class_name='player'), DetectionResultFrame(box=[1221.36083984375, 163.42520141601562, 1279.51318359375, 261.4463195800781], confidence=0.4640124440193176, class_name='player'), DetectionResultFrame(box=[680.00341796875, 228.38031005859375, 693.7275390625, 250.7880859375], confidence=0.39749404788017273, class_name='player'), DetectionResultFrame(box=[27.62317657470703, 150.48098754882812, 69.05675506591797, 212.73138427734375], confidence=0.37375327944755554, class_name='player'), DetectionResultFrame(box=[169.92098999023438, 143.63748168945312, 212.33090209960938, 184.69998168945312], confidence=0.32303619384765625, class_name='player'), DetectionResultFrame(box=[1009.076416015625, 83.14130401611328, 1097.939697265625, 160.79949951171875], confidence=0.3156399726867676, class_name='player'), DetectionResultFrame(box=[688.2059326171875, 307.22314453125, 759.1854248046875, 445.57659912109375], confidence=0.8888577222824097, class_name='player'), DetectionResultFrame(box=[416.93438720703125, 311.2913513183594, 472.2486572265625, 441.4986877441406], confidence=0.838042676448822, class_name='player'), DetectionResultFrame(box=[684.906982421875, 179.84722900390625, 739.946044921875, 279.0208740234375], confidence=0.8082253336906433, class_name='player'), DetectionResultFrame(box=[405.139404296875, 152.67965698242188, 455.1629638671875, 241.63150024414062], confidence=0.7676095366477966, class_name='player'), DetectionResultFrame(box=[1221.284423828125, 163.31692504882812, 1279.511474609375, 261.4554138183594], confidence=0.4600187838077545, class_name='player'), DetectionResultFrame(box=[27.635231018066406, 150.67478942871094, 69.01834106445312, 212.79039001464844], confidence=0.3724249005317688, class_name='player'), DetectionResultFrame(box=[404.438232421875, 189.3712158203125, 417.535888671875, 217.27642822265625], confidence=0.370856910943985, class_name='player'), DetectionResultFrame(box=[453.56024169921875, 322.96783447265625, 476.11932373046875, 346.46734619140625], confidence=0.36726799607276917, class_name='player'), DetectionResultFrame(box=[443.33978271484375, 322.8644714355469, 476.43658447265625, 353.1794738769531], confidence=0.35215556621551514, class_name='player'), DetectionResultFrame(box=[418.4889221191406, 312.264404296875, 432.5486755371094, 326.951171875], confidence=0.3496204912662506, class_name='player'), DetectionResultFrame(box=[169.94671630859375, 143.59811401367188, 212.32879638671875, 184.7158203125], confidence=0.33685949444770813, class_name='player'), DetectionResultFrame(box=[1009.0802001953125, 83.12007904052734, 1097.8809814453125, 160.72561645507812], confidence=0.3263808786869049, class_name='player'), DetectionResultFrame(box=[680.3837280273438, 221.28408813476562, 698.3364868164062, 248.42990112304688], confidence=0.2894488573074341, class_name='player'), DetectionResultFrame(box=[402.83941650390625, 163.11178588867188, 417.14727783203125, 216.69613647460938], confidence=0.26763203740119934, class_name='player'), DetectionResultFrame(box=[0.03495025634765625, 153.78836059570312, 39.31307601928711, 241.04531860351562], confidence=0.2583490014076233, class_name='player'), DetectionResultFrame(box=[686.3240356445312, 307.96136474609375, 760.3728637695312, 446.8133544921875], confidence=0.8840846419334412, class_name='player'), DetectionResultFrame(box=[684.6107177734375, 179.07388305664062, 742.6663818359375, 278.6995849609375], confidence=0.8320701718330383, class_name='player'), DetectionResultFrame(box=[412.52874755859375, 312.15093994140625, 471.12286376953125, 448.47698974609375], confidence=0.8305763006210327, class_name='player'), DetectionResultFrame(box=[404.08233642578125, 154.63174438476562, 454.05096435546875, 241.696044921875], confidence=0.8131299614906311, class_name='player'), DetectionResultFrame(box=[449.3033142089844, 322.5566711425781, 471.8923034667969, 339.4917297363281], confidence=0.46998530626296997, class_name='player'), DetectionResultFrame(box=[1221.22998046875, 163.475830078125, 1279.51171875, 261.46063232421875], confidence=0.4484069049358368, class_name='player'), DetectionResultFrame(box=[27.582107543945312, 150.6273651123047, 69.02594757080078, 212.83497619628906], confidence=0.3615013360977173, class_name='player'), DetectionResultFrame(box=[169.976318359375, 143.59573364257812, 212.46746826171875, 185.03182983398438], confidence=0.3387311100959778, class_name='player'), DetectionResultFrame(box=[1008.9901123046875, 83.11954498291016, 1098.0052490234375, 160.82040405273438], confidence=0.32619938254356384, class_name='player'), DetectionResultFrame(box=[687.994873046875, 308.112060546875, 762.05615234375, 448.93951416015625], confidence=0.8832366466522217, class_name='player'), DetectionResultFrame(box=[405.00177001953125, 312.23797607421875, 470.48724365234375, 448.80072021484375], confidence=0.8407996892929077, class_name='player'), DetectionResultFrame(box=[403.70074462890625, 154.50213623046875, 454.16839599609375, 241.6827392578125], confidence=0.8144209980964661, class_name='player'), DetectionResultFrame(box=[686.8355102539062, 179.08724975585938, 745.2000122070312, 278.54620361328125], confidence=0.7677122950553894, class_name='player'), DetectionResultFrame(box=[1221.196044921875, 163.88433837890625, 1279.511962890625, 261.4634094238281], confidence=0.4543551206588745, class_name='player'), DetectionResultFrame(box=[447.620849609375, 322.80682373046875, 468.82562255859375, 337.99725341796875], confidence=0.41124626994132996, class_name='player'), DetectionResultFrame(box=[27.6667537689209, 150.69915771484375, 69.00495147705078, 212.82901000976562], confidence=0.3611259460449219, class_name='player'), DetectionResultFrame(box=[169.9593505859375, 143.61251831054688, 212.40625, 184.86105346679688], confidence=0.3321261405944824, class_name='player'), DetectionResultFrame(box=[1009.0023193359375, 83.10974884033203, 1097.9329833984375, 160.80682373046875], confidence=0.32196131348609924, class_name='player'), DetectionResultFrame(box=[401.7996826171875, 196.8484649658203, 415.55859375, 219.0164337158203], confidence=0.2639029920101166, class_name='player'), DetectionResultFrame(box=[684.5711669921875, 219.48263549804688, 704.5465087890625, 240.79409790039062], confidence=0.2518613040447235, class_name='player'), DetectionResultFrame(box=[691.79736328125, 306.7117919921875, 762.7789306640625, 448.8541259765625], confidence=0.8987929224967957, class_name='player'), DetectionResultFrame(box=[400.71185302734375, 311.37225341796875, 467.70416259765625, 448.58831787109375], confidence=0.8347107172012329, class_name='player'), DetectionResultFrame(box=[691.3197021484375, 179.92330932617188, 752.0916748046875, 279.01287841796875], confidence=0.8188304901123047, class_name='player'), DetectionResultFrame(box=[403.52716064453125, 153.0506591796875, 454.28472900390625, 241.76058959960938], confidence=0.8111200928688049, class_name='player'), DetectionResultFrame(box=[441.4271240234375, 321.72418212890625, 463.4202880859375, 337.84503173828125], confidence=0.48393407464027405, class_name='player'), DetectionResultFrame(box=[1221.055419921875, 163.93350219726562, 1279.509033203125, 262.0699768066406], confidence=0.4231202304363251, class_name='player'), DetectionResultFrame(box=[27.687965393066406, 150.55374145507812, 69.06367492675781, 212.92324829101562], confidence=0.35714781284332275, class_name='player'), DetectionResultFrame(box=[169.94491577148438, 143.6158447265625, 212.35543823242188, 184.80380249023438], confidence=0.32111090421676636, class_name='player'), DetectionResultFrame(box=[1008.9847412109375, 83.09262084960938, 1097.9744873046875, 160.962890625], confidence=0.29363080859184265, class_name='player'), DetectionResultFrame(box=[691.767333984375, 306.65179443359375, 762.669677734375, 448.8580322265625], confidence=0.9019932150840759, class_name='player'), DetectionResultFrame(box=[400.7099609375, 311.3897705078125, 467.942626953125, 448.58251953125], confidence=0.8362426161766052, class_name='player'), DetectionResultFrame(box=[691.29296875, 179.9278564453125, 752.1060791015625, 278.95849609375], confidence=0.8198293447494507, class_name='player'), DetectionResultFrame(box=[403.52813720703125, 153.14169311523438, 454.26995849609375, 241.78561401367188], confidence=0.8130719661712646, class_name='player'), DetectionResultFrame(box=[441.447509765625, 321.74395751953125, 463.41351318359375, 337.84326171875], confidence=0.48835307359695435, class_name='player'), DetectionResultFrame(box=[1221.07421875, 163.98251342773438, 1279.5126953125, 262.0201416015625], confidence=0.4629397988319397, class_name='player'), DetectionResultFrame(box=[27.634429931640625, 150.76646423339844, 69.05479431152344, 212.9977569580078], confidence=0.3443964421749115, class_name='player'), DetectionResultFrame(box=[169.97000122070312, 143.60220336914062, 212.36544799804688, 184.83511352539062], confidence=0.3196878433227539, class_name='player'), DetectionResultFrame(box=[1008.952880859375, 83.1040267944336, 1097.951416015625, 160.93283081054688], confidence=0.31484636664390564, class_name='player'), DetectionResultFrame(box=[693.7557373046875, 304.27838134765625, 763.2353515625, 448.8988037109375], confidence=0.8698234558105469, class_name='player'), DetectionResultFrame(box=[696.3143920898438, 181.90811157226562, 757.4368286132812, 278.7884826660156], confidence=0.816218912601471, class_name='player'), DetectionResultFrame(box=[393.41845703125, 312.641357421875, 458.416748046875, 448.9901123046875], confidence=0.802024245262146, class_name='player'), DetectionResultFrame(box=[404.076171875, 150.85409545898438, 454.7926025390625, 241.89834594726562], confidence=0.7958296537399292, class_name='player'), DetectionResultFrame(box=[1220.990234375, 164.12222290039062, 1279.51416015625, 262.0507507324219], confidence=0.47723206877708435, class_name='player'), DetectionResultFrame(box=[429.0144348144531, 321.9400329589844, 458.9830017089844, 338.1020202636719], confidence=0.4573495090007782, class_name='player'), DetectionResultFrame(box=[27.613868713378906, 150.67868041992188, 69.09989166259766, 212.93496704101562], confidence=0.35333606600761414, class_name='player'), DetectionResultFrame(box=[170.02435302734375, 143.6079864501953, 212.33319091796875, 184.73133850097656], confidence=0.3305199444293976, class_name='player'), DetectionResultFrame(box=[1008.956298828125, 83.09100341796875, 1097.961669921875, 160.94937133789062], confidence=0.3044775426387787, class_name='player'), DetectionResultFrame(box=[698.5008544921875, 301.6007080078125, 763.8216552734375, 448.2042236328125], confidence=0.859054446220398, class_name='player'), DetectionResultFrame(box=[699.0416259765625, 185.08468627929688, 762.8726806640625, 280.0143127441406], confidence=0.8457280397415161, class_name='player'), DetectionResultFrame(box=[386.2150573730469, 311.73638916015625, 451.5975036621094, 449.68267822265625], confidence=0.8148431181907654, class_name='player'), DetectionResultFrame(box=[404.483642578125, 147.81216430664062, 454.5291748046875, 240.33450317382812], confidence=0.7709624171257019, class_name='player'), DetectionResultFrame(box=[1221.0611572265625, 164.27252197265625, 1279.5169677734375, 262.0272216796875], confidence=0.5072463154792786, class_name='player'), DetectionResultFrame(box=[416.4791259765625, 322.78375244140625, 451.5748291015625, 338.28302001953125], confidence=0.38421526551246643, class_name='player'), DetectionResultFrame(box=[27.63005828857422, 150.70736694335938, 69.09439086914062, 212.90643310546875], confidence=0.3565523326396942, class_name='player'), DetectionResultFrame(box=[170.00601196289062, 143.6102294921875, 212.35638427734375, 184.79541015625], confidence=0.33612060546875, class_name='player'), DetectionResultFrame(box=[402.56982421875, 183.00091552734375, 415.1895751953125, 217.81103515625], confidence=0.3251749277114868, class_name='player'), DetectionResultFrame(box=[1008.9739990234375, 83.08441162109375, 1097.9173583984375, 160.8800048828125], confidence=0.3090379238128662, class_name='player'), DetectionResultFrame(box=[705.1456909179688, 300.79718017578125, 765.4606323242188, 446.67205810546875], confidence=0.8517246246337891, class_name='player'), DetectionResultFrame(box=[704.2364501953125, 187.5632781982422, 768.4420166015625, 281.21197509765625], confidence=0.8489009141921997, class_name='player'), DetectionResultFrame(box=[405.7392578125, 146.82623291015625, 454.5499267578125, 239.5126953125], confidence=0.7803930044174194, class_name='player'), DetectionResultFrame(box=[379.3148193359375, 312.224853515625, 447.694580078125, 449.0262451171875], confidence=0.684535562992096, class_name='player'), DetectionResultFrame(box=[1220.92626953125, 164.49783325195312, 1279.5166015625, 262.0608215332031], confidence=0.486750990152359, class_name='player'), DetectionResultFrame(box=[27.567352294921875, 150.6632080078125, 69.12108612060547, 212.82281494140625], confidence=0.3524066209793091, class_name='player'), DetectionResultFrame(box=[170.00564575195312, 143.6356201171875, 212.27105712890625, 184.62310791015625], confidence=0.3406582772731781, class_name='player'), DetectionResultFrame(box=[1008.9471435546875, 83.08370971679688, 1097.8731689453125, 160.85177612304688], confidence=0.321114182472229, class_name='player'), DetectionResultFrame(box=[403.04241943359375, 164.10595703125, 416.64227294921875, 216.4302978515625], confidence=0.25537022948265076, class_name='player'), DetectionResultFrame(box=[0.04196929931640625, 155.42340087890625, 39.711708068847656, 240.19500732421875], confidence=0.2509310841560364, class_name='player'), DetectionResultFrame(box=[705.4489135742188, 300.83453369140625, 765.5582885742188, 446.76971435546875], confidence=0.855509340763092, class_name='player'), DetectionResultFrame(box=[704.2268676757812, 187.46969604492188, 768.4390258789062, 281.2038879394531], confidence=0.8489622473716736, class_name='player'), DetectionResultFrame(box=[405.75457763671875, 146.78713989257812, 454.44696044921875, 239.43716430664062], confidence=0.7841655015945435, class_name='player'), DetectionResultFrame(box=[379.30517578125, 312.234375, 447.680908203125, 449.00634765625], confidence=0.6851116418838501, class_name='player'), DetectionResultFrame(box=[1220.8450927734375, 164.49813842773438, 1279.5179443359375, 262.0972595214844], confidence=0.4804899990558624, class_name='player'), DetectionResultFrame(box=[27.57741355895996, 150.68359375, 69.13408660888672, 212.81765747070312], confidence=0.3501776456832886, class_name='player'), DetectionResultFrame(box=[170.01214599609375, 143.64122009277344, 212.2635498046875, 184.6031951904297], confidence=0.34118711948394775, class_name='player'), DetectionResultFrame(box=[1008.9427490234375, 83.08580780029297, 1097.8743896484375, 160.85052490234375], confidence=0.3220815658569336, class_name='player'), DetectionResultFrame(box=[403.089599609375, 164.1171112060547, 416.71875, 216.47959899902344], confidence=0.2594619691371918, class_name='player'), DetectionResultFrame(box=[0.03960418701171875, 155.36270141601562, 39.75836181640625, 240.17996215820312], confidence=0.25091642141342163, class_name='player'), DetectionResultFrame(box=[707.989990234375, 190.10877990722656, 769.772705078125, 281.8875732421875], confidence=0.8423454165458679, class_name='player'), DetectionResultFrame(box=[712.549560546875, 299.8470458984375, 765.6080322265625, 446.450439453125], confidence=0.839018702507019, class_name='player'), DetectionResultFrame(box=[373.21246337890625, 313.9801025390625, 445.98956298828125, 451.01446533203125], confidence=0.8136000633239746, class_name='player'), DetectionResultFrame(box=[404.71697998046875, 146.39599609375, 456.65802001953125, 238.61273193359375], confidence=0.794305145740509, class_name='player'), DetectionResultFrame(box=[1220.73876953125, 164.68450927734375, 1279.5185546875, 262.2213439941406], confidence=0.46771109104156494, class_name='player'), DetectionResultFrame(box=[169.98960876464844, 143.630859375, 212.30540466308594, 184.69686889648438], confidence=0.3595122992992401, class_name='player'), DetectionResultFrame(box=[405.6311950683594, 322.11810302734375, 435.8288269042969, 338.80853271484375], confidence=0.3589882254600525, class_name='player'), DetectionResultFrame(box=[27.5626277923584, 150.66351318359375, 69.16704559326172, 212.87408447265625], confidence=0.3433980941772461, class_name='player'), DetectionResultFrame(box=[1008.9853515625, 83.110595703125, 1097.86572265625, 160.90280151367188], confidence=0.3046469986438751, class_name='player'), DetectionResultFrame(box=[0.04155731201171875, 155.2943115234375, 39.79463195800781, 240.30560302734375], confidence=0.25553619861602783, class_name='player'), DetectionResultFrame(box=[710.07177734375, 189.6765594482422, 771.251708984375, 282.01348876953125], confidence=0.8532220721244812, class_name='player'), DetectionResultFrame(box=[716.43994140625, 299.73919677734375, 765.64453125, 447.56365966796875], confidence=0.8498043417930603, class_name='player'), DetectionResultFrame(box=[404.39227294921875, 147.76007080078125, 457.8602294921875, 239.340576171875], confidence=0.8100677728652954, class_name='player'), DetectionResultFrame(box=[367.87164306640625, 315.89678955078125, 437.40264892578125, 455.00775146484375], confidence=0.7756763696670532, class_name='player'), DetectionResultFrame(box=[1220.70068359375, 164.96343994140625, 1279.518798828125, 262.2374267578125], confidence=0.4608117938041687, class_name='player'), DetectionResultFrame(box=[169.988525390625, 143.62196350097656, 212.36163330078125, 184.80433654785156], confidence=0.3523746430873871, class_name='player'), DetectionResultFrame(box=[27.56425666809082, 150.67523193359375, 69.15541076660156, 212.9112548828125], confidence=0.3404480814933777, class_name='player'), DetectionResultFrame(box=[1009.047119140625, 83.07469940185547, 1097.8310546875, 160.84759521484375], confidence=0.2717445194721222, class_name='player'), DetectionResultFrame(box=[0.04277801513671875, 155.4722900390625, 39.728614807128906, 240.32879638671875], confidence=0.2538263499736786, class_name='player'), DetectionResultFrame(box=[709.9774169921875, 189.96566772460938, 772.1387939453125, 282.1949157714844], confidence=0.8603606224060059, class_name='player'), DetectionResultFrame(box=[717.267578125, 300.2638244628906, 765.66748046875, 448.9378967285156], confidence=0.8452023267745972, class_name='player'), DetectionResultFrame(box=[404.24456787109375, 148.9617919921875, 462.0982666015625, 242.35543823242188], confidence=0.8074550032615662, class_name='player'), DetectionResultFrame(box=[361.463134765625, 320.271728515625, 424.75408935546875, 459.53271484375], confidence=0.7918128371238708, class_name='player'), DetectionResultFrame(box=[1220.804443359375, 164.8719482421875, 1279.52099609375, 262.2655029296875], confidence=0.44632554054260254, class_name='player'), DetectionResultFrame(box=[170.00299072265625, 143.62234497070312, 212.3486328125, 184.81320190429688], confidence=0.3568427264690399, class_name='player'), DetectionResultFrame(box=[27.536170959472656, 150.53256225585938, 69.1582260131836, 212.91390991210938], confidence=0.3366219401359558, class_name='player'), DetectionResultFrame(box=[1009.053955078125, 83.06893920898438, 1097.82568359375, 160.82870483398438], confidence=0.27130645513534546, class_name='player'), DetectionResultFrame(box=[716.8381958007812, 301.2677307128906, 765.7035522460938, 450.5541687011719], confidence=0.8567863702774048, class_name='player'), DetectionResultFrame(box=[715.8175048828125, 187.85861206054688, 771.7774658203125, 281.9689636230469], confidence=0.8502756953239441, class_name='player'), DetectionResultFrame(box=[404.3341369628906, 151.85311889648438, 463.2314147949219, 243.41839599609375], confidence=0.8187597393989563, class_name='player'), DetectionResultFrame(box=[355.7313232421875, 323.1231689453125, 413.364013671875, 457.426025390625], confidence=0.7847118377685547, class_name='player'), DetectionResultFrame(box=[1220.82763671875, 165.15927124023438, 1279.521240234375, 261.7459411621094], confidence=0.4508814513683319, class_name='player'), DetectionResultFrame(box=[170.00460815429688, 143.6715087890625, 212.31875610351562, 184.7354736328125], confidence=0.3640042841434479, class_name='player'), DetectionResultFrame(box=[27.540578842163086, 150.58087158203125, 69.1298599243164, 213.0660400390625], confidence=0.3357636034488678, class_name='player'), DetectionResultFrame(box=[1009.1217041015625, 83.09249114990234, 1097.7752685546875, 160.75180053710938], confidence=0.278354674577713, class_name='player'), DetectionResultFrame(box=[716.4661254882812, 301.1504821777344, 766.1034545898438, 451.3707580566406], confidence=0.8546926379203796, class_name='player'), DetectionResultFrame(box=[720.794921875, 185.9671630859375, 771.300537109375, 282.00421142578125], confidence=0.845874547958374, class_name='player'), DetectionResultFrame(box=[350.63787841796875, 324.80706787109375, 408.50030517578125, 469.63873291015625], confidence=0.8313087821006775, class_name='player'), DetectionResultFrame(box=[405.2479248046875, 155.09759521484375, 465.5963134765625, 244.23745727539062], confidence=0.8119648098945618, class_name='player'), DetectionResultFrame(box=[1220.828125, 164.80645751953125, 1279.52197265625, 261.67047119140625], confidence=0.4459298253059387, class_name='player'), DetectionResultFrame(box=[169.998046875, 143.66390991210938, 212.3677978515625, 184.8321533203125], confidence=0.35678306221961975, class_name='player'), DetectionResultFrame(box=[27.453018188476562, 150.56126403808594, 69.07586669921875, 213.31065368652344], confidence=0.3274043798446655, class_name='player'), DetectionResultFrame(box=[1009.1177978515625, 83.08114624023438, 1097.7813720703125, 160.77706909179688], confidence=0.27814170718193054, class_name='player'), DetectionResultFrame(box=[716.478271484375, 301.157470703125, 766.113037109375, 451.34466552734375], confidence=0.8545079231262207, class_name='player'), DetectionResultFrame(box=[720.8054809570312, 185.9239044189453, 771.2959594726562, 282.00457763671875], confidence=0.8459019064903259, class_name='player'), DetectionResultFrame(box=[350.6265869140625, 324.77984619140625, 408.47906494140625, 469.61224365234375], confidence=0.8297940492630005, class_name='player'), DetectionResultFrame(box=[405.33038330078125, 155.06683349609375, 465.82952880859375, 244.11114501953125], confidence=0.8109869956970215, class_name='player'), DetectionResultFrame(box=[1220.800048828125, 164.83114624023438, 1279.519287109375, 261.8518981933594], confidence=0.46108296513557434, class_name='player'), DetectionResultFrame(box=[170.0028076171875, 143.67202758789062, 212.35821533203125, 184.81387329101562], confidence=0.3542163670063019, class_name='player'), DetectionResultFrame(box=[27.35968017578125, 150.64529418945312, 69.06122589111328, 213.38076782226562], confidence=0.32648324966430664, class_name='player'), DetectionResultFrame(box=[1009.1217651367188, 83.0820541381836, 1097.779541015625, 160.78579711914062], confidence=0.2778555452823639, class_name='player'), DetectionResultFrame(box=[723.29833984375, 184.3924560546875, 771.0426025390625, 281.87689208984375], confidence=0.8486230373382568, class_name='player'), DetectionResultFrame(box=[715.8359375, 302.39337158203125, 766.270263671875, 451.80780029296875], confidence=0.8466033339500427, class_name='player'), DetectionResultFrame(box=[344.62530517578125, 323.3675537109375, 407.03143310546875, 474.0645751953125], confidence=0.8245134949684143, class_name='player'), DetectionResultFrame(box=[408.2643127441406, 159.14077758789062, 465.7225036621094, 244.01614379882812], confidence=0.775158166885376, class_name='player'), DetectionResultFrame(box=[1220.636962890625, 165.06524658203125, 1279.520751953125, 261.6988525390625], confidence=0.4541786015033722, class_name='player'), DetectionResultFrame(box=[169.99288940429688, 143.65472412109375, 212.45578002929688, 184.9879150390625], confidence=0.35416603088378906, class_name='player'), DetectionResultFrame(box=[27.224815368652344, 150.5570068359375, 69.04085540771484, 213.58935546875], confidence=0.3299523591995239, class_name='player'), DetectionResultFrame(box=[1009.072265625, 83.0643081665039, 1097.802001953125, 160.82333374023438], confidence=0.27218392491340637, class_name='player'), DetectionResultFrame(box=[727.430908203125, 182.7697296142578, 772.344482421875, 282.04229736328125], confidence=0.8391885161399841, class_name='player'), DetectionResultFrame(box=[715.3785400390625, 303.35418701171875, 766.12841796875, 452.56903076171875], confidence=0.8094337582588196, class_name='player'), DetectionResultFrame(box=[414.5926513671875, 163.27874755859375, 465.1175537109375, 244.6146240234375], confidence=0.7879287600517273, class_name='player'), DetectionResultFrame(box=[340.79754638671875, 316.03033447265625, 404.40704345703125, 477.01348876953125], confidence=0.7868136167526245, class_name='player'), DetectionResultFrame(box=[1220.5482177734375, 165.13400268554688, 1279.5218505859375, 261.7742614746094], confidence=0.433407723903656, class_name='player'), DetectionResultFrame(box=[27.443893432617188, 150.66525268554688, 68.6094970703125, 213.61825561523438], confidence=0.34089529514312744, class_name='player'), DetectionResultFrame(box=[170.009765625, 143.67578125, 212.423583984375, 184.88299560546875], confidence=0.3365626335144043, class_name='player'), DetectionResultFrame(box=[1008.9652099609375, 83.07928466796875, 1097.8511962890625, 160.83901977539062], confidence=0.33010104298591614, class_name='player'), DetectionResultFrame(box=[731.4295654296875, 183.7230987548828, 775.8446044921875, 284.82318115234375], confidence=0.8512921929359436, class_name='player'), DetectionResultFrame(box=[414.24481201171875, 166.3138427734375, 466.25311279296875, 248.50302124023438], confidence=0.8206443786621094, class_name='player'), DetectionResultFrame(box=[714.8677368164062, 304.2095031738281, 763.8026733398438, 452.7709655761719], confidence=0.8161594271659851, class_name='player'), DetectionResultFrame(box=[324.5289611816406, 339.419921875, 403.3392639160156, 481.35693359375], confidence=0.7564644813537598, class_name='player'), DetectionResultFrame(box=[1220.630859375, 165.19293212890625, 1279.52294921875, 261.80426025390625], confidence=0.41238459944725037, class_name='player'), DetectionResultFrame(box=[27.325485229492188, 150.597412109375, 68.62950897216797, 213.66152954101562], confidence=0.34096911549568176, class_name='player'), DetectionResultFrame(box=[1008.951171875, 83.10527801513672, 1097.85595703125, 160.8438720703125], confidence=0.33486032485961914, class_name='player'), DetectionResultFrame(box=[170.01171875, 143.7015380859375, 212.3231201171875, 184.73468017578125], confidence=0.30341681838035583, class_name='player'), DetectionResultFrame(box=[733.8744506835938, 184.36044311523438, 778.8805541992188, 284.1324768066406], confidence=0.8366543054580688, class_name='player'), DetectionResultFrame(box=[714.73095703125, 304.33349609375, 763.7412109375, 452.80682373046875], confidence=0.821333110332489, class_name='player'), DetectionResultFrame(box=[415.05322265625, 167.3323974609375, 465.7171630859375, 248.89971923828125], confidence=0.8096452951431274, class_name='player'), DetectionResultFrame(box=[316.8033752441406, 337.700439453125, 400.8005065917969, 482.54449462890625], confidence=0.7540104985237122, class_name='player'), DetectionResultFrame(box=[1220.643310546875, 165.16500854492188, 1279.522216796875, 261.81036376953125], confidence=0.4163433313369751, class_name='player'), DetectionResultFrame(box=[27.367652893066406, 150.82037353515625, 68.64237976074219, 213.83541870117188], confidence=0.3325338363647461, class_name='player'), DetectionResultFrame(box=[1008.975341796875, 83.09219360351562, 1097.852294921875, 160.89462280273438], confidence=0.3236100375652313, class_name='player'), DetectionResultFrame(box=[170.01132202148438, 143.7030792236328, 212.42062377929688, 184.9844512939453], confidence=0.3177434802055359, class_name='player'), DetectionResultFrame(box=[0.035228729248046875, 156.82156372070312, 38.62918472290039, 242.66622924804688], confidence=0.253322035074234, class_name='player'), DetectionResultFrame(box=[733.9711303710938, 184.367919921875, 778.8075561523438, 284.12896728515625], confidence=0.8297511339187622, class_name='player'), DetectionResultFrame(box=[714.6775512695312, 304.60595703125, 763.8346557617188, 452.7086181640625], confidence=0.8218029737472534, class_name='player'), DetectionResultFrame(box=[414.9476318359375, 166.53292846679688, 465.704833984375, 248.63531494140625], confidence=0.8061662316322327, class_name='player'), DetectionResultFrame(box=[316.769287109375, 337.5858154296875, 400.8604736328125, 482.5618896484375], confidence=0.7721408605575562, class_name='player'), DetectionResultFrame(box=[1220.629638671875, 165.1654052734375, 1279.522216796875, 261.84478759765625], confidence=0.41281092166900635, class_name='player'), DetectionResultFrame(box=[1008.9627075195312, 83.09429168701172, 1097.864501953125, 160.908447265625], confidence=0.32302358746528625, class_name='player'), DetectionResultFrame(box=[27.46455192565918, 150.84967041015625, 68.64532470703125, 213.9451904296875], confidence=0.31736624240875244, class_name='player'), DetectionResultFrame(box=[170.00552368164062, 143.70169067382812, 212.43768310546875, 185.02822875976562], confidence=0.31683793663978577, class_name='player'), DetectionResultFrame(box=[0.034984588623046875, 157.27841186523438, 38.63018798828125, 242.83416748046875], confidence=0.2508755922317505, class_name='player'), DetectionResultFrame(box=[714.7214965820312, 304.77386474609375, 763.6973266601562, 452.57415771484375], confidence=0.8215808272361755, class_name='player'), DetectionResultFrame(box=[735.540771484375, 187.3277587890625, 781.052978515625, 284.1488037109375], confidence=0.8080425262451172, class_name='player'), DetectionResultFrame(box=[415.16400146484375, 167.29559326171875, 465.20098876953125, 247.6451416015625], confidence=0.8034155368804932, class_name='player'), DetectionResultFrame(box=[310.3433837890625, 338.2071533203125, 390.3475341796875, 482.269287109375], confidence=0.6819127798080444, class_name='player'), DetectionResultFrame(box=[1220.6689453125, 165.188720703125, 1279.52294921875, 261.776611328125], confidence=0.40597808361053467, class_name='player'), DetectionResultFrame(box=[169.99591064453125, 143.70175170898438, 212.514892578125, 185.21353149414062], confidence=0.3226572275161743, class_name='player'), DetectionResultFrame(box=[27.509048461914062, 150.85018920898438, 68.62732696533203, 213.83535766601562], confidence=0.3223462402820587, class_name='player'), DetectionResultFrame(box=[1009.0339965820312, 83.07174682617188, 1097.854248046875, 160.9132080078125], confidence=0.3099091947078705, class_name='player'), DetectionResultFrame(box=[0.03290557861328125, 157.46664428710938, 38.58717346191406, 242.98089599609375], confidence=0.2557216286659241, class_name='player')])"
      ]
     },
     "execution_count": 8,
     "metadata": {},
     "output_type": "execute_result"
    }
   ],
   "source": [
    "video_processed"
   ]
  }
 ],
 "metadata": {
  "kernelspec": {
   "display_name": "padel-ia-fICo6y9j",
   "language": "python",
   "name": "python3"
  },
  "language_info": {
   "codemirror_mode": {
    "name": "ipython",
    "version": 3
   },
   "file_extension": ".py",
   "mimetype": "text/x-python",
   "name": "python",
   "nbconvert_exporter": "python",
   "pygments_lexer": "ipython3",
   "version": "3.12.3"
  }
 },
 "nbformat": 4,
 "nbformat_minor": 5
}
