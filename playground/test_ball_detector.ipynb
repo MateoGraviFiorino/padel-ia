{
 "cells": [
  {
   "cell_type": "code",
   "execution_count": 1,
   "id": "c2fce914",
   "metadata": {},
   "outputs": [
    {
     "data": {
      "text/plain": [
       "'/home/tomas/Escritorio/Proyectos/proyecto_vision/padel-ia'"
      ]
     },
     "execution_count": 1,
     "metadata": {},
     "output_type": "execute_result"
    }
   ],
   "source": [
    "import os\n",
    "os.chdir(\"..\")\n",
    "os.getcwd()\n"
   ]
  },
  {
   "cell_type": "code",
   "execution_count": 2,
   "id": "bf5bd6b0",
   "metadata": {},
   "outputs": [],
   "source": [
    "from app.yolo import BallYoloDetector"
   ]
  },
  {
   "cell_type": "code",
   "execution_count": 3,
   "id": "8d552308",
   "metadata": {},
   "outputs": [
    {
     "name": "stderr",
     "output_type": "stream",
     "text": [
      "Processing ball detections:   0%|          | 0/45 [00:00<?, ?frames/s]"
     ]
    },
    {
     "name": "stdout",
     "output_type": "stream",
     "text": [
      "\n",
      "0: 544x960 (no detections), 1961.9ms\n",
      "Speed: 4.9ms preprocess, 1961.9ms inference, 0.7ms postprocess per image at shape (1, 3, 544, 960)\n"
     ]
    },
    {
     "name": "stderr",
     "output_type": "stream",
     "text": [
      "Processing ball detections:   2%|▏         | 1/45 [00:04<03:31,  4.81s/frames]"
     ]
    },
    {
     "name": "stdout",
     "output_type": "stream",
     "text": [
      "\n",
      "0: 544x960 (no detections), 2026.8ms\n",
      "Speed: 4.8ms preprocess, 2026.8ms inference, 2.8ms postprocess per image at shape (1, 3, 544, 960)\n"
     ]
    },
    {
     "name": "stderr",
     "output_type": "stream",
     "text": [
      "Processing ball detections:   4%|▍         | 2/45 [00:07<02:40,  3.74s/frames]"
     ]
    },
    {
     "name": "stdout",
     "output_type": "stream",
     "text": [
      "\n",
      "0: 544x960 (no detections), 2382.1ms\n",
      "Speed: 5.0ms preprocess, 2382.1ms inference, 1.0ms postprocess per image at shape (1, 3, 544, 960)\n"
     ]
    },
    {
     "name": "stderr",
     "output_type": "stream",
     "text": [
      "Processing ball detections:   7%|▋         | 3/45 [00:11<02:29,  3.57s/frames]"
     ]
    },
    {
     "name": "stdout",
     "output_type": "stream",
     "text": [
      "\n",
      "0: 544x960 (no detections), 2430.2ms\n",
      "Speed: 5.3ms preprocess, 2430.2ms inference, 0.7ms postprocess per image at shape (1, 3, 544, 960)\n"
     ]
    },
    {
     "name": "stderr",
     "output_type": "stream",
     "text": [
      "Processing ball detections:   9%|▉         | 4/45 [00:14<02:27,  3.61s/frames]"
     ]
    },
    {
     "name": "stdout",
     "output_type": "stream",
     "text": [
      "\n",
      "0: 544x960 (no detections), 2139.9ms\n",
      "Speed: 4.8ms preprocess, 2139.9ms inference, 0.7ms postprocess per image at shape (1, 3, 544, 960)\n"
     ]
    },
    {
     "name": "stderr",
     "output_type": "stream",
     "text": [
      "Processing ball detections:  11%|█         | 5/45 [00:18<02:20,  3.52s/frames]"
     ]
    },
    {
     "name": "stdout",
     "output_type": "stream",
     "text": [
      "\n",
      "0: 544x960 (no detections), 2220.0ms\n",
      "Speed: 5.9ms preprocess, 2220.0ms inference, 1.1ms postprocess per image at shape (1, 3, 544, 960)\n"
     ]
    },
    {
     "name": "stderr",
     "output_type": "stream",
     "text": [
      "Processing ball detections:  13%|█▎        | 6/45 [00:21<02:14,  3.44s/frames]"
     ]
    },
    {
     "name": "stdout",
     "output_type": "stream",
     "text": [
      "\n",
      "0: 544x960 (no detections), 2189.5ms\n",
      "Speed: 7.9ms preprocess, 2189.5ms inference, 2.4ms postprocess per image at shape (1, 3, 544, 960)\n"
     ]
    },
    {
     "name": "stderr",
     "output_type": "stream",
     "text": [
      "Processing ball detections:  16%|█▌        | 7/45 [00:24<02:08,  3.38s/frames]"
     ]
    },
    {
     "name": "stdout",
     "output_type": "stream",
     "text": [
      "\n",
      "0: 544x960 (no detections), 1971.8ms\n",
      "Speed: 4.6ms preprocess, 1971.8ms inference, 0.8ms postprocess per image at shape (1, 3, 544, 960)\n"
     ]
    },
    {
     "name": "stderr",
     "output_type": "stream",
     "text": [
      "Processing ball detections:  18%|█▊        | 8/45 [00:28<02:04,  3.35s/frames]"
     ]
    },
    {
     "name": "stdout",
     "output_type": "stream",
     "text": [
      "\n",
      "0: 544x960 (no detections), 2128.5ms\n",
      "Speed: 5.3ms preprocess, 2128.5ms inference, 0.7ms postprocess per image at shape (1, 3, 544, 960)\n"
     ]
    },
    {
     "name": "stderr",
     "output_type": "stream",
     "text": [
      "Processing ball detections:  20%|██        | 9/45 [00:31<02:00,  3.36s/frames]"
     ]
    },
    {
     "name": "stdout",
     "output_type": "stream",
     "text": [
      "\n",
      "0: 544x960 (no detections), 1965.4ms\n",
      "Speed: 4.5ms preprocess, 1965.4ms inference, 2.7ms postprocess per image at shape (1, 3, 544, 960)\n"
     ]
    },
    {
     "name": "stderr",
     "output_type": "stream",
     "text": [
      "Processing ball detections:  22%|██▏       | 10/45 [00:34<01:53,  3.24s/frames]"
     ]
    },
    {
     "name": "stdout",
     "output_type": "stream",
     "text": [
      "\n",
      "0: 544x960 (no detections), 1955.9ms\n",
      "Speed: 4.9ms preprocess, 1955.9ms inference, 0.6ms postprocess per image at shape (1, 3, 544, 960)\n"
     ]
    },
    {
     "name": "stderr",
     "output_type": "stream",
     "text": [
      "Processing ball detections:  24%|██▍       | 11/45 [00:37<01:48,  3.20s/frames]"
     ]
    },
    {
     "name": "stdout",
     "output_type": "stream",
     "text": [
      "\n",
      "0: 544x960 (no detections), 2242.5ms\n",
      "Speed: 4.6ms preprocess, 2242.5ms inference, 0.6ms postprocess per image at shape (1, 3, 544, 960)\n"
     ]
    },
    {
     "name": "stderr",
     "output_type": "stream",
     "text": [
      "Processing ball detections:  27%|██▋       | 12/45 [00:40<01:46,  3.22s/frames]"
     ]
    },
    {
     "name": "stdout",
     "output_type": "stream",
     "text": [
      "\n",
      "0: 544x960 (no detections), 2079.7ms\n",
      "Speed: 5.2ms preprocess, 2079.7ms inference, 0.6ms postprocess per image at shape (1, 3, 544, 960)\n"
     ]
    },
    {
     "name": "stderr",
     "output_type": "stream",
     "text": [
      "Processing ball detections:  29%|██▉       | 13/45 [00:43<01:42,  3.21s/frames]"
     ]
    },
    {
     "name": "stdout",
     "output_type": "stream",
     "text": [
      "\n",
      "0: 544x960 (no detections), 2104.9ms\n",
      "Speed: 5.6ms preprocess, 2104.9ms inference, 0.6ms postprocess per image at shape (1, 3, 544, 960)\n"
     ]
    },
    {
     "name": "stderr",
     "output_type": "stream",
     "text": [
      "Processing ball detections:  31%|███       | 14/45 [00:47<01:39,  3.22s/frames]"
     ]
    },
    {
     "name": "stdout",
     "output_type": "stream",
     "text": [
      "\n",
      "0: 544x960 (no detections), 2074.3ms\n",
      "Speed: 5.5ms preprocess, 2074.3ms inference, 0.6ms postprocess per image at shape (1, 3, 544, 960)\n"
     ]
    },
    {
     "name": "stderr",
     "output_type": "stream",
     "text": [
      "Processing ball detections:  33%|███▎      | 15/45 [00:50<01:35,  3.19s/frames]"
     ]
    },
    {
     "name": "stdout",
     "output_type": "stream",
     "text": [
      "\n",
      "0: 544x960 1 tennis ball, 2283.1ms\n",
      "Speed: 5.0ms preprocess, 2283.1ms inference, 13.9ms postprocess per image at shape (1, 3, 544, 960)\n"
     ]
    },
    {
     "name": "stderr",
     "output_type": "stream",
     "text": [
      "Processing ball detections:  36%|███▌      | 16/45 [00:53<01:33,  3.23s/frames]"
     ]
    },
    {
     "name": "stdout",
     "output_type": "stream",
     "text": [
      "\n",
      "0: 544x960 1 tennis ball, 2161.6ms\n",
      "Speed: 5.4ms preprocess, 2161.6ms inference, 0.9ms postprocess per image at shape (1, 3, 544, 960)\n"
     ]
    },
    {
     "name": "stderr",
     "output_type": "stream",
     "text": [
      "Processing ball detections:  38%|███▊      | 17/45 [00:56<01:30,  3.22s/frames]"
     ]
    },
    {
     "name": "stdout",
     "output_type": "stream",
     "text": [
      "\n",
      "0: 544x960 1 tennis ball, 2141.5ms\n",
      "Speed: 6.6ms preprocess, 2141.5ms inference, 0.9ms postprocess per image at shape (1, 3, 544, 960)\n"
     ]
    },
    {
     "name": "stderr",
     "output_type": "stream",
     "text": [
      "Processing ball detections:  40%|████      | 18/45 [01:00<01:27,  3.23s/frames]"
     ]
    },
    {
     "name": "stdout",
     "output_type": "stream",
     "text": [
      "\n",
      "0: 544x960 1 tennis ball, 2191.4ms\n",
      "Speed: 5.1ms preprocess, 2191.4ms inference, 1.1ms postprocess per image at shape (1, 3, 544, 960)\n"
     ]
    },
    {
     "name": "stderr",
     "output_type": "stream",
     "text": [
      "Processing ball detections:  42%|████▏     | 19/45 [01:03<01:24,  3.23s/frames]"
     ]
    },
    {
     "name": "stdout",
     "output_type": "stream",
     "text": [
      "\n",
      "0: 544x960 1 tennis ball, 2142.6ms\n",
      "Speed: 5.6ms preprocess, 2142.6ms inference, 1.0ms postprocess per image at shape (1, 3, 544, 960)\n"
     ]
    },
    {
     "name": "stderr",
     "output_type": "stream",
     "text": [
      "Processing ball detections:  44%|████▍     | 20/45 [01:06<01:21,  3.27s/frames]"
     ]
    },
    {
     "name": "stdout",
     "output_type": "stream",
     "text": [
      "\n",
      "0: 544x960 (no detections), 1947.5ms\n",
      "Speed: 5.4ms preprocess, 1947.5ms inference, 0.6ms postprocess per image at shape (1, 3, 544, 960)\n"
     ]
    },
    {
     "name": "stderr",
     "output_type": "stream",
     "text": [
      "Processing ball detections:  47%|████▋     | 21/45 [01:09<01:16,  3.17s/frames]"
     ]
    },
    {
     "name": "stdout",
     "output_type": "stream",
     "text": [
      "\n",
      "0: 544x960 (no detections), 1968.6ms\n",
      "Speed: 5.2ms preprocess, 1968.6ms inference, 0.6ms postprocess per image at shape (1, 3, 544, 960)\n"
     ]
    },
    {
     "name": "stderr",
     "output_type": "stream",
     "text": [
      "Processing ball detections:  49%|████▉     | 22/45 [01:12<01:11,  3.10s/frames]"
     ]
    },
    {
     "name": "stdout",
     "output_type": "stream",
     "text": [
      "\n",
      "0: 544x960 (no detections), 1917.0ms\n",
      "Speed: 5.2ms preprocess, 1917.0ms inference, 2.2ms postprocess per image at shape (1, 3, 544, 960)\n"
     ]
    },
    {
     "name": "stderr",
     "output_type": "stream",
     "text": [
      "Processing ball detections:  51%|█████     | 23/45 [01:15<01:06,  3.03s/frames]"
     ]
    },
    {
     "name": "stdout",
     "output_type": "stream",
     "text": [
      "\n",
      "0: 544x960 (no detections), 1956.4ms\n",
      "Speed: 5.1ms preprocess, 1956.4ms inference, 0.6ms postprocess per image at shape (1, 3, 544, 960)\n"
     ]
    },
    {
     "name": "stderr",
     "output_type": "stream",
     "text": [
      "Processing ball detections:  53%|█████▎    | 24/45 [01:18<01:03,  3.00s/frames]"
     ]
    },
    {
     "name": "stdout",
     "output_type": "stream",
     "text": [
      "\n",
      "0: 544x960 (no detections), 2610.4ms\n",
      "Speed: 4.9ms preprocess, 2610.4ms inference, 0.9ms postprocess per image at shape (1, 3, 544, 960)\n"
     ]
    },
    {
     "name": "stderr",
     "output_type": "stream",
     "text": [
      "Processing ball detections:  56%|█████▌    | 25/45 [01:21<01:03,  3.17s/frames]"
     ]
    },
    {
     "name": "stdout",
     "output_type": "stream",
     "text": [
      "\n",
      "0: 544x960 (no detections), 1963.2ms\n",
      "Speed: 5.1ms preprocess, 1963.2ms inference, 0.5ms postprocess per image at shape (1, 3, 544, 960)\n"
     ]
    },
    {
     "name": "stderr",
     "output_type": "stream",
     "text": [
      "Processing ball detections:  58%|█████▊    | 26/45 [01:25<01:00,  3.17s/frames]"
     ]
    },
    {
     "name": "stdout",
     "output_type": "stream",
     "text": [
      "\n",
      "0: 544x960 (no detections), 2038.5ms\n",
      "Speed: 5.7ms preprocess, 2038.5ms inference, 0.6ms postprocess per image at shape (1, 3, 544, 960)\n"
     ]
    },
    {
     "name": "stderr",
     "output_type": "stream",
     "text": [
      "Processing ball detections:  60%|██████    | 27/45 [01:28<00:56,  3.12s/frames]"
     ]
    },
    {
     "name": "stdout",
     "output_type": "stream",
     "text": [
      "\n",
      "0: 544x960 (no detections), 1972.4ms\n",
      "Speed: 5.1ms preprocess, 1972.4ms inference, 0.6ms postprocess per image at shape (1, 3, 544, 960)\n"
     ]
    },
    {
     "name": "stderr",
     "output_type": "stream",
     "text": [
      "Processing ball detections:  62%|██████▏   | 28/45 [01:31<00:52,  3.07s/frames]"
     ]
    },
    {
     "name": "stdout",
     "output_type": "stream",
     "text": [
      "\n",
      "0: 544x960 (no detections), 1922.1ms\n",
      "Speed: 5.7ms preprocess, 1922.1ms inference, 0.6ms postprocess per image at shape (1, 3, 544, 960)\n"
     ]
    },
    {
     "name": "stderr",
     "output_type": "stream",
     "text": [
      "Processing ball detections:  64%|██████▍   | 29/45 [01:33<00:48,  3.02s/frames]"
     ]
    },
    {
     "name": "stdout",
     "output_type": "stream",
     "text": [
      "\n",
      "0: 544x960 (no detections), 1895.5ms\n",
      "Speed: 5.0ms preprocess, 1895.5ms inference, 2.4ms postprocess per image at shape (1, 3, 544, 960)\n"
     ]
    },
    {
     "name": "stderr",
     "output_type": "stream",
     "text": [
      "Processing ball detections:  67%|██████▋   | 30/45 [01:36<00:44,  2.98s/frames]"
     ]
    },
    {
     "name": "stdout",
     "output_type": "stream",
     "text": [
      "\n",
      "0: 544x960 (no detections), 1852.0ms\n",
      "Speed: 5.6ms preprocess, 1852.0ms inference, 0.8ms postprocess per image at shape (1, 3, 544, 960)\n"
     ]
    },
    {
     "name": "stderr",
     "output_type": "stream",
     "text": [
      "Processing ball detections:  69%|██████▉   | 31/45 [01:39<00:41,  2.94s/frames]"
     ]
    },
    {
     "name": "stdout",
     "output_type": "stream",
     "text": [
      "\n",
      "0: 544x960 (no detections), 1829.9ms\n",
      "Speed: 4.4ms preprocess, 1829.9ms inference, 0.7ms postprocess per image at shape (1, 3, 544, 960)\n"
     ]
    },
    {
     "name": "stderr",
     "output_type": "stream",
     "text": [
      "Processing ball detections:  71%|███████   | 32/45 [01:42<00:38,  2.95s/frames]"
     ]
    },
    {
     "name": "stdout",
     "output_type": "stream",
     "text": [
      "\n",
      "0: 544x960 (no detections), 1892.2ms\n",
      "Speed: 4.9ms preprocess, 1892.2ms inference, 0.6ms postprocess per image at shape (1, 3, 544, 960)\n"
     ]
    },
    {
     "name": "stderr",
     "output_type": "stream",
     "text": [
      "Processing ball detections:  73%|███████▎  | 33/45 [01:45<00:35,  2.97s/frames]"
     ]
    },
    {
     "name": "stdout",
     "output_type": "stream",
     "text": [
      "\n",
      "0: 544x960 (no detections), 1972.9ms\n",
      "Speed: 4.7ms preprocess, 1972.9ms inference, 0.6ms postprocess per image at shape (1, 3, 544, 960)\n"
     ]
    },
    {
     "name": "stderr",
     "output_type": "stream",
     "text": [
      "Processing ball detections:  76%|███████▌  | 34/45 [01:48<00:32,  2.96s/frames]"
     ]
    },
    {
     "name": "stdout",
     "output_type": "stream",
     "text": [
      "\n",
      "0: 544x960 (no detections), 1874.6ms\n",
      "Speed: 5.3ms preprocess, 1874.6ms inference, 0.7ms postprocess per image at shape (1, 3, 544, 960)\n"
     ]
    },
    {
     "name": "stderr",
     "output_type": "stream",
     "text": [
      "Processing ball detections:  78%|███████▊  | 35/45 [01:51<00:29,  2.92s/frames]"
     ]
    },
    {
     "name": "stdout",
     "output_type": "stream",
     "text": [
      "\n",
      "0: 544x960 (no detections), 1917.7ms\n",
      "Speed: 5.1ms preprocess, 1917.7ms inference, 0.7ms postprocess per image at shape (1, 3, 544, 960)\n"
     ]
    },
    {
     "name": "stderr",
     "output_type": "stream",
     "text": [
      "Processing ball detections:  80%|████████  | 36/45 [01:54<00:26,  2.91s/frames]"
     ]
    },
    {
     "name": "stdout",
     "output_type": "stream",
     "text": [
      "\n",
      "0: 544x960 (no detections), 2189.7ms\n",
      "Speed: 4.5ms preprocess, 2189.7ms inference, 0.7ms postprocess per image at shape (1, 3, 544, 960)\n"
     ]
    },
    {
     "name": "stderr",
     "output_type": "stream",
     "text": [
      "Processing ball detections:  82%|████████▏ | 37/45 [01:57<00:23,  2.97s/frames]"
     ]
    },
    {
     "name": "stdout",
     "output_type": "stream",
     "text": [
      "\n",
      "0: 544x960 (no detections), 2009.5ms\n",
      "Speed: 5.0ms preprocess, 2009.5ms inference, 0.6ms postprocess per image at shape (1, 3, 544, 960)\n"
     ]
    },
    {
     "name": "stderr",
     "output_type": "stream",
     "text": [
      "Processing ball detections:  84%|████████▍ | 38/45 [02:00<00:21,  3.02s/frames]"
     ]
    },
    {
     "name": "stdout",
     "output_type": "stream",
     "text": [
      "\n",
      "0: 544x960 (no detections), 1958.0ms\n",
      "Speed: 6.1ms preprocess, 1958.0ms inference, 0.6ms postprocess per image at shape (1, 3, 544, 960)\n"
     ]
    },
    {
     "name": "stderr",
     "output_type": "stream",
     "text": [
      "Processing ball detections:  87%|████████▋ | 39/45 [02:03<00:17,  2.99s/frames]"
     ]
    },
    {
     "name": "stdout",
     "output_type": "stream",
     "text": [
      "\n",
      "0: 544x960 (no detections), 1966.2ms\n",
      "Speed: 5.0ms preprocess, 1966.2ms inference, 0.6ms postprocess per image at shape (1, 3, 544, 960)\n"
     ]
    },
    {
     "name": "stderr",
     "output_type": "stream",
     "text": [
      "Processing ball detections:  89%|████████▉ | 40/45 [02:06<00:14,  2.97s/frames]"
     ]
    },
    {
     "name": "stdout",
     "output_type": "stream",
     "text": [
      "\n",
      "0: 544x960 (no detections), 2030.6ms\n",
      "Speed: 7.6ms preprocess, 2030.6ms inference, 0.6ms postprocess per image at shape (1, 3, 544, 960)\n"
     ]
    },
    {
     "name": "stderr",
     "output_type": "stream",
     "text": [
      "Processing ball detections:  91%|█████████ | 41/45 [02:09<00:11,  2.99s/frames]"
     ]
    },
    {
     "name": "stdout",
     "output_type": "stream",
     "text": [
      "\n",
      "0: 544x960 (no detections), 2081.1ms\n",
      "Speed: 4.9ms preprocess, 2081.1ms inference, 0.7ms postprocess per image at shape (1, 3, 544, 960)\n"
     ]
    },
    {
     "name": "stderr",
     "output_type": "stream",
     "text": [
      "Processing ball detections:  93%|█████████▎| 42/45 [02:12<00:09,  3.01s/frames]"
     ]
    },
    {
     "name": "stdout",
     "output_type": "stream",
     "text": [
      "\n",
      "0: 544x960 (no detections), 1899.9ms\n",
      "Speed: 4.6ms preprocess, 1899.9ms inference, 0.7ms postprocess per image at shape (1, 3, 544, 960)\n"
     ]
    },
    {
     "name": "stderr",
     "output_type": "stream",
     "text": [
      "Processing ball detections:  96%|█████████▌| 43/45 [02:15<00:05,  2.97s/frames]"
     ]
    },
    {
     "name": "stdout",
     "output_type": "stream",
     "text": [
      "\n",
      "0: 544x960 (no detections), 1953.6ms\n",
      "Speed: 4.9ms preprocess, 1953.6ms inference, 0.5ms postprocess per image at shape (1, 3, 544, 960)\n"
     ]
    },
    {
     "name": "stderr",
     "output_type": "stream",
     "text": [
      "Processing ball detections:  98%|█████████▊| 44/45 [02:18<00:02,  3.00s/frames]"
     ]
    },
    {
     "name": "stdout",
     "output_type": "stream",
     "text": [
      "\n",
      "0: 544x960 (no detections), 1899.6ms\n",
      "Speed: 5.0ms preprocess, 1899.6ms inference, 0.6ms postprocess per image at shape (1, 3, 544, 960)\n"
     ]
    },
    {
     "name": "stderr",
     "output_type": "stream",
     "text": [
      "Processing ball detections: 100%|██████████| 45/45 [02:21<00:00,  3.14s/frames]\n"
     ]
    }
   ],
   "source": [
    "\n",
    "detector = BallYoloDetector()\n",
    "video_processed = detector.process_video(\"data/video_cortado.mp4\")"
   ]
  },
  {
   "cell_type": "code",
   "execution_count": 4,
   "id": "184b8894",
   "metadata": {},
   "outputs": [
    {
     "data": {
      "text/plain": [
       "DetectionResultVideo(frame_detections=[DetectionResultFrame(box=[403.0492858886719, 127.20198822021484, 414.8090515136719, 139.2366180419922], confidence=0.5432834625244141, class_name='ball'), DetectionResultFrame(box=[399.0586853027344, 115.8934555053711, 411.5763244628906, 129.05128479003906], confidence=0.32108834385871887, class_name='ball'), DetectionResultFrame(box=[399.0328063964844, 115.85999298095703, 411.6348571777344, 129.10336303710938], confidence=0.2999870181083679, class_name='ball'), DetectionResultFrame(box=[395.51611328125, 105.57086181640625, 407.888671875, 118.3193588256836], confidence=0.3561194837093353, class_name='ball'), DetectionResultFrame(box=[391.3313903808594, 95.94112396240234, 403.9364318847656, 108.80517578125], confidence=0.6314639449119568, class_name='ball')])"
      ]
     },
     "execution_count": 4,
     "metadata": {},
     "output_type": "execute_result"
    }
   ],
   "source": [
    "video_processed"
   ]
  }
 ],
 "metadata": {
  "kernelspec": {
   "display_name": "padel-ia-fICo6y9j",
   "language": "python",
   "name": "python3"
  },
  "language_info": {
   "codemirror_mode": {
    "name": "ipython",
    "version": 3
   },
   "file_extension": ".py",
   "mimetype": "text/x-python",
   "name": "python",
   "nbconvert_exporter": "python",
   "pygments_lexer": "ipython3",
   "version": "3.12.3"
  }
 },
 "nbformat": 4,
 "nbformat_minor": 5
}
