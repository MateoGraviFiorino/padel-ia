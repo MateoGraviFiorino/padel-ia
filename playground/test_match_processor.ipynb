{
 "cells": [
  {
   "cell_type": "code",
   "execution_count": 1,
   "id": "a4fa4397",
   "metadata": {},
   "outputs": [
    {
     "data": {
      "text/plain": [
       "'/home/tomas/Escritorio/Proyectos/proyecto_vision/padel-ia'"
      ]
     },
     "execution_count": 1,
     "metadata": {},
     "output_type": "execute_result"
    }
   ],
   "source": [
    "import os\n",
    "os.chdir(\"..\")\n",
    "os.getcwd()\n"
   ]
  },
  {
   "cell_type": "code",
   "execution_count": 2,
   "id": "453a6a6c",
   "metadata": {},
   "outputs": [],
   "source": [
    "from app.match import PadelMatchProcessor"
   ]
  },
  {
   "cell_type": "code",
   "execution_count": null,
   "id": "d4fcc3d6",
   "metadata": {},
   "outputs": [
    {
     "name": "stdout",
     "output_type": "stream",
     "text": [
      "Procesando video: data/video_cortado_10s.mp4\n",
      "Frames: 300, FPS: 30.00, Duración: 10.00s\n",
      "Umbral de distancia: 80.0px, Mínimo frames entre golpes: 10\n"
     ]
    },
    {
     "name": "stderr",
     "output_type": "stream",
     "text": [
      "Analizando partido con output:   0%|          | 0/300 [00:00<?, ?frames/s]"
     ]
    },
    {
     "name": "stdout",
     "output_type": "stream",
     "text": [
      "\n",
      "0: 384x640 5 persons, 1 car, 2 tvs, 1005.9ms\n",
      "Speed: 2.6ms preprocess, 1005.9ms inference, 0.9ms postprocess per image at shape (1, 3, 384, 640)\n",
      "\n",
      "0: 544x960 (no detections), 1883.4ms\n",
      "Speed: 5.4ms preprocess, 1883.4ms inference, 0.7ms postprocess per image at shape (1, 3, 544, 960)\n",
      "\n",
      "0: 384x640 5 persons, 1 car, 2 tvs, 823.7ms\n",
      "Speed: 2.0ms preprocess, 823.7ms inference, 1.1ms postprocess per image at shape (1, 3, 384, 640)\n",
      "\n",
      "0: 544x960 (no detections), 1827.0ms\n",
      "Speed: 5.3ms preprocess, 1827.0ms inference, 0.6ms postprocess per image at shape (1, 3, 544, 960)\n"
     ]
    },
    {
     "name": "stderr",
     "output_type": "stream",
     "text": [
      "Analizando partido con output:   0%|          | 1/300 [00:10<50:02, 10.04s/frames]"
     ]
    },
    {
     "name": "stdout",
     "output_type": "stream",
     "text": [
      "\n",
      "0: 384x640 5 persons, 1 car, 2 tvs, 896.1ms\n",
      "Speed: 1.8ms preprocess, 896.1ms inference, 2.2ms postprocess per image at shape (1, 3, 384, 640)\n",
      "\n",
      "0: 544x960 (no detections), 1844.2ms\n",
      "Speed: 4.8ms preprocess, 1844.2ms inference, 0.5ms postprocess per image at shape (1, 3, 544, 960)\n",
      "\n",
      "0: 384x640 5 persons, 1 car, 2 tvs, 894.1ms\n",
      "Speed: 1.8ms preprocess, 894.1ms inference, 1.1ms postprocess per image at shape (1, 3, 384, 640)\n",
      "\n",
      "0: 544x960 (no detections), 1660.7ms\n",
      "Speed: 5.1ms preprocess, 1660.7ms inference, 0.8ms postprocess per image at shape (1, 3, 544, 960)\n"
     ]
    },
    {
     "name": "stderr",
     "output_type": "stream",
     "text": [
      "Analizando partido con output:   1%|          | 2/300 [00:19<47:08,  9.49s/frames]"
     ]
    },
    {
     "name": "stdout",
     "output_type": "stream",
     "text": [
      "\n",
      "0: 384x640 5 persons, 2 tvs, 1064.7ms\n",
      "Speed: 1.9ms preprocess, 1064.7ms inference, 0.9ms postprocess per image at shape (1, 3, 384, 640)\n",
      "\n",
      "0: 544x960 (no detections), 1743.8ms\n",
      "Speed: 4.6ms preprocess, 1743.8ms inference, 0.5ms postprocess per image at shape (1, 3, 544, 960)\n",
      "\n",
      "0: 384x640 5 persons, 2 tvs, 902.3ms\n",
      "Speed: 2.2ms preprocess, 902.3ms inference, 1.0ms postprocess per image at shape (1, 3, 384, 640)\n",
      "\n",
      "0: 544x960 (no detections), 1751.6ms\n",
      "Speed: 3.9ms preprocess, 1751.6ms inference, 0.6ms postprocess per image at shape (1, 3, 544, 960)\n"
     ]
    },
    {
     "name": "stderr",
     "output_type": "stream",
     "text": [
      "Analizando partido con output:   1%|          | 3/300 [00:28<46:46,  9.45s/frames]"
     ]
    },
    {
     "name": "stdout",
     "output_type": "stream",
     "text": [
      "\n",
      "0: 384x640 5 persons, 2 tvs, 924.1ms\n",
      "Speed: 1.9ms preprocess, 924.1ms inference, 1.2ms postprocess per image at shape (1, 3, 384, 640)\n",
      "\n",
      "0: 544x960 (no detections), 1639.1ms\n",
      "Speed: 4.1ms preprocess, 1639.1ms inference, 0.7ms postprocess per image at shape (1, 3, 544, 960)\n",
      "\n"
     ]
    }
   ],
   "source": [
    "match_processor = PadelMatchProcessor()\n",
    "match_processor.process_video_with_output(\"data/video_cortado_10s.mp4\", \"data/video_cortado_output_10s.mp4\")"
   ]
  }
 ],
 "metadata": {
  "kernelspec": {
   "display_name": "padel-ia-fICo6y9j",
   "language": "python",
   "name": "python3"
  },
  "language_info": {
   "codemirror_mode": {
    "name": "ipython",
    "version": 3
   },
   "file_extension": ".py",
   "mimetype": "text/x-python",
   "name": "python",
   "nbconvert_exporter": "python",
   "pygments_lexer": "ipython3",
   "version": "3.12.3"
  }
 },
 "nbformat": 4,
 "nbformat_minor": 5
}
