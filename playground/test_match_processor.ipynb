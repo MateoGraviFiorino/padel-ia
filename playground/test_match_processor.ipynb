{
 "cells": [
  {
   "cell_type": "code",
   "execution_count": 1,
   "id": "a4fa4397",
   "metadata": {},
   "outputs": [
    {
     "data": {
      "text/plain": [
       "'/home/tomas/Escritorio/Proyectos/proyecto_vision/padel-ia'"
      ]
     },
     "execution_count": 1,
     "metadata": {},
     "output_type": "execute_result"
    }
   ],
   "source": [
    "import os\n",
    "os.chdir(\"..\")\n",
    "os.getcwd()\n"
   ]
  },
  {
   "cell_type": "code",
   "execution_count": 2,
   "id": "453a6a6c",
   "metadata": {},
   "outputs": [],
   "source": [
    "from app.match import PadelMatchProcessor"
   ]
  },
  {
   "cell_type": "markdown",
   "id": "d01000ee",
   "metadata": {},
   "source": [
    "El jugador 0 dio 1 golpe\n",
    "el jugador 1 dio 2 golpes\n",
    "el jugador 2 dio 1 golpe\n",
    "el jugador 3 dio 2 golpe"
   ]
  },
  {
   "cell_type": "code",
   "execution_count": null,
   "id": "d4fcc3d6",
   "metadata": {},
   "outputs": [
    {
     "name": "stderr",
     "output_type": "stream",
     "text": [
      "Analizando partido:   0%|          | 0/150 [00:00<?, ?frames/s]"
     ]
    },
    {
     "name": "stdout",
     "output_type": "stream",
     "text": [
      "\n",
      "0: 384x640 5 persons, 1 car, 2 tvs, 1075.7ms\n",
      "Speed: 13.1ms preprocess, 1075.7ms inference, 1.5ms postprocess per image at shape (1, 3, 384, 640)\n",
      "\n",
      "0: 544x960 (no detections), 2170.7ms\n",
      "Speed: 4.0ms preprocess, 2170.7ms inference, 0.7ms postprocess per image at shape (1, 3, 544, 960)\n"
     ]
    },
    {
     "name": "stderr",
     "output_type": "stream",
     "text": [
      "Analizando partido:   1%|          | 1/150 [00:06<15:41,  6.32s/frames]"
     ]
    },
    {
     "name": "stdout",
     "output_type": "stream",
     "text": [
      "\n",
      "0: 384x640 5 persons, 1 car, 2 tvs, 862.0ms\n",
      "Speed: 1.6ms preprocess, 862.0ms inference, 1.0ms postprocess per image at shape (1, 3, 384, 640)\n",
      "\n",
      "0: 544x960 (no detections), 1712.3ms\n",
      "Speed: 3.9ms preprocess, 1712.3ms inference, 0.7ms postprocess per image at shape (1, 3, 544, 960)\n"
     ]
    },
    {
     "name": "stderr",
     "output_type": "stream",
     "text": [
      "Analizando partido:   1%|▏         | 2/150 [00:10<12:44,  5.16s/frames]"
     ]
    },
    {
     "name": "stdout",
     "output_type": "stream",
     "text": [
      "\n",
      "0: 384x640 5 persons, 2 tvs, 1037.8ms\n",
      "Speed: 1.7ms preprocess, 1037.8ms inference, 0.9ms postprocess per image at shape (1, 3, 384, 640)\n",
      "\n",
      "0: 544x960 (no detections), 2176.5ms\n",
      "Speed: 4.8ms preprocess, 2176.5ms inference, 0.8ms postprocess per image at shape (1, 3, 544, 960)\n"
     ]
    },
    {
     "name": "stderr",
     "output_type": "stream",
     "text": [
      "Analizando partido:   2%|▏         | 3/150 [00:16<13:02,  5.32s/frames]"
     ]
    },
    {
     "name": "stdout",
     "output_type": "stream",
     "text": [
      "\n",
      "0: 384x640 5 persons, 2 tvs, 858.9ms\n",
      "Speed: 6.9ms preprocess, 858.9ms inference, 1.1ms postprocess per image at shape (1, 3, 384, 640)\n",
      "\n",
      "0: 544x960 (no detections), 1798.8ms\n",
      "Speed: 4.5ms preprocess, 1798.8ms inference, 0.7ms postprocess per image at shape (1, 3, 544, 960)\n"
     ]
    },
    {
     "name": "stderr",
     "output_type": "stream",
     "text": [
      "Analizando partido:   3%|▎         | 4/150 [00:20<12:15,  5.04s/frames]"
     ]
    },
    {
     "name": "stdout",
     "output_type": "stream",
     "text": [
      "\n",
      "0: 384x640 5 persons, 2 tvs, 859.3ms\n",
      "Speed: 1.7ms preprocess, 859.3ms inference, 1.1ms postprocess per image at shape (1, 3, 384, 640)\n",
      "\n",
      "0: 544x960 (no detections), 1707.1ms\n",
      "Speed: 4.5ms preprocess, 1707.1ms inference, 0.6ms postprocess per image at shape (1, 3, 544, 960)\n"
     ]
    },
    {
     "name": "stderr",
     "output_type": "stream",
     "text": [
      "Analizando partido:   3%|▎         | 5/150 [00:25<11:42,  4.85s/frames]"
     ]
    },
    {
     "name": "stdout",
     "output_type": "stream",
     "text": [
      "\n",
      "0: 384x640 6 persons, 1 car, 2 tvs, 826.8ms\n",
      "Speed: 1.9ms preprocess, 826.8ms inference, 1.0ms postprocess per image at shape (1, 3, 384, 640)\n",
      "\n",
      "0: 544x960 (no detections), 1646.9ms\n",
      "Speed: 4.8ms preprocess, 1646.9ms inference, 0.6ms postprocess per image at shape (1, 3, 544, 960)\n"
     ]
    },
    {
     "name": "stderr",
     "output_type": "stream",
     "text": [
      "Analizando partido:   4%|▍         | 6/150 [00:29<11:13,  4.68s/frames]"
     ]
    },
    {
     "name": "stdout",
     "output_type": "stream",
     "text": [
      "\n",
      "0: 384x640 5 persons, 2 tvs, 881.5ms\n",
      "Speed: 6.1ms preprocess, 881.5ms inference, 1.1ms postprocess per image at shape (1, 3, 384, 640)\n",
      "\n",
      "0: 544x960 (no detections), 1876.8ms\n",
      "Speed: 5.4ms preprocess, 1876.8ms inference, 0.7ms postprocess per image at shape (1, 3, 544, 960)\n"
     ]
    },
    {
     "name": "stderr",
     "output_type": "stream",
     "text": [
      "Analizando partido:   5%|▍         | 7/150 [00:34<11:16,  4.73s/frames]"
     ]
    },
    {
     "name": "stdout",
     "output_type": "stream",
     "text": [
      "\n",
      "0: 384x640 5 persons, 2 tvs, 875.2ms\n",
      "Speed: 1.7ms preprocess, 875.2ms inference, 1.7ms postprocess per image at shape (1, 3, 384, 640)\n",
      "\n",
      "0: 544x960 1 tennis ball, 1646.1ms\n",
      "Speed: 4.3ms preprocess, 1646.1ms inference, 0.9ms postprocess per image at shape (1, 3, 544, 960)\n"
     ]
    },
    {
     "name": "stderr",
     "output_type": "stream",
     "text": [
      "Analizando partido:   5%|▌         | 8/150 [00:39<11:03,  4.67s/frames]"
     ]
    },
    {
     "name": "stdout",
     "output_type": "stream",
     "text": [
      "\n",
      "0: 384x640 5 persons, 1 tennis racket, 2 tvs, 854.6ms\n",
      "Speed: 1.7ms preprocess, 854.6ms inference, 1.0ms postprocess per image at shape (1, 3, 384, 640)\n",
      "\n",
      "0: 544x960 1 tennis ball, 2704.8ms\n",
      "Speed: 4.3ms preprocess, 2704.8ms inference, 1.1ms postprocess per image at shape (1, 3, 544, 960)\n"
     ]
    },
    {
     "name": "stderr",
     "output_type": "stream",
     "text": [
      "Analizando partido:   6%|▌         | 9/150 [00:44<11:32,  4.91s/frames]"
     ]
    },
    {
     "name": "stdout",
     "output_type": "stream",
     "text": [
      "\n",
      "0: 384x640 5 persons, 2 tvs, 1162.4ms\n",
      "Speed: 1.8ms preprocess, 1162.4ms inference, 1.3ms postprocess per image at shape (1, 3, 384, 640)\n",
      "\n",
      "0: 544x960 (no detections), 2215.3ms\n",
      "Speed: 5.0ms preprocess, 2215.3ms inference, 0.8ms postprocess per image at shape (1, 3, 544, 960)\n"
     ]
    },
    {
     "name": "stderr",
     "output_type": "stream",
     "text": [
      "Analizando partido:   7%|▋         | 10/150 [00:50<11:59,  5.14s/frames]"
     ]
    },
    {
     "name": "stdout",
     "output_type": "stream",
     "text": [
      "\n",
      "0: 384x640 5 persons, 2 tvs, 969.5ms\n",
      "Speed: 2.3ms preprocess, 969.5ms inference, 1.0ms postprocess per image at shape (1, 3, 384, 640)\n",
      "\n",
      "0: 544x960 (no detections), 2089.2ms\n",
      "Speed: 4.6ms preprocess, 2089.2ms inference, 1.1ms postprocess per image at shape (1, 3, 544, 960)\n"
     ]
    },
    {
     "name": "stderr",
     "output_type": "stream",
     "text": [
      "Analizando partido:   7%|▋         | 11/150 [00:55<11:59,  5.18s/frames]"
     ]
    },
    {
     "name": "stdout",
     "output_type": "stream",
     "text": [
      "\n",
      "0: 384x640 5 persons, 1 car, 2 tvs, 1058.4ms\n",
      "Speed: 4.4ms preprocess, 1058.4ms inference, 1.9ms postprocess per image at shape (1, 3, 384, 640)\n",
      "\n"
     ]
    }
   ],
   "source": [
    "match_processor = PadelMatchProcessor()\n",
    "match_processor.process_video(\"data/video_cortado_5s.mp4\")"
   ]
  }
 ],
 "metadata": {
  "kernelspec": {
   "display_name": "padel-ia-fICo6y9j",
   "language": "python",
   "name": "python3"
  },
  "language_info": {
   "codemirror_mode": {
    "name": "ipython",
    "version": 3
   },
   "file_extension": ".py",
   "mimetype": "text/x-python",
   "name": "python",
   "nbconvert_exporter": "python",
   "pygments_lexer": "ipython3",
   "version": "3.12.3"
  }
 },
 "nbformat": 4,
 "nbformat_minor": 5
}
