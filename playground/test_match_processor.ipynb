{
 "cells": [
  {
   "cell_type": "code",
   "execution_count": 1,
   "id": "a4fa4397",
   "metadata": {},
   "outputs": [
    {
     "data": {
      "text/plain": [
       "'/home/tomas/Escritorio/Proyectos/proyecto_vision/padel-ia'"
      ]
     },
     "execution_count": 1,
     "metadata": {},
     "output_type": "execute_result"
    }
   ],
   "source": [
    "import os\n",
    "os.chdir(\"..\")\n",
    "os.getcwd()\n"
   ]
  },
  {
   "cell_type": "code",
   "execution_count": 2,
   "id": "453a6a6c",
   "metadata": {},
   "outputs": [],
   "source": [
    "from app.match import PadelMatchProcessor"
   ]
  },
  {
   "cell_type": "markdown",
   "id": "d01000ee",
   "metadata": {},
   "source": [
    "El jugador 0 dio 1 golpe\n",
    "el jugador 1 dio 2 golpes\n",
    "el jugador 2 dio 1 golpe\n",
    "el jugador 3 dio 2 golpe"
   ]
  },
  {
   "cell_type": "code",
   "execution_count": 3,
   "id": "d4fcc3d6",
   "metadata": {},
   "outputs": [
    {
     "name": "stderr",
     "output_type": "stream",
     "text": [
      "Analizando partido:   0%|          | 0/150 [00:00<?, ?frames/s]"
     ]
    },
    {
     "name": "stdout",
     "output_type": "stream",
     "text": [
      "\n",
      "0: 384x640 5 persons, 1 car, 2 tvs, 1075.7ms\n",
      "Speed: 13.1ms preprocess, 1075.7ms inference, 1.5ms postprocess per image at shape (1, 3, 384, 640)\n",
      "\n",
      "0: 544x960 (no detections), 2170.7ms\n",
      "Speed: 4.0ms preprocess, 2170.7ms inference, 0.7ms postprocess per image at shape (1, 3, 544, 960)\n"
     ]
    },
    {
     "name": "stderr",
     "output_type": "stream",
     "text": [
      "Analizando partido:   1%|          | 1/150 [00:06<15:41,  6.32s/frames]"
     ]
    },
    {
     "name": "stdout",
     "output_type": "stream",
     "text": [
      "\n",
      "0: 384x640 5 persons, 1 car, 2 tvs, 862.0ms\n",
      "Speed: 1.6ms preprocess, 862.0ms inference, 1.0ms postprocess per image at shape (1, 3, 384, 640)\n",
      "\n",
      "0: 544x960 (no detections), 1712.3ms\n",
      "Speed: 3.9ms preprocess, 1712.3ms inference, 0.7ms postprocess per image at shape (1, 3, 544, 960)\n"
     ]
    },
    {
     "name": "stderr",
     "output_type": "stream",
     "text": [
      "Analizando partido:   1%|▏         | 2/150 [00:10<12:44,  5.16s/frames]"
     ]
    },
    {
     "name": "stdout",
     "output_type": "stream",
     "text": [
      "\n",
      "0: 384x640 5 persons, 2 tvs, 1037.8ms\n",
      "Speed: 1.7ms preprocess, 1037.8ms inference, 0.9ms postprocess per image at shape (1, 3, 384, 640)\n",
      "\n",
      "0: 544x960 (no detections), 2176.5ms\n",
      "Speed: 4.8ms preprocess, 2176.5ms inference, 0.8ms postprocess per image at shape (1, 3, 544, 960)\n"
     ]
    },
    {
     "name": "stderr",
     "output_type": "stream",
     "text": [
      "Analizando partido:   2%|▏         | 3/150 [00:16<13:02,  5.32s/frames]"
     ]
    },
    {
     "name": "stdout",
     "output_type": "stream",
     "text": [
      "\n",
      "0: 384x640 5 persons, 2 tvs, 858.9ms\n",
      "Speed: 6.9ms preprocess, 858.9ms inference, 1.1ms postprocess per image at shape (1, 3, 384, 640)\n",
      "\n",
      "0: 544x960 (no detections), 1798.8ms\n",
      "Speed: 4.5ms preprocess, 1798.8ms inference, 0.7ms postprocess per image at shape (1, 3, 544, 960)\n"
     ]
    },
    {
     "name": "stderr",
     "output_type": "stream",
     "text": [
      "Analizando partido:   3%|▎         | 4/150 [00:20<12:15,  5.04s/frames]"
     ]
    },
    {
     "name": "stdout",
     "output_type": "stream",
     "text": [
      "\n",
      "0: 384x640 5 persons, 2 tvs, 859.3ms\n",
      "Speed: 1.7ms preprocess, 859.3ms inference, 1.1ms postprocess per image at shape (1, 3, 384, 640)\n",
      "\n",
      "0: 544x960 (no detections), 1707.1ms\n",
      "Speed: 4.5ms preprocess, 1707.1ms inference, 0.6ms postprocess per image at shape (1, 3, 544, 960)\n"
     ]
    },
    {
     "name": "stderr",
     "output_type": "stream",
     "text": [
      "Analizando partido:   3%|▎         | 5/150 [00:25<11:42,  4.85s/frames]"
     ]
    },
    {
     "name": "stdout",
     "output_type": "stream",
     "text": [
      "\n",
      "0: 384x640 6 persons, 1 car, 2 tvs, 826.8ms\n",
      "Speed: 1.9ms preprocess, 826.8ms inference, 1.0ms postprocess per image at shape (1, 3, 384, 640)\n",
      "\n",
      "0: 544x960 (no detections), 1646.9ms\n",
      "Speed: 4.8ms preprocess, 1646.9ms inference, 0.6ms postprocess per image at shape (1, 3, 544, 960)\n"
     ]
    },
    {
     "name": "stderr",
     "output_type": "stream",
     "text": [
      "Analizando partido:   4%|▍         | 6/150 [00:29<11:13,  4.68s/frames]"
     ]
    },
    {
     "name": "stdout",
     "output_type": "stream",
     "text": [
      "\n",
      "0: 384x640 5 persons, 2 tvs, 881.5ms\n",
      "Speed: 6.1ms preprocess, 881.5ms inference, 1.1ms postprocess per image at shape (1, 3, 384, 640)\n",
      "\n",
      "0: 544x960 (no detections), 1876.8ms\n",
      "Speed: 5.4ms preprocess, 1876.8ms inference, 0.7ms postprocess per image at shape (1, 3, 544, 960)\n"
     ]
    },
    {
     "name": "stderr",
     "output_type": "stream",
     "text": [
      "Analizando partido:   5%|▍         | 7/150 [00:34<11:16,  4.73s/frames]"
     ]
    },
    {
     "name": "stdout",
     "output_type": "stream",
     "text": [
      "\n",
      "0: 384x640 5 persons, 2 tvs, 875.2ms\n",
      "Speed: 1.7ms preprocess, 875.2ms inference, 1.7ms postprocess per image at shape (1, 3, 384, 640)\n",
      "\n",
      "0: 544x960 1 tennis ball, 1646.1ms\n",
      "Speed: 4.3ms preprocess, 1646.1ms inference, 0.9ms postprocess per image at shape (1, 3, 544, 960)\n"
     ]
    },
    {
     "name": "stderr",
     "output_type": "stream",
     "text": [
      "Analizando partido:   5%|▌         | 8/150 [00:39<11:03,  4.67s/frames]"
     ]
    },
    {
     "name": "stdout",
     "output_type": "stream",
     "text": [
      "\n",
      "0: 384x640 5 persons, 1 tennis racket, 2 tvs, 854.6ms\n",
      "Speed: 1.7ms preprocess, 854.6ms inference, 1.0ms postprocess per image at shape (1, 3, 384, 640)\n",
      "\n",
      "0: 544x960 1 tennis ball, 2704.8ms\n",
      "Speed: 4.3ms preprocess, 2704.8ms inference, 1.1ms postprocess per image at shape (1, 3, 544, 960)\n"
     ]
    },
    {
     "name": "stderr",
     "output_type": "stream",
     "text": [
      "Analizando partido:   6%|▌         | 9/150 [00:44<11:32,  4.91s/frames]"
     ]
    },
    {
     "name": "stdout",
     "output_type": "stream",
     "text": [
      "\n",
      "0: 384x640 5 persons, 2 tvs, 1162.4ms\n",
      "Speed: 1.8ms preprocess, 1162.4ms inference, 1.3ms postprocess per image at shape (1, 3, 384, 640)\n",
      "\n",
      "0: 544x960 (no detections), 2215.3ms\n",
      "Speed: 5.0ms preprocess, 2215.3ms inference, 0.8ms postprocess per image at shape (1, 3, 544, 960)\n"
     ]
    },
    {
     "name": "stderr",
     "output_type": "stream",
     "text": [
      "Analizando partido:   7%|▋         | 10/150 [00:50<11:59,  5.14s/frames]"
     ]
    },
    {
     "name": "stdout",
     "output_type": "stream",
     "text": [
      "\n",
      "0: 384x640 5 persons, 2 tvs, 969.5ms\n",
      "Speed: 2.3ms preprocess, 969.5ms inference, 1.0ms postprocess per image at shape (1, 3, 384, 640)\n",
      "\n",
      "0: 544x960 (no detections), 2089.2ms\n",
      "Speed: 4.6ms preprocess, 2089.2ms inference, 1.1ms postprocess per image at shape (1, 3, 544, 960)\n"
     ]
    },
    {
     "name": "stderr",
     "output_type": "stream",
     "text": [
      "Analizando partido:   7%|▋         | 11/150 [00:55<11:59,  5.18s/frames]"
     ]
    },
    {
     "name": "stdout",
     "output_type": "stream",
     "text": [
      "\n",
      "0: 384x640 5 persons, 1 car, 2 tvs, 1058.4ms\n",
      "Speed: 4.4ms preprocess, 1058.4ms inference, 1.9ms postprocess per image at shape (1, 3, 384, 640)\n",
      "\n",
      "0: 544x960 (no detections), 1996.8ms\n",
      "Speed: 5.2ms preprocess, 1996.8ms inference, 0.8ms postprocess per image at shape (1, 3, 544, 960)\n"
     ]
    },
    {
     "name": "stderr",
     "output_type": "stream",
     "text": [
      "Analizando partido:   8%|▊         | 12/150 [01:00<12:09,  5.28s/frames]"
     ]
    },
    {
     "name": "stdout",
     "output_type": "stream",
     "text": [
      "\n",
      "0: 384x640 5 persons, 2 tvs, 1300.9ms\n",
      "Speed: 2.8ms preprocess, 1300.9ms inference, 9.3ms postprocess per image at shape (1, 3, 384, 640)\n",
      "\n",
      "0: 544x960 (no detections), 1984.2ms\n",
      "Speed: 5.0ms preprocess, 1984.2ms inference, 0.6ms postprocess per image at shape (1, 3, 544, 960)\n"
     ]
    },
    {
     "name": "stderr",
     "output_type": "stream",
     "text": [
      "Analizando partido:   9%|▊         | 13/150 [01:06<12:09,  5.32s/frames]"
     ]
    },
    {
     "name": "stdout",
     "output_type": "stream",
     "text": [
      "\n",
      "0: 384x640 5 persons, 1 car, 2 tvs, 917.1ms\n",
      "Speed: 2.9ms preprocess, 917.1ms inference, 5.1ms postprocess per image at shape (1, 3, 384, 640)\n",
      "\n",
      "0: 544x960 (no detections), 1923.3ms\n",
      "Speed: 5.8ms preprocess, 1923.3ms inference, 0.6ms postprocess per image at shape (1, 3, 544, 960)\n"
     ]
    },
    {
     "name": "stderr",
     "output_type": "stream",
     "text": [
      "Analizando partido:   9%|▉         | 14/150 [01:11<11:40,  5.15s/frames]"
     ]
    },
    {
     "name": "stdout",
     "output_type": "stream",
     "text": [
      "\n",
      "0: 384x640 5 persons, 1 car, 1 tennis racket, 2 tvs, 1034.5ms\n",
      "Speed: 1.6ms preprocess, 1034.5ms inference, 1.0ms postprocess per image at shape (1, 3, 384, 640)\n",
      "\n",
      "0: 544x960 (no detections), 2187.9ms\n",
      "Speed: 4.8ms preprocess, 2187.9ms inference, 0.8ms postprocess per image at shape (1, 3, 544, 960)\n"
     ]
    },
    {
     "name": "stderr",
     "output_type": "stream",
     "text": [
      "Analizando partido:  10%|█         | 15/150 [01:16<11:40,  5.19s/frames]"
     ]
    },
    {
     "name": "stdout",
     "output_type": "stream",
     "text": [
      "\n",
      "0: 384x640 5 persons, 1 car, 1 tennis racket, 2 tvs, 1116.8ms\n",
      "Speed: 1.9ms preprocess, 1116.8ms inference, 2.5ms postprocess per image at shape (1, 3, 384, 640)\n",
      "\n",
      "0: 544x960 (no detections), 1721.4ms\n",
      "Speed: 4.1ms preprocess, 1721.4ms inference, 0.6ms postprocess per image at shape (1, 3, 544, 960)\n"
     ]
    },
    {
     "name": "stderr",
     "output_type": "stream",
     "text": [
      "Analizando partido:  11%|█         | 16/150 [01:21<11:21,  5.09s/frames]"
     ]
    },
    {
     "name": "stdout",
     "output_type": "stream",
     "text": [
      "\n",
      "0: 384x640 5 persons, 2 tvs, 834.9ms\n",
      "Speed: 1.8ms preprocess, 834.9ms inference, 0.9ms postprocess per image at shape (1, 3, 384, 640)\n",
      "\n",
      "0: 544x960 1 tennis ball, 1777.4ms\n",
      "Speed: 4.0ms preprocess, 1777.4ms inference, 1.0ms postprocess per image at shape (1, 3, 544, 960)\n"
     ]
    },
    {
     "name": "stderr",
     "output_type": "stream",
     "text": [
      "Analizando partido (Golpes: 1):  11%|█▏        | 17/150 [01:26<11:10,  5.05s/frames]"
     ]
    },
    {
     "name": "stdout",
     "output_type": "stream",
     "text": [
      "\n",
      "0: 384x640 5 persons, 1 car, 2 tvs, 878.3ms\n",
      "Speed: 2.0ms preprocess, 878.3ms inference, 1.0ms postprocess per image at shape (1, 3, 384, 640)\n",
      "\n",
      "0: 544x960 1 tennis ball, 1815.7ms\n",
      "Speed: 4.0ms preprocess, 1815.7ms inference, 1.1ms postprocess per image at shape (1, 3, 544, 960)\n"
     ]
    },
    {
     "name": "stderr",
     "output_type": "stream",
     "text": [
      "Analizando partido (Golpes: 1):  12%|█▏        | 18/150 [01:30<10:50,  4.93s/frames]"
     ]
    },
    {
     "name": "stdout",
     "output_type": "stream",
     "text": [
      "\n",
      "0: 384x640 5 persons, 1 car, 1 tennis racket, 2 tvs, 943.3ms\n",
      "Speed: 1.8ms preprocess, 943.3ms inference, 1.0ms postprocess per image at shape (1, 3, 384, 640)\n",
      "\n",
      "0: 544x960 1 tennis ball, 1919.2ms\n",
      "Speed: 4.4ms preprocess, 1919.2ms inference, 1.1ms postprocess per image at shape (1, 3, 544, 960)\n"
     ]
    },
    {
     "name": "stderr",
     "output_type": "stream",
     "text": [
      "Analizando partido (Golpes: 1):  13%|█▎        | 19/150 [01:35<10:42,  4.90s/frames]"
     ]
    },
    {
     "name": "stdout",
     "output_type": "stream",
     "text": [
      "\n",
      "0: 384x640 5 persons, 1 car, 2 tennis rackets, 2 tvs, 933.7ms\n",
      "Speed: 2.8ms preprocess, 933.7ms inference, 1.1ms postprocess per image at shape (1, 3, 384, 640)\n",
      "\n",
      "0: 544x960 (no detections), 1719.7ms\n",
      "Speed: 4.0ms preprocess, 1719.7ms inference, 0.6ms postprocess per image at shape (1, 3, 544, 960)\n"
     ]
    },
    {
     "name": "stderr",
     "output_type": "stream",
     "text": [
      "Analizando partido (Golpes: 1):  13%|█▎        | 20/150 [01:40<10:28,  4.83s/frames]"
     ]
    },
    {
     "name": "stdout",
     "output_type": "stream",
     "text": [
      "\n",
      "0: 384x640 5 persons, 1 car, 1 tennis racket, 847.3ms\n",
      "Speed: 1.6ms preprocess, 847.3ms inference, 1.0ms postprocess per image at shape (1, 3, 384, 640)\n",
      "\n",
      "0: 544x960 1 tennis ball, 1970.0ms\n",
      "Speed: 4.8ms preprocess, 1970.0ms inference, 1.2ms postprocess per image at shape (1, 3, 544, 960)\n"
     ]
    },
    {
     "name": "stderr",
     "output_type": "stream",
     "text": [
      "Analizando partido (Golpes: 2):  14%|█▍        | 21/150 [01:45<10:23,  4.83s/frames]"
     ]
    },
    {
     "name": "stdout",
     "output_type": "stream",
     "text": [
      "\n",
      "0: 384x640 5 persons, 2 tennis rackets, 890.7ms\n",
      "Speed: 4.7ms preprocess, 890.7ms inference, 0.9ms postprocess per image at shape (1, 3, 384, 640)\n",
      "\n",
      "0: 544x960 1 tennis ball, 2136.9ms\n",
      "Speed: 4.6ms preprocess, 2136.9ms inference, 0.9ms postprocess per image at shape (1, 3, 544, 960)\n"
     ]
    },
    {
     "name": "stderr",
     "output_type": "stream",
     "text": [
      "Analizando partido (Golpes: 2):  15%|█▍        | 22/150 [01:50<10:29,  4.92s/frames]"
     ]
    },
    {
     "name": "stdout",
     "output_type": "stream",
     "text": [
      "\n",
      "0: 384x640 5 persons, 1 car, 2 tennis rackets, 814.2ms\n",
      "Speed: 2.5ms preprocess, 814.2ms inference, 0.9ms postprocess per image at shape (1, 3, 384, 640)\n",
      "\n",
      "0: 544x960 1 tennis ball, 1750.7ms\n",
      "Speed: 4.0ms preprocess, 1750.7ms inference, 1.0ms postprocess per image at shape (1, 3, 544, 960)\n"
     ]
    },
    {
     "name": "stderr",
     "output_type": "stream",
     "text": [
      "Analizando partido (Golpes: 2):  15%|█▌        | 23/150 [01:54<10:12,  4.82s/frames]"
     ]
    },
    {
     "name": "stdout",
     "output_type": "stream",
     "text": [
      "\n",
      "0: 384x640 5 persons, 1 car, 2 tennis rackets, 917.6ms\n",
      "Speed: 1.6ms preprocess, 917.6ms inference, 0.9ms postprocess per image at shape (1, 3, 384, 640)\n",
      "\n",
      "0: 544x960 1 tennis ball, 1827.1ms\n",
      "Speed: 4.5ms preprocess, 1827.1ms inference, 2.9ms postprocess per image at shape (1, 3, 544, 960)\n"
     ]
    },
    {
     "name": "stderr",
     "output_type": "stream",
     "text": [
      "Analizando partido (Golpes: 2):  16%|█▌        | 24/150 [01:59<10:03,  4.79s/frames]"
     ]
    },
    {
     "name": "stdout",
     "output_type": "stream",
     "text": [
      "\n",
      "0: 384x640 5 persons, 1 car, 2 tennis rackets, 943.7ms\n",
      "Speed: 1.7ms preprocess, 943.7ms inference, 1.0ms postprocess per image at shape (1, 3, 384, 640)\n",
      "\n",
      "0: 544x960 (no detections), 1830.9ms\n",
      "Speed: 4.9ms preprocess, 1830.9ms inference, 0.6ms postprocess per image at shape (1, 3, 544, 960)\n"
     ]
    },
    {
     "name": "stderr",
     "output_type": "stream",
     "text": [
      "Analizando partido (Golpes: 2):  17%|█▋        | 25/150 [02:04<09:59,  4.79s/frames]"
     ]
    },
    {
     "name": "stdout",
     "output_type": "stream",
     "text": [
      "\n",
      "0: 384x640 5 persons, 1 car, 3 tennis rackets, 853.5ms\n",
      "Speed: 1.8ms preprocess, 853.5ms inference, 1.0ms postprocess per image at shape (1, 3, 384, 640)\n",
      "\n",
      "0: 544x960 (no detections), 1776.3ms\n",
      "Speed: 5.6ms preprocess, 1776.3ms inference, 0.5ms postprocess per image at shape (1, 3, 544, 960)\n"
     ]
    },
    {
     "name": "stderr",
     "output_type": "stream",
     "text": [
      "Analizando partido (Golpes: 2):  17%|█▋        | 26/150 [02:08<09:44,  4.72s/frames]"
     ]
    },
    {
     "name": "stdout",
     "output_type": "stream",
     "text": [
      "\n",
      "0: 384x640 5 persons, 1 car, 3 tennis rackets, 957.9ms\n",
      "Speed: 2.5ms preprocess, 957.9ms inference, 1.1ms postprocess per image at shape (1, 3, 384, 640)\n",
      "\n",
      "0: 544x960 (no detections), 1786.2ms\n",
      "Speed: 3.5ms preprocess, 1786.2ms inference, 0.6ms postprocess per image at shape (1, 3, 544, 960)\n"
     ]
    },
    {
     "name": "stderr",
     "output_type": "stream",
     "text": [
      "Analizando partido (Golpes: 2):  18%|█▊        | 27/150 [02:13<09:39,  4.71s/frames]"
     ]
    },
    {
     "name": "stdout",
     "output_type": "stream",
     "text": [
      "\n",
      "0: 384x640 5 persons, 1 car, 948.4ms\n",
      "Speed: 1.8ms preprocess, 948.4ms inference, 0.9ms postprocess per image at shape (1, 3, 384, 640)\n",
      "\n",
      "0: 544x960 (no detections), 1776.8ms\n",
      "Speed: 4.3ms preprocess, 1776.8ms inference, 0.7ms postprocess per image at shape (1, 3, 544, 960)\n"
     ]
    },
    {
     "name": "stderr",
     "output_type": "stream",
     "text": [
      "Analizando partido (Golpes: 2):  19%|█▊        | 28/150 [02:18<09:37,  4.73s/frames]"
     ]
    },
    {
     "name": "stdout",
     "output_type": "stream",
     "text": [
      "\n",
      "0: 384x640 5 persons, 1 car, 915.3ms\n",
      "Speed: 1.7ms preprocess, 915.3ms inference, 0.9ms postprocess per image at shape (1, 3, 384, 640)\n",
      "\n",
      "0: 544x960 (no detections), 1887.3ms\n",
      "Speed: 4.9ms preprocess, 1887.3ms inference, 0.6ms postprocess per image at shape (1, 3, 544, 960)\n"
     ]
    },
    {
     "name": "stderr",
     "output_type": "stream",
     "text": [
      "Analizando partido (Golpes: 2):  19%|█▉        | 29/150 [02:23<09:30,  4.71s/frames]"
     ]
    },
    {
     "name": "stdout",
     "output_type": "stream",
     "text": [
      "\n",
      "0: 384x640 5 persons, 1 car, 1 tennis racket, 923.6ms\n",
      "Speed: 1.8ms preprocess, 923.6ms inference, 0.9ms postprocess per image at shape (1, 3, 384, 640)\n",
      "\n",
      "0: 544x960 1 tennis ball, 1879.3ms\n",
      "Speed: 4.1ms preprocess, 1879.3ms inference, 1.1ms postprocess per image at shape (1, 3, 544, 960)\n"
     ]
    },
    {
     "name": "stderr",
     "output_type": "stream",
     "text": [
      "Analizando partido (Golpes: 2):  20%|██        | 30/150 [02:27<09:25,  4.72s/frames]"
     ]
    },
    {
     "name": "stdout",
     "output_type": "stream",
     "text": [
      "\n",
      "0: 384x640 5 persons, 1 car, 1146.7ms\n",
      "Speed: 2.2ms preprocess, 1146.7ms inference, 1.0ms postprocess per image at shape (1, 3, 384, 640)\n",
      "\n",
      "0: 544x960 (no detections), 1729.7ms\n",
      "Speed: 5.0ms preprocess, 1729.7ms inference, 0.6ms postprocess per image at shape (1, 3, 544, 960)\n"
     ]
    },
    {
     "name": "stderr",
     "output_type": "stream",
     "text": [
      "Analizando partido (Golpes: 2):  21%|██        | 31/150 [02:32<09:29,  4.79s/frames]"
     ]
    },
    {
     "name": "stdout",
     "output_type": "stream",
     "text": [
      "\n",
      "0: 384x640 5 persons, 1 car, 1 tennis racket, 872.6ms\n",
      "Speed: 1.6ms preprocess, 872.6ms inference, 0.9ms postprocess per image at shape (1, 3, 384, 640)\n",
      "\n",
      "0: 544x960 (no detections), 1784.9ms\n",
      "Speed: 6.0ms preprocess, 1784.9ms inference, 0.5ms postprocess per image at shape (1, 3, 544, 960)\n"
     ]
    },
    {
     "name": "stderr",
     "output_type": "stream",
     "text": [
      "Analizando partido (Golpes: 2):  21%|██▏       | 32/150 [02:37<09:16,  4.72s/frames]"
     ]
    },
    {
     "name": "stdout",
     "output_type": "stream",
     "text": [
      "\n",
      "0: 384x640 5 persons, 1 car, 1 tennis racket, 884.0ms\n",
      "Speed: 6.3ms preprocess, 884.0ms inference, 1.0ms postprocess per image at shape (1, 3, 384, 640)\n",
      "\n",
      "0: 544x960 (no detections), 1856.5ms\n",
      "Speed: 4.1ms preprocess, 1856.5ms inference, 0.8ms postprocess per image at shape (1, 3, 544, 960)\n"
     ]
    },
    {
     "name": "stderr",
     "output_type": "stream",
     "text": [
      "Analizando partido (Golpes: 2):  22%|██▏       | 33/150 [02:41<09:09,  4.70s/frames]"
     ]
    },
    {
     "name": "stdout",
     "output_type": "stream",
     "text": [
      "\n",
      "0: 384x640 4 persons, 1 car, 1 tennis racket, 891.5ms\n",
      "Speed: 2.4ms preprocess, 891.5ms inference, 1.2ms postprocess per image at shape (1, 3, 384, 640)\n",
      "\n",
      "0: 544x960 (no detections), 1945.2ms\n",
      "Speed: 4.6ms preprocess, 1945.2ms inference, 0.6ms postprocess per image at shape (1, 3, 544, 960)\n"
     ]
    },
    {
     "name": "stderr",
     "output_type": "stream",
     "text": [
      "Analizando partido (Golpes: 2):  23%|██▎       | 34/150 [02:47<09:21,  4.84s/frames]"
     ]
    },
    {
     "name": "stdout",
     "output_type": "stream",
     "text": [
      "\n",
      "0: 384x640 5 persons, 1 car, 1 tennis racket, 856.7ms\n",
      "Speed: 1.5ms preprocess, 856.7ms inference, 0.9ms postprocess per image at shape (1, 3, 384, 640)\n",
      "\n",
      "0: 544x960 (no detections), 1822.8ms\n",
      "Speed: 4.7ms preprocess, 1822.8ms inference, 0.5ms postprocess per image at shape (1, 3, 544, 960)\n"
     ]
    },
    {
     "name": "stderr",
     "output_type": "stream",
     "text": [
      "Analizando partido (Golpes: 2):  23%|██▎       | 35/150 [02:51<09:06,  4.75s/frames]"
     ]
    },
    {
     "name": "stdout",
     "output_type": "stream",
     "text": [
      "\n",
      "0: 384x640 5 persons, 1 tennis racket, 938.9ms\n",
      "Speed: 2.0ms preprocess, 938.9ms inference, 1.0ms postprocess per image at shape (1, 3, 384, 640)\n",
      "\n",
      "0: 544x960 (no detections), 1869.3ms\n",
      "Speed: 3.7ms preprocess, 1869.3ms inference, 0.7ms postprocess per image at shape (1, 3, 544, 960)\n"
     ]
    },
    {
     "name": "stderr",
     "output_type": "stream",
     "text": [
      "Analizando partido (Golpes: 2):  24%|██▍       | 36/150 [02:56<08:59,  4.73s/frames]"
     ]
    },
    {
     "name": "stdout",
     "output_type": "stream",
     "text": [
      "\n",
      "0: 384x640 5 persons, 1 sports ball, 1 tennis racket, 850.0ms\n",
      "Speed: 1.9ms preprocess, 850.0ms inference, 1.0ms postprocess per image at shape (1, 3, 384, 640)\n",
      "\n",
      "0: 544x960 (no detections), 1677.9ms\n",
      "Speed: 4.8ms preprocess, 1677.9ms inference, 0.6ms postprocess per image at shape (1, 3, 544, 960)\n"
     ]
    },
    {
     "name": "stderr",
     "output_type": "stream",
     "text": [
      "Analizando partido (Golpes: 2):  25%|██▍       | 37/150 [03:00<08:50,  4.69s/frames]"
     ]
    },
    {
     "name": "stdout",
     "output_type": "stream",
     "text": [
      "\n",
      "0: 384x640 5 persons, 1185.2ms\n",
      "Speed: 2.0ms preprocess, 1185.2ms inference, 1.0ms postprocess per image at shape (1, 3, 384, 640)\n",
      "\n",
      "0: 544x960 (no detections), 1944.5ms\n",
      "Speed: 4.2ms preprocess, 1944.5ms inference, 0.5ms postprocess per image at shape (1, 3, 544, 960)\n"
     ]
    },
    {
     "name": "stderr",
     "output_type": "stream",
     "text": [
      "Analizando partido (Golpes: 2):  25%|██▌       | 38/150 [03:06<08:57,  4.80s/frames]"
     ]
    },
    {
     "name": "stdout",
     "output_type": "stream",
     "text": [
      "\n",
      "0: 384x640 5 persons, 1 clock, 1018.4ms\n",
      "Speed: 1.7ms preprocess, 1018.4ms inference, 1.0ms postprocess per image at shape (1, 3, 384, 640)\n",
      "\n",
      "0: 544x960 (no detections), 1905.4ms\n",
      "Speed: 4.1ms preprocess, 1905.4ms inference, 1.7ms postprocess per image at shape (1, 3, 544, 960)\n"
     ]
    },
    {
     "name": "stderr",
     "output_type": "stream",
     "text": [
      "Analizando partido (Golpes: 2):  26%|██▌       | 39/150 [03:10<08:54,  4.82s/frames]"
     ]
    },
    {
     "name": "stdout",
     "output_type": "stream",
     "text": [
      "\n",
      "0: 384x640 5 persons, 1 clock, 869.7ms\n",
      "Speed: 1.9ms preprocess, 869.7ms inference, 1.0ms postprocess per image at shape (1, 3, 384, 640)\n",
      "\n",
      "0: 544x960 (no detections), 1737.9ms\n",
      "Speed: 4.4ms preprocess, 1737.9ms inference, 0.6ms postprocess per image at shape (1, 3, 544, 960)\n"
     ]
    },
    {
     "name": "stderr",
     "output_type": "stream",
     "text": [
      "Analizando partido (Golpes: 2):  27%|██▋       | 40/150 [03:15<08:50,  4.82s/frames]"
     ]
    },
    {
     "name": "stdout",
     "output_type": "stream",
     "text": [
      "\n",
      "0: 384x640 5 persons, 2 tennis rackets, 1 clock, 975.9ms\n",
      "Speed: 1.7ms preprocess, 975.9ms inference, 2.4ms postprocess per image at shape (1, 3, 384, 640)\n",
      "\n",
      "0: 544x960 (no detections), 1840.6ms\n",
      "Speed: 4.1ms preprocess, 1840.6ms inference, 0.6ms postprocess per image at shape (1, 3, 544, 960)\n"
     ]
    },
    {
     "name": "stderr",
     "output_type": "stream",
     "text": [
      "Analizando partido (Golpes: 2):  27%|██▋       | 41/150 [03:20<08:39,  4.76s/frames]"
     ]
    },
    {
     "name": "stdout",
     "output_type": "stream",
     "text": [
      "\n",
      "0: 384x640 5 persons, 1 tennis racket, 948.3ms\n",
      "Speed: 1.9ms preprocess, 948.3ms inference, 1.1ms postprocess per image at shape (1, 3, 384, 640)\n",
      "\n",
      "0: 544x960 (no detections), 1815.7ms\n",
      "Speed: 4.3ms preprocess, 1815.7ms inference, 0.7ms postprocess per image at shape (1, 3, 544, 960)\n"
     ]
    },
    {
     "name": "stderr",
     "output_type": "stream",
     "text": [
      "Analizando partido (Golpes: 2):  28%|██▊       | 42/150 [03:25<08:31,  4.74s/frames]"
     ]
    },
    {
     "name": "stdout",
     "output_type": "stream",
     "text": [
      "\n",
      "0: 384x640 5 persons, 1 tennis racket, 833.4ms\n",
      "Speed: 1.7ms preprocess, 833.4ms inference, 1.0ms postprocess per image at shape (1, 3, 384, 640)\n",
      "\n",
      "0: 544x960 (no detections), 1807.1ms\n",
      "Speed: 4.6ms preprocess, 1807.1ms inference, 0.6ms postprocess per image at shape (1, 3, 544, 960)\n"
     ]
    },
    {
     "name": "stderr",
     "output_type": "stream",
     "text": [
      "Analizando partido (Golpes: 2):  29%|██▊       | 43/150 [03:29<08:25,  4.72s/frames]"
     ]
    },
    {
     "name": "stdout",
     "output_type": "stream",
     "text": [
      "\n",
      "0: 384x640 5 persons, 2 tennis rackets, 855.8ms\n",
      "Speed: 1.6ms preprocess, 855.8ms inference, 0.9ms postprocess per image at shape (1, 3, 384, 640)\n",
      "\n",
      "0: 544x960 (no detections), 1759.0ms\n",
      "Speed: 4.0ms preprocess, 1759.0ms inference, 0.5ms postprocess per image at shape (1, 3, 544, 960)\n"
     ]
    },
    {
     "name": "stderr",
     "output_type": "stream",
     "text": [
      "Analizando partido (Golpes: 2):  29%|██▉       | 44/150 [03:34<08:13,  4.66s/frames]"
     ]
    },
    {
     "name": "stdout",
     "output_type": "stream",
     "text": [
      "\n",
      "0: 384x640 5 persons, 1 tennis racket, 1 clock, 868.6ms\n",
      "Speed: 1.7ms preprocess, 868.6ms inference, 1.4ms postprocess per image at shape (1, 3, 384, 640)\n",
      "\n",
      "0: 544x960 (no detections), 1868.2ms\n",
      "Speed: 7.4ms preprocess, 1868.2ms inference, 0.6ms postprocess per image at shape (1, 3, 544, 960)\n"
     ]
    },
    {
     "name": "stderr",
     "output_type": "stream",
     "text": [
      "Analizando partido (Golpes: 2):  30%|███       | 45/150 [03:39<08:17,  4.74s/frames]"
     ]
    },
    {
     "name": "stdout",
     "output_type": "stream",
     "text": [
      "\n",
      "0: 384x640 5 persons, 2 tennis rackets, 832.4ms\n",
      "Speed: 4.8ms preprocess, 832.4ms inference, 1.0ms postprocess per image at shape (1, 3, 384, 640)\n",
      "\n",
      "0: 544x960 (no detections), 1823.0ms\n",
      "Speed: 4.6ms preprocess, 1823.0ms inference, 1.0ms postprocess per image at shape (1, 3, 544, 960)\n"
     ]
    },
    {
     "name": "stderr",
     "output_type": "stream",
     "text": [
      "Analizando partido (Golpes: 2):  31%|███       | 46/150 [03:43<08:07,  4.69s/frames]"
     ]
    },
    {
     "name": "stdout",
     "output_type": "stream",
     "text": [
      "\n",
      "0: 384x640 5 persons, 2 tennis rackets, 958.9ms\n",
      "Speed: 1.8ms preprocess, 958.9ms inference, 1.0ms postprocess per image at shape (1, 3, 384, 640)\n",
      "\n",
      "0: 544x960 (no detections), 1801.8ms\n",
      "Speed: 4.3ms preprocess, 1801.8ms inference, 0.7ms postprocess per image at shape (1, 3, 544, 960)\n"
     ]
    },
    {
     "name": "stderr",
     "output_type": "stream",
     "text": [
      "Analizando partido (Golpes: 2):  31%|███▏      | 47/150 [03:48<08:00,  4.67s/frames]"
     ]
    },
    {
     "name": "stdout",
     "output_type": "stream",
     "text": [
      "\n",
      "0: 384x640 5 persons, 839.4ms\n",
      "Speed: 1.7ms preprocess, 839.4ms inference, 1.0ms postprocess per image at shape (1, 3, 384, 640)\n",
      "\n",
      "0: 544x960 (no detections), 1867.8ms\n",
      "Speed: 4.0ms preprocess, 1867.8ms inference, 0.6ms postprocess per image at shape (1, 3, 544, 960)\n"
     ]
    },
    {
     "name": "stderr",
     "output_type": "stream",
     "text": [
      "Analizando partido (Golpes: 2):  32%|███▏      | 48/150 [03:53<07:57,  4.68s/frames]"
     ]
    },
    {
     "name": "stdout",
     "output_type": "stream",
     "text": [
      "\n",
      "0: 384x640 5 persons, 999.0ms\n",
      "Speed: 1.7ms preprocess, 999.0ms inference, 1.0ms postprocess per image at shape (1, 3, 384, 640)\n",
      "\n",
      "0: 544x960 (no detections), 1727.3ms\n",
      "Speed: 4.3ms preprocess, 1727.3ms inference, 0.6ms postprocess per image at shape (1, 3, 544, 960)\n"
     ]
    },
    {
     "name": "stderr",
     "output_type": "stream",
     "text": [
      "Analizando partido (Golpes: 2):  33%|███▎      | 49/150 [03:57<07:49,  4.65s/frames]"
     ]
    },
    {
     "name": "stdout",
     "output_type": "stream",
     "text": [
      "\n",
      "0: 384x640 5 persons, 1 car, 1 clock, 847.0ms\n",
      "Speed: 1.6ms preprocess, 847.0ms inference, 1.3ms postprocess per image at shape (1, 3, 384, 640)\n",
      "\n",
      "0: 544x960 1 tennis ball, 1771.7ms\n",
      "Speed: 3.9ms preprocess, 1771.7ms inference, 1.0ms postprocess per image at shape (1, 3, 544, 960)\n"
     ]
    },
    {
     "name": "stderr",
     "output_type": "stream",
     "text": [
      "Analizando partido (Golpes: 2):  33%|███▎      | 50/150 [04:02<07:42,  4.63s/frames]"
     ]
    },
    {
     "name": "stdout",
     "output_type": "stream",
     "text": [
      "\n",
      "0: 384x640 5 persons, 1 car, 1 clock, 832.3ms\n",
      "Speed: 1.8ms preprocess, 832.3ms inference, 1.0ms postprocess per image at shape (1, 3, 384, 640)\n",
      "\n",
      "0: 544x960 1 tennis ball, 2086.8ms\n",
      "Speed: 4.0ms preprocess, 2086.8ms inference, 0.9ms postprocess per image at shape (1, 3, 544, 960)\n"
     ]
    },
    {
     "name": "stderr",
     "output_type": "stream",
     "text": [
      "Analizando partido (Golpes: 2):  34%|███▍      | 51/150 [04:07<07:50,  4.76s/frames]"
     ]
    },
    {
     "name": "stdout",
     "output_type": "stream",
     "text": [
      "\n",
      "0: 384x640 5 persons, 1 car, 891.3ms\n",
      "Speed: 6.2ms preprocess, 891.3ms inference, 0.9ms postprocess per image at shape (1, 3, 384, 640)\n",
      "\n",
      "0: 544x960 1 tennis ball, 1806.3ms\n",
      "Speed: 4.3ms preprocess, 1806.3ms inference, 1.1ms postprocess per image at shape (1, 3, 544, 960)\n"
     ]
    },
    {
     "name": "stderr",
     "output_type": "stream",
     "text": [
      "Analizando partido (Golpes: 2):  35%|███▍      | 52/150 [04:11<07:42,  4.72s/frames]"
     ]
    },
    {
     "name": "stdout",
     "output_type": "stream",
     "text": [
      "\n",
      "0: 384x640 5 persons, 1 car, 944.7ms\n",
      "Speed: 1.6ms preprocess, 944.7ms inference, 1.2ms postprocess per image at shape (1, 3, 384, 640)\n",
      "\n",
      "0: 544x960 (no detections), 1704.9ms\n",
      "Speed: 4.2ms preprocess, 1704.9ms inference, 0.6ms postprocess per image at shape (1, 3, 544, 960)\n"
     ]
    },
    {
     "name": "stderr",
     "output_type": "stream",
     "text": [
      "Analizando partido (Golpes: 2):  35%|███▌      | 53/150 [04:16<07:46,  4.81s/frames]"
     ]
    },
    {
     "name": "stdout",
     "output_type": "stream",
     "text": [
      "\n",
      "0: 384x640 5 persons, 1 car, 974.8ms\n",
      "Speed: 2.0ms preprocess, 974.8ms inference, 1.1ms postprocess per image at shape (1, 3, 384, 640)\n",
      "\n",
      "0: 544x960 (no detections), 1822.3ms\n",
      "Speed: 4.0ms preprocess, 1822.3ms inference, 0.8ms postprocess per image at shape (1, 3, 544, 960)\n"
     ]
    },
    {
     "name": "stderr",
     "output_type": "stream",
     "text": [
      "Analizando partido (Golpes: 2):  36%|███▌      | 54/150 [04:21<07:38,  4.78s/frames]"
     ]
    },
    {
     "name": "stdout",
     "output_type": "stream",
     "text": [
      "\n",
      "0: 384x640 5 persons, 1 car, 863.4ms\n",
      "Speed: 1.9ms preprocess, 863.4ms inference, 1.0ms postprocess per image at shape (1, 3, 384, 640)\n",
      "\n",
      "0: 544x960 (no detections), 1835.6ms\n",
      "Speed: 5.5ms preprocess, 1835.6ms inference, 0.7ms postprocess per image at shape (1, 3, 544, 960)\n"
     ]
    },
    {
     "name": "stderr",
     "output_type": "stream",
     "text": [
      "Analizando partido (Golpes: 2):  37%|███▋      | 55/150 [04:26<07:30,  4.74s/frames]"
     ]
    },
    {
     "name": "stdout",
     "output_type": "stream",
     "text": [
      "\n",
      "0: 384x640 5 persons, 1 car, 938.6ms\n",
      "Speed: 2.3ms preprocess, 938.6ms inference, 0.9ms postprocess per image at shape (1, 3, 384, 640)\n",
      "\n",
      "0: 544x960 (no detections), 1836.3ms\n",
      "Speed: 4.5ms preprocess, 1836.3ms inference, 0.6ms postprocess per image at shape (1, 3, 544, 960)\n"
     ]
    },
    {
     "name": "stderr",
     "output_type": "stream",
     "text": [
      "Analizando partido (Golpes: 2):  37%|███▋      | 56/150 [04:31<07:29,  4.78s/frames]"
     ]
    },
    {
     "name": "stdout",
     "output_type": "stream",
     "text": [
      "\n",
      "0: 384x640 5 persons, 883.9ms\n",
      "Speed: 1.6ms preprocess, 883.9ms inference, 1.0ms postprocess per image at shape (1, 3, 384, 640)\n",
      "\n",
      "0: 544x960 (no detections), 1847.8ms\n",
      "Speed: 3.8ms preprocess, 1847.8ms inference, 0.7ms postprocess per image at shape (1, 3, 544, 960)\n"
     ]
    },
    {
     "name": "stderr",
     "output_type": "stream",
     "text": [
      "Analizando partido (Golpes: 2):  38%|███▊      | 57/150 [04:35<07:22,  4.76s/frames]"
     ]
    },
    {
     "name": "stdout",
     "output_type": "stream",
     "text": [
      "\n",
      "0: 384x640 5 persons, 1 car, 904.1ms\n",
      "Speed: 3.4ms preprocess, 904.1ms inference, 0.9ms postprocess per image at shape (1, 3, 384, 640)\n",
      "\n",
      "0: 544x960 (no detections), 1957.8ms\n",
      "Speed: 4.1ms preprocess, 1957.8ms inference, 0.8ms postprocess per image at shape (1, 3, 544, 960)\n"
     ]
    },
    {
     "name": "stderr",
     "output_type": "stream",
     "text": [
      "Analizando partido (Golpes: 2):  39%|███▊      | 58/150 [04:40<07:17,  4.75s/frames]"
     ]
    },
    {
     "name": "stdout",
     "output_type": "stream",
     "text": [
      "\n",
      "0: 384x640 5 persons, 1 car, 907.0ms\n",
      "Speed: 1.7ms preprocess, 907.0ms inference, 0.9ms postprocess per image at shape (1, 3, 384, 640)\n",
      "\n",
      "0: 544x960 (no detections), 1764.0ms\n",
      "Speed: 4.7ms preprocess, 1764.0ms inference, 0.5ms postprocess per image at shape (1, 3, 544, 960)\n"
     ]
    },
    {
     "name": "stderr",
     "output_type": "stream",
     "text": [
      "Analizando partido (Golpes: 2):  39%|███▉      | 59/150 [04:45<07:19,  4.83s/frames]"
     ]
    },
    {
     "name": "stdout",
     "output_type": "stream",
     "text": [
      "\n",
      "0: 384x640 5 persons, 1 car, 1 tennis racket, 909.6ms\n",
      "Speed: 1.9ms preprocess, 909.6ms inference, 0.9ms postprocess per image at shape (1, 3, 384, 640)\n",
      "\n",
      "0: 544x960 (no detections), 2157.1ms\n",
      "Speed: 5.5ms preprocess, 2157.1ms inference, 0.8ms postprocess per image at shape (1, 3, 544, 960)\n"
     ]
    },
    {
     "name": "stderr",
     "output_type": "stream",
     "text": [
      "Analizando partido (Golpes: 2):  40%|████      | 60/150 [04:50<07:18,  4.87s/frames]"
     ]
    },
    {
     "name": "stdout",
     "output_type": "stream",
     "text": [
      "\n",
      "0: 384x640 5 persons, 1 car, 1 tennis racket, 1051.3ms\n",
      "Speed: 1.9ms preprocess, 1051.3ms inference, 1.6ms postprocess per image at shape (1, 3, 384, 640)\n",
      "\n",
      "0: 544x960 (no detections), 1923.7ms\n",
      "Speed: 4.8ms preprocess, 1923.7ms inference, 1.1ms postprocess per image at shape (1, 3, 544, 960)\n"
     ]
    },
    {
     "name": "stderr",
     "output_type": "stream",
     "text": [
      "Analizando partido (Golpes: 2):  41%|████      | 61/150 [04:55<07:12,  4.86s/frames]"
     ]
    },
    {
     "name": "stdout",
     "output_type": "stream",
     "text": [
      "\n",
      "0: 384x640 5 persons, 892.8ms\n",
      "Speed: 1.7ms preprocess, 892.8ms inference, 1.2ms postprocess per image at shape (1, 3, 384, 640)\n",
      "\n",
      "0: 544x960 (no detections), 1709.1ms\n",
      "Speed: 4.9ms preprocess, 1709.1ms inference, 0.6ms postprocess per image at shape (1, 3, 544, 960)\n"
     ]
    },
    {
     "name": "stderr",
     "output_type": "stream",
     "text": [
      "Analizando partido (Golpes: 2):  41%|████▏     | 62/150 [05:00<07:03,  4.82s/frames]"
     ]
    },
    {
     "name": "stdout",
     "output_type": "stream",
     "text": [
      "\n",
      "0: 384x640 5 persons, 1 clock, 905.2ms\n",
      "Speed: 2.8ms preprocess, 905.2ms inference, 0.9ms postprocess per image at shape (1, 3, 384, 640)\n",
      "\n",
      "0: 544x960 (no detections), 1807.4ms\n",
      "Speed: 4.1ms preprocess, 1807.4ms inference, 0.5ms postprocess per image at shape (1, 3, 544, 960)\n"
     ]
    },
    {
     "name": "stderr",
     "output_type": "stream",
     "text": [
      "Analizando partido (Golpes: 2):  42%|████▏     | 63/150 [05:04<06:53,  4.75s/frames]"
     ]
    },
    {
     "name": "stdout",
     "output_type": "stream",
     "text": [
      "\n",
      "0: 384x640 5 persons, 1 car, 1 clock, 979.8ms\n",
      "Speed: 1.7ms preprocess, 979.8ms inference, 1.0ms postprocess per image at shape (1, 3, 384, 640)\n",
      "\n",
      "0: 544x960 (no detections), 1843.0ms\n",
      "Speed: 3.8ms preprocess, 1843.0ms inference, 0.7ms postprocess per image at shape (1, 3, 544, 960)\n"
     ]
    },
    {
     "name": "stderr",
     "output_type": "stream",
     "text": [
      "Analizando partido (Golpes: 2):  43%|████▎     | 64/150 [05:09<06:47,  4.74s/frames]"
     ]
    },
    {
     "name": "stdout",
     "output_type": "stream",
     "text": [
      "\n",
      "0: 384x640 5 persons, 1 car, 1 clock, 872.6ms\n",
      "Speed: 1.7ms preprocess, 872.6ms inference, 0.9ms postprocess per image at shape (1, 3, 384, 640)\n",
      "\n",
      "0: 544x960 (no detections), 1873.9ms\n",
      "Speed: 5.1ms preprocess, 1873.9ms inference, 0.9ms postprocess per image at shape (1, 3, 544, 960)\n"
     ]
    },
    {
     "name": "stderr",
     "output_type": "stream",
     "text": [
      "Analizando partido (Golpes: 2):  43%|████▎     | 65/150 [05:14<06:44,  4.75s/frames]"
     ]
    },
    {
     "name": "stdout",
     "output_type": "stream",
     "text": [
      "\n",
      "0: 384x640 6 persons, 1 car, 1 clock, 966.9ms\n",
      "Speed: 1.7ms preprocess, 966.9ms inference, 1.1ms postprocess per image at shape (1, 3, 384, 640)\n",
      "\n",
      "0: 544x960 (no detections), 1893.9ms\n",
      "Speed: 4.4ms preprocess, 1893.9ms inference, 1.0ms postprocess per image at shape (1, 3, 544, 960)\n"
     ]
    },
    {
     "name": "stderr",
     "output_type": "stream",
     "text": [
      "Analizando partido (Golpes: 2):  44%|████▍     | 66/150 [05:18<06:39,  4.75s/frames]"
     ]
    },
    {
     "name": "stdout",
     "output_type": "stream",
     "text": [
      "\n",
      "0: 384x640 6 persons, 1 tennis racket, 1 clock, 920.3ms\n",
      "Speed: 2.0ms preprocess, 920.3ms inference, 1.7ms postprocess per image at shape (1, 3, 384, 640)\n",
      "\n",
      "0: 544x960 (no detections), 1958.3ms\n",
      "Speed: 29.2ms preprocess, 1958.3ms inference, 0.6ms postprocess per image at shape (1, 3, 544, 960)\n"
     ]
    },
    {
     "name": "stderr",
     "output_type": "stream",
     "text": [
      "Analizando partido (Golpes: 2):  45%|████▍     | 67/150 [05:23<06:38,  4.80s/frames]"
     ]
    },
    {
     "name": "stdout",
     "output_type": "stream",
     "text": [
      "\n",
      "0: 384x640 6 persons, 1 car, 1 tennis racket, 886.7ms\n",
      "Speed: 2.6ms preprocess, 886.7ms inference, 0.9ms postprocess per image at shape (1, 3, 384, 640)\n",
      "\n",
      "0: 544x960 1 tennis ball, 1816.8ms\n",
      "Speed: 4.2ms preprocess, 1816.8ms inference, 0.9ms postprocess per image at shape (1, 3, 544, 960)\n"
     ]
    },
    {
     "name": "stderr",
     "output_type": "stream",
     "text": [
      "Analizando partido (Golpes: 2):  45%|████▌     | 68/150 [05:28<06:33,  4.80s/frames]"
     ]
    },
    {
     "name": "stdout",
     "output_type": "stream",
     "text": [
      "\n",
      "0: 384x640 6 persons, 1 tennis racket, 862.1ms\n",
      "Speed: 3.2ms preprocess, 862.1ms inference, 2.9ms postprocess per image at shape (1, 3, 384, 640)\n",
      "\n",
      "0: 544x960 1 tennis ball, 1683.2ms\n",
      "Speed: 4.2ms preprocess, 1683.2ms inference, 1.0ms postprocess per image at shape (1, 3, 544, 960)\n"
     ]
    },
    {
     "name": "stderr",
     "output_type": "stream",
     "text": [
      "Analizando partido (Golpes: 2):  46%|████▌     | 69/150 [05:33<06:21,  4.71s/frames]"
     ]
    },
    {
     "name": "stdout",
     "output_type": "stream",
     "text": [
      "\n",
      "0: 384x640 6 persons, 2 tennis rackets, 866.9ms\n",
      "Speed: 1.6ms preprocess, 866.9ms inference, 1.0ms postprocess per image at shape (1, 3, 384, 640)\n",
      "\n",
      "0: 544x960 (no detections), 1882.5ms\n",
      "Speed: 4.5ms preprocess, 1882.5ms inference, 0.5ms postprocess per image at shape (1, 3, 544, 960)\n"
     ]
    },
    {
     "name": "stderr",
     "output_type": "stream",
     "text": [
      "Analizando partido (Golpes: 2):  47%|████▋     | 70/150 [05:37<06:19,  4.74s/frames]"
     ]
    },
    {
     "name": "stdout",
     "output_type": "stream",
     "text": [
      "\n",
      "0: 384x640 5 persons, 1 car, 2 tennis rackets, 863.0ms\n",
      "Speed: 1.7ms preprocess, 863.0ms inference, 1.0ms postprocess per image at shape (1, 3, 384, 640)\n",
      "\n",
      "0: 544x960 (no detections), 1785.8ms\n",
      "Speed: 4.6ms preprocess, 1785.8ms inference, 0.6ms postprocess per image at shape (1, 3, 544, 960)\n"
     ]
    },
    {
     "name": "stderr",
     "output_type": "stream",
     "text": [
      "Analizando partido (Golpes: 2):  47%|████▋     | 71/150 [05:42<06:08,  4.67s/frames]"
     ]
    },
    {
     "name": "stdout",
     "output_type": "stream",
     "text": [
      "\n",
      "0: 384x640 5 persons, 1 car, 2 tennis rackets, 940.9ms\n",
      "Speed: 1.8ms preprocess, 940.9ms inference, 1.0ms postprocess per image at shape (1, 3, 384, 640)\n",
      "\n",
      "0: 544x960 (no detections), 1819.8ms\n",
      "Speed: 5.5ms preprocess, 1819.8ms inference, 0.6ms postprocess per image at shape (1, 3, 544, 960)\n"
     ]
    },
    {
     "name": "stderr",
     "output_type": "stream",
     "text": [
      "Analizando partido (Golpes: 2):  48%|████▊     | 72/150 [05:47<06:05,  4.69s/frames]"
     ]
    },
    {
     "name": "stdout",
     "output_type": "stream",
     "text": [
      "\n",
      "0: 384x640 5 persons, 1 car, 810.7ms\n",
      "Speed: 1.9ms preprocess, 810.7ms inference, 0.9ms postprocess per image at shape (1, 3, 384, 640)\n",
      "\n",
      "0: 544x960 (no detections), 1845.2ms\n",
      "Speed: 5.1ms preprocess, 1845.2ms inference, 0.6ms postprocess per image at shape (1, 3, 544, 960)\n"
     ]
    },
    {
     "name": "stderr",
     "output_type": "stream",
     "text": [
      "Analizando partido (Golpes: 2):  49%|████▊     | 73/150 [05:51<06:03,  4.72s/frames]"
     ]
    },
    {
     "name": "stdout",
     "output_type": "stream",
     "text": [
      "\n",
      "0: 384x640 6 persons, 1 car, 1 tennis racket, 851.1ms\n",
      "Speed: 6.1ms preprocess, 851.1ms inference, 1.0ms postprocess per image at shape (1, 3, 384, 640)\n",
      "\n",
      "0: 544x960 (no detections), 2166.4ms\n",
      "Speed: 4.5ms preprocess, 2166.4ms inference, 0.6ms postprocess per image at shape (1, 3, 544, 960)\n"
     ]
    },
    {
     "name": "stderr",
     "output_type": "stream",
     "text": [
      "Analizando partido (Golpes: 2):  49%|████▉     | 74/150 [05:56<06:03,  4.78s/frames]"
     ]
    },
    {
     "name": "stdout",
     "output_type": "stream",
     "text": [
      "\n",
      "0: 384x640 5 persons, 1 car, 1 tennis racket, 926.3ms\n",
      "Speed: 2.2ms preprocess, 926.3ms inference, 1.1ms postprocess per image at shape (1, 3, 384, 640)\n",
      "\n",
      "0: 544x960 (no detections), 1858.9ms\n",
      "Speed: 4.1ms preprocess, 1858.9ms inference, 1.0ms postprocess per image at shape (1, 3, 544, 960)\n"
     ]
    },
    {
     "name": "stderr",
     "output_type": "stream",
     "text": [
      "Analizando partido (Golpes: 2):  50%|█████     | 75/150 [06:01<05:55,  4.74s/frames]"
     ]
    },
    {
     "name": "stdout",
     "output_type": "stream",
     "text": [
      "\n",
      "0: 384x640 5 persons, 1 car, 1 sports ball, 1 tennis racket, 878.9ms\n",
      "Speed: 1.7ms preprocess, 878.9ms inference, 1.1ms postprocess per image at shape (1, 3, 384, 640)\n",
      "\n",
      "0: 544x960 (no detections), 1730.5ms\n",
      "Speed: 4.7ms preprocess, 1730.5ms inference, 0.6ms postprocess per image at shape (1, 3, 544, 960)\n"
     ]
    },
    {
     "name": "stderr",
     "output_type": "stream",
     "text": [
      "Analizando partido (Golpes: 2):  51%|█████     | 76/150 [06:06<05:50,  4.73s/frames]"
     ]
    },
    {
     "name": "stdout",
     "output_type": "stream",
     "text": [
      "\n",
      "0: 384x640 5 persons, 1 tennis racket, 873.0ms\n",
      "Speed: 1.7ms preprocess, 873.0ms inference, 1.0ms postprocess per image at shape (1, 3, 384, 640)\n",
      "\n",
      "0: 544x960 (no detections), 1861.9ms\n",
      "Speed: 4.1ms preprocess, 1861.9ms inference, 0.9ms postprocess per image at shape (1, 3, 544, 960)\n"
     ]
    },
    {
     "name": "stderr",
     "output_type": "stream",
     "text": [
      "Analizando partido (Golpes: 2):  51%|█████▏    | 77/150 [06:10<05:45,  4.73s/frames]"
     ]
    },
    {
     "name": "stdout",
     "output_type": "stream",
     "text": [
      "\n",
      "0: 384x640 5 persons, 2 tennis rackets, 938.7ms\n",
      "Speed: 1.9ms preprocess, 938.7ms inference, 0.9ms postprocess per image at shape (1, 3, 384, 640)\n",
      "\n",
      "0: 544x960 (no detections), 1801.4ms\n",
      "Speed: 4.1ms preprocess, 1801.4ms inference, 0.8ms postprocess per image at shape (1, 3, 544, 960)\n"
     ]
    },
    {
     "name": "stderr",
     "output_type": "stream",
     "text": [
      "Analizando partido (Golpes: 2):  52%|█████▏    | 78/150 [06:15<05:42,  4.75s/frames]"
     ]
    },
    {
     "name": "stdout",
     "output_type": "stream",
     "text": [
      "\n",
      "0: 384x640 6 persons, 1 car, 1 tennis racket, 1 clock, 877.7ms\n",
      "Speed: 1.8ms preprocess, 877.7ms inference, 1.1ms postprocess per image at shape (1, 3, 384, 640)\n",
      "\n",
      "0: 544x960 (no detections), 1795.3ms\n",
      "Speed: 4.3ms preprocess, 1795.3ms inference, 0.6ms postprocess per image at shape (1, 3, 544, 960)\n"
     ]
    },
    {
     "name": "stderr",
     "output_type": "stream",
     "text": [
      "Analizando partido (Golpes: 2):  53%|█████▎    | 79/150 [06:20<05:37,  4.76s/frames]"
     ]
    },
    {
     "name": "stdout",
     "output_type": "stream",
     "text": [
      "\n",
      "0: 384x640 5 persons, 928.0ms\n",
      "Speed: 2.7ms preprocess, 928.0ms inference, 0.9ms postprocess per image at shape (1, 3, 384, 640)\n",
      "\n",
      "0: 544x960 1 tennis ball, 1864.0ms\n",
      "Speed: 4.6ms preprocess, 1864.0ms inference, 1.1ms postprocess per image at shape (1, 3, 544, 960)\n"
     ]
    },
    {
     "name": "stderr",
     "output_type": "stream",
     "text": [
      "Analizando partido (Golpes: 2):  53%|█████▎    | 80/150 [06:25<05:31,  4.73s/frames]"
     ]
    },
    {
     "name": "stdout",
     "output_type": "stream",
     "text": [
      "\n",
      "0: 384x640 5 persons, 1 sports ball, 922.8ms\n",
      "Speed: 1.8ms preprocess, 922.8ms inference, 1.2ms postprocess per image at shape (1, 3, 384, 640)\n",
      "\n",
      "0: 544x960 1 tennis ball, 1721.6ms\n",
      "Speed: 4.5ms preprocess, 1721.6ms inference, 1.1ms postprocess per image at shape (1, 3, 544, 960)\n"
     ]
    },
    {
     "name": "stderr",
     "output_type": "stream",
     "text": [
      "Analizando partido (Golpes: 3):  54%|█████▍    | 81/150 [06:29<05:23,  4.69s/frames]"
     ]
    },
    {
     "name": "stdout",
     "output_type": "stream",
     "text": [
      "\n",
      "0: 384x640 5 persons, 942.7ms\n",
      "Speed: 7.6ms preprocess, 942.7ms inference, 1.1ms postprocess per image at shape (1, 3, 384, 640)\n",
      "\n",
      "0: 544x960 1 tennis ball, 1755.1ms\n",
      "Speed: 4.1ms preprocess, 1755.1ms inference, 0.9ms postprocess per image at shape (1, 3, 544, 960)\n"
     ]
    },
    {
     "name": "stderr",
     "output_type": "stream",
     "text": [
      "Analizando partido (Golpes: 3):  55%|█████▍    | 82/150 [06:34<05:26,  4.80s/frames]"
     ]
    },
    {
     "name": "stdout",
     "output_type": "stream",
     "text": [
      "\n",
      "0: 384x640 6 persons, 924.6ms\n",
      "Speed: 1.7ms preprocess, 924.6ms inference, 0.9ms postprocess per image at shape (1, 3, 384, 640)\n",
      "\n",
      "0: 544x960 1 tennis ball, 1715.0ms\n",
      "Speed: 4.7ms preprocess, 1715.0ms inference, 0.9ms postprocess per image at shape (1, 3, 544, 960)\n"
     ]
    },
    {
     "name": "stderr",
     "output_type": "stream",
     "text": [
      "Analizando partido (Golpes: 3):  55%|█████▌    | 83/150 [06:39<05:15,  4.71s/frames]"
     ]
    },
    {
     "name": "stdout",
     "output_type": "stream",
     "text": [
      "\n",
      "0: 384x640 5 persons, 837.7ms\n",
      "Speed: 2.0ms preprocess, 837.7ms inference, 1.0ms postprocess per image at shape (1, 3, 384, 640)\n",
      "\n",
      "0: 544x960 1 tennis ball, 1968.4ms\n",
      "Speed: 4.0ms preprocess, 1968.4ms inference, 1.3ms postprocess per image at shape (1, 3, 544, 960)\n"
     ]
    },
    {
     "name": "stderr",
     "output_type": "stream",
     "text": [
      "Analizando partido (Golpes: 3):  56%|█████▌    | 84/150 [06:44<05:11,  4.72s/frames]"
     ]
    },
    {
     "name": "stdout",
     "output_type": "stream",
     "text": [
      "\n",
      "0: 384x640 6 persons, 896.4ms\n",
      "Speed: 2.2ms preprocess, 896.4ms inference, 1.0ms postprocess per image at shape (1, 3, 384, 640)\n",
      "\n",
      "0: 544x960 1 tennis ball, 1811.6ms\n",
      "Speed: 3.9ms preprocess, 1811.6ms inference, 0.9ms postprocess per image at shape (1, 3, 544, 960)\n"
     ]
    },
    {
     "name": "stderr",
     "output_type": "stream",
     "text": [
      "Analizando partido (Golpes: 3):  57%|█████▋    | 85/150 [06:48<05:06,  4.71s/frames]"
     ]
    },
    {
     "name": "stdout",
     "output_type": "stream",
     "text": [
      "\n",
      "0: 384x640 6 persons, 1 tennis racket, 839.6ms\n",
      "Speed: 1.6ms preprocess, 839.6ms inference, 0.9ms postprocess per image at shape (1, 3, 384, 640)\n",
      "\n",
      "0: 544x960 1 tennis ball, 1897.6ms\n",
      "Speed: 4.6ms preprocess, 1897.6ms inference, 1.6ms postprocess per image at shape (1, 3, 544, 960)\n"
     ]
    },
    {
     "name": "stderr",
     "output_type": "stream",
     "text": [
      "Analizando partido (Golpes: 3):  57%|█████▋    | 86/150 [06:53<05:00,  4.69s/frames]"
     ]
    },
    {
     "name": "stdout",
     "output_type": "stream",
     "text": [
      "\n",
      "0: 384x640 6 persons, 1 clock, 913.5ms\n",
      "Speed: 1.6ms preprocess, 913.5ms inference, 1.0ms postprocess per image at shape (1, 3, 384, 640)\n",
      "\n",
      "0: 544x960 (no detections), 1835.9ms\n",
      "Speed: 4.4ms preprocess, 1835.9ms inference, 0.6ms postprocess per image at shape (1, 3, 544, 960)\n"
     ]
    },
    {
     "name": "stderr",
     "output_type": "stream",
     "text": [
      "Analizando partido (Golpes: 3):  58%|█████▊    | 87/150 [06:58<04:57,  4.72s/frames]"
     ]
    },
    {
     "name": "stdout",
     "output_type": "stream",
     "text": [
      "\n",
      "0: 384x640 6 persons, 1 clock, 1221.6ms\n",
      "Speed: 1.9ms preprocess, 1221.6ms inference, 0.9ms postprocess per image at shape (1, 3, 384, 640)\n",
      "\n",
      "0: 544x960 (no detections), 1702.4ms\n",
      "Speed: 4.5ms preprocess, 1702.4ms inference, 0.6ms postprocess per image at shape (1, 3, 544, 960)\n"
     ]
    },
    {
     "name": "stderr",
     "output_type": "stream",
     "text": [
      "Analizando partido (Golpes: 3):  59%|█████▊    | 88/150 [07:03<04:54,  4.75s/frames]"
     ]
    },
    {
     "name": "stdout",
     "output_type": "stream",
     "text": [
      "\n",
      "0: 384x640 6 persons, 1 tennis racket, 1 clock, 965.4ms\n",
      "Speed: 2.0ms preprocess, 965.4ms inference, 1.0ms postprocess per image at shape (1, 3, 384, 640)\n",
      "\n",
      "0: 544x960 (no detections), 1717.3ms\n",
      "Speed: 6.2ms preprocess, 1717.3ms inference, 0.5ms postprocess per image at shape (1, 3, 544, 960)\n"
     ]
    },
    {
     "name": "stderr",
     "output_type": "stream",
     "text": [
      "Analizando partido (Golpes: 3):  59%|█████▉    | 89/150 [07:07<04:46,  4.70s/frames]"
     ]
    },
    {
     "name": "stdout",
     "output_type": "stream",
     "text": [
      "\n",
      "0: 384x640 6 persons, 1 car, 897.2ms\n",
      "Speed: 1.8ms preprocess, 897.2ms inference, 1.3ms postprocess per image at shape (1, 3, 384, 640)\n",
      "\n",
      "0: 544x960 (no detections), 1724.1ms\n",
      "Speed: 8.8ms preprocess, 1724.1ms inference, 0.6ms postprocess per image at shape (1, 3, 544, 960)\n"
     ]
    },
    {
     "name": "stderr",
     "output_type": "stream",
     "text": [
      "Analizando partido (Golpes: 3):  60%|██████    | 90/150 [07:12<04:43,  4.72s/frames]"
     ]
    },
    {
     "name": "stdout",
     "output_type": "stream",
     "text": [
      "\n",
      "0: 384x640 6 persons, 1019.2ms\n",
      "Speed: 1.7ms preprocess, 1019.2ms inference, 1.0ms postprocess per image at shape (1, 3, 384, 640)\n",
      "\n",
      "0: 544x960 (no detections), 1805.3ms\n",
      "Speed: 4.1ms preprocess, 1805.3ms inference, 0.6ms postprocess per image at shape (1, 3, 544, 960)\n"
     ]
    },
    {
     "name": "stderr",
     "output_type": "stream",
     "text": [
      "Analizando partido (Golpes: 3):  61%|██████    | 91/150 [07:17<04:38,  4.72s/frames]"
     ]
    },
    {
     "name": "stdout",
     "output_type": "stream",
     "text": [
      "\n",
      "0: 384x640 6 persons, 1 clock, 912.8ms\n",
      "Speed: 1.7ms preprocess, 912.8ms inference, 1.1ms postprocess per image at shape (1, 3, 384, 640)\n",
      "\n",
      "0: 544x960 (no detections), 1773.7ms\n",
      "Speed: 3.9ms preprocess, 1773.7ms inference, 0.7ms postprocess per image at shape (1, 3, 544, 960)\n"
     ]
    },
    {
     "name": "stderr",
     "output_type": "stream",
     "text": [
      "Analizando partido (Golpes: 3):  61%|██████▏   | 92/150 [07:21<04:31,  4.68s/frames]"
     ]
    },
    {
     "name": "stdout",
     "output_type": "stream",
     "text": [
      "\n",
      "0: 384x640 6 persons, 1 tennis racket, 837.9ms\n",
      "Speed: 1.8ms preprocess, 837.9ms inference, 1.0ms postprocess per image at shape (1, 3, 384, 640)\n",
      "\n",
      "0: 544x960 (no detections), 1800.6ms\n",
      "Speed: 4.3ms preprocess, 1800.6ms inference, 0.5ms postprocess per image at shape (1, 3, 544, 960)\n"
     ]
    },
    {
     "name": "stderr",
     "output_type": "stream",
     "text": [
      "Analizando partido (Golpes: 3):  62%|██████▏   | 93/150 [07:26<04:28,  4.72s/frames]"
     ]
    },
    {
     "name": "stdout",
     "output_type": "stream",
     "text": [
      "\n",
      "0: 384x640 6 persons, 1 tennis racket, 985.8ms\n",
      "Speed: 2.2ms preprocess, 985.8ms inference, 1.0ms postprocess per image at shape (1, 3, 384, 640)\n",
      "\n",
      "0: 544x960 (no detections), 1748.1ms\n",
      "Speed: 4.0ms preprocess, 1748.1ms inference, 0.7ms postprocess per image at shape (1, 3, 544, 960)\n"
     ]
    },
    {
     "name": "stderr",
     "output_type": "stream",
     "text": [
      "Analizando partido (Golpes: 3):  63%|██████▎   | 94/150 [07:31<04:21,  4.67s/frames]"
     ]
    },
    {
     "name": "stdout",
     "output_type": "stream",
     "text": [
      "\n",
      "0: 384x640 6 persons, 907.4ms\n",
      "Speed: 2.6ms preprocess, 907.4ms inference, 0.9ms postprocess per image at shape (1, 3, 384, 640)\n",
      "\n",
      "0: 544x960 (no detections), 1888.0ms\n",
      "Speed: 10.3ms preprocess, 1888.0ms inference, 0.6ms postprocess per image at shape (1, 3, 544, 960)\n"
     ]
    },
    {
     "name": "stderr",
     "output_type": "stream",
     "text": [
      "Analizando partido (Golpes: 3):  63%|██████▎   | 95/150 [07:36<04:21,  4.76s/frames]"
     ]
    },
    {
     "name": "stdout",
     "output_type": "stream",
     "text": [
      "\n",
      "0: 384x640 6 persons, 1 tennis racket, 902.1ms\n",
      "Speed: 1.7ms preprocess, 902.1ms inference, 1.0ms postprocess per image at shape (1, 3, 384, 640)\n",
      "\n",
      "0: 544x960 (no detections), 1731.7ms\n",
      "Speed: 7.0ms preprocess, 1731.7ms inference, 0.6ms postprocess per image at shape (1, 3, 544, 960)\n"
     ]
    },
    {
     "name": "stderr",
     "output_type": "stream",
     "text": [
      "Analizando partido (Golpes: 3):  64%|██████▍   | 96/150 [07:40<04:12,  4.67s/frames]"
     ]
    },
    {
     "name": "stdout",
     "output_type": "stream",
     "text": [
      "\n",
      "0: 384x640 5 persons, 858.7ms\n",
      "Speed: 1.7ms preprocess, 858.7ms inference, 1.0ms postprocess per image at shape (1, 3, 384, 640)\n",
      "\n",
      "0: 544x960 (no detections), 1914.7ms\n",
      "Speed: 6.1ms preprocess, 1914.7ms inference, 3.1ms postprocess per image at shape (1, 3, 544, 960)\n"
     ]
    },
    {
     "name": "stderr",
     "output_type": "stream",
     "text": [
      "Analizando partido (Golpes: 3):  65%|██████▍   | 97/150 [07:45<04:11,  4.75s/frames]"
     ]
    },
    {
     "name": "stdout",
     "output_type": "stream",
     "text": [
      "\n",
      "0: 384x640 5 persons, 932.1ms\n",
      "Speed: 1.9ms preprocess, 932.1ms inference, 1.1ms postprocess per image at shape (1, 3, 384, 640)\n",
      "\n",
      "0: 544x960 (no detections), 1830.4ms\n",
      "Speed: 4.5ms preprocess, 1830.4ms inference, 0.5ms postprocess per image at shape (1, 3, 544, 960)\n"
     ]
    },
    {
     "name": "stderr",
     "output_type": "stream",
     "text": [
      "Analizando partido (Golpes: 3):  65%|██████▌   | 98/150 [07:50<04:10,  4.82s/frames]"
     ]
    },
    {
     "name": "stdout",
     "output_type": "stream",
     "text": [
      "\n",
      "0: 384x640 5 persons, 898.9ms\n",
      "Speed: 1.7ms preprocess, 898.9ms inference, 1.0ms postprocess per image at shape (1, 3, 384, 640)\n",
      "\n",
      "0: 544x960 1 tennis ball, 1761.0ms\n",
      "Speed: 5.1ms preprocess, 1761.0ms inference, 1.0ms postprocess per image at shape (1, 3, 544, 960)\n"
     ]
    },
    {
     "name": "stderr",
     "output_type": "stream",
     "text": [
      "Analizando partido (Golpes: 4):  66%|██████▌   | 99/150 [07:55<04:02,  4.75s/frames]"
     ]
    },
    {
     "name": "stdout",
     "output_type": "stream",
     "text": [
      "\n",
      "0: 384x640 6 persons, 1 tennis racket, 906.3ms\n",
      "Speed: 2.9ms preprocess, 906.3ms inference, 1.1ms postprocess per image at shape (1, 3, 384, 640)\n",
      "\n",
      "0: 544x960 1 tennis ball, 1916.1ms\n",
      "Speed: 4.3ms preprocess, 1916.1ms inference, 1.0ms postprocess per image at shape (1, 3, 544, 960)\n"
     ]
    },
    {
     "name": "stderr",
     "output_type": "stream",
     "text": [
      "Analizando partido (Golpes: 4):  67%|██████▋   | 100/150 [07:59<03:58,  4.78s/frames]"
     ]
    },
    {
     "name": "stdout",
     "output_type": "stream",
     "text": [
      "\n",
      "0: 384x640 5 persons, 889.5ms\n",
      "Speed: 1.6ms preprocess, 889.5ms inference, 1.1ms postprocess per image at shape (1, 3, 384, 640)\n",
      "\n",
      "0: 544x960 2 tennis balls, 1993.3ms\n",
      "Speed: 4.2ms preprocess, 1993.3ms inference, 0.9ms postprocess per image at shape (1, 3, 544, 960)\n"
     ]
    },
    {
     "name": "stderr",
     "output_type": "stream",
     "text": [
      "Analizando partido (Golpes: 4):  67%|██████▋   | 101/150 [08:04<03:58,  4.86s/frames]"
     ]
    },
    {
     "name": "stdout",
     "output_type": "stream",
     "text": [
      "\n",
      "0: 384x640 5 persons, 878.2ms\n",
      "Speed: 2.0ms preprocess, 878.2ms inference, 1.0ms postprocess per image at shape (1, 3, 384, 640)\n",
      "\n",
      "0: 544x960 2 tennis balls, 1792.0ms\n",
      "Speed: 6.2ms preprocess, 1792.0ms inference, 1.0ms postprocess per image at shape (1, 3, 544, 960)\n"
     ]
    },
    {
     "name": "stderr",
     "output_type": "stream",
     "text": [
      "Analizando partido (Golpes: 4):  68%|██████▊   | 102/150 [08:09<03:50,  4.81s/frames]"
     ]
    },
    {
     "name": "stdout",
     "output_type": "stream",
     "text": [
      "\n",
      "0: 384x640 5 persons, 2 tennis rackets, 971.5ms\n",
      "Speed: 2.3ms preprocess, 971.5ms inference, 0.9ms postprocess per image at shape (1, 3, 384, 640)\n",
      "\n",
      "0: 544x960 (no detections), 1985.6ms\n",
      "Speed: 3.8ms preprocess, 1985.6ms inference, 0.7ms postprocess per image at shape (1, 3, 544, 960)\n"
     ]
    },
    {
     "name": "stderr",
     "output_type": "stream",
     "text": [
      "Analizando partido (Golpes: 4):  69%|██████▊   | 103/150 [08:14<03:47,  4.84s/frames]"
     ]
    },
    {
     "name": "stdout",
     "output_type": "stream",
     "text": [
      "\n",
      "0: 384x640 5 persons, 1 tennis racket, 938.6ms\n",
      "Speed: 2.3ms preprocess, 938.6ms inference, 1.1ms postprocess per image at shape (1, 3, 384, 640)\n",
      "\n",
      "0: 544x960 (no detections), 1720.4ms\n",
      "Speed: 4.1ms preprocess, 1720.4ms inference, 0.9ms postprocess per image at shape (1, 3, 544, 960)\n"
     ]
    },
    {
     "name": "stderr",
     "output_type": "stream",
     "text": [
      "Analizando partido (Golpes: 4):  69%|██████▉   | 104/150 [08:19<03:40,  4.79s/frames]"
     ]
    },
    {
     "name": "stdout",
     "output_type": "stream",
     "text": [
      "\n",
      "0: 384x640 5 persons, 2 tennis rackets, 843.7ms\n",
      "Speed: 1.7ms preprocess, 843.7ms inference, 0.9ms postprocess per image at shape (1, 3, 384, 640)\n",
      "\n",
      "0: 544x960 (no detections), 1830.1ms\n",
      "Speed: 5.2ms preprocess, 1830.1ms inference, 0.7ms postprocess per image at shape (1, 3, 544, 960)\n"
     ]
    },
    {
     "name": "stderr",
     "output_type": "stream",
     "text": [
      "Analizando partido (Golpes: 4):  70%|███████   | 105/150 [08:23<03:32,  4.73s/frames]"
     ]
    },
    {
     "name": "stdout",
     "output_type": "stream",
     "text": [
      "\n",
      "0: 384x640 5 persons, 2 tennis rackets, 1 clock, 1004.7ms\n",
      "Speed: 2.3ms preprocess, 1004.7ms inference, 1.0ms postprocess per image at shape (1, 3, 384, 640)\n",
      "\n",
      "0: 544x960 (no detections), 1849.8ms\n",
      "Speed: 4.7ms preprocess, 1849.8ms inference, 0.7ms postprocess per image at shape (1, 3, 544, 960)\n"
     ]
    },
    {
     "name": "stderr",
     "output_type": "stream",
     "text": [
      "Analizando partido (Golpes: 4):  71%|███████   | 106/150 [08:28<03:29,  4.76s/frames]"
     ]
    },
    {
     "name": "stdout",
     "output_type": "stream",
     "text": [
      "\n",
      "0: 384x640 5 persons, 2 tennis rackets, 1 clock, 906.0ms\n",
      "Speed: 1.8ms preprocess, 906.0ms inference, 1.0ms postprocess per image at shape (1, 3, 384, 640)\n",
      "\n",
      "0: 544x960 (no detections), 1733.7ms\n",
      "Speed: 4.4ms preprocess, 1733.7ms inference, 0.6ms postprocess per image at shape (1, 3, 544, 960)\n"
     ]
    },
    {
     "name": "stderr",
     "output_type": "stream",
     "text": [
      "Analizando partido (Golpes: 4):  71%|███████▏  | 107/150 [08:33<03:23,  4.72s/frames]"
     ]
    },
    {
     "name": "stdout",
     "output_type": "stream",
     "text": [
      "\n",
      "0: 384x640 5 persons, 1 tennis racket, 1 clock, 912.6ms\n",
      "Speed: 1.6ms preprocess, 912.6ms inference, 0.9ms postprocess per image at shape (1, 3, 384, 640)\n",
      "\n",
      "0: 544x960 2 tennis balls, 2047.4ms\n",
      "Speed: 4.0ms preprocess, 2047.4ms inference, 1.0ms postprocess per image at shape (1, 3, 544, 960)\n"
     ]
    },
    {
     "name": "stderr",
     "output_type": "stream",
     "text": [
      "Analizando partido (Golpes: 4):  72%|███████▏  | 108/150 [08:38<03:19,  4.76s/frames]"
     ]
    },
    {
     "name": "stdout",
     "output_type": "stream",
     "text": [
      "\n",
      "0: 384x640 5 persons, 2 tennis rackets, 1 clock, 901.9ms\n",
      "Speed: 1.7ms preprocess, 901.9ms inference, 0.9ms postprocess per image at shape (1, 3, 384, 640)\n",
      "\n",
      "0: 544x960 2 tennis balls, 1816.1ms\n",
      "Speed: 4.9ms preprocess, 1816.1ms inference, 1.1ms postprocess per image at shape (1, 3, 544, 960)\n"
     ]
    },
    {
     "name": "stderr",
     "output_type": "stream",
     "text": [
      "Analizando partido (Golpes: 4):  73%|███████▎  | 109/150 [08:42<03:13,  4.71s/frames]"
     ]
    },
    {
     "name": "stdout",
     "output_type": "stream",
     "text": [
      "\n",
      "0: 384x640 5 persons, 3 tennis rackets, 1 clock, 890.8ms\n",
      "Speed: 1.8ms preprocess, 890.8ms inference, 1.0ms postprocess per image at shape (1, 3, 384, 640)\n",
      "\n",
      "0: 544x960 3 tennis balls, 1819.6ms\n",
      "Speed: 4.7ms preprocess, 1819.6ms inference, 0.9ms postprocess per image at shape (1, 3, 544, 960)\n"
     ]
    },
    {
     "name": "stderr",
     "output_type": "stream",
     "text": [
      "Analizando partido (Golpes: 4):  73%|███████▎  | 110/150 [08:47<03:09,  4.75s/frames]"
     ]
    },
    {
     "name": "stdout",
     "output_type": "stream",
     "text": [
      "\n",
      "0: 384x640 5 persons, 1 tennis racket, 932.2ms\n",
      "Speed: 2.2ms preprocess, 932.2ms inference, 1.1ms postprocess per image at shape (1, 3, 384, 640)\n",
      "\n",
      "0: 544x960 3 tennis balls, 1788.3ms\n",
      "Speed: 3.7ms preprocess, 1788.3ms inference, 1.1ms postprocess per image at shape (1, 3, 544, 960)\n"
     ]
    },
    {
     "name": "stderr",
     "output_type": "stream",
     "text": [
      "Analizando partido (Golpes: 4):  74%|███████▍  | 111/150 [08:52<03:03,  4.70s/frames]"
     ]
    },
    {
     "name": "stdout",
     "output_type": "stream",
     "text": [
      "\n",
      "0: 384x640 5 persons, 1 tennis racket, 1 clock, 844.2ms\n",
      "Speed: 1.6ms preprocess, 844.2ms inference, 1.1ms postprocess per image at shape (1, 3, 384, 640)\n",
      "\n",
      "0: 544x960 3 tennis balls, 1783.4ms\n",
      "Speed: 4.9ms preprocess, 1783.4ms inference, 1.0ms postprocess per image at shape (1, 3, 544, 960)\n"
     ]
    },
    {
     "name": "stderr",
     "output_type": "stream",
     "text": [
      "Analizando partido (Golpes: 4):  75%|███████▍  | 112/150 [08:56<03:00,  4.74s/frames]"
     ]
    },
    {
     "name": "stdout",
     "output_type": "stream",
     "text": [
      "\n",
      "0: 384x640 5 persons, 1 tennis racket, 1 clock, 945.8ms\n",
      "Speed: 1.7ms preprocess, 945.8ms inference, 1.0ms postprocess per image at shape (1, 3, 384, 640)\n",
      "\n",
      "0: 544x960 3 tennis balls, 1772.8ms\n",
      "Speed: 4.9ms preprocess, 1772.8ms inference, 0.9ms postprocess per image at shape (1, 3, 544, 960)\n"
     ]
    },
    {
     "name": "stderr",
     "output_type": "stream",
     "text": [
      "Analizando partido (Golpes: 4):  75%|███████▌  | 113/150 [09:01<02:54,  4.71s/frames]"
     ]
    },
    {
     "name": "stdout",
     "output_type": "stream",
     "text": [
      "\n",
      "0: 384x640 5 persons, 2 tennis rackets, 900.7ms\n",
      "Speed: 1.8ms preprocess, 900.7ms inference, 1.0ms postprocess per image at shape (1, 3, 384, 640)\n",
      "\n",
      "0: 544x960 1 tennis ball, 1856.7ms\n",
      "Speed: 4.2ms preprocess, 1856.7ms inference, 1.1ms postprocess per image at shape (1, 3, 544, 960)\n"
     ]
    },
    {
     "name": "stderr",
     "output_type": "stream",
     "text": [
      "Analizando partido (Golpes: 4):  76%|███████▌  | 114/150 [09:06<02:48,  4.68s/frames]"
     ]
    },
    {
     "name": "stdout",
     "output_type": "stream",
     "text": [
      "\n",
      "0: 384x640 5 persons, 2 tennis rackets, 1276.7ms\n",
      "Speed: 3.6ms preprocess, 1276.7ms inference, 0.9ms postprocess per image at shape (1, 3, 384, 640)\n",
      "\n",
      "0: 544x960 (no detections), 1829.7ms\n",
      "Speed: 5.2ms preprocess, 1829.7ms inference, 0.6ms postprocess per image at shape (1, 3, 544, 960)\n"
     ]
    },
    {
     "name": "stderr",
     "output_type": "stream",
     "text": [
      "Analizando partido (Golpes: 4):  77%|███████▋  | 115/150 [09:11<02:48,  4.82s/frames]"
     ]
    },
    {
     "name": "stdout",
     "output_type": "stream",
     "text": [
      "\n",
      "0: 384x640 5 persons, 2 tennis rackets, 946.6ms\n",
      "Speed: 1.8ms preprocess, 946.6ms inference, 1.1ms postprocess per image at shape (1, 3, 384, 640)\n",
      "\n",
      "0: 544x960 (no detections), 1809.8ms\n",
      "Speed: 4.3ms preprocess, 1809.8ms inference, 0.6ms postprocess per image at shape (1, 3, 544, 960)\n"
     ]
    },
    {
     "name": "stderr",
     "output_type": "stream",
     "text": [
      "Analizando partido (Golpes: 4):  77%|███████▋  | 116/150 [09:16<02:42,  4.78s/frames]"
     ]
    },
    {
     "name": "stdout",
     "output_type": "stream",
     "text": [
      "\n",
      "0: 384x640 5 persons, 2 tennis rackets, 867.1ms\n",
      "Speed: 1.7ms preprocess, 867.1ms inference, 1.2ms postprocess per image at shape (1, 3, 384, 640)\n",
      "\n",
      "0: 544x960 1 tennis ball, 1849.8ms\n",
      "Speed: 3.9ms preprocess, 1849.8ms inference, 1.0ms postprocess per image at shape (1, 3, 544, 960)\n"
     ]
    },
    {
     "name": "stderr",
     "output_type": "stream",
     "text": [
      "Analizando partido (Golpes: 4):  78%|███████▊  | 117/150 [09:20<02:36,  4.74s/frames]"
     ]
    },
    {
     "name": "stdout",
     "output_type": "stream",
     "text": [
      "\n",
      "0: 384x640 5 persons, 2 tennis rackets, 889.3ms\n",
      "Speed: 2.1ms preprocess, 889.3ms inference, 0.9ms postprocess per image at shape (1, 3, 384, 640)\n",
      "\n",
      "0: 544x960 (no detections), 1731.9ms\n",
      "Speed: 4.8ms preprocess, 1731.9ms inference, 0.6ms postprocess per image at shape (1, 3, 544, 960)\n"
     ]
    },
    {
     "name": "stderr",
     "output_type": "stream",
     "text": [
      "Analizando partido (Golpes: 4):  79%|███████▊  | 118/150 [09:25<02:31,  4.72s/frames]"
     ]
    },
    {
     "name": "stdout",
     "output_type": "stream",
     "text": [
      "\n",
      "0: 384x640 5 persons, 1 sports ball, 2 tennis rackets, 1045.6ms\n",
      "Speed: 10.4ms preprocess, 1045.6ms inference, 1.1ms postprocess per image at shape (1, 3, 384, 640)\n",
      "\n",
      "0: 544x960 1 tennis ball, 1753.5ms\n",
      "Speed: 4.1ms preprocess, 1753.5ms inference, 1.2ms postprocess per image at shape (1, 3, 544, 960)\n"
     ]
    },
    {
     "name": "stderr",
     "output_type": "stream",
     "text": [
      "Analizando partido (Golpes: 4):  79%|███████▉  | 119/150 [09:30<02:28,  4.78s/frames]"
     ]
    },
    {
     "name": "stdout",
     "output_type": "stream",
     "text": [
      "\n",
      "0: 384x640 5 persons, 1 sports ball, 2 tennis rackets, 948.5ms\n",
      "Speed: 3.2ms preprocess, 948.5ms inference, 1.0ms postprocess per image at shape (1, 3, 384, 640)\n",
      "\n",
      "0: 544x960 1 tennis ball, 1811.8ms\n",
      "Speed: 4.5ms preprocess, 1811.8ms inference, 0.9ms postprocess per image at shape (1, 3, 544, 960)\n"
     ]
    },
    {
     "name": "stderr",
     "output_type": "stream",
     "text": [
      "Analizando partido (Golpes: 4):  80%|████████  | 120/150 [09:35<02:23,  4.78s/frames]"
     ]
    },
    {
     "name": "stdout",
     "output_type": "stream",
     "text": [
      "\n",
      "0: 384x640 5 persons, 1 sports ball, 891.4ms\n",
      "Speed: 1.7ms preprocess, 891.4ms inference, 1.0ms postprocess per image at shape (1, 3, 384, 640)\n",
      "\n",
      "0: 544x960 1 tennis ball, 1825.7ms\n",
      "Speed: 4.6ms preprocess, 1825.7ms inference, 0.9ms postprocess per image at shape (1, 3, 544, 960)\n"
     ]
    },
    {
     "name": "stderr",
     "output_type": "stream",
     "text": [
      "Analizando partido (Golpes: 4):  81%|████████  | 121/150 [09:39<02:16,  4.71s/frames]"
     ]
    },
    {
     "name": "stdout",
     "output_type": "stream",
     "text": [
      "\n",
      "0: 384x640 5 persons, 1311.2ms\n",
      "Speed: 1.9ms preprocess, 1311.2ms inference, 0.9ms postprocess per image at shape (1, 3, 384, 640)\n",
      "\n",
      "0: 544x960 2 tennis balls, 1972.9ms\n",
      "Speed: 4.2ms preprocess, 1972.9ms inference, 1.1ms postprocess per image at shape (1, 3, 544, 960)\n"
     ]
    },
    {
     "name": "stderr",
     "output_type": "stream",
     "text": [
      "Analizando partido (Golpes: 4):  81%|████████▏ | 122/150 [09:44<02:15,  4.83s/frames]"
     ]
    },
    {
     "name": "stdout",
     "output_type": "stream",
     "text": [
      "\n",
      "0: 384x640 6 persons, 813.3ms\n",
      "Speed: 1.7ms preprocess, 813.3ms inference, 1.0ms postprocess per image at shape (1, 3, 384, 640)\n",
      "\n",
      "0: 544x960 1 tennis ball, 1925.1ms\n",
      "Speed: 4.2ms preprocess, 1925.1ms inference, 0.9ms postprocess per image at shape (1, 3, 544, 960)\n"
     ]
    },
    {
     "name": "stderr",
     "output_type": "stream",
     "text": [
      "Analizando partido (Golpes: 4):  82%|████████▏ | 123/150 [09:49<02:09,  4.80s/frames]"
     ]
    },
    {
     "name": "stdout",
     "output_type": "stream",
     "text": [
      "\n",
      "0: 384x640 6 persons, 928.2ms\n",
      "Speed: 1.6ms preprocess, 928.2ms inference, 0.9ms postprocess per image at shape (1, 3, 384, 640)\n",
      "\n",
      "0: 544x960 1 tennis ball, 1806.7ms\n",
      "Speed: 3.8ms preprocess, 1806.7ms inference, 1.1ms postprocess per image at shape (1, 3, 544, 960)\n"
     ]
    },
    {
     "name": "stderr",
     "output_type": "stream",
     "text": [
      "Analizando partido (Golpes: 4):  83%|████████▎ | 124/150 [09:54<02:03,  4.74s/frames]"
     ]
    },
    {
     "name": "stdout",
     "output_type": "stream",
     "text": [
      "\n",
      "0: 384x640 5 persons, 1 tennis racket, 893.2ms\n",
      "Speed: 1.9ms preprocess, 893.2ms inference, 1.0ms postprocess per image at shape (1, 3, 384, 640)\n",
      "\n",
      "0: 544x960 1 tennis ball, 1770.2ms\n",
      "Speed: 4.3ms preprocess, 1770.2ms inference, 1.1ms postprocess per image at shape (1, 3, 544, 960)\n"
     ]
    },
    {
     "name": "stderr",
     "output_type": "stream",
     "text": [
      "Analizando partido (Golpes: 4):  83%|████████▎ | 125/150 [09:58<01:58,  4.74s/frames]"
     ]
    },
    {
     "name": "stdout",
     "output_type": "stream",
     "text": [
      "\n",
      "0: 384x640 5 persons, 1 tennis racket, 862.1ms\n",
      "Speed: 2.0ms preprocess, 862.1ms inference, 0.9ms postprocess per image at shape (1, 3, 384, 640)\n",
      "\n",
      "0: 544x960 1 tennis ball, 1831.9ms\n",
      "Speed: 4.6ms preprocess, 1831.9ms inference, 3.4ms postprocess per image at shape (1, 3, 544, 960)\n"
     ]
    },
    {
     "name": "stderr",
     "output_type": "stream",
     "text": [
      "Analizando partido (Golpes: 4):  84%|████████▍ | 126/150 [10:03<01:54,  4.78s/frames]"
     ]
    },
    {
     "name": "stdout",
     "output_type": "stream",
     "text": [
      "\n",
      "0: 384x640 5 persons, 1 sports ball, 992.7ms\n",
      "Speed: 2.5ms preprocess, 992.7ms inference, 1.0ms postprocess per image at shape (1, 3, 384, 640)\n",
      "\n",
      "0: 544x960 1 tennis ball, 1806.1ms\n",
      "Speed: 3.8ms preprocess, 1806.1ms inference, 1.2ms postprocess per image at shape (1, 3, 544, 960)\n"
     ]
    },
    {
     "name": "stderr",
     "output_type": "stream",
     "text": [
      "Analizando partido (Golpes: 4):  85%|████████▍ | 127/150 [10:08<01:49,  4.76s/frames]"
     ]
    },
    {
     "name": "stdout",
     "output_type": "stream",
     "text": [
      "\n",
      "0: 384x640 5 persons, 1 tennis racket, 951.1ms\n",
      "Speed: 1.6ms preprocess, 951.1ms inference, 1.1ms postprocess per image at shape (1, 3, 384, 640)\n",
      "\n",
      "0: 544x960 1 tennis ball, 1826.1ms\n",
      "Speed: 4.2ms preprocess, 1826.1ms inference, 0.9ms postprocess per image at shape (1, 3, 544, 960)\n"
     ]
    },
    {
     "name": "stderr",
     "output_type": "stream",
     "text": [
      "Analizando partido (Golpes: 4):  85%|████████▌ | 128/150 [10:13<01:46,  4.83s/frames]"
     ]
    },
    {
     "name": "stdout",
     "output_type": "stream",
     "text": [
      "\n",
      "0: 384x640 5 persons, 1 sports ball, 1 tennis racket, 969.2ms\n",
      "Speed: 1.9ms preprocess, 969.2ms inference, 1.2ms postprocess per image at shape (1, 3, 384, 640)\n",
      "\n",
      "0: 544x960 2 tennis balls, 1767.9ms\n",
      "Speed: 4.2ms preprocess, 1767.9ms inference, 0.9ms postprocess per image at shape (1, 3, 544, 960)\n"
     ]
    },
    {
     "name": "stderr",
     "output_type": "stream",
     "text": [
      "Analizando partido (Golpes: 4):  86%|████████▌ | 129/150 [10:18<01:40,  4.79s/frames]"
     ]
    },
    {
     "name": "stdout",
     "output_type": "stream",
     "text": [
      "\n",
      "0: 384x640 5 persons, 1 sports ball, 2 tennis rackets, 954.2ms\n",
      "Speed: 4.0ms preprocess, 954.2ms inference, 1.1ms postprocess per image at shape (1, 3, 384, 640)\n",
      "\n",
      "0: 544x960 1 tennis ball, 1733.8ms\n",
      "Speed: 6.0ms preprocess, 1733.8ms inference, 1.1ms postprocess per image at shape (1, 3, 544, 960)\n"
     ]
    },
    {
     "name": "stderr",
     "output_type": "stream",
     "text": [
      "Analizando partido (Golpes: 4):  87%|████████▋ | 130/150 [10:22<01:35,  4.75s/frames]"
     ]
    },
    {
     "name": "stdout",
     "output_type": "stream",
     "text": [
      "\n",
      "0: 384x640 5 persons, 1 sports ball, 2 tennis rackets, 996.2ms\n",
      "Speed: 5.7ms preprocess, 996.2ms inference, 2.2ms postprocess per image at shape (1, 3, 384, 640)\n",
      "\n",
      "0: 544x960 1 tennis ball, 1821.7ms\n",
      "Speed: 4.3ms preprocess, 1821.7ms inference, 0.9ms postprocess per image at shape (1, 3, 544, 960)\n"
     ]
    },
    {
     "name": "stderr",
     "output_type": "stream",
     "text": [
      "Analizando partido (Golpes: 4):  87%|████████▋ | 131/150 [10:27<01:31,  4.80s/frames]"
     ]
    },
    {
     "name": "stdout",
     "output_type": "stream",
     "text": [
      "\n",
      "0: 384x640 5 persons, 1 car, 1 tennis racket, 916.4ms\n",
      "Speed: 3.2ms preprocess, 916.4ms inference, 0.9ms postprocess per image at shape (1, 3, 384, 640)\n",
      "\n",
      "0: 544x960 1 tennis ball, 1789.1ms\n",
      "Speed: 4.4ms preprocess, 1789.1ms inference, 1.0ms postprocess per image at shape (1, 3, 544, 960)\n"
     ]
    },
    {
     "name": "stderr",
     "output_type": "stream",
     "text": [
      "Analizando partido (Golpes: 4):  88%|████████▊ | 132/150 [10:32<01:25,  4.73s/frames]"
     ]
    },
    {
     "name": "stdout",
     "output_type": "stream",
     "text": [
      "\n",
      "0: 384x640 5 persons, 1 tennis racket, 851.1ms\n",
      "Speed: 1.6ms preprocess, 851.1ms inference, 1.0ms postprocess per image at shape (1, 3, 384, 640)\n",
      "\n",
      "0: 544x960 2 tennis balls, 1898.6ms\n",
      "Speed: 5.3ms preprocess, 1898.6ms inference, 1.2ms postprocess per image at shape (1, 3, 544, 960)\n"
     ]
    },
    {
     "name": "stderr",
     "output_type": "stream",
     "text": [
      "Analizando partido (Golpes: 4):  89%|████████▊ | 133/150 [10:36<01:20,  4.74s/frames]"
     ]
    },
    {
     "name": "stdout",
     "output_type": "stream",
     "text": [
      "\n",
      "0: 384x640 4 persons, 1 tennis racket, 896.6ms\n",
      "Speed: 2.0ms preprocess, 896.6ms inference, 1.1ms postprocess per image at shape (1, 3, 384, 640)\n",
      "\n",
      "0: 544x960 (no detections), 1849.6ms\n",
      "Speed: 4.3ms preprocess, 1849.6ms inference, 0.6ms postprocess per image at shape (1, 3, 544, 960)\n"
     ]
    },
    {
     "name": "stderr",
     "output_type": "stream",
     "text": [
      "Analizando partido (Golpes: 4):  89%|████████▉ | 134/150 [10:41<01:16,  4.75s/frames]"
     ]
    },
    {
     "name": "stdout",
     "output_type": "stream",
     "text": [
      "\n",
      "0: 384x640 5 persons, 1 car, 1 tennis racket, 848.9ms\n",
      "Speed: 1.7ms preprocess, 848.9ms inference, 0.9ms postprocess per image at shape (1, 3, 384, 640)\n",
      "\n",
      "0: 544x960 (no detections), 1780.7ms\n",
      "Speed: 5.1ms preprocess, 1780.7ms inference, 0.6ms postprocess per image at shape (1, 3, 544, 960)\n"
     ]
    },
    {
     "name": "stderr",
     "output_type": "stream",
     "text": [
      "Analizando partido (Golpes: 4):  90%|█████████ | 135/150 [10:46<01:11,  4.79s/frames]"
     ]
    },
    {
     "name": "stdout",
     "output_type": "stream",
     "text": [
      "\n",
      "0: 384x640 5 persons, 1 tennis racket, 933.2ms\n",
      "Speed: 1.7ms preprocess, 933.2ms inference, 0.9ms postprocess per image at shape (1, 3, 384, 640)\n",
      "\n",
      "0: 544x960 (no detections), 1839.5ms\n",
      "Speed: 4.0ms preprocess, 1839.5ms inference, 0.7ms postprocess per image at shape (1, 3, 544, 960)\n"
     ]
    },
    {
     "name": "stderr",
     "output_type": "stream",
     "text": [
      "Analizando partido (Golpes: 4):  91%|█████████ | 136/150 [10:51<01:06,  4.76s/frames]"
     ]
    },
    {
     "name": "stdout",
     "output_type": "stream",
     "text": [
      "\n",
      "0: 384x640 4 persons, 1 car, 2 tennis rackets, 872.1ms\n",
      "Speed: 1.9ms preprocess, 872.1ms inference, 4.1ms postprocess per image at shape (1, 3, 384, 640)\n",
      "\n",
      "0: 544x960 1 tennis ball, 1709.8ms\n",
      "Speed: 4.3ms preprocess, 1709.8ms inference, 0.9ms postprocess per image at shape (1, 3, 544, 960)\n"
     ]
    },
    {
     "name": "stderr",
     "output_type": "stream",
     "text": [
      "Analizando partido (Golpes: 4):  91%|█████████▏| 137/150 [10:55<01:01,  4.73s/frames]"
     ]
    },
    {
     "name": "stdout",
     "output_type": "stream",
     "text": [
      "\n",
      "0: 384x640 5 persons, 1 tennis racket, 896.7ms\n",
      "Speed: 2.2ms preprocess, 896.7ms inference, 0.9ms postprocess per image at shape (1, 3, 384, 640)\n",
      "\n",
      "0: 544x960 1 tennis ball, 1847.4ms\n",
      "Speed: 4.3ms preprocess, 1847.4ms inference, 0.9ms postprocess per image at shape (1, 3, 544, 960)\n"
     ]
    },
    {
     "name": "stderr",
     "output_type": "stream",
     "text": [
      "Analizando partido (Golpes: 5):  92%|█████████▏| 138/150 [11:00<00:56,  4.72s/frames]"
     ]
    },
    {
     "name": "stdout",
     "output_type": "stream",
     "text": [
      "\n",
      "0: 384x640 5 persons, 1 tennis racket, 987.6ms\n",
      "Speed: 1.8ms preprocess, 987.6ms inference, 0.9ms postprocess per image at shape (1, 3, 384, 640)\n",
      "\n",
      "0: 544x960 1 tennis ball, 1797.3ms\n",
      "Speed: 4.3ms preprocess, 1797.3ms inference, 0.9ms postprocess per image at shape (1, 3, 544, 960)\n"
     ]
    },
    {
     "name": "stderr",
     "output_type": "stream",
     "text": [
      "Analizando partido (Golpes: 5):  93%|█████████▎| 139/150 [11:05<00:52,  4.76s/frames]"
     ]
    },
    {
     "name": "stdout",
     "output_type": "stream",
     "text": [
      "\n",
      "0: 384x640 5 persons, 1 tennis racket, 950.6ms\n",
      "Speed: 1.8ms preprocess, 950.6ms inference, 0.9ms postprocess per image at shape (1, 3, 384, 640)\n",
      "\n",
      "0: 544x960 1 tennis ball, 2248.0ms\n",
      "Speed: 4.3ms preprocess, 2248.0ms inference, 0.9ms postprocess per image at shape (1, 3, 544, 960)\n"
     ]
    },
    {
     "name": "stderr",
     "output_type": "stream",
     "text": [
      "Analizando partido (Golpes: 5):  93%|█████████▎| 140/150 [11:10<00:48,  4.86s/frames]"
     ]
    },
    {
     "name": "stdout",
     "output_type": "stream",
     "text": [
      "\n",
      "0: 384x640 5 persons, 1 tennis racket, 984.2ms\n",
      "Speed: 1.6ms preprocess, 984.2ms inference, 1.3ms postprocess per image at shape (1, 3, 384, 640)\n",
      "\n",
      "0: 544x960 1 tennis ball, 1884.2ms\n",
      "Speed: 4.6ms preprocess, 1884.2ms inference, 1.1ms postprocess per image at shape (1, 3, 544, 960)\n"
     ]
    },
    {
     "name": "stderr",
     "output_type": "stream",
     "text": [
      "Analizando partido (Golpes: 5):  94%|█████████▍| 141/150 [11:15<00:43,  4.83s/frames]"
     ]
    },
    {
     "name": "stdout",
     "output_type": "stream",
     "text": [
      "\n",
      "0: 384x640 5 persons, 2 tennis rackets, 960.9ms\n",
      "Speed: 1.7ms preprocess, 960.9ms inference, 1.0ms postprocess per image at shape (1, 3, 384, 640)\n",
      "\n",
      "0: 544x960 2 tennis balls, 1817.0ms\n",
      "Speed: 4.5ms preprocess, 1817.0ms inference, 5.5ms postprocess per image at shape (1, 3, 544, 960)\n"
     ]
    },
    {
     "name": "stderr",
     "output_type": "stream",
     "text": [
      "Analizando partido (Golpes: 5):  95%|█████████▍| 142/150 [11:20<00:38,  4.84s/frames]"
     ]
    },
    {
     "name": "stdout",
     "output_type": "stream",
     "text": [
      "\n",
      "0: 384x640 5 persons, 1 car, 1 tennis racket, 848.0ms\n",
      "Speed: 1.7ms preprocess, 848.0ms inference, 1.0ms postprocess per image at shape (1, 3, 384, 640)\n",
      "\n",
      "0: 544x960 (no detections), 1783.1ms\n",
      "Speed: 4.2ms preprocess, 1783.1ms inference, 0.6ms postprocess per image at shape (1, 3, 544, 960)\n"
     ]
    },
    {
     "name": "stderr",
     "output_type": "stream",
     "text": [
      "Analizando partido (Golpes: 5):  95%|█████████▌| 143/150 [11:24<00:33,  4.76s/frames]"
     ]
    },
    {
     "name": "stdout",
     "output_type": "stream",
     "text": [
      "\n",
      "0: 384x640 5 persons, 1 car, 2 tennis rackets, 874.5ms\n",
      "Speed: 1.7ms preprocess, 874.5ms inference, 1.0ms postprocess per image at shape (1, 3, 384, 640)\n",
      "\n",
      "0: 544x960 (no detections), 1899.8ms\n",
      "Speed: 4.0ms preprocess, 1899.8ms inference, 0.7ms postprocess per image at shape (1, 3, 544, 960)\n"
     ]
    },
    {
     "name": "stderr",
     "output_type": "stream",
     "text": [
      "Analizando partido (Golpes: 5):  96%|█████████▌| 144/150 [11:29<00:28,  4.74s/frames]"
     ]
    },
    {
     "name": "stdout",
     "output_type": "stream",
     "text": [
      "\n",
      "0: 384x640 5 persons, 1 car, 1 tennis racket, 907.5ms\n",
      "Speed: 1.7ms preprocess, 907.5ms inference, 0.9ms postprocess per image at shape (1, 3, 384, 640)\n",
      "\n",
      "0: 544x960 (no detections), 1884.3ms\n",
      "Speed: 4.2ms preprocess, 1884.3ms inference, 0.6ms postprocess per image at shape (1, 3, 544, 960)\n"
     ]
    },
    {
     "name": "stderr",
     "output_type": "stream",
     "text": [
      "Analizando partido (Golpes: 5):  97%|█████████▋| 145/150 [11:34<00:23,  4.77s/frames]"
     ]
    },
    {
     "name": "stdout",
     "output_type": "stream",
     "text": [
      "\n",
      "0: 384x640 5 persons, 1 car, 1 tennis racket, 861.0ms\n",
      "Speed: 1.8ms preprocess, 861.0ms inference, 1.0ms postprocess per image at shape (1, 3, 384, 640)\n",
      "\n",
      "0: 544x960 (no detections), 2318.2ms\n",
      "Speed: 4.3ms preprocess, 2318.2ms inference, 0.7ms postprocess per image at shape (1, 3, 544, 960)\n"
     ]
    },
    {
     "name": "stderr",
     "output_type": "stream",
     "text": [
      "Analizando partido (Golpes: 5):  97%|█████████▋| 146/150 [11:39<00:19,  4.87s/frames]"
     ]
    },
    {
     "name": "stdout",
     "output_type": "stream",
     "text": [
      "\n",
      "0: 384x640 6 persons, 1 car, 1 tennis racket, 916.3ms\n",
      "Speed: 1.8ms preprocess, 916.3ms inference, 1.1ms postprocess per image at shape (1, 3, 384, 640)\n",
      "\n",
      "0: 544x960 (no detections), 2152.0ms\n",
      "Speed: 3.7ms preprocess, 2152.0ms inference, 0.8ms postprocess per image at shape (1, 3, 544, 960)\n"
     ]
    },
    {
     "name": "stderr",
     "output_type": "stream",
     "text": [
      "Analizando partido (Golpes: 5):  98%|█████████▊| 147/150 [11:44<00:14,  4.89s/frames]"
     ]
    },
    {
     "name": "stdout",
     "output_type": "stream",
     "text": [
      "\n",
      "0: 384x640 6 persons, 1 car, 1 tennis racket, 875.5ms\n",
      "Speed: 2.1ms preprocess, 875.5ms inference, 1.0ms postprocess per image at shape (1, 3, 384, 640)\n",
      "\n",
      "0: 544x960 (no detections), 1754.5ms\n",
      "Speed: 4.6ms preprocess, 1754.5ms inference, 0.6ms postprocess per image at shape (1, 3, 544, 960)\n"
     ]
    },
    {
     "name": "stderr",
     "output_type": "stream",
     "text": [
      "Analizando partido (Golpes: 5):  99%|█████████▊| 148/150 [11:49<00:09,  4.84s/frames]"
     ]
    },
    {
     "name": "stdout",
     "output_type": "stream",
     "text": [
      "\n",
      "0: 384x640 6 persons, 1 car, 1 tennis racket, 898.8ms\n",
      "Speed: 2.4ms preprocess, 898.8ms inference, 0.9ms postprocess per image at shape (1, 3, 384, 640)\n",
      "\n",
      "0: 544x960 1 tennis ball, 1825.3ms\n",
      "Speed: 4.9ms preprocess, 1825.3ms inference, 0.9ms postprocess per image at shape (1, 3, 544, 960)\n"
     ]
    },
    {
     "name": "stderr",
     "output_type": "stream",
     "text": [
      "Analizando partido (Golpes: 5):  99%|█████████▉| 149/150 [11:53<00:04,  4.76s/frames]"
     ]
    },
    {
     "name": "stdout",
     "output_type": "stream",
     "text": [
      "\n",
      "0: 384x640 6 persons, 1 car, 2 tennis rackets, 940.5ms\n",
      "Speed: 1.7ms preprocess, 940.5ms inference, 1.7ms postprocess per image at shape (1, 3, 384, 640)\n",
      "\n",
      "0: 544x960 1 tennis ball, 2016.5ms\n",
      "Speed: 4.2ms preprocess, 2016.5ms inference, 3.5ms postprocess per image at shape (1, 3, 544, 960)\n"
     ]
    },
    {
     "name": "stderr",
     "output_type": "stream",
     "text": [
      "Analizando partido (Golpes: 6): 100%|██████████| 150/150 [11:58<00:00,  4.79s/frames]"
     ]
    },
    {
     "name": "stdout",
     "output_type": "stream",
     "text": [
      "\n",
      "==================================================\n",
      "ESTADÍSTICAS DEL PARTIDO\n",
      "==================================================\n",
      "Total de golpes detectados: 6\n",
      "Duración del video: 5.00 segundos\n",
      "FPS: 30.00\n",
      "Total de frames: 150\n",
      "\n",
      "Golpes por jugador:\n",
      "  Jugador 3: 4 golpes\n",
      "  Jugador 2: 1 golpes\n",
      "  Jugador 1: 1 golpes\n",
      "==================================================\n"
     ]
    },
    {
     "name": "stderr",
     "output_type": "stream",
     "text": [
      "\n"
     ]
    },
    {
     "data": {
      "text/plain": [
       "MatchStatistics(total_hits=6, hits_per_player={'3': 4, '2': 1, '1': 1}, total_frames=150, video_duration=5.0, fps=30.0)"
      ]
     },
     "execution_count": 3,
     "metadata": {},
     "output_type": "execute_result"
    }
   ],
   "source": [
    "match_processor = PadelMatchProcessor()\n",
    "match_processor.process_video(\"data/video_cortado_5s.mp4\")"
   ]
  },
  {
   "cell_type": "markdown",
   "id": "aa50839e",
   "metadata": {},
   "source": [
    "El jugador 0 dio 1 golpe\n",
    "el jugador 1 dio 2 golpes\n",
    "el jugador 2 dio 1 golpe\n",
    "el jugador 3 dio 2 golpe"
   ]
  }
 ],
 "metadata": {
  "kernelspec": {
   "display_name": "padel-ia-fICo6y9j",
   "language": "python",
   "name": "python3"
  },
  "language_info": {
   "codemirror_mode": {
    "name": "ipython",
    "version": 3
   },
   "file_extension": ".py",
   "mimetype": "text/x-python",
   "name": "python",
   "nbconvert_exporter": "python",
   "pygments_lexer": "ipython3",
   "version": "3.12.3"
  }
 },
 "nbformat": 4,
 "nbformat_minor": 5
}
