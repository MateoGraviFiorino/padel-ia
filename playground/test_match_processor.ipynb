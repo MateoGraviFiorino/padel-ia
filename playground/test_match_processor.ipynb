{
 "cells": [
  {
   "cell_type": "code",
   "execution_count": 1,
   "id": "a4fa4397",
   "metadata": {},
   "outputs": [
    {
     "data": {
      "text/plain": [
       "'/home/tomas/Escritorio/Proyectos/proyecto_vision/padel-ia'"
      ]
     },
     "execution_count": 1,
     "metadata": {},
     "output_type": "execute_result"
    }
   ],
   "source": [
    "import os\n",
    "os.chdir(\"..\")\n",
    "os.getcwd()\n"
   ]
  },
  {
   "cell_type": "code",
   "execution_count": 2,
   "id": "453a6a6c",
   "metadata": {},
   "outputs": [],
   "source": [
    "from app.match import PadelMatchProcessor"
   ]
  },
  {
   "cell_type": "markdown",
   "id": "d01000ee",
   "metadata": {},
   "source": [
    "El jugador 0 dio 1 golpe\n",
    "el jugador 1 dio 2 golpes\n",
    "el jugador 2 dio 1 golpe\n",
    "el jugador 3 dio 2 golpe"
   ]
  },
  {
   "cell_type": "code",
   "execution_count": 3,
   "id": "d4fcc3d6",
   "metadata": {},
   "outputs": [
    {
     "name": "stderr",
     "output_type": "stream",
     "text": [
      "Analizando partido:   0%|          | 0/150 [00:00<?, ?frames/s]"
     ]
    },
    {
     "name": "stdout",
     "output_type": "stream",
     "text": [
      "\n",
      "0: 384x640 5 persons, 1 car, 2 tvs, 902.3ms\n",
      "Speed: 2.7ms preprocess, 902.3ms inference, 1.3ms postprocess per image at shape (1, 3, 384, 640)\n",
      "\n",
      "0: 640x1088 (no detections), 403.3ms\n",
      "Speed: 5.8ms preprocess, 403.3ms inference, 0.6ms postprocess per image at shape (1, 3, 640, 1088)\n"
     ]
    },
    {
     "name": "stderr",
     "output_type": "stream",
     "text": [
      "Analizando partido:   1%|          | 1/150 [00:03<09:47,  3.95s/frames]"
     ]
    },
    {
     "name": "stdout",
     "output_type": "stream",
     "text": [
      "\n",
      "0: 384x640 5 persons, 1 car, 2 tvs, 873.5ms\n",
      "Speed: 2.3ms preprocess, 873.5ms inference, 1.0ms postprocess per image at shape (1, 3, 384, 640)\n",
      "\n",
      "0: 640x1088 (no detections), 385.5ms\n",
      "Speed: 6.7ms preprocess, 385.5ms inference, 0.7ms postprocess per image at shape (1, 3, 640, 1088)\n"
     ]
    },
    {
     "name": "stderr",
     "output_type": "stream",
     "text": [
      "Analizando partido:   1%|▏         | 2/150 [00:06<07:30,  3.04s/frames]"
     ]
    },
    {
     "name": "stdout",
     "output_type": "stream",
     "text": [
      "\n",
      "0: 384x640 5 persons, 2 tvs, 948.0ms\n",
      "Speed: 1.9ms preprocess, 948.0ms inference, 0.9ms postprocess per image at shape (1, 3, 384, 640)\n",
      "\n",
      "0: 640x1088 (no detections), 380.2ms\n",
      "Speed: 5.8ms preprocess, 380.2ms inference, 0.6ms postprocess per image at shape (1, 3, 640, 1088)\n"
     ]
    },
    {
     "name": "stderr",
     "output_type": "stream",
     "text": [
      "Analizando partido:   2%|▏         | 3/150 [00:08<06:56,  2.84s/frames]"
     ]
    },
    {
     "name": "stdout",
     "output_type": "stream",
     "text": [
      "\n",
      "0: 384x640 5 persons, 2 tvs, 885.8ms\n",
      "Speed: 1.8ms preprocess, 885.8ms inference, 1.0ms postprocess per image at shape (1, 3, 384, 640)\n",
      "\n",
      "0: 640x1088 (no detections), 383.2ms\n",
      "Speed: 6.9ms preprocess, 383.2ms inference, 0.6ms postprocess per image at shape (1, 3, 640, 1088)\n"
     ]
    },
    {
     "name": "stderr",
     "output_type": "stream",
     "text": [
      "Analizando partido:   3%|▎         | 4/150 [00:11<06:29,  2.67s/frames]"
     ]
    },
    {
     "name": "stdout",
     "output_type": "stream",
     "text": [
      "\n",
      "0: 384x640 5 persons, 2 tvs, 861.9ms\n",
      "Speed: 2.0ms preprocess, 861.9ms inference, 0.9ms postprocess per image at shape (1, 3, 384, 640)\n",
      "\n",
      "0: 640x1088 (no detections), 402.0ms\n",
      "Speed: 6.2ms preprocess, 402.0ms inference, 0.7ms postprocess per image at shape (1, 3, 640, 1088)\n"
     ]
    },
    {
     "name": "stderr",
     "output_type": "stream",
     "text": [
      "Analizando partido:   3%|▎         | 5/150 [00:13<06:14,  2.58s/frames]"
     ]
    },
    {
     "name": "stdout",
     "output_type": "stream",
     "text": [
      "\n",
      "0: 384x640 6 persons, 1 car, 2 tvs, 862.0ms\n",
      "Speed: 2.0ms preprocess, 862.0ms inference, 0.9ms postprocess per image at shape (1, 3, 384, 640)\n",
      "\n",
      "0: 640x1088 (no detections), 417.5ms\n",
      "Speed: 5.9ms preprocess, 417.5ms inference, 0.6ms postprocess per image at shape (1, 3, 640, 1088)\n"
     ]
    },
    {
     "name": "stderr",
     "output_type": "stream",
     "text": [
      "Analizando partido:   4%|▍         | 6/150 [00:16<06:04,  2.53s/frames]"
     ]
    },
    {
     "name": "stdout",
     "output_type": "stream",
     "text": [
      "\n",
      "0: 384x640 5 persons, 2 tvs, 850.2ms\n",
      "Speed: 1.9ms preprocess, 850.2ms inference, 0.9ms postprocess per image at shape (1, 3, 384, 640)\n",
      "\n",
      "0: 640x1088 (no detections), 465.1ms\n",
      "Speed: 6.1ms preprocess, 465.1ms inference, 0.6ms postprocess per image at shape (1, 3, 640, 1088)\n"
     ]
    },
    {
     "name": "stderr",
     "output_type": "stream",
     "text": [
      "Analizando partido:   5%|▍         | 7/150 [00:18<06:06,  2.57s/frames]"
     ]
    },
    {
     "name": "stdout",
     "output_type": "stream",
     "text": [
      "\n",
      "0: 384x640 5 persons, 2 tvs, 865.5ms\n",
      "Speed: 2.1ms preprocess, 865.5ms inference, 0.9ms postprocess per image at shape (1, 3, 384, 640)\n",
      "\n",
      "0: 640x1088 (no detections), 383.0ms\n",
      "Speed: 5.8ms preprocess, 383.0ms inference, 0.6ms postprocess per image at shape (1, 3, 640, 1088)\n"
     ]
    },
    {
     "name": "stderr",
     "output_type": "stream",
     "text": [
      "Analizando partido:   5%|▌         | 8/150 [00:21<05:57,  2.52s/frames]"
     ]
    },
    {
     "name": "stdout",
     "output_type": "stream",
     "text": [
      "\n",
      "0: 384x640 5 persons, 1 tennis racket, 2 tvs, 849.5ms\n",
      "Speed: 1.8ms preprocess, 849.5ms inference, 0.9ms postprocess per image at shape (1, 3, 384, 640)\n",
      "\n",
      "0: 640x1088 (no detections), 400.4ms\n",
      "Speed: 5.8ms preprocess, 400.4ms inference, 0.6ms postprocess per image at shape (1, 3, 640, 1088)\n"
     ]
    },
    {
     "name": "stderr",
     "output_type": "stream",
     "text": [
      "Analizando partido:   6%|▌         | 9/150 [00:23<05:51,  2.49s/frames]"
     ]
    },
    {
     "name": "stdout",
     "output_type": "stream",
     "text": [
      "\n",
      "0: 384x640 5 persons, 2 tvs, 849.7ms\n",
      "Speed: 1.7ms preprocess, 849.7ms inference, 1.1ms postprocess per image at shape (1, 3, 384, 640)\n",
      "\n",
      "0: 640x1088 (no detections), 381.9ms\n",
      "Speed: 5.9ms preprocess, 381.9ms inference, 0.6ms postprocess per image at shape (1, 3, 640, 1088)\n"
     ]
    },
    {
     "name": "stderr",
     "output_type": "stream",
     "text": [
      "Analizando partido:   7%|▋         | 10/150 [00:26<05:44,  2.46s/frames]"
     ]
    },
    {
     "name": "stdout",
     "output_type": "stream",
     "text": [
      "\n",
      "0: 384x640 5 persons, 2 tvs, 848.2ms\n",
      "Speed: 2.0ms preprocess, 848.2ms inference, 0.9ms postprocess per image at shape (1, 3, 384, 640)\n",
      "\n",
      "0: 640x1088 1 ball, 394.5ms\n",
      "Speed: 6.9ms preprocess, 394.5ms inference, 0.9ms postprocess per image at shape (1, 3, 640, 1088)\n"
     ]
    },
    {
     "name": "stderr",
     "output_type": "stream",
     "text": [
      "Analizando partido:   7%|▋         | 11/150 [00:28<05:45,  2.48s/frames]"
     ]
    },
    {
     "name": "stdout",
     "output_type": "stream",
     "text": [
      "\n",
      "0: 384x640 5 persons, 1 car, 2 tvs, 967.4ms\n",
      "Speed: 1.9ms preprocess, 967.4ms inference, 0.9ms postprocess per image at shape (1, 3, 384, 640)\n",
      "\n",
      "0: 640x1088 1 ball, 409.9ms\n",
      "Speed: 6.3ms preprocess, 409.9ms inference, 0.9ms postprocess per image at shape (1, 3, 640, 1088)\n"
     ]
    },
    {
     "name": "stderr",
     "output_type": "stream",
     "text": [
      "Analizando partido:   8%|▊         | 12/150 [00:31<05:46,  2.51s/frames]"
     ]
    },
    {
     "name": "stdout",
     "output_type": "stream",
     "text": [
      "\n",
      "0: 384x640 5 persons, 2 tvs, 940.3ms\n",
      "Speed: 1.9ms preprocess, 940.3ms inference, 0.9ms postprocess per image at shape (1, 3, 384, 640)\n",
      "\n",
      "0: 640x1088 1 ball, 393.7ms\n",
      "Speed: 5.7ms preprocess, 393.7ms inference, 1.1ms postprocess per image at shape (1, 3, 640, 1088)\n"
     ]
    },
    {
     "name": "stderr",
     "output_type": "stream",
     "text": [
      "Analizando partido:   9%|▊         | 13/150 [00:33<05:42,  2.50s/frames]"
     ]
    },
    {
     "name": "stdout",
     "output_type": "stream",
     "text": [
      "\n",
      "0: 384x640 5 persons, 1 car, 2 tvs, 827.2ms\n",
      "Speed: 2.0ms preprocess, 827.2ms inference, 0.9ms postprocess per image at shape (1, 3, 384, 640)\n",
      "\n",
      "0: 640x1088 1 ball, 406.4ms\n",
      "Speed: 6.8ms preprocess, 406.4ms inference, 1.0ms postprocess per image at shape (1, 3, 640, 1088)\n"
     ]
    },
    {
     "name": "stderr",
     "output_type": "stream",
     "text": [
      "Analizando partido:   9%|▉         | 14/150 [00:36<05:41,  2.51s/frames]"
     ]
    },
    {
     "name": "stdout",
     "output_type": "stream",
     "text": [
      "\n",
      "0: 384x640 5 persons, 1 car, 1 tennis racket, 2 tvs, 842.0ms\n",
      "Speed: 1.8ms preprocess, 842.0ms inference, 0.9ms postprocess per image at shape (1, 3, 384, 640)\n",
      "\n",
      "0: 640x1088 (no detections), 388.2ms\n",
      "Speed: 6.3ms preprocess, 388.2ms inference, 0.6ms postprocess per image at shape (1, 3, 640, 1088)\n"
     ]
    },
    {
     "name": "stderr",
     "output_type": "stream",
     "text": [
      "Analizando partido:  10%|█         | 15/150 [00:38<05:32,  2.46s/frames]"
     ]
    },
    {
     "name": "stdout",
     "output_type": "stream",
     "text": [
      "\n",
      "0: 384x640 5 persons, 1 car, 1 tennis racket, 2 tvs, 932.4ms\n",
      "Speed: 2.3ms preprocess, 932.4ms inference, 1.0ms postprocess per image at shape (1, 3, 384, 640)\n",
      "\n",
      "0: 640x1088 (no detections), 384.3ms\n",
      "Speed: 6.0ms preprocess, 384.3ms inference, 0.6ms postprocess per image at shape (1, 3, 640, 1088)\n"
     ]
    },
    {
     "name": "stderr",
     "output_type": "stream",
     "text": [
      "Analizando partido:  11%|█         | 16/150 [00:41<05:33,  2.49s/frames]"
     ]
    },
    {
     "name": "stdout",
     "output_type": "stream",
     "text": [
      "\n",
      "0: 384x640 5 persons, 2 tvs, 930.8ms\n",
      "Speed: 1.9ms preprocess, 930.8ms inference, 1.2ms postprocess per image at shape (1, 3, 384, 640)\n",
      "\n",
      "0: 640x1088 (no detections), 405.7ms\n",
      "Speed: 5.9ms preprocess, 405.7ms inference, 0.6ms postprocess per image at shape (1, 3, 640, 1088)\n"
     ]
    },
    {
     "name": "stderr",
     "output_type": "stream",
     "text": [
      "Analizando partido:  11%|█▏        | 17/150 [00:43<05:43,  2.59s/frames]"
     ]
    },
    {
     "name": "stdout",
     "output_type": "stream",
     "text": [
      "\n",
      "0: 384x640 5 persons, 1 car, 2 tvs, 848.2ms\n",
      "Speed: 2.0ms preprocess, 848.2ms inference, 0.9ms postprocess per image at shape (1, 3, 384, 640)\n",
      "\n",
      "0: 640x1088 (no detections), 405.5ms\n",
      "Speed: 6.0ms preprocess, 405.5ms inference, 0.6ms postprocess per image at shape (1, 3, 640, 1088)\n"
     ]
    },
    {
     "name": "stderr",
     "output_type": "stream",
     "text": [
      "Analizando partido:  12%|█▏        | 18/150 [00:46<05:33,  2.53s/frames]"
     ]
    },
    {
     "name": "stdout",
     "output_type": "stream",
     "text": [
      "\n",
      "0: 384x640 5 persons, 1 car, 1 tennis racket, 2 tvs, 838.1ms\n",
      "Speed: 1.9ms preprocess, 838.1ms inference, 0.9ms postprocess per image at shape (1, 3, 384, 640)\n",
      "\n",
      "0: 640x1088 (no detections), 461.9ms\n",
      "Speed: 6.2ms preprocess, 461.9ms inference, 0.6ms postprocess per image at shape (1, 3, 640, 1088)\n"
     ]
    },
    {
     "name": "stderr",
     "output_type": "stream",
     "text": [
      "Analizando partido:  13%|█▎        | 19/150 [00:48<05:27,  2.50s/frames]"
     ]
    },
    {
     "name": "stdout",
     "output_type": "stream",
     "text": [
      "\n",
      "0: 384x640 5 persons, 1 car, 2 tennis rackets, 2 tvs, 867.8ms\n",
      "Speed: 2.6ms preprocess, 867.8ms inference, 0.9ms postprocess per image at shape (1, 3, 384, 640)\n",
      "\n",
      "0: 640x1088 (no detections), 387.0ms\n",
      "Speed: 6.4ms preprocess, 387.0ms inference, 0.6ms postprocess per image at shape (1, 3, 640, 1088)\n"
     ]
    },
    {
     "name": "stderr",
     "output_type": "stream",
     "text": [
      "Analizando partido:  13%|█▎        | 20/150 [00:51<05:25,  2.50s/frames]"
     ]
    },
    {
     "name": "stdout",
     "output_type": "stream",
     "text": [
      "\n",
      "0: 384x640 5 persons, 1 car, 1 tennis racket, 957.4ms\n",
      "Speed: 2.2ms preprocess, 957.4ms inference, 0.9ms postprocess per image at shape (1, 3, 384, 640)\n",
      "\n",
      "0: 640x1088 1 ball, 373.0ms\n",
      "Speed: 6.0ms preprocess, 373.0ms inference, 0.9ms postprocess per image at shape (1, 3, 640, 1088)\n"
     ]
    },
    {
     "name": "stderr",
     "output_type": "stream",
     "text": [
      "Analizando partido:  14%|█▍        | 21/150 [00:53<05:28,  2.54s/frames]"
     ]
    },
    {
     "name": "stdout",
     "output_type": "stream",
     "text": [
      "\n",
      "0: 384x640 5 persons, 2 tennis rackets, 856.6ms\n",
      "Speed: 1.9ms preprocess, 856.6ms inference, 0.9ms postprocess per image at shape (1, 3, 384, 640)\n",
      "\n",
      "0: 640x1088 1 ball, 409.4ms\n",
      "Speed: 6.4ms preprocess, 409.4ms inference, 0.9ms postprocess per image at shape (1, 3, 640, 1088)\n"
     ]
    },
    {
     "name": "stderr",
     "output_type": "stream",
     "text": [
      "Analizando partido:  15%|█▍        | 22/150 [00:56<05:19,  2.50s/frames]"
     ]
    },
    {
     "name": "stdout",
     "output_type": "stream",
     "text": [
      "\n",
      "0: 384x640 5 persons, 1 car, 2 tennis rackets, 942.2ms\n",
      "Speed: 1.9ms preprocess, 942.2ms inference, 1.2ms postprocess per image at shape (1, 3, 384, 640)\n",
      "\n",
      "0: 640x1088 1 ball, 397.0ms\n",
      "Speed: 5.7ms preprocess, 397.0ms inference, 0.9ms postprocess per image at shape (1, 3, 640, 1088)\n"
     ]
    },
    {
     "name": "stderr",
     "output_type": "stream",
     "text": [
      "Analizando partido:  15%|█▌        | 23/150 [00:58<05:16,  2.49s/frames]"
     ]
    },
    {
     "name": "stdout",
     "output_type": "stream",
     "text": [
      "\n",
      "0: 384x640 5 persons, 1 car, 2 tennis rackets, 843.7ms\n",
      "Speed: 1.9ms preprocess, 843.7ms inference, 1.1ms postprocess per image at shape (1, 3, 384, 640)\n",
      "\n",
      "0: 640x1088 1 ball, 409.3ms\n",
      "Speed: 5.8ms preprocess, 409.3ms inference, 0.9ms postprocess per image at shape (1, 3, 640, 1088)\n"
     ]
    },
    {
     "name": "stderr",
     "output_type": "stream",
     "text": [
      "Analizando partido:  16%|█▌        | 24/150 [01:01<05:15,  2.50s/frames]"
     ]
    },
    {
     "name": "stdout",
     "output_type": "stream",
     "text": [
      "\n",
      "0: 384x640 5 persons, 1 car, 2 tennis rackets, 836.9ms\n",
      "Speed: 1.8ms preprocess, 836.9ms inference, 0.9ms postprocess per image at shape (1, 3, 384, 640)\n",
      "\n",
      "0: 640x1088 (no detections), 458.8ms\n",
      "Speed: 5.8ms preprocess, 458.8ms inference, 0.6ms postprocess per image at shape (1, 3, 640, 1088)\n"
     ]
    },
    {
     "name": "stderr",
     "output_type": "stream",
     "text": [
      "Analizando partido:  17%|█▋        | 25/150 [01:03<05:09,  2.48s/frames]"
     ]
    },
    {
     "name": "stdout",
     "output_type": "stream",
     "text": [
      "\n",
      "0: 384x640 5 persons, 1 car, 3 tennis rackets, 952.7ms\n",
      "Speed: 2.5ms preprocess, 952.7ms inference, 0.9ms postprocess per image at shape (1, 3, 384, 640)\n",
      "\n",
      "0: 640x1088 1 ball, 387.9ms\n",
      "Speed: 6.2ms preprocess, 387.9ms inference, 1.0ms postprocess per image at shape (1, 3, 640, 1088)\n"
     ]
    },
    {
     "name": "stderr",
     "output_type": "stream",
     "text": [
      "Analizando partido:  17%|█▋        | 26/150 [01:06<05:10,  2.50s/frames]"
     ]
    },
    {
     "name": "stdout",
     "output_type": "stream",
     "text": [
      "\n",
      "0: 384x640 5 persons, 1 car, 3 tennis rackets, 884.0ms\n",
      "Speed: 2.2ms preprocess, 884.0ms inference, 1.2ms postprocess per image at shape (1, 3, 384, 640)\n",
      "\n",
      "0: 640x1088 (no detections), 402.1ms\n",
      "Speed: 6.3ms preprocess, 402.1ms inference, 0.8ms postprocess per image at shape (1, 3, 640, 1088)\n"
     ]
    },
    {
     "name": "stderr",
     "output_type": "stream",
     "text": [
      "Analizando partido:  18%|█▊        | 27/150 [01:08<05:05,  2.48s/frames]"
     ]
    },
    {
     "name": "stdout",
     "output_type": "stream",
     "text": [
      "\n",
      "0: 384x640 5 persons, 1 car, 895.7ms\n",
      "Speed: 1.8ms preprocess, 895.7ms inference, 1.6ms postprocess per image at shape (1, 3, 384, 640)\n",
      "\n",
      "0: 640x1088 (no detections), 402.7ms\n",
      "Speed: 6.9ms preprocess, 402.7ms inference, 0.7ms postprocess per image at shape (1, 3, 640, 1088)\n"
     ]
    },
    {
     "name": "stderr",
     "output_type": "stream",
     "text": [
      "Analizando partido:  19%|█▊        | 28/150 [01:11<05:09,  2.53s/frames]"
     ]
    },
    {
     "name": "stdout",
     "output_type": "stream",
     "text": [
      "\n",
      "0: 384x640 5 persons, 1 car, 876.3ms\n",
      "Speed: 2.1ms preprocess, 876.3ms inference, 0.9ms postprocess per image at shape (1, 3, 384, 640)\n",
      "\n",
      "0: 640x1088 (no detections), 396.9ms\n",
      "Speed: 5.9ms preprocess, 396.9ms inference, 0.6ms postprocess per image at shape (1, 3, 640, 1088)\n"
     ]
    },
    {
     "name": "stderr",
     "output_type": "stream",
     "text": [
      "Analizando partido:  19%|█▉        | 29/150 [01:13<05:05,  2.53s/frames]"
     ]
    },
    {
     "name": "stdout",
     "output_type": "stream",
     "text": [
      "\n",
      "0: 384x640 5 persons, 1 car, 1 tennis racket, 879.8ms\n",
      "Speed: 6.8ms preprocess, 879.8ms inference, 1.1ms postprocess per image at shape (1, 3, 384, 640)\n",
      "\n",
      "0: 640x1088 1 ball, 413.1ms\n",
      "Speed: 6.2ms preprocess, 413.1ms inference, 0.9ms postprocess per image at shape (1, 3, 640, 1088)\n"
     ]
    },
    {
     "name": "stderr",
     "output_type": "stream",
     "text": [
      "Analizando partido (Golpes: 1):  20%|██        | 30/150 [01:16<05:03,  2.53s/frames]"
     ]
    },
    {
     "name": "stdout",
     "output_type": "stream",
     "text": [
      "\n",
      "0: 384x640 5 persons, 1 car, 836.2ms\n",
      "Speed: 1.8ms preprocess, 836.2ms inference, 1.0ms postprocess per image at shape (1, 3, 384, 640)\n",
      "\n",
      "0: 640x1088 (no detections), 387.6ms\n",
      "Speed: 6.2ms preprocess, 387.6ms inference, 0.6ms postprocess per image at shape (1, 3, 640, 1088)\n"
     ]
    },
    {
     "name": "stderr",
     "output_type": "stream",
     "text": [
      "Analizando partido (Golpes: 1):  21%|██        | 31/150 [01:18<04:59,  2.52s/frames]"
     ]
    },
    {
     "name": "stdout",
     "output_type": "stream",
     "text": [
      "\n",
      "0: 384x640 5 persons, 1 car, 1 tennis racket, 857.6ms\n",
      "Speed: 1.9ms preprocess, 857.6ms inference, 0.9ms postprocess per image at shape (1, 3, 384, 640)\n",
      "\n",
      "0: 640x1088 1 ball, 377.5ms\n",
      "Speed: 6.5ms preprocess, 377.5ms inference, 0.9ms postprocess per image at shape (1, 3, 640, 1088)\n"
     ]
    },
    {
     "name": "stderr",
     "output_type": "stream",
     "text": [
      "Analizando partido (Golpes: 1):  21%|██▏       | 32/150 [01:21<04:52,  2.47s/frames]"
     ]
    },
    {
     "name": "stdout",
     "output_type": "stream",
     "text": [
      "\n",
      "0: 384x640 5 persons, 1 car, 1 tennis racket, 872.4ms\n",
      "Speed: 1.8ms preprocess, 872.4ms inference, 0.9ms postprocess per image at shape (1, 3, 384, 640)\n",
      "\n",
      "0: 640x1088 1 ball, 389.9ms\n",
      "Speed: 6.2ms preprocess, 389.9ms inference, 0.9ms postprocess per image at shape (1, 3, 640, 1088)\n"
     ]
    },
    {
     "name": "stderr",
     "output_type": "stream",
     "text": [
      "Analizando partido (Golpes: 1):  22%|██▏       | 33/150 [01:23<04:47,  2.46s/frames]"
     ]
    },
    {
     "name": "stdout",
     "output_type": "stream",
     "text": [
      "\n",
      "0: 384x640 4 persons, 1 car, 1 tennis racket, 1014.8ms\n",
      "Speed: 2.0ms preprocess, 1014.8ms inference, 1.8ms postprocess per image at shape (1, 3, 384, 640)\n",
      "\n",
      "0: 640x1088 1 ball, 384.0ms\n",
      "Speed: 6.2ms preprocess, 384.0ms inference, 1.0ms postprocess per image at shape (1, 3, 640, 1088)\n"
     ]
    },
    {
     "name": "stderr",
     "output_type": "stream",
     "text": [
      "Analizando partido (Golpes: 1):  23%|██▎       | 34/150 [01:26<04:49,  2.50s/frames]"
     ]
    },
    {
     "name": "stdout",
     "output_type": "stream",
     "text": [
      "\n",
      "0: 384x640 5 persons, 1 car, 1 tennis racket, 1038.1ms\n",
      "Speed: 2.5ms preprocess, 1038.1ms inference, 0.9ms postprocess per image at shape (1, 3, 384, 640)\n",
      "\n",
      "0: 640x1088 (no detections), 384.2ms\n",
      "Speed: 6.2ms preprocess, 384.2ms inference, 0.6ms postprocess per image at shape (1, 3, 640, 1088)\n"
     ]
    },
    {
     "name": "stderr",
     "output_type": "stream",
     "text": [
      "Analizando partido (Golpes: 1):  23%|██▎       | 35/150 [01:29<04:55,  2.57s/frames]"
     ]
    },
    {
     "name": "stdout",
     "output_type": "stream",
     "text": [
      "\n",
      "0: 384x640 5 persons, 1 tennis racket, 829.1ms\n",
      "Speed: 2.0ms preprocess, 829.1ms inference, 0.9ms postprocess per image at shape (1, 3, 384, 640)\n",
      "\n",
      "0: 640x1088 (no detections), 391.1ms\n",
      "Speed: 7.2ms preprocess, 391.1ms inference, 0.6ms postprocess per image at shape (1, 3, 640, 1088)\n"
     ]
    },
    {
     "name": "stderr",
     "output_type": "stream",
     "text": [
      "Analizando partido (Golpes: 1):  24%|██▍       | 36/150 [01:31<04:45,  2.51s/frames]"
     ]
    },
    {
     "name": "stdout",
     "output_type": "stream",
     "text": [
      "\n",
      "0: 384x640 5 persons, 1 sports ball, 1 tennis racket, 1064.6ms\n",
      "Speed: 2.0ms preprocess, 1064.6ms inference, 0.9ms postprocess per image at shape (1, 3, 384, 640)\n",
      "\n",
      "0: 640x1088 (no detections), 405.1ms\n",
      "Speed: 7.7ms preprocess, 405.1ms inference, 0.6ms postprocess per image at shape (1, 3, 640, 1088)\n"
     ]
    },
    {
     "name": "stderr",
     "output_type": "stream",
     "text": [
      "Analizando partido (Golpes: 1):  25%|██▍       | 37/150 [01:34<04:46,  2.54s/frames]"
     ]
    },
    {
     "name": "stdout",
     "output_type": "stream",
     "text": [
      "\n",
      "0: 384x640 5 persons, 885.7ms\n",
      "Speed: 3.3ms preprocess, 885.7ms inference, 0.9ms postprocess per image at shape (1, 3, 384, 640)\n",
      "\n",
      "0: 640x1088 (no detections), 391.0ms\n",
      "Speed: 10.5ms preprocess, 391.0ms inference, 0.6ms postprocess per image at shape (1, 3, 640, 1088)\n"
     ]
    },
    {
     "name": "stderr",
     "output_type": "stream",
     "text": [
      "Analizando partido (Golpes: 1):  25%|██▌       | 38/150 [01:36<04:47,  2.56s/frames]"
     ]
    },
    {
     "name": "stdout",
     "output_type": "stream",
     "text": [
      "\n",
      "0: 384x640 5 persons, 1 clock, 856.8ms\n",
      "Speed: 1.8ms preprocess, 856.8ms inference, 0.9ms postprocess per image at shape (1, 3, 384, 640)\n",
      "\n",
      "0: 640x1088 (no detections), 389.8ms\n",
      "Speed: 6.3ms preprocess, 389.8ms inference, 1.4ms postprocess per image at shape (1, 3, 640, 1088)\n"
     ]
    },
    {
     "name": "stderr",
     "output_type": "stream",
     "text": [
      "Analizando partido (Golpes: 1):  26%|██▌       | 39/150 [01:39<04:39,  2.52s/frames]"
     ]
    },
    {
     "name": "stdout",
     "output_type": "stream",
     "text": [
      "\n",
      "0: 384x640 5 persons, 1 clock, 889.1ms\n",
      "Speed: 1.8ms preprocess, 889.1ms inference, 0.9ms postprocess per image at shape (1, 3, 384, 640)\n",
      "\n",
      "0: 640x1088 (no detections), 490.3ms\n",
      "Speed: 6.0ms preprocess, 490.3ms inference, 0.6ms postprocess per image at shape (1, 3, 640, 1088)\n"
     ]
    },
    {
     "name": "stderr",
     "output_type": "stream",
     "text": [
      "Analizando partido (Golpes: 1):  27%|██▋       | 40/150 [01:41<04:37,  2.53s/frames]"
     ]
    },
    {
     "name": "stdout",
     "output_type": "stream",
     "text": [
      "\n",
      "0: 384x640 5 persons, 2 tennis rackets, 1 clock, 864.0ms\n",
      "Speed: 3.7ms preprocess, 864.0ms inference, 0.9ms postprocess per image at shape (1, 3, 384, 640)\n",
      "\n",
      "0: 640x1088 (no detections), 374.6ms\n",
      "Speed: 5.6ms preprocess, 374.6ms inference, 0.6ms postprocess per image at shape (1, 3, 640, 1088)\n"
     ]
    },
    {
     "name": "stderr",
     "output_type": "stream",
     "text": [
      "Analizando partido (Golpes: 1):  27%|██▋       | 41/150 [01:43<04:29,  2.47s/frames]"
     ]
    },
    {
     "name": "stdout",
     "output_type": "stream",
     "text": [
      "\n",
      "0: 384x640 5 persons, 1 tennis racket, 977.5ms\n",
      "Speed: 2.0ms preprocess, 977.5ms inference, 0.9ms postprocess per image at shape (1, 3, 384, 640)\n",
      "\n",
      "0: 640x1088 (no detections), 407.8ms\n",
      "Speed: 10.2ms preprocess, 407.8ms inference, 0.6ms postprocess per image at shape (1, 3, 640, 1088)\n"
     ]
    },
    {
     "name": "stderr",
     "output_type": "stream",
     "text": [
      "Analizando partido (Golpes: 1):  28%|██▊       | 42/150 [01:46<04:33,  2.53s/frames]"
     ]
    },
    {
     "name": "stdout",
     "output_type": "stream",
     "text": [
      "\n",
      "0: 384x640 5 persons, 1 tennis racket, 829.6ms\n",
      "Speed: 1.8ms preprocess, 829.6ms inference, 0.9ms postprocess per image at shape (1, 3, 384, 640)\n",
      "\n",
      "0: 640x1088 (no detections), 390.6ms\n",
      "Speed: 6.1ms preprocess, 390.6ms inference, 0.6ms postprocess per image at shape (1, 3, 640, 1088)\n"
     ]
    },
    {
     "name": "stderr",
     "output_type": "stream",
     "text": [
      "Analizando partido (Golpes: 1):  29%|██▊       | 43/150 [01:48<04:25,  2.48s/frames]"
     ]
    },
    {
     "name": "stdout",
     "output_type": "stream",
     "text": [
      "\n",
      "0: 384x640 5 persons, 2 tennis rackets, 844.8ms\n",
      "Speed: 1.8ms preprocess, 844.8ms inference, 1.2ms postprocess per image at shape (1, 3, 384, 640)\n",
      "\n",
      "0: 640x1088 (no detections), 429.7ms\n",
      "Speed: 6.0ms preprocess, 429.7ms inference, 0.6ms postprocess per image at shape (1, 3, 640, 1088)\n"
     ]
    },
    {
     "name": "stderr",
     "output_type": "stream",
     "text": [
      "Analizando partido (Golpes: 1):  29%|██▉       | 44/150 [01:51<04:24,  2.50s/frames]"
     ]
    },
    {
     "name": "stdout",
     "output_type": "stream",
     "text": [
      "\n",
      "0: 384x640 5 persons, 1 tennis racket, 1 clock, 838.0ms\n",
      "Speed: 1.8ms preprocess, 838.0ms inference, 1.2ms postprocess per image at shape (1, 3, 384, 640)\n",
      "\n",
      "0: 640x1088 (no detections), 478.2ms\n",
      "Speed: 6.4ms preprocess, 478.2ms inference, 0.6ms postprocess per image at shape (1, 3, 640, 1088)\n"
     ]
    },
    {
     "name": "stderr",
     "output_type": "stream",
     "text": [
      "Analizando partido (Golpes: 1):  30%|███       | 45/150 [01:54<04:26,  2.53s/frames]"
     ]
    },
    {
     "name": "stdout",
     "output_type": "stream",
     "text": [
      "\n",
      "0: 384x640 5 persons, 2 tennis rackets, 889.6ms\n",
      "Speed: 1.8ms preprocess, 889.6ms inference, 1.0ms postprocess per image at shape (1, 3, 384, 640)\n",
      "\n",
      "0: 640x1088 (no detections), 382.3ms\n",
      "Speed: 5.9ms preprocess, 382.3ms inference, 0.6ms postprocess per image at shape (1, 3, 640, 1088)\n"
     ]
    },
    {
     "name": "stderr",
     "output_type": "stream",
     "text": [
      "Analizando partido (Golpes: 1):  31%|███       | 46/150 [01:56<04:19,  2.50s/frames]"
     ]
    },
    {
     "name": "stdout",
     "output_type": "stream",
     "text": [
      "\n",
      "0: 384x640 5 persons, 2 tennis rackets, 883.4ms\n",
      "Speed: 1.7ms preprocess, 883.4ms inference, 0.9ms postprocess per image at shape (1, 3, 384, 640)\n",
      "\n",
      "0: 640x1088 (no detections), 380.0ms\n",
      "Speed: 6.0ms preprocess, 380.0ms inference, 0.6ms postprocess per image at shape (1, 3, 640, 1088)\n"
     ]
    },
    {
     "name": "stderr",
     "output_type": "stream",
     "text": [
      "Analizando partido (Golpes: 1):  31%|███▏      | 47/150 [01:58<04:14,  2.47s/frames]"
     ]
    },
    {
     "name": "stdout",
     "output_type": "stream",
     "text": [
      "\n",
      "0: 384x640 5 persons, 865.6ms\n",
      "Speed: 2.0ms preprocess, 865.6ms inference, 0.9ms postprocess per image at shape (1, 3, 384, 640)\n",
      "\n",
      "0: 640x1088 1 ball, 414.4ms\n",
      "Speed: 6.6ms preprocess, 414.4ms inference, 1.2ms postprocess per image at shape (1, 3, 640, 1088)\n"
     ]
    },
    {
     "name": "stderr",
     "output_type": "stream",
     "text": [
      "Analizando partido (Golpes: 1):  32%|███▏      | 48/150 [02:01<04:12,  2.48s/frames]"
     ]
    },
    {
     "name": "stdout",
     "output_type": "stream",
     "text": [
      "\n",
      "0: 384x640 5 persons, 846.8ms\n",
      "Speed: 1.6ms preprocess, 846.8ms inference, 0.9ms postprocess per image at shape (1, 3, 384, 640)\n",
      "\n",
      "0: 640x1088 1 ball, 401.5ms\n",
      "Speed: 11.5ms preprocess, 401.5ms inference, 0.9ms postprocess per image at shape (1, 3, 640, 1088)\n"
     ]
    },
    {
     "name": "stderr",
     "output_type": "stream",
     "text": [
      "Analizando partido (Golpes: 1):  33%|███▎      | 49/150 [02:03<04:11,  2.49s/frames]"
     ]
    },
    {
     "name": "stdout",
     "output_type": "stream",
     "text": [
      "\n",
      "0: 384x640 5 persons, 1 car, 1 clock, 1040.4ms\n",
      "Speed: 1.8ms preprocess, 1040.4ms inference, 1.2ms postprocess per image at shape (1, 3, 384, 640)\n",
      "\n",
      "0: 640x1088 1 ball, 405.4ms\n",
      "Speed: 6.7ms preprocess, 405.4ms inference, 0.9ms postprocess per image at shape (1, 3, 640, 1088)\n"
     ]
    },
    {
     "name": "stderr",
     "output_type": "stream",
     "text": [
      "Analizando partido (Golpes: 1):  33%|███▎      | 50/150 [02:06<04:11,  2.52s/frames]"
     ]
    },
    {
     "name": "stdout",
     "output_type": "stream",
     "text": [
      "\n",
      "0: 384x640 5 persons, 1 car, 1 clock, 928.0ms\n",
      "Speed: 1.8ms preprocess, 928.0ms inference, 1.0ms postprocess per image at shape (1, 3, 384, 640)\n",
      "\n",
      "0: 640x1088 (no detections), 406.5ms\n",
      "Speed: 6.0ms preprocess, 406.5ms inference, 0.7ms postprocess per image at shape (1, 3, 640, 1088)\n"
     ]
    },
    {
     "name": "stderr",
     "output_type": "stream",
     "text": [
      "Analizando partido (Golpes: 1):  34%|███▍      | 51/150 [02:09<04:13,  2.56s/frames]"
     ]
    },
    {
     "name": "stdout",
     "output_type": "stream",
     "text": [
      "\n",
      "0: 384x640 5 persons, 1 car, 842.5ms\n",
      "Speed: 1.7ms preprocess, 842.5ms inference, 0.9ms postprocess per image at shape (1, 3, 384, 640)\n",
      "\n",
      "0: 640x1088 1 ball, 404.2ms\n",
      "Speed: 6.3ms preprocess, 404.2ms inference, 0.9ms postprocess per image at shape (1, 3, 640, 1088)\n"
     ]
    },
    {
     "name": "stderr",
     "output_type": "stream",
     "text": [
      "Analizando partido (Golpes: 1):  35%|███▍      | 52/150 [02:11<04:11,  2.56s/frames]"
     ]
    },
    {
     "name": "stdout",
     "output_type": "stream",
     "text": [
      "\n",
      "0: 384x640 5 persons, 1 car, 845.3ms\n",
      "Speed: 3.6ms preprocess, 845.3ms inference, 0.9ms postprocess per image at shape (1, 3, 384, 640)\n",
      "\n",
      "0: 640x1088 1 ball, 386.5ms\n",
      "Speed: 5.7ms preprocess, 386.5ms inference, 0.9ms postprocess per image at shape (1, 3, 640, 1088)\n"
     ]
    },
    {
     "name": "stderr",
     "output_type": "stream",
     "text": [
      "Analizando partido (Golpes: 1):  35%|███▌      | 53/150 [02:14<04:03,  2.52s/frames]"
     ]
    },
    {
     "name": "stdout",
     "output_type": "stream",
     "text": [
      "\n",
      "0: 384x640 5 persons, 1 car, 943.5ms\n",
      "Speed: 2.1ms preprocess, 943.5ms inference, 1.0ms postprocess per image at shape (1, 3, 384, 640)\n",
      "\n",
      "0: 640x1088 1 ball, 375.5ms\n",
      "Speed: 5.9ms preprocess, 375.5ms inference, 0.9ms postprocess per image at shape (1, 3, 640, 1088)\n"
     ]
    },
    {
     "name": "stderr",
     "output_type": "stream",
     "text": [
      "Analizando partido (Golpes: 1):  36%|███▌      | 54/150 [02:16<03:59,  2.50s/frames]"
     ]
    },
    {
     "name": "stdout",
     "output_type": "stream",
     "text": [
      "\n",
      "0: 384x640 5 persons, 1 car, 859.3ms\n",
      "Speed: 1.7ms preprocess, 859.3ms inference, 1.2ms postprocess per image at shape (1, 3, 384, 640)\n",
      "\n",
      "0: 640x1088 (no detections), 408.3ms\n",
      "Speed: 6.0ms preprocess, 408.3ms inference, 0.9ms postprocess per image at shape (1, 3, 640, 1088)\n"
     ]
    },
    {
     "name": "stderr",
     "output_type": "stream",
     "text": [
      "Analizando partido (Golpes: 1):  37%|███▋      | 55/150 [02:19<03:56,  2.49s/frames]"
     ]
    },
    {
     "name": "stdout",
     "output_type": "stream",
     "text": [
      "\n",
      "0: 384x640 5 persons, 1 car, 927.4ms\n",
      "Speed: 2.0ms preprocess, 927.4ms inference, 1.0ms postprocess per image at shape (1, 3, 384, 640)\n",
      "\n",
      "0: 640x1088 (no detections), 390.5ms\n",
      "Speed: 6.5ms preprocess, 390.5ms inference, 0.6ms postprocess per image at shape (1, 3, 640, 1088)\n"
     ]
    },
    {
     "name": "stderr",
     "output_type": "stream",
     "text": [
      "Analizando partido (Golpes: 1):  37%|███▋      | 56/150 [02:21<03:57,  2.52s/frames]"
     ]
    },
    {
     "name": "stdout",
     "output_type": "stream",
     "text": [
      "\n",
      "0: 384x640 5 persons, 836.0ms\n",
      "Speed: 1.6ms preprocess, 836.0ms inference, 1.0ms postprocess per image at shape (1, 3, 384, 640)\n",
      "\n",
      "0: 640x1088 (no detections), 396.2ms\n",
      "Speed: 5.9ms preprocess, 396.2ms inference, 0.6ms postprocess per image at shape (1, 3, 640, 1088)\n"
     ]
    },
    {
     "name": "stderr",
     "output_type": "stream",
     "text": [
      "Analizando partido (Golpes: 1):  38%|███▊      | 57/150 [02:24<03:50,  2.47s/frames]"
     ]
    },
    {
     "name": "stdout",
     "output_type": "stream",
     "text": [
      "\n",
      "0: 384x640 5 persons, 1 car, 890.3ms\n",
      "Speed: 2.2ms preprocess, 890.3ms inference, 1.2ms postprocess per image at shape (1, 3, 384, 640)\n",
      "\n",
      "0: 640x1088 (no detections), 572.6ms\n",
      "Speed: 5.8ms preprocess, 572.6ms inference, 0.6ms postprocess per image at shape (1, 3, 640, 1088)\n"
     ]
    },
    {
     "name": "stderr",
     "output_type": "stream",
     "text": [
      "Analizando partido (Golpes: 1):  39%|███▊      | 58/150 [02:26<03:51,  2.51s/frames]"
     ]
    },
    {
     "name": "stdout",
     "output_type": "stream",
     "text": [
      "\n",
      "0: 384x640 5 persons, 1 car, 899.4ms\n",
      "Speed: 1.9ms preprocess, 899.4ms inference, 1.1ms postprocess per image at shape (1, 3, 384, 640)\n",
      "\n",
      "0: 640x1088 (no detections), 393.2ms\n",
      "Speed: 6.4ms preprocess, 393.2ms inference, 0.6ms postprocess per image at shape (1, 3, 640, 1088)\n"
     ]
    },
    {
     "name": "stderr",
     "output_type": "stream",
     "text": [
      "Analizando partido (Golpes: 1):  39%|███▉      | 59/150 [02:29<03:50,  2.53s/frames]"
     ]
    },
    {
     "name": "stdout",
     "output_type": "stream",
     "text": [
      "\n",
      "0: 384x640 5 persons, 1 car, 1 tennis racket, 850.3ms\n",
      "Speed: 2.0ms preprocess, 850.3ms inference, 1.0ms postprocess per image at shape (1, 3, 384, 640)\n",
      "\n",
      "0: 640x1088 (no detections), 389.1ms\n",
      "Speed: 5.9ms preprocess, 389.1ms inference, 0.6ms postprocess per image at shape (1, 3, 640, 1088)\n"
     ]
    },
    {
     "name": "stderr",
     "output_type": "stream",
     "text": [
      "Analizando partido (Golpes: 1):  40%|████      | 60/150 [02:31<03:43,  2.49s/frames]"
     ]
    },
    {
     "name": "stdout",
     "output_type": "stream",
     "text": [
      "\n",
      "0: 384x640 5 persons, 1 car, 1 tennis racket, 882.5ms\n",
      "Speed: 1.8ms preprocess, 882.5ms inference, 0.9ms postprocess per image at shape (1, 3, 384, 640)\n",
      "\n",
      "0: 640x1088 (no detections), 419.4ms\n",
      "Speed: 8.9ms preprocess, 419.4ms inference, 0.7ms postprocess per image at shape (1, 3, 640, 1088)\n"
     ]
    },
    {
     "name": "stderr",
     "output_type": "stream",
     "text": [
      "Analizando partido (Golpes: 1):  41%|████      | 61/150 [02:34<03:43,  2.52s/frames]"
     ]
    },
    {
     "name": "stdout",
     "output_type": "stream",
     "text": [
      "\n",
      "0: 384x640 5 persons, 862.8ms\n",
      "Speed: 1.9ms preprocess, 862.8ms inference, 0.9ms postprocess per image at shape (1, 3, 384, 640)\n",
      "\n",
      "0: 640x1088 (no detections), 443.1ms\n",
      "Speed: 5.4ms preprocess, 443.1ms inference, 0.6ms postprocess per image at shape (1, 3, 640, 1088)\n"
     ]
    },
    {
     "name": "stderr",
     "output_type": "stream",
     "text": [
      "Analizando partido (Golpes: 1):  41%|████▏     | 62/150 [02:36<03:42,  2.53s/frames]"
     ]
    },
    {
     "name": "stdout",
     "output_type": "stream",
     "text": [
      "\n",
      "0: 384x640 5 persons, 1 clock, 857.8ms\n",
      "Speed: 2.0ms preprocess, 857.8ms inference, 0.9ms postprocess per image at shape (1, 3, 384, 640)\n",
      "\n",
      "0: 640x1088 1 ball, 387.8ms\n",
      "Speed: 6.1ms preprocess, 387.8ms inference, 0.9ms postprocess per image at shape (1, 3, 640, 1088)\n"
     ]
    },
    {
     "name": "stderr",
     "output_type": "stream",
     "text": [
      "Analizando partido (Golpes: 1):  42%|████▏     | 63/150 [02:39<03:40,  2.54s/frames]"
     ]
    },
    {
     "name": "stdout",
     "output_type": "stream",
     "text": [
      "\n",
      "0: 384x640 5 persons, 1 car, 1 clock, 833.4ms\n",
      "Speed: 2.0ms preprocess, 833.4ms inference, 1.0ms postprocess per image at shape (1, 3, 384, 640)\n",
      "\n",
      "0: 640x1088 1 ball, 399.3ms\n",
      "Speed: 5.9ms preprocess, 399.3ms inference, 1.0ms postprocess per image at shape (1, 3, 640, 1088)\n"
     ]
    },
    {
     "name": "stderr",
     "output_type": "stream",
     "text": [
      "Analizando partido (Golpes: 1):  43%|████▎     | 64/150 [02:41<03:33,  2.49s/frames]"
     ]
    },
    {
     "name": "stdout",
     "output_type": "stream",
     "text": [
      "\n",
      "0: 384x640 5 persons, 1 car, 1 clock, 858.9ms\n",
      "Speed: 2.1ms preprocess, 858.9ms inference, 1.2ms postprocess per image at shape (1, 3, 384, 640)\n",
      "\n",
      "0: 640x1088 1 ball, 377.8ms\n",
      "Speed: 6.2ms preprocess, 377.8ms inference, 0.9ms postprocess per image at shape (1, 3, 640, 1088)\n"
     ]
    },
    {
     "name": "stderr",
     "output_type": "stream",
     "text": [
      "Analizando partido (Golpes: 1):  43%|████▎     | 65/150 [02:44<03:29,  2.46s/frames]"
     ]
    },
    {
     "name": "stdout",
     "output_type": "stream",
     "text": [
      "\n",
      "0: 384x640 6 persons, 1 car, 1 clock, 895.6ms\n",
      "Speed: 1.6ms preprocess, 895.6ms inference, 1.2ms postprocess per image at shape (1, 3, 384, 640)\n",
      "\n",
      "0: 640x1088 (no detections), 482.6ms\n",
      "Speed: 5.9ms preprocess, 482.6ms inference, 0.6ms postprocess per image at shape (1, 3, 640, 1088)\n"
     ]
    },
    {
     "name": "stderr",
     "output_type": "stream",
     "text": [
      "Analizando partido (Golpes: 1):  44%|████▍     | 66/150 [02:46<03:34,  2.55s/frames]"
     ]
    },
    {
     "name": "stdout",
     "output_type": "stream",
     "text": [
      "\n",
      "0: 384x640 6 persons, 1 tennis racket, 1 clock, 854.2ms\n",
      "Speed: 2.0ms preprocess, 854.2ms inference, 0.9ms postprocess per image at shape (1, 3, 384, 640)\n",
      "\n",
      "0: 640x1088 1 ball, 406.0ms\n",
      "Speed: 6.3ms preprocess, 406.0ms inference, 0.9ms postprocess per image at shape (1, 3, 640, 1088)\n"
     ]
    },
    {
     "name": "stderr",
     "output_type": "stream",
     "text": [
      "Analizando partido (Golpes: 2):  45%|████▍     | 67/150 [02:49<03:28,  2.51s/frames]"
     ]
    },
    {
     "name": "stdout",
     "output_type": "stream",
     "text": [
      "\n",
      "0: 384x640 6 persons, 1 car, 1 tennis racket, 976.1ms\n",
      "Speed: 2.2ms preprocess, 976.1ms inference, 1.1ms postprocess per image at shape (1, 3, 384, 640)\n",
      "\n",
      "0: 640x1088 1 ball, 457.2ms\n",
      "Speed: 5.7ms preprocess, 457.2ms inference, 1.0ms postprocess per image at shape (1, 3, 640, 1088)\n"
     ]
    },
    {
     "name": "stderr",
     "output_type": "stream",
     "text": [
      "Analizando partido (Golpes: 2):  45%|████▌     | 68/150 [02:51<03:27,  2.54s/frames]"
     ]
    },
    {
     "name": "stdout",
     "output_type": "stream",
     "text": [
      "\n",
      "0: 384x640 6 persons, 1 tennis racket, 857.6ms\n",
      "Speed: 1.8ms preprocess, 857.6ms inference, 1.1ms postprocess per image at shape (1, 3, 384, 640)\n",
      "\n",
      "0: 640x1088 1 ball, 400.0ms\n",
      "Speed: 6.3ms preprocess, 400.0ms inference, 1.7ms postprocess per image at shape (1, 3, 640, 1088)\n"
     ]
    },
    {
     "name": "stderr",
     "output_type": "stream",
     "text": [
      "Analizando partido (Golpes: 2):  46%|████▌     | 69/150 [02:54<03:22,  2.50s/frames]"
     ]
    },
    {
     "name": "stdout",
     "output_type": "stream",
     "text": [
      "\n",
      "0: 384x640 6 persons, 2 tennis rackets, 870.7ms\n",
      "Speed: 2.2ms preprocess, 870.7ms inference, 0.9ms postprocess per image at shape (1, 3, 384, 640)\n",
      "\n",
      "0: 640x1088 1 ball, 392.6ms\n",
      "Speed: 6.1ms preprocess, 392.6ms inference, 0.9ms postprocess per image at shape (1, 3, 640, 1088)\n"
     ]
    },
    {
     "name": "stderr",
     "output_type": "stream",
     "text": [
      "Analizando partido (Golpes: 3):  47%|████▋     | 70/150 [02:56<03:22,  2.53s/frames]"
     ]
    },
    {
     "name": "stdout",
     "output_type": "stream",
     "text": [
      "\n",
      "0: 384x640 5 persons, 1 car, 2 tennis rackets, 982.8ms\n",
      "Speed: 1.7ms preprocess, 982.8ms inference, 0.9ms postprocess per image at shape (1, 3, 384, 640)\n",
      "\n",
      "0: 640x1088 2 balls, 383.5ms\n",
      "Speed: 6.2ms preprocess, 383.5ms inference, 0.9ms postprocess per image at shape (1, 3, 640, 1088)\n"
     ]
    },
    {
     "name": "stderr",
     "output_type": "stream",
     "text": [
      "Analizando partido (Golpes: 3):  47%|████▋     | 71/150 [02:59<03:19,  2.52s/frames]"
     ]
    },
    {
     "name": "stdout",
     "output_type": "stream",
     "text": [
      "\n",
      "0: 384x640 5 persons, 1 car, 2 tennis rackets, 884.7ms\n",
      "Speed: 3.5ms preprocess, 884.7ms inference, 1.1ms postprocess per image at shape (1, 3, 384, 640)\n",
      "\n",
      "0: 640x1088 2 balls, 374.4ms\n",
      "Speed: 6.0ms preprocess, 374.4ms inference, 0.9ms postprocess per image at shape (1, 3, 640, 1088)\n"
     ]
    },
    {
     "name": "stderr",
     "output_type": "stream",
     "text": [
      "Analizando partido (Golpes: 3):  48%|████▊     | 72/150 [03:01<03:15,  2.51s/frames]"
     ]
    },
    {
     "name": "stdout",
     "output_type": "stream",
     "text": [
      "\n",
      "0: 384x640 5 persons, 1 car, 862.8ms\n",
      "Speed: 1.9ms preprocess, 862.8ms inference, 0.9ms postprocess per image at shape (1, 3, 384, 640)\n",
      "\n",
      "0: 640x1088 1 ball, 377.2ms\n",
      "Speed: 6.2ms preprocess, 377.2ms inference, 0.9ms postprocess per image at shape (1, 3, 640, 1088)\n"
     ]
    },
    {
     "name": "stderr",
     "output_type": "stream",
     "text": [
      "Analizando partido (Golpes: 3):  49%|████▊     | 73/150 [03:04<03:14,  2.52s/frames]"
     ]
    },
    {
     "name": "stdout",
     "output_type": "stream",
     "text": [
      "\n",
      "0: 384x640 6 persons, 1 car, 1 tennis racket, 837.0ms\n",
      "Speed: 1.7ms preprocess, 837.0ms inference, 0.9ms postprocess per image at shape (1, 3, 384, 640)\n",
      "\n",
      "0: 640x1088 1 ball, 496.9ms\n",
      "Speed: 6.1ms preprocess, 496.9ms inference, 0.9ms postprocess per image at shape (1, 3, 640, 1088)\n"
     ]
    },
    {
     "name": "stderr",
     "output_type": "stream",
     "text": [
      "Analizando partido (Golpes: 3):  49%|████▉     | 74/150 [03:06<03:10,  2.51s/frames]"
     ]
    },
    {
     "name": "stdout",
     "output_type": "stream",
     "text": [
      "\n",
      "0: 384x640 5 persons, 1 car, 1 tennis racket, 892.4ms\n",
      "Speed: 1.8ms preprocess, 892.4ms inference, 1.1ms postprocess per image at shape (1, 3, 384, 640)\n",
      "\n",
      "0: 640x1088 1 ball, 375.6ms\n",
      "Speed: 6.3ms preprocess, 375.6ms inference, 0.9ms postprocess per image at shape (1, 3, 640, 1088)\n"
     ]
    },
    {
     "name": "stderr",
     "output_type": "stream",
     "text": [
      "Analizando partido (Golpes: 3):  50%|█████     | 75/150 [03:09<03:06,  2.48s/frames]"
     ]
    },
    {
     "name": "stdout",
     "output_type": "stream",
     "text": [
      "\n",
      "0: 384x640 5 persons, 1 car, 1 sports ball, 1 tennis racket, 880.7ms\n",
      "Speed: 1.7ms preprocess, 880.7ms inference, 0.9ms postprocess per image at shape (1, 3, 384, 640)\n",
      "\n",
      "0: 640x1088 1 ball, 396.1ms\n",
      "Speed: 6.1ms preprocess, 396.1ms inference, 1.0ms postprocess per image at shape (1, 3, 640, 1088)\n"
     ]
    },
    {
     "name": "stderr",
     "output_type": "stream",
     "text": [
      "Analizando partido (Golpes: 3):  51%|█████     | 76/150 [03:11<03:01,  2.46s/frames]"
     ]
    },
    {
     "name": "stdout",
     "output_type": "stream",
     "text": [
      "\n",
      "0: 384x640 5 persons, 1 tennis racket, 1170.5ms\n",
      "Speed: 2.1ms preprocess, 1170.5ms inference, 0.9ms postprocess per image at shape (1, 3, 384, 640)\n",
      "\n",
      "0: 640x1088 1 ball, 381.2ms\n",
      "Speed: 6.0ms preprocess, 381.2ms inference, 0.9ms postprocess per image at shape (1, 3, 640, 1088)\n"
     ]
    },
    {
     "name": "stderr",
     "output_type": "stream",
     "text": [
      "Analizando partido (Golpes: 3):  51%|█████▏    | 77/150 [03:14<03:08,  2.58s/frames]"
     ]
    },
    {
     "name": "stdout",
     "output_type": "stream",
     "text": [
      "\n",
      "0: 384x640 5 persons, 2 tennis rackets, 862.8ms\n",
      "Speed: 1.8ms preprocess, 862.8ms inference, 0.9ms postprocess per image at shape (1, 3, 384, 640)\n",
      "\n",
      "0: 640x1088 1 ball, 400.6ms\n",
      "Speed: 6.8ms preprocess, 400.6ms inference, 0.9ms postprocess per image at shape (1, 3, 640, 1088)\n"
     ]
    },
    {
     "name": "stderr",
     "output_type": "stream",
     "text": [
      "Analizando partido (Golpes: 3):  52%|█████▏    | 78/150 [03:16<03:01,  2.52s/frames]"
     ]
    },
    {
     "name": "stdout",
     "output_type": "stream",
     "text": [
      "\n",
      "0: 384x640 6 persons, 1 car, 1 tennis racket, 1 clock, 851.4ms\n",
      "Speed: 2.0ms preprocess, 851.4ms inference, 1.1ms postprocess per image at shape (1, 3, 384, 640)\n",
      "\n",
      "0: 640x1088 (no detections), 397.2ms\n",
      "Speed: 6.4ms preprocess, 397.2ms inference, 0.6ms postprocess per image at shape (1, 3, 640, 1088)\n"
     ]
    },
    {
     "name": "stderr",
     "output_type": "stream",
     "text": [
      "Analizando partido (Golpes: 3):  53%|█████▎    | 79/150 [03:19<02:57,  2.50s/frames]"
     ]
    },
    {
     "name": "stdout",
     "output_type": "stream",
     "text": [
      "\n",
      "0: 384x640 5 persons, 863.4ms\n",
      "Speed: 1.7ms preprocess, 863.4ms inference, 1.2ms postprocess per image at shape (1, 3, 384, 640)\n",
      "\n",
      "0: 640x1088 1 ball, 411.2ms\n",
      "Speed: 5.9ms preprocess, 411.2ms inference, 1.0ms postprocess per image at shape (1, 3, 640, 1088)\n"
     ]
    },
    {
     "name": "stderr",
     "output_type": "stream",
     "text": [
      "Analizando partido (Golpes: 3):  53%|█████▎    | 80/150 [03:21<02:57,  2.53s/frames]"
     ]
    },
    {
     "name": "stdout",
     "output_type": "stream",
     "text": [
      "\n",
      "0: 384x640 5 persons, 1 sports ball, 846.7ms\n",
      "Speed: 2.1ms preprocess, 846.7ms inference, 0.9ms postprocess per image at shape (1, 3, 384, 640)\n",
      "\n",
      "0: 640x1088 1 ball, 387.7ms\n",
      "Speed: 6.9ms preprocess, 387.7ms inference, 0.9ms postprocess per image at shape (1, 3, 640, 1088)\n"
     ]
    },
    {
     "name": "stderr",
     "output_type": "stream",
     "text": [
      "Analizando partido (Golpes: 3):  54%|█████▍    | 81/150 [03:24<02:51,  2.48s/frames]"
     ]
    },
    {
     "name": "stdout",
     "output_type": "stream",
     "text": [
      "\n",
      "0: 384x640 5 persons, 842.3ms\n",
      "Speed: 1.9ms preprocess, 842.3ms inference, 0.9ms postprocess per image at shape (1, 3, 384, 640)\n",
      "\n",
      "0: 640x1088 1 ball, 385.5ms\n",
      "Speed: 5.9ms preprocess, 385.5ms inference, 0.9ms postprocess per image at shape (1, 3, 640, 1088)\n"
     ]
    },
    {
     "name": "stderr",
     "output_type": "stream",
     "text": [
      "Analizando partido (Golpes: 4):  55%|█████▍    | 82/150 [03:26<02:46,  2.45s/frames]"
     ]
    },
    {
     "name": "stdout",
     "output_type": "stream",
     "text": [
      "\n",
      "0: 384x640 6 persons, 865.7ms\n",
      "Speed: 3.2ms preprocess, 865.7ms inference, 0.9ms postprocess per image at shape (1, 3, 384, 640)\n",
      "\n",
      "0: 640x1088 1 ball, 388.7ms\n",
      "Speed: 6.4ms preprocess, 388.7ms inference, 1.0ms postprocess per image at shape (1, 3, 640, 1088)\n"
     ]
    },
    {
     "name": "stderr",
     "output_type": "stream",
     "text": [
      "Analizando partido (Golpes: 4):  55%|█████▌    | 83/150 [03:29<02:44,  2.46s/frames]"
     ]
    },
    {
     "name": "stdout",
     "output_type": "stream",
     "text": [
      "\n",
      "0: 384x640 5 persons, 898.1ms\n",
      "Speed: 1.6ms preprocess, 898.1ms inference, 0.9ms postprocess per image at shape (1, 3, 384, 640)\n",
      "\n",
      "0: 640x1088 1 ball, 387.6ms\n",
      "Speed: 5.9ms preprocess, 387.6ms inference, 0.9ms postprocess per image at shape (1, 3, 640, 1088)\n"
     ]
    },
    {
     "name": "stderr",
     "output_type": "stream",
     "text": [
      "Analizando partido (Golpes: 4):  56%|█████▌    | 84/150 [03:31<02:45,  2.50s/frames]"
     ]
    },
    {
     "name": "stdout",
     "output_type": "stream",
     "text": [
      "\n",
      "0: 384x640 6 persons, 915.6ms\n",
      "Speed: 2.1ms preprocess, 915.6ms inference, 0.9ms postprocess per image at shape (1, 3, 384, 640)\n",
      "\n",
      "0: 640x1088 1 ball, 467.1ms\n",
      "Speed: 8.1ms preprocess, 467.1ms inference, 1.0ms postprocess per image at shape (1, 3, 640, 1088)\n"
     ]
    },
    {
     "name": "stderr",
     "output_type": "stream",
     "text": [
      "Analizando partido (Golpes: 4):  57%|█████▋    | 85/150 [03:34<02:42,  2.50s/frames]"
     ]
    },
    {
     "name": "stdout",
     "output_type": "stream",
     "text": [
      "\n",
      "0: 384x640 6 persons, 1 tennis racket, 858.2ms\n",
      "Speed: 1.9ms preprocess, 858.2ms inference, 1.1ms postprocess per image at shape (1, 3, 384, 640)\n",
      "\n",
      "0: 640x1088 1 ball, 398.2ms\n",
      "Speed: 5.8ms preprocess, 398.2ms inference, 0.9ms postprocess per image at shape (1, 3, 640, 1088)\n"
     ]
    },
    {
     "name": "stderr",
     "output_type": "stream",
     "text": [
      "Analizando partido (Golpes: 4):  57%|█████▋    | 86/150 [03:36<02:37,  2.47s/frames]"
     ]
    },
    {
     "name": "stdout",
     "output_type": "stream",
     "text": [
      "\n",
      "0: 384x640 6 persons, 1 clock, 880.4ms\n",
      "Speed: 1.6ms preprocess, 880.4ms inference, 1.1ms postprocess per image at shape (1, 3, 384, 640)\n",
      "\n",
      "0: 640x1088 1 ball, 393.3ms\n",
      "Speed: 6.2ms preprocess, 393.3ms inference, 0.9ms postprocess per image at shape (1, 3, 640, 1088)\n"
     ]
    },
    {
     "name": "stderr",
     "output_type": "stream",
     "text": [
      "Analizando partido (Golpes: 4):  58%|█████▊    | 87/150 [03:39<02:37,  2.50s/frames]"
     ]
    },
    {
     "name": "stdout",
     "output_type": "stream",
     "text": [
      "\n",
      "0: 384x640 6 persons, 1 clock, 880.1ms\n",
      "Speed: 1.9ms preprocess, 880.1ms inference, 0.9ms postprocess per image at shape (1, 3, 384, 640)\n",
      "\n",
      "0: 640x1088 1 ball, 392.1ms\n",
      "Speed: 5.8ms preprocess, 392.1ms inference, 1.0ms postprocess per image at shape (1, 3, 640, 1088)\n"
     ]
    },
    {
     "name": "stderr",
     "output_type": "stream",
     "text": [
      "Analizando partido (Golpes: 4):  59%|█████▊    | 88/150 [03:41<02:33,  2.47s/frames]"
     ]
    },
    {
     "name": "stdout",
     "output_type": "stream",
     "text": [
      "\n",
      "0: 384x640 6 persons, 1 tennis racket, 1 clock, 992.5ms\n",
      "Speed: 2.6ms preprocess, 992.5ms inference, 1.0ms postprocess per image at shape (1, 3, 384, 640)\n",
      "\n",
      "0: 640x1088 (no detections), 387.2ms\n",
      "Speed: 5.9ms preprocess, 387.2ms inference, 0.6ms postprocess per image at shape (1, 3, 640, 1088)\n"
     ]
    },
    {
     "name": "stderr",
     "output_type": "stream",
     "text": [
      "Analizando partido (Golpes: 4):  59%|█████▉    | 89/150 [03:44<02:32,  2.50s/frames]"
     ]
    },
    {
     "name": "stdout",
     "output_type": "stream",
     "text": [
      "\n",
      "0: 384x640 6 persons, 1 car, 865.9ms\n",
      "Speed: 1.9ms preprocess, 865.9ms inference, 1.2ms postprocess per image at shape (1, 3, 384, 640)\n",
      "\n",
      "0: 640x1088 (no detections), 412.0ms\n",
      "Speed: 6.4ms preprocess, 412.0ms inference, 0.7ms postprocess per image at shape (1, 3, 640, 1088)\n"
     ]
    },
    {
     "name": "stderr",
     "output_type": "stream",
     "text": [
      "Analizando partido (Golpes: 4):  60%|██████    | 90/150 [03:46<02:28,  2.47s/frames]"
     ]
    },
    {
     "name": "stdout",
     "output_type": "stream",
     "text": [
      "\n",
      "0: 384x640 6 persons, 828.4ms\n",
      "Speed: 1.7ms preprocess, 828.4ms inference, 0.9ms postprocess per image at shape (1, 3, 384, 640)\n",
      "\n",
      "0: 640x1088 (no detections), 417.1ms\n",
      "Speed: 5.9ms preprocess, 417.1ms inference, 0.6ms postprocess per image at shape (1, 3, 640, 1088)\n"
     ]
    },
    {
     "name": "stderr",
     "output_type": "stream",
     "text": [
      "Analizando partido (Golpes: 4):  61%|██████    | 91/150 [03:49<02:26,  2.48s/frames]"
     ]
    },
    {
     "name": "stdout",
     "output_type": "stream",
     "text": [
      "\n",
      "0: 384x640 6 persons, 1 clock, 867.2ms\n",
      "Speed: 1.7ms preprocess, 867.2ms inference, 0.9ms postprocess per image at shape (1, 3, 384, 640)\n",
      "\n",
      "0: 640x1088 (no detections), 390.0ms\n",
      "Speed: 6.1ms preprocess, 390.0ms inference, 0.7ms postprocess per image at shape (1, 3, 640, 1088)\n"
     ]
    },
    {
     "name": "stderr",
     "output_type": "stream",
     "text": [
      "Analizando partido (Golpes: 4):  61%|██████▏   | 92/150 [03:51<02:22,  2.45s/frames]"
     ]
    },
    {
     "name": "stdout",
     "output_type": "stream",
     "text": [
      "\n",
      "0: 384x640 6 persons, 1 tennis racket, 911.8ms\n",
      "Speed: 2.0ms preprocess, 911.8ms inference, 0.9ms postprocess per image at shape (1, 3, 384, 640)\n",
      "\n",
      "0: 640x1088 (no detections), 473.7ms\n",
      "Speed: 6.5ms preprocess, 473.7ms inference, 0.6ms postprocess per image at shape (1, 3, 640, 1088)\n"
     ]
    },
    {
     "name": "stderr",
     "output_type": "stream",
     "text": [
      "Analizando partido (Golpes: 4):  62%|██████▏   | 93/150 [03:54<02:21,  2.48s/frames]"
     ]
    },
    {
     "name": "stdout",
     "output_type": "stream",
     "text": [
      "\n",
      "0: 384x640 6 persons, 1 tennis racket, 859.5ms\n",
      "Speed: 1.9ms preprocess, 859.5ms inference, 1.1ms postprocess per image at shape (1, 3, 384, 640)\n",
      "\n",
      "0: 640x1088 (no detections), 375.8ms\n",
      "Speed: 5.9ms preprocess, 375.8ms inference, 0.6ms postprocess per image at shape (1, 3, 640, 1088)\n"
     ]
    },
    {
     "name": "stderr",
     "output_type": "stream",
     "text": [
      "Analizando partido (Golpes: 4):  63%|██████▎   | 94/150 [03:56<02:19,  2.49s/frames]"
     ]
    },
    {
     "name": "stdout",
     "output_type": "stream",
     "text": [
      "\n",
      "0: 384x640 6 persons, 859.6ms\n",
      "Speed: 1.7ms preprocess, 859.6ms inference, 0.9ms postprocess per image at shape (1, 3, 384, 640)\n",
      "\n",
      "0: 640x1088 1 ball, 388.4ms\n",
      "Speed: 6.9ms preprocess, 388.4ms inference, 0.9ms postprocess per image at shape (1, 3, 640, 1088)\n"
     ]
    },
    {
     "name": "stderr",
     "output_type": "stream",
     "text": [
      "Analizando partido (Golpes: 4):  63%|██████▎   | 95/150 [03:58<02:14,  2.45s/frames]"
     ]
    },
    {
     "name": "stdout",
     "output_type": "stream",
     "text": [
      "\n",
      "0: 384x640 6 persons, 1 tennis racket, 1020.2ms\n",
      "Speed: 1.7ms preprocess, 1020.2ms inference, 1.0ms postprocess per image at shape (1, 3, 384, 640)\n",
      "\n",
      "0: 640x1088 (no detections), 379.6ms\n",
      "Speed: 6.2ms preprocess, 379.6ms inference, 0.6ms postprocess per image at shape (1, 3, 640, 1088)\n"
     ]
    },
    {
     "name": "stderr",
     "output_type": "stream",
     "text": [
      "Analizando partido (Golpes: 4):  64%|██████▍   | 96/150 [04:01<02:14,  2.48s/frames]"
     ]
    },
    {
     "name": "stdout",
     "output_type": "stream",
     "text": [
      "\n",
      "0: 384x640 5 persons, 858.0ms\n",
      "Speed: 1.6ms preprocess, 858.0ms inference, 1.1ms postprocess per image at shape (1, 3, 384, 640)\n",
      "\n",
      "0: 640x1088 (no detections), 516.6ms\n",
      "Speed: 6.1ms preprocess, 516.6ms inference, 0.6ms postprocess per image at shape (1, 3, 640, 1088)\n"
     ]
    },
    {
     "name": "stderr",
     "output_type": "stream",
     "text": [
      "Analizando partido (Golpes: 4):  65%|██████▍   | 97/150 [04:04<02:12,  2.49s/frames]"
     ]
    },
    {
     "name": "stdout",
     "output_type": "stream",
     "text": [
      "\n",
      "0: 384x640 5 persons, 864.0ms\n",
      "Speed: 1.8ms preprocess, 864.0ms inference, 1.0ms postprocess per image at shape (1, 3, 384, 640)\n",
      "\n",
      "0: 640x1088 (no detections), 382.4ms\n",
      "Speed: 5.9ms preprocess, 382.4ms inference, 0.6ms postprocess per image at shape (1, 3, 640, 1088)\n"
     ]
    },
    {
     "name": "stderr",
     "output_type": "stream",
     "text": [
      "Analizando partido (Golpes: 4):  65%|██████▌   | 98/150 [04:06<02:10,  2.50s/frames]"
     ]
    },
    {
     "name": "stdout",
     "output_type": "stream",
     "text": [
      "\n",
      "0: 384x640 5 persons, 860.5ms\n",
      "Speed: 1.9ms preprocess, 860.5ms inference, 1.0ms postprocess per image at shape (1, 3, 384, 640)\n",
      "\n",
      "0: 640x1088 (no detections), 385.7ms\n",
      "Speed: 5.9ms preprocess, 385.7ms inference, 0.6ms postprocess per image at shape (1, 3, 640, 1088)\n"
     ]
    },
    {
     "name": "stderr",
     "output_type": "stream",
     "text": [
      "Analizando partido (Golpes: 4):  66%|██████▌   | 99/150 [04:08<02:05,  2.46s/frames]"
     ]
    },
    {
     "name": "stdout",
     "output_type": "stream",
     "text": [
      "\n",
      "0: 384x640 6 persons, 1 tennis racket, 961.9ms\n",
      "Speed: 2.2ms preprocess, 961.9ms inference, 1.1ms postprocess per image at shape (1, 3, 384, 640)\n",
      "\n",
      "0: 640x1088 (no detections), 366.8ms\n",
      "Speed: 5.7ms preprocess, 366.8ms inference, 0.6ms postprocess per image at shape (1, 3, 640, 1088)\n"
     ]
    },
    {
     "name": "stderr",
     "output_type": "stream",
     "text": [
      "Analizando partido (Golpes: 4):  67%|██████▋   | 100/150 [04:11<02:03,  2.46s/frames]"
     ]
    },
    {
     "name": "stdout",
     "output_type": "stream",
     "text": [
      "\n",
      "0: 384x640 5 persons, 861.8ms\n",
      "Speed: 2.3ms preprocess, 861.8ms inference, 0.9ms postprocess per image at shape (1, 3, 384, 640)\n",
      "\n",
      "0: 640x1088 2 balls, 395.9ms\n",
      "Speed: 6.4ms preprocess, 395.9ms inference, 1.0ms postprocess per image at shape (1, 3, 640, 1088)\n"
     ]
    },
    {
     "name": "stderr",
     "output_type": "stream",
     "text": [
      "Analizando partido (Golpes: 4):  67%|██████▋   | 101/150 [04:14<02:03,  2.52s/frames]"
     ]
    },
    {
     "name": "stdout",
     "output_type": "stream",
     "text": [
      "\n",
      "0: 384x640 5 persons, 940.0ms\n",
      "Speed: 1.8ms preprocess, 940.0ms inference, 0.9ms postprocess per image at shape (1, 3, 384, 640)\n",
      "\n",
      "0: 640x1088 1 ball, 384.0ms\n",
      "Speed: 6.7ms preprocess, 384.0ms inference, 0.9ms postprocess per image at shape (1, 3, 640, 1088)\n"
     ]
    },
    {
     "name": "stderr",
     "output_type": "stream",
     "text": [
      "Analizando partido (Golpes: 4):  68%|██████▊   | 102/150 [04:16<02:00,  2.51s/frames]"
     ]
    },
    {
     "name": "stdout",
     "output_type": "stream",
     "text": [
      "\n",
      "0: 384x640 5 persons, 2 tennis rackets, 866.3ms\n",
      "Speed: 2.1ms preprocess, 866.3ms inference, 1.0ms postprocess per image at shape (1, 3, 384, 640)\n",
      "\n",
      "0: 640x1088 (no detections), 387.6ms\n",
      "Speed: 7.6ms preprocess, 387.6ms inference, 0.6ms postprocess per image at shape (1, 3, 640, 1088)\n"
     ]
    },
    {
     "name": "stderr",
     "output_type": "stream",
     "text": [
      "Analizando partido (Golpes: 4):  69%|██████▊   | 103/150 [04:18<01:55,  2.46s/frames]"
     ]
    },
    {
     "name": "stdout",
     "output_type": "stream",
     "text": [
      "\n",
      "0: 384x640 5 persons, 1 tennis racket, 845.3ms\n",
      "Speed: 1.8ms preprocess, 845.3ms inference, 1.1ms postprocess per image at shape (1, 3, 384, 640)\n",
      "\n",
      "0: 640x1088 (no detections), 388.2ms\n",
      "Speed: 6.2ms preprocess, 388.2ms inference, 0.7ms postprocess per image at shape (1, 3, 640, 1088)\n"
     ]
    },
    {
     "name": "stderr",
     "output_type": "stream",
     "text": [
      "Analizando partido (Golpes: 4):  69%|██████▉   | 104/150 [04:21<01:53,  2.46s/frames]"
     ]
    },
    {
     "name": "stdout",
     "output_type": "stream",
     "text": [
      "\n",
      "0: 384x640 5 persons, 2 tennis rackets, 842.2ms\n",
      "Speed: 1.9ms preprocess, 842.2ms inference, 0.9ms postprocess per image at shape (1, 3, 384, 640)\n",
      "\n",
      "0: 640x1088 (no detections), 425.6ms\n",
      "Speed: 6.5ms preprocess, 425.6ms inference, 0.6ms postprocess per image at shape (1, 3, 640, 1088)\n"
     ]
    },
    {
     "name": "stderr",
     "output_type": "stream",
     "text": [
      "Analizando partido (Golpes: 4):  70%|███████   | 105/150 [04:23<01:51,  2.48s/frames]"
     ]
    },
    {
     "name": "stdout",
     "output_type": "stream",
     "text": [
      "\n",
      "0: 384x640 5 persons, 2 tennis rackets, 1 clock, 876.9ms\n",
      "Speed: 1.9ms preprocess, 876.9ms inference, 1.0ms postprocess per image at shape (1, 3, 384, 640)\n",
      "\n",
      "0: 640x1088 (no detections), 389.3ms\n",
      "Speed: 5.9ms preprocess, 389.3ms inference, 0.6ms postprocess per image at shape (1, 3, 640, 1088)\n"
     ]
    },
    {
     "name": "stderr",
     "output_type": "stream",
     "text": [
      "Analizando partido (Golpes: 4):  71%|███████   | 106/150 [04:26<01:48,  2.46s/frames]"
     ]
    },
    {
     "name": "stdout",
     "output_type": "stream",
     "text": [
      "\n",
      "0: 384x640 5 persons, 2 tennis rackets, 1 clock, 922.7ms\n",
      "Speed: 2.1ms preprocess, 922.7ms inference, 1.0ms postprocess per image at shape (1, 3, 384, 640)\n",
      "\n",
      "0: 640x1088 (no detections), 508.1ms\n",
      "Speed: 5.8ms preprocess, 508.1ms inference, 0.6ms postprocess per image at shape (1, 3, 640, 1088)\n"
     ]
    },
    {
     "name": "stderr",
     "output_type": "stream",
     "text": [
      "Analizando partido (Golpes: 4):  71%|███████▏  | 107/150 [04:28<01:47,  2.49s/frames]"
     ]
    },
    {
     "name": "stdout",
     "output_type": "stream",
     "text": [
      "\n",
      "0: 384x640 5 persons, 1 tennis racket, 1 clock, 856.1ms\n",
      "Speed: 2.0ms preprocess, 856.1ms inference, 1.1ms postprocess per image at shape (1, 3, 384, 640)\n",
      "\n",
      "0: 640x1088 (no detections), 471.0ms\n",
      "Speed: 6.1ms preprocess, 471.0ms inference, 0.6ms postprocess per image at shape (1, 3, 640, 1088)\n"
     ]
    },
    {
     "name": "stderr",
     "output_type": "stream",
     "text": [
      "Analizando partido (Golpes: 4):  72%|███████▏  | 108/150 [04:31<01:46,  2.53s/frames]"
     ]
    },
    {
     "name": "stdout",
     "output_type": "stream",
     "text": [
      "\n",
      "0: 384x640 5 persons, 2 tennis rackets, 1 clock, 841.6ms\n",
      "Speed: 2.0ms preprocess, 841.6ms inference, 1.1ms postprocess per image at shape (1, 3, 384, 640)\n",
      "\n",
      "0: 640x1088 (no detections), 396.8ms\n",
      "Speed: 6.5ms preprocess, 396.8ms inference, 0.6ms postprocess per image at shape (1, 3, 640, 1088)\n"
     ]
    },
    {
     "name": "stderr",
     "output_type": "stream",
     "text": [
      "Analizando partido (Golpes: 4):  73%|███████▎  | 109/150 [04:33<01:43,  2.51s/frames]"
     ]
    },
    {
     "name": "stdout",
     "output_type": "stream",
     "text": [
      "\n",
      "0: 384x640 5 persons, 3 tennis rackets, 1 clock, 853.3ms\n",
      "Speed: 1.9ms preprocess, 853.3ms inference, 1.0ms postprocess per image at shape (1, 3, 384, 640)\n",
      "\n",
      "0: 640x1088 (no detections), 488.6ms\n",
      "Speed: 5.6ms preprocess, 488.6ms inference, 1.3ms postprocess per image at shape (1, 3, 640, 1088)\n"
     ]
    },
    {
     "name": "stderr",
     "output_type": "stream",
     "text": [
      "Analizando partido (Golpes: 4):  73%|███████▎  | 110/150 [04:36<01:40,  2.50s/frames]"
     ]
    },
    {
     "name": "stdout",
     "output_type": "stream",
     "text": [
      "\n",
      "0: 384x640 5 persons, 1 tennis racket, 864.0ms\n",
      "Speed: 2.1ms preprocess, 864.0ms inference, 1.1ms postprocess per image at shape (1, 3, 384, 640)\n",
      "\n",
      "0: 640x1088 (no detections), 400.2ms\n",
      "Speed: 6.1ms preprocess, 400.2ms inference, 0.7ms postprocess per image at shape (1, 3, 640, 1088)\n"
     ]
    },
    {
     "name": "stderr",
     "output_type": "stream",
     "text": [
      "Analizando partido (Golpes: 4):  74%|███████▍  | 111/150 [04:38<01:37,  2.50s/frames]"
     ]
    },
    {
     "name": "stdout",
     "output_type": "stream",
     "text": [
      "\n",
      "0: 384x640 5 persons, 1 tennis racket, 1 clock, 862.8ms\n",
      "Speed: 2.5ms preprocess, 862.8ms inference, 1.0ms postprocess per image at shape (1, 3, 384, 640)\n",
      "\n",
      "0: 640x1088 1 ball, 399.7ms\n",
      "Speed: 7.6ms preprocess, 399.7ms inference, 0.9ms postprocess per image at shape (1, 3, 640, 1088)\n"
     ]
    },
    {
     "name": "stderr",
     "output_type": "stream",
     "text": [
      "Analizando partido (Golpes: 4):  75%|███████▍  | 112/150 [04:41<01:35,  2.52s/frames]"
     ]
    },
    {
     "name": "stdout",
     "output_type": "stream",
     "text": [
      "\n",
      "0: 384x640 5 persons, 1 tennis racket, 1 clock, 946.7ms\n",
      "Speed: 2.5ms preprocess, 946.7ms inference, 0.9ms postprocess per image at shape (1, 3, 384, 640)\n",
      "\n",
      "0: 640x1088 1 ball, 400.5ms\n",
      "Speed: 6.0ms preprocess, 400.5ms inference, 0.9ms postprocess per image at shape (1, 3, 640, 1088)\n"
     ]
    },
    {
     "name": "stderr",
     "output_type": "stream",
     "text": [
      "Analizando partido (Golpes: 4):  75%|███████▌  | 113/150 [04:43<01:32,  2.51s/frames]"
     ]
    },
    {
     "name": "stdout",
     "output_type": "stream",
     "text": [
      "\n",
      "0: 384x640 5 persons, 2 tennis rackets, 977.5ms\n",
      "Speed: 2.0ms preprocess, 977.5ms inference, 1.0ms postprocess per image at shape (1, 3, 384, 640)\n",
      "\n",
      "0: 640x1088 (no detections), 401.1ms\n",
      "Speed: 5.7ms preprocess, 401.1ms inference, 0.6ms postprocess per image at shape (1, 3, 640, 1088)\n"
     ]
    },
    {
     "name": "stderr",
     "output_type": "stream",
     "text": [
      "Analizando partido (Golpes: 4):  76%|███████▌  | 114/150 [04:46<01:30,  2.52s/frames]"
     ]
    },
    {
     "name": "stdout",
     "output_type": "stream",
     "text": [
      "\n",
      "0: 384x640 5 persons, 2 tennis rackets, 880.6ms\n",
      "Speed: 2.0ms preprocess, 880.6ms inference, 1.0ms postprocess per image at shape (1, 3, 384, 640)\n",
      "\n",
      "0: 640x1088 1 ball, 497.0ms\n",
      "Speed: 6.0ms preprocess, 497.0ms inference, 0.9ms postprocess per image at shape (1, 3, 640, 1088)\n"
     ]
    },
    {
     "name": "stderr",
     "output_type": "stream",
     "text": [
      "Analizando partido (Golpes: 4):  77%|███████▋  | 115/150 [04:49<01:29,  2.56s/frames]"
     ]
    },
    {
     "name": "stdout",
     "output_type": "stream",
     "text": [
      "\n",
      "0: 384x640 5 persons, 2 tennis rackets, 925.6ms\n",
      "Speed: 2.1ms preprocess, 925.6ms inference, 0.9ms postprocess per image at shape (1, 3, 384, 640)\n",
      "\n",
      "0: 640x1088 1 ball, 378.8ms\n",
      "Speed: 6.1ms preprocess, 378.8ms inference, 1.4ms postprocess per image at shape (1, 3, 640, 1088)\n"
     ]
    },
    {
     "name": "stderr",
     "output_type": "stream",
     "text": [
      "Analizando partido (Golpes: 4):  77%|███████▋  | 116/150 [04:51<01:25,  2.52s/frames]"
     ]
    },
    {
     "name": "stdout",
     "output_type": "stream",
     "text": [
      "\n",
      "0: 384x640 5 persons, 2 tennis rackets, 855.3ms\n",
      "Speed: 1.7ms preprocess, 855.3ms inference, 0.9ms postprocess per image at shape (1, 3, 384, 640)\n",
      "\n",
      "0: 640x1088 1 ball, 387.5ms\n",
      "Speed: 6.2ms preprocess, 387.5ms inference, 0.9ms postprocess per image at shape (1, 3, 640, 1088)\n"
     ]
    },
    {
     "name": "stderr",
     "output_type": "stream",
     "text": [
      "Analizando partido (Golpes: 4):  78%|███████▊  | 117/150 [04:53<01:21,  2.48s/frames]"
     ]
    },
    {
     "name": "stdout",
     "output_type": "stream",
     "text": [
      "\n",
      "0: 384x640 5 persons, 2 tennis rackets, 867.4ms\n",
      "Speed: 1.7ms preprocess, 867.4ms inference, 1.1ms postprocess per image at shape (1, 3, 384, 640)\n",
      "\n",
      "0: 640x1088 1 ball, 415.8ms\n",
      "Speed: 6.3ms preprocess, 415.8ms inference, 1.1ms postprocess per image at shape (1, 3, 640, 1088)\n"
     ]
    },
    {
     "name": "stderr",
     "output_type": "stream",
     "text": [
      "Analizando partido (Golpes: 4):  79%|███████▊  | 118/150 [04:56<01:19,  2.48s/frames]"
     ]
    },
    {
     "name": "stdout",
     "output_type": "stream",
     "text": [
      "\n",
      "0: 384x640 5 persons, 1 sports ball, 2 tennis rackets, 914.7ms\n",
      "Speed: 1.9ms preprocess, 914.7ms inference, 0.9ms postprocess per image at shape (1, 3, 384, 640)\n",
      "\n",
      "0: 640x1088 (no detections), 380.1ms\n",
      "Speed: 6.4ms preprocess, 380.1ms inference, 0.6ms postprocess per image at shape (1, 3, 640, 1088)\n"
     ]
    },
    {
     "name": "stderr",
     "output_type": "stream",
     "text": [
      "Analizando partido (Golpes: 4):  79%|███████▉  | 119/150 [04:59<01:18,  2.54s/frames]"
     ]
    },
    {
     "name": "stdout",
     "output_type": "stream",
     "text": [
      "\n",
      "0: 384x640 5 persons, 1 sports ball, 2 tennis rackets, 937.8ms\n",
      "Speed: 2.0ms preprocess, 937.8ms inference, 1.0ms postprocess per image at shape (1, 3, 384, 640)\n",
      "\n",
      "0: 640x1088 (no detections), 393.9ms\n",
      "Speed: 7.2ms preprocess, 393.9ms inference, 0.6ms postprocess per image at shape (1, 3, 640, 1088)\n"
     ]
    },
    {
     "name": "stderr",
     "output_type": "stream",
     "text": [
      "Analizando partido (Golpes: 4):  80%|████████  | 120/150 [05:01<01:16,  2.55s/frames]"
     ]
    },
    {
     "name": "stdout",
     "output_type": "stream",
     "text": [
      "\n",
      "0: 384x640 5 persons, 1 sports ball, 958.8ms\n",
      "Speed: 1.7ms preprocess, 958.8ms inference, 0.9ms postprocess per image at shape (1, 3, 384, 640)\n",
      "\n",
      "0: 640x1088 1 ball, 408.8ms\n",
      "Speed: 6.4ms preprocess, 408.8ms inference, 0.9ms postprocess per image at shape (1, 3, 640, 1088)\n"
     ]
    },
    {
     "name": "stderr",
     "output_type": "stream",
     "text": [
      "Analizando partido (Golpes: 4):  81%|████████  | 121/150 [05:04<01:13,  2.54s/frames]"
     ]
    },
    {
     "name": "stdout",
     "output_type": "stream",
     "text": [
      "\n",
      "0: 384x640 5 persons, 868.7ms\n",
      "Speed: 1.9ms preprocess, 868.7ms inference, 1.0ms postprocess per image at shape (1, 3, 384, 640)\n",
      "\n",
      "0: 640x1088 1 ball, 404.3ms\n",
      "Speed: 6.0ms preprocess, 404.3ms inference, 0.9ms postprocess per image at shape (1, 3, 640, 1088)\n"
     ]
    },
    {
     "name": "stderr",
     "output_type": "stream",
     "text": [
      "Analizando partido (Golpes: 4):  81%|████████▏ | 122/150 [05:06<01:11,  2.55s/frames]"
     ]
    },
    {
     "name": "stdout",
     "output_type": "stream",
     "text": [
      "\n",
      "0: 384x640 6 persons, 869.1ms\n",
      "Speed: 1.7ms preprocess, 869.1ms inference, 1.2ms postprocess per image at shape (1, 3, 384, 640)\n",
      "\n",
      "0: 640x1088 1 ball, 399.9ms\n",
      "Speed: 5.8ms preprocess, 399.9ms inference, 0.9ms postprocess per image at shape (1, 3, 640, 1088)\n"
     ]
    },
    {
     "name": "stderr",
     "output_type": "stream",
     "text": [
      "Analizando partido (Golpes: 4):  82%|████████▏ | 123/150 [05:09<01:07,  2.50s/frames]"
     ]
    },
    {
     "name": "stdout",
     "output_type": "stream",
     "text": [
      "\n",
      "0: 384x640 6 persons, 854.2ms\n",
      "Speed: 1.8ms preprocess, 854.2ms inference, 0.9ms postprocess per image at shape (1, 3, 384, 640)\n",
      "\n",
      "0: 640x1088 1 ball, 400.5ms\n",
      "Speed: 6.0ms preprocess, 400.5ms inference, 1.0ms postprocess per image at shape (1, 3, 640, 1088)\n"
     ]
    },
    {
     "name": "stderr",
     "output_type": "stream",
     "text": [
      "Analizando partido (Golpes: 4):  83%|████████▎ | 124/150 [05:11<01:04,  2.49s/frames]"
     ]
    },
    {
     "name": "stdout",
     "output_type": "stream",
     "text": [
      "\n",
      "0: 384x640 5 persons, 1 tennis racket, 911.9ms\n",
      "Speed: 2.0ms preprocess, 911.9ms inference, 1.0ms postprocess per image at shape (1, 3, 384, 640)\n",
      "\n",
      "0: 640x1088 1 ball, 409.8ms\n",
      "Speed: 5.8ms preprocess, 409.8ms inference, 1.0ms postprocess per image at shape (1, 3, 640, 1088)\n"
     ]
    },
    {
     "name": "stderr",
     "output_type": "stream",
     "text": [
      "Analizando partido (Golpes: 4):  83%|████████▎ | 125/150 [05:14<01:02,  2.50s/frames]"
     ]
    },
    {
     "name": "stdout",
     "output_type": "stream",
     "text": [
      "\n",
      "0: 384x640 5 persons, 1 tennis racket, 864.3ms\n",
      "Speed: 1.9ms preprocess, 864.3ms inference, 0.9ms postprocess per image at shape (1, 3, 384, 640)\n",
      "\n",
      "0: 640x1088 1 ball, 421.6ms\n",
      "Speed: 6.6ms preprocess, 421.6ms inference, 0.9ms postprocess per image at shape (1, 3, 640, 1088)\n"
     ]
    },
    {
     "name": "stderr",
     "output_type": "stream",
     "text": [
      "Analizando partido (Golpes: 4):  84%|████████▍ | 126/150 [05:16<01:00,  2.51s/frames]"
     ]
    },
    {
     "name": "stdout",
     "output_type": "stream",
     "text": [
      "\n",
      "0: 384x640 5 persons, 1 sports ball, 837.6ms\n",
      "Speed: 1.8ms preprocess, 837.6ms inference, 0.9ms postprocess per image at shape (1, 3, 384, 640)\n",
      "\n",
      "0: 640x1088 1 ball, 448.8ms\n",
      "Speed: 6.1ms preprocess, 448.8ms inference, 0.9ms postprocess per image at shape (1, 3, 640, 1088)\n"
     ]
    },
    {
     "name": "stderr",
     "output_type": "stream",
     "text": [
      "Analizando partido (Golpes: 4):  85%|████████▍ | 127/150 [05:19<00:57,  2.50s/frames]"
     ]
    },
    {
     "name": "stdout",
     "output_type": "stream",
     "text": [
      "\n",
      "0: 384x640 5 persons, 1 tennis racket, 1311.5ms\n",
      "Speed: 1.8ms preprocess, 1311.5ms inference, 1.1ms postprocess per image at shape (1, 3, 384, 640)\n",
      "\n",
      "0: 640x1088 1 ball, 393.9ms\n",
      "Speed: 5.9ms preprocess, 393.9ms inference, 0.9ms postprocess per image at shape (1, 3, 640, 1088)\n"
     ]
    },
    {
     "name": "stderr",
     "output_type": "stream",
     "text": [
      "Analizando partido (Golpes: 4):  85%|████████▌ | 128/150 [05:22<00:57,  2.60s/frames]"
     ]
    },
    {
     "name": "stdout",
     "output_type": "stream",
     "text": [
      "\n",
      "0: 384x640 5 persons, 1 sports ball, 1 tennis racket, 948.7ms\n",
      "Speed: 2.2ms preprocess, 948.7ms inference, 1.1ms postprocess per image at shape (1, 3, 384, 640)\n",
      "\n",
      "0: 640x1088 1 ball, 394.9ms\n",
      "Speed: 5.9ms preprocess, 394.9ms inference, 1.0ms postprocess per image at shape (1, 3, 640, 1088)\n"
     ]
    },
    {
     "name": "stderr",
     "output_type": "stream",
     "text": [
      "Analizando partido (Golpes: 4):  86%|████████▌ | 129/150 [05:24<00:54,  2.61s/frames]"
     ]
    },
    {
     "name": "stdout",
     "output_type": "stream",
     "text": [
      "\n",
      "0: 384x640 5 persons, 1 sports ball, 2 tennis rackets, 841.8ms\n",
      "Speed: 1.9ms preprocess, 841.8ms inference, 0.9ms postprocess per image at shape (1, 3, 384, 640)\n",
      "\n",
      "0: 640x1088 1 ball, 383.2ms\n",
      "Speed: 6.6ms preprocess, 383.2ms inference, 1.0ms postprocess per image at shape (1, 3, 640, 1088)\n"
     ]
    },
    {
     "name": "stderr",
     "output_type": "stream",
     "text": [
      "Analizando partido (Golpes: 4):  87%|████████▋ | 130/150 [05:27<00:50,  2.53s/frames]"
     ]
    },
    {
     "name": "stdout",
     "output_type": "stream",
     "text": [
      "\n",
      "0: 384x640 5 persons, 1 sports ball, 2 tennis rackets, 975.7ms\n",
      "Speed: 1.9ms preprocess, 975.7ms inference, 0.9ms postprocess per image at shape (1, 3, 384, 640)\n",
      "\n",
      "0: 640x1088 1 ball, 402.6ms\n",
      "Speed: 6.8ms preprocess, 402.6ms inference, 1.0ms postprocess per image at shape (1, 3, 640, 1088)\n"
     ]
    },
    {
     "name": "stderr",
     "output_type": "stream",
     "text": [
      "Analizando partido (Golpes: 4):  87%|████████▋ | 131/150 [05:29<00:48,  2.53s/frames]"
     ]
    },
    {
     "name": "stdout",
     "output_type": "stream",
     "text": [
      "\n",
      "0: 384x640 5 persons, 1 car, 1 tennis racket, 863.3ms\n",
      "Speed: 2.3ms preprocess, 863.3ms inference, 1.1ms postprocess per image at shape (1, 3, 384, 640)\n",
      "\n",
      "0: 640x1088 1 ball, 411.0ms\n",
      "Speed: 5.9ms preprocess, 411.0ms inference, 1.0ms postprocess per image at shape (1, 3, 640, 1088)\n"
     ]
    },
    {
     "name": "stderr",
     "output_type": "stream",
     "text": [
      "Analizando partido (Golpes: 4):  88%|████████▊ | 132/150 [05:31<00:44,  2.49s/frames]"
     ]
    },
    {
     "name": "stdout",
     "output_type": "stream",
     "text": [
      "\n",
      "0: 384x640 5 persons, 1 tennis racket, 969.4ms\n",
      "Speed: 2.6ms preprocess, 969.4ms inference, 1.0ms postprocess per image at shape (1, 3, 384, 640)\n",
      "\n",
      "0: 640x1088 (no detections), 383.9ms\n",
      "Speed: 6.0ms preprocess, 383.9ms inference, 0.6ms postprocess per image at shape (1, 3, 640, 1088)\n"
     ]
    },
    {
     "name": "stderr",
     "output_type": "stream",
     "text": [
      "Analizando partido (Golpes: 4):  89%|████████▊ | 133/150 [05:34<00:43,  2.56s/frames]"
     ]
    },
    {
     "name": "stdout",
     "output_type": "stream",
     "text": [
      "\n",
      "0: 384x640 4 persons, 1 tennis racket, 865.9ms\n",
      "Speed: 2.0ms preprocess, 865.9ms inference, 1.0ms postprocess per image at shape (1, 3, 384, 640)\n",
      "\n",
      "0: 640x1088 1 ball, 432.4ms\n",
      "Speed: 6.3ms preprocess, 432.4ms inference, 0.9ms postprocess per image at shape (1, 3, 640, 1088)\n"
     ]
    },
    {
     "name": "stderr",
     "output_type": "stream",
     "text": [
      "Analizando partido (Golpes: 4):  89%|████████▉ | 134/150 [05:37<00:40,  2.54s/frames]"
     ]
    },
    {
     "name": "stdout",
     "output_type": "stream",
     "text": [
      "\n",
      "0: 384x640 5 persons, 1 car, 1 tennis racket, 867.3ms\n",
      "Speed: 1.8ms preprocess, 867.3ms inference, 1.0ms postprocess per image at shape (1, 3, 384, 640)\n",
      "\n",
      "0: 640x1088 (no detections), 384.6ms\n",
      "Speed: 6.4ms preprocess, 384.6ms inference, 0.6ms postprocess per image at shape (1, 3, 640, 1088)\n"
     ]
    },
    {
     "name": "stderr",
     "output_type": "stream",
     "text": [
      "Analizando partido (Golpes: 4):  90%|█████████ | 135/150 [05:39<00:37,  2.49s/frames]"
     ]
    },
    {
     "name": "stdout",
     "output_type": "stream",
     "text": [
      "\n",
      "0: 384x640 5 persons, 1 tennis racket, 858.4ms\n",
      "Speed: 1.7ms preprocess, 858.4ms inference, 1.1ms postprocess per image at shape (1, 3, 384, 640)\n",
      "\n",
      "0: 640x1088 (no detections), 388.3ms\n",
      "Speed: 5.9ms preprocess, 388.3ms inference, 0.6ms postprocess per image at shape (1, 3, 640, 1088)\n"
     ]
    },
    {
     "name": "stderr",
     "output_type": "stream",
     "text": [
      "Analizando partido (Golpes: 4):  91%|█████████ | 136/150 [05:42<00:34,  2.50s/frames]"
     ]
    },
    {
     "name": "stdout",
     "output_type": "stream",
     "text": [
      "\n",
      "0: 384x640 4 persons, 1 car, 2 tennis rackets, 991.8ms\n",
      "Speed: 1.9ms preprocess, 991.8ms inference, 0.9ms postprocess per image at shape (1, 3, 384, 640)\n",
      "\n",
      "0: 640x1088 (no detections), 386.2ms\n",
      "Speed: 5.9ms preprocess, 386.2ms inference, 0.6ms postprocess per image at shape (1, 3, 640, 1088)\n"
     ]
    },
    {
     "name": "stderr",
     "output_type": "stream",
     "text": [
      "Analizando partido (Golpes: 4):  91%|█████████▏| 137/150 [05:44<00:32,  2.51s/frames]"
     ]
    },
    {
     "name": "stdout",
     "output_type": "stream",
     "text": [
      "\n",
      "0: 384x640 5 persons, 1 tennis racket, 872.5ms\n",
      "Speed: 1.8ms preprocess, 872.5ms inference, 0.9ms postprocess per image at shape (1, 3, 384, 640)\n",
      "\n",
      "0: 640x1088 1 ball, 417.0ms\n",
      "Speed: 5.8ms preprocess, 417.0ms inference, 0.9ms postprocess per image at shape (1, 3, 640, 1088)\n"
     ]
    },
    {
     "name": "stderr",
     "output_type": "stream",
     "text": [
      "Analizando partido (Golpes: 5):  92%|█████████▏| 138/150 [05:46<00:29,  2.49s/frames]"
     ]
    },
    {
     "name": "stdout",
     "output_type": "stream",
     "text": [
      "\n",
      "0: 384x640 5 persons, 1 tennis racket, 849.9ms\n",
      "Speed: 1.9ms preprocess, 849.9ms inference, 0.9ms postprocess per image at shape (1, 3, 384, 640)\n",
      "\n",
      "0: 640x1088 1 ball, 397.3ms\n",
      "Speed: 5.5ms preprocess, 397.3ms inference, 1.1ms postprocess per image at shape (1, 3, 640, 1088)\n"
     ]
    },
    {
     "name": "stderr",
     "output_type": "stream",
     "text": [
      "Analizando partido (Golpes: 5):  93%|█████████▎| 139/150 [05:49<00:26,  2.45s/frames]"
     ]
    },
    {
     "name": "stdout",
     "output_type": "stream",
     "text": [
      "\n",
      "0: 384x640 5 persons, 1 tennis racket, 842.4ms\n",
      "Speed: 1.8ms preprocess, 842.4ms inference, 0.9ms postprocess per image at shape (1, 3, 384, 640)\n",
      "\n",
      "0: 640x1088 1 ball, 494.4ms\n",
      "Speed: 8.9ms preprocess, 494.4ms inference, 0.9ms postprocess per image at shape (1, 3, 640, 1088)\n"
     ]
    },
    {
     "name": "stderr",
     "output_type": "stream",
     "text": [
      "Analizando partido (Golpes: 5):  93%|█████████▎| 140/150 [05:51<00:25,  2.50s/frames]"
     ]
    },
    {
     "name": "stdout",
     "output_type": "stream",
     "text": [
      "\n",
      "0: 384x640 5 persons, 1 tennis racket, 867.3ms\n",
      "Speed: 1.8ms preprocess, 867.3ms inference, 0.9ms postprocess per image at shape (1, 3, 384, 640)\n",
      "\n",
      "0: 640x1088 1 ball, 455.1ms\n",
      "Speed: 6.4ms preprocess, 455.1ms inference, 1.0ms postprocess per image at shape (1, 3, 640, 1088)\n"
     ]
    },
    {
     "name": "stderr",
     "output_type": "stream",
     "text": [
      "Analizando partido (Golpes: 5):  94%|█████████▍| 141/150 [05:54<00:22,  2.49s/frames]"
     ]
    },
    {
     "name": "stdout",
     "output_type": "stream",
     "text": [
      "\n",
      "0: 384x640 5 persons, 2 tennis rackets, 856.6ms\n",
      "Speed: 2.5ms preprocess, 856.6ms inference, 0.9ms postprocess per image at shape (1, 3, 384, 640)\n",
      "\n",
      "0: 640x1088 1 ball, 402.9ms\n",
      "Speed: 6.1ms preprocess, 402.9ms inference, 0.9ms postprocess per image at shape (1, 3, 640, 1088)\n"
     ]
    },
    {
     "name": "stderr",
     "output_type": "stream",
     "text": [
      "Analizando partido (Golpes: 5):  95%|█████████▍| 142/150 [05:56<00:19,  2.49s/frames]"
     ]
    },
    {
     "name": "stdout",
     "output_type": "stream",
     "text": [
      "\n",
      "0: 384x640 5 persons, 1 car, 1 tennis racket, 914.6ms\n",
      "Speed: 1.9ms preprocess, 914.6ms inference, 1.0ms postprocess per image at shape (1, 3, 384, 640)\n",
      "\n",
      "0: 640x1088 1 ball, 402.1ms\n",
      "Speed: 6.0ms preprocess, 402.1ms inference, 1.0ms postprocess per image at shape (1, 3, 640, 1088)\n"
     ]
    },
    {
     "name": "stderr",
     "output_type": "stream",
     "text": [
      "Analizando partido (Golpes: 5):  95%|█████████▌| 143/150 [05:59<00:17,  2.52s/frames]"
     ]
    },
    {
     "name": "stdout",
     "output_type": "stream",
     "text": [
      "\n",
      "0: 384x640 5 persons, 1 car, 2 tennis rackets, 862.8ms\n",
      "Speed: 1.8ms preprocess, 862.8ms inference, 0.9ms postprocess per image at shape (1, 3, 384, 640)\n",
      "\n",
      "0: 640x1088 (no detections), 403.8ms\n",
      "Speed: 6.0ms preprocess, 403.8ms inference, 0.6ms postprocess per image at shape (1, 3, 640, 1088)\n"
     ]
    },
    {
     "name": "stderr",
     "output_type": "stream",
     "text": [
      "Analizando partido (Golpes: 5):  96%|█████████▌| 144/150 [06:01<00:14,  2.50s/frames]"
     ]
    },
    {
     "name": "stdout",
     "output_type": "stream",
     "text": [
      "\n",
      "0: 384x640 5 persons, 1 car, 1 tennis racket, 854.8ms\n",
      "Speed: 1.8ms preprocess, 854.8ms inference, 0.9ms postprocess per image at shape (1, 3, 384, 640)\n",
      "\n",
      "0: 640x1088 1 ball, 400.6ms\n",
      "Speed: 6.4ms preprocess, 400.6ms inference, 0.9ms postprocess per image at shape (1, 3, 640, 1088)\n"
     ]
    },
    {
     "name": "stderr",
     "output_type": "stream",
     "text": [
      "Analizando partido (Golpes: 5):  97%|█████████▋| 145/150 [06:04<00:12,  2.46s/frames]"
     ]
    },
    {
     "name": "stdout",
     "output_type": "stream",
     "text": [
      "\n",
      "0: 384x640 5 persons, 1 car, 1 tennis racket, 852.5ms\n",
      "Speed: 2.0ms preprocess, 852.5ms inference, 1.0ms postprocess per image at shape (1, 3, 384, 640)\n",
      "\n",
      "0: 640x1088 1 ball, 403.4ms\n",
      "Speed: 6.0ms preprocess, 403.4ms inference, 1.0ms postprocess per image at shape (1, 3, 640, 1088)\n"
     ]
    },
    {
     "name": "stderr",
     "output_type": "stream",
     "text": [
      "Analizando partido (Golpes: 5):  97%|█████████▋| 146/150 [06:06<00:09,  2.46s/frames]"
     ]
    },
    {
     "name": "stdout",
     "output_type": "stream",
     "text": [
      "\n",
      "0: 384x640 6 persons, 1 car, 1 tennis racket, 932.4ms\n",
      "Speed: 2.4ms preprocess, 932.4ms inference, 0.9ms postprocess per image at shape (1, 3, 384, 640)\n",
      "\n",
      "0: 640x1088 (no detections), 460.8ms\n",
      "Speed: 6.0ms preprocess, 460.8ms inference, 0.6ms postprocess per image at shape (1, 3, 640, 1088)\n"
     ]
    },
    {
     "name": "stderr",
     "output_type": "stream",
     "text": [
      "Analizando partido (Golpes: 5):  98%|█████████▊| 147/150 [06:09<00:07,  2.52s/frames]"
     ]
    },
    {
     "name": "stdout",
     "output_type": "stream",
     "text": [
      "\n",
      "0: 384x640 6 persons, 1 car, 1 tennis racket, 849.6ms\n",
      "Speed: 2.1ms preprocess, 849.6ms inference, 1.0ms postprocess per image at shape (1, 3, 384, 640)\n",
      "\n",
      "0: 640x1088 2 balls, 391.0ms\n",
      "Speed: 6.0ms preprocess, 391.0ms inference, 0.9ms postprocess per image at shape (1, 3, 640, 1088)\n"
     ]
    },
    {
     "name": "stderr",
     "output_type": "stream",
     "text": [
      "Analizando partido (Golpes: 6):  99%|█████████▊| 148/150 [06:11<00:04,  2.48s/frames]"
     ]
    },
    {
     "name": "stdout",
     "output_type": "stream",
     "text": [
      "\n",
      "0: 384x640 6 persons, 1 car, 1 tennis racket, 866.7ms\n",
      "Speed: 2.2ms preprocess, 866.7ms inference, 1.1ms postprocess per image at shape (1, 3, 384, 640)\n",
      "\n",
      "0: 640x1088 2 balls, 484.3ms\n",
      "Speed: 5.8ms preprocess, 484.3ms inference, 1.0ms postprocess per image at shape (1, 3, 640, 1088)\n"
     ]
    },
    {
     "name": "stderr",
     "output_type": "stream",
     "text": [
      "Analizando partido (Golpes: 6):  99%|█████████▉| 149/150 [06:14<00:02,  2.48s/frames]"
     ]
    },
    {
     "name": "stdout",
     "output_type": "stream",
     "text": [
      "\n",
      "0: 384x640 6 persons, 1 car, 2 tennis rackets, 913.9ms\n",
      "Speed: 2.1ms preprocess, 913.9ms inference, 1.1ms postprocess per image at shape (1, 3, 384, 640)\n",
      "\n",
      "0: 640x1088 2 balls, 399.8ms\n",
      "Speed: 5.7ms preprocess, 399.8ms inference, 0.9ms postprocess per image at shape (1, 3, 640, 1088)\n"
     ]
    },
    {
     "name": "stderr",
     "output_type": "stream",
     "text": [
      "Analizando partido (Golpes: 6): 100%|██████████| 150/150 [06:16<00:00,  2.51s/frames]"
     ]
    },
    {
     "name": "stdout",
     "output_type": "stream",
     "text": [
      "\n",
      "==================================================\n",
      "ESTADÍSTICAS DEL PARTIDO\n",
      "==================================================\n",
      "Total de golpes detectados: 6\n",
      "Duración del video: 5.00 segundos\n",
      "FPS: 30.00\n",
      "Total de frames: 150\n",
      "\n",
      "Golpes por jugador:\n",
      "  Jugador 0: 1 golpes\n",
      "  Jugador 2: 1 golpes\n",
      "  Jugador 1: 2 golpes\n",
      "  Jugador 3: 2 golpes\n",
      "==================================================\n"
     ]
    },
    {
     "name": "stderr",
     "output_type": "stream",
     "text": [
      "\n"
     ]
    },
    {
     "data": {
      "text/plain": [
       "MatchStatistics(total_hits=6, hits_per_player={'0': 1, '2': 1, '1': 2, '3': 2}, total_frames=150, video_duration=5.0, fps=30.0)"
      ]
     },
     "execution_count": 3,
     "metadata": {},
     "output_type": "execute_result"
    }
   ],
   "source": [
    "match_processor = PadelMatchProcessor()\n",
    "match_processor.process_video(\"data/video_cortado_5s.mp4\")"
   ]
  },
  {
   "cell_type": "markdown",
   "id": "aa50839e",
   "metadata": {},
   "source": [
    "El jugador 0 dio 1 golpe\n",
    "el jugador 1 dio 2 golpes\n",
    "el jugador 2 dio 1 golpe\n",
    "el jugador 3 dio 2 golpe"
   ]
  },
  {
   "cell_type": "code",
   "execution_count": 4,
   "id": "3a481d1f",
   "metadata": {},
   "outputs": [
    {
     "name": "stderr",
     "output_type": "stream",
     "text": [
      "Analizando partido:   0%|          | 0/300 [00:00<?, ?frames/s]"
     ]
    },
    {
     "name": "stdout",
     "output_type": "stream",
     "text": [
      "\n",
      "0: 384x640 5 persons, 1 car, 2 tvs, 1198.9ms\n",
      "Speed: 4.1ms preprocess, 1198.9ms inference, 0.9ms postprocess per image at shape (1, 3, 384, 640)\n",
      "\n",
      "0: 640x1088 (no detections), 496.9ms\n",
      "Speed: 7.1ms preprocess, 496.9ms inference, 0.7ms postprocess per image at shape (1, 3, 640, 1088)\n"
     ]
    },
    {
     "name": "stderr",
     "output_type": "stream",
     "text": [
      "Analizando partido:   0%|          | 1/300 [00:03<15:39,  3.14s/frames]"
     ]
    },
    {
     "name": "stdout",
     "output_type": "stream",
     "text": [
      "\n",
      "0: 384x640 5 persons, 1 car, 2 tvs, 1042.3ms\n",
      "Speed: 1.7ms preprocess, 1042.3ms inference, 1.0ms postprocess per image at shape (1, 3, 384, 640)\n",
      "\n",
      "0: 640x1088 (no detections), 436.6ms\n",
      "Speed: 7.1ms preprocess, 436.6ms inference, 0.7ms postprocess per image at shape (1, 3, 640, 1088)\n"
     ]
    },
    {
     "name": "stderr",
     "output_type": "stream",
     "text": [
      "Analizando partido:   1%|          | 2/300 [00:05<14:41,  2.96s/frames]"
     ]
    },
    {
     "name": "stdout",
     "output_type": "stream",
     "text": [
      "\n",
      "0: 384x640 5 persons, 2 tvs, 949.7ms\n",
      "Speed: 2.3ms preprocess, 949.7ms inference, 0.9ms postprocess per image at shape (1, 3, 384, 640)\n",
      "\n",
      "0: 640x1088 (no detections), 455.4ms\n",
      "Speed: 6.1ms preprocess, 455.4ms inference, 2.4ms postprocess per image at shape (1, 3, 640, 1088)\n"
     ]
    },
    {
     "name": "stderr",
     "output_type": "stream",
     "text": [
      "Analizando partido:   1%|          | 3/300 [00:08<13:53,  2.81s/frames]"
     ]
    },
    {
     "name": "stdout",
     "output_type": "stream",
     "text": [
      "\n",
      "0: 384x640 5 persons, 2 tvs, 1243.8ms\n",
      "Speed: 2.5ms preprocess, 1243.8ms inference, 1.0ms postprocess per image at shape (1, 3, 384, 640)\n",
      "\n",
      "0: 640x1088 (no detections), 456.2ms\n",
      "Speed: 6.8ms preprocess, 456.2ms inference, 0.6ms postprocess per image at shape (1, 3, 640, 1088)\n"
     ]
    },
    {
     "name": "stderr",
     "output_type": "stream",
     "text": [
      "Analizando partido:   1%|▏         | 4/300 [00:11<14:34,  2.96s/frames]"
     ]
    },
    {
     "name": "stdout",
     "output_type": "stream",
     "text": [
      "\n",
      "0: 384x640 5 persons, 2 tvs, 1142.4ms\n",
      "Speed: 2.5ms preprocess, 1142.4ms inference, 1.9ms postprocess per image at shape (1, 3, 384, 640)\n",
      "\n",
      "0: 640x1088 (no detections), 555.8ms\n",
      "Speed: 7.8ms preprocess, 555.8ms inference, 1.1ms postprocess per image at shape (1, 3, 640, 1088)\n"
     ]
    },
    {
     "name": "stderr",
     "output_type": "stream",
     "text": [
      "Analizando partido:   2%|▏         | 5/300 [00:14<14:45,  3.00s/frames]"
     ]
    },
    {
     "name": "stdout",
     "output_type": "stream",
     "text": [
      "\n",
      "0: 384x640 6 persons, 1 car, 2 tvs, 1181.9ms\n",
      "Speed: 2.0ms preprocess, 1181.9ms inference, 0.9ms postprocess per image at shape (1, 3, 384, 640)\n",
      "\n",
      "0: 640x1088 (no detections), 581.1ms\n",
      "Speed: 5.7ms preprocess, 581.1ms inference, 0.6ms postprocess per image at shape (1, 3, 640, 1088)\n"
     ]
    },
    {
     "name": "stderr",
     "output_type": "stream",
     "text": [
      "Analizando partido:   2%|▏         | 6/300 [00:17<14:47,  3.02s/frames]"
     ]
    },
    {
     "name": "stdout",
     "output_type": "stream",
     "text": [
      "\n",
      "0: 384x640 5 persons, 2 tvs, 1051.8ms\n",
      "Speed: 2.8ms preprocess, 1051.8ms inference, 1.6ms postprocess per image at shape (1, 3, 384, 640)\n",
      "\n",
      "0: 640x1088 (no detections), 510.1ms\n",
      "Speed: 6.7ms preprocess, 510.1ms inference, 1.0ms postprocess per image at shape (1, 3, 640, 1088)\n"
     ]
    },
    {
     "name": "stderr",
     "output_type": "stream",
     "text": [
      "Analizando partido:   2%|▏         | 7/300 [00:21<15:16,  3.13s/frames]"
     ]
    },
    {
     "name": "stdout",
     "output_type": "stream",
     "text": [
      "\n",
      "0: 384x640 5 persons, 2 tvs, 994.5ms\n",
      "Speed: 2.1ms preprocess, 994.5ms inference, 1.1ms postprocess per image at shape (1, 3, 384, 640)\n",
      "\n",
      "0: 640x1088 (no detections), 457.6ms\n",
      "Speed: 6.2ms preprocess, 457.6ms inference, 1.0ms postprocess per image at shape (1, 3, 640, 1088)\n"
     ]
    },
    {
     "name": "stderr",
     "output_type": "stream",
     "text": [
      "Analizando partido:   3%|▎         | 8/300 [00:24<14:45,  3.03s/frames]"
     ]
    },
    {
     "name": "stdout",
     "output_type": "stream",
     "text": [
      "\n",
      "0: 384x640 5 persons, 1 tennis racket, 2 tvs, 1120.8ms\n",
      "Speed: 1.7ms preprocess, 1120.8ms inference, 1.3ms postprocess per image at shape (1, 3, 384, 640)\n",
      "\n",
      "0: 640x1088 (no detections), 759.4ms\n",
      "Speed: 6.5ms preprocess, 759.4ms inference, 0.6ms postprocess per image at shape (1, 3, 640, 1088)\n"
     ]
    },
    {
     "name": "stderr",
     "output_type": "stream",
     "text": [
      "Analizando partido:   3%|▎         | 9/300 [00:27<15:00,  3.09s/frames]"
     ]
    },
    {
     "name": "stdout",
     "output_type": "stream",
     "text": [
      "\n",
      "0: 384x640 5 persons, 2 tvs, 1089.0ms\n",
      "Speed: 1.8ms preprocess, 1089.0ms inference, 1.0ms postprocess per image at shape (1, 3, 384, 640)\n",
      "\n",
      "0: 640x1088 (no detections), 533.6ms\n",
      "Speed: 6.8ms preprocess, 533.6ms inference, 0.7ms postprocess per image at shape (1, 3, 640, 1088)\n"
     ]
    },
    {
     "name": "stderr",
     "output_type": "stream",
     "text": [
      "Analizando partido:   3%|▎         | 10/300 [00:30<14:54,  3.09s/frames]"
     ]
    },
    {
     "name": "stdout",
     "output_type": "stream",
     "text": [
      "\n",
      "0: 384x640 5 persons, 2 tvs, 1055.2ms\n",
      "Speed: 1.9ms preprocess, 1055.2ms inference, 2.8ms postprocess per image at shape (1, 3, 384, 640)\n",
      "\n",
      "0: 640x1088 1 ball, 657.6ms\n",
      "Speed: 9.0ms preprocess, 657.6ms inference, 0.9ms postprocess per image at shape (1, 3, 640, 1088)\n"
     ]
    },
    {
     "name": "stderr",
     "output_type": "stream",
     "text": [
      "Analizando partido:   4%|▎         | 11/300 [00:33<15:16,  3.17s/frames]"
     ]
    },
    {
     "name": "stdout",
     "output_type": "stream",
     "text": [
      "\n",
      "0: 384x640 5 persons, 1 car, 2 tvs, 1179.8ms\n",
      "Speed: 1.7ms preprocess, 1179.8ms inference, 0.9ms postprocess per image at shape (1, 3, 384, 640)\n",
      "\n",
      "0: 640x1088 1 ball, 428.7ms\n",
      "Speed: 6.2ms preprocess, 428.7ms inference, 1.0ms postprocess per image at shape (1, 3, 640, 1088)\n"
     ]
    },
    {
     "name": "stderr",
     "output_type": "stream",
     "text": [
      "Analizando partido:   4%|▍         | 12/300 [00:36<14:51,  3.10s/frames]"
     ]
    },
    {
     "name": "stdout",
     "output_type": "stream",
     "text": [
      "\n",
      "0: 384x640 5 persons, 2 tvs, 1149.7ms\n",
      "Speed: 2.3ms preprocess, 1149.7ms inference, 0.9ms postprocess per image at shape (1, 3, 384, 640)\n",
      "\n",
      "0: 640x1088 1 ball, 462.1ms\n",
      "Speed: 5.6ms preprocess, 462.1ms inference, 0.9ms postprocess per image at shape (1, 3, 640, 1088)\n"
     ]
    },
    {
     "name": "stderr",
     "output_type": "stream",
     "text": [
      "Analizando partido:   4%|▍         | 13/300 [00:39<14:29,  3.03s/frames]"
     ]
    },
    {
     "name": "stdout",
     "output_type": "stream",
     "text": [
      "\n",
      "0: 384x640 5 persons, 1 car, 2 tvs, 914.7ms\n",
      "Speed: 1.8ms preprocess, 914.7ms inference, 2.2ms postprocess per image at shape (1, 3, 384, 640)\n",
      "\n",
      "0: 640x1088 1 ball, 438.3ms\n",
      "Speed: 6.9ms preprocess, 438.3ms inference, 1.0ms postprocess per image at shape (1, 3, 640, 1088)\n"
     ]
    },
    {
     "name": "stderr",
     "output_type": "stream",
     "text": [
      "Analizando partido:   5%|▍         | 14/300 [00:42<14:31,  3.05s/frames]"
     ]
    },
    {
     "name": "stdout",
     "output_type": "stream",
     "text": [
      "\n",
      "0: 384x640 5 persons, 1 car, 1 tennis racket, 2 tvs, 1048.3ms\n",
      "Speed: 2.7ms preprocess, 1048.3ms inference, 0.9ms postprocess per image at shape (1, 3, 384, 640)\n",
      "\n",
      "0: 640x1088 (no detections), 432.9ms\n",
      "Speed: 6.7ms preprocess, 432.9ms inference, 0.6ms postprocess per image at shape (1, 3, 640, 1088)\n"
     ]
    },
    {
     "name": "stderr",
     "output_type": "stream",
     "text": [
      "Analizando partido:   5%|▌         | 15/300 [00:45<14:21,  3.02s/frames]"
     ]
    },
    {
     "name": "stdout",
     "output_type": "stream",
     "text": [
      "\n",
      "0: 384x640 5 persons, 1 car, 1 tennis racket, 2 tvs, 1129.2ms\n",
      "Speed: 1.9ms preprocess, 1129.2ms inference, 1.8ms postprocess per image at shape (1, 3, 384, 640)\n",
      "\n",
      "0: 640x1088 (no detections), 490.5ms\n",
      "Speed: 6.5ms preprocess, 490.5ms inference, 0.6ms postprocess per image at shape (1, 3, 640, 1088)\n"
     ]
    },
    {
     "name": "stderr",
     "output_type": "stream",
     "text": [
      "Analizando partido:   5%|▌         | 16/300 [00:48<14:13,  3.01s/frames]"
     ]
    },
    {
     "name": "stdout",
     "output_type": "stream",
     "text": [
      "\n",
      "0: 384x640 5 persons, 2 tvs, 985.7ms\n",
      "Speed: 1.6ms preprocess, 985.7ms inference, 1.0ms postprocess per image at shape (1, 3, 384, 640)\n",
      "\n",
      "0: 640x1088 (no detections), 416.5ms\n",
      "Speed: 7.3ms preprocess, 416.5ms inference, 0.6ms postprocess per image at shape (1, 3, 640, 1088)\n"
     ]
    },
    {
     "name": "stderr",
     "output_type": "stream",
     "text": [
      "Analizando partido:   6%|▌         | 17/300 [00:51<13:51,  2.94s/frames]"
     ]
    },
    {
     "name": "stdout",
     "output_type": "stream",
     "text": [
      "\n",
      "0: 384x640 5 persons, 1 car, 2 tvs, 1011.6ms\n",
      "Speed: 7.3ms preprocess, 1011.6ms inference, 1.0ms postprocess per image at shape (1, 3, 384, 640)\n",
      "\n",
      "0: 640x1088 (no detections), 573.5ms\n",
      "Speed: 6.4ms preprocess, 573.5ms inference, 1.4ms postprocess per image at shape (1, 3, 640, 1088)\n"
     ]
    },
    {
     "name": "stderr",
     "output_type": "stream",
     "text": [
      "Analizando partido:   6%|▌         | 18/300 [00:54<14:02,  2.99s/frames]"
     ]
    },
    {
     "name": "stdout",
     "output_type": "stream",
     "text": [
      "\n",
      "0: 384x640 5 persons, 1 car, 1 tennis racket, 2 tvs, 1172.5ms\n",
      "Speed: 2.0ms preprocess, 1172.5ms inference, 1.1ms postprocess per image at shape (1, 3, 384, 640)\n",
      "\n",
      "0: 640x1088 (no detections), 475.2ms\n",
      "Speed: 6.6ms preprocess, 475.2ms inference, 0.7ms postprocess per image at shape (1, 3, 640, 1088)\n"
     ]
    },
    {
     "name": "stderr",
     "output_type": "stream",
     "text": [
      "Analizando partido:   6%|▋         | 19/300 [00:57<13:53,  2.97s/frames]"
     ]
    },
    {
     "name": "stdout",
     "output_type": "stream",
     "text": [
      "\n",
      "0: 384x640 5 persons, 1 car, 2 tennis rackets, 2 tvs, 1000.1ms\n",
      "Speed: 4.1ms preprocess, 1000.1ms inference, 1.0ms postprocess per image at shape (1, 3, 384, 640)\n",
      "\n",
      "0: 640x1088 (no detections), 461.2ms\n",
      "Speed: 6.9ms preprocess, 461.2ms inference, 0.6ms postprocess per image at shape (1, 3, 640, 1088)\n"
     ]
    },
    {
     "name": "stderr",
     "output_type": "stream",
     "text": [
      "Analizando partido:   7%|▋         | 20/300 [01:00<13:31,  2.90s/frames]"
     ]
    },
    {
     "name": "stdout",
     "output_type": "stream",
     "text": [
      "\n",
      "0: 384x640 5 persons, 1 car, 1 tennis racket, 973.3ms\n",
      "Speed: 4.9ms preprocess, 973.3ms inference, 1.2ms postprocess per image at shape (1, 3, 384, 640)\n",
      "\n",
      "0: 640x1088 1 ball, 576.0ms\n",
      "Speed: 6.2ms preprocess, 576.0ms inference, 1.0ms postprocess per image at shape (1, 3, 640, 1088)\n"
     ]
    },
    {
     "name": "stderr",
     "output_type": "stream",
     "text": [
      "Analizando partido:   7%|▋         | 21/300 [01:03<13:32,  2.91s/frames]"
     ]
    },
    {
     "name": "stdout",
     "output_type": "stream",
     "text": [
      "\n",
      "0: 384x640 5 persons, 2 tennis rackets, 1012.9ms\n",
      "Speed: 2.5ms preprocess, 1012.9ms inference, 0.9ms postprocess per image at shape (1, 3, 384, 640)\n",
      "\n",
      "0: 640x1088 1 ball, 499.4ms\n",
      "Speed: 6.2ms preprocess, 499.4ms inference, 1.1ms postprocess per image at shape (1, 3, 640, 1088)\n"
     ]
    },
    {
     "name": "stderr",
     "output_type": "stream",
     "text": [
      "Analizando partido:   7%|▋         | 22/300 [01:06<13:32,  2.92s/frames]"
     ]
    },
    {
     "name": "stdout",
     "output_type": "stream",
     "text": [
      "\n",
      "0: 384x640 5 persons, 1 car, 2 tennis rackets, 989.6ms\n",
      "Speed: 1.7ms preprocess, 989.6ms inference, 1.0ms postprocess per image at shape (1, 3, 384, 640)\n",
      "\n",
      "0: 640x1088 1 ball, 591.2ms\n",
      "Speed: 11.4ms preprocess, 591.2ms inference, 1.0ms postprocess per image at shape (1, 3, 640, 1088)\n"
     ]
    },
    {
     "name": "stderr",
     "output_type": "stream",
     "text": [
      "Analizando partido:   8%|▊         | 23/300 [01:09<13:45,  2.98s/frames]"
     ]
    },
    {
     "name": "stdout",
     "output_type": "stream",
     "text": [
      "\n",
      "0: 384x640 5 persons, 1 car, 2 tennis rackets, 1038.5ms\n",
      "Speed: 1.7ms preprocess, 1038.5ms inference, 1.8ms postprocess per image at shape (1, 3, 384, 640)\n",
      "\n",
      "0: 640x1088 1 ball, 437.2ms\n",
      "Speed: 6.2ms preprocess, 437.2ms inference, 1.0ms postprocess per image at shape (1, 3, 640, 1088)\n"
     ]
    },
    {
     "name": "stderr",
     "output_type": "stream",
     "text": [
      "Analizando partido:   8%|▊         | 24/300 [01:11<13:21,  2.90s/frames]"
     ]
    },
    {
     "name": "stdout",
     "output_type": "stream",
     "text": [
      "\n",
      "0: 384x640 5 persons, 1 car, 2 tennis rackets, 967.9ms\n",
      "Speed: 1.9ms preprocess, 967.9ms inference, 0.9ms postprocess per image at shape (1, 3, 384, 640)\n",
      "\n",
      "0: 640x1088 (no detections), 533.2ms\n",
      "Speed: 6.9ms preprocess, 533.2ms inference, 0.7ms postprocess per image at shape (1, 3, 640, 1088)\n"
     ]
    },
    {
     "name": "stderr",
     "output_type": "stream",
     "text": [
      "Analizando partido:   8%|▊         | 25/300 [01:14<13:15,  2.89s/frames]"
     ]
    },
    {
     "name": "stdout",
     "output_type": "stream",
     "text": [
      "\n",
      "0: 384x640 5 persons, 1 car, 3 tennis rackets, 951.2ms\n",
      "Speed: 2.1ms preprocess, 951.2ms inference, 0.9ms postprocess per image at shape (1, 3, 384, 640)\n",
      "\n",
      "0: 640x1088 1 ball, 473.1ms\n",
      "Speed: 21.4ms preprocess, 473.1ms inference, 0.9ms postprocess per image at shape (1, 3, 640, 1088)\n"
     ]
    },
    {
     "name": "stderr",
     "output_type": "stream",
     "text": [
      "Analizando partido:   9%|▊         | 26/300 [01:17<13:02,  2.86s/frames]"
     ]
    },
    {
     "name": "stdout",
     "output_type": "stream",
     "text": [
      "\n",
      "0: 384x640 5 persons, 1 car, 3 tennis rackets, 981.9ms\n",
      "Speed: 2.2ms preprocess, 981.9ms inference, 0.9ms postprocess per image at shape (1, 3, 384, 640)\n",
      "\n",
      "0: 640x1088 (no detections), 441.3ms\n",
      "Speed: 7.2ms preprocess, 441.3ms inference, 0.6ms postprocess per image at shape (1, 3, 640, 1088)\n"
     ]
    },
    {
     "name": "stderr",
     "output_type": "stream",
     "text": [
      "Analizando partido:   9%|▉         | 27/300 [01:20<12:45,  2.80s/frames]"
     ]
    },
    {
     "name": "stdout",
     "output_type": "stream",
     "text": [
      "\n",
      "0: 384x640 5 persons, 1 car, 1072.7ms\n",
      "Speed: 2.2ms preprocess, 1072.7ms inference, 1.0ms postprocess per image at shape (1, 3, 384, 640)\n",
      "\n",
      "0: 640x1088 (no detections), 464.0ms\n",
      "Speed: 6.4ms preprocess, 464.0ms inference, 0.6ms postprocess per image at shape (1, 3, 640, 1088)\n"
     ]
    },
    {
     "name": "stderr",
     "output_type": "stream",
     "text": [
      "Analizando partido:   9%|▉         | 28/300 [01:23<13:11,  2.91s/frames]"
     ]
    },
    {
     "name": "stdout",
     "output_type": "stream",
     "text": [
      "\n",
      "0: 384x640 5 persons, 1 car, 1154.6ms\n",
      "Speed: 1.8ms preprocess, 1154.6ms inference, 1.0ms postprocess per image at shape (1, 3, 384, 640)\n",
      "\n",
      "0: 640x1088 (no detections), 534.2ms\n",
      "Speed: 6.2ms preprocess, 534.2ms inference, 0.6ms postprocess per image at shape (1, 3, 640, 1088)\n"
     ]
    },
    {
     "name": "stderr",
     "output_type": "stream",
     "text": [
      "Analizando partido:  10%|▉         | 29/300 [01:26<13:10,  2.92s/frames]"
     ]
    },
    {
     "name": "stdout",
     "output_type": "stream",
     "text": [
      "\n",
      "0: 384x640 5 persons, 1 car, 1 tennis racket, 921.9ms\n",
      "Speed: 1.7ms preprocess, 921.9ms inference, 1.0ms postprocess per image at shape (1, 3, 384, 640)\n",
      "\n",
      "0: 640x1088 1 ball, 431.7ms\n",
      "Speed: 6.1ms preprocess, 431.7ms inference, 0.9ms postprocess per image at shape (1, 3, 640, 1088)\n"
     ]
    },
    {
     "name": "stderr",
     "output_type": "stream",
     "text": [
      "Analizando partido (Golpes: 1):  10%|█         | 30/300 [01:28<12:37,  2.81s/frames]"
     ]
    },
    {
     "name": "stdout",
     "output_type": "stream",
     "text": [
      "\n",
      "0: 384x640 5 persons, 1 car, 918.5ms\n",
      "Speed: 1.8ms preprocess, 918.5ms inference, 1.2ms postprocess per image at shape (1, 3, 384, 640)\n",
      "\n",
      "0: 640x1088 (no detections), 413.8ms\n",
      "Speed: 7.2ms preprocess, 413.8ms inference, 0.7ms postprocess per image at shape (1, 3, 640, 1088)\n"
     ]
    },
    {
     "name": "stderr",
     "output_type": "stream",
     "text": [
      "Analizando partido (Golpes: 1):  10%|█         | 31/300 [01:31<12:21,  2.76s/frames]"
     ]
    },
    {
     "name": "stdout",
     "output_type": "stream",
     "text": [
      "\n",
      "0: 384x640 5 persons, 1 car, 1 tennis racket, 906.8ms\n",
      "Speed: 1.8ms preprocess, 906.8ms inference, 0.9ms postprocess per image at shape (1, 3, 384, 640)\n",
      "\n",
      "0: 640x1088 1 ball, 425.8ms\n",
      "Speed: 6.7ms preprocess, 425.8ms inference, 0.9ms postprocess per image at shape (1, 3, 640, 1088)\n"
     ]
    },
    {
     "name": "stderr",
     "output_type": "stream",
     "text": [
      "Analizando partido (Golpes: 1):  11%|█         | 32/300 [01:34<12:15,  2.74s/frames]"
     ]
    },
    {
     "name": "stdout",
     "output_type": "stream",
     "text": [
      "\n",
      "0: 384x640 5 persons, 1 car, 1 tennis racket, 924.0ms\n",
      "Speed: 2.1ms preprocess, 924.0ms inference, 0.9ms postprocess per image at shape (1, 3, 384, 640)\n",
      "\n",
      "0: 640x1088 1 ball, 428.3ms\n",
      "Speed: 6.6ms preprocess, 428.3ms inference, 1.0ms postprocess per image at shape (1, 3, 640, 1088)\n"
     ]
    },
    {
     "name": "stderr",
     "output_type": "stream",
     "text": [
      "Analizando partido (Golpes: 1):  11%|█         | 33/300 [01:36<11:56,  2.68s/frames]"
     ]
    },
    {
     "name": "stdout",
     "output_type": "stream",
     "text": [
      "\n",
      "0: 384x640 4 persons, 1 car, 1 tennis racket, 918.4ms\n",
      "Speed: 1.8ms preprocess, 918.4ms inference, 1.1ms postprocess per image at shape (1, 3, 384, 640)\n",
      "\n",
      "0: 640x1088 1 ball, 445.8ms\n",
      "Speed: 6.2ms preprocess, 445.8ms inference, 1.2ms postprocess per image at shape (1, 3, 640, 1088)\n"
     ]
    },
    {
     "name": "stderr",
     "output_type": "stream",
     "text": [
      "Analizando partido (Golpes: 1):  11%|█▏        | 34/300 [01:39<11:58,  2.70s/frames]"
     ]
    },
    {
     "name": "stdout",
     "output_type": "stream",
     "text": [
      "\n",
      "0: 384x640 5 persons, 1 car, 1 tennis racket, 921.8ms\n",
      "Speed: 1.7ms preprocess, 921.8ms inference, 1.1ms postprocess per image at shape (1, 3, 384, 640)\n",
      "\n",
      "0: 640x1088 (no detections), 577.8ms\n",
      "Speed: 6.9ms preprocess, 577.8ms inference, 0.6ms postprocess per image at shape (1, 3, 640, 1088)\n"
     ]
    },
    {
     "name": "stderr",
     "output_type": "stream",
     "text": [
      "Analizando partido (Golpes: 1):  12%|█▏        | 35/300 [01:42<12:05,  2.74s/frames]"
     ]
    },
    {
     "name": "stdout",
     "output_type": "stream",
     "text": [
      "\n",
      "0: 384x640 5 persons, 1 tennis racket, 973.3ms\n",
      "Speed: 1.8ms preprocess, 973.3ms inference, 8.1ms postprocess per image at shape (1, 3, 384, 640)\n",
      "\n",
      "0: 640x1088 (no detections), 429.5ms\n",
      "Speed: 6.6ms preprocess, 429.5ms inference, 0.6ms postprocess per image at shape (1, 3, 640, 1088)\n"
     ]
    },
    {
     "name": "stderr",
     "output_type": "stream",
     "text": [
      "Analizando partido (Golpes: 1):  12%|█▏        | 36/300 [01:44<11:51,  2.69s/frames]"
     ]
    },
    {
     "name": "stdout",
     "output_type": "stream",
     "text": [
      "\n",
      "0: 384x640 5 persons, 1 sports ball, 1 tennis racket, 960.4ms\n",
      "Speed: 1.9ms preprocess, 960.4ms inference, 1.0ms postprocess per image at shape (1, 3, 384, 640)\n",
      "\n",
      "0: 640x1088 (no detections), 463.8ms\n",
      "Speed: 11.6ms preprocess, 463.8ms inference, 0.6ms postprocess per image at shape (1, 3, 640, 1088)\n"
     ]
    },
    {
     "name": "stderr",
     "output_type": "stream",
     "text": [
      "Analizando partido (Golpes: 1):  12%|█▏        | 37/300 [01:47<11:44,  2.68s/frames]"
     ]
    },
    {
     "name": "stdout",
     "output_type": "stream",
     "text": [
      "\n",
      "0: 384x640 5 persons, 939.8ms\n",
      "Speed: 2.5ms preprocess, 939.8ms inference, 0.9ms postprocess per image at shape (1, 3, 384, 640)\n",
      "\n",
      "0: 640x1088 (no detections), 406.8ms\n",
      "Speed: 6.6ms preprocess, 406.8ms inference, 0.6ms postprocess per image at shape (1, 3, 640, 1088)\n"
     ]
    },
    {
     "name": "stderr",
     "output_type": "stream",
     "text": [
      "Analizando partido (Golpes: 1):  13%|█▎        | 38/300 [01:50<11:39,  2.67s/frames]"
     ]
    },
    {
     "name": "stdout",
     "output_type": "stream",
     "text": [
      "\n",
      "0: 384x640 5 persons, 1 clock, 1003.8ms\n",
      "Speed: 1.7ms preprocess, 1003.8ms inference, 0.9ms postprocess per image at shape (1, 3, 384, 640)\n",
      "\n",
      "0: 640x1088 (no detections), 416.5ms\n",
      "Speed: 6.6ms preprocess, 416.5ms inference, 0.6ms postprocess per image at shape (1, 3, 640, 1088)\n"
     ]
    },
    {
     "name": "stderr",
     "output_type": "stream",
     "text": [
      "Analizando partido (Golpes: 1):  13%|█▎        | 39/300 [01:52<11:42,  2.69s/frames]"
     ]
    },
    {
     "name": "stdout",
     "output_type": "stream",
     "text": [
      "\n",
      "0: 384x640 5 persons, 1 clock, 983.4ms\n",
      "Speed: 1.8ms preprocess, 983.4ms inference, 1.0ms postprocess per image at shape (1, 3, 384, 640)\n",
      "\n",
      "0: 640x1088 (no detections), 534.5ms\n",
      "Speed: 6.3ms preprocess, 534.5ms inference, 0.6ms postprocess per image at shape (1, 3, 640, 1088)\n"
     ]
    },
    {
     "name": "stderr",
     "output_type": "stream",
     "text": [
      "Analizando partido (Golpes: 1):  13%|█▎        | 40/300 [01:55<11:41,  2.70s/frames]"
     ]
    },
    {
     "name": "stdout",
     "output_type": "stream",
     "text": [
      "\n",
      "0: 384x640 5 persons, 2 tennis rackets, 1 clock, 947.1ms\n",
      "Speed: 18.5ms preprocess, 947.1ms inference, 1.0ms postprocess per image at shape (1, 3, 384, 640)\n",
      "\n",
      "0: 640x1088 (no detections), 412.8ms\n",
      "Speed: 5.8ms preprocess, 412.8ms inference, 0.6ms postprocess per image at shape (1, 3, 640, 1088)\n"
     ]
    },
    {
     "name": "stderr",
     "output_type": "stream",
     "text": [
      "Analizando partido (Golpes: 1):  14%|█▎        | 41/300 [01:58<11:30,  2.67s/frames]"
     ]
    },
    {
     "name": "stdout",
     "output_type": "stream",
     "text": [
      "\n",
      "0: 384x640 5 persons, 1 tennis racket, 1016.6ms\n",
      "Speed: 1.9ms preprocess, 1016.6ms inference, 1.3ms postprocess per image at shape (1, 3, 384, 640)\n",
      "\n",
      "0: 640x1088 (no detections), 440.1ms\n",
      "Speed: 6.7ms preprocess, 440.1ms inference, 0.8ms postprocess per image at shape (1, 3, 640, 1088)\n"
     ]
    },
    {
     "name": "stderr",
     "output_type": "stream",
     "text": [
      "Analizando partido (Golpes: 1):  14%|█▍        | 42/300 [02:01<11:44,  2.73s/frames]"
     ]
    },
    {
     "name": "stdout",
     "output_type": "stream",
     "text": [
      "\n",
      "0: 384x640 5 persons, 1 tennis racket, 939.3ms\n",
      "Speed: 1.8ms preprocess, 939.3ms inference, 1.1ms postprocess per image at shape (1, 3, 384, 640)\n",
      "\n",
      "0: 640x1088 (no detections), 432.8ms\n",
      "Speed: 6.3ms preprocess, 432.8ms inference, 0.6ms postprocess per image at shape (1, 3, 640, 1088)\n"
     ]
    },
    {
     "name": "stderr",
     "output_type": "stream",
     "text": [
      "Analizando partido (Golpes: 1):  14%|█▍        | 43/300 [02:03<11:34,  2.70s/frames]"
     ]
    },
    {
     "name": "stdout",
     "output_type": "stream",
     "text": [
      "\n",
      "0: 384x640 5 persons, 2 tennis rackets, 962.7ms\n",
      "Speed: 1.8ms preprocess, 962.7ms inference, 0.9ms postprocess per image at shape (1, 3, 384, 640)\n",
      "\n",
      "0: 640x1088 (no detections), 426.9ms\n",
      "Speed: 6.2ms preprocess, 426.9ms inference, 0.6ms postprocess per image at shape (1, 3, 640, 1088)\n"
     ]
    },
    {
     "name": "stderr",
     "output_type": "stream",
     "text": [
      "Analizando partido (Golpes: 1):  15%|█▍        | 44/300 [02:06<11:24,  2.67s/frames]"
     ]
    },
    {
     "name": "stdout",
     "output_type": "stream",
     "text": [
      "\n",
      "0: 384x640 5 persons, 1 tennis racket, 1 clock, 987.0ms\n",
      "Speed: 1.8ms preprocess, 987.0ms inference, 2.0ms postprocess per image at shape (1, 3, 384, 640)\n",
      "\n",
      "0: 640x1088 (no detections), 512.9ms\n",
      "Speed: 6.1ms preprocess, 512.9ms inference, 0.6ms postprocess per image at shape (1, 3, 640, 1088)\n"
     ]
    },
    {
     "name": "stderr",
     "output_type": "stream",
     "text": [
      "Analizando partido (Golpes: 1):  15%|█▌        | 45/300 [02:09<11:23,  2.68s/frames]"
     ]
    },
    {
     "name": "stdout",
     "output_type": "stream",
     "text": [
      "\n",
      "0: 384x640 5 persons, 2 tennis rackets, 901.0ms\n",
      "Speed: 5.1ms preprocess, 901.0ms inference, 1.0ms postprocess per image at shape (1, 3, 384, 640)\n",
      "\n",
      "0: 640x1088 (no detections), 431.5ms\n",
      "Speed: 6.0ms preprocess, 431.5ms inference, 0.7ms postprocess per image at shape (1, 3, 640, 1088)\n"
     ]
    },
    {
     "name": "stderr",
     "output_type": "stream",
     "text": [
      "Analizando partido (Golpes: 1):  15%|█▌        | 46/300 [02:11<11:21,  2.68s/frames]"
     ]
    },
    {
     "name": "stdout",
     "output_type": "stream",
     "text": [
      "\n",
      "0: 384x640 5 persons, 2 tennis rackets, 927.7ms\n",
      "Speed: 2.0ms preprocess, 927.7ms inference, 1.1ms postprocess per image at shape (1, 3, 384, 640)\n",
      "\n",
      "0: 640x1088 (no detections), 470.3ms\n",
      "Speed: 6.2ms preprocess, 470.3ms inference, 0.6ms postprocess per image at shape (1, 3, 640, 1088)\n"
     ]
    },
    {
     "name": "stderr",
     "output_type": "stream",
     "text": [
      "Analizando partido (Golpes: 1):  16%|█▌        | 47/300 [02:14<11:17,  2.68s/frames]"
     ]
    },
    {
     "name": "stdout",
     "output_type": "stream",
     "text": [
      "\n",
      "0: 384x640 5 persons, 973.7ms\n",
      "Speed: 1.8ms preprocess, 973.7ms inference, 1.1ms postprocess per image at shape (1, 3, 384, 640)\n",
      "\n",
      "0: 640x1088 1 ball, 431.3ms\n",
      "Speed: 5.9ms preprocess, 431.3ms inference, 1.0ms postprocess per image at shape (1, 3, 640, 1088)\n"
     ]
    },
    {
     "name": "stderr",
     "output_type": "stream",
     "text": [
      "Analizando partido (Golpes: 1):  16%|█▌        | 48/300 [02:16<11:08,  2.65s/frames]"
     ]
    },
    {
     "name": "stdout",
     "output_type": "stream",
     "text": [
      "\n",
      "0: 384x640 5 persons, 1151.9ms\n",
      "Speed: 1.7ms preprocess, 1151.9ms inference, 1.3ms postprocess per image at shape (1, 3, 384, 640)\n",
      "\n",
      "0: 640x1088 1 ball, 510.7ms\n",
      "Speed: 6.2ms preprocess, 510.7ms inference, 0.9ms postprocess per image at shape (1, 3, 640, 1088)\n"
     ]
    },
    {
     "name": "stderr",
     "output_type": "stream",
     "text": [
      "Analizando partido (Golpes: 1):  16%|█▋        | 49/300 [02:20<11:35,  2.77s/frames]"
     ]
    },
    {
     "name": "stdout",
     "output_type": "stream",
     "text": [
      "\n",
      "0: 384x640 5 persons, 1 car, 1 clock, 925.9ms\n",
      "Speed: 1.9ms preprocess, 925.9ms inference, 1.0ms postprocess per image at shape (1, 3, 384, 640)\n",
      "\n",
      "0: 640x1088 1 ball, 418.6ms\n",
      "Speed: 6.5ms preprocess, 418.6ms inference, 1.0ms postprocess per image at shape (1, 3, 640, 1088)\n"
     ]
    },
    {
     "name": "stderr",
     "output_type": "stream",
     "text": [
      "Analizando partido (Golpes: 1):  17%|█▋        | 50/300 [02:22<11:16,  2.71s/frames]"
     ]
    },
    {
     "name": "stdout",
     "output_type": "stream",
     "text": [
      "\n",
      "0: 384x640 5 persons, 1 car, 1 clock, 985.0ms\n",
      "Speed: 1.8ms preprocess, 985.0ms inference, 1.0ms postprocess per image at shape (1, 3, 384, 640)\n",
      "\n",
      "0: 640x1088 (no detections), 439.8ms\n",
      "Speed: 6.7ms preprocess, 439.8ms inference, 0.6ms postprocess per image at shape (1, 3, 640, 1088)\n"
     ]
    },
    {
     "name": "stderr",
     "output_type": "stream",
     "text": [
      "Analizando partido (Golpes: 1):  17%|█▋        | 51/300 [02:25<11:08,  2.69s/frames]"
     ]
    },
    {
     "name": "stdout",
     "output_type": "stream",
     "text": [
      "\n",
      "0: 384x640 5 persons, 1 car, 907.9ms\n",
      "Speed: 2.1ms preprocess, 907.9ms inference, 1.0ms postprocess per image at shape (1, 3, 384, 640)\n",
      "\n",
      "0: 640x1088 1 ball, 441.4ms\n",
      "Speed: 6.5ms preprocess, 441.4ms inference, 1.0ms postprocess per image at shape (1, 3, 640, 1088)\n"
     ]
    },
    {
     "name": "stderr",
     "output_type": "stream",
     "text": [
      "Analizando partido (Golpes: 1):  17%|█▋        | 52/300 [02:27<10:55,  2.64s/frames]"
     ]
    },
    {
     "name": "stdout",
     "output_type": "stream",
     "text": [
      "\n",
      "0: 384x640 5 persons, 1 car, 1037.6ms\n",
      "Speed: 7.3ms preprocess, 1037.6ms inference, 1.5ms postprocess per image at shape (1, 3, 384, 640)\n",
      "\n",
      "0: 640x1088 1 ball, 444.0ms\n",
      "Speed: 6.4ms preprocess, 444.0ms inference, 1.0ms postprocess per image at shape (1, 3, 640, 1088)\n"
     ]
    },
    {
     "name": "stderr",
     "output_type": "stream",
     "text": [
      "Analizando partido (Golpes: 1):  18%|█▊        | 53/300 [02:30<11:13,  2.73s/frames]"
     ]
    },
    {
     "name": "stdout",
     "output_type": "stream",
     "text": [
      "\n",
      "0: 384x640 5 persons, 1 car, 961.5ms\n",
      "Speed: 2.0ms preprocess, 961.5ms inference, 1.0ms postprocess per image at shape (1, 3, 384, 640)\n",
      "\n",
      "0: 640x1088 1 ball, 424.9ms\n",
      "Speed: 6.3ms preprocess, 424.9ms inference, 1.0ms postprocess per image at shape (1, 3, 640, 1088)\n"
     ]
    },
    {
     "name": "stderr",
     "output_type": "stream",
     "text": [
      "Analizando partido (Golpes: 1):  18%|█▊        | 54/300 [02:33<11:02,  2.69s/frames]"
     ]
    },
    {
     "name": "stdout",
     "output_type": "stream",
     "text": [
      "\n",
      "0: 384x640 5 persons, 1 car, 936.6ms\n",
      "Speed: 1.7ms preprocess, 936.6ms inference, 0.9ms postprocess per image at shape (1, 3, 384, 640)\n",
      "\n",
      "0: 640x1088 (no detections), 426.8ms\n",
      "Speed: 6.5ms preprocess, 426.8ms inference, 0.6ms postprocess per image at shape (1, 3, 640, 1088)\n"
     ]
    },
    {
     "name": "stderr",
     "output_type": "stream",
     "text": [
      "Analizando partido (Golpes: 1):  18%|█▊        | 55/300 [02:35<10:54,  2.67s/frames]"
     ]
    },
    {
     "name": "stdout",
     "output_type": "stream",
     "text": [
      "\n",
      "0: 384x640 5 persons, 1 car, 1045.2ms\n",
      "Speed: 1.8ms preprocess, 1045.2ms inference, 0.9ms postprocess per image at shape (1, 3, 384, 640)\n",
      "\n",
      "0: 640x1088 (no detections), 437.2ms\n",
      "Speed: 9.5ms preprocess, 437.2ms inference, 0.7ms postprocess per image at shape (1, 3, 640, 1088)\n"
     ]
    },
    {
     "name": "stderr",
     "output_type": "stream",
     "text": [
      "Analizando partido (Golpes: 1):  19%|█▊        | 56/300 [02:38<11:04,  2.72s/frames]"
     ]
    },
    {
     "name": "stdout",
     "output_type": "stream",
     "text": [
      "\n",
      "0: 384x640 5 persons, 957.0ms\n",
      "Speed: 2.3ms preprocess, 957.0ms inference, 1.0ms postprocess per image at shape (1, 3, 384, 640)\n",
      "\n",
      "0: 640x1088 (no detections), 468.2ms\n",
      "Speed: 7.5ms preprocess, 468.2ms inference, 0.6ms postprocess per image at shape (1, 3, 640, 1088)\n"
     ]
    },
    {
     "name": "stderr",
     "output_type": "stream",
     "text": [
      "Analizando partido (Golpes: 1):  19%|█▉        | 57/300 [02:41<10:54,  2.69s/frames]"
     ]
    },
    {
     "name": "stdout",
     "output_type": "stream",
     "text": [
      "\n",
      "0: 384x640 5 persons, 1 car, 948.5ms\n",
      "Speed: 1.8ms preprocess, 948.5ms inference, 0.9ms postprocess per image at shape (1, 3, 384, 640)\n",
      "\n",
      "0: 640x1088 (no detections), 534.7ms\n",
      "Speed: 7.1ms preprocess, 534.7ms inference, 0.6ms postprocess per image at shape (1, 3, 640, 1088)\n"
     ]
    },
    {
     "name": "stderr",
     "output_type": "stream",
     "text": [
      "Analizando partido (Golpes: 1):  19%|█▉        | 58/300 [02:44<10:49,  2.68s/frames]"
     ]
    },
    {
     "name": "stdout",
     "output_type": "stream",
     "text": [
      "\n",
      "0: 384x640 5 persons, 1 car, 912.6ms\n",
      "Speed: 1.6ms preprocess, 912.6ms inference, 1.8ms postprocess per image at shape (1, 3, 384, 640)\n",
      "\n",
      "0: 640x1088 (no detections), 421.8ms\n",
      "Speed: 7.2ms preprocess, 421.8ms inference, 0.8ms postprocess per image at shape (1, 3, 640, 1088)\n"
     ]
    },
    {
     "name": "stderr",
     "output_type": "stream",
     "text": [
      "Analizando partido (Golpes: 1):  20%|█▉        | 59/300 [02:46<10:38,  2.65s/frames]"
     ]
    },
    {
     "name": "stdout",
     "output_type": "stream",
     "text": [
      "\n",
      "0: 384x640 5 persons, 1 car, 1 tennis racket, 931.8ms\n",
      "Speed: 1.7ms preprocess, 931.8ms inference, 1.0ms postprocess per image at shape (1, 3, 384, 640)\n",
      "\n",
      "0: 640x1088 (no detections), 417.0ms\n",
      "Speed: 6.1ms preprocess, 417.0ms inference, 0.6ms postprocess per image at shape (1, 3, 640, 1088)\n"
     ]
    },
    {
     "name": "stderr",
     "output_type": "stream",
     "text": [
      "Analizando partido (Golpes: 1):  20%|██        | 60/300 [02:49<10:52,  2.72s/frames]"
     ]
    },
    {
     "name": "stdout",
     "output_type": "stream",
     "text": [
      "\n",
      "0: 384x640 5 persons, 1 car, 1 tennis racket, 922.1ms\n",
      "Speed: 1.9ms preprocess, 922.1ms inference, 0.9ms postprocess per image at shape (1, 3, 384, 640)\n",
      "\n",
      "0: 640x1088 (no detections), 420.3ms\n",
      "Speed: 6.4ms preprocess, 420.3ms inference, 0.6ms postprocess per image at shape (1, 3, 640, 1088)\n"
     ]
    },
    {
     "name": "stderr",
     "output_type": "stream",
     "text": [
      "Analizando partido (Golpes: 1):  20%|██        | 61/300 [02:52<10:38,  2.67s/frames]"
     ]
    },
    {
     "name": "stdout",
     "output_type": "stream",
     "text": [
      "\n",
      "0: 384x640 5 persons, 955.7ms\n",
      "Speed: 2.0ms preprocess, 955.7ms inference, 1.1ms postprocess per image at shape (1, 3, 384, 640)\n",
      "\n",
      "0: 640x1088 (no detections), 441.5ms\n",
      "Speed: 6.3ms preprocess, 441.5ms inference, 2.0ms postprocess per image at shape (1, 3, 640, 1088)\n"
     ]
    },
    {
     "name": "stderr",
     "output_type": "stream",
     "text": [
      "Analizando partido (Golpes: 1):  21%|██        | 62/300 [02:54<10:42,  2.70s/frames]"
     ]
    },
    {
     "name": "stdout",
     "output_type": "stream",
     "text": [
      "\n",
      "0: 384x640 5 persons, 1 clock, 913.5ms\n",
      "Speed: 1.7ms preprocess, 913.5ms inference, 1.2ms postprocess per image at shape (1, 3, 384, 640)\n",
      "\n",
      "0: 640x1088 1 ball, 436.6ms\n",
      "Speed: 6.2ms preprocess, 436.6ms inference, 0.9ms postprocess per image at shape (1, 3, 640, 1088)\n"
     ]
    },
    {
     "name": "stderr",
     "output_type": "stream",
     "text": [
      "Analizando partido (Golpes: 1):  21%|██        | 63/300 [02:57<10:39,  2.70s/frames]"
     ]
    },
    {
     "name": "stdout",
     "output_type": "stream",
     "text": [
      "\n",
      "0: 384x640 5 persons, 1 car, 1 clock, 956.7ms\n",
      "Speed: 1.9ms preprocess, 956.7ms inference, 0.9ms postprocess per image at shape (1, 3, 384, 640)\n",
      "\n",
      "0: 640x1088 1 ball, 432.6ms\n",
      "Speed: 6.5ms preprocess, 432.6ms inference, 0.9ms postprocess per image at shape (1, 3, 640, 1088)\n"
     ]
    },
    {
     "name": "stderr",
     "output_type": "stream",
     "text": [
      "Analizando partido (Golpes: 1):  21%|██▏       | 64/300 [03:00<10:35,  2.69s/frames]"
     ]
    },
    {
     "name": "stdout",
     "output_type": "stream",
     "text": [
      "\n",
      "0: 384x640 5 persons, 1 car, 1 clock, 1192.9ms\n",
      "Speed: 1.8ms preprocess, 1192.9ms inference, 0.9ms postprocess per image at shape (1, 3, 384, 640)\n",
      "\n",
      "0: 640x1088 1 ball, 466.4ms\n",
      "Speed: 6.0ms preprocess, 466.4ms inference, 0.9ms postprocess per image at shape (1, 3, 640, 1088)\n"
     ]
    },
    {
     "name": "stderr",
     "output_type": "stream",
     "text": [
      "Analizando partido (Golpes: 1):  22%|██▏       | 65/300 [03:03<10:44,  2.74s/frames]"
     ]
    },
    {
     "name": "stdout",
     "output_type": "stream",
     "text": [
      "\n",
      "0: 384x640 6 persons, 1 car, 1 clock, 1027.7ms\n",
      "Speed: 1.7ms preprocess, 1027.7ms inference, 1.3ms postprocess per image at shape (1, 3, 384, 640)\n",
      "\n",
      "0: 640x1088 (no detections), 433.9ms\n",
      "Speed: 6.1ms preprocess, 433.9ms inference, 1.1ms postprocess per image at shape (1, 3, 640, 1088)\n"
     ]
    },
    {
     "name": "stderr",
     "output_type": "stream",
     "text": [
      "Analizando partido (Golpes: 1):  22%|██▏       | 66/300 [03:05<10:39,  2.73s/frames]"
     ]
    },
    {
     "name": "stdout",
     "output_type": "stream",
     "text": [
      "\n",
      "0: 384x640 6 persons, 1 tennis racket, 1 clock, 927.0ms\n",
      "Speed: 1.7ms preprocess, 927.0ms inference, 1.0ms postprocess per image at shape (1, 3, 384, 640)\n",
      "\n",
      "0: 640x1088 1 ball, 432.0ms\n",
      "Speed: 10.4ms preprocess, 432.0ms inference, 0.9ms postprocess per image at shape (1, 3, 640, 1088)\n"
     ]
    },
    {
     "name": "stderr",
     "output_type": "stream",
     "text": [
      "Analizando partido (Golpes: 2):  22%|██▏       | 67/300 [03:08<10:33,  2.72s/frames]"
     ]
    },
    {
     "name": "stdout",
     "output_type": "stream",
     "text": [
      "\n",
      "0: 384x640 6 persons, 1 car, 1 tennis racket, 932.9ms\n",
      "Speed: 1.7ms preprocess, 932.9ms inference, 0.9ms postprocess per image at shape (1, 3, 384, 640)\n",
      "\n",
      "0: 640x1088 1 ball, 425.5ms\n",
      "Speed: 6.8ms preprocess, 425.5ms inference, 0.9ms postprocess per image at shape (1, 3, 640, 1088)\n"
     ]
    },
    {
     "name": "stderr",
     "output_type": "stream",
     "text": [
      "Analizando partido (Golpes: 2):  23%|██▎       | 68/300 [03:11<10:19,  2.67s/frames]"
     ]
    },
    {
     "name": "stdout",
     "output_type": "stream",
     "text": [
      "\n",
      "0: 384x640 6 persons, 1 tennis racket, 1150.4ms\n",
      "Speed: 2.0ms preprocess, 1150.4ms inference, 1.1ms postprocess per image at shape (1, 3, 384, 640)\n",
      "\n",
      "0: 640x1088 1 ball, 534.7ms\n",
      "Speed: 7.9ms preprocess, 534.7ms inference, 1.0ms postprocess per image at shape (1, 3, 640, 1088)\n"
     ]
    },
    {
     "name": "stderr",
     "output_type": "stream",
     "text": [
      "Analizando partido (Golpes: 2):  23%|██▎       | 69/300 [03:13<10:37,  2.76s/frames]"
     ]
    },
    {
     "name": "stdout",
     "output_type": "stream",
     "text": [
      "\n",
      "0: 384x640 6 persons, 2 tennis rackets, 932.7ms\n",
      "Speed: 1.7ms preprocess, 932.7ms inference, 1.1ms postprocess per image at shape (1, 3, 384, 640)\n",
      "\n",
      "0: 640x1088 1 ball, 440.2ms\n",
      "Speed: 6.3ms preprocess, 440.2ms inference, 1.0ms postprocess per image at shape (1, 3, 640, 1088)\n"
     ]
    },
    {
     "name": "stderr",
     "output_type": "stream",
     "text": [
      "Analizando partido (Golpes: 3):  23%|██▎       | 70/300 [03:16<10:33,  2.75s/frames]"
     ]
    },
    {
     "name": "stdout",
     "output_type": "stream",
     "text": [
      "\n",
      "0: 384x640 5 persons, 1 car, 2 tennis rackets, 925.9ms\n",
      "Speed: 1.9ms preprocess, 925.9ms inference, 0.9ms postprocess per image at shape (1, 3, 384, 640)\n",
      "\n",
      "0: 640x1088 2 balls, 457.1ms\n",
      "Speed: 5.8ms preprocess, 457.1ms inference, 2.8ms postprocess per image at shape (1, 3, 640, 1088)\n"
     ]
    },
    {
     "name": "stderr",
     "output_type": "stream",
     "text": [
      "Analizando partido (Golpes: 3):  24%|██▎       | 71/300 [03:19<10:28,  2.75s/frames]"
     ]
    },
    {
     "name": "stdout",
     "output_type": "stream",
     "text": [
      "\n",
      "0: 384x640 5 persons, 1 car, 2 tennis rackets, 938.3ms\n",
      "Speed: 2.0ms preprocess, 938.3ms inference, 0.9ms postprocess per image at shape (1, 3, 384, 640)\n",
      "\n",
      "0: 640x1088 2 balls, 448.2ms\n",
      "Speed: 7.3ms preprocess, 448.2ms inference, 1.2ms postprocess per image at shape (1, 3, 640, 1088)\n"
     ]
    },
    {
     "name": "stderr",
     "output_type": "stream",
     "text": [
      "Analizando partido (Golpes: 3):  24%|██▍       | 72/300 [03:22<10:15,  2.70s/frames]"
     ]
    },
    {
     "name": "stdout",
     "output_type": "stream",
     "text": [
      "\n",
      "0: 384x640 5 persons, 1 car, 1040.8ms\n",
      "Speed: 1.8ms preprocess, 1040.8ms inference, 1.5ms postprocess per image at shape (1, 3, 384, 640)\n",
      "\n",
      "0: 640x1088 1 ball, 409.9ms\n",
      "Speed: 6.0ms preprocess, 409.9ms inference, 0.9ms postprocess per image at shape (1, 3, 640, 1088)\n"
     ]
    },
    {
     "name": "stderr",
     "output_type": "stream",
     "text": [
      "Analizando partido (Golpes: 3):  24%|██▍       | 73/300 [03:24<10:17,  2.72s/frames]"
     ]
    },
    {
     "name": "stdout",
     "output_type": "stream",
     "text": [
      "\n",
      "0: 384x640 6 persons, 1 car, 1 tennis racket, 1008.3ms\n",
      "Speed: 1.9ms preprocess, 1008.3ms inference, 1.6ms postprocess per image at shape (1, 3, 384, 640)\n",
      "\n",
      "0: 640x1088 1 ball, 535.7ms\n",
      "Speed: 6.1ms preprocess, 535.7ms inference, 0.9ms postprocess per image at shape (1, 3, 640, 1088)\n"
     ]
    },
    {
     "name": "stderr",
     "output_type": "stream",
     "text": [
      "Analizando partido (Golpes: 3):  25%|██▍       | 74/300 [03:27<10:26,  2.77s/frames]"
     ]
    },
    {
     "name": "stdout",
     "output_type": "stream",
     "text": [
      "\n",
      "0: 384x640 5 persons, 1 car, 1 tennis racket, 927.9ms\n",
      "Speed: 1.8ms preprocess, 927.9ms inference, 0.9ms postprocess per image at shape (1, 3, 384, 640)\n",
      "\n",
      "0: 640x1088 1 ball, 452.4ms\n",
      "Speed: 6.8ms preprocess, 452.4ms inference, 1.2ms postprocess per image at shape (1, 3, 640, 1088)\n"
     ]
    },
    {
     "name": "stderr",
     "output_type": "stream",
     "text": [
      "Analizando partido (Golpes: 3):  25%|██▌       | 75/300 [03:30<10:10,  2.71s/frames]"
     ]
    },
    {
     "name": "stdout",
     "output_type": "stream",
     "text": [
      "\n",
      "0: 384x640 5 persons, 1 car, 1 sports ball, 1 tennis racket, 923.7ms\n",
      "Speed: 2.1ms preprocess, 923.7ms inference, 0.9ms postprocess per image at shape (1, 3, 384, 640)\n",
      "\n",
      "0: 640x1088 1 ball, 426.6ms\n",
      "Speed: 5.8ms preprocess, 426.6ms inference, 0.9ms postprocess per image at shape (1, 3, 640, 1088)\n"
     ]
    },
    {
     "name": "stderr",
     "output_type": "stream",
     "text": [
      "Analizando partido (Golpes: 3):  25%|██▌       | 76/300 [03:32<09:57,  2.67s/frames]"
     ]
    },
    {
     "name": "stdout",
     "output_type": "stream",
     "text": [
      "\n",
      "0: 384x640 5 persons, 1 tennis racket, 860.5ms\n",
      "Speed: 1.7ms preprocess, 860.5ms inference, 1.0ms postprocess per image at shape (1, 3, 384, 640)\n",
      "\n",
      "0: 640x1088 1 ball, 532.7ms\n",
      "Speed: 5.8ms preprocess, 532.7ms inference, 0.9ms postprocess per image at shape (1, 3, 640, 1088)\n"
     ]
    },
    {
     "name": "stderr",
     "output_type": "stream",
     "text": [
      "Analizando partido (Golpes: 3):  26%|██▌       | 77/300 [03:35<10:01,  2.70s/frames]"
     ]
    },
    {
     "name": "stdout",
     "output_type": "stream",
     "text": [
      "\n",
      "0: 384x640 5 persons, 2 tennis rackets, 905.4ms\n",
      "Speed: 1.9ms preprocess, 905.4ms inference, 1.0ms postprocess per image at shape (1, 3, 384, 640)\n",
      "\n",
      "0: 640x1088 1 ball, 439.2ms\n",
      "Speed: 6.6ms preprocess, 439.2ms inference, 1.0ms postprocess per image at shape (1, 3, 640, 1088)\n"
     ]
    },
    {
     "name": "stderr",
     "output_type": "stream",
     "text": [
      "Analizando partido (Golpes: 3):  26%|██▌       | 78/300 [03:38<09:48,  2.65s/frames]"
     ]
    },
    {
     "name": "stdout",
     "output_type": "stream",
     "text": [
      "\n",
      "0: 384x640 6 persons, 1 car, 1 tennis racket, 1 clock, 953.5ms\n",
      "Speed: 1.8ms preprocess, 953.5ms inference, 1.0ms postprocess per image at shape (1, 3, 384, 640)\n",
      "\n",
      "0: 640x1088 (no detections), 558.7ms\n",
      "Speed: 7.9ms preprocess, 558.7ms inference, 0.6ms postprocess per image at shape (1, 3, 640, 1088)\n"
     ]
    },
    {
     "name": "stderr",
     "output_type": "stream",
     "text": [
      "Analizando partido (Golpes: 3):  26%|██▋       | 79/300 [03:40<09:50,  2.67s/frames]"
     ]
    },
    {
     "name": "stdout",
     "output_type": "stream",
     "text": [
      "\n",
      "0: 384x640 5 persons, 934.2ms\n",
      "Speed: 1.8ms preprocess, 934.2ms inference, 0.9ms postprocess per image at shape (1, 3, 384, 640)\n",
      "\n",
      "0: 640x1088 1 ball, 423.6ms\n",
      "Speed: 5.9ms preprocess, 423.6ms inference, 1.2ms postprocess per image at shape (1, 3, 640, 1088)\n"
     ]
    },
    {
     "name": "stderr",
     "output_type": "stream",
     "text": [
      "Analizando partido (Golpes: 3):  27%|██▋       | 80/300 [03:43<09:46,  2.67s/frames]"
     ]
    },
    {
     "name": "stdout",
     "output_type": "stream",
     "text": [
      "\n",
      "0: 384x640 5 persons, 1 sports ball, 947.4ms\n",
      "Speed: 2.1ms preprocess, 947.4ms inference, 1.0ms postprocess per image at shape (1, 3, 384, 640)\n",
      "\n",
      "0: 640x1088 1 ball, 458.7ms\n",
      "Speed: 6.1ms preprocess, 458.7ms inference, 0.9ms postprocess per image at shape (1, 3, 640, 1088)\n"
     ]
    },
    {
     "name": "stderr",
     "output_type": "stream",
     "text": [
      "Analizando partido (Golpes: 3):  27%|██▋       | 81/300 [03:46<09:55,  2.72s/frames]"
     ]
    },
    {
     "name": "stdout",
     "output_type": "stream",
     "text": [
      "\n",
      "0: 384x640 5 persons, 964.1ms\n",
      "Speed: 2.4ms preprocess, 964.1ms inference, 1.0ms postprocess per image at shape (1, 3, 384, 640)\n",
      "\n",
      "0: 640x1088 1 ball, 481.8ms\n",
      "Speed: 6.7ms preprocess, 481.8ms inference, 1.1ms postprocess per image at shape (1, 3, 640, 1088)\n"
     ]
    },
    {
     "name": "stderr",
     "output_type": "stream",
     "text": [
      "Analizando partido (Golpes: 4):  27%|██▋       | 82/300 [03:49<09:47,  2.70s/frames]"
     ]
    },
    {
     "name": "stdout",
     "output_type": "stream",
     "text": [
      "\n",
      "0: 384x640 6 persons, 902.9ms\n",
      "Speed: 1.8ms preprocess, 902.9ms inference, 1.1ms postprocess per image at shape (1, 3, 384, 640)\n",
      "\n",
      "0: 640x1088 1 ball, 500.2ms\n",
      "Speed: 6.0ms preprocess, 500.2ms inference, 1.0ms postprocess per image at shape (1, 3, 640, 1088)\n"
     ]
    },
    {
     "name": "stderr",
     "output_type": "stream",
     "text": [
      "Analizando partido (Golpes: 4):  28%|██▊       | 83/300 [03:51<09:42,  2.68s/frames]"
     ]
    },
    {
     "name": "stdout",
     "output_type": "stream",
     "text": [
      "\n",
      "0: 384x640 5 persons, 913.6ms\n",
      "Speed: 1.8ms preprocess, 913.6ms inference, 1.4ms postprocess per image at shape (1, 3, 384, 640)\n",
      "\n",
      "0: 640x1088 1 ball, 448.3ms\n",
      "Speed: 6.0ms preprocess, 448.3ms inference, 1.0ms postprocess per image at shape (1, 3, 640, 1088)\n"
     ]
    },
    {
     "name": "stderr",
     "output_type": "stream",
     "text": [
      "Analizando partido (Golpes: 4):  28%|██▊       | 84/300 [03:54<09:43,  2.70s/frames]"
     ]
    },
    {
     "name": "stdout",
     "output_type": "stream",
     "text": [
      "\n",
      "0: 384x640 6 persons, 964.4ms\n",
      "Speed: 1.8ms preprocess, 964.4ms inference, 0.9ms postprocess per image at shape (1, 3, 384, 640)\n",
      "\n",
      "0: 640x1088 1 ball, 459.0ms\n",
      "Speed: 6.2ms preprocess, 459.0ms inference, 1.0ms postprocess per image at shape (1, 3, 640, 1088)\n"
     ]
    },
    {
     "name": "stderr",
     "output_type": "stream",
     "text": [
      "Analizando partido (Golpes: 4):  28%|██▊       | 85/300 [03:57<09:36,  2.68s/frames]"
     ]
    },
    {
     "name": "stdout",
     "output_type": "stream",
     "text": [
      "\n",
      "0: 384x640 6 persons, 1 tennis racket, 914.3ms\n",
      "Speed: 1.8ms preprocess, 914.3ms inference, 1.0ms postprocess per image at shape (1, 3, 384, 640)\n",
      "\n",
      "0: 640x1088 1 ball, 444.5ms\n",
      "Speed: 7.0ms preprocess, 444.5ms inference, 0.9ms postprocess per image at shape (1, 3, 640, 1088)\n"
     ]
    },
    {
     "name": "stderr",
     "output_type": "stream",
     "text": [
      "Analizando partido (Golpes: 4):  29%|██▊       | 86/300 [03:59<09:33,  2.68s/frames]"
     ]
    },
    {
     "name": "stdout",
     "output_type": "stream",
     "text": [
      "\n",
      "0: 384x640 6 persons, 1 clock, 986.8ms\n",
      "Speed: 2.0ms preprocess, 986.8ms inference, 1.2ms postprocess per image at shape (1, 3, 384, 640)\n",
      "\n",
      "0: 640x1088 1 ball, 497.7ms\n",
      "Speed: 6.2ms preprocess, 497.7ms inference, 1.2ms postprocess per image at shape (1, 3, 640, 1088)\n"
     ]
    },
    {
     "name": "stderr",
     "output_type": "stream",
     "text": [
      "Analizando partido (Golpes: 4):  29%|██▉       | 87/300 [04:02<09:35,  2.70s/frames]"
     ]
    },
    {
     "name": "stdout",
     "output_type": "stream",
     "text": [
      "\n",
      "0: 384x640 6 persons, 1 clock, 1063.0ms\n",
      "Speed: 1.8ms preprocess, 1063.0ms inference, 3.2ms postprocess per image at shape (1, 3, 384, 640)\n",
      "\n",
      "0: 640x1088 1 ball, 457.8ms\n",
      "Speed: 7.0ms preprocess, 457.8ms inference, 0.9ms postprocess per image at shape (1, 3, 640, 1088)\n"
     ]
    },
    {
     "name": "stderr",
     "output_type": "stream",
     "text": [
      "Analizando partido (Golpes: 4):  29%|██▉       | 88/300 [04:05<09:42,  2.75s/frames]"
     ]
    },
    {
     "name": "stdout",
     "output_type": "stream",
     "text": [
      "\n",
      "0: 384x640 6 persons, 1 tennis racket, 1 clock, 902.5ms\n",
      "Speed: 1.8ms preprocess, 902.5ms inference, 1.0ms postprocess per image at shape (1, 3, 384, 640)\n",
      "\n",
      "0: 640x1088 (no detections), 438.6ms\n",
      "Speed: 6.6ms preprocess, 438.6ms inference, 0.6ms postprocess per image at shape (1, 3, 640, 1088)\n"
     ]
    },
    {
     "name": "stderr",
     "output_type": "stream",
     "text": [
      "Analizando partido (Golpes: 4):  30%|██▉       | 89/300 [04:07<09:26,  2.68s/frames]"
     ]
    },
    {
     "name": "stdout",
     "output_type": "stream",
     "text": [
      "\n",
      "0: 384x640 6 persons, 1 car, 1213.0ms\n",
      "Speed: 1.7ms preprocess, 1213.0ms inference, 1.3ms postprocess per image at shape (1, 3, 384, 640)\n",
      "\n",
      "0: 640x1088 (no detections), 440.0ms\n",
      "Speed: 7.0ms preprocess, 440.0ms inference, 0.6ms postprocess per image at shape (1, 3, 640, 1088)\n"
     ]
    },
    {
     "name": "stderr",
     "output_type": "stream",
     "text": [
      "Analizando partido (Golpes: 4):  30%|███       | 90/300 [04:10<09:35,  2.74s/frames]"
     ]
    },
    {
     "name": "stdout",
     "output_type": "stream",
     "text": [
      "\n",
      "0: 384x640 6 persons, 903.6ms\n",
      "Speed: 1.7ms preprocess, 903.6ms inference, 1.1ms postprocess per image at shape (1, 3, 384, 640)\n",
      "\n",
      "0: 640x1088 (no detections), 456.1ms\n",
      "Speed: 6.4ms preprocess, 456.1ms inference, 0.6ms postprocess per image at shape (1, 3, 640, 1088)\n"
     ]
    },
    {
     "name": "stderr",
     "output_type": "stream",
     "text": [
      "Analizando partido (Golpes: 4):  30%|███       | 91/300 [04:13<09:33,  2.74s/frames]"
     ]
    },
    {
     "name": "stdout",
     "output_type": "stream",
     "text": [
      "\n",
      "0: 384x640 6 persons, 1 clock, 1045.1ms\n",
      "Speed: 1.9ms preprocess, 1045.1ms inference, 1.0ms postprocess per image at shape (1, 3, 384, 640)\n",
      "\n",
      "0: 640x1088 (no detections), 504.2ms\n",
      "Speed: 7.7ms preprocess, 504.2ms inference, 0.6ms postprocess per image at shape (1, 3, 640, 1088)\n"
     ]
    },
    {
     "name": "stderr",
     "output_type": "stream",
     "text": [
      "Analizando partido (Golpes: 4):  31%|███       | 92/300 [04:16<09:31,  2.75s/frames]"
     ]
    },
    {
     "name": "stdout",
     "output_type": "stream",
     "text": [
      "\n",
      "0: 384x640 6 persons, 1 tennis racket, 1012.1ms\n",
      "Speed: 2.0ms preprocess, 1012.1ms inference, 0.9ms postprocess per image at shape (1, 3, 384, 640)\n",
      "\n",
      "0: 640x1088 (no detections), 536.6ms\n",
      "Speed: 8.1ms preprocess, 536.6ms inference, 0.6ms postprocess per image at shape (1, 3, 640, 1088)\n"
     ]
    },
    {
     "name": "stderr",
     "output_type": "stream",
     "text": [
      "Analizando partido (Golpes: 4):  31%|███       | 93/300 [04:19<09:32,  2.76s/frames]"
     ]
    },
    {
     "name": "stdout",
     "output_type": "stream",
     "text": [
      "\n",
      "0: 384x640 6 persons, 1 tennis racket, 950.4ms\n",
      "Speed: 1.8ms preprocess, 950.4ms inference, 1.2ms postprocess per image at shape (1, 3, 384, 640)\n",
      "\n",
      "0: 640x1088 (no detections), 416.5ms\n",
      "Speed: 6.5ms preprocess, 416.5ms inference, 0.7ms postprocess per image at shape (1, 3, 640, 1088)\n"
     ]
    },
    {
     "name": "stderr",
     "output_type": "stream",
     "text": [
      "Analizando partido (Golpes: 4):  31%|███▏      | 94/300 [04:21<09:18,  2.71s/frames]"
     ]
    },
    {
     "name": "stdout",
     "output_type": "stream",
     "text": [
      "\n",
      "0: 384x640 6 persons, 997.3ms\n",
      "Speed: 1.7ms preprocess, 997.3ms inference, 2.6ms postprocess per image at shape (1, 3, 384, 640)\n",
      "\n",
      "0: 640x1088 1 ball, 462.4ms\n",
      "Speed: 7.3ms preprocess, 462.4ms inference, 0.9ms postprocess per image at shape (1, 3, 640, 1088)\n"
     ]
    },
    {
     "name": "stderr",
     "output_type": "stream",
     "text": [
      "Analizando partido (Golpes: 4):  32%|███▏      | 95/300 [04:24<09:27,  2.77s/frames]"
     ]
    },
    {
     "name": "stdout",
     "output_type": "stream",
     "text": [
      "\n",
      "0: 384x640 6 persons, 1 tennis racket, 935.9ms\n",
      "Speed: 2.1ms preprocess, 935.9ms inference, 0.9ms postprocess per image at shape (1, 3, 384, 640)\n",
      "\n",
      "0: 640x1088 (no detections), 446.3ms\n",
      "Speed: 9.5ms preprocess, 446.3ms inference, 1.4ms postprocess per image at shape (1, 3, 640, 1088)\n"
     ]
    },
    {
     "name": "stderr",
     "output_type": "stream",
     "text": [
      "Analizando partido (Golpes: 4):  32%|███▏      | 96/300 [04:27<09:28,  2.78s/frames]"
     ]
    },
    {
     "name": "stdout",
     "output_type": "stream",
     "text": [
      "\n",
      "0: 384x640 5 persons, 895.7ms\n",
      "Speed: 2.1ms preprocess, 895.7ms inference, 0.9ms postprocess per image at shape (1, 3, 384, 640)\n",
      "\n",
      "0: 640x1088 (no detections), 447.4ms\n",
      "Speed: 6.1ms preprocess, 447.4ms inference, 0.6ms postprocess per image at shape (1, 3, 640, 1088)\n"
     ]
    },
    {
     "name": "stderr",
     "output_type": "stream",
     "text": [
      "Analizando partido (Golpes: 4):  32%|███▏      | 97/300 [04:29<09:09,  2.71s/frames]"
     ]
    },
    {
     "name": "stdout",
     "output_type": "stream",
     "text": [
      "\n",
      "0: 384x640 5 persons, 822.3ms\n",
      "Speed: 1.7ms preprocess, 822.3ms inference, 1.1ms postprocess per image at shape (1, 3, 384, 640)\n",
      "\n",
      "0: 640x1088 (no detections), 517.9ms\n",
      "Speed: 5.7ms preprocess, 517.9ms inference, 0.8ms postprocess per image at shape (1, 3, 640, 1088)\n"
     ]
    },
    {
     "name": "stderr",
     "output_type": "stream",
     "text": [
      "Analizando partido (Golpes: 4):  33%|███▎      | 98/300 [04:32<09:02,  2.69s/frames]"
     ]
    },
    {
     "name": "stdout",
     "output_type": "stream",
     "text": [
      "\n",
      "0: 384x640 5 persons, 1065.8ms\n",
      "Speed: 2.0ms preprocess, 1065.8ms inference, 0.9ms postprocess per image at shape (1, 3, 384, 640)\n",
      "\n",
      "0: 640x1088 (no detections), 403.7ms\n",
      "Speed: 6.8ms preprocess, 403.7ms inference, 0.6ms postprocess per image at shape (1, 3, 640, 1088)\n"
     ]
    },
    {
     "name": "stderr",
     "output_type": "stream",
     "text": [
      "Analizando partido (Golpes: 4):  33%|███▎      | 99/300 [04:35<08:56,  2.67s/frames]"
     ]
    },
    {
     "name": "stdout",
     "output_type": "stream",
     "text": [
      "\n",
      "0: 384x640 6 persons, 1 tennis racket, 869.7ms\n",
      "Speed: 3.5ms preprocess, 869.7ms inference, 0.9ms postprocess per image at shape (1, 3, 384, 640)\n",
      "\n",
      "0: 640x1088 (no detections), 388.2ms\n",
      "Speed: 5.9ms preprocess, 388.2ms inference, 0.6ms postprocess per image at shape (1, 3, 640, 1088)\n"
     ]
    },
    {
     "name": "stderr",
     "output_type": "stream",
     "text": [
      "Analizando partido (Golpes: 4):  33%|███▎      | 100/300 [04:37<08:50,  2.65s/frames]"
     ]
    },
    {
     "name": "stdout",
     "output_type": "stream",
     "text": [
      "\n",
      "0: 384x640 5 persons, 908.3ms\n",
      "Speed: 2.3ms preprocess, 908.3ms inference, 1.6ms postprocess per image at shape (1, 3, 384, 640)\n",
      "\n",
      "0: 640x1088 2 balls, 383.7ms\n",
      "Speed: 6.9ms preprocess, 383.7ms inference, 1.1ms postprocess per image at shape (1, 3, 640, 1088)\n"
     ]
    },
    {
     "name": "stderr",
     "output_type": "stream",
     "text": [
      "Analizando partido (Golpes: 4):  34%|███▎      | 101/300 [04:40<08:38,  2.61s/frames]"
     ]
    },
    {
     "name": "stdout",
     "output_type": "stream",
     "text": [
      "\n",
      "0: 384x640 5 persons, 960.9ms\n",
      "Speed: 2.7ms preprocess, 960.9ms inference, 0.9ms postprocess per image at shape (1, 3, 384, 640)\n",
      "\n",
      "0: 640x1088 1 ball, 456.0ms\n",
      "Speed: 7.3ms preprocess, 456.0ms inference, 0.9ms postprocess per image at shape (1, 3, 640, 1088)\n"
     ]
    },
    {
     "name": "stderr",
     "output_type": "stream",
     "text": [
      "Analizando partido (Golpes: 4):  34%|███▍      | 102/300 [04:42<08:43,  2.64s/frames]"
     ]
    },
    {
     "name": "stdout",
     "output_type": "stream",
     "text": [
      "\n",
      "0: 384x640 5 persons, 2 tennis rackets, 925.2ms\n",
      "Speed: 1.7ms preprocess, 925.2ms inference, 2.0ms postprocess per image at shape (1, 3, 384, 640)\n",
      "\n",
      "0: 640x1088 (no detections), 409.0ms\n",
      "Speed: 6.0ms preprocess, 409.0ms inference, 0.6ms postprocess per image at shape (1, 3, 640, 1088)\n"
     ]
    },
    {
     "name": "stderr",
     "output_type": "stream",
     "text": [
      "Analizando partido (Golpes: 4):  34%|███▍      | 103/300 [04:45<08:32,  2.60s/frames]"
     ]
    },
    {
     "name": "stdout",
     "output_type": "stream",
     "text": [
      "\n",
      "0: 384x640 5 persons, 1 tennis racket, 1107.3ms\n",
      "Speed: 2.0ms preprocess, 1107.3ms inference, 2.0ms postprocess per image at shape (1, 3, 384, 640)\n",
      "\n",
      "0: 640x1088 (no detections), 383.5ms\n",
      "Speed: 6.2ms preprocess, 383.5ms inference, 0.6ms postprocess per image at shape (1, 3, 640, 1088)\n"
     ]
    },
    {
     "name": "stderr",
     "output_type": "stream",
     "text": [
      "Analizando partido (Golpes: 4):  35%|███▍      | 104/300 [04:48<08:32,  2.62s/frames]"
     ]
    },
    {
     "name": "stdout",
     "output_type": "stream",
     "text": [
      "\n",
      "0: 384x640 5 persons, 2 tennis rackets, 904.0ms\n",
      "Speed: 1.9ms preprocess, 904.0ms inference, 1.1ms postprocess per image at shape (1, 3, 384, 640)\n",
      "\n",
      "0: 640x1088 (no detections), 429.7ms\n",
      "Speed: 6.4ms preprocess, 429.7ms inference, 0.6ms postprocess per image at shape (1, 3, 640, 1088)\n"
     ]
    },
    {
     "name": "stderr",
     "output_type": "stream",
     "text": [
      "Analizando partido (Golpes: 4):  35%|███▌      | 105/300 [04:50<08:38,  2.66s/frames]"
     ]
    },
    {
     "name": "stdout",
     "output_type": "stream",
     "text": [
      "\n",
      "0: 384x640 5 persons, 2 tennis rackets, 1 clock, 885.1ms\n",
      "Speed: 2.0ms preprocess, 885.1ms inference, 1.0ms postprocess per image at shape (1, 3, 384, 640)\n",
      "\n",
      "0: 640x1088 (no detections), 510.6ms\n",
      "Speed: 6.0ms preprocess, 510.6ms inference, 0.8ms postprocess per image at shape (1, 3, 640, 1088)\n"
     ]
    },
    {
     "name": "stderr",
     "output_type": "stream",
     "text": [
      "Analizando partido (Golpes: 4):  35%|███▌      | 106/300 [04:53<08:34,  2.65s/frames]"
     ]
    },
    {
     "name": "stdout",
     "output_type": "stream",
     "text": [
      "\n",
      "0: 384x640 5 persons, 2 tennis rackets, 1 clock, 950.5ms\n",
      "Speed: 3.1ms preprocess, 950.5ms inference, 1.0ms postprocess per image at shape (1, 3, 384, 640)\n",
      "\n",
      "0: 640x1088 (no detections), 389.8ms\n",
      "Speed: 5.5ms preprocess, 389.8ms inference, 0.6ms postprocess per image at shape (1, 3, 640, 1088)\n"
     ]
    },
    {
     "name": "stderr",
     "output_type": "stream",
     "text": [
      "Analizando partido (Golpes: 4):  36%|███▌      | 107/300 [04:56<08:31,  2.65s/frames]"
     ]
    },
    {
     "name": "stdout",
     "output_type": "stream",
     "text": [
      "\n",
      "0: 384x640 5 persons, 1 tennis racket, 1 clock, 971.5ms\n",
      "Speed: 1.8ms preprocess, 971.5ms inference, 0.9ms postprocess per image at shape (1, 3, 384, 640)\n",
      "\n",
      "0: 640x1088 (no detections), 428.9ms\n",
      "Speed: 5.8ms preprocess, 428.9ms inference, 0.7ms postprocess per image at shape (1, 3, 640, 1088)\n"
     ]
    },
    {
     "name": "stderr",
     "output_type": "stream",
     "text": [
      "Analizando partido (Golpes: 4):  36%|███▌      | 108/300 [04:58<08:22,  2.62s/frames]"
     ]
    },
    {
     "name": "stdout",
     "output_type": "stream",
     "text": [
      "\n",
      "0: 384x640 5 persons, 2 tennis rackets, 1 clock, 949.8ms\n",
      "Speed: 2.1ms preprocess, 949.8ms inference, 0.9ms postprocess per image at shape (1, 3, 384, 640)\n",
      "\n",
      "0: 640x1088 (no detections), 512.9ms\n",
      "Speed: 6.7ms preprocess, 512.9ms inference, 0.6ms postprocess per image at shape (1, 3, 640, 1088)\n"
     ]
    },
    {
     "name": "stderr",
     "output_type": "stream",
     "text": [
      "Analizando partido (Golpes: 4):  36%|███▋      | 109/300 [05:01<08:44,  2.75s/frames]"
     ]
    },
    {
     "name": "stdout",
     "output_type": "stream",
     "text": [
      "\n",
      "0: 384x640 5 persons, 3 tennis rackets, 1 clock, 872.4ms\n",
      "Speed: 1.8ms preprocess, 872.4ms inference, 1.0ms postprocess per image at shape (1, 3, 384, 640)\n",
      "\n",
      "0: 640x1088 (no detections), 542.6ms\n",
      "Speed: 6.0ms preprocess, 542.6ms inference, 0.6ms postprocess per image at shape (1, 3, 640, 1088)\n"
     ]
    },
    {
     "name": "stderr",
     "output_type": "stream",
     "text": [
      "Analizando partido (Golpes: 4):  37%|███▋      | 110/300 [05:04<08:33,  2.70s/frames]"
     ]
    },
    {
     "name": "stdout",
     "output_type": "stream",
     "text": [
      "\n",
      "0: 384x640 5 persons, 1 tennis racket, 937.8ms\n",
      "Speed: 2.1ms preprocess, 937.8ms inference, 0.9ms postprocess per image at shape (1, 3, 384, 640)\n",
      "\n",
      "0: 640x1088 (no detections), 462.2ms\n",
      "Speed: 6.3ms preprocess, 462.2ms inference, 0.7ms postprocess per image at shape (1, 3, 640, 1088)\n"
     ]
    },
    {
     "name": "stderr",
     "output_type": "stream",
     "text": [
      "Analizando partido (Golpes: 4):  37%|███▋      | 111/300 [05:07<08:32,  2.71s/frames]"
     ]
    },
    {
     "name": "stdout",
     "output_type": "stream",
     "text": [
      "\n",
      "0: 384x640 5 persons, 2 tennis rackets, 1 clock, 938.4ms\n",
      "Speed: 2.0ms preprocess, 938.4ms inference, 0.9ms postprocess per image at shape (1, 3, 384, 640)\n",
      "\n",
      "0: 640x1088 1 ball, 425.7ms\n",
      "Speed: 6.5ms preprocess, 425.7ms inference, 0.9ms postprocess per image at shape (1, 3, 640, 1088)\n"
     ]
    },
    {
     "name": "stderr",
     "output_type": "stream",
     "text": [
      "Analizando partido (Golpes: 4):  37%|███▋      | 112/300 [05:09<08:34,  2.74s/frames]"
     ]
    },
    {
     "name": "stdout",
     "output_type": "stream",
     "text": [
      "\n",
      "0: 384x640 5 persons, 2 tennis rackets, 1 clock, 1122.2ms\n",
      "Speed: 20.2ms preprocess, 1122.2ms inference, 1.0ms postprocess per image at shape (1, 3, 384, 640)\n",
      "\n",
      "0: 640x1088 1 ball, 445.6ms\n",
      "Speed: 6.3ms preprocess, 445.6ms inference, 1.0ms postprocess per image at shape (1, 3, 640, 1088)\n"
     ]
    },
    {
     "name": "stderr",
     "output_type": "stream",
     "text": [
      "Analizando partido (Golpes: 4):  38%|███▊      | 113/300 [05:12<08:45,  2.81s/frames]"
     ]
    },
    {
     "name": "stdout",
     "output_type": "stream",
     "text": [
      "\n",
      "0: 384x640 5 persons, 2 tennis rackets, 978.3ms\n",
      "Speed: 2.9ms preprocess, 978.3ms inference, 1.0ms postprocess per image at shape (1, 3, 384, 640)\n",
      "\n",
      "0: 640x1088 (no detections), 514.0ms\n",
      "Speed: 6.6ms preprocess, 514.0ms inference, 0.6ms postprocess per image at shape (1, 3, 640, 1088)\n"
     ]
    },
    {
     "name": "stderr",
     "output_type": "stream",
     "text": [
      "Analizando partido (Golpes: 4):  38%|███▊      | 114/300 [05:15<08:36,  2.78s/frames]"
     ]
    },
    {
     "name": "stdout",
     "output_type": "stream",
     "text": [
      "\n",
      "0: 384x640 5 persons, 2 tennis rackets, 1051.2ms\n",
      "Speed: 1.8ms preprocess, 1051.2ms inference, 1.7ms postprocess per image at shape (1, 3, 384, 640)\n",
      "\n",
      "0: 640x1088 1 ball, 485.1ms\n",
      "Speed: 15.5ms preprocess, 485.1ms inference, 1.2ms postprocess per image at shape (1, 3, 640, 1088)\n"
     ]
    },
    {
     "name": "stderr",
     "output_type": "stream",
     "text": [
      "Analizando partido (Golpes: 4):  38%|███▊      | 115/300 [05:18<08:37,  2.80s/frames]"
     ]
    },
    {
     "name": "stdout",
     "output_type": "stream",
     "text": [
      "\n",
      "0: 384x640 5 persons, 2 tennis rackets, 929.4ms\n",
      "Speed: 2.1ms preprocess, 929.4ms inference, 0.9ms postprocess per image at shape (1, 3, 384, 640)\n",
      "\n",
      "0: 640x1088 1 ball, 451.8ms\n",
      "Speed: 9.4ms preprocess, 451.8ms inference, 0.9ms postprocess per image at shape (1, 3, 640, 1088)\n"
     ]
    },
    {
     "name": "stderr",
     "output_type": "stream",
     "text": [
      "Analizando partido (Golpes: 4):  39%|███▊      | 116/300 [05:21<08:37,  2.81s/frames]"
     ]
    },
    {
     "name": "stdout",
     "output_type": "stream",
     "text": [
      "\n",
      "0: 384x640 5 persons, 2 tennis rackets, 931.0ms\n",
      "Speed: 1.9ms preprocess, 931.0ms inference, 0.9ms postprocess per image at shape (1, 3, 384, 640)\n",
      "\n",
      "0: 640x1088 1 ball, 433.2ms\n",
      "Speed: 13.4ms preprocess, 433.2ms inference, 0.9ms postprocess per image at shape (1, 3, 640, 1088)\n"
     ]
    },
    {
     "name": "stderr",
     "output_type": "stream",
     "text": [
      "Analizando partido (Golpes: 4):  39%|███▉      | 117/300 [05:23<08:22,  2.75s/frames]"
     ]
    },
    {
     "name": "stdout",
     "output_type": "stream",
     "text": [
      "\n",
      "0: 384x640 5 persons, 2 tennis rackets, 956.5ms\n",
      "Speed: 2.0ms preprocess, 956.5ms inference, 4.0ms postprocess per image at shape (1, 3, 384, 640)\n",
      "\n",
      "0: 640x1088 1 ball, 442.6ms\n",
      "Speed: 6.6ms preprocess, 442.6ms inference, 1.0ms postprocess per image at shape (1, 3, 640, 1088)\n"
     ]
    },
    {
     "name": "stderr",
     "output_type": "stream",
     "text": [
      "Analizando partido (Golpes: 4):  39%|███▉      | 118/300 [05:26<08:15,  2.72s/frames]"
     ]
    },
    {
     "name": "stdout",
     "output_type": "stream",
     "text": [
      "\n",
      "0: 384x640 5 persons, 1 sports ball, 1 tennis racket, 994.7ms\n",
      "Speed: 2.8ms preprocess, 994.7ms inference, 1.6ms postprocess per image at shape (1, 3, 384, 640)\n",
      "\n",
      "0: 640x1088 (no detections), 498.2ms\n",
      "Speed: 6.2ms preprocess, 498.2ms inference, 0.6ms postprocess per image at shape (1, 3, 640, 1088)\n"
     ]
    },
    {
     "name": "stderr",
     "output_type": "stream",
     "text": [
      "Analizando partido (Golpes: 4):  40%|███▉      | 119/300 [05:29<08:22,  2.78s/frames]"
     ]
    },
    {
     "name": "stdout",
     "output_type": "stream",
     "text": [
      "\n",
      "0: 384x640 5 persons, 1 sports ball, 1 tennis racket, 918.8ms\n",
      "Speed: 2.1ms preprocess, 918.8ms inference, 0.9ms postprocess per image at shape (1, 3, 384, 640)\n",
      "\n",
      "0: 640x1088 (no detections), 476.1ms\n",
      "Speed: 6.5ms preprocess, 476.1ms inference, 0.6ms postprocess per image at shape (1, 3, 640, 1088)\n"
     ]
    },
    {
     "name": "stderr",
     "output_type": "stream",
     "text": [
      "Analizando partido (Golpes: 4):  40%|████      | 120/300 [05:32<08:10,  2.72s/frames]"
     ]
    },
    {
     "name": "stdout",
     "output_type": "stream",
     "text": [
      "\n",
      "0: 384x640 5 persons, 1 sports ball, 936.0ms\n",
      "Speed: 1.9ms preprocess, 936.0ms inference, 0.9ms postprocess per image at shape (1, 3, 384, 640)\n",
      "\n",
      "0: 640x1088 1 ball, 442.5ms\n",
      "Speed: 9.3ms preprocess, 442.5ms inference, 0.9ms postprocess per image at shape (1, 3, 640, 1088)\n"
     ]
    },
    {
     "name": "stderr",
     "output_type": "stream",
     "text": [
      "Analizando partido (Golpes: 4):  40%|████      | 121/300 [05:34<08:00,  2.68s/frames]"
     ]
    },
    {
     "name": "stdout",
     "output_type": "stream",
     "text": [
      "\n",
      "0: 384x640 5 persons, 967.2ms\n",
      "Speed: 2.3ms preprocess, 967.2ms inference, 1.0ms postprocess per image at shape (1, 3, 384, 640)\n",
      "\n",
      "0: 640x1088 1 ball, 454.0ms\n",
      "Speed: 6.2ms preprocess, 454.0ms inference, 1.1ms postprocess per image at shape (1, 3, 640, 1088)\n"
     ]
    },
    {
     "name": "stderr",
     "output_type": "stream",
     "text": [
      "Analizando partido (Golpes: 4):  41%|████      | 122/300 [05:37<08:02,  2.71s/frames]"
     ]
    },
    {
     "name": "stdout",
     "output_type": "stream",
     "text": [
      "\n",
      "0: 384x640 6 persons, 1058.6ms\n",
      "Speed: 2.2ms preprocess, 1058.6ms inference, 0.9ms postprocess per image at shape (1, 3, 384, 640)\n",
      "\n",
      "0: 640x1088 1 ball, 453.5ms\n",
      "Speed: 6.6ms preprocess, 453.5ms inference, 0.9ms postprocess per image at shape (1, 3, 640, 1088)\n"
     ]
    },
    {
     "name": "stderr",
     "output_type": "stream",
     "text": [
      "Analizando partido (Golpes: 4):  41%|████      | 123/300 [05:40<08:09,  2.77s/frames]"
     ]
    },
    {
     "name": "stdout",
     "output_type": "stream",
     "text": [
      "\n",
      "0: 384x640 6 persons, 1008.8ms\n",
      "Speed: 1.9ms preprocess, 1008.8ms inference, 0.9ms postprocess per image at shape (1, 3, 384, 640)\n",
      "\n",
      "0: 640x1088 1 ball, 576.6ms\n",
      "Speed: 6.7ms preprocess, 576.6ms inference, 1.0ms postprocess per image at shape (1, 3, 640, 1088)\n"
     ]
    },
    {
     "name": "stderr",
     "output_type": "stream",
     "text": [
      "Analizando partido (Golpes: 4):  41%|████▏     | 124/300 [05:43<08:09,  2.78s/frames]"
     ]
    },
    {
     "name": "stdout",
     "output_type": "stream",
     "text": [
      "\n",
      "0: 384x640 5 persons, 1 car, 983.7ms\n",
      "Speed: 4.4ms preprocess, 983.7ms inference, 1.1ms postprocess per image at shape (1, 3, 384, 640)\n",
      "\n",
      "0: 640x1088 1 ball, 432.8ms\n",
      "Speed: 7.7ms preprocess, 432.8ms inference, 0.9ms postprocess per image at shape (1, 3, 640, 1088)\n"
     ]
    },
    {
     "name": "stderr",
     "output_type": "stream",
     "text": [
      "Analizando partido (Golpes: 4):  42%|████▏     | 125/300 [05:45<07:58,  2.74s/frames]"
     ]
    },
    {
     "name": "stdout",
     "output_type": "stream",
     "text": [
      "\n",
      "0: 384x640 5 persons, 1 tennis racket, 1082.2ms\n",
      "Speed: 1.9ms preprocess, 1082.2ms inference, 1.9ms postprocess per image at shape (1, 3, 384, 640)\n",
      "\n",
      "0: 640x1088 1 ball, 436.0ms\n",
      "Speed: 6.2ms preprocess, 436.0ms inference, 0.9ms postprocess per image at shape (1, 3, 640, 1088)\n"
     ]
    },
    {
     "name": "stderr",
     "output_type": "stream",
     "text": [
      "Analizando partido (Golpes: 4):  42%|████▏     | 126/300 [05:48<08:04,  2.79s/frames]"
     ]
    },
    {
     "name": "stdout",
     "output_type": "stream",
     "text": [
      "\n",
      "0: 384x640 5 persons, 1 car, 1 sports ball, 1023.1ms\n",
      "Speed: 2.9ms preprocess, 1023.1ms inference, 0.9ms postprocess per image at shape (1, 3, 384, 640)\n",
      "\n",
      "0: 640x1088 1 ball, 433.4ms\n",
      "Speed: 6.4ms preprocess, 433.4ms inference, 1.1ms postprocess per image at shape (1, 3, 640, 1088)\n"
     ]
    },
    {
     "name": "stderr",
     "output_type": "stream",
     "text": [
      "Analizando partido (Golpes: 4):  42%|████▏     | 127/300 [05:51<08:03,  2.79s/frames]"
     ]
    },
    {
     "name": "stdout",
     "output_type": "stream",
     "text": [
      "\n",
      "0: 384x640 5 persons, 1 tennis racket, 1000.6ms\n",
      "Speed: 1.8ms preprocess, 1000.6ms inference, 1.2ms postprocess per image at shape (1, 3, 384, 640)\n",
      "\n",
      "0: 640x1088 1 ball, 463.4ms\n",
      "Speed: 12.1ms preprocess, 463.4ms inference, 0.9ms postprocess per image at shape (1, 3, 640, 1088)\n"
     ]
    },
    {
     "name": "stderr",
     "output_type": "stream",
     "text": [
      "Analizando partido (Golpes: 4):  43%|████▎     | 128/300 [05:54<08:01,  2.80s/frames]"
     ]
    },
    {
     "name": "stdout",
     "output_type": "stream",
     "text": [
      "\n",
      "0: 384x640 5 persons, 1 sports ball, 1 tennis racket, 965.3ms\n",
      "Speed: 1.9ms preprocess, 965.3ms inference, 1.1ms postprocess per image at shape (1, 3, 384, 640)\n",
      "\n",
      "0: 640x1088 1 ball, 415.9ms\n",
      "Speed: 5.6ms preprocess, 415.9ms inference, 1.1ms postprocess per image at shape (1, 3, 640, 1088)\n"
     ]
    },
    {
     "name": "stderr",
     "output_type": "stream",
     "text": [
      "Analizando partido (Golpes: 4):  43%|████▎     | 129/300 [05:56<07:49,  2.75s/frames]"
     ]
    },
    {
     "name": "stdout",
     "output_type": "stream",
     "text": [
      "\n",
      "0: 384x640 5 persons, 1 sports ball, 3 tennis rackets, 969.8ms\n",
      "Speed: 7.1ms preprocess, 969.8ms inference, 0.9ms postprocess per image at shape (1, 3, 384, 640)\n",
      "\n",
      "0: 640x1088 1 ball, 426.3ms\n",
      "Speed: 6.5ms preprocess, 426.3ms inference, 0.9ms postprocess per image at shape (1, 3, 640, 1088)\n"
     ]
    },
    {
     "name": "stderr",
     "output_type": "stream",
     "text": [
      "Analizando partido (Golpes: 4):  43%|████▎     | 130/300 [05:59<07:53,  2.79s/frames]"
     ]
    },
    {
     "name": "stdout",
     "output_type": "stream",
     "text": [
      "\n",
      "0: 384x640 5 persons, 1 sports ball, 3 tennis rackets, 917.1ms\n",
      "Speed: 1.9ms preprocess, 917.1ms inference, 1.0ms postprocess per image at shape (1, 3, 384, 640)\n",
      "\n",
      "0: 640x1088 1 ball, 532.4ms\n",
      "Speed: 6.9ms preprocess, 532.4ms inference, 1.1ms postprocess per image at shape (1, 3, 640, 1088)\n"
     ]
    },
    {
     "name": "stderr",
     "output_type": "stream",
     "text": [
      "Analizando partido (Golpes: 4):  44%|████▎     | 131/300 [06:02<07:48,  2.78s/frames]"
     ]
    },
    {
     "name": "stdout",
     "output_type": "stream",
     "text": [
      "\n",
      "0: 384x640 5 persons, 1 sports ball, 1 tennis racket, 957.9ms\n",
      "Speed: 1.8ms preprocess, 957.9ms inference, 1.0ms postprocess per image at shape (1, 3, 384, 640)\n",
      "\n",
      "0: 640x1088 1 ball, 438.0ms\n",
      "Speed: 6.4ms preprocess, 438.0ms inference, 0.9ms postprocess per image at shape (1, 3, 640, 1088)\n"
     ]
    },
    {
     "name": "stderr",
     "output_type": "stream",
     "text": [
      "Analizando partido (Golpes: 4):  44%|████▍     | 132/300 [06:05<07:38,  2.73s/frames]"
     ]
    },
    {
     "name": "stdout",
     "output_type": "stream",
     "text": [
      "\n",
      "0: 384x640 5 persons, 1 tennis racket, 920.0ms\n",
      "Speed: 3.0ms preprocess, 920.0ms inference, 0.9ms postprocess per image at shape (1, 3, 384, 640)\n",
      "\n",
      "0: 640x1088 (no detections), 434.9ms\n",
      "Speed: 6.4ms preprocess, 434.9ms inference, 0.6ms postprocess per image at shape (1, 3, 640, 1088)\n"
     ]
    },
    {
     "name": "stderr",
     "output_type": "stream",
     "text": [
      "Analizando partido (Golpes: 4):  44%|████▍     | 133/300 [06:07<07:35,  2.73s/frames]"
     ]
    },
    {
     "name": "stdout",
     "output_type": "stream",
     "text": [
      "\n",
      "0: 384x640 4 persons, 1 tennis racket, 1022.1ms\n",
      "Speed: 2.3ms preprocess, 1022.1ms inference, 0.9ms postprocess per image at shape (1, 3, 384, 640)\n",
      "\n",
      "0: 640x1088 1 ball, 476.0ms\n",
      "Speed: 7.6ms preprocess, 476.0ms inference, 0.9ms postprocess per image at shape (1, 3, 640, 1088)\n"
     ]
    },
    {
     "name": "stderr",
     "output_type": "stream",
     "text": [
      "Analizando partido (Golpes: 4):  45%|████▍     | 134/300 [06:10<07:32,  2.72s/frames]"
     ]
    },
    {
     "name": "stdout",
     "output_type": "stream",
     "text": [
      "\n",
      "0: 384x640 4 persons, 1 tennis racket, 970.6ms\n",
      "Speed: 2.1ms preprocess, 970.6ms inference, 1.0ms postprocess per image at shape (1, 3, 384, 640)\n",
      "\n",
      "0: 640x1088 (no detections), 465.7ms\n",
      "Speed: 6.5ms preprocess, 465.7ms inference, 0.6ms postprocess per image at shape (1, 3, 640, 1088)\n"
     ]
    },
    {
     "name": "stderr",
     "output_type": "stream",
     "text": [
      "Analizando partido (Golpes: 4):  45%|████▌     | 135/300 [06:13<07:32,  2.74s/frames]"
     ]
    },
    {
     "name": "stdout",
     "output_type": "stream",
     "text": [
      "\n",
      "0: 384x640 4 persons, 1 tennis racket, 968.2ms\n",
      "Speed: 1.9ms preprocess, 968.2ms inference, 1.0ms postprocess per image at shape (1, 3, 384, 640)\n",
      "\n",
      "0: 640x1088 (no detections), 428.6ms\n",
      "Speed: 6.8ms preprocess, 428.6ms inference, 0.6ms postprocess per image at shape (1, 3, 640, 1088)\n"
     ]
    },
    {
     "name": "stderr",
     "output_type": "stream",
     "text": [
      "Analizando partido (Golpes: 4):  45%|████▌     | 136/300 [06:15<07:22,  2.70s/frames]"
     ]
    },
    {
     "name": "stdout",
     "output_type": "stream",
     "text": [
      "\n",
      "0: 384x640 4 persons, 1 car, 2 tennis rackets, 1130.5ms\n",
      "Speed: 2.3ms preprocess, 1130.5ms inference, 0.9ms postprocess per image at shape (1, 3, 384, 640)\n",
      "\n",
      "0: 640x1088 (no detections), 453.2ms\n",
      "Speed: 6.9ms preprocess, 453.2ms inference, 0.6ms postprocess per image at shape (1, 3, 640, 1088)\n"
     ]
    },
    {
     "name": "stderr",
     "output_type": "stream",
     "text": [
      "Analizando partido (Golpes: 4):  46%|████▌     | 137/300 [06:19<07:42,  2.84s/frames]"
     ]
    },
    {
     "name": "stdout",
     "output_type": "stream",
     "text": [
      "\n",
      "0: 384x640 5 persons, 1 tennis racket, 936.9ms\n",
      "Speed: 1.9ms preprocess, 936.9ms inference, 1.0ms postprocess per image at shape (1, 3, 384, 640)\n",
      "\n",
      "0: 640x1088 1 ball, 461.2ms\n",
      "Speed: 6.6ms preprocess, 461.2ms inference, 1.0ms postprocess per image at shape (1, 3, 640, 1088)\n"
     ]
    },
    {
     "name": "stderr",
     "output_type": "stream",
     "text": [
      "Analizando partido (Golpes: 5):  46%|████▌     | 138/300 [06:21<07:30,  2.78s/frames]"
     ]
    },
    {
     "name": "stdout",
     "output_type": "stream",
     "text": [
      "\n",
      "0: 384x640 4 persons, 1 tennis racket, 1006.8ms\n",
      "Speed: 2.1ms preprocess, 1006.8ms inference, 1.1ms postprocess per image at shape (1, 3, 384, 640)\n",
      "\n",
      "0: 640x1088 1 ball, 455.4ms\n",
      "Speed: 6.0ms preprocess, 455.4ms inference, 0.9ms postprocess per image at shape (1, 3, 640, 1088)\n"
     ]
    },
    {
     "name": "stderr",
     "output_type": "stream",
     "text": [
      "Analizando partido (Golpes: 5):  46%|████▋     | 139/300 [06:24<07:25,  2.77s/frames]"
     ]
    },
    {
     "name": "stdout",
     "output_type": "stream",
     "text": [
      "\n",
      "0: 384x640 4 persons, 1 tennis racket, 942.4ms\n",
      "Speed: 2.0ms preprocess, 942.4ms inference, 1.2ms postprocess per image at shape (1, 3, 384, 640)\n",
      "\n",
      "0: 640x1088 1 ball, 548.3ms\n",
      "Speed: 5.9ms preprocess, 548.3ms inference, 1.0ms postprocess per image at shape (1, 3, 640, 1088)\n"
     ]
    },
    {
     "name": "stderr",
     "output_type": "stream",
     "text": [
      "Analizando partido (Golpes: 5):  47%|████▋     | 140/300 [06:27<07:28,  2.80s/frames]"
     ]
    },
    {
     "name": "stdout",
     "output_type": "stream",
     "text": [
      "\n",
      "0: 384x640 4 persons, 1 tennis racket, 955.5ms\n",
      "Speed: 1.9ms preprocess, 955.5ms inference, 0.9ms postprocess per image at shape (1, 3, 384, 640)\n",
      "\n",
      "0: 640x1088 1 ball, 435.5ms\n",
      "Speed: 7.0ms preprocess, 435.5ms inference, 0.9ms postprocess per image at shape (1, 3, 640, 1088)\n"
     ]
    },
    {
     "name": "stderr",
     "output_type": "stream",
     "text": [
      "Analizando partido (Golpes: 5):  47%|████▋     | 141/300 [06:29<07:15,  2.74s/frames]"
     ]
    },
    {
     "name": "stdout",
     "output_type": "stream",
     "text": [
      "\n",
      "0: 384x640 5 persons, 1 tennis racket, 975.8ms\n",
      "Speed: 11.0ms preprocess, 975.8ms inference, 0.9ms postprocess per image at shape (1, 3, 384, 640)\n",
      "\n",
      "0: 640x1088 1 ball, 477.1ms\n",
      "Speed: 5.5ms preprocess, 477.1ms inference, 1.1ms postprocess per image at shape (1, 3, 640, 1088)\n"
     ]
    },
    {
     "name": "stderr",
     "output_type": "stream",
     "text": [
      "Analizando partido (Golpes: 5):  47%|████▋     | 142/300 [06:32<07:17,  2.77s/frames]"
     ]
    },
    {
     "name": "stdout",
     "output_type": "stream",
     "text": [
      "\n",
      "0: 384x640 6 persons, 1 tennis racket, 969.3ms\n",
      "Speed: 1.7ms preprocess, 969.3ms inference, 1.0ms postprocess per image at shape (1, 3, 384, 640)\n",
      "\n",
      "0: 640x1088 1 ball, 472.3ms\n",
      "Speed: 8.4ms preprocess, 472.3ms inference, 1.0ms postprocess per image at shape (1, 3, 640, 1088)\n"
     ]
    },
    {
     "name": "stderr",
     "output_type": "stream",
     "text": [
      "Analizando partido (Golpes: 5):  48%|████▊     | 143/300 [06:35<07:09,  2.74s/frames]"
     ]
    },
    {
     "name": "stdout",
     "output_type": "stream",
     "text": [
      "\n",
      "0: 384x640 6 persons, 1 tennis racket, 966.6ms\n",
      "Speed: 1.7ms preprocess, 966.6ms inference, 1.0ms postprocess per image at shape (1, 3, 384, 640)\n",
      "\n",
      "0: 640x1088 (no detections), 607.7ms\n",
      "Speed: 7.4ms preprocess, 607.7ms inference, 0.7ms postprocess per image at shape (1, 3, 640, 1088)\n"
     ]
    },
    {
     "name": "stderr",
     "output_type": "stream",
     "text": [
      "Analizando partido (Golpes: 5):  48%|████▊     | 144/300 [06:38<07:21,  2.83s/frames]"
     ]
    },
    {
     "name": "stdout",
     "output_type": "stream",
     "text": [
      "\n",
      "0: 384x640 4 persons, 1 tennis racket, 935.0ms\n",
      "Speed: 1.8ms preprocess, 935.0ms inference, 1.0ms postprocess per image at shape (1, 3, 384, 640)\n",
      "\n",
      "0: 640x1088 1 ball, 592.7ms\n",
      "Speed: 8.6ms preprocess, 592.7ms inference, 0.9ms postprocess per image at shape (1, 3, 640, 1088)\n"
     ]
    },
    {
     "name": "stderr",
     "output_type": "stream",
     "text": [
      "Analizando partido (Golpes: 5):  48%|████▊     | 145/300 [06:41<07:14,  2.80s/frames]"
     ]
    },
    {
     "name": "stdout",
     "output_type": "stream",
     "text": [
      "\n",
      "0: 384x640 5 persons, 1 tennis racket, 920.3ms\n",
      "Speed: 3.9ms preprocess, 920.3ms inference, 1.0ms postprocess per image at shape (1, 3, 384, 640)\n",
      "\n",
      "0: 640x1088 1 ball, 535.2ms\n",
      "Speed: 6.4ms preprocess, 535.2ms inference, 0.9ms postprocess per image at shape (1, 3, 640, 1088)\n"
     ]
    },
    {
     "name": "stderr",
     "output_type": "stream",
     "text": [
      "Analizando partido (Golpes: 5):  49%|████▊     | 146/300 [06:43<07:06,  2.77s/frames]"
     ]
    },
    {
     "name": "stdout",
     "output_type": "stream",
     "text": [
      "\n",
      "0: 384x640 7 persons, 1 car, 1 tennis racket, 911.2ms\n",
      "Speed: 2.1ms preprocess, 911.2ms inference, 1.1ms postprocess per image at shape (1, 3, 384, 640)\n",
      "\n",
      "0: 640x1088 (no detections), 442.1ms\n",
      "Speed: 9.1ms preprocess, 442.1ms inference, 0.6ms postprocess per image at shape (1, 3, 640, 1088)\n"
     ]
    },
    {
     "name": "stderr",
     "output_type": "stream",
     "text": [
      "Analizando partido (Golpes: 5):  49%|████▉     | 147/300 [06:46<07:04,  2.77s/frames]"
     ]
    },
    {
     "name": "stdout",
     "output_type": "stream",
     "text": [
      "\n",
      "0: 384x640 7 persons, 1 car, 2 tennis rackets, 927.1ms\n",
      "Speed: 1.8ms preprocess, 927.1ms inference, 0.9ms postprocess per image at shape (1, 3, 384, 640)\n",
      "\n",
      "0: 640x1088 2 balls, 471.4ms\n",
      "Speed: 6.0ms preprocess, 471.4ms inference, 0.9ms postprocess per image at shape (1, 3, 640, 1088)\n"
     ]
    },
    {
     "name": "stderr",
     "output_type": "stream",
     "text": [
      "Analizando partido (Golpes: 6):  49%|████▉     | 148/300 [06:49<07:00,  2.76s/frames]"
     ]
    },
    {
     "name": "stdout",
     "output_type": "stream",
     "text": [
      "\n",
      "0: 384x640 7 persons, 2 tennis rackets, 1050.8ms\n",
      "Speed: 2.0ms preprocess, 1050.8ms inference, 1.2ms postprocess per image at shape (1, 3, 384, 640)\n",
      "\n",
      "0: 640x1088 2 balls, 466.6ms\n",
      "Speed: 6.2ms preprocess, 466.6ms inference, 0.9ms postprocess per image at shape (1, 3, 640, 1088)\n"
     ]
    },
    {
     "name": "stderr",
     "output_type": "stream",
     "text": [
      "Analizando partido (Golpes: 6):  50%|████▉     | 149/300 [06:52<06:56,  2.76s/frames]"
     ]
    },
    {
     "name": "stdout",
     "output_type": "stream",
     "text": [
      "\n",
      "0: 384x640 6 persons, 1 car, 1 sports ball, 2 tennis rackets, 935.8ms\n",
      "Speed: 1.7ms preprocess, 935.8ms inference, 1.1ms postprocess per image at shape (1, 3, 384, 640)\n",
      "\n",
      "0: 640x1088 2 balls, 430.4ms\n",
      "Speed: 12.1ms preprocess, 430.4ms inference, 1.2ms postprocess per image at shape (1, 3, 640, 1088)\n"
     ]
    },
    {
     "name": "stderr",
     "output_type": "stream",
     "text": [
      "Analizando partido (Golpes: 6):  50%|█████     | 150/300 [06:54<06:46,  2.71s/frames]"
     ]
    },
    {
     "name": "stdout",
     "output_type": "stream",
     "text": [
      "\n",
      "0: 384x640 4 persons, 2 tennis rackets, 1056.8ms\n",
      "Speed: 1.7ms preprocess, 1056.8ms inference, 0.9ms postprocess per image at shape (1, 3, 384, 640)\n",
      "\n",
      "0: 640x1088 1 ball, 453.9ms\n",
      "Speed: 6.5ms preprocess, 453.9ms inference, 0.9ms postprocess per image at shape (1, 3, 640, 1088)\n"
     ]
    },
    {
     "name": "stderr",
     "output_type": "stream",
     "text": [
      "Analizando partido (Golpes: 6):  50%|█████     | 151/300 [06:57<07:00,  2.82s/frames]"
     ]
    },
    {
     "name": "stdout",
     "output_type": "stream",
     "text": [
      "\n",
      "0: 384x640 4 persons, 1 tennis racket, 1010.0ms\n",
      "Speed: 1.7ms preprocess, 1010.0ms inference, 1.0ms postprocess per image at shape (1, 3, 384, 640)\n",
      "\n",
      "0: 640x1088 1 ball, 444.2ms\n",
      "Speed: 7.4ms preprocess, 444.2ms inference, 0.9ms postprocess per image at shape (1, 3, 640, 1088)\n"
     ]
    },
    {
     "name": "stderr",
     "output_type": "stream",
     "text": [
      "Analizando partido (Golpes: 6):  51%|█████     | 152/300 [07:00<06:50,  2.77s/frames]"
     ]
    },
    {
     "name": "stdout",
     "output_type": "stream",
     "text": [
      "\n",
      "0: 384x640 4 persons, 2 tennis rackets, 975.0ms\n",
      "Speed: 1.7ms preprocess, 975.0ms inference, 0.9ms postprocess per image at shape (1, 3, 384, 640)\n",
      "\n",
      "0: 640x1088 1 ball, 474.5ms\n",
      "Speed: 6.8ms preprocess, 474.5ms inference, 0.9ms postprocess per image at shape (1, 3, 640, 1088)\n"
     ]
    },
    {
     "name": "stderr",
     "output_type": "stream",
     "text": [
      "Analizando partido (Golpes: 6):  51%|█████     | 153/300 [07:03<06:41,  2.73s/frames]"
     ]
    },
    {
     "name": "stdout",
     "output_type": "stream",
     "text": [
      "\n",
      "0: 384x640 4 persons, 2 tennis rackets, 910.6ms\n",
      "Speed: 1.9ms preprocess, 910.6ms inference, 1.5ms postprocess per image at shape (1, 3, 384, 640)\n",
      "\n",
      "0: 640x1088 1 ball, 443.5ms\n",
      "Speed: 5.9ms preprocess, 443.5ms inference, 0.9ms postprocess per image at shape (1, 3, 640, 1088)\n"
     ]
    },
    {
     "name": "stderr",
     "output_type": "stream",
     "text": [
      "Analizando partido (Golpes: 6):  51%|█████▏    | 154/300 [07:05<06:39,  2.74s/frames]"
     ]
    },
    {
     "name": "stdout",
     "output_type": "stream",
     "text": [
      "\n",
      "0: 384x640 4 persons, 2 tennis rackets, 937.9ms\n",
      "Speed: 2.1ms preprocess, 937.9ms inference, 1.0ms postprocess per image at shape (1, 3, 384, 640)\n",
      "\n",
      "0: 640x1088 1 ball, 436.8ms\n",
      "Speed: 7.1ms preprocess, 436.8ms inference, 0.9ms postprocess per image at shape (1, 3, 640, 1088)\n"
     ]
    },
    {
     "name": "stderr",
     "output_type": "stream",
     "text": [
      "Analizando partido (Golpes: 6):  52%|█████▏    | 155/300 [07:08<06:37,  2.74s/frames]"
     ]
    },
    {
     "name": "stdout",
     "output_type": "stream",
     "text": [
      "\n",
      "0: 384x640 4 persons, 3 tennis rackets, 1023.6ms\n",
      "Speed: 7.4ms preprocess, 1023.6ms inference, 1.0ms postprocess per image at shape (1, 3, 384, 640)\n",
      "\n",
      "0: 640x1088 (no detections), 488.5ms\n",
      "Speed: 10.0ms preprocess, 488.5ms inference, 0.6ms postprocess per image at shape (1, 3, 640, 1088)\n"
     ]
    },
    {
     "name": "stderr",
     "output_type": "stream",
     "text": [
      "Analizando partido (Golpes: 6):  52%|█████▏    | 156/300 [07:11<06:39,  2.77s/frames]"
     ]
    },
    {
     "name": "stdout",
     "output_type": "stream",
     "text": [
      "\n",
      "0: 384x640 4 persons, 3 tennis rackets, 1023.0ms\n",
      "Speed: 1.8ms preprocess, 1023.0ms inference, 1.0ms postprocess per image at shape (1, 3, 384, 640)\n",
      "\n",
      "0: 640x1088 (no detections), 485.7ms\n",
      "Speed: 6.7ms preprocess, 485.7ms inference, 5.3ms postprocess per image at shape (1, 3, 640, 1088)\n"
     ]
    },
    {
     "name": "stderr",
     "output_type": "stream",
     "text": [
      "Analizando partido (Golpes: 6):  52%|█████▏    | 157/300 [07:14<06:34,  2.76s/frames]"
     ]
    },
    {
     "name": "stdout",
     "output_type": "stream",
     "text": [
      "\n",
      "0: 384x640 5 persons, 3 tennis rackets, 1266.3ms\n",
      "Speed: 1.7ms preprocess, 1266.3ms inference, 1.0ms postprocess per image at shape (1, 3, 384, 640)\n",
      "\n",
      "0: 640x1088 1 ball, 503.8ms\n",
      "Speed: 5.9ms preprocess, 503.8ms inference, 0.9ms postprocess per image at shape (1, 3, 640, 1088)\n"
     ]
    },
    {
     "name": "stderr",
     "output_type": "stream",
     "text": [
      "Analizando partido (Golpes: 6):  53%|█████▎    | 158/300 [07:17<06:46,  2.87s/frames]"
     ]
    },
    {
     "name": "stdout",
     "output_type": "stream",
     "text": [
      "\n",
      "0: 384x640 5 persons, 2 tennis rackets, 993.8ms\n",
      "Speed: 1.9ms preprocess, 993.8ms inference, 1.0ms postprocess per image at shape (1, 3, 384, 640)\n",
      "\n",
      "0: 640x1088 (no detections), 454.2ms\n",
      "Speed: 14.8ms preprocess, 454.2ms inference, 0.6ms postprocess per image at shape (1, 3, 640, 1088)\n"
     ]
    },
    {
     "name": "stderr",
     "output_type": "stream",
     "text": [
      "Analizando partido (Golpes: 6):  53%|█████▎    | 159/300 [07:20<06:36,  2.81s/frames]"
     ]
    },
    {
     "name": "stdout",
     "output_type": "stream",
     "text": [
      "\n",
      "0: 384x640 4 persons, 2 tennis rackets, 970.5ms\n",
      "Speed: 2.3ms preprocess, 970.5ms inference, 1.0ms postprocess per image at shape (1, 3, 384, 640)\n",
      "\n",
      "0: 640x1088 (no detections), 463.2ms\n",
      "Speed: 6.0ms preprocess, 463.2ms inference, 0.6ms postprocess per image at shape (1, 3, 640, 1088)\n"
     ]
    },
    {
     "name": "stderr",
     "output_type": "stream",
     "text": [
      "Analizando partido (Golpes: 6):  53%|█████▎    | 160/300 [07:22<06:33,  2.81s/frames]"
     ]
    },
    {
     "name": "stdout",
     "output_type": "stream",
     "text": [
      "\n",
      "0: 384x640 5 persons, 1 tennis racket, 913.9ms\n",
      "Speed: 2.0ms preprocess, 913.9ms inference, 1.1ms postprocess per image at shape (1, 3, 384, 640)\n",
      "\n",
      "0: 640x1088 1 ball, 482.3ms\n",
      "Speed: 6.6ms preprocess, 482.3ms inference, 1.0ms postprocess per image at shape (1, 3, 640, 1088)\n"
     ]
    },
    {
     "name": "stderr",
     "output_type": "stream",
     "text": [
      "Analizando partido (Golpes: 6):  54%|█████▎    | 161/300 [07:25<06:30,  2.81s/frames]"
     ]
    },
    {
     "name": "stdout",
     "output_type": "stream",
     "text": [
      "\n",
      "0: 384x640 4 persons, 1 tennis racket, 1009.5ms\n",
      "Speed: 7.1ms preprocess, 1009.5ms inference, 1.0ms postprocess per image at shape (1, 3, 384, 640)\n",
      "\n",
      "0: 640x1088 (no detections), 494.7ms\n",
      "Speed: 6.1ms preprocess, 494.7ms inference, 0.6ms postprocess per image at shape (1, 3, 640, 1088)\n"
     ]
    },
    {
     "name": "stderr",
     "output_type": "stream",
     "text": [
      "Analizando partido (Golpes: 6):  54%|█████▍    | 162/300 [07:28<06:31,  2.84s/frames]"
     ]
    },
    {
     "name": "stdout",
     "output_type": "stream",
     "text": [
      "\n",
      "0: 384x640 4 persons, 1 tennis racket, 1053.4ms\n",
      "Speed: 2.0ms preprocess, 1053.4ms inference, 1.0ms postprocess per image at shape (1, 3, 384, 640)\n",
      "\n",
      "0: 640x1088 (no detections), 453.4ms\n",
      "Speed: 13.1ms preprocess, 453.4ms inference, 0.6ms postprocess per image at shape (1, 3, 640, 1088)\n"
     ]
    },
    {
     "name": "stderr",
     "output_type": "stream",
     "text": [
      "Analizando partido (Golpes: 6):  54%|█████▍    | 163/300 [07:31<06:24,  2.81s/frames]"
     ]
    },
    {
     "name": "stdout",
     "output_type": "stream",
     "text": [
      "\n",
      "0: 384x640 4 persons, 1 tennis racket, 969.7ms\n",
      "Speed: 2.2ms preprocess, 969.7ms inference, 1.1ms postprocess per image at shape (1, 3, 384, 640)\n",
      "\n",
      "0: 640x1088 (no detections), 481.4ms\n",
      "Speed: 7.9ms preprocess, 481.4ms inference, 0.8ms postprocess per image at shape (1, 3, 640, 1088)\n"
     ]
    },
    {
     "name": "stderr",
     "output_type": "stream",
     "text": [
      "Analizando partido (Golpes: 6):  55%|█████▍    | 164/300 [07:34<06:19,  2.79s/frames]"
     ]
    },
    {
     "name": "stdout",
     "output_type": "stream",
     "text": [
      "\n",
      "0: 384x640 4 persons, 1 sports ball, 2 tennis rackets, 952.6ms\n",
      "Speed: 8.8ms preprocess, 952.6ms inference, 1.0ms postprocess per image at shape (1, 3, 384, 640)\n",
      "\n",
      "0: 640x1088 (no detections), 566.1ms\n",
      "Speed: 9.6ms preprocess, 566.1ms inference, 0.6ms postprocess per image at shape (1, 3, 640, 1088)\n"
     ]
    },
    {
     "name": "stderr",
     "output_type": "stream",
     "text": [
      "Analizando partido (Golpes: 6):  55%|█████▌    | 165/300 [07:37<06:24,  2.85s/frames]"
     ]
    },
    {
     "name": "stdout",
     "output_type": "stream",
     "text": [
      "\n",
      "0: 384x640 5 persons, 1 tennis racket, 979.7ms\n",
      "Speed: 1.8ms preprocess, 979.7ms inference, 0.9ms postprocess per image at shape (1, 3, 384, 640)\n",
      "\n",
      "0: 640x1088 (no detections), 540.3ms\n",
      "Speed: 7.8ms preprocess, 540.3ms inference, 0.6ms postprocess per image at shape (1, 3, 640, 1088)\n"
     ]
    },
    {
     "name": "stderr",
     "output_type": "stream",
     "text": [
      "Analizando partido (Golpes: 6):  55%|█████▌    | 166/300 [07:39<06:17,  2.82s/frames]"
     ]
    },
    {
     "name": "stdout",
     "output_type": "stream",
     "text": [
      "\n",
      "0: 384x640 5 persons, 1 tennis racket, 932.3ms\n",
      "Speed: 1.9ms preprocess, 932.3ms inference, 1.1ms postprocess per image at shape (1, 3, 384, 640)\n",
      "\n",
      "0: 640x1088 (no detections), 593.3ms\n",
      "Speed: 8.7ms preprocess, 593.3ms inference, 0.6ms postprocess per image at shape (1, 3, 640, 1088)\n"
     ]
    },
    {
     "name": "stderr",
     "output_type": "stream",
     "text": [
      "Analizando partido (Golpes: 6):  56%|█████▌    | 167/300 [07:42<06:11,  2.79s/frames]"
     ]
    },
    {
     "name": "stdout",
     "output_type": "stream",
     "text": [
      "\n",
      "0: 384x640 4 persons, 1 tennis racket, 955.4ms\n",
      "Speed: 1.8ms preprocess, 955.4ms inference, 1.1ms postprocess per image at shape (1, 3, 384, 640)\n",
      "\n",
      "0: 640x1088 1 ball, 445.3ms\n",
      "Speed: 6.4ms preprocess, 445.3ms inference, 0.9ms postprocess per image at shape (1, 3, 640, 1088)\n"
     ]
    },
    {
     "name": "stderr",
     "output_type": "stream",
     "text": [
      "Analizando partido (Golpes: 6):  56%|█████▌    | 168/300 [07:45<06:12,  2.82s/frames]"
     ]
    },
    {
     "name": "stdout",
     "output_type": "stream",
     "text": [
      "\n",
      "0: 384x640 5 persons, 2 tennis rackets, 1254.8ms\n",
      "Speed: 2.3ms preprocess, 1254.8ms inference, 1.2ms postprocess per image at shape (1, 3, 384, 640)\n",
      "\n",
      "0: 640x1088 (no detections), 665.9ms\n",
      "Speed: 6.1ms preprocess, 665.9ms inference, 0.6ms postprocess per image at shape (1, 3, 640, 1088)\n"
     ]
    },
    {
     "name": "stderr",
     "output_type": "stream",
     "text": [
      "Analizando partido (Golpes: 6):  56%|█████▋    | 169/300 [07:48<06:24,  2.94s/frames]"
     ]
    },
    {
     "name": "stdout",
     "output_type": "stream",
     "text": [
      "\n",
      "0: 384x640 4 persons, 1 sports ball, 2 tennis rackets, 1135.1ms\n",
      "Speed: 1.8ms preprocess, 1135.1ms inference, 1.5ms postprocess per image at shape (1, 3, 384, 640)\n",
      "\n",
      "0: 640x1088 1 ball, 468.7ms\n",
      "Speed: 15.7ms preprocess, 468.7ms inference, 0.9ms postprocess per image at shape (1, 3, 640, 1088)\n"
     ]
    },
    {
     "name": "stderr",
     "output_type": "stream",
     "text": [
      "Analizando partido (Golpes: 6):  57%|█████▋    | 170/300 [07:51<06:19,  2.92s/frames]"
     ]
    },
    {
     "name": "stdout",
     "output_type": "stream",
     "text": [
      "\n",
      "0: 384x640 5 persons, 1 tennis racket, 974.4ms\n",
      "Speed: 2.0ms preprocess, 974.4ms inference, 1.2ms postprocess per image at shape (1, 3, 384, 640)\n",
      "\n",
      "0: 640x1088 1 ball, 575.0ms\n",
      "Speed: 6.4ms preprocess, 575.0ms inference, 1.1ms postprocess per image at shape (1, 3, 640, 1088)\n"
     ]
    },
    {
     "name": "stderr",
     "output_type": "stream",
     "text": [
      "Analizando partido (Golpes: 6):  57%|█████▋    | 171/300 [07:54<06:13,  2.89s/frames]"
     ]
    },
    {
     "name": "stdout",
     "output_type": "stream",
     "text": [
      "\n",
      "0: 384x640 5 persons, 1 tennis racket, 969.5ms\n",
      "Speed: 2.5ms preprocess, 969.5ms inference, 0.9ms postprocess per image at shape (1, 3, 384, 640)\n",
      "\n",
      "0: 640x1088 1 ball, 472.0ms\n",
      "Speed: 7.8ms preprocess, 472.0ms inference, 1.0ms postprocess per image at shape (1, 3, 640, 1088)\n"
     ]
    },
    {
     "name": "stderr",
     "output_type": "stream",
     "text": [
      "Analizando partido (Golpes: 6):  57%|█████▋    | 172/300 [07:57<06:07,  2.87s/frames]"
     ]
    },
    {
     "name": "stdout",
     "output_type": "stream",
     "text": [
      "\n",
      "0: 384x640 5 persons, 1 sports ball, 2 tennis rackets, 970.6ms\n",
      "Speed: 2.0ms preprocess, 970.6ms inference, 1.0ms postprocess per image at shape (1, 3, 384, 640)\n",
      "\n",
      "0: 640x1088 (no detections), 475.1ms\n",
      "Speed: 7.7ms preprocess, 475.1ms inference, 0.6ms postprocess per image at shape (1, 3, 640, 1088)\n"
     ]
    },
    {
     "name": "stderr",
     "output_type": "stream",
     "text": [
      "Analizando partido (Golpes: 6):  58%|█████▊    | 173/300 [07:59<05:56,  2.81s/frames]"
     ]
    },
    {
     "name": "stdout",
     "output_type": "stream",
     "text": [
      "\n",
      "0: 384x640 5 persons, 2 tennis rackets, 920.0ms\n",
      "Speed: 1.9ms preprocess, 920.0ms inference, 1.2ms postprocess per image at shape (1, 3, 384, 640)\n",
      "\n",
      "0: 640x1088 (no detections), 469.0ms\n",
      "Speed: 10.9ms preprocess, 469.0ms inference, 0.6ms postprocess per image at shape (1, 3, 640, 1088)\n"
     ]
    },
    {
     "name": "stderr",
     "output_type": "stream",
     "text": [
      "Analizando partido (Golpes: 6):  58%|█████▊    | 174/300 [08:02<05:48,  2.76s/frames]"
     ]
    },
    {
     "name": "stdout",
     "output_type": "stream",
     "text": [
      "\n",
      "0: 384x640 5 persons, 995.1ms\n",
      "Speed: 1.9ms preprocess, 995.1ms inference, 1.2ms postprocess per image at shape (1, 3, 384, 640)\n",
      "\n",
      "0: 640x1088 1 ball, 567.2ms\n",
      "Speed: 6.0ms preprocess, 567.2ms inference, 1.1ms postprocess per image at shape (1, 3, 640, 1088)\n"
     ]
    },
    {
     "name": "stderr",
     "output_type": "stream",
     "text": [
      "Analizando partido (Golpes: 6):  58%|█████▊    | 175/300 [08:05<05:51,  2.81s/frames]"
     ]
    },
    {
     "name": "stdout",
     "output_type": "stream",
     "text": [
      "\n",
      "0: 384x640 5 persons, 1060.6ms\n",
      "Speed: 2.0ms preprocess, 1060.6ms inference, 0.9ms postprocess per image at shape (1, 3, 384, 640)\n",
      "\n",
      "0: 640x1088 (no detections), 458.3ms\n",
      "Speed: 8.1ms preprocess, 458.3ms inference, 0.6ms postprocess per image at shape (1, 3, 640, 1088)\n"
     ]
    },
    {
     "name": "stderr",
     "output_type": "stream",
     "text": [
      "Analizando partido (Golpes: 6):  59%|█████▊    | 176/300 [08:08<05:45,  2.79s/frames]"
     ]
    },
    {
     "name": "stdout",
     "output_type": "stream",
     "text": [
      "\n",
      "0: 384x640 5 persons, 962.1ms\n",
      "Speed: 2.1ms preprocess, 962.1ms inference, 0.9ms postprocess per image at shape (1, 3, 384, 640)\n",
      "\n",
      "0: 640x1088 1 ball, 470.4ms\n",
      "Speed: 6.7ms preprocess, 470.4ms inference, 1.0ms postprocess per image at shape (1, 3, 640, 1088)\n"
     ]
    },
    {
     "name": "stderr",
     "output_type": "stream",
     "text": [
      "Analizando partido (Golpes: 6):  59%|█████▉    | 177/300 [08:10<05:38,  2.75s/frames]"
     ]
    },
    {
     "name": "stdout",
     "output_type": "stream",
     "text": [
      "\n",
      "0: 384x640 6 persons, 1 tennis racket, 1051.6ms\n",
      "Speed: 2.1ms preprocess, 1051.6ms inference, 2.2ms postprocess per image at shape (1, 3, 384, 640)\n",
      "\n",
      "0: 640x1088 (no detections), 489.7ms\n",
      "Speed: 6.2ms preprocess, 489.7ms inference, 0.7ms postprocess per image at shape (1, 3, 640, 1088)\n"
     ]
    },
    {
     "name": "stderr",
     "output_type": "stream",
     "text": [
      "Analizando partido (Golpes: 6):  59%|█████▉    | 178/300 [08:13<05:44,  2.82s/frames]"
     ]
    },
    {
     "name": "stdout",
     "output_type": "stream",
     "text": [
      "\n",
      "0: 384x640 6 persons, 1 tennis racket, 912.3ms\n",
      "Speed: 2.2ms preprocess, 912.3ms inference, 0.9ms postprocess per image at shape (1, 3, 384, 640)\n",
      "\n",
      "0: 640x1088 (no detections), 578.7ms\n",
      "Speed: 6.5ms preprocess, 578.7ms inference, 0.6ms postprocess per image at shape (1, 3, 640, 1088)\n"
     ]
    },
    {
     "name": "stderr",
     "output_type": "stream",
     "text": [
      "Analizando partido (Golpes: 6):  60%|█████▉    | 179/300 [08:16<05:43,  2.84s/frames]"
     ]
    },
    {
     "name": "stdout",
     "output_type": "stream",
     "text": [
      "\n",
      "0: 384x640 6 persons, 927.7ms\n",
      "Speed: 1.7ms preprocess, 927.7ms inference, 0.9ms postprocess per image at shape (1, 3, 384, 640)\n",
      "\n",
      "0: 640x1088 (no detections), 484.3ms\n",
      "Speed: 6.4ms preprocess, 484.3ms inference, 0.6ms postprocess per image at shape (1, 3, 640, 1088)\n"
     ]
    },
    {
     "name": "stderr",
     "output_type": "stream",
     "text": [
      "Analizando partido (Golpes: 6):  60%|██████    | 180/300 [08:19<05:35,  2.80s/frames]"
     ]
    },
    {
     "name": "stdout",
     "output_type": "stream",
     "text": [
      "\n",
      "0: 384x640 5 persons, 928.8ms\n",
      "Speed: 1.8ms preprocess, 928.8ms inference, 1.0ms postprocess per image at shape (1, 3, 384, 640)\n",
      "\n",
      "0: 640x1088 (no detections), 416.2ms\n",
      "Speed: 6.4ms preprocess, 416.2ms inference, 0.6ms postprocess per image at shape (1, 3, 640, 1088)\n"
     ]
    },
    {
     "name": "stderr",
     "output_type": "stream",
     "text": [
      "Analizando partido (Golpes: 6):  60%|██████    | 181/300 [08:22<05:33,  2.81s/frames]"
     ]
    },
    {
     "name": "stdout",
     "output_type": "stream",
     "text": [
      "\n",
      "0: 384x640 5 persons, 1059.1ms\n",
      "Speed: 1.9ms preprocess, 1059.1ms inference, 1.4ms postprocess per image at shape (1, 3, 384, 640)\n",
      "\n",
      "0: 640x1088 1 ball, 480.8ms\n",
      "Speed: 5.8ms preprocess, 480.8ms inference, 0.9ms postprocess per image at shape (1, 3, 640, 1088)\n"
     ]
    },
    {
     "name": "stderr",
     "output_type": "stream",
     "text": [
      "Analizando partido (Golpes: 6):  61%|██████    | 182/300 [08:25<05:34,  2.84s/frames]"
     ]
    },
    {
     "name": "stdout",
     "output_type": "stream",
     "text": [
      "\n",
      "0: 384x640 5 persons, 950.7ms\n",
      "Speed: 2.2ms preprocess, 950.7ms inference, 0.9ms postprocess per image at shape (1, 3, 384, 640)\n",
      "\n",
      "0: 640x1088 (no detections), 459.4ms\n",
      "Speed: 6.7ms preprocess, 459.4ms inference, 0.6ms postprocess per image at shape (1, 3, 640, 1088)\n"
     ]
    },
    {
     "name": "stderr",
     "output_type": "stream",
     "text": [
      "Analizando partido (Golpes: 6):  61%|██████    | 183/300 [08:27<05:24,  2.77s/frames]"
     ]
    },
    {
     "name": "stdout",
     "output_type": "stream",
     "text": [
      "\n",
      "0: 384x640 5 persons, 1 tennis racket, 1123.9ms\n",
      "Speed: 4.1ms preprocess, 1123.9ms inference, 1.0ms postprocess per image at shape (1, 3, 384, 640)\n",
      "\n",
      "0: 640x1088 (no detections), 487.2ms\n",
      "Speed: 7.4ms preprocess, 487.2ms inference, 0.7ms postprocess per image at shape (1, 3, 640, 1088)\n"
     ]
    },
    {
     "name": "stderr",
     "output_type": "stream",
     "text": [
      "Analizando partido (Golpes: 6):  61%|██████▏   | 184/300 [08:30<05:26,  2.81s/frames]"
     ]
    },
    {
     "name": "stdout",
     "output_type": "stream",
     "text": [
      "\n",
      "0: 384x640 5 persons, 1 tennis racket, 981.1ms\n",
      "Speed: 2.1ms preprocess, 981.1ms inference, 1.3ms postprocess per image at shape (1, 3, 384, 640)\n",
      "\n",
      "0: 640x1088 (no detections), 446.4ms\n",
      "Speed: 7.9ms preprocess, 446.4ms inference, 1.7ms postprocess per image at shape (1, 3, 640, 1088)\n"
     ]
    },
    {
     "name": "stderr",
     "output_type": "stream",
     "text": [
      "Analizando partido (Golpes: 6):  62%|██████▏   | 185/300 [08:33<05:16,  2.76s/frames]"
     ]
    },
    {
     "name": "stdout",
     "output_type": "stream",
     "text": [
      "\n",
      "0: 384x640 5 persons, 1 sports ball, 1 tennis racket, 946.2ms\n",
      "Speed: 1.9ms preprocess, 946.2ms inference, 0.9ms postprocess per image at shape (1, 3, 384, 640)\n",
      "\n",
      "0: 640x1088 (no detections), 438.2ms\n",
      "Speed: 6.6ms preprocess, 438.2ms inference, 0.6ms postprocess per image at shape (1, 3, 640, 1088)\n"
     ]
    },
    {
     "name": "stderr",
     "output_type": "stream",
     "text": [
      "Analizando partido (Golpes: 6):  62%|██████▏   | 186/300 [08:36<05:15,  2.77s/frames]"
     ]
    },
    {
     "name": "stdout",
     "output_type": "stream",
     "text": [
      "\n",
      "0: 384x640 5 persons, 1 sports ball, 2 tennis rackets, 946.5ms\n",
      "Speed: 1.8ms preprocess, 946.5ms inference, 1.0ms postprocess per image at shape (1, 3, 384, 640)\n",
      "\n",
      "0: 640x1088 (no detections), 437.9ms\n",
      "Speed: 6.1ms preprocess, 437.9ms inference, 0.6ms postprocess per image at shape (1, 3, 640, 1088)\n"
     ]
    },
    {
     "name": "stderr",
     "output_type": "stream",
     "text": [
      "Analizando partido (Golpes: 6):  62%|██████▏   | 187/300 [08:39<05:18,  2.82s/frames]"
     ]
    },
    {
     "name": "stdout",
     "output_type": "stream",
     "text": [
      "\n",
      "0: 384x640 5 persons, 2 tennis rackets, 965.5ms\n",
      "Speed: 2.0ms preprocess, 965.5ms inference, 1.1ms postprocess per image at shape (1, 3, 384, 640)\n",
      "\n",
      "0: 640x1088 1 ball, 472.4ms\n",
      "Speed: 7.2ms preprocess, 472.4ms inference, 1.0ms postprocess per image at shape (1, 3, 640, 1088)\n"
     ]
    },
    {
     "name": "stderr",
     "output_type": "stream",
     "text": [
      "Analizando partido (Golpes: 6):  63%|██████▎   | 188/300 [08:41<05:11,  2.78s/frames]"
     ]
    },
    {
     "name": "stdout",
     "output_type": "stream",
     "text": [
      "\n",
      "0: 384x640 5 persons, 2 tennis rackets, 918.5ms\n",
      "Speed: 1.8ms preprocess, 918.5ms inference, 1.1ms postprocess per image at shape (1, 3, 384, 640)\n",
      "\n",
      "0: 640x1088 (no detections), 507.4ms\n",
      "Speed: 6.2ms preprocess, 507.4ms inference, 0.6ms postprocess per image at shape (1, 3, 640, 1088)\n"
     ]
    },
    {
     "name": "stderr",
     "output_type": "stream",
     "text": [
      "Analizando partido (Golpes: 6):  63%|██████▎   | 189/300 [08:44<05:08,  2.78s/frames]"
     ]
    },
    {
     "name": "stdout",
     "output_type": "stream",
     "text": [
      "\n",
      "0: 384x640 5 persons, 2 tennis rackets, 928.5ms\n",
      "Speed: 2.0ms preprocess, 928.5ms inference, 0.9ms postprocess per image at shape (1, 3, 384, 640)\n",
      "\n",
      "0: 640x1088 (no detections), 464.3ms\n",
      "Speed: 10.0ms preprocess, 464.3ms inference, 0.6ms postprocess per image at shape (1, 3, 640, 1088)\n"
     ]
    },
    {
     "name": "stderr",
     "output_type": "stream",
     "text": [
      "Analizando partido (Golpes: 6):  63%|██████▎   | 190/300 [08:47<04:59,  2.73s/frames]"
     ]
    },
    {
     "name": "stdout",
     "output_type": "stream",
     "text": [
      "\n",
      "0: 384x640 5 persons, 1 sports ball, 2 tennis rackets, 1207.9ms\n",
      "Speed: 2.0ms preprocess, 1207.9ms inference, 1.1ms postprocess per image at shape (1, 3, 384, 640)\n",
      "\n",
      "0: 640x1088 1 ball, 468.1ms\n",
      "Speed: 6.8ms preprocess, 468.1ms inference, 1.1ms postprocess per image at shape (1, 3, 640, 1088)\n"
     ]
    },
    {
     "name": "stderr",
     "output_type": "stream",
     "text": [
      "Analizando partido (Golpes: 6):  64%|██████▎   | 191/300 [08:50<05:04,  2.80s/frames]"
     ]
    },
    {
     "name": "stdout",
     "output_type": "stream",
     "text": [
      "\n",
      "0: 384x640 5 persons, 1 sports ball, 3 tennis rackets, 955.6ms\n",
      "Speed: 2.2ms preprocess, 955.6ms inference, 1.0ms postprocess per image at shape (1, 3, 384, 640)\n",
      "\n",
      "0: 640x1088 1 ball, 575.6ms\n",
      "Speed: 6.4ms preprocess, 575.6ms inference, 1.3ms postprocess per image at shape (1, 3, 640, 1088)\n"
     ]
    },
    {
     "name": "stderr",
     "output_type": "stream",
     "text": [
      "Analizando partido (Golpes: 6):  64%|██████▍   | 192/300 [08:52<05:02,  2.80s/frames]"
     ]
    },
    {
     "name": "stdout",
     "output_type": "stream",
     "text": [
      "\n",
      "0: 384x640 6 persons, 2 tennis rackets, 1018.5ms\n",
      "Speed: 2.0ms preprocess, 1018.5ms inference, 1.0ms postprocess per image at shape (1, 3, 384, 640)\n",
      "\n",
      "0: 640x1088 1 ball, 525.2ms\n",
      "Speed: 8.2ms preprocess, 525.2ms inference, 1.0ms postprocess per image at shape (1, 3, 640, 1088)\n"
     ]
    },
    {
     "name": "stderr",
     "output_type": "stream",
     "text": [
      "Analizando partido (Golpes: 6):  64%|██████▍   | 193/300 [08:55<05:06,  2.87s/frames]"
     ]
    },
    {
     "name": "stdout",
     "output_type": "stream",
     "text": [
      "\n",
      "0: 384x640 6 persons, 2 tennis rackets, 972.0ms\n",
      "Speed: 1.7ms preprocess, 972.0ms inference, 1.0ms postprocess per image at shape (1, 3, 384, 640)\n",
      "\n",
      "0: 640x1088 1 ball, 474.2ms\n",
      "Speed: 9.0ms preprocess, 474.2ms inference, 1.0ms postprocess per image at shape (1, 3, 640, 1088)\n"
     ]
    },
    {
     "name": "stderr",
     "output_type": "stream",
     "text": [
      "Analizando partido (Golpes: 6):  65%|██████▍   | 194/300 [08:58<04:57,  2.81s/frames]"
     ]
    },
    {
     "name": "stdout",
     "output_type": "stream",
     "text": [
      "\n",
      "0: 384x640 6 persons, 2 tennis rackets, 966.5ms\n",
      "Speed: 1.8ms preprocess, 966.5ms inference, 1.8ms postprocess per image at shape (1, 3, 384, 640)\n",
      "\n",
      "0: 640x1088 1 ball, 476.0ms\n",
      "Speed: 6.5ms preprocess, 476.0ms inference, 1.0ms postprocess per image at shape (1, 3, 640, 1088)\n"
     ]
    },
    {
     "name": "stderr",
     "output_type": "stream",
     "text": [
      "Analizando partido (Golpes: 6):  65%|██████▌   | 195/300 [09:01<04:50,  2.77s/frames]"
     ]
    },
    {
     "name": "stdout",
     "output_type": "stream",
     "text": [
      "\n",
      "0: 384x640 6 persons, 2 tennis rackets, 1203.6ms\n",
      "Speed: 2.5ms preprocess, 1203.6ms inference, 1.1ms postprocess per image at shape (1, 3, 384, 640)\n",
      "\n",
      "0: 640x1088 1 ball, 463.4ms\n",
      "Speed: 5.9ms preprocess, 463.4ms inference, 0.9ms postprocess per image at shape (1, 3, 640, 1088)\n"
     ]
    },
    {
     "name": "stderr",
     "output_type": "stream",
     "text": [
      "Analizando partido (Golpes: 6):  65%|██████▌   | 196/300 [09:04<04:58,  2.87s/frames]"
     ]
    },
    {
     "name": "stdout",
     "output_type": "stream",
     "text": [
      "\n",
      "0: 384x640 5 persons, 2 tennis rackets, 1010.1ms\n",
      "Speed: 1.8ms preprocess, 1010.1ms inference, 0.9ms postprocess per image at shape (1, 3, 384, 640)\n",
      "\n",
      "0: 640x1088 1 ball, 455.6ms\n",
      "Speed: 6.7ms preprocess, 455.6ms inference, 0.9ms postprocess per image at shape (1, 3, 640, 1088)\n"
     ]
    },
    {
     "name": "stderr",
     "output_type": "stream",
     "text": [
      "Analizando partido (Golpes: 6):  66%|██████▌   | 197/300 [09:07<04:51,  2.83s/frames]"
     ]
    },
    {
     "name": "stdout",
     "output_type": "stream",
     "text": [
      "\n",
      "0: 384x640 5 persons, 2 tennis rackets, 937.2ms\n",
      "Speed: 1.9ms preprocess, 937.2ms inference, 1.1ms postprocess per image at shape (1, 3, 384, 640)\n",
      "\n",
      "0: 640x1088 1 ball, 482.6ms\n",
      "Speed: 10.8ms preprocess, 482.6ms inference, 0.9ms postprocess per image at shape (1, 3, 640, 1088)\n"
     ]
    },
    {
     "name": "stderr",
     "output_type": "stream",
     "text": [
      "Analizando partido (Golpes: 6):  66%|██████▌   | 198/300 [09:09<04:43,  2.77s/frames]"
     ]
    },
    {
     "name": "stdout",
     "output_type": "stream",
     "text": [
      "\n",
      "0: 384x640 5 persons, 3 tennis rackets, 1246.0ms\n",
      "Speed: 2.2ms preprocess, 1246.0ms inference, 1.1ms postprocess per image at shape (1, 3, 384, 640)\n",
      "\n",
      "0: 640x1088 1 ball, 447.6ms\n",
      "Speed: 6.5ms preprocess, 447.6ms inference, 1.1ms postprocess per image at shape (1, 3, 640, 1088)\n"
     ]
    },
    {
     "name": "stderr",
     "output_type": "stream",
     "text": [
      "Analizando partido (Golpes: 6):  66%|██████▋   | 199/300 [09:12<04:46,  2.83s/frames]"
     ]
    },
    {
     "name": "stdout",
     "output_type": "stream",
     "text": [
      "\n",
      "0: 384x640 5 persons, 2 tennis rackets, 990.5ms\n",
      "Speed: 1.8ms preprocess, 990.5ms inference, 1.0ms postprocess per image at shape (1, 3, 384, 640)\n",
      "\n",
      "0: 640x1088 2 balls, 469.3ms\n",
      "Speed: 6.4ms preprocess, 469.3ms inference, 1.0ms postprocess per image at shape (1, 3, 640, 1088)\n"
     ]
    },
    {
     "name": "stderr",
     "output_type": "stream",
     "text": [
      "Analizando partido (Golpes: 6):  67%|██████▋   | 200/300 [09:15<04:45,  2.86s/frames]"
     ]
    },
    {
     "name": "stdout",
     "output_type": "stream",
     "text": [
      "\n",
      "0: 384x640 6 persons, 4 tennis rackets, 941.2ms\n",
      "Speed: 2.6ms preprocess, 941.2ms inference, 1.0ms postprocess per image at shape (1, 3, 384, 640)\n",
      "\n",
      "0: 640x1088 2 balls, 586.6ms\n",
      "Speed: 6.4ms preprocess, 586.6ms inference, 1.1ms postprocess per image at shape (1, 3, 640, 1088)\n"
     ]
    },
    {
     "name": "stderr",
     "output_type": "stream",
     "text": [
      "Analizando partido (Golpes: 6):  67%|██████▋   | 201/300 [09:18<04:40,  2.84s/frames]"
     ]
    },
    {
     "name": "stdout",
     "output_type": "stream",
     "text": [
      "\n",
      "0: 384x640 6 persons, 1 sports ball, 2 tennis rackets, 975.1ms\n",
      "Speed: 6.6ms preprocess, 975.1ms inference, 1.0ms postprocess per image at shape (1, 3, 384, 640)\n",
      "\n",
      "0: 640x1088 1 ball, 478.0ms\n",
      "Speed: 10.6ms preprocess, 478.0ms inference, 0.9ms postprocess per image at shape (1, 3, 640, 1088)\n"
     ]
    },
    {
     "name": "stderr",
     "output_type": "stream",
     "text": [
      "Analizando partido (Golpes: 6):  67%|██████▋   | 202/300 [09:21<04:37,  2.84s/frames]"
     ]
    },
    {
     "name": "stdout",
     "output_type": "stream",
     "text": [
      "\n",
      "0: 384x640 6 persons, 1 car, 1 sports ball, 2 tennis rackets, 962.0ms\n",
      "Speed: 1.7ms preprocess, 962.0ms inference, 1.0ms postprocess per image at shape (1, 3, 384, 640)\n",
      "\n",
      "0: 640x1088 1 ball, 465.0ms\n",
      "Speed: 6.0ms preprocess, 465.0ms inference, 0.9ms postprocess per image at shape (1, 3, 640, 1088)\n"
     ]
    },
    {
     "name": "stderr",
     "output_type": "stream",
     "text": [
      "Analizando partido (Golpes: 6):  68%|██████▊   | 203/300 [09:24<04:37,  2.86s/frames]"
     ]
    },
    {
     "name": "stdout",
     "output_type": "stream",
     "text": [
      "\n",
      "0: 384x640 6 persons, 1 sports ball, 1 tennis racket, 931.7ms\n",
      "Speed: 1.9ms preprocess, 931.7ms inference, 0.9ms postprocess per image at shape (1, 3, 384, 640)\n",
      "\n",
      "0: 640x1088 1 ball, 459.8ms\n",
      "Speed: 6.2ms preprocess, 459.8ms inference, 0.9ms postprocess per image at shape (1, 3, 640, 1088)\n"
     ]
    },
    {
     "name": "stderr",
     "output_type": "stream",
     "text": [
      "Analizando partido (Golpes: 6):  68%|██████▊   | 204/300 [09:26<04:28,  2.79s/frames]"
     ]
    },
    {
     "name": "stdout",
     "output_type": "stream",
     "text": [
      "\n",
      "0: 384x640 6 persons, 1 car, 2 tennis rackets, 1296.7ms\n",
      "Speed: 1.8ms preprocess, 1296.7ms inference, 1.2ms postprocess per image at shape (1, 3, 384, 640)\n",
      "\n",
      "0: 640x1088 1 ball, 436.2ms\n",
      "Speed: 7.0ms preprocess, 436.2ms inference, 1.0ms postprocess per image at shape (1, 3, 640, 1088)\n"
     ]
    },
    {
     "name": "stderr",
     "output_type": "stream",
     "text": [
      "Analizando partido (Golpes: 6):  68%|██████▊   | 205/300 [09:29<04:31,  2.85s/frames]"
     ]
    },
    {
     "name": "stdout",
     "output_type": "stream",
     "text": [
      "\n",
      "0: 384x640 5 persons, 1 car, 1 tennis racket, 945.0ms\n",
      "Speed: 1.7ms preprocess, 945.0ms inference, 1.0ms postprocess per image at shape (1, 3, 384, 640)\n",
      "\n",
      "0: 640x1088 1 ball, 479.9ms\n",
      "Speed: 9.4ms preprocess, 479.9ms inference, 1.1ms postprocess per image at shape (1, 3, 640, 1088)\n"
     ]
    },
    {
     "name": "stderr",
     "output_type": "stream",
     "text": [
      "Analizando partido (Golpes: 6):  69%|██████▊   | 206/300 [09:32<04:23,  2.80s/frames]"
     ]
    },
    {
     "name": "stdout",
     "output_type": "stream",
     "text": [
      "\n",
      "0: 384x640 5 persons, 1 car, 1 tennis racket, 974.0ms\n",
      "Speed: 1.7ms preprocess, 974.0ms inference, 1.1ms postprocess per image at shape (1, 3, 384, 640)\n",
      "\n",
      "0: 640x1088 1 ball, 466.5ms\n",
      "Speed: 6.3ms preprocess, 466.5ms inference, 0.9ms postprocess per image at shape (1, 3, 640, 1088)\n"
     ]
    },
    {
     "name": "stderr",
     "output_type": "stream",
     "text": [
      "Analizando partido (Golpes: 6):  69%|██████▉   | 207/300 [09:35<04:20,  2.80s/frames]"
     ]
    },
    {
     "name": "stdout",
     "output_type": "stream",
     "text": [
      "\n",
      "0: 384x640 6 persons, 2 tennis rackets, 1039.4ms\n",
      "Speed: 1.7ms preprocess, 1039.4ms inference, 2.2ms postprocess per image at shape (1, 3, 384, 640)\n",
      "\n",
      "0: 640x1088 1 ball, 447.6ms\n",
      "Speed: 8.5ms preprocess, 447.6ms inference, 1.0ms postprocess per image at shape (1, 3, 640, 1088)\n"
     ]
    },
    {
     "name": "stderr",
     "output_type": "stream",
     "text": [
      "Analizando partido (Golpes: 6):  69%|██████▉   | 208/300 [09:38<04:20,  2.84s/frames]"
     ]
    },
    {
     "name": "stdout",
     "output_type": "stream",
     "text": [
      "\n",
      "0: 384x640 4 persons, 1 tennis racket, 1067.6ms\n",
      "Speed: 3.0ms preprocess, 1067.6ms inference, 0.9ms postprocess per image at shape (1, 3, 384, 640)\n",
      "\n",
      "0: 640x1088 (no detections), 492.2ms\n",
      "Speed: 10.5ms preprocess, 492.2ms inference, 0.6ms postprocess per image at shape (1, 3, 640, 1088)\n"
     ]
    },
    {
     "name": "stderr",
     "output_type": "stream",
     "text": [
      "Analizando partido (Golpes: 6):  70%|██████▉   | 209/300 [09:41<04:18,  2.85s/frames]"
     ]
    },
    {
     "name": "stdout",
     "output_type": "stream",
     "text": [
      "\n",
      "0: 384x640 4 persons, 1 car, 1 tennis racket, 931.5ms\n",
      "Speed: 2.1ms preprocess, 931.5ms inference, 0.9ms postprocess per image at shape (1, 3, 384, 640)\n",
      "\n",
      "0: 640x1088 1 ball, 482.0ms\n",
      "Speed: 6.0ms preprocess, 482.0ms inference, 0.9ms postprocess per image at shape (1, 3, 640, 1088)\n"
     ]
    },
    {
     "name": "stderr",
     "output_type": "stream",
     "text": [
      "Analizando partido (Golpes: 6):  70%|███████   | 210/300 [09:43<04:15,  2.84s/frames]"
     ]
    },
    {
     "name": "stdout",
     "output_type": "stream",
     "text": [
      "\n",
      "0: 384x640 4 persons, 1 car, 1 tennis racket, 1149.8ms\n",
      "Speed: 1.9ms preprocess, 1149.8ms inference, 0.9ms postprocess per image at shape (1, 3, 384, 640)\n",
      "\n",
      "0: 640x1088 1 ball, 483.0ms\n",
      "Speed: 7.0ms preprocess, 483.0ms inference, 1.0ms postprocess per image at shape (1, 3, 640, 1088)\n"
     ]
    },
    {
     "name": "stderr",
     "output_type": "stream",
     "text": [
      "Analizando partido (Golpes: 6):  70%|███████   | 211/300 [09:46<04:15,  2.87s/frames]"
     ]
    },
    {
     "name": "stdout",
     "output_type": "stream",
     "text": [
      "\n",
      "0: 384x640 5 persons, 1 car, 1 sports ball, 1118.1ms\n",
      "Speed: 1.9ms preprocess, 1118.1ms inference, 0.9ms postprocess per image at shape (1, 3, 384, 640)\n",
      "\n",
      "0: 640x1088 1 ball, 456.8ms\n",
      "Speed: 8.2ms preprocess, 456.8ms inference, 1.1ms postprocess per image at shape (1, 3, 640, 1088)\n"
     ]
    },
    {
     "name": "stderr",
     "output_type": "stream",
     "text": [
      "Analizando partido (Golpes: 6):  71%|███████   | 212/300 [09:49<04:10,  2.85s/frames]"
     ]
    },
    {
     "name": "stdout",
     "output_type": "stream",
     "text": [
      "\n",
      "0: 384x640 5 persons, 1 car, 1151.3ms\n",
      "Speed: 6.5ms preprocess, 1151.3ms inference, 1.0ms postprocess per image at shape (1, 3, 384, 640)\n",
      "\n",
      "0: 640x1088 (no detections), 461.2ms\n",
      "Speed: 6.8ms preprocess, 461.2ms inference, 0.8ms postprocess per image at shape (1, 3, 640, 1088)\n"
     ]
    },
    {
     "name": "stderr",
     "output_type": "stream",
     "text": [
      "Analizando partido (Golpes: 6):  71%|███████   | 213/300 [09:52<04:10,  2.88s/frames]"
     ]
    },
    {
     "name": "stdout",
     "output_type": "stream",
     "text": [
      "\n",
      "0: 384x640 5 persons, 1 car, 1081.4ms\n",
      "Speed: 2.0ms preprocess, 1081.4ms inference, 1.1ms postprocess per image at shape (1, 3, 384, 640)\n",
      "\n",
      "0: 640x1088 (no detections), 469.0ms\n",
      "Speed: 6.3ms preprocess, 469.0ms inference, 0.6ms postprocess per image at shape (1, 3, 640, 1088)\n"
     ]
    },
    {
     "name": "stderr",
     "output_type": "stream",
     "text": [
      "Analizando partido (Golpes: 6):  71%|███████▏  | 214/300 [09:55<04:11,  2.93s/frames]"
     ]
    },
    {
     "name": "stdout",
     "output_type": "stream",
     "text": [
      "\n",
      "0: 384x640 5 persons, 1 car, 992.0ms\n",
      "Speed: 2.6ms preprocess, 992.0ms inference, 1.2ms postprocess per image at shape (1, 3, 384, 640)\n",
      "\n",
      "0: 640x1088 (no detections), 459.0ms\n",
      "Speed: 7.5ms preprocess, 459.0ms inference, 0.6ms postprocess per image at shape (1, 3, 640, 1088)\n"
     ]
    },
    {
     "name": "stderr",
     "output_type": "stream",
     "text": [
      "Analizando partido (Golpes: 6):  72%|███████▏  | 215/300 [09:58<04:04,  2.87s/frames]"
     ]
    },
    {
     "name": "stdout",
     "output_type": "stream",
     "text": [
      "\n",
      "0: 384x640 5 persons, 1 car, 936.2ms\n",
      "Speed: 2.1ms preprocess, 936.2ms inference, 1.3ms postprocess per image at shape (1, 3, 384, 640)\n",
      "\n",
      "0: 640x1088 (no detections), 463.1ms\n",
      "Speed: 6.0ms preprocess, 463.1ms inference, 0.6ms postprocess per image at shape (1, 3, 640, 1088)\n"
     ]
    },
    {
     "name": "stderr",
     "output_type": "stream",
     "text": [
      "Analizando partido (Golpes: 6):  72%|███████▏  | 216/300 [10:01<04:01,  2.87s/frames]"
     ]
    },
    {
     "name": "stdout",
     "output_type": "stream",
     "text": [
      "\n",
      "0: 384x640 5 persons, 1 car, 1 tennis racket, 1107.4ms\n",
      "Speed: 2.4ms preprocess, 1107.4ms inference, 1.2ms postprocess per image at shape (1, 3, 384, 640)\n",
      "\n",
      "0: 640x1088 (no detections), 450.5ms\n",
      "Speed: 5.9ms preprocess, 450.5ms inference, 0.6ms postprocess per image at shape (1, 3, 640, 1088)\n"
     ]
    },
    {
     "name": "stderr",
     "output_type": "stream",
     "text": [
      "Analizando partido (Golpes: 6):  72%|███████▏  | 217/300 [10:04<04:01,  2.91s/frames]"
     ]
    },
    {
     "name": "stdout",
     "output_type": "stream",
     "text": [
      "\n",
      "0: 384x640 5 persons, 1 car, 2 tennis rackets, 951.5ms\n",
      "Speed: 1.9ms preprocess, 951.5ms inference, 0.9ms postprocess per image at shape (1, 3, 384, 640)\n",
      "\n",
      "0: 640x1088 (no detections), 490.9ms\n",
      "Speed: 6.3ms preprocess, 490.9ms inference, 0.7ms postprocess per image at shape (1, 3, 640, 1088)\n"
     ]
    },
    {
     "name": "stderr",
     "output_type": "stream",
     "text": [
      "Analizando partido (Golpes: 6):  73%|███████▎  | 218/300 [10:07<03:56,  2.89s/frames]"
     ]
    },
    {
     "name": "stdout",
     "output_type": "stream",
     "text": [
      "\n",
      "0: 384x640 5 persons, 1 car, 2 tennis rackets, 974.4ms\n",
      "Speed: 1.8ms preprocess, 974.4ms inference, 1.1ms postprocess per image at shape (1, 3, 384, 640)\n",
      "\n",
      "0: 640x1088 (no detections), 466.7ms\n",
      "Speed: 8.5ms preprocess, 466.7ms inference, 0.6ms postprocess per image at shape (1, 3, 640, 1088)\n"
     ]
    },
    {
     "name": "stderr",
     "output_type": "stream",
     "text": [
      "Analizando partido (Golpes: 6):  73%|███████▎  | 219/300 [10:09<03:48,  2.82s/frames]"
     ]
    },
    {
     "name": "stdout",
     "output_type": "stream",
     "text": [
      "\n",
      "0: 384x640 5 persons, 3 tennis rackets, 1228.5ms\n",
      "Speed: 1.8ms preprocess, 1228.5ms inference, 1.2ms postprocess per image at shape (1, 3, 384, 640)\n",
      "\n",
      "0: 640x1088 1 ball, 479.2ms\n",
      "Speed: 7.6ms preprocess, 479.2ms inference, 1.0ms postprocess per image at shape (1, 3, 640, 1088)\n"
     ]
    },
    {
     "name": "stderr",
     "output_type": "stream",
     "text": [
      "Analizando partido (Golpes: 6):  73%|███████▎  | 220/300 [10:12<03:50,  2.88s/frames]"
     ]
    },
    {
     "name": "stdout",
     "output_type": "stream",
     "text": [
      "\n",
      "0: 384x640 5 persons, 1 car, 2 tennis rackets, 966.5ms\n",
      "Speed: 2.0ms preprocess, 966.5ms inference, 0.9ms postprocess per image at shape (1, 3, 384, 640)\n",
      "\n",
      "0: 640x1088 1 ball, 493.8ms\n",
      "Speed: 7.0ms preprocess, 493.8ms inference, 1.0ms postprocess per image at shape (1, 3, 640, 1088)\n"
     ]
    },
    {
     "name": "stderr",
     "output_type": "stream",
     "text": [
      "Analizando partido (Golpes: 7):  74%|███████▎  | 221/300 [10:15<03:46,  2.87s/frames]"
     ]
    },
    {
     "name": "stdout",
     "output_type": "stream",
     "text": [
      "\n",
      "0: 384x640 5 persons, 2 tennis rackets, 1013.4ms\n",
      "Speed: 1.8ms preprocess, 1013.4ms inference, 0.9ms postprocess per image at shape (1, 3, 384, 640)\n",
      "\n",
      "0: 640x1088 1 ball, 620.6ms\n",
      "Speed: 8.8ms preprocess, 620.6ms inference, 0.9ms postprocess per image at shape (1, 3, 640, 1088)\n"
     ]
    },
    {
     "name": "stderr",
     "output_type": "stream",
     "text": [
      "Analizando partido (Golpes: 7):  74%|███████▍  | 222/300 [10:18<03:44,  2.87s/frames]"
     ]
    },
    {
     "name": "stdout",
     "output_type": "stream",
     "text": [
      "\n",
      "0: 384x640 5 persons, 1 sports ball, 1 tennis racket, 956.1ms\n",
      "Speed: 2.2ms preprocess, 956.1ms inference, 0.9ms postprocess per image at shape (1, 3, 384, 640)\n",
      "\n",
      "0: 640x1088 1 ball, 462.7ms\n",
      "Speed: 6.9ms preprocess, 462.7ms inference, 0.9ms postprocess per image at shape (1, 3, 640, 1088)\n"
     ]
    },
    {
     "name": "stderr",
     "output_type": "stream",
     "text": [
      "Analizando partido (Golpes: 7):  74%|███████▍  | 223/300 [10:21<03:39,  2.84s/frames]"
     ]
    },
    {
     "name": "stdout",
     "output_type": "stream",
     "text": [
      "\n",
      "0: 384x640 5 persons, 1 tennis racket, 959.9ms\n",
      "Speed: 1.8ms preprocess, 959.9ms inference, 6.1ms postprocess per image at shape (1, 3, 384, 640)\n",
      "\n",
      "0: 640x1088 1 ball, 469.3ms\n",
      "Speed: 6.0ms preprocess, 469.3ms inference, 0.9ms postprocess per image at shape (1, 3, 640, 1088)\n"
     ]
    },
    {
     "name": "stderr",
     "output_type": "stream",
     "text": [
      "Analizando partido (Golpes: 7):  75%|███████▍  | 224/300 [10:24<03:36,  2.85s/frames]"
     ]
    },
    {
     "name": "stdout",
     "output_type": "stream",
     "text": [
      "\n",
      "0: 384x640 5 persons, 1 tennis racket, 960.1ms\n",
      "Speed: 1.7ms preprocess, 960.1ms inference, 0.9ms postprocess per image at shape (1, 3, 384, 640)\n",
      "\n",
      "0: 640x1088 1 ball, 461.7ms\n",
      "Speed: 10.8ms preprocess, 461.7ms inference, 1.0ms postprocess per image at shape (1, 3, 640, 1088)\n"
     ]
    },
    {
     "name": "stderr",
     "output_type": "stream",
     "text": [
      "Analizando partido (Golpes: 7):  75%|███████▌  | 225/300 [10:26<03:32,  2.83s/frames]"
     ]
    },
    {
     "name": "stdout",
     "output_type": "stream",
     "text": [
      "\n",
      "0: 384x640 5 persons, 1 sports ball, 2 tennis rackets, 975.9ms\n",
      "Speed: 2.1ms preprocess, 975.9ms inference, 1.1ms postprocess per image at shape (1, 3, 384, 640)\n",
      "\n",
      "0: 640x1088 1 ball, 509.7ms\n",
      "Speed: 7.1ms preprocess, 509.7ms inference, 0.9ms postprocess per image at shape (1, 3, 640, 1088)\n"
     ]
    },
    {
     "name": "stderr",
     "output_type": "stream",
     "text": [
      "Analizando partido (Golpes: 7):  75%|███████▌  | 226/300 [10:29<03:33,  2.88s/frames]"
     ]
    },
    {
     "name": "stdout",
     "output_type": "stream",
     "text": [
      "\n",
      "0: 384x640 5 persons, 2 tennis rackets, 931.7ms\n",
      "Speed: 2.0ms preprocess, 931.7ms inference, 1.2ms postprocess per image at shape (1, 3, 384, 640)\n",
      "\n",
      "0: 640x1088 (no detections), 514.9ms\n",
      "Speed: 6.8ms preprocess, 514.9ms inference, 0.9ms postprocess per image at shape (1, 3, 640, 1088)\n"
     ]
    },
    {
     "name": "stderr",
     "output_type": "stream",
     "text": [
      "Analizando partido (Golpes: 7):  76%|███████▌  | 227/300 [10:32<03:25,  2.82s/frames]"
     ]
    },
    {
     "name": "stdout",
     "output_type": "stream",
     "text": [
      "\n",
      "0: 384x640 5 persons, 2 tennis rackets, 945.0ms\n",
      "Speed: 1.8ms preprocess, 945.0ms inference, 1.0ms postprocess per image at shape (1, 3, 384, 640)\n",
      "\n",
      "0: 640x1088 (no detections), 586.6ms\n",
      "Speed: 6.6ms preprocess, 586.6ms inference, 0.6ms postprocess per image at shape (1, 3, 640, 1088)\n"
     ]
    },
    {
     "name": "stderr",
     "output_type": "stream",
     "text": [
      "Analizando partido (Golpes: 7):  76%|███████▌  | 228/300 [10:35<03:27,  2.88s/frames]"
     ]
    },
    {
     "name": "stdout",
     "output_type": "stream",
     "text": [
      "\n",
      "0: 384x640 6 persons, 1 car, 2 tennis rackets, 915.1ms\n",
      "Speed: 1.9ms preprocess, 915.1ms inference, 1.0ms postprocess per image at shape (1, 3, 384, 640)\n",
      "\n",
      "0: 640x1088 (no detections), 442.7ms\n",
      "Speed: 6.8ms preprocess, 442.7ms inference, 0.6ms postprocess per image at shape (1, 3, 640, 1088)\n"
     ]
    },
    {
     "name": "stderr",
     "output_type": "stream",
     "text": [
      "Analizando partido (Golpes: 7):  76%|███████▋  | 229/300 [10:38<03:18,  2.80s/frames]"
     ]
    },
    {
     "name": "stdout",
     "output_type": "stream",
     "text": [
      "\n",
      "0: 384x640 5 persons, 2 tennis rackets, 1120.8ms\n",
      "Speed: 3.0ms preprocess, 1120.8ms inference, 1.2ms postprocess per image at shape (1, 3, 384, 640)\n",
      "\n",
      "0: 640x1088 (no detections), 494.2ms\n",
      "Speed: 5.9ms preprocess, 494.2ms inference, 0.7ms postprocess per image at shape (1, 3, 640, 1088)\n"
     ]
    },
    {
     "name": "stderr",
     "output_type": "stream",
     "text": [
      "Analizando partido (Golpes: 7):  77%|███████▋  | 230/300 [10:41<03:21,  2.88s/frames]"
     ]
    },
    {
     "name": "stdout",
     "output_type": "stream",
     "text": [
      "\n",
      "0: 384x640 5 persons, 1 car, 2 tennis rackets, 919.4ms\n",
      "Speed: 2.0ms preprocess, 919.4ms inference, 1.0ms postprocess per image at shape (1, 3, 384, 640)\n",
      "\n",
      "0: 640x1088 (no detections), 486.5ms\n",
      "Speed: 9.0ms preprocess, 486.5ms inference, 0.6ms postprocess per image at shape (1, 3, 640, 1088)\n"
     ]
    },
    {
     "name": "stderr",
     "output_type": "stream",
     "text": [
      "Analizando partido (Golpes: 7):  77%|███████▋  | 231/300 [10:44<03:16,  2.85s/frames]"
     ]
    },
    {
     "name": "stdout",
     "output_type": "stream",
     "text": [
      "\n",
      "0: 384x640 5 persons, 1 car, 2 tennis rackets, 1268.8ms\n",
      "Speed: 2.0ms preprocess, 1268.8ms inference, 0.9ms postprocess per image at shape (1, 3, 384, 640)\n",
      "\n",
      "0: 640x1088 (no detections), 469.6ms\n",
      "Speed: 6.9ms preprocess, 469.6ms inference, 0.9ms postprocess per image at shape (1, 3, 640, 1088)\n"
     ]
    },
    {
     "name": "stderr",
     "output_type": "stream",
     "text": [
      "Analizando partido (Golpes: 7):  77%|███████▋  | 232/300 [10:47<03:19,  2.94s/frames]"
     ]
    },
    {
     "name": "stdout",
     "output_type": "stream",
     "text": [
      "\n",
      "0: 384x640 6 persons, 1 tennis racket, 1159.9ms\n",
      "Speed: 3.1ms preprocess, 1159.9ms inference, 0.9ms postprocess per image at shape (1, 3, 384, 640)\n",
      "\n",
      "0: 640x1088 (no detections), 606.6ms\n",
      "Speed: 8.5ms preprocess, 606.6ms inference, 0.7ms postprocess per image at shape (1, 3, 640, 1088)\n"
     ]
    },
    {
     "name": "stderr",
     "output_type": "stream",
     "text": [
      "Analizando partido (Golpes: 7):  78%|███████▊  | 233/300 [10:50<03:19,  2.97s/frames]"
     ]
    },
    {
     "name": "stdout",
     "output_type": "stream",
     "text": [
      "\n",
      "0: 384x640 6 persons, 1 tennis racket, 1087.2ms\n",
      "Speed: 1.8ms preprocess, 1087.2ms inference, 1.1ms postprocess per image at shape (1, 3, 384, 640)\n",
      "\n",
      "0: 640x1088 (no detections), 483.6ms\n",
      "Speed: 9.9ms preprocess, 483.6ms inference, 0.9ms postprocess per image at shape (1, 3, 640, 1088)\n"
     ]
    },
    {
     "name": "stderr",
     "output_type": "stream",
     "text": [
      "Analizando partido (Golpes: 7):  78%|███████▊  | 234/300 [10:52<03:12,  2.92s/frames]"
     ]
    },
    {
     "name": "stdout",
     "output_type": "stream",
     "text": [
      "\n",
      "0: 384x640 5 persons, 2 tennis rackets, 966.8ms\n",
      "Speed: 1.8ms preprocess, 966.8ms inference, 0.9ms postprocess per image at shape (1, 3, 384, 640)\n",
      "\n",
      "0: 640x1088 (no detections), 509.0ms\n",
      "Speed: 10.3ms preprocess, 509.0ms inference, 1.3ms postprocess per image at shape (1, 3, 640, 1088)\n"
     ]
    },
    {
     "name": "stderr",
     "output_type": "stream",
     "text": [
      "Analizando partido (Golpes: 7):  78%|███████▊  | 235/300 [10:55<03:09,  2.91s/frames]"
     ]
    },
    {
     "name": "stdout",
     "output_type": "stream",
     "text": [
      "\n",
      "0: 384x640 5 persons, 2 tennis rackets, 1221.0ms\n",
      "Speed: 2.0ms preprocess, 1221.0ms inference, 0.9ms postprocess per image at shape (1, 3, 384, 640)\n",
      "\n",
      "0: 640x1088 (no detections), 508.9ms\n",
      "Speed: 11.5ms preprocess, 508.9ms inference, 0.6ms postprocess per image at shape (1, 3, 640, 1088)\n"
     ]
    },
    {
     "name": "stderr",
     "output_type": "stream",
     "text": [
      "Analizando partido (Golpes: 7):  79%|███████▊  | 236/300 [10:58<03:07,  2.93s/frames]"
     ]
    },
    {
     "name": "stdout",
     "output_type": "stream",
     "text": [
      "\n",
      "0: 384x640 5 persons, 1 tennis racket, 930.5ms\n",
      "Speed: 1.9ms preprocess, 930.5ms inference, 0.9ms postprocess per image at shape (1, 3, 384, 640)\n",
      "\n",
      "0: 640x1088 (no detections), 498.0ms\n",
      "Speed: 6.6ms preprocess, 498.0ms inference, 0.6ms postprocess per image at shape (1, 3, 640, 1088)\n"
     ]
    },
    {
     "name": "stderr",
     "output_type": "stream",
     "text": [
      "Analizando partido (Golpes: 7):  79%|███████▉  | 237/300 [11:01<03:02,  2.90s/frames]"
     ]
    },
    {
     "name": "stdout",
     "output_type": "stream",
     "text": [
      "\n",
      "0: 384x640 5 persons, 2 tennis rackets, 959.1ms\n",
      "Speed: 2.6ms preprocess, 959.1ms inference, 1.2ms postprocess per image at shape (1, 3, 384, 640)\n",
      "\n",
      "0: 640x1088 (no detections), 456.0ms\n",
      "Speed: 6.5ms preprocess, 456.0ms inference, 0.6ms postprocess per image at shape (1, 3, 640, 1088)\n"
     ]
    },
    {
     "name": "stderr",
     "output_type": "stream",
     "text": [
      "Analizando partido (Golpes: 7):  79%|███████▉  | 238/300 [11:04<03:02,  2.94s/frames]"
     ]
    },
    {
     "name": "stdout",
     "output_type": "stream",
     "text": [
      "\n",
      "0: 384x640 5 persons, 1 tennis racket, 941.0ms\n",
      "Speed: 1.6ms preprocess, 941.0ms inference, 0.9ms postprocess per image at shape (1, 3, 384, 640)\n",
      "\n",
      "0: 640x1088 (no detections), 457.4ms\n",
      "Speed: 5.9ms preprocess, 457.4ms inference, 0.6ms postprocess per image at shape (1, 3, 640, 1088)\n"
     ]
    },
    {
     "name": "stderr",
     "output_type": "stream",
     "text": [
      "Analizando partido (Golpes: 7):  80%|███████▉  | 239/300 [11:07<02:56,  2.90s/frames]"
     ]
    },
    {
     "name": "stdout",
     "output_type": "stream",
     "text": [
      "\n",
      "0: 384x640 5 persons, 1 tennis racket, 1008.1ms\n",
      "Speed: 2.0ms preprocess, 1008.1ms inference, 1.1ms postprocess per image at shape (1, 3, 384, 640)\n",
      "\n",
      "0: 640x1088 (no detections), 523.2ms\n",
      "Speed: 7.8ms preprocess, 523.2ms inference, 0.6ms postprocess per image at shape (1, 3, 640, 1088)\n"
     ]
    },
    {
     "name": "stderr",
     "output_type": "stream",
     "text": [
      "Analizando partido (Golpes: 7):  80%|████████  | 240/300 [11:10<02:51,  2.86s/frames]"
     ]
    },
    {
     "name": "stdout",
     "output_type": "stream",
     "text": [
      "\n",
      "0: 384x640 5 persons, 1 tennis racket, 1271.3ms\n",
      "Speed: 1.6ms preprocess, 1271.3ms inference, 1.0ms postprocess per image at shape (1, 3, 384, 640)\n",
      "\n",
      "0: 640x1088 1 ball, 453.1ms\n",
      "Speed: 7.3ms preprocess, 453.1ms inference, 0.9ms postprocess per image at shape (1, 3, 640, 1088)\n"
     ]
    },
    {
     "name": "stderr",
     "output_type": "stream",
     "text": [
      "Analizando partido (Golpes: 7):  80%|████████  | 241/300 [11:13<02:50,  2.89s/frames]"
     ]
    },
    {
     "name": "stdout",
     "output_type": "stream",
     "text": [
      "\n",
      "0: 384x640 5 persons, 2 tennis rackets, 955.3ms\n",
      "Speed: 1.8ms preprocess, 955.3ms inference, 1.1ms postprocess per image at shape (1, 3, 384, 640)\n",
      "\n",
      "0: 640x1088 1 ball, 442.1ms\n",
      "Speed: 7.2ms preprocess, 442.1ms inference, 1.0ms postprocess per image at shape (1, 3, 640, 1088)\n"
     ]
    },
    {
     "name": "stderr",
     "output_type": "stream",
     "text": [
      "Analizando partido (Golpes: 7):  81%|████████  | 242/300 [11:16<02:45,  2.86s/frames]"
     ]
    },
    {
     "name": "stdout",
     "output_type": "stream",
     "text": [
      "\n",
      "0: 384x640 5 persons, 2 tennis rackets, 1053.5ms\n",
      "Speed: 2.0ms preprocess, 1053.5ms inference, 0.9ms postprocess per image at shape (1, 3, 384, 640)\n",
      "\n",
      "0: 640x1088 1 ball, 496.7ms\n",
      "Speed: 9.5ms preprocess, 496.7ms inference, 0.9ms postprocess per image at shape (1, 3, 640, 1088)\n"
     ]
    },
    {
     "name": "stderr",
     "output_type": "stream",
     "text": [
      "Analizando partido (Golpes: 7):  81%|████████  | 243/300 [11:18<02:41,  2.83s/frames]"
     ]
    },
    {
     "name": "stdout",
     "output_type": "stream",
     "text": [
      "\n",
      "0: 384x640 5 persons, 2 tennis rackets, 1011.6ms\n",
      "Speed: 1.7ms preprocess, 1011.6ms inference, 1.2ms postprocess per image at shape (1, 3, 384, 640)\n",
      "\n",
      "0: 640x1088 1 ball, 522.0ms\n",
      "Speed: 6.6ms preprocess, 522.0ms inference, 1.6ms postprocess per image at shape (1, 3, 640, 1088)\n"
     ]
    },
    {
     "name": "stderr",
     "output_type": "stream",
     "text": [
      "Analizando partido (Golpes: 7):  81%|████████▏ | 244/300 [11:21<02:42,  2.90s/frames]"
     ]
    },
    {
     "name": "stdout",
     "output_type": "stream",
     "text": [
      "\n",
      "0: 384x640 5 persons, 1 tennis racket, 983.5ms\n",
      "Speed: 1.8ms preprocess, 983.5ms inference, 1.1ms postprocess per image at shape (1, 3, 384, 640)\n",
      "\n",
      "0: 640x1088 1 ball, 501.4ms\n",
      "Speed: 6.1ms preprocess, 501.4ms inference, 0.9ms postprocess per image at shape (1, 3, 640, 1088)\n"
     ]
    },
    {
     "name": "stderr",
     "output_type": "stream",
     "text": [
      "Analizando partido (Golpes: 7):  82%|████████▏ | 245/300 [11:24<02:39,  2.90s/frames]"
     ]
    },
    {
     "name": "stdout",
     "output_type": "stream",
     "text": [
      "\n",
      "0: 384x640 5 persons, 1 tennis racket, 984.2ms\n",
      "Speed: 2.1ms preprocess, 984.2ms inference, 0.9ms postprocess per image at shape (1, 3, 384, 640)\n",
      "\n",
      "0: 640x1088 1 ball, 541.3ms\n",
      "Speed: 6.4ms preprocess, 541.3ms inference, 0.9ms postprocess per image at shape (1, 3, 640, 1088)\n"
     ]
    },
    {
     "name": "stderr",
     "output_type": "stream",
     "text": [
      "Analizando partido (Golpes: 7):  82%|████████▏ | 246/300 [11:27<02:33,  2.85s/frames]"
     ]
    },
    {
     "name": "stdout",
     "output_type": "stream",
     "text": [
      "\n",
      "0: 384x640 5 persons, 1 car, 1 sports ball, 908.3ms\n",
      "Speed: 1.6ms preprocess, 908.3ms inference, 0.9ms postprocess per image at shape (1, 3, 384, 640)\n",
      "\n",
      "0: 640x1088 1 ball, 427.1ms\n",
      "Speed: 6.6ms preprocess, 427.1ms inference, 1.8ms postprocess per image at shape (1, 3, 640, 1088)\n"
     ]
    },
    {
     "name": "stderr",
     "output_type": "stream",
     "text": [
      "Analizando partido (Golpes: 7):  82%|████████▏ | 247/300 [11:30<02:29,  2.83s/frames]"
     ]
    },
    {
     "name": "stdout",
     "output_type": "stream",
     "text": [
      "\n",
      "0: 384x640 6 persons, 1 car, 1055.3ms\n",
      "Speed: 3.0ms preprocess, 1055.3ms inference, 1.1ms postprocess per image at shape (1, 3, 384, 640)\n",
      "\n",
      "0: 640x1088 1 ball, 466.0ms\n",
      "Speed: 8.4ms preprocess, 466.0ms inference, 1.0ms postprocess per image at shape (1, 3, 640, 1088)\n"
     ]
    },
    {
     "name": "stderr",
     "output_type": "stream",
     "text": [
      "Analizando partido (Golpes: 7):  83%|████████▎ | 248/300 [11:33<02:27,  2.83s/frames]"
     ]
    },
    {
     "name": "stdout",
     "output_type": "stream",
     "text": [
      "\n",
      "0: 384x640 5 persons, 2 tennis rackets, 1026.9ms\n",
      "Speed: 1.6ms preprocess, 1026.9ms inference, 1.0ms postprocess per image at shape (1, 3, 384, 640)\n",
      "\n",
      "0: 640x1088 1 ball, 552.9ms\n",
      "Speed: 7.3ms preprocess, 552.9ms inference, 0.9ms postprocess per image at shape (1, 3, 640, 1088)\n"
     ]
    },
    {
     "name": "stderr",
     "output_type": "stream",
     "text": [
      "Analizando partido (Golpes: 8):  83%|████████▎ | 249/300 [11:36<02:29,  2.93s/frames]"
     ]
    },
    {
     "name": "stdout",
     "output_type": "stream",
     "text": [
      "\n",
      "0: 384x640 5 persons, 1 car, 2 tennis rackets, 950.9ms\n",
      "Speed: 2.1ms preprocess, 950.9ms inference, 2.3ms postprocess per image at shape (1, 3, 384, 640)\n",
      "\n",
      "0: 640x1088 1 ball, 494.0ms\n",
      "Speed: 10.2ms preprocess, 494.0ms inference, 1.0ms postprocess per image at shape (1, 3, 640, 1088)\n"
     ]
    },
    {
     "name": "stderr",
     "output_type": "stream",
     "text": [
      "Analizando partido (Golpes: 8):  83%|████████▎ | 250/300 [11:38<02:23,  2.87s/frames]"
     ]
    },
    {
     "name": "stdout",
     "output_type": "stream",
     "text": [
      "\n",
      "0: 384x640 5 persons, 1 car, 1 tennis racket, 898.9ms\n",
      "Speed: 1.8ms preprocess, 898.9ms inference, 1.0ms postprocess per image at shape (1, 3, 384, 640)\n",
      "\n",
      "0: 640x1088 1 ball, 429.9ms\n",
      "Speed: 5.6ms preprocess, 429.9ms inference, 1.1ms postprocess per image at shape (1, 3, 640, 1088)\n"
     ]
    },
    {
     "name": "stderr",
     "output_type": "stream",
     "text": [
      "Analizando partido (Golpes: 8):  84%|████████▎ | 251/300 [11:41<02:15,  2.77s/frames]"
     ]
    },
    {
     "name": "stdout",
     "output_type": "stream",
     "text": [
      "\n",
      "0: 384x640 6 persons, 1 car, 2 tennis rackets, 855.8ms\n",
      "Speed: 1.7ms preprocess, 855.8ms inference, 1.0ms postprocess per image at shape (1, 3, 384, 640)\n",
      "\n",
      "0: 640x1088 1 ball, 510.7ms\n",
      "Speed: 6.0ms preprocess, 510.7ms inference, 0.9ms postprocess per image at shape (1, 3, 640, 1088)\n"
     ]
    },
    {
     "name": "stderr",
     "output_type": "stream",
     "text": [
      "Analizando partido (Golpes: 8):  84%|████████▍ | 252/300 [11:44<02:12,  2.75s/frames]"
     ]
    },
    {
     "name": "stdout",
     "output_type": "stream",
     "text": [
      "\n",
      "0: 384x640 6 persons, 1 car, 1 tennis racket, 992.2ms\n",
      "Speed: 1.7ms preprocess, 992.2ms inference, 0.9ms postprocess per image at shape (1, 3, 384, 640)\n",
      "\n",
      "0: 640x1088 1 ball, 449.3ms\n",
      "Speed: 8.0ms preprocess, 449.3ms inference, 0.9ms postprocess per image at shape (1, 3, 640, 1088)\n"
     ]
    },
    {
     "name": "stderr",
     "output_type": "stream",
     "text": [
      "Analizando partido (Golpes: 8):  84%|████████▍ | 253/300 [11:46<02:08,  2.74s/frames]"
     ]
    },
    {
     "name": "stdout",
     "output_type": "stream",
     "text": [
      "\n",
      "0: 384x640 6 persons, 1 car, 1 tennis racket, 935.1ms\n",
      "Speed: 2.0ms preprocess, 935.1ms inference, 1.0ms postprocess per image at shape (1, 3, 384, 640)\n",
      "\n",
      "0: 640x1088 1 ball, 394.0ms\n",
      "Speed: 6.6ms preprocess, 394.0ms inference, 1.1ms postprocess per image at shape (1, 3, 640, 1088)\n"
     ]
    },
    {
     "name": "stderr",
     "output_type": "stream",
     "text": [
      "Analizando partido (Golpes: 8):  85%|████████▍ | 254/300 [11:49<02:02,  2.67s/frames]"
     ]
    },
    {
     "name": "stdout",
     "output_type": "stream",
     "text": [
      "\n",
      "0: 384x640 6 persons, 1 car, 1 tennis racket, 991.0ms\n",
      "Speed: 1.7ms preprocess, 991.0ms inference, 1.3ms postprocess per image at shape (1, 3, 384, 640)\n",
      "\n",
      "0: 640x1088 1 ball, 404.3ms\n",
      "Speed: 6.4ms preprocess, 404.3ms inference, 1.1ms postprocess per image at shape (1, 3, 640, 1088)\n"
     ]
    },
    {
     "name": "stderr",
     "output_type": "stream",
     "text": [
      "Analizando partido (Golpes: 8):  85%|████████▌ | 255/300 [11:52<01:58,  2.64s/frames]"
     ]
    },
    {
     "name": "stdout",
     "output_type": "stream",
     "text": [
      "\n",
      "0: 384x640 6 persons, 1 car, 2 tennis rackets, 881.8ms\n",
      "Speed: 2.0ms preprocess, 881.8ms inference, 0.9ms postprocess per image at shape (1, 3, 384, 640)\n",
      "\n",
      "0: 640x1088 (no detections), 431.0ms\n",
      "Speed: 6.4ms preprocess, 431.0ms inference, 0.6ms postprocess per image at shape (1, 3, 640, 1088)\n"
     ]
    },
    {
     "name": "stderr",
     "output_type": "stream",
     "text": [
      "Analizando partido (Golpes: 8):  85%|████████▌ | 256/300 [11:54<01:58,  2.68s/frames]"
     ]
    },
    {
     "name": "stdout",
     "output_type": "stream",
     "text": [
      "\n",
      "0: 384x640 6 persons, 1 car, 1 tennis racket, 897.8ms\n",
      "Speed: 1.9ms preprocess, 897.8ms inference, 0.9ms postprocess per image at shape (1, 3, 384, 640)\n",
      "\n",
      "0: 640x1088 (no detections), 418.1ms\n",
      "Speed: 5.7ms preprocess, 418.1ms inference, 0.6ms postprocess per image at shape (1, 3, 640, 1088)\n"
     ]
    },
    {
     "name": "stderr",
     "output_type": "stream",
     "text": [
      "Analizando partido (Golpes: 8):  86%|████████▌ | 257/300 [11:57<01:52,  2.63s/frames]"
     ]
    },
    {
     "name": "stdout",
     "output_type": "stream",
     "text": [
      "\n",
      "0: 384x640 6 persons, 1 car, 1 tennis racket, 911.1ms\n",
      "Speed: 1.7ms preprocess, 911.1ms inference, 2.9ms postprocess per image at shape (1, 3, 384, 640)\n",
      "\n",
      "0: 640x1088 (no detections), 435.1ms\n",
      "Speed: 5.9ms preprocess, 435.1ms inference, 0.6ms postprocess per image at shape (1, 3, 640, 1088)\n"
     ]
    },
    {
     "name": "stderr",
     "output_type": "stream",
     "text": [
      "Analizando partido (Golpes: 8):  86%|████████▌ | 258/300 [11:59<01:48,  2.60s/frames]"
     ]
    },
    {
     "name": "stdout",
     "output_type": "stream",
     "text": [
      "\n",
      "0: 384x640 6 persons, 1 car, 1 tennis racket, 844.5ms\n",
      "Speed: 1.8ms preprocess, 844.5ms inference, 1.2ms postprocess per image at shape (1, 3, 384, 640)\n",
      "\n",
      "0: 640x1088 (no detections), 419.3ms\n",
      "Speed: 6.9ms preprocess, 419.3ms inference, 0.6ms postprocess per image at shape (1, 3, 640, 1088)\n"
     ]
    },
    {
     "name": "stderr",
     "output_type": "stream",
     "text": [
      "Analizando partido (Golpes: 8):  86%|████████▋ | 259/300 [12:02<01:46,  2.60s/frames]"
     ]
    },
    {
     "name": "stdout",
     "output_type": "stream",
     "text": [
      "\n",
      "0: 384x640 5 persons, 1 car, 1 tennis racket, 1138.1ms\n",
      "Speed: 1.7ms preprocess, 1138.1ms inference, 0.9ms postprocess per image at shape (1, 3, 384, 640)\n",
      "\n",
      "0: 640x1088 1 ball, 459.1ms\n",
      "Speed: 6.3ms preprocess, 459.1ms inference, 1.0ms postprocess per image at shape (1, 3, 640, 1088)\n"
     ]
    },
    {
     "name": "stderr",
     "output_type": "stream",
     "text": [
      "Analizando partido (Golpes: 8):  87%|████████▋ | 260/300 [12:05<01:47,  2.69s/frames]"
     ]
    },
    {
     "name": "stdout",
     "output_type": "stream",
     "text": [
      "\n",
      "0: 384x640 6 persons, 1 car, 2 tennis rackets, 894.8ms\n",
      "Speed: 2.1ms preprocess, 894.8ms inference, 0.9ms postprocess per image at shape (1, 3, 384, 640)\n",
      "\n",
      "0: 640x1088 1 ball, 393.3ms\n",
      "Speed: 6.5ms preprocess, 393.3ms inference, 0.9ms postprocess per image at shape (1, 3, 640, 1088)\n"
     ]
    },
    {
     "name": "stderr",
     "output_type": "stream",
     "text": [
      "Analizando partido (Golpes: 8):  87%|████████▋ | 261/300 [12:07<01:42,  2.62s/frames]"
     ]
    },
    {
     "name": "stdout",
     "output_type": "stream",
     "text": [
      "\n",
      "0: 384x640 5 persons, 1 car, 1 tennis racket, 1002.0ms\n",
      "Speed: 1.8ms preprocess, 1002.0ms inference, 1.0ms postprocess per image at shape (1, 3, 384, 640)\n",
      "\n",
      "0: 640x1088 (no detections), 365.9ms\n",
      "Speed: 5.9ms preprocess, 365.9ms inference, 0.6ms postprocess per image at shape (1, 3, 640, 1088)\n"
     ]
    },
    {
     "name": "stderr",
     "output_type": "stream",
     "text": [
      "Analizando partido (Golpes: 8):  87%|████████▋ | 262/300 [12:10<01:38,  2.60s/frames]"
     ]
    },
    {
     "name": "stdout",
     "output_type": "stream",
     "text": [
      "\n",
      "0: 384x640 5 persons, 1 car, 1 tennis racket, 851.8ms\n",
      "Speed: 1.7ms preprocess, 851.8ms inference, 0.9ms postprocess per image at shape (1, 3, 384, 640)\n",
      "\n",
      "0: 640x1088 (no detections), 411.6ms\n",
      "Speed: 5.8ms preprocess, 411.6ms inference, 0.6ms postprocess per image at shape (1, 3, 640, 1088)\n"
     ]
    },
    {
     "name": "stderr",
     "output_type": "stream",
     "text": [
      "Analizando partido (Golpes: 8):  88%|████████▊ | 263/300 [12:13<01:36,  2.62s/frames]"
     ]
    },
    {
     "name": "stdout",
     "output_type": "stream",
     "text": [
      "\n",
      "0: 384x640 5 persons, 1 car, 1 sports ball, 2 tennis rackets, 878.7ms\n",
      "Speed: 1.7ms preprocess, 878.7ms inference, 1.0ms postprocess per image at shape (1, 3, 384, 640)\n",
      "\n",
      "0: 640x1088 1 ball, 412.0ms\n",
      "Speed: 6.1ms preprocess, 412.0ms inference, 1.0ms postprocess per image at shape (1, 3, 640, 1088)\n"
     ]
    },
    {
     "name": "stderr",
     "output_type": "stream",
     "text": [
      "Analizando partido (Golpes: 8):  88%|████████▊ | 264/300 [12:15<01:32,  2.57s/frames]"
     ]
    },
    {
     "name": "stdout",
     "output_type": "stream",
     "text": [
      "\n",
      "0: 384x640 5 persons, 1 car, 1 sports ball, 1 tennis racket, 1045.5ms\n",
      "Speed: 2.3ms preprocess, 1045.5ms inference, 8.1ms postprocess per image at shape (1, 3, 384, 640)\n",
      "\n",
      "0: 640x1088 1 ball, 452.6ms\n",
      "Speed: 6.0ms preprocess, 452.6ms inference, 1.3ms postprocess per image at shape (1, 3, 640, 1088)\n"
     ]
    },
    {
     "name": "stderr",
     "output_type": "stream",
     "text": [
      "Analizando partido (Golpes: 8):  88%|████████▊ | 265/300 [12:18<01:32,  2.64s/frames]"
     ]
    },
    {
     "name": "stdout",
     "output_type": "stream",
     "text": [
      "\n",
      "0: 384x640 5 persons, 1 car, 1 tennis racket, 899.3ms\n",
      "Speed: 2.8ms preprocess, 899.3ms inference, 1.0ms postprocess per image at shape (1, 3, 384, 640)\n",
      "\n",
      "0: 640x1088 1 ball, 422.1ms\n",
      "Speed: 6.0ms preprocess, 422.1ms inference, 0.9ms postprocess per image at shape (1, 3, 640, 1088)\n"
     ]
    },
    {
     "name": "stderr",
     "output_type": "stream",
     "text": [
      "Analizando partido (Golpes: 8):  89%|████████▊ | 266/300 [12:21<01:30,  2.67s/frames]"
     ]
    },
    {
     "name": "stdout",
     "output_type": "stream",
     "text": [
      "\n",
      "0: 384x640 7 persons, 1 car, 2 tennis rackets, 886.3ms\n",
      "Speed: 1.9ms preprocess, 886.3ms inference, 0.9ms postprocess per image at shape (1, 3, 384, 640)\n",
      "\n",
      "0: 640x1088 1 ball, 400.5ms\n",
      "Speed: 6.0ms preprocess, 400.5ms inference, 0.9ms postprocess per image at shape (1, 3, 640, 1088)\n"
     ]
    },
    {
     "name": "stderr",
     "output_type": "stream",
     "text": [
      "Analizando partido (Golpes: 8):  89%|████████▉ | 267/300 [12:23<01:26,  2.62s/frames]"
     ]
    },
    {
     "name": "stdout",
     "output_type": "stream",
     "text": [
      "\n",
      "0: 384x640 7 persons, 1 car, 2 tennis rackets, 992.2ms\n",
      "Speed: 1.8ms preprocess, 992.2ms inference, 1.0ms postprocess per image at shape (1, 3, 384, 640)\n",
      "\n",
      "0: 640x1088 1 ball, 422.6ms\n",
      "Speed: 5.6ms preprocess, 422.6ms inference, 2.2ms postprocess per image at shape (1, 3, 640, 1088)\n"
     ]
    },
    {
     "name": "stderr",
     "output_type": "stream",
     "text": [
      "Analizando partido (Golpes: 8):  89%|████████▉ | 268/300 [12:26<01:24,  2.64s/frames]"
     ]
    },
    {
     "name": "stdout",
     "output_type": "stream",
     "text": [
      "\n",
      "0: 384x640 5 persons, 1 car, 2 tennis rackets, 861.8ms\n",
      "Speed: 1.8ms preprocess, 861.8ms inference, 1.6ms postprocess per image at shape (1, 3, 384, 640)\n",
      "\n",
      "0: 640x1088 1 ball, 457.7ms\n",
      "Speed: 7.0ms preprocess, 457.7ms inference, 1.1ms postprocess per image at shape (1, 3, 640, 1088)\n"
     ]
    },
    {
     "name": "stderr",
     "output_type": "stream",
     "text": [
      "Analizando partido (Golpes: 8):  90%|████████▉ | 269/300 [12:28<01:21,  2.62s/frames]"
     ]
    },
    {
     "name": "stdout",
     "output_type": "stream",
     "text": [
      "\n",
      "0: 384x640 5 persons, 1 car, 4 tennis rackets, 880.3ms\n",
      "Speed: 1.9ms preprocess, 880.3ms inference, 1.0ms postprocess per image at shape (1, 3, 384, 640)\n",
      "\n",
      "0: 640x1088 1 ball, 424.6ms\n",
      "Speed: 6.2ms preprocess, 424.6ms inference, 0.9ms postprocess per image at shape (1, 3, 640, 1088)\n"
     ]
    },
    {
     "name": "stderr",
     "output_type": "stream",
     "text": [
      "Analizando partido (Golpes: 8):  90%|█████████ | 270/300 [12:31<01:19,  2.64s/frames]"
     ]
    },
    {
     "name": "stdout",
     "output_type": "stream",
     "text": [
      "\n",
      "0: 384x640 6 persons, 1 car, 3 tennis rackets, 869.4ms\n",
      "Speed: 1.8ms preprocess, 869.4ms inference, 0.9ms postprocess per image at shape (1, 3, 384, 640)\n",
      "\n",
      "0: 640x1088 (no detections), 409.2ms\n",
      "Speed: 6.7ms preprocess, 409.2ms inference, 0.6ms postprocess per image at shape (1, 3, 640, 1088)\n"
     ]
    },
    {
     "name": "stderr",
     "output_type": "stream",
     "text": [
      "Analizando partido (Golpes: 8):  90%|█████████ | 271/300 [12:33<01:15,  2.59s/frames]"
     ]
    },
    {
     "name": "stdout",
     "output_type": "stream",
     "text": [
      "\n",
      "0: 384x640 5 persons, 1 car, 2 tennis rackets, 1032.9ms\n",
      "Speed: 3.8ms preprocess, 1032.9ms inference, 1.2ms postprocess per image at shape (1, 3, 384, 640)\n",
      "\n",
      "0: 640x1088 (no detections), 398.5ms\n",
      "Speed: 7.4ms preprocess, 398.5ms inference, 0.6ms postprocess per image at shape (1, 3, 640, 1088)\n"
     ]
    },
    {
     "name": "stderr",
     "output_type": "stream",
     "text": [
      "Analizando partido (Golpes: 8):  91%|█████████ | 272/300 [12:36<01:13,  2.64s/frames]"
     ]
    },
    {
     "name": "stdout",
     "output_type": "stream",
     "text": [
      "\n",
      "0: 384x640 5 persons, 2 tennis rackets, 877.4ms\n",
      "Speed: 2.5ms preprocess, 877.4ms inference, 1.1ms postprocess per image at shape (1, 3, 384, 640)\n",
      "\n",
      "0: 640x1088 (no detections), 389.2ms\n",
      "Speed: 7.3ms preprocess, 389.2ms inference, 0.6ms postprocess per image at shape (1, 3, 640, 1088)\n"
     ]
    },
    {
     "name": "stderr",
     "output_type": "stream",
     "text": [
      "Analizando partido (Golpes: 8):  91%|█████████ | 273/300 [12:39<01:10,  2.63s/frames]"
     ]
    },
    {
     "name": "stdout",
     "output_type": "stream",
     "text": [
      "\n",
      "0: 384x640 5 persons, 3 tennis rackets, 914.9ms\n",
      "Speed: 2.0ms preprocess, 914.9ms inference, 2.2ms postprocess per image at shape (1, 3, 384, 640)\n",
      "\n",
      "0: 640x1088 (no detections), 396.9ms\n",
      "Speed: 6.7ms preprocess, 396.9ms inference, 0.6ms postprocess per image at shape (1, 3, 640, 1088)\n"
     ]
    },
    {
     "name": "stderr",
     "output_type": "stream",
     "text": [
      "Analizando partido (Golpes: 8):  91%|█████████▏| 274/300 [12:41<01:07,  2.59s/frames]"
     ]
    },
    {
     "name": "stdout",
     "output_type": "stream",
     "text": [
      "\n",
      "0: 384x640 5 persons, 3 tennis rackets, 988.5ms\n",
      "Speed: 1.7ms preprocess, 988.5ms inference, 1.2ms postprocess per image at shape (1, 3, 384, 640)\n",
      "\n",
      "0: 640x1088 (no detections), 421.8ms\n",
      "Speed: 6.2ms preprocess, 421.8ms inference, 0.6ms postprocess per image at shape (1, 3, 640, 1088)\n"
     ]
    },
    {
     "name": "stderr",
     "output_type": "stream",
     "text": [
      "Analizando partido (Golpes: 8):  92%|█████████▏| 275/300 [12:44<01:05,  2.61s/frames]"
     ]
    },
    {
     "name": "stdout",
     "output_type": "stream",
     "text": [
      "\n",
      "0: 384x640 5 persons, 2 tennis rackets, 893.3ms\n",
      "Speed: 1.8ms preprocess, 893.3ms inference, 1.2ms postprocess per image at shape (1, 3, 384, 640)\n",
      "\n",
      "0: 640x1088 1 ball, 389.3ms\n",
      "Speed: 5.9ms preprocess, 389.3ms inference, 1.1ms postprocess per image at shape (1, 3, 640, 1088)\n"
     ]
    },
    {
     "name": "stderr",
     "output_type": "stream",
     "text": [
      "Analizando partido (Golpes: 8):  92%|█████████▏| 276/300 [12:46<01:01,  2.57s/frames]"
     ]
    },
    {
     "name": "stdout",
     "output_type": "stream",
     "text": [
      "\n",
      "0: 384x640 6 persons, 1 car, 2 tennis rackets, 935.8ms\n",
      "Speed: 1.7ms preprocess, 935.8ms inference, 0.9ms postprocess per image at shape (1, 3, 384, 640)\n",
      "\n",
      "0: 640x1088 (no detections), 408.4ms\n",
      "Speed: 6.3ms preprocess, 408.4ms inference, 0.6ms postprocess per image at shape (1, 3, 640, 1088)\n"
     ]
    },
    {
     "name": "stderr",
     "output_type": "stream",
     "text": [
      "Analizando partido (Golpes: 8):  92%|█████████▏| 277/300 [12:49<01:00,  2.65s/frames]"
     ]
    },
    {
     "name": "stdout",
     "output_type": "stream",
     "text": [
      "\n",
      "0: 384x640 6 persons, 1 car, 3 tennis rackets, 903.9ms\n",
      "Speed: 1.8ms preprocess, 903.9ms inference, 0.9ms postprocess per image at shape (1, 3, 384, 640)\n",
      "\n",
      "0: 640x1088 1 ball, 412.6ms\n",
      "Speed: 5.9ms preprocess, 412.6ms inference, 0.9ms postprocess per image at shape (1, 3, 640, 1088)\n"
     ]
    },
    {
     "name": "stderr",
     "output_type": "stream",
     "text": [
      "Analizando partido (Golpes: 8):  93%|█████████▎| 278/300 [12:52<00:57,  2.63s/frames]"
     ]
    },
    {
     "name": "stdout",
     "output_type": "stream",
     "text": [
      "\n",
      "0: 384x640 6 persons, 1 car, 2 tennis rackets, 938.5ms\n",
      "Speed: 2.1ms preprocess, 938.5ms inference, 1.1ms postprocess per image at shape (1, 3, 384, 640)\n",
      "\n",
      "0: 640x1088 1 ball, 435.2ms\n",
      "Speed: 6.6ms preprocess, 435.2ms inference, 1.0ms postprocess per image at shape (1, 3, 640, 1088)\n"
     ]
    },
    {
     "name": "stderr",
     "output_type": "stream",
     "text": [
      "Analizando partido (Golpes: 8):  93%|█████████▎| 279/300 [12:54<00:54,  2.62s/frames]"
     ]
    },
    {
     "name": "stdout",
     "output_type": "stream",
     "text": [
      "\n",
      "0: 384x640 6 persons, 1 car, 2 tennis rackets, 1028.5ms\n",
      "Speed: 2.1ms preprocess, 1028.5ms inference, 1.2ms postprocess per image at shape (1, 3, 384, 640)\n",
      "\n",
      "0: 640x1088 1 ball, 415.0ms\n",
      "Speed: 6.0ms preprocess, 415.0ms inference, 1.0ms postprocess per image at shape (1, 3, 640, 1088)\n"
     ]
    },
    {
     "name": "stderr",
     "output_type": "stream",
     "text": [
      "Analizando partido (Golpes: 8):  93%|█████████▎| 280/300 [12:57<00:53,  2.66s/frames]"
     ]
    },
    {
     "name": "stdout",
     "output_type": "stream",
     "text": [
      "\n",
      "0: 384x640 6 persons, 1 car, 3 tennis rackets, 1036.8ms\n",
      "Speed: 2.1ms preprocess, 1036.8ms inference, 1.0ms postprocess per image at shape (1, 3, 384, 640)\n",
      "\n",
      "0: 640x1088 (no detections), 395.1ms\n",
      "Speed: 6.1ms preprocess, 395.1ms inference, 0.6ms postprocess per image at shape (1, 3, 640, 1088)\n"
     ]
    },
    {
     "name": "stderr",
     "output_type": "stream",
     "text": [
      "Analizando partido (Golpes: 8):  94%|█████████▎| 281/300 [13:00<00:50,  2.67s/frames]"
     ]
    },
    {
     "name": "stdout",
     "output_type": "stream",
     "text": [
      "\n",
      "0: 384x640 6 persons, 1 car, 2 tennis rackets, 895.5ms\n",
      "Speed: 1.7ms preprocess, 895.5ms inference, 1.7ms postprocess per image at shape (1, 3, 384, 640)\n",
      "\n",
      "0: 640x1088 (no detections), 420.4ms\n",
      "Speed: 6.5ms preprocess, 420.4ms inference, 0.7ms postprocess per image at shape (1, 3, 640, 1088)\n"
     ]
    },
    {
     "name": "stderr",
     "output_type": "stream",
     "text": [
      "Analizando partido (Golpes: 8):  94%|█████████▍| 282/300 [13:02<00:46,  2.61s/frames]"
     ]
    },
    {
     "name": "stdout",
     "output_type": "stream",
     "text": [
      "\n",
      "0: 384x640 6 persons, 1 car, 2 tennis rackets, 911.6ms\n",
      "Speed: 2.0ms preprocess, 911.6ms inference, 0.9ms postprocess per image at shape (1, 3, 384, 640)\n",
      "\n",
      "0: 640x1088 (no detections), 450.1ms\n",
      "Speed: 6.7ms preprocess, 450.1ms inference, 0.8ms postprocess per image at shape (1, 3, 640, 1088)\n"
     ]
    },
    {
     "name": "stderr",
     "output_type": "stream",
     "text": [
      "Analizando partido (Golpes: 8):  94%|█████████▍| 283/300 [13:05<00:44,  2.59s/frames]"
     ]
    },
    {
     "name": "stdout",
     "output_type": "stream",
     "text": [
      "\n",
      "0: 384x640 6 persons, 1 car, 3 tennis rackets, 889.7ms\n",
      "Speed: 2.1ms preprocess, 889.7ms inference, 0.9ms postprocess per image at shape (1, 3, 384, 640)\n",
      "\n",
      "0: 640x1088 (no detections), 507.5ms\n",
      "Speed: 6.5ms preprocess, 507.5ms inference, 0.7ms postprocess per image at shape (1, 3, 640, 1088)\n"
     ]
    },
    {
     "name": "stderr",
     "output_type": "stream",
     "text": [
      "Analizando partido (Golpes: 8):  95%|█████████▍| 284/300 [13:08<00:42,  2.63s/frames]"
     ]
    },
    {
     "name": "stdout",
     "output_type": "stream",
     "text": [
      "\n",
      "0: 384x640 6 persons, 1 car, 2 tennis rackets, 929.8ms\n",
      "Speed: 2.2ms preprocess, 929.8ms inference, 1.0ms postprocess per image at shape (1, 3, 384, 640)\n",
      "\n",
      "0: 640x1088 1 ball, 388.4ms\n",
      "Speed: 6.4ms preprocess, 388.4ms inference, 1.0ms postprocess per image at shape (1, 3, 640, 1088)\n"
     ]
    },
    {
     "name": "stderr",
     "output_type": "stream",
     "text": [
      "Analizando partido (Golpes: 8):  95%|█████████▌| 285/300 [13:10<00:39,  2.62s/frames]"
     ]
    },
    {
     "name": "stdout",
     "output_type": "stream",
     "text": [
      "\n",
      "0: 384x640 6 persons, 1 car, 2 tennis rackets, 887.7ms\n",
      "Speed: 1.9ms preprocess, 887.7ms inference, 1.0ms postprocess per image at shape (1, 3, 384, 640)\n",
      "\n",
      "0: 640x1088 1 ball, 406.9ms\n",
      "Speed: 6.2ms preprocess, 406.9ms inference, 1.0ms postprocess per image at shape (1, 3, 640, 1088)\n"
     ]
    },
    {
     "name": "stderr",
     "output_type": "stream",
     "text": [
      "Analizando partido (Golpes: 8):  95%|█████████▌| 286/300 [13:13<00:35,  2.57s/frames]"
     ]
    },
    {
     "name": "stdout",
     "output_type": "stream",
     "text": [
      "\n",
      "0: 384x640 6 persons, 1 car, 1 sports ball, 2 tennis rackets, 898.2ms\n",
      "Speed: 2.2ms preprocess, 898.2ms inference, 1.1ms postprocess per image at shape (1, 3, 384, 640)\n",
      "\n",
      "0: 640x1088 1 ball, 396.5ms\n",
      "Speed: 8.5ms preprocess, 396.5ms inference, 1.0ms postprocess per image at shape (1, 3, 640, 1088)\n"
     ]
    },
    {
     "name": "stderr",
     "output_type": "stream",
     "text": [
      "Analizando partido (Golpes: 8):  96%|█████████▌| 287/300 [13:15<00:33,  2.59s/frames]"
     ]
    },
    {
     "name": "stdout",
     "output_type": "stream",
     "text": [
      "\n",
      "0: 384x640 6 persons, 1 car, 2 tennis rackets, 1071.0ms\n",
      "Speed: 2.5ms preprocess, 1071.0ms inference, 3.1ms postprocess per image at shape (1, 3, 384, 640)\n",
      "\n",
      "0: 640x1088 1 ball, 434.7ms\n",
      "Speed: 5.8ms preprocess, 434.7ms inference, 1.0ms postprocess per image at shape (1, 3, 640, 1088)\n"
     ]
    },
    {
     "name": "stderr",
     "output_type": "stream",
     "text": [
      "Analizando partido (Golpes: 8):  96%|█████████▌| 288/300 [13:18<00:31,  2.65s/frames]"
     ]
    },
    {
     "name": "stdout",
     "output_type": "stream",
     "text": [
      "\n",
      "0: 384x640 6 persons, 1 car, 1 sports ball, 2 tennis rackets, 950.6ms\n",
      "Speed: 1.6ms preprocess, 950.6ms inference, 1.0ms postprocess per image at shape (1, 3, 384, 640)\n",
      "\n",
      "0: 640x1088 1 ball, 419.0ms\n",
      "Speed: 5.8ms preprocess, 419.0ms inference, 1.0ms postprocess per image at shape (1, 3, 640, 1088)\n"
     ]
    },
    {
     "name": "stderr",
     "output_type": "stream",
     "text": [
      "Analizando partido (Golpes: 8):  96%|█████████▋| 289/300 [13:21<00:29,  2.66s/frames]"
     ]
    },
    {
     "name": "stdout",
     "output_type": "stream",
     "text": [
      "\n",
      "0: 384x640 5 persons, 2 tennis rackets, 886.5ms\n",
      "Speed: 2.1ms preprocess, 886.5ms inference, 1.4ms postprocess per image at shape (1, 3, 384, 640)\n",
      "\n",
      "0: 640x1088 1 ball, 388.7ms\n",
      "Speed: 6.6ms preprocess, 388.7ms inference, 1.1ms postprocess per image at shape (1, 3, 640, 1088)\n"
     ]
    },
    {
     "name": "stderr",
     "output_type": "stream",
     "text": [
      "Analizando partido (Golpes: 8):  97%|█████████▋| 290/300 [13:23<00:26,  2.60s/frames]"
     ]
    },
    {
     "name": "stdout",
     "output_type": "stream",
     "text": [
      "\n",
      "0: 384x640 5 persons, 2 tennis rackets, 1175.8ms\n",
      "Speed: 9.6ms preprocess, 1175.8ms inference, 1.1ms postprocess per image at shape (1, 3, 384, 640)\n",
      "\n",
      "0: 640x1088 1 ball, 414.4ms\n",
      "Speed: 5.9ms preprocess, 414.4ms inference, 0.9ms postprocess per image at shape (1, 3, 640, 1088)\n"
     ]
    },
    {
     "name": "stderr",
     "output_type": "stream",
     "text": [
      "Analizando partido (Golpes: 8):  97%|█████████▋| 291/300 [13:26<00:24,  2.72s/frames]"
     ]
    },
    {
     "name": "stdout",
     "output_type": "stream",
     "text": [
      "\n",
      "0: 384x640 5 persons, 2 tennis rackets, 886.2ms\n",
      "Speed: 2.1ms preprocess, 886.2ms inference, 0.9ms postprocess per image at shape (1, 3, 384, 640)\n",
      "\n",
      "0: 640x1088 1 ball, 415.0ms\n",
      "Speed: 6.3ms preprocess, 415.0ms inference, 0.9ms postprocess per image at shape (1, 3, 640, 1088)\n"
     ]
    },
    {
     "name": "stderr",
     "output_type": "stream",
     "text": [
      "Analizando partido (Golpes: 8):  97%|█████████▋| 292/300 [13:29<00:21,  2.64s/frames]"
     ]
    },
    {
     "name": "stdout",
     "output_type": "stream",
     "text": [
      "\n",
      "0: 384x640 5 persons, 2 tennis rackets, 894.2ms\n",
      "Speed: 1.8ms preprocess, 894.2ms inference, 1.0ms postprocess per image at shape (1, 3, 384, 640)\n",
      "\n",
      "0: 640x1088 1 ball, 372.4ms\n",
      "Speed: 6.4ms preprocess, 372.4ms inference, 1.0ms postprocess per image at shape (1, 3, 640, 1088)\n"
     ]
    },
    {
     "name": "stderr",
     "output_type": "stream",
     "text": [
      "Analizando partido (Golpes: 8):  98%|█████████▊| 293/300 [13:31<00:18,  2.58s/frames]"
     ]
    },
    {
     "name": "stdout",
     "output_type": "stream",
     "text": [
      "\n",
      "0: 384x640 5 persons, 3 tennis rackets, 875.2ms\n",
      "Speed: 1.7ms preprocess, 875.2ms inference, 1.1ms postprocess per image at shape (1, 3, 384, 640)\n",
      "\n",
      "0: 640x1088 1 ball, 395.3ms\n",
      "Speed: 5.9ms preprocess, 395.3ms inference, 0.9ms postprocess per image at shape (1, 3, 640, 1088)\n"
     ]
    },
    {
     "name": "stderr",
     "output_type": "stream",
     "text": [
      "Analizando partido (Golpes: 8):  98%|█████████▊| 294/300 [13:34<00:15,  2.59s/frames]"
     ]
    },
    {
     "name": "stdout",
     "output_type": "stream",
     "text": [
      "\n",
      "0: 384x640 5 persons, 901.8ms\n",
      "Speed: 2.4ms preprocess, 901.8ms inference, 0.9ms postprocess per image at shape (1, 3, 384, 640)\n",
      "\n",
      "0: 640x1088 1 ball, 455.4ms\n",
      "Speed: 6.7ms preprocess, 455.4ms inference, 0.9ms postprocess per image at shape (1, 3, 640, 1088)\n"
     ]
    },
    {
     "name": "stderr",
     "output_type": "stream",
     "text": [
      "Analizando partido (Golpes: 8):  98%|█████████▊| 295/300 [13:36<00:13,  2.60s/frames]"
     ]
    },
    {
     "name": "stdout",
     "output_type": "stream",
     "text": [
      "\n",
      "0: 384x640 5 persons, 1 tennis racket, 1009.3ms\n",
      "Speed: 6.4ms preprocess, 1009.3ms inference, 0.9ms postprocess per image at shape (1, 3, 384, 640)\n",
      "\n",
      "0: 640x1088 1 ball, 390.9ms\n",
      "Speed: 6.1ms preprocess, 390.9ms inference, 0.9ms postprocess per image at shape (1, 3, 640, 1088)\n"
     ]
    },
    {
     "name": "stderr",
     "output_type": "stream",
     "text": [
      "Analizando partido (Golpes: 8):  99%|█████████▊| 296/300 [13:39<00:10,  2.60s/frames]"
     ]
    },
    {
     "name": "stdout",
     "output_type": "stream",
     "text": [
      "\n",
      "0: 384x640 5 persons, 1 tennis racket, 891.3ms\n",
      "Speed: 1.8ms preprocess, 891.3ms inference, 1.2ms postprocess per image at shape (1, 3, 384, 640)\n",
      "\n",
      "0: 640x1088 1 ball, 396.9ms\n",
      "Speed: 6.8ms preprocess, 396.9ms inference, 1.2ms postprocess per image at shape (1, 3, 640, 1088)\n"
     ]
    },
    {
     "name": "stderr",
     "output_type": "stream",
     "text": [
      "Analizando partido (Golpes: 8):  99%|█████████▉| 297/300 [13:41<00:07,  2.56s/frames]"
     ]
    },
    {
     "name": "stdout",
     "output_type": "stream",
     "text": [
      "\n",
      "0: 384x640 5 persons, 1073.7ms\n",
      "Speed: 2.0ms preprocess, 1073.7ms inference, 1.3ms postprocess per image at shape (1, 3, 384, 640)\n",
      "\n",
      "0: 640x1088 1 ball, 408.4ms\n",
      "Speed: 5.9ms preprocess, 408.4ms inference, 0.9ms postprocess per image at shape (1, 3, 640, 1088)\n"
     ]
    },
    {
     "name": "stderr",
     "output_type": "stream",
     "text": [
      "Analizando partido (Golpes: 8):  99%|█████████▉| 298/300 [13:44<00:05,  2.65s/frames]"
     ]
    },
    {
     "name": "stdout",
     "output_type": "stream",
     "text": [
      "\n",
      "0: 384x640 5 persons, 1 tennis racket, 891.0ms\n",
      "Speed: 2.0ms preprocess, 891.0ms inference, 1.1ms postprocess per image at shape (1, 3, 384, 640)\n",
      "\n",
      "0: 640x1088 1 ball, 424.4ms\n",
      "Speed: 8.3ms preprocess, 424.4ms inference, 0.9ms postprocess per image at shape (1, 3, 640, 1088)\n"
     ]
    },
    {
     "name": "stderr",
     "output_type": "stream",
     "text": [
      "Analizando partido (Golpes: 8): 100%|█████████▉| 299/300 [13:47<00:02,  2.60s/frames]"
     ]
    },
    {
     "name": "stdout",
     "output_type": "stream",
     "text": [
      "\n",
      "0: 384x640 5 persons, 1 car, 1015.1ms\n",
      "Speed: 1.8ms preprocess, 1015.1ms inference, 1.2ms postprocess per image at shape (1, 3, 384, 640)\n",
      "\n",
      "0: 640x1088 1 ball, 388.3ms\n",
      "Speed: 6.0ms preprocess, 388.3ms inference, 0.9ms postprocess per image at shape (1, 3, 640, 1088)\n"
     ]
    },
    {
     "name": "stderr",
     "output_type": "stream",
     "text": [
      "Analizando partido (Golpes: 8): 100%|██████████| 300/300 [13:49<00:00,  2.77s/frames]"
     ]
    },
    {
     "name": "stdout",
     "output_type": "stream",
     "text": [
      "\n",
      "==================================================\n",
      "ESTADÍSTICAS DEL PARTIDO\n",
      "==================================================\n",
      "Total de golpes detectados: 8\n",
      "Duración del video: 10.00 segundos\n",
      "FPS: 30.00\n",
      "Total de frames: 300\n",
      "\n",
      "Golpes por jugador:\n",
      "  Jugador 0: 2 golpes\n",
      "  Jugador 2: 2 golpes\n",
      "  Jugador 1: 2 golpes\n",
      "  Jugador 3: 2 golpes\n",
      "==================================================\n"
     ]
    },
    {
     "name": "stderr",
     "output_type": "stream",
     "text": [
      "\n"
     ]
    },
    {
     "data": {
      "text/plain": [
       "MatchStatistics(total_hits=8, hits_per_player={'0': 2, '2': 2, '1': 2, '3': 2}, total_frames=300, video_duration=10.0, fps=30.0)"
      ]
     },
     "execution_count": 4,
     "metadata": {},
     "output_type": "execute_result"
    }
   ],
   "source": [
    "match_processor = PadelMatchProcessor()\n",
    "match_processor.process_video(\"data/video_cortado_10s.mp4\")"
   ]
  },
  {
   "cell_type": "markdown",
   "id": "beeb7e49",
   "metadata": {},
   "source": [
    "- Jugador 0: 1 golpe\n",
    "- Jugador 1: 4 golpes\n",
    "- Jugador 2: 1 golpe\n",
    "- Jugador 3: 4 golpes"
   ]
  },
  {
   "cell_type": "markdown",
   "id": "d062702e",
   "metadata": {},
   "source": []
  },
  {
   "cell_type": "code",
   "execution_count": 5,
   "id": "2b687625",
   "metadata": {},
   "outputs": [
    {
     "name": "stdout",
     "output_type": "stream",
     "text": [
      "\n",
      "==================================================\n",
      "ESTADÍSTICAS DEL PARTIDO\n",
      "==================================================\n",
      "Total de golpes detectados: 8\n",
      "Duración del video: 10.00 segundos\n",
      "FPS: 30.00\n",
      "Total de frames: 300\n",
      "\n",
      "Golpes por jugador:\n",
      "  Jugador 0: 2 golpes\n",
      "  Jugador 2: 2 golpes\n",
      "  Jugador 1: 2 golpes\n",
      "  Jugador 3: 2 golpes\n",
      "==================================================\n"
     ]
    }
   ],
   "source": [
    "match_processor.print_statistics()"
   ]
  }
 ],
 "metadata": {
  "kernelspec": {
   "display_name": "padel-ia-fICo6y9j",
   "language": "python",
   "name": "python3"
  },
  "language_info": {
   "codemirror_mode": {
    "name": "ipython",
    "version": 3
   },
   "file_extension": ".py",
   "mimetype": "text/x-python",
   "name": "python",
   "nbconvert_exporter": "python",
   "pygments_lexer": "ipython3",
   "version": "3.12.3"
  }
 },
 "nbformat": 4,
 "nbformat_minor": 5
}
