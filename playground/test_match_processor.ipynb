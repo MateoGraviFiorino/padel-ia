{
 "cells": [
  {
   "cell_type": "code",
   "execution_count": 1,
   "id": "a4fa4397",
   "metadata": {},
   "outputs": [
    {
     "data": {
      "text/plain": [
       "'/home/tomas/Escritorio/Proyectos/proyecto_vision/padel-ia'"
      ]
     },
     "execution_count": 1,
     "metadata": {},
     "output_type": "execute_result"
    }
   ],
   "source": [
    "import os\n",
    "os.chdir(\"..\")\n",
    "os.getcwd()\n"
   ]
  },
  {
   "cell_type": "code",
   "execution_count": 2,
   "id": "453a6a6c",
   "metadata": {},
   "outputs": [],
   "source": [
    "from app.match import PadelMatchProcessor"
   ]
  },
  {
   "cell_type": "markdown",
   "id": "d01000ee",
   "metadata": {},
   "source": [
    "El jugador 0 dio 1 golpe\n",
    "el jugador 1 dio 2 golpes\n",
    "el jugador 2 dio 1 golpe\n",
    "el jugador 3 dio 2 golpe"
   ]
  },
  {
   "cell_type": "code",
   "execution_count": 3,
   "id": "d4fcc3d6",
   "metadata": {},
   "outputs": [
    {
     "name": "stderr",
     "output_type": "stream",
     "text": [
      "Analizando partido:   0%|          | 0/150 [00:00<?, ?frames/s]"
     ]
    },
    {
     "name": "stdout",
     "output_type": "stream",
     "text": [
      "\n",
      "0: 384x640 5 persons, 1 car, 2 tvs, 977.5ms\n",
      "Speed: 3.3ms preprocess, 977.5ms inference, 1.5ms postprocess per image at shape (1, 3, 384, 640)\n",
      "\n",
      "0: 640x1088 (no detections), 493.9ms\n",
      "Speed: 6.9ms preprocess, 493.9ms inference, 0.7ms postprocess per image at shape (1, 3, 640, 1088)\n"
     ]
    },
    {
     "name": "stderr",
     "output_type": "stream",
     "text": [
      "Analizando partido:   1%|          | 1/150 [00:04<10:17,  4.14s/frames]"
     ]
    },
    {
     "name": "stdout",
     "output_type": "stream",
     "text": [
      "\n",
      "0: 384x640 5 persons, 1 car, 2 tvs, 995.8ms\n",
      "Speed: 1.9ms preprocess, 995.8ms inference, 1.0ms postprocess per image at shape (1, 3, 384, 640)\n",
      "\n",
      "0: 640x1088 (no detections), 522.4ms\n",
      "Speed: 7.3ms preprocess, 522.4ms inference, 0.7ms postprocess per image at shape (1, 3, 640, 1088)\n"
     ]
    },
    {
     "name": "stderr",
     "output_type": "stream",
     "text": [
      "Analizando partido:   1%|▏         | 2/150 [00:06<08:13,  3.33s/frames]"
     ]
    },
    {
     "name": "stdout",
     "output_type": "stream",
     "text": [
      "\n",
      "0: 384x640 5 persons, 2 tvs, 970.9ms\n",
      "Speed: 1.9ms preprocess, 970.9ms inference, 1.1ms postprocess per image at shape (1, 3, 384, 640)\n",
      "\n",
      "0: 640x1088 (no detections), 450.7ms\n",
      "Speed: 6.5ms preprocess, 450.7ms inference, 0.7ms postprocess per image at shape (1, 3, 640, 1088)\n"
     ]
    },
    {
     "name": "stderr",
     "output_type": "stream",
     "text": [
      "Analizando partido:   2%|▏         | 3/150 [00:09<07:33,  3.08s/frames]"
     ]
    },
    {
     "name": "stdout",
     "output_type": "stream",
     "text": [
      "\n",
      "0: 384x640 5 persons, 2 tvs, 993.1ms\n",
      "Speed: 2.1ms preprocess, 993.1ms inference, 1.1ms postprocess per image at shape (1, 3, 384, 640)\n",
      "\n",
      "0: 640x1088 (no detections), 478.8ms\n",
      "Speed: 6.7ms preprocess, 478.8ms inference, 0.6ms postprocess per image at shape (1, 3, 640, 1088)\n"
     ]
    },
    {
     "name": "stderr",
     "output_type": "stream",
     "text": [
      "Analizando partido:   3%|▎         | 4/150 [00:12<07:10,  2.95s/frames]"
     ]
    },
    {
     "name": "stdout",
     "output_type": "stream",
     "text": [
      "\n",
      "0: 384x640 5 persons, 2 tvs, 982.9ms\n",
      "Speed: 1.8ms preprocess, 982.9ms inference, 1.0ms postprocess per image at shape (1, 3, 384, 640)\n",
      "\n",
      "0: 640x1088 (no detections), 457.2ms\n",
      "Speed: 7.9ms preprocess, 457.2ms inference, 0.6ms postprocess per image at shape (1, 3, 640, 1088)\n"
     ]
    },
    {
     "name": "stderr",
     "output_type": "stream",
     "text": [
      "Analizando partido:   3%|▎         | 5/150 [00:15<06:52,  2.84s/frames]"
     ]
    },
    {
     "name": "stdout",
     "output_type": "stream",
     "text": [
      "\n",
      "0: 384x640 6 persons, 1 car, 2 tvs, 976.3ms\n",
      "Speed: 1.8ms preprocess, 976.3ms inference, 1.1ms postprocess per image at shape (1, 3, 384, 640)\n",
      "\n",
      "0: 640x1088 (no detections), 453.8ms\n",
      "Speed: 7.3ms preprocess, 453.8ms inference, 0.6ms postprocess per image at shape (1, 3, 640, 1088)\n"
     ]
    },
    {
     "name": "stderr",
     "output_type": "stream",
     "text": [
      "Analizando partido:   4%|▍         | 6/150 [00:17<06:47,  2.83s/frames]"
     ]
    },
    {
     "name": "stdout",
     "output_type": "stream",
     "text": [
      "\n",
      "0: 384x640 5 persons, 2 tvs, 1077.7ms\n",
      "Speed: 3.1ms preprocess, 1077.7ms inference, 1.1ms postprocess per image at shape (1, 3, 384, 640)\n",
      "\n",
      "0: 640x1088 (no detections), 476.6ms\n",
      "Speed: 8.1ms preprocess, 476.6ms inference, 0.6ms postprocess per image at shape (1, 3, 640, 1088)\n"
     ]
    },
    {
     "name": "stderr",
     "output_type": "stream",
     "text": [
      "Analizando partido:   5%|▍         | 7/150 [00:20<06:45,  2.83s/frames]"
     ]
    },
    {
     "name": "stdout",
     "output_type": "stream",
     "text": [
      "\n",
      "0: 384x640 5 persons, 2 tvs, 993.6ms\n",
      "Speed: 1.8ms preprocess, 993.6ms inference, 0.9ms postprocess per image at shape (1, 3, 384, 640)\n",
      "\n",
      "0: 640x1088 (no detections), 462.2ms\n",
      "Speed: 6.9ms preprocess, 462.2ms inference, 0.6ms postprocess per image at shape (1, 3, 640, 1088)\n"
     ]
    },
    {
     "name": "stderr",
     "output_type": "stream",
     "text": [
      "Analizando partido:   5%|▌         | 8/150 [00:23<06:34,  2.78s/frames]"
     ]
    },
    {
     "name": "stdout",
     "output_type": "stream",
     "text": [
      "\n",
      "0: 384x640 5 persons, 1 tennis racket, 2 tvs, 1037.9ms\n",
      "Speed: 2.4ms preprocess, 1037.9ms inference, 0.9ms postprocess per image at shape (1, 3, 384, 640)\n",
      "\n",
      "0: 640x1088 (no detections), 553.0ms\n",
      "Speed: 7.5ms preprocess, 553.0ms inference, 0.7ms postprocess per image at shape (1, 3, 640, 1088)\n"
     ]
    },
    {
     "name": "stderr",
     "output_type": "stream",
     "text": [
      "Analizando partido:   6%|▌         | 9/150 [00:26<06:34,  2.80s/frames]"
     ]
    },
    {
     "name": "stdout",
     "output_type": "stream",
     "text": [
      "\n",
      "0: 384x640 5 persons, 2 tvs, 1057.5ms\n",
      "Speed: 1.9ms preprocess, 1057.5ms inference, 0.9ms postprocess per image at shape (1, 3, 384, 640)\n",
      "\n",
      "0: 640x1088 (no detections), 449.6ms\n",
      "Speed: 7.3ms preprocess, 449.6ms inference, 0.6ms postprocess per image at shape (1, 3, 640, 1088)\n"
     ]
    },
    {
     "name": "stderr",
     "output_type": "stream",
     "text": [
      "Analizando partido:   7%|▋         | 10/150 [00:29<06:36,  2.83s/frames]"
     ]
    },
    {
     "name": "stdout",
     "output_type": "stream",
     "text": [
      "\n",
      "0: 384x640 5 persons, 2 tvs, 993.4ms\n",
      "Speed: 1.8ms preprocess, 993.4ms inference, 1.0ms postprocess per image at shape (1, 3, 384, 640)\n",
      "\n",
      "0: 640x1088 1 ball, 438.9ms\n",
      "Speed: 8.2ms preprocess, 438.9ms inference, 1.0ms postprocess per image at shape (1, 3, 640, 1088)\n"
     ]
    },
    {
     "name": "stderr",
     "output_type": "stream",
     "text": [
      "Analizando partido:   7%|▋         | 11/150 [00:31<06:26,  2.78s/frames]"
     ]
    },
    {
     "name": "stdout",
     "output_type": "stream",
     "text": [
      "\n",
      "0: 384x640 5 persons, 1 car, 2 tvs, 997.5ms\n",
      "Speed: 1.9ms preprocess, 997.5ms inference, 1.0ms postprocess per image at shape (1, 3, 384, 640)\n",
      "\n",
      "0: 640x1088 1 ball, 464.5ms\n",
      "Speed: 7.7ms preprocess, 464.5ms inference, 1.3ms postprocess per image at shape (1, 3, 640, 1088)\n"
     ]
    },
    {
     "name": "stderr",
     "output_type": "stream",
     "text": [
      "Analizando partido:   8%|▊         | 12/150 [00:34<06:19,  2.75s/frames]"
     ]
    },
    {
     "name": "stdout",
     "output_type": "stream",
     "text": [
      "\n",
      "0: 384x640 5 persons, 2 tvs, 1153.4ms\n",
      "Speed: 1.9ms preprocess, 1153.4ms inference, 2.3ms postprocess per image at shape (1, 3, 384, 640)\n",
      "\n",
      "0: 640x1088 1 ball, 464.8ms\n",
      "Speed: 6.9ms preprocess, 464.8ms inference, 0.9ms postprocess per image at shape (1, 3, 640, 1088)\n"
     ]
    },
    {
     "name": "stderr",
     "output_type": "stream",
     "text": [
      "Analizando partido:   9%|▊         | 13/150 [00:37<06:27,  2.83s/frames]"
     ]
    },
    {
     "name": "stdout",
     "output_type": "stream",
     "text": [
      "\n",
      "0: 384x640 5 persons, 1 car, 2 tvs, 974.3ms\n",
      "Speed: 1.9ms preprocess, 974.3ms inference, 1.0ms postprocess per image at shape (1, 3, 384, 640)\n",
      "\n",
      "0: 640x1088 1 ball, 492.8ms\n",
      "Speed: 7.5ms preprocess, 492.8ms inference, 0.9ms postprocess per image at shape (1, 3, 640, 1088)\n"
     ]
    },
    {
     "name": "stderr",
     "output_type": "stream",
     "text": [
      "Analizando partido:   9%|▉         | 14/150 [00:40<06:20,  2.80s/frames]"
     ]
    },
    {
     "name": "stdout",
     "output_type": "stream",
     "text": [
      "\n",
      "0: 384x640 5 persons, 1 car, 1 tennis racket, 2 tvs, 961.3ms\n",
      "Speed: 2.1ms preprocess, 961.3ms inference, 0.9ms postprocess per image at shape (1, 3, 384, 640)\n",
      "\n",
      "0: 640x1088 (no detections), 490.0ms\n",
      "Speed: 7.1ms preprocess, 490.0ms inference, 0.6ms postprocess per image at shape (1, 3, 640, 1088)\n"
     ]
    },
    {
     "name": "stderr",
     "output_type": "stream",
     "text": [
      "Analizando partido:  10%|█         | 15/150 [00:42<06:13,  2.77s/frames]"
     ]
    },
    {
     "name": "stdout",
     "output_type": "stream",
     "text": [
      "\n",
      "0: 384x640 5 persons, 1 car, 1 tennis racket, 2 tvs, 968.5ms\n",
      "Speed: 1.9ms preprocess, 968.5ms inference, 0.9ms postprocess per image at shape (1, 3, 384, 640)\n",
      "\n",
      "0: 640x1088 (no detections), 469.1ms\n",
      "Speed: 6.6ms preprocess, 469.1ms inference, 1.3ms postprocess per image at shape (1, 3, 640, 1088)\n"
     ]
    },
    {
     "name": "stderr",
     "output_type": "stream",
     "text": [
      "Analizando partido:  11%|█         | 16/150 [00:45<06:06,  2.73s/frames]"
     ]
    },
    {
     "name": "stdout",
     "output_type": "stream",
     "text": [
      "\n",
      "0: 384x640 5 persons, 2 tvs, 965.7ms\n",
      "Speed: 1.9ms preprocess, 965.7ms inference, 1.0ms postprocess per image at shape (1, 3, 384, 640)\n",
      "\n",
      "0: 640x1088 (no detections), 494.9ms\n",
      "Speed: 6.4ms preprocess, 494.9ms inference, 0.6ms postprocess per image at shape (1, 3, 640, 1088)\n"
     ]
    },
    {
     "name": "stderr",
     "output_type": "stream",
     "text": [
      "Analizando partido:  11%|█▏        | 17/150 [00:48<06:08,  2.77s/frames]"
     ]
    },
    {
     "name": "stdout",
     "output_type": "stream",
     "text": [
      "\n",
      "0: 384x640 5 persons, 1 car, 2 tvs, 1118.8ms\n",
      "Speed: 1.9ms preprocess, 1118.8ms inference, 1.1ms postprocess per image at shape (1, 3, 384, 640)\n",
      "\n",
      "0: 640x1088 (no detections), 478.7ms\n",
      "Speed: 7.5ms preprocess, 478.7ms inference, 0.6ms postprocess per image at shape (1, 3, 640, 1088)\n"
     ]
    },
    {
     "name": "stderr",
     "output_type": "stream",
     "text": [
      "Analizando partido:  12%|█▏        | 18/150 [00:51<06:08,  2.79s/frames]"
     ]
    },
    {
     "name": "stdout",
     "output_type": "stream",
     "text": [
      "\n",
      "0: 384x640 5 persons, 1 car, 1 tennis racket, 2 tvs, 1040.8ms\n",
      "Speed: 2.3ms preprocess, 1040.8ms inference, 1.0ms postprocess per image at shape (1, 3, 384, 640)\n",
      "\n",
      "0: 640x1088 (no detections), 484.3ms\n",
      "Speed: 6.5ms preprocess, 484.3ms inference, 0.6ms postprocess per image at shape (1, 3, 640, 1088)\n"
     ]
    },
    {
     "name": "stderr",
     "output_type": "stream",
     "text": [
      "Analizando partido:  13%|█▎        | 19/150 [00:54<06:05,  2.79s/frames]"
     ]
    },
    {
     "name": "stdout",
     "output_type": "stream",
     "text": [
      "\n",
      "0: 384x640 5 persons, 1 car, 2 tennis rackets, 2 tvs, 992.9ms\n",
      "Speed: 1.9ms preprocess, 992.9ms inference, 0.9ms postprocess per image at shape (1, 3, 384, 640)\n",
      "\n",
      "0: 640x1088 (no detections), 540.1ms\n",
      "Speed: 6.8ms preprocess, 540.1ms inference, 0.7ms postprocess per image at shape (1, 3, 640, 1088)\n"
     ]
    },
    {
     "name": "stderr",
     "output_type": "stream",
     "text": [
      "Analizando partido:  13%|█▎        | 20/150 [00:57<06:09,  2.84s/frames]"
     ]
    },
    {
     "name": "stdout",
     "output_type": "stream",
     "text": [
      "\n",
      "0: 384x640 5 persons, 1 car, 1 tennis racket, 998.9ms\n",
      "Speed: 2.0ms preprocess, 998.9ms inference, 1.2ms postprocess per image at shape (1, 3, 384, 640)\n",
      "\n",
      "0: 640x1088 1 ball, 484.1ms\n",
      "Speed: 7.3ms preprocess, 484.1ms inference, 1.0ms postprocess per image at shape (1, 3, 640, 1088)\n"
     ]
    },
    {
     "name": "stderr",
     "output_type": "stream",
     "text": [
      "Analizando partido:  14%|█▍        | 21/150 [00:59<06:02,  2.81s/frames]"
     ]
    },
    {
     "name": "stdout",
     "output_type": "stream",
     "text": [
      "\n",
      "0: 384x640 5 persons, 2 tennis rackets, 959.8ms\n",
      "Speed: 2.0ms preprocess, 959.8ms inference, 1.0ms postprocess per image at shape (1, 3, 384, 640)\n",
      "\n",
      "0: 640x1088 1 ball, 483.1ms\n",
      "Speed: 7.7ms preprocess, 483.1ms inference, 1.0ms postprocess per image at shape (1, 3, 640, 1088)\n"
     ]
    },
    {
     "name": "stderr",
     "output_type": "stream",
     "text": [
      "Analizando partido:  15%|█▍        | 22/150 [01:02<05:55,  2.78s/frames]"
     ]
    },
    {
     "name": "stdout",
     "output_type": "stream",
     "text": [
      "\n",
      "0: 384x640 5 persons, 1 car, 2 tennis rackets, 1077.0ms\n",
      "Speed: 2.6ms preprocess, 1077.0ms inference, 0.9ms postprocess per image at shape (1, 3, 384, 640)\n",
      "\n",
      "0: 640x1088 1 ball, 470.4ms\n",
      "Speed: 6.5ms preprocess, 470.4ms inference, 1.0ms postprocess per image at shape (1, 3, 640, 1088)\n"
     ]
    },
    {
     "name": "stderr",
     "output_type": "stream",
     "text": [
      "Analizando partido:  15%|█▌        | 23/150 [01:05<05:54,  2.79s/frames]"
     ]
    },
    {
     "name": "stdout",
     "output_type": "stream",
     "text": [
      "\n",
      "0: 384x640 5 persons, 1 car, 2 tennis rackets, 965.9ms\n",
      "Speed: 2.0ms preprocess, 965.9ms inference, 1.0ms postprocess per image at shape (1, 3, 384, 640)\n",
      "\n",
      "0: 640x1088 1 ball, 502.0ms\n",
      "Speed: 6.7ms preprocess, 502.0ms inference, 1.0ms postprocess per image at shape (1, 3, 640, 1088)\n"
     ]
    },
    {
     "name": "stderr",
     "output_type": "stream",
     "text": [
      "Analizando partido:  16%|█▌        | 24/150 [01:08<05:56,  2.83s/frames]"
     ]
    },
    {
     "name": "stdout",
     "output_type": "stream",
     "text": [
      "\n",
      "0: 384x640 5 persons, 1 car, 2 tennis rackets, 997.9ms\n",
      "Speed: 1.7ms preprocess, 997.9ms inference, 0.9ms postprocess per image at shape (1, 3, 384, 640)\n",
      "\n",
      "0: 640x1088 (no detections), 480.7ms\n",
      "Speed: 6.9ms preprocess, 480.7ms inference, 0.6ms postprocess per image at shape (1, 3, 640, 1088)\n"
     ]
    },
    {
     "name": "stderr",
     "output_type": "stream",
     "text": [
      "Analizando partido:  17%|█▋        | 25/150 [01:10<05:49,  2.79s/frames]"
     ]
    },
    {
     "name": "stdout",
     "output_type": "stream",
     "text": [
      "\n",
      "0: 384x640 5 persons, 1 car, 3 tennis rackets, 991.6ms\n",
      "Speed: 1.9ms preprocess, 991.6ms inference, 0.9ms postprocess per image at shape (1, 3, 384, 640)\n",
      "\n",
      "0: 640x1088 1 ball, 493.7ms\n",
      "Speed: 6.2ms preprocess, 493.7ms inference, 1.0ms postprocess per image at shape (1, 3, 640, 1088)\n"
     ]
    },
    {
     "name": "stderr",
     "output_type": "stream",
     "text": [
      "Analizando partido:  17%|█▋        | 26/150 [01:13<05:43,  2.77s/frames]"
     ]
    },
    {
     "name": "stdout",
     "output_type": "stream",
     "text": [
      "\n",
      "0: 384x640 5 persons, 1 car, 3 tennis rackets, 1019.8ms\n",
      "Speed: 2.9ms preprocess, 1019.8ms inference, 1.4ms postprocess per image at shape (1, 3, 384, 640)\n",
      "\n",
      "0: 640x1088 (no detections), 479.9ms\n",
      "Speed: 7.2ms preprocess, 479.9ms inference, 0.6ms postprocess per image at shape (1, 3, 640, 1088)\n"
     ]
    },
    {
     "name": "stderr",
     "output_type": "stream",
     "text": [
      "Analizando partido:  18%|█▊        | 27/150 [01:16<05:46,  2.81s/frames]"
     ]
    },
    {
     "name": "stdout",
     "output_type": "stream",
     "text": [
      "\n",
      "0: 384x640 5 persons, 1 car, 1052.6ms\n",
      "Speed: 2.3ms preprocess, 1052.6ms inference, 1.1ms postprocess per image at shape (1, 3, 384, 640)\n",
      "\n",
      "0: 640x1088 (no detections), 461.8ms\n",
      "Speed: 7.1ms preprocess, 461.8ms inference, 0.6ms postprocess per image at shape (1, 3, 640, 1088)\n"
     ]
    },
    {
     "name": "stderr",
     "output_type": "stream",
     "text": [
      "Analizando partido:  19%|█▊        | 28/150 [01:19<05:43,  2.82s/frames]"
     ]
    },
    {
     "name": "stdout",
     "output_type": "stream",
     "text": [
      "\n",
      "0: 384x640 5 persons, 1 car, 1009.8ms\n",
      "Speed: 2.1ms preprocess, 1009.8ms inference, 1.0ms postprocess per image at shape (1, 3, 384, 640)\n",
      "\n",
      "0: 640x1088 (no detections), 458.3ms\n",
      "Speed: 6.8ms preprocess, 458.3ms inference, 0.6ms postprocess per image at shape (1, 3, 640, 1088)\n"
     ]
    },
    {
     "name": "stderr",
     "output_type": "stream",
     "text": [
      "Analizando partido:  19%|█▉        | 29/150 [01:22<05:37,  2.79s/frames]"
     ]
    },
    {
     "name": "stdout",
     "output_type": "stream",
     "text": [
      "\n",
      "0: 384x640 5 persons, 1 car, 1 tennis racket, 1040.6ms\n",
      "Speed: 1.9ms preprocess, 1040.6ms inference, 1.2ms postprocess per image at shape (1, 3, 384, 640)\n",
      "\n",
      "0: 640x1088 1 ball, 483.1ms\n",
      "Speed: 7.4ms preprocess, 483.1ms inference, 1.3ms postprocess per image at shape (1, 3, 640, 1088)\n"
     ]
    },
    {
     "name": "stderr",
     "output_type": "stream",
     "text": [
      "Analizando partido:  20%|██        | 30/150 [01:24<05:33,  2.78s/frames]"
     ]
    },
    {
     "name": "stdout",
     "output_type": "stream",
     "text": [
      "\n",
      "0: 384x640 5 persons, 1 car, 973.5ms\n",
      "Speed: 2.3ms preprocess, 973.5ms inference, 1.0ms postprocess per image at shape (1, 3, 384, 640)\n",
      "\n",
      "0: 640x1088 (no detections), 494.2ms\n",
      "Speed: 6.7ms preprocess, 494.2ms inference, 0.6ms postprocess per image at shape (1, 3, 640, 1088)\n"
     ]
    },
    {
     "name": "stderr",
     "output_type": "stream",
     "text": [
      "Analizando partido:  21%|██        | 31/150 [01:27<05:35,  2.82s/frames]"
     ]
    },
    {
     "name": "stdout",
     "output_type": "stream",
     "text": [
      "\n",
      "0: 384x640 5 persons, 1 car, 1 tennis racket, 961.2ms\n",
      "Speed: 2.4ms preprocess, 961.2ms inference, 1.0ms postprocess per image at shape (1, 3, 384, 640)\n",
      "\n",
      "0: 640x1088 1 ball, 541.3ms\n",
      "Speed: 9.0ms preprocess, 541.3ms inference, 1.1ms postprocess per image at shape (1, 3, 640, 1088)\n"
     ]
    },
    {
     "name": "stderr",
     "output_type": "stream",
     "text": [
      "Analizando partido:  21%|██▏       | 32/150 [01:30<05:30,  2.80s/frames]"
     ]
    },
    {
     "name": "stdout",
     "output_type": "stream",
     "text": [
      "\n",
      "0: 384x640 5 persons, 1 car, 1 tennis racket, 1030.5ms\n",
      "Speed: 1.9ms preprocess, 1030.5ms inference, 1.0ms postprocess per image at shape (1, 3, 384, 640)\n",
      "\n",
      "0: 640x1088 1 ball, 479.1ms\n",
      "Speed: 7.3ms preprocess, 479.1ms inference, 1.0ms postprocess per image at shape (1, 3, 640, 1088)\n"
     ]
    },
    {
     "name": "stderr",
     "output_type": "stream",
     "text": [
      "Analizando partido:  22%|██▏       | 33/150 [01:33<05:27,  2.80s/frames]"
     ]
    },
    {
     "name": "stdout",
     "output_type": "stream",
     "text": [
      "\n",
      "0: 384x640 4 persons, 1 car, 1 tennis racket, 997.1ms\n",
      "Speed: 2.5ms preprocess, 997.1ms inference, 1.7ms postprocess per image at shape (1, 3, 384, 640)\n",
      "\n",
      "0: 640x1088 1 ball, 459.0ms\n",
      "Speed: 7.1ms preprocess, 459.0ms inference, 1.0ms postprocess per image at shape (1, 3, 640, 1088)\n"
     ]
    },
    {
     "name": "stderr",
     "output_type": "stream",
     "text": [
      "Analizando partido:  23%|██▎       | 34/150 [01:36<05:28,  2.83s/frames]"
     ]
    },
    {
     "name": "stdout",
     "output_type": "stream",
     "text": [
      "\n",
      "0: 384x640 5 persons, 1 car, 1 tennis racket, 1021.5ms\n",
      "Speed: 2.2ms preprocess, 1021.5ms inference, 1.0ms postprocess per image at shape (1, 3, 384, 640)\n",
      "\n",
      "0: 640x1088 (no detections), 479.9ms\n",
      "Speed: 8.2ms preprocess, 479.9ms inference, 0.6ms postprocess per image at shape (1, 3, 640, 1088)\n"
     ]
    },
    {
     "name": "stderr",
     "output_type": "stream",
     "text": [
      "Analizando partido:  23%|██▎       | 35/150 [01:39<05:27,  2.85s/frames]"
     ]
    },
    {
     "name": "stdout",
     "output_type": "stream",
     "text": [
      "\n",
      "0: 384x640 5 persons, 1 tennis racket, 968.8ms\n",
      "Speed: 1.9ms preprocess, 968.8ms inference, 1.0ms postprocess per image at shape (1, 3, 384, 640)\n",
      "\n",
      "0: 640x1088 (no detections), 459.0ms\n",
      "Speed: 7.2ms preprocess, 459.0ms inference, 0.6ms postprocess per image at shape (1, 3, 640, 1088)\n"
     ]
    },
    {
     "name": "stderr",
     "output_type": "stream",
     "text": [
      "Analizando partido:  24%|██▍       | 36/150 [01:41<05:18,  2.79s/frames]"
     ]
    },
    {
     "name": "stdout",
     "output_type": "stream",
     "text": [
      "\n",
      "0: 384x640 5 persons, 1 sports ball, 1 tennis racket, 969.2ms\n",
      "Speed: 1.7ms preprocess, 969.2ms inference, 1.0ms postprocess per image at shape (1, 3, 384, 640)\n",
      "\n",
      "0: 640x1088 (no detections), 470.6ms\n",
      "Speed: 6.6ms preprocess, 470.6ms inference, 0.8ms postprocess per image at shape (1, 3, 640, 1088)\n"
     ]
    },
    {
     "name": "stderr",
     "output_type": "stream",
     "text": [
      "Analizando partido:  25%|██▍       | 37/150 [01:44<05:11,  2.76s/frames]"
     ]
    },
    {
     "name": "stdout",
     "output_type": "stream",
     "text": [
      "\n",
      "0: 384x640 5 persons, 1096.4ms\n",
      "Speed: 2.0ms preprocess, 1096.4ms inference, 1.1ms postprocess per image at shape (1, 3, 384, 640)\n",
      "\n",
      "0: 640x1088 (no detections), 470.2ms\n",
      "Speed: 7.5ms preprocess, 470.2ms inference, 0.6ms postprocess per image at shape (1, 3, 640, 1088)\n"
     ]
    },
    {
     "name": "stderr",
     "output_type": "stream",
     "text": [
      "Analizando partido:  25%|██▌       | 38/150 [01:47<05:15,  2.82s/frames]"
     ]
    },
    {
     "name": "stdout",
     "output_type": "stream",
     "text": [
      "\n",
      "0: 384x640 5 persons, 1 clock, 1032.8ms\n",
      "Speed: 2.3ms preprocess, 1032.8ms inference, 1.0ms postprocess per image at shape (1, 3, 384, 640)\n",
      "\n",
      "0: 640x1088 (no detections), 487.8ms\n",
      "Speed: 7.6ms preprocess, 487.8ms inference, 0.6ms postprocess per image at shape (1, 3, 640, 1088)\n"
     ]
    },
    {
     "name": "stderr",
     "output_type": "stream",
     "text": [
      "Analizando partido:  26%|██▌       | 39/150 [01:50<05:11,  2.80s/frames]"
     ]
    },
    {
     "name": "stdout",
     "output_type": "stream",
     "text": [
      "\n",
      "0: 384x640 5 persons, 1 clock, 1008.8ms\n",
      "Speed: 1.8ms preprocess, 1008.8ms inference, 0.9ms postprocess per image at shape (1, 3, 384, 640)\n",
      "\n",
      "0: 640x1088 (no detections), 501.5ms\n",
      "Speed: 7.1ms preprocess, 501.5ms inference, 0.7ms postprocess per image at shape (1, 3, 640, 1088)\n"
     ]
    },
    {
     "name": "stderr",
     "output_type": "stream",
     "text": [
      "Analizando partido:  27%|██▋       | 40/150 [01:52<05:06,  2.79s/frames]"
     ]
    },
    {
     "name": "stdout",
     "output_type": "stream",
     "text": [
      "\n",
      "0: 384x640 5 persons, 2 tennis rackets, 1 clock, 1082.2ms\n",
      "Speed: 2.2ms preprocess, 1082.2ms inference, 1.2ms postprocess per image at shape (1, 3, 384, 640)\n",
      "\n",
      "0: 640x1088 (no detections), 472.8ms\n",
      "Speed: 7.8ms preprocess, 472.8ms inference, 0.6ms postprocess per image at shape (1, 3, 640, 1088)\n"
     ]
    },
    {
     "name": "stderr",
     "output_type": "stream",
     "text": [
      "Analizando partido:  27%|██▋       | 41/150 [01:55<05:10,  2.85s/frames]"
     ]
    },
    {
     "name": "stdout",
     "output_type": "stream",
     "text": [
      "\n",
      "0: 384x640 5 persons, 1 tennis racket, 979.1ms\n",
      "Speed: 2.1ms preprocess, 979.1ms inference, 0.9ms postprocess per image at shape (1, 3, 384, 640)\n",
      "\n",
      "0: 640x1088 (no detections), 466.4ms\n",
      "Speed: 7.5ms preprocess, 466.4ms inference, 0.6ms postprocess per image at shape (1, 3, 640, 1088)\n"
     ]
    },
    {
     "name": "stderr",
     "output_type": "stream",
     "text": [
      "Analizando partido (Golpes: 1):  28%|██▊       | 42/150 [01:58<05:01,  2.80s/frames]"
     ]
    },
    {
     "name": "stdout",
     "output_type": "stream",
     "text": [
      "\n",
      "0: 384x640 5 persons, 1 tennis racket, 1103.5ms\n",
      "Speed: 2.4ms preprocess, 1103.5ms inference, 1.1ms postprocess per image at shape (1, 3, 384, 640)\n",
      "\n",
      "0: 640x1088 (no detections), 475.6ms\n",
      "Speed: 6.9ms preprocess, 475.6ms inference, 0.7ms postprocess per image at shape (1, 3, 640, 1088)\n"
     ]
    },
    {
     "name": "stderr",
     "output_type": "stream",
     "text": [
      "Analizando partido (Golpes: 1):  29%|██▊       | 43/150 [02:01<04:59,  2.80s/frames]"
     ]
    },
    {
     "name": "stdout",
     "output_type": "stream",
     "text": [
      "\n",
      "0: 384x640 5 persons, 2 tennis rackets, 1000.6ms\n",
      "Speed: 2.2ms preprocess, 1000.6ms inference, 1.0ms postprocess per image at shape (1, 3, 384, 640)\n",
      "\n",
      "0: 640x1088 (no detections), 519.0ms\n",
      "Speed: 7.2ms preprocess, 519.0ms inference, 0.6ms postprocess per image at shape (1, 3, 640, 1088)\n"
     ]
    },
    {
     "name": "stderr",
     "output_type": "stream",
     "text": [
      "Analizando partido (Golpes: 1):  29%|██▉       | 44/150 [02:04<04:55,  2.79s/frames]"
     ]
    },
    {
     "name": "stdout",
     "output_type": "stream",
     "text": [
      "\n",
      "0: 384x640 5 persons, 1 tennis racket, 1 clock, 981.8ms\n",
      "Speed: 1.8ms preprocess, 981.8ms inference, 0.9ms postprocess per image at shape (1, 3, 384, 640)\n",
      "\n",
      "0: 640x1088 (no detections), 470.8ms\n",
      "Speed: 7.7ms preprocess, 470.8ms inference, 0.6ms postprocess per image at shape (1, 3, 640, 1088)\n"
     ]
    },
    {
     "name": "stderr",
     "output_type": "stream",
     "text": [
      "Analizando partido (Golpes: 1):  30%|███       | 45/150 [02:07<04:55,  2.81s/frames]"
     ]
    },
    {
     "name": "stdout",
     "output_type": "stream",
     "text": [
      "\n",
      "0: 384x640 5 persons, 2 tennis rackets, 1005.5ms\n",
      "Speed: 2.4ms preprocess, 1005.5ms inference, 1.0ms postprocess per image at shape (1, 3, 384, 640)\n",
      "\n",
      "0: 640x1088 (no detections), 495.4ms\n",
      "Speed: 6.9ms preprocess, 495.4ms inference, 0.7ms postprocess per image at shape (1, 3, 640, 1088)\n"
     ]
    },
    {
     "name": "stderr",
     "output_type": "stream",
     "text": [
      "Analizando partido (Golpes: 1):  31%|███       | 46/150 [02:09<04:50,  2.79s/frames]"
     ]
    },
    {
     "name": "stdout",
     "output_type": "stream",
     "text": [
      "\n",
      "0: 384x640 5 persons, 2 tennis rackets, 1008.2ms\n",
      "Speed: 2.0ms preprocess, 1008.2ms inference, 1.0ms postprocess per image at shape (1, 3, 384, 640)\n",
      "\n",
      "0: 640x1088 (no detections), 589.2ms\n",
      "Speed: 7.4ms preprocess, 589.2ms inference, 0.6ms postprocess per image at shape (1, 3, 640, 1088)\n"
     ]
    },
    {
     "name": "stderr",
     "output_type": "stream",
     "text": [
      "Analizando partido (Golpes: 1):  31%|███▏      | 47/150 [02:12<04:49,  2.81s/frames]"
     ]
    },
    {
     "name": "stdout",
     "output_type": "stream",
     "text": [
      "\n",
      "0: 384x640 5 persons, 1030.6ms\n",
      "Speed: 2.3ms preprocess, 1030.6ms inference, 1.1ms postprocess per image at shape (1, 3, 384, 640)\n",
      "\n",
      "0: 640x1088 1 ball, 469.8ms\n",
      "Speed: 6.7ms preprocess, 469.8ms inference, 1.0ms postprocess per image at shape (1, 3, 640, 1088)\n"
     ]
    },
    {
     "name": "stderr",
     "output_type": "stream",
     "text": [
      "Analizando partido (Golpes: 1):  32%|███▏      | 48/150 [02:15<04:49,  2.84s/frames]"
     ]
    },
    {
     "name": "stdout",
     "output_type": "stream",
     "text": [
      "\n",
      "0: 384x640 5 persons, 998.0ms\n",
      "Speed: 2.3ms preprocess, 998.0ms inference, 1.4ms postprocess per image at shape (1, 3, 384, 640)\n",
      "\n",
      "0: 640x1088 1 ball, 474.4ms\n",
      "Speed: 7.3ms preprocess, 474.4ms inference, 1.0ms postprocess per image at shape (1, 3, 640, 1088)\n"
     ]
    },
    {
     "name": "stderr",
     "output_type": "stream",
     "text": [
      "Analizando partido (Golpes: 1):  33%|███▎      | 49/150 [02:18<04:45,  2.82s/frames]"
     ]
    },
    {
     "name": "stdout",
     "output_type": "stream",
     "text": [
      "\n",
      "0: 384x640 5 persons, 1 car, 1 clock, 1013.8ms\n",
      "Speed: 1.8ms preprocess, 1013.8ms inference, 1.1ms postprocess per image at shape (1, 3, 384, 640)\n",
      "\n",
      "0: 640x1088 1 ball, 484.8ms\n",
      "Speed: 7.0ms preprocess, 484.8ms inference, 1.1ms postprocess per image at shape (1, 3, 640, 1088)\n"
     ]
    },
    {
     "name": "stderr",
     "output_type": "stream",
     "text": [
      "Analizando partido (Golpes: 2):  33%|███▎      | 50/150 [02:21<04:40,  2.81s/frames]"
     ]
    },
    {
     "name": "stdout",
     "output_type": "stream",
     "text": [
      "\n",
      "0: 384x640 5 persons, 1 car, 1 clock, 1009.9ms\n",
      "Speed: 2.0ms preprocess, 1009.9ms inference, 1.1ms postprocess per image at shape (1, 3, 384, 640)\n",
      "\n",
      "0: 640x1088 (no detections), 464.6ms\n",
      "Speed: 6.8ms preprocess, 464.6ms inference, 0.6ms postprocess per image at shape (1, 3, 640, 1088)\n"
     ]
    },
    {
     "name": "stderr",
     "output_type": "stream",
     "text": [
      "Analizando partido (Golpes: 2):  34%|███▍      | 51/150 [02:23<04:37,  2.80s/frames]"
     ]
    },
    {
     "name": "stdout",
     "output_type": "stream",
     "text": [
      "\n",
      "0: 384x640 5 persons, 1 car, 959.3ms\n",
      "Speed: 2.0ms preprocess, 959.3ms inference, 1.1ms postprocess per image at shape (1, 3, 384, 640)\n",
      "\n",
      "0: 640x1088 1 ball, 460.1ms\n",
      "Speed: 7.2ms preprocess, 460.1ms inference, 1.0ms postprocess per image at shape (1, 3, 640, 1088)\n"
     ]
    },
    {
     "name": "stderr",
     "output_type": "stream",
     "text": [
      "Analizando partido (Golpes: 2):  35%|███▍      | 52/150 [02:26<04:35,  2.81s/frames]"
     ]
    },
    {
     "name": "stdout",
     "output_type": "stream",
     "text": [
      "\n",
      "0: 384x640 5 persons, 1 car, 1003.9ms\n",
      "Speed: 2.0ms preprocess, 1003.9ms inference, 0.9ms postprocess per image at shape (1, 3, 384, 640)\n",
      "\n",
      "0: 640x1088 1 ball, 445.5ms\n",
      "Speed: 7.1ms preprocess, 445.5ms inference, 1.0ms postprocess per image at shape (1, 3, 640, 1088)\n"
     ]
    },
    {
     "name": "stderr",
     "output_type": "stream",
     "text": [
      "Analizando partido (Golpes: 2):  35%|███▌      | 53/150 [02:29<04:28,  2.76s/frames]"
     ]
    },
    {
     "name": "stdout",
     "output_type": "stream",
     "text": [
      "\n",
      "0: 384x640 5 persons, 1 car, 993.6ms\n",
      "Speed: 3.1ms preprocess, 993.6ms inference, 1.2ms postprocess per image at shape (1, 3, 384, 640)\n",
      "\n",
      "0: 640x1088 1 ball, 469.7ms\n",
      "Speed: 6.9ms preprocess, 469.7ms inference, 1.0ms postprocess per image at shape (1, 3, 640, 1088)\n"
     ]
    },
    {
     "name": "stderr",
     "output_type": "stream",
     "text": [
      "Analizando partido (Golpes: 2):  36%|███▌      | 54/150 [02:32<04:27,  2.78s/frames]"
     ]
    },
    {
     "name": "stdout",
     "output_type": "stream",
     "text": [
      "\n",
      "0: 384x640 5 persons, 1 car, 957.3ms\n",
      "Speed: 1.9ms preprocess, 957.3ms inference, 1.2ms postprocess per image at shape (1, 3, 384, 640)\n",
      "\n",
      "0: 640x1088 (no detections), 518.4ms\n",
      "Speed: 6.7ms preprocess, 518.4ms inference, 0.6ms postprocess per image at shape (1, 3, 640, 1088)\n"
     ]
    },
    {
     "name": "stderr",
     "output_type": "stream",
     "text": [
      "Analizando partido (Golpes: 2):  37%|███▋      | 55/150 [02:35<04:27,  2.82s/frames]"
     ]
    },
    {
     "name": "stdout",
     "output_type": "stream",
     "text": [
      "\n",
      "0: 384x640 5 persons, 1 car, 1008.9ms\n",
      "Speed: 2.3ms preprocess, 1008.9ms inference, 0.9ms postprocess per image at shape (1, 3, 384, 640)\n",
      "\n",
      "0: 640x1088 (no detections), 476.3ms\n",
      "Speed: 6.7ms preprocess, 476.3ms inference, 0.6ms postprocess per image at shape (1, 3, 640, 1088)\n"
     ]
    },
    {
     "name": "stderr",
     "output_type": "stream",
     "text": [
      "Analizando partido (Golpes: 2):  37%|███▋      | 56/150 [02:37<04:21,  2.78s/frames]"
     ]
    },
    {
     "name": "stdout",
     "output_type": "stream",
     "text": [
      "\n",
      "0: 384x640 5 persons, 1070.7ms\n",
      "Speed: 2.4ms preprocess, 1070.7ms inference, 0.9ms postprocess per image at shape (1, 3, 384, 640)\n",
      "\n",
      "0: 640x1088 (no detections), 461.8ms\n",
      "Speed: 6.9ms preprocess, 461.8ms inference, 0.7ms postprocess per image at shape (1, 3, 640, 1088)\n"
     ]
    },
    {
     "name": "stderr",
     "output_type": "stream",
     "text": [
      "Analizando partido (Golpes: 2):  38%|███▊      | 57/150 [02:40<04:18,  2.78s/frames]"
     ]
    },
    {
     "name": "stdout",
     "output_type": "stream",
     "text": [
      "\n",
      "0: 384x640 5 persons, 1 car, 1017.1ms\n",
      "Speed: 2.0ms preprocess, 1017.1ms inference, 0.9ms postprocess per image at shape (1, 3, 384, 640)\n",
      "\n",
      "0: 640x1088 (no detections), 482.1ms\n",
      "Speed: 7.4ms preprocess, 482.1ms inference, 0.7ms postprocess per image at shape (1, 3, 640, 1088)\n"
     ]
    },
    {
     "name": "stderr",
     "output_type": "stream",
     "text": [
      "Analizando partido (Golpes: 2):  39%|███▊      | 58/150 [02:43<04:15,  2.77s/frames]"
     ]
    },
    {
     "name": "stdout",
     "output_type": "stream",
     "text": [
      "\n",
      "0: 384x640 5 persons, 1 car, 1125.7ms\n",
      "Speed: 2.0ms preprocess, 1125.7ms inference, 1.0ms postprocess per image at shape (1, 3, 384, 640)\n",
      "\n",
      "0: 640x1088 (no detections), 467.1ms\n",
      "Speed: 7.0ms preprocess, 467.1ms inference, 0.6ms postprocess per image at shape (1, 3, 640, 1088)\n"
     ]
    },
    {
     "name": "stderr",
     "output_type": "stream",
     "text": [
      "Analizando partido (Golpes: 2):  39%|███▉      | 59/150 [02:46<04:18,  2.84s/frames]"
     ]
    },
    {
     "name": "stdout",
     "output_type": "stream",
     "text": [
      "\n",
      "0: 384x640 5 persons, 1 car, 1 tennis racket, 1033.6ms\n",
      "Speed: 2.0ms preprocess, 1033.6ms inference, 1.1ms postprocess per image at shape (1, 3, 384, 640)\n",
      "\n",
      "0: 640x1088 (no detections), 557.2ms\n",
      "Speed: 6.6ms preprocess, 557.2ms inference, 0.6ms postprocess per image at shape (1, 3, 640, 1088)\n"
     ]
    },
    {
     "name": "stderr",
     "output_type": "stream",
     "text": [
      "Analizando partido (Golpes: 2):  40%|████      | 60/150 [02:49<04:15,  2.84s/frames]"
     ]
    },
    {
     "name": "stdout",
     "output_type": "stream",
     "text": [
      "\n",
      "0: 384x640 5 persons, 1 car, 1 tennis racket, 989.6ms\n",
      "Speed: 1.9ms preprocess, 989.6ms inference, 1.3ms postprocess per image at shape (1, 3, 384, 640)\n",
      "\n",
      "0: 640x1088 (no detections), 497.9ms\n",
      "Speed: 7.8ms preprocess, 497.9ms inference, 0.7ms postprocess per image at shape (1, 3, 640, 1088)\n"
     ]
    },
    {
     "name": "stderr",
     "output_type": "stream",
     "text": [
      "Analizando partido (Golpes: 2):  41%|████      | 61/150 [02:51<04:09,  2.81s/frames]"
     ]
    },
    {
     "name": "stdout",
     "output_type": "stream",
     "text": [
      "\n",
      "0: 384x640 5 persons, 1021.3ms\n",
      "Speed: 1.9ms preprocess, 1021.3ms inference, 1.1ms postprocess per image at shape (1, 3, 384, 640)\n",
      "\n",
      "0: 640x1088 (no detections), 478.1ms\n",
      "Speed: 7.1ms preprocess, 478.1ms inference, 0.6ms postprocess per image at shape (1, 3, 640, 1088)\n"
     ]
    },
    {
     "name": "stderr",
     "output_type": "stream",
     "text": [
      "Analizando partido (Golpes: 2):  41%|████▏     | 62/150 [02:54<04:10,  2.85s/frames]"
     ]
    },
    {
     "name": "stdout",
     "output_type": "stream",
     "text": [
      "\n",
      "0: 384x640 5 persons, 1 clock, 984.4ms\n",
      "Speed: 1.8ms preprocess, 984.4ms inference, 0.9ms postprocess per image at shape (1, 3, 384, 640)\n",
      "\n",
      "0: 640x1088 1 ball, 476.7ms\n",
      "Speed: 6.9ms preprocess, 476.7ms inference, 0.9ms postprocess per image at shape (1, 3, 640, 1088)\n"
     ]
    },
    {
     "name": "stderr",
     "output_type": "stream",
     "text": [
      "Analizando partido (Golpes: 2):  42%|████▏     | 63/150 [02:57<04:03,  2.80s/frames]"
     ]
    },
    {
     "name": "stdout",
     "output_type": "stream",
     "text": [
      "\n",
      "0: 384x640 5 persons, 1 car, 1 clock, 946.9ms\n",
      "Speed: 2.2ms preprocess, 946.9ms inference, 1.2ms postprocess per image at shape (1, 3, 384, 640)\n",
      "\n",
      "0: 640x1088 1 ball, 592.8ms\n",
      "Speed: 6.5ms preprocess, 592.8ms inference, 0.9ms postprocess per image at shape (1, 3, 640, 1088)\n"
     ]
    },
    {
     "name": "stderr",
     "output_type": "stream",
     "text": [
      "Analizando partido (Golpes: 2):  43%|████▎     | 64/150 [03:00<04:00,  2.79s/frames]"
     ]
    },
    {
     "name": "stdout",
     "output_type": "stream",
     "text": [
      "\n",
      "0: 384x640 5 persons, 1 car, 1 clock, 968.5ms\n",
      "Speed: 2.1ms preprocess, 968.5ms inference, 1.2ms postprocess per image at shape (1, 3, 384, 640)\n",
      "\n",
      "0: 640x1088 1 ball, 470.3ms\n",
      "Speed: 6.5ms preprocess, 470.3ms inference, 1.3ms postprocess per image at shape (1, 3, 640, 1088)\n"
     ]
    },
    {
     "name": "stderr",
     "output_type": "stream",
     "text": [
      "Analizando partido (Golpes: 2):  43%|████▎     | 65/150 [03:02<03:54,  2.75s/frames]"
     ]
    },
    {
     "name": "stdout",
     "output_type": "stream",
     "text": [
      "\n",
      "0: 384x640 6 persons, 1 car, 1 clock, 948.5ms\n",
      "Speed: 2.3ms preprocess, 948.5ms inference, 0.9ms postprocess per image at shape (1, 3, 384, 640)\n",
      "\n",
      "0: 640x1088 (no detections), 484.0ms\n",
      "Speed: 6.6ms preprocess, 484.0ms inference, 0.7ms postprocess per image at shape (1, 3, 640, 1088)\n"
     ]
    },
    {
     "name": "stderr",
     "output_type": "stream",
     "text": [
      "Analizando partido (Golpes: 2):  44%|████▍     | 66/150 [03:05<03:52,  2.77s/frames]"
     ]
    },
    {
     "name": "stdout",
     "output_type": "stream",
     "text": [
      "\n",
      "0: 384x640 6 persons, 1 tennis racket, 1 clock, 985.0ms\n",
      "Speed: 2.7ms preprocess, 985.0ms inference, 1.2ms postprocess per image at shape (1, 3, 384, 640)\n",
      "\n",
      "0: 640x1088 1 ball, 490.7ms\n",
      "Speed: 7.1ms preprocess, 490.7ms inference, 1.1ms postprocess per image at shape (1, 3, 640, 1088)\n"
     ]
    },
    {
     "name": "stderr",
     "output_type": "stream",
     "text": [
      "Analizando partido (Golpes: 2):  45%|████▍     | 67/150 [03:08<03:48,  2.75s/frames]"
     ]
    },
    {
     "name": "stdout",
     "output_type": "stream",
     "text": [
      "\n",
      "0: 384x640 6 persons, 1 car, 1 tennis racket, 1005.0ms\n",
      "Speed: 2.3ms preprocess, 1005.0ms inference, 1.1ms postprocess per image at shape (1, 3, 384, 640)\n",
      "\n",
      "0: 640x1088 1 ball, 454.6ms\n",
      "Speed: 7.0ms preprocess, 454.6ms inference, 0.9ms postprocess per image at shape (1, 3, 640, 1088)\n"
     ]
    },
    {
     "name": "stderr",
     "output_type": "stream",
     "text": [
      "Analizando partido (Golpes: 2):  45%|████▌     | 68/150 [03:11<03:44,  2.74s/frames]"
     ]
    },
    {
     "name": "stdout",
     "output_type": "stream",
     "text": [
      "\n",
      "0: 384x640 6 persons, 1 tennis racket, 1031.3ms\n",
      "Speed: 2.6ms preprocess, 1031.3ms inference, 1.0ms postprocess per image at shape (1, 3, 384, 640)\n",
      "\n",
      "0: 640x1088 1 ball, 537.7ms\n",
      "Speed: 8.1ms preprocess, 537.7ms inference, 1.1ms postprocess per image at shape (1, 3, 640, 1088)\n"
     ]
    },
    {
     "name": "stderr",
     "output_type": "stream",
     "text": [
      "Analizando partido (Golpes: 2):  46%|████▌     | 69/150 [03:14<03:47,  2.81s/frames]"
     ]
    },
    {
     "name": "stdout",
     "output_type": "stream",
     "text": [
      "\n",
      "0: 384x640 6 persons, 2 tennis rackets, 1221.1ms\n",
      "Speed: 1.9ms preprocess, 1221.1ms inference, 11.8ms postprocess per image at shape (1, 3, 384, 640)\n",
      "\n",
      "0: 640x1088 1 ball, 460.8ms\n",
      "Speed: 6.8ms preprocess, 460.8ms inference, 0.9ms postprocess per image at shape (1, 3, 640, 1088)\n"
     ]
    },
    {
     "name": "stderr",
     "output_type": "stream",
     "text": [
      "Analizando partido (Golpes: 2):  47%|████▋     | 70/150 [03:17<03:47,  2.85s/frames]"
     ]
    },
    {
     "name": "stdout",
     "output_type": "stream",
     "text": [
      "\n",
      "0: 384x640 5 persons, 1 car, 2 tennis rackets, 967.0ms\n",
      "Speed: 3.7ms preprocess, 967.0ms inference, 1.0ms postprocess per image at shape (1, 3, 384, 640)\n",
      "\n",
      "0: 640x1088 2 balls, 488.8ms\n",
      "Speed: 6.9ms preprocess, 488.8ms inference, 0.9ms postprocess per image at shape (1, 3, 640, 1088)\n"
     ]
    },
    {
     "name": "stderr",
     "output_type": "stream",
     "text": [
      "Analizando partido (Golpes: 2):  47%|████▋     | 71/150 [03:19<03:41,  2.81s/frames]"
     ]
    },
    {
     "name": "stdout",
     "output_type": "stream",
     "text": [
      "\n",
      "0: 384x640 5 persons, 1 car, 2 tennis rackets, 978.4ms\n",
      "Speed: 2.0ms preprocess, 978.4ms inference, 1.0ms postprocess per image at shape (1, 3, 384, 640)\n",
      "\n",
      "0: 640x1088 2 balls, 478.1ms\n",
      "Speed: 6.5ms preprocess, 478.1ms inference, 1.1ms postprocess per image at shape (1, 3, 640, 1088)\n"
     ]
    },
    {
     "name": "stderr",
     "output_type": "stream",
     "text": [
      "Analizando partido (Golpes: 2):  48%|████▊     | 72/150 [03:22<03:36,  2.77s/frames]"
     ]
    },
    {
     "name": "stdout",
     "output_type": "stream",
     "text": [
      "\n",
      "0: 384x640 5 persons, 1 car, 1032.4ms\n",
      "Speed: 2.1ms preprocess, 1032.4ms inference, 0.9ms postprocess per image at shape (1, 3, 384, 640)\n",
      "\n",
      "0: 640x1088 1 ball, 458.6ms\n",
      "Speed: 6.6ms preprocess, 458.6ms inference, 1.0ms postprocess per image at shape (1, 3, 640, 1088)\n"
     ]
    },
    {
     "name": "stderr",
     "output_type": "stream",
     "text": [
      "Analizando partido (Golpes: 2):  49%|████▊     | 73/150 [03:25<03:39,  2.84s/frames]"
     ]
    },
    {
     "name": "stdout",
     "output_type": "stream",
     "text": [
      "\n",
      "0: 384x640 6 persons, 1 car, 1 tennis racket, 948.7ms\n",
      "Speed: 2.3ms preprocess, 948.7ms inference, 1.1ms postprocess per image at shape (1, 3, 384, 640)\n",
      "\n",
      "0: 640x1088 1 ball, 487.3ms\n",
      "Speed: 6.7ms preprocess, 487.3ms inference, 1.0ms postprocess per image at shape (1, 3, 640, 1088)\n"
     ]
    },
    {
     "name": "stderr",
     "output_type": "stream",
     "text": [
      "Analizando partido (Golpes: 2):  49%|████▉     | 74/150 [03:28<03:32,  2.80s/frames]"
     ]
    },
    {
     "name": "stdout",
     "output_type": "stream",
     "text": [
      "\n",
      "0: 384x640 5 persons, 1 car, 1 tennis racket, 984.2ms\n",
      "Speed: 2.3ms preprocess, 984.2ms inference, 1.0ms postprocess per image at shape (1, 3, 384, 640)\n",
      "\n",
      "0: 640x1088 1 ball, 472.1ms\n",
      "Speed: 6.6ms preprocess, 472.1ms inference, 1.1ms postprocess per image at shape (1, 3, 640, 1088)\n"
     ]
    },
    {
     "name": "stderr",
     "output_type": "stream",
     "text": [
      "Analizando partido (Golpes: 2):  50%|█████     | 75/150 [03:30<03:27,  2.77s/frames]"
     ]
    },
    {
     "name": "stdout",
     "output_type": "stream",
     "text": [
      "\n",
      "0: 384x640 5 persons, 1 car, 1 sports ball, 1 tennis racket, 986.4ms\n",
      "Speed: 1.9ms preprocess, 986.4ms inference, 1.0ms postprocess per image at shape (1, 3, 384, 640)\n",
      "\n",
      "0: 640x1088 1 ball, 481.0ms\n",
      "Speed: 7.4ms preprocess, 481.0ms inference, 1.1ms postprocess per image at shape (1, 3, 640, 1088)\n"
     ]
    },
    {
     "name": "stderr",
     "output_type": "stream",
     "text": [
      "Analizando partido (Golpes: 2):  51%|█████     | 76/150 [03:33<03:29,  2.83s/frames]"
     ]
    },
    {
     "name": "stdout",
     "output_type": "stream",
     "text": [
      "\n",
      "0: 384x640 5 persons, 1 tennis racket, 949.6ms\n",
      "Speed: 2.8ms preprocess, 949.6ms inference, 1.0ms postprocess per image at shape (1, 3, 384, 640)\n",
      "\n",
      "0: 640x1088 1 ball, 455.3ms\n",
      "Speed: 7.3ms preprocess, 455.3ms inference, 1.1ms postprocess per image at shape (1, 3, 640, 1088)\n"
     ]
    },
    {
     "name": "stderr",
     "output_type": "stream",
     "text": [
      "Analizando partido (Golpes: 2):  51%|█████▏    | 77/150 [03:36<03:22,  2.77s/frames]"
     ]
    },
    {
     "name": "stdout",
     "output_type": "stream",
     "text": [
      "\n",
      "0: 384x640 5 persons, 2 tennis rackets, 1018.5ms\n",
      "Speed: 2.3ms preprocess, 1018.5ms inference, 1.0ms postprocess per image at shape (1, 3, 384, 640)\n",
      "\n",
      "0: 640x1088 1 ball, 450.2ms\n",
      "Speed: 6.8ms preprocess, 450.2ms inference, 1.0ms postprocess per image at shape (1, 3, 640, 1088)\n"
     ]
    },
    {
     "name": "stderr",
     "output_type": "stream",
     "text": [
      "Analizando partido (Golpes: 2):  52%|█████▏    | 78/150 [03:39<03:19,  2.77s/frames]"
     ]
    },
    {
     "name": "stdout",
     "output_type": "stream",
     "text": [
      "\n",
      "0: 384x640 6 persons, 1 car, 1 tennis racket, 1 clock, 974.0ms\n",
      "Speed: 1.9ms preprocess, 974.0ms inference, 1.0ms postprocess per image at shape (1, 3, 384, 640)\n",
      "\n",
      "0: 640x1088 (no detections), 464.5ms\n",
      "Speed: 6.9ms preprocess, 464.5ms inference, 0.7ms postprocess per image at shape (1, 3, 640, 1088)\n"
     ]
    },
    {
     "name": "stderr",
     "output_type": "stream",
     "text": [
      "Analizando partido (Golpes: 2):  53%|█████▎    | 79/150 [03:41<03:14,  2.74s/frames]"
     ]
    },
    {
     "name": "stdout",
     "output_type": "stream",
     "text": [
      "\n",
      "0: 384x640 5 persons, 1010.7ms\n",
      "Speed: 1.8ms preprocess, 1010.7ms inference, 1.0ms postprocess per image at shape (1, 3, 384, 640)\n",
      "\n",
      "0: 640x1088 1 ball, 466.4ms\n",
      "Speed: 6.8ms preprocess, 466.4ms inference, 1.0ms postprocess per image at shape (1, 3, 640, 1088)\n"
     ]
    },
    {
     "name": "stderr",
     "output_type": "stream",
     "text": [
      "Analizando partido (Golpes: 2):  53%|█████▎    | 80/150 [03:44<03:14,  2.78s/frames]"
     ]
    },
    {
     "name": "stdout",
     "output_type": "stream",
     "text": [
      "\n",
      "0: 384x640 5 persons, 1 sports ball, 1146.2ms\n",
      "Speed: 2.0ms preprocess, 1146.2ms inference, 0.9ms postprocess per image at shape (1, 3, 384, 640)\n",
      "\n",
      "0: 640x1088 1 ball, 460.0ms\n",
      "Speed: 7.9ms preprocess, 460.0ms inference, 1.0ms postprocess per image at shape (1, 3, 640, 1088)\n"
     ]
    },
    {
     "name": "stderr",
     "output_type": "stream",
     "text": [
      "Analizando partido (Golpes: 2):  54%|█████▍    | 81/150 [03:47<03:13,  2.80s/frames]"
     ]
    },
    {
     "name": "stdout",
     "output_type": "stream",
     "text": [
      "\n",
      "0: 384x640 5 persons, 994.9ms\n",
      "Speed: 2.8ms preprocess, 994.9ms inference, 1.2ms postprocess per image at shape (1, 3, 384, 640)\n",
      "\n",
      "0: 640x1088 1 ball, 487.8ms\n",
      "Speed: 6.8ms preprocess, 487.8ms inference, 1.0ms postprocess per image at shape (1, 3, 640, 1088)\n"
     ]
    },
    {
     "name": "stderr",
     "output_type": "stream",
     "text": [
      "Analizando partido (Golpes: 2):  55%|█████▍    | 82/150 [03:50<03:09,  2.79s/frames]"
     ]
    },
    {
     "name": "stdout",
     "output_type": "stream",
     "text": [
      "\n",
      "0: 384x640 6 persons, 1006.9ms\n",
      "Speed: 2.4ms preprocess, 1006.9ms inference, 1.0ms postprocess per image at shape (1, 3, 384, 640)\n",
      "\n",
      "0: 640x1088 1 ball, 460.6ms\n",
      "Speed: 7.2ms preprocess, 460.6ms inference, 1.0ms postprocess per image at shape (1, 3, 640, 1088)\n"
     ]
    },
    {
     "name": "stderr",
     "output_type": "stream",
     "text": [
      "Analizando partido (Golpes: 2):  55%|█████▌    | 83/150 [03:53<03:08,  2.82s/frames]"
     ]
    },
    {
     "name": "stdout",
     "output_type": "stream",
     "text": [
      "\n",
      "0: 384x640 5 persons, 984.7ms\n",
      "Speed: 2.0ms preprocess, 984.7ms inference, 1.0ms postprocess per image at shape (1, 3, 384, 640)\n",
      "\n",
      "0: 640x1088 1 ball, 491.0ms\n",
      "Speed: 8.0ms preprocess, 491.0ms inference, 0.9ms postprocess per image at shape (1, 3, 640, 1088)\n"
     ]
    },
    {
     "name": "stderr",
     "output_type": "stream",
     "text": [
      "Analizando partido (Golpes: 2):  56%|█████▌    | 84/150 [03:56<03:03,  2.78s/frames]"
     ]
    },
    {
     "name": "stdout",
     "output_type": "stream",
     "text": [
      "\n",
      "0: 384x640 6 persons, 996.4ms\n",
      "Speed: 2.1ms preprocess, 996.4ms inference, 1.0ms postprocess per image at shape (1, 3, 384, 640)\n",
      "\n",
      "0: 640x1088 1 ball, 514.1ms\n",
      "Speed: 7.1ms preprocess, 514.1ms inference, 1.2ms postprocess per image at shape (1, 3, 640, 1088)\n"
     ]
    },
    {
     "name": "stderr",
     "output_type": "stream",
     "text": [
      "Analizando partido (Golpes: 2):  57%|█████▋    | 85/150 [03:58<03:00,  2.78s/frames]"
     ]
    },
    {
     "name": "stdout",
     "output_type": "stream",
     "text": [
      "\n",
      "0: 384x640 6 persons, 1 tennis racket, 1012.5ms\n",
      "Speed: 1.9ms preprocess, 1012.5ms inference, 1.1ms postprocess per image at shape (1, 3, 384, 640)\n",
      "\n",
      "0: 640x1088 1 ball, 463.1ms\n",
      "Speed: 7.8ms preprocess, 463.1ms inference, 1.2ms postprocess per image at shape (1, 3, 640, 1088)\n"
     ]
    },
    {
     "name": "stderr",
     "output_type": "stream",
     "text": [
      "Analizando partido (Golpes: 2):  57%|█████▋    | 86/150 [04:01<02:56,  2.76s/frames]"
     ]
    },
    {
     "name": "stdout",
     "output_type": "stream",
     "text": [
      "\n",
      "0: 384x640 6 persons, 1 clock, 968.1ms\n",
      "Speed: 1.9ms preprocess, 968.1ms inference, 1.0ms postprocess per image at shape (1, 3, 384, 640)\n",
      "\n",
      "0: 640x1088 1 ball, 541.3ms\n",
      "Speed: 7.4ms preprocess, 541.3ms inference, 1.3ms postprocess per image at shape (1, 3, 640, 1088)\n"
     ]
    },
    {
     "name": "stderr",
     "output_type": "stream",
     "text": [
      "Analizando partido (Golpes: 2):  58%|█████▊    | 87/150 [04:04<02:57,  2.82s/frames]"
     ]
    },
    {
     "name": "stdout",
     "output_type": "stream",
     "text": [
      "\n",
      "0: 384x640 6 persons, 1 clock, 986.1ms\n",
      "Speed: 2.3ms preprocess, 986.1ms inference, 0.9ms postprocess per image at shape (1, 3, 384, 640)\n",
      "\n",
      "0: 640x1088 1 ball, 471.8ms\n",
      "Speed: 7.5ms preprocess, 471.8ms inference, 1.0ms postprocess per image at shape (1, 3, 640, 1088)\n"
     ]
    },
    {
     "name": "stderr",
     "output_type": "stream",
     "text": [
      "Analizando partido (Golpes: 2):  59%|█████▊    | 88/150 [04:07<02:52,  2.78s/frames]"
     ]
    },
    {
     "name": "stdout",
     "output_type": "stream",
     "text": [
      "\n",
      "0: 384x640 6 persons, 1 tennis racket, 1 clock, 1024.4ms\n",
      "Speed: 1.9ms preprocess, 1024.4ms inference, 1.3ms postprocess per image at shape (1, 3, 384, 640)\n",
      "\n",
      "0: 640x1088 (no detections), 468.0ms\n",
      "Speed: 7.0ms preprocess, 468.0ms inference, 0.6ms postprocess per image at shape (1, 3, 640, 1088)\n"
     ]
    },
    {
     "name": "stderr",
     "output_type": "stream",
     "text": [
      "Analizando partido (Golpes: 2):  59%|█████▉    | 89/150 [04:09<02:48,  2.77s/frames]"
     ]
    },
    {
     "name": "stdout",
     "output_type": "stream",
     "text": [
      "\n",
      "0: 384x640 6 persons, 1 car, 990.1ms\n",
      "Speed: 2.2ms preprocess, 990.1ms inference, 1.0ms postprocess per image at shape (1, 3, 384, 640)\n",
      "\n",
      "0: 640x1088 (no detections), 496.3ms\n",
      "Speed: 7.3ms preprocess, 496.3ms inference, 0.6ms postprocess per image at shape (1, 3, 640, 1088)\n"
     ]
    },
    {
     "name": "stderr",
     "output_type": "stream",
     "text": [
      "Analizando partido (Golpes: 2):  60%|██████    | 90/150 [04:12<02:48,  2.81s/frames]"
     ]
    },
    {
     "name": "stdout",
     "output_type": "stream",
     "text": [
      "\n",
      "0: 384x640 6 persons, 1024.5ms\n",
      "Speed: 3.1ms preprocess, 1024.5ms inference, 1.0ms postprocess per image at shape (1, 3, 384, 640)\n",
      "\n",
      "0: 640x1088 (no detections), 458.1ms\n",
      "Speed: 6.9ms preprocess, 458.1ms inference, 0.6ms postprocess per image at shape (1, 3, 640, 1088)\n"
     ]
    },
    {
     "name": "stderr",
     "output_type": "stream",
     "text": [
      "Analizando partido (Golpes: 2):  61%|██████    | 91/150 [04:15<02:44,  2.78s/frames]"
     ]
    },
    {
     "name": "stdout",
     "output_type": "stream",
     "text": [
      "\n",
      "0: 384x640 6 persons, 1 clock, 977.9ms\n",
      "Speed: 2.4ms preprocess, 977.9ms inference, 1.1ms postprocess per image at shape (1, 3, 384, 640)\n",
      "\n",
      "0: 640x1088 (no detections), 457.6ms\n",
      "Speed: 7.8ms preprocess, 457.6ms inference, 0.6ms postprocess per image at shape (1, 3, 640, 1088)\n"
     ]
    },
    {
     "name": "stderr",
     "output_type": "stream",
     "text": [
      "Analizando partido (Golpes: 2):  61%|██████▏   | 92/150 [04:18<02:41,  2.78s/frames]"
     ]
    },
    {
     "name": "stdout",
     "output_type": "stream",
     "text": [
      "\n",
      "0: 384x640 6 persons, 1 tennis racket, 989.4ms\n",
      "Speed: 2.5ms preprocess, 989.4ms inference, 1.2ms postprocess per image at shape (1, 3, 384, 640)\n",
      "\n",
      "0: 640x1088 (no detections), 499.2ms\n",
      "Speed: 6.7ms preprocess, 499.2ms inference, 0.7ms postprocess per image at shape (1, 3, 640, 1088)\n"
     ]
    },
    {
     "name": "stderr",
     "output_type": "stream",
     "text": [
      "Analizando partido (Golpes: 2):  62%|██████▏   | 93/150 [04:21<02:37,  2.77s/frames]"
     ]
    },
    {
     "name": "stdout",
     "output_type": "stream",
     "text": [
      "\n",
      "0: 384x640 6 persons, 1 tennis racket, 1005.0ms\n",
      "Speed: 2.2ms preprocess, 1005.0ms inference, 0.9ms postprocess per image at shape (1, 3, 384, 640)\n",
      "\n",
      "0: 640x1088 (no detections), 507.9ms\n",
      "Speed: 6.7ms preprocess, 507.9ms inference, 0.6ms postprocess per image at shape (1, 3, 640, 1088)\n"
     ]
    },
    {
     "name": "stderr",
     "output_type": "stream",
     "text": [
      "Analizando partido (Golpes: 2):  63%|██████▎   | 94/150 [04:23<02:37,  2.81s/frames]"
     ]
    },
    {
     "name": "stdout",
     "output_type": "stream",
     "text": [
      "\n",
      "0: 384x640 6 persons, 973.4ms\n",
      "Speed: 2.2ms preprocess, 973.4ms inference, 1.0ms postprocess per image at shape (1, 3, 384, 640)\n",
      "\n",
      "0: 640x1088 1 ball, 492.3ms\n",
      "Speed: 6.7ms preprocess, 492.3ms inference, 1.0ms postprocess per image at shape (1, 3, 640, 1088)\n"
     ]
    },
    {
     "name": "stderr",
     "output_type": "stream",
     "text": [
      "Analizando partido (Golpes: 2):  63%|██████▎   | 95/150 [04:26<02:33,  2.79s/frames]"
     ]
    },
    {
     "name": "stdout",
     "output_type": "stream",
     "text": [
      "\n",
      "0: 384x640 6 persons, 1 tennis racket, 1006.0ms\n",
      "Speed: 2.2ms preprocess, 1006.0ms inference, 1.6ms postprocess per image at shape (1, 3, 384, 640)\n",
      "\n",
      "0: 640x1088 (no detections), 474.2ms\n",
      "Speed: 7.2ms preprocess, 474.2ms inference, 0.6ms postprocess per image at shape (1, 3, 640, 1088)\n"
     ]
    },
    {
     "name": "stderr",
     "output_type": "stream",
     "text": [
      "Analizando partido (Golpes: 2):  64%|██████▍   | 96/150 [04:29<02:30,  2.78s/frames]"
     ]
    },
    {
     "name": "stdout",
     "output_type": "stream",
     "text": [
      "\n",
      "0: 384x640 5 persons, 1075.6ms\n",
      "Speed: 2.1ms preprocess, 1075.6ms inference, 2.3ms postprocess per image at shape (1, 3, 384, 640)\n",
      "\n",
      "0: 640x1088 (no detections), 456.3ms\n",
      "Speed: 7.6ms preprocess, 456.3ms inference, 0.9ms postprocess per image at shape (1, 3, 640, 1088)\n"
     ]
    },
    {
     "name": "stderr",
     "output_type": "stream",
     "text": [
      "Analizando partido (Golpes: 2):  65%|██████▍   | 97/150 [04:32<02:30,  2.84s/frames]"
     ]
    },
    {
     "name": "stdout",
     "output_type": "stream",
     "text": [
      "\n",
      "0: 384x640 5 persons, 1050.9ms\n",
      "Speed: 1.9ms preprocess, 1050.9ms inference, 1.0ms postprocess per image at shape (1, 3, 384, 640)\n",
      "\n",
      "0: 640x1088 (no detections), 492.8ms\n",
      "Speed: 7.9ms preprocess, 492.8ms inference, 0.7ms postprocess per image at shape (1, 3, 640, 1088)\n"
     ]
    },
    {
     "name": "stderr",
     "output_type": "stream",
     "text": [
      "Analizando partido (Golpes: 2):  65%|██████▌   | 98/150 [04:35<02:27,  2.83s/frames]"
     ]
    },
    {
     "name": "stdout",
     "output_type": "stream",
     "text": [
      "\n",
      "0: 384x640 5 persons, 968.4ms\n",
      "Speed: 1.8ms preprocess, 968.4ms inference, 0.9ms postprocess per image at shape (1, 3, 384, 640)\n",
      "\n",
      "0: 640x1088 (no detections), 451.1ms\n",
      "Speed: 6.9ms preprocess, 451.1ms inference, 0.6ms postprocess per image at shape (1, 3, 640, 1088)\n"
     ]
    },
    {
     "name": "stderr",
     "output_type": "stream",
     "text": [
      "Analizando partido (Golpes: 2):  66%|██████▌   | 99/150 [04:37<02:21,  2.77s/frames]"
     ]
    },
    {
     "name": "stdout",
     "output_type": "stream",
     "text": [
      "\n",
      "0: 384x640 6 persons, 1 tennis racket, 1078.5ms\n",
      "Speed: 2.9ms preprocess, 1078.5ms inference, 1.2ms postprocess per image at shape (1, 3, 384, 640)\n",
      "\n",
      "0: 640x1088 (no detections), 491.5ms\n",
      "Speed: 6.2ms preprocess, 491.5ms inference, 0.6ms postprocess per image at shape (1, 3, 640, 1088)\n"
     ]
    },
    {
     "name": "stderr",
     "output_type": "stream",
     "text": [
      "Analizando partido (Golpes: 2):  67%|██████▋   | 100/150 [04:40<02:19,  2.78s/frames]"
     ]
    },
    {
     "name": "stdout",
     "output_type": "stream",
     "text": [
      "\n",
      "0: 384x640 5 persons, 973.4ms\n",
      "Speed: 2.2ms preprocess, 973.4ms inference, 1.1ms postprocess per image at shape (1, 3, 384, 640)\n",
      "\n",
      "0: 640x1088 2 balls, 472.4ms\n",
      "Speed: 7.0ms preprocess, 472.4ms inference, 1.0ms postprocess per image at shape (1, 3, 640, 1088)\n"
     ]
    },
    {
     "name": "stderr",
     "output_type": "stream",
     "text": [
      "Analizando partido (Golpes: 2):  67%|██████▋   | 101/150 [04:43<02:17,  2.81s/frames]"
     ]
    },
    {
     "name": "stdout",
     "output_type": "stream",
     "text": [
      "\n",
      "0: 384x640 5 persons, 944.4ms\n",
      "Speed: 1.8ms preprocess, 944.4ms inference, 1.0ms postprocess per image at shape (1, 3, 384, 640)\n",
      "\n",
      "0: 640x1088 1 ball, 473.5ms\n",
      "Speed: 6.3ms preprocess, 473.5ms inference, 1.0ms postprocess per image at shape (1, 3, 640, 1088)\n"
     ]
    },
    {
     "name": "stderr",
     "output_type": "stream",
     "text": [
      "Analizando partido (Golpes: 2):  68%|██████▊   | 102/150 [04:46<02:14,  2.80s/frames]"
     ]
    },
    {
     "name": "stdout",
     "output_type": "stream",
     "text": [
      "\n",
      "0: 384x640 5 persons, 2 tennis rackets, 1011.2ms\n",
      "Speed: 2.1ms preprocess, 1011.2ms inference, 1.4ms postprocess per image at shape (1, 3, 384, 640)\n",
      "\n",
      "0: 640x1088 (no detections), 449.7ms\n",
      "Speed: 7.1ms preprocess, 449.7ms inference, 0.6ms postprocess per image at shape (1, 3, 640, 1088)\n"
     ]
    },
    {
     "name": "stderr",
     "output_type": "stream",
     "text": [
      "Analizando partido (Golpes: 2):  69%|██████▊   | 103/150 [04:49<02:10,  2.77s/frames]"
     ]
    },
    {
     "name": "stdout",
     "output_type": "stream",
     "text": [
      "\n",
      "0: 384x640 5 persons, 1 tennis racket, 1010.8ms\n",
      "Speed: 1.8ms preprocess, 1010.8ms inference, 1.3ms postprocess per image at shape (1, 3, 384, 640)\n",
      "\n",
      "0: 640x1088 (no detections), 475.3ms\n",
      "Speed: 6.8ms preprocess, 475.3ms inference, 0.6ms postprocess per image at shape (1, 3, 640, 1088)\n"
     ]
    },
    {
     "name": "stderr",
     "output_type": "stream",
     "text": [
      "Analizando partido (Golpes: 2):  69%|██████▉   | 104/150 [04:51<02:09,  2.81s/frames]"
     ]
    },
    {
     "name": "stdout",
     "output_type": "stream",
     "text": [
      "\n",
      "0: 384x640 5 persons, 2 tennis rackets, 976.7ms\n",
      "Speed: 3.0ms preprocess, 976.7ms inference, 1.1ms postprocess per image at shape (1, 3, 384, 640)\n",
      "\n",
      "0: 640x1088 (no detections), 516.6ms\n",
      "Speed: 6.5ms preprocess, 516.6ms inference, 0.8ms postprocess per image at shape (1, 3, 640, 1088)\n"
     ]
    },
    {
     "name": "stderr",
     "output_type": "stream",
     "text": [
      "Analizando partido (Golpes: 2):  70%|███████   | 105/150 [04:54<02:05,  2.79s/frames]"
     ]
    },
    {
     "name": "stdout",
     "output_type": "stream",
     "text": [
      "\n",
      "0: 384x640 5 persons, 2 tennis rackets, 1 clock, 1021.3ms\n",
      "Speed: 2.1ms preprocess, 1021.3ms inference, 1.1ms postprocess per image at shape (1, 3, 384, 640)\n",
      "\n",
      "0: 640x1088 (no detections), 475.0ms\n",
      "Speed: 6.9ms preprocess, 475.0ms inference, 0.6ms postprocess per image at shape (1, 3, 640, 1088)\n"
     ]
    },
    {
     "name": "stderr",
     "output_type": "stream",
     "text": [
      "Analizando partido (Golpes: 2):  71%|███████   | 106/150 [04:57<02:02,  2.77s/frames]"
     ]
    },
    {
     "name": "stdout",
     "output_type": "stream",
     "text": [
      "\n",
      "0: 384x640 5 persons, 2 tennis rackets, 1 clock, 1136.5ms\n",
      "Speed: 2.0ms preprocess, 1136.5ms inference, 1.5ms postprocess per image at shape (1, 3, 384, 640)\n",
      "\n",
      "0: 640x1088 (no detections), 461.7ms\n",
      "Speed: 6.2ms preprocess, 461.7ms inference, 0.7ms postprocess per image at shape (1, 3, 640, 1088)\n"
     ]
    },
    {
     "name": "stderr",
     "output_type": "stream",
     "text": [
      "Analizando partido (Golpes: 2):  71%|███████▏  | 107/150 [05:00<02:01,  2.82s/frames]"
     ]
    },
    {
     "name": "stdout",
     "output_type": "stream",
     "text": [
      "\n",
      "0: 384x640 5 persons, 1 tennis racket, 1 clock, 1038.1ms\n",
      "Speed: 2.1ms preprocess, 1038.1ms inference, 1.1ms postprocess per image at shape (1, 3, 384, 640)\n",
      "\n",
      "0: 640x1088 (no detections), 467.6ms\n",
      "Speed: 6.3ms preprocess, 467.6ms inference, 0.6ms postprocess per image at shape (1, 3, 640, 1088)\n"
     ]
    },
    {
     "name": "stderr",
     "output_type": "stream",
     "text": [
      "Analizando partido (Golpes: 2):  72%|███████▏  | 108/150 [05:03<01:59,  2.85s/frames]"
     ]
    },
    {
     "name": "stdout",
     "output_type": "stream",
     "text": [
      "\n",
      "0: 384x640 5 persons, 2 tennis rackets, 1 clock, 1032.9ms\n",
      "Speed: 1.9ms preprocess, 1032.9ms inference, 1.1ms postprocess per image at shape (1, 3, 384, 640)\n",
      "\n",
      "0: 640x1088 (no detections), 466.1ms\n",
      "Speed: 6.2ms preprocess, 466.1ms inference, 0.6ms postprocess per image at shape (1, 3, 640, 1088)\n"
     ]
    },
    {
     "name": "stderr",
     "output_type": "stream",
     "text": [
      "Analizando partido (Golpes: 2):  73%|███████▎  | 109/150 [05:05<01:55,  2.81s/frames]"
     ]
    },
    {
     "name": "stdout",
     "output_type": "stream",
     "text": [
      "\n",
      "0: 384x640 5 persons, 3 tennis rackets, 1 clock, 1010.0ms\n",
      "Speed: 2.9ms preprocess, 1010.0ms inference, 0.9ms postprocess per image at shape (1, 3, 384, 640)\n",
      "\n",
      "0: 640x1088 (no detections), 464.7ms\n",
      "Speed: 8.4ms preprocess, 464.7ms inference, 0.9ms postprocess per image at shape (1, 3, 640, 1088)\n"
     ]
    },
    {
     "name": "stderr",
     "output_type": "stream",
     "text": [
      "Analizando partido (Golpes: 2):  73%|███████▎  | 110/150 [05:08<01:51,  2.78s/frames]"
     ]
    },
    {
     "name": "stdout",
     "output_type": "stream",
     "text": [
      "\n",
      "0: 384x640 5 persons, 1 tennis racket, 1196.1ms\n",
      "Speed: 2.0ms preprocess, 1196.1ms inference, 1.3ms postprocess per image at shape (1, 3, 384, 640)\n",
      "\n",
      "0: 640x1088 (no detections), 444.2ms\n",
      "Speed: 6.7ms preprocess, 444.2ms inference, 0.6ms postprocess per image at shape (1, 3, 640, 1088)\n"
     ]
    },
    {
     "name": "stderr",
     "output_type": "stream",
     "text": [
      "Analizando partido (Golpes: 2):  74%|███████▍  | 111/150 [05:11<01:51,  2.86s/frames]"
     ]
    },
    {
     "name": "stdout",
     "output_type": "stream",
     "text": [
      "\n",
      "0: 384x640 5 persons, 1 tennis racket, 1 clock, 1009.2ms\n",
      "Speed: 2.3ms preprocess, 1009.2ms inference, 0.9ms postprocess per image at shape (1, 3, 384, 640)\n",
      "\n",
      "0: 640x1088 1 ball, 472.5ms\n",
      "Speed: 7.6ms preprocess, 472.5ms inference, 1.0ms postprocess per image at shape (1, 3, 640, 1088)\n"
     ]
    },
    {
     "name": "stderr",
     "output_type": "stream",
     "text": [
      "Analizando partido (Golpes: 2):  75%|███████▍  | 112/150 [05:14<01:47,  2.82s/frames]"
     ]
    },
    {
     "name": "stdout",
     "output_type": "stream",
     "text": [
      "\n",
      "0: 384x640 5 persons, 1 tennis racket, 1 clock, 996.3ms\n",
      "Speed: 1.9ms preprocess, 996.3ms inference, 1.0ms postprocess per image at shape (1, 3, 384, 640)\n",
      "\n",
      "0: 640x1088 1 ball, 461.5ms\n",
      "Speed: 7.1ms preprocess, 461.5ms inference, 1.2ms postprocess per image at shape (1, 3, 640, 1088)\n"
     ]
    },
    {
     "name": "stderr",
     "output_type": "stream",
     "text": [
      "Analizando partido (Golpes: 2):  75%|███████▌  | 113/150 [05:17<01:43,  2.79s/frames]"
     ]
    },
    {
     "name": "stdout",
     "output_type": "stream",
     "text": [
      "\n",
      "0: 384x640 5 persons, 2 tennis rackets, 974.2ms\n",
      "Speed: 1.8ms preprocess, 974.2ms inference, 1.0ms postprocess per image at shape (1, 3, 384, 640)\n",
      "\n",
      "0: 640x1088 (no detections), 475.6ms\n",
      "Speed: 6.8ms preprocess, 475.6ms inference, 0.6ms postprocess per image at shape (1, 3, 640, 1088)\n"
     ]
    },
    {
     "name": "stderr",
     "output_type": "stream",
     "text": [
      "Analizando partido (Golpes: 2):  76%|███████▌  | 114/150 [05:19<01:39,  2.76s/frames]"
     ]
    },
    {
     "name": "stdout",
     "output_type": "stream",
     "text": [
      "\n",
      "0: 384x640 5 persons, 2 tennis rackets, 990.7ms\n",
      "Speed: 2.2ms preprocess, 990.7ms inference, 0.9ms postprocess per image at shape (1, 3, 384, 640)\n",
      "\n",
      "0: 640x1088 1 ball, 489.6ms\n",
      "Speed: 6.6ms preprocess, 489.6ms inference, 1.0ms postprocess per image at shape (1, 3, 640, 1088)\n"
     ]
    },
    {
     "name": "stderr",
     "output_type": "stream",
     "text": [
      "Analizando partido (Golpes: 2):  77%|███████▋  | 115/150 [05:22<01:37,  2.79s/frames]"
     ]
    },
    {
     "name": "stdout",
     "output_type": "stream",
     "text": [
      "\n",
      "0: 384x640 5 persons, 2 tennis rackets, 1003.3ms\n",
      "Speed: 2.8ms preprocess, 1003.3ms inference, 0.9ms postprocess per image at shape (1, 3, 384, 640)\n",
      "\n",
      "0: 640x1088 1 ball, 489.6ms\n",
      "Speed: 8.0ms preprocess, 489.6ms inference, 1.0ms postprocess per image at shape (1, 3, 640, 1088)\n"
     ]
    },
    {
     "name": "stderr",
     "output_type": "stream",
     "text": [
      "Analizando partido (Golpes: 2):  77%|███████▋  | 116/150 [05:25<01:35,  2.81s/frames]"
     ]
    },
    {
     "name": "stdout",
     "output_type": "stream",
     "text": [
      "\n",
      "0: 384x640 5 persons, 2 tennis rackets, 1012.6ms\n",
      "Speed: 2.3ms preprocess, 1012.6ms inference, 1.2ms postprocess per image at shape (1, 3, 384, 640)\n",
      "\n",
      "0: 640x1088 1 ball, 487.8ms\n",
      "Speed: 6.8ms preprocess, 487.8ms inference, 1.1ms postprocess per image at shape (1, 3, 640, 1088)\n"
     ]
    },
    {
     "name": "stderr",
     "output_type": "stream",
     "text": [
      "Analizando partido (Golpes: 2):  78%|███████▊  | 117/150 [05:28<01:33,  2.83s/frames]"
     ]
    },
    {
     "name": "stdout",
     "output_type": "stream",
     "text": [
      "\n",
      "0: 384x640 5 persons, 2 tennis rackets, 1091.7ms\n",
      "Speed: 1.8ms preprocess, 1091.7ms inference, 1.2ms postprocess per image at shape (1, 3, 384, 640)\n",
      "\n",
      "0: 640x1088 1 ball, 467.2ms\n",
      "Speed: 6.7ms preprocess, 467.2ms inference, 0.9ms postprocess per image at shape (1, 3, 640, 1088)\n"
     ]
    },
    {
     "name": "stderr",
     "output_type": "stream",
     "text": [
      "Analizando partido (Golpes: 2):  79%|███████▊  | 118/150 [05:31<01:31,  2.87s/frames]"
     ]
    },
    {
     "name": "stdout",
     "output_type": "stream",
     "text": [
      "\n",
      "0: 384x640 5 persons, 1 sports ball, 2 tennis rackets, 947.1ms\n",
      "Speed: 1.9ms preprocess, 947.1ms inference, 0.9ms postprocess per image at shape (1, 3, 384, 640)\n",
      "\n",
      "0: 640x1088 (no detections), 507.8ms\n",
      "Speed: 6.5ms preprocess, 507.8ms inference, 0.7ms postprocess per image at shape (1, 3, 640, 1088)\n"
     ]
    },
    {
     "name": "stderr",
     "output_type": "stream",
     "text": [
      "Analizando partido (Golpes: 2):  79%|███████▉  | 119/150 [05:34<01:27,  2.82s/frames]"
     ]
    },
    {
     "name": "stdout",
     "output_type": "stream",
     "text": [
      "\n",
      "0: 384x640 5 persons, 1 sports ball, 2 tennis rackets, 999.2ms\n",
      "Speed: 2.1ms preprocess, 999.2ms inference, 0.9ms postprocess per image at shape (1, 3, 384, 640)\n",
      "\n",
      "0: 640x1088 (no detections), 473.7ms\n",
      "Speed: 6.9ms preprocess, 473.7ms inference, 0.7ms postprocess per image at shape (1, 3, 640, 1088)\n"
     ]
    },
    {
     "name": "stderr",
     "output_type": "stream",
     "text": [
      "Analizando partido (Golpes: 2):  80%|████████  | 120/150 [05:36<01:23,  2.78s/frames]"
     ]
    },
    {
     "name": "stdout",
     "output_type": "stream",
     "text": [
      "\n",
      "0: 384x640 5 persons, 1 sports ball, 1023.5ms\n",
      "Speed: 1.9ms preprocess, 1023.5ms inference, 1.0ms postprocess per image at shape (1, 3, 384, 640)\n",
      "\n",
      "0: 640x1088 1 ball, 478.5ms\n",
      "Speed: 7.8ms preprocess, 478.5ms inference, 1.4ms postprocess per image at shape (1, 3, 640, 1088)\n"
     ]
    },
    {
     "name": "stderr",
     "output_type": "stream",
     "text": [
      "Analizando partido (Golpes: 2):  81%|████████  | 121/150 [05:39<01:21,  2.80s/frames]"
     ]
    },
    {
     "name": "stdout",
     "output_type": "stream",
     "text": [
      "\n",
      "0: 384x640 5 persons, 974.2ms\n",
      "Speed: 2.1ms preprocess, 974.2ms inference, 1.0ms postprocess per image at shape (1, 3, 384, 640)\n",
      "\n",
      "0: 640x1088 1 ball, 482.9ms\n",
      "Speed: 6.5ms preprocess, 482.9ms inference, 1.0ms postprocess per image at shape (1, 3, 640, 1088)\n"
     ]
    },
    {
     "name": "stderr",
     "output_type": "stream",
     "text": [
      "Analizando partido (Golpes: 2):  81%|████████▏ | 122/150 [05:42<01:19,  2.83s/frames]"
     ]
    },
    {
     "name": "stdout",
     "output_type": "stream",
     "text": [
      "\n",
      "0: 384x640 6 persons, 1071.6ms\n",
      "Speed: 2.2ms preprocess, 1071.6ms inference, 2.4ms postprocess per image at shape (1, 3, 384, 640)\n",
      "\n",
      "0: 640x1088 1 ball, 518.4ms\n",
      "Speed: 7.2ms preprocess, 518.4ms inference, 0.9ms postprocess per image at shape (1, 3, 640, 1088)\n"
     ]
    },
    {
     "name": "stderr",
     "output_type": "stream",
     "text": [
      "Analizando partido (Golpes: 2):  82%|████████▏ | 123/150 [05:45<01:16,  2.84s/frames]"
     ]
    },
    {
     "name": "stdout",
     "output_type": "stream",
     "text": [
      "\n",
      "0: 384x640 6 persons, 1013.3ms\n",
      "Speed: 2.0ms preprocess, 1013.3ms inference, 1.0ms postprocess per image at shape (1, 3, 384, 640)\n",
      "\n",
      "0: 640x1088 1 ball, 483.7ms\n",
      "Speed: 7.6ms preprocess, 483.7ms inference, 1.0ms postprocess per image at shape (1, 3, 640, 1088)\n"
     ]
    },
    {
     "name": "stderr",
     "output_type": "stream",
     "text": [
      "Analizando partido (Golpes: 2):  83%|████████▎ | 124/150 [05:48<01:12,  2.81s/frames]"
     ]
    },
    {
     "name": "stdout",
     "output_type": "stream",
     "text": [
      "\n",
      "0: 384x640 5 persons, 1 tennis racket, 973.0ms\n",
      "Speed: 2.6ms preprocess, 973.0ms inference, 0.9ms postprocess per image at shape (1, 3, 384, 640)\n",
      "\n",
      "0: 640x1088 1 ball, 474.1ms\n",
      "Speed: 6.9ms preprocess, 474.1ms inference, 1.0ms postprocess per image at shape (1, 3, 640, 1088)\n"
     ]
    },
    {
     "name": "stderr",
     "output_type": "stream",
     "text": [
      "Analizando partido (Golpes: 2):  83%|████████▎ | 125/150 [05:51<01:10,  2.83s/frames]"
     ]
    },
    {
     "name": "stdout",
     "output_type": "stream",
     "text": [
      "\n",
      "0: 384x640 5 persons, 1 tennis racket, 1133.1ms\n",
      "Speed: 2.2ms preprocess, 1133.1ms inference, 1.0ms postprocess per image at shape (1, 3, 384, 640)\n",
      "\n",
      "0: 640x1088 1 ball, 492.1ms\n",
      "Speed: 7.4ms preprocess, 492.1ms inference, 1.0ms postprocess per image at shape (1, 3, 640, 1088)\n"
     ]
    },
    {
     "name": "stderr",
     "output_type": "stream",
     "text": [
      "Analizando partido (Golpes: 2):  84%|████████▍ | 126/150 [05:53<01:08,  2.86s/frames]"
     ]
    },
    {
     "name": "stdout",
     "output_type": "stream",
     "text": [
      "\n",
      "0: 384x640 5 persons, 1 sports ball, 994.6ms\n",
      "Speed: 2.1ms preprocess, 994.6ms inference, 1.1ms postprocess per image at shape (1, 3, 384, 640)\n",
      "\n",
      "0: 640x1088 1 ball, 476.6ms\n",
      "Speed: 7.9ms preprocess, 476.6ms inference, 1.1ms postprocess per image at shape (1, 3, 640, 1088)\n"
     ]
    },
    {
     "name": "stderr",
     "output_type": "stream",
     "text": [
      "Analizando partido (Golpes: 2):  85%|████████▍ | 127/150 [05:56<01:05,  2.83s/frames]"
     ]
    },
    {
     "name": "stdout",
     "output_type": "stream",
     "text": [
      "\n",
      "0: 384x640 5 persons, 1 tennis racket, 1002.6ms\n",
      "Speed: 1.9ms preprocess, 1002.6ms inference, 1.0ms postprocess per image at shape (1, 3, 384, 640)\n",
      "\n",
      "0: 640x1088 1 ball, 481.3ms\n",
      "Speed: 6.7ms preprocess, 481.3ms inference, 1.1ms postprocess per image at shape (1, 3, 640, 1088)\n"
     ]
    },
    {
     "name": "stderr",
     "output_type": "stream",
     "text": [
      "Analizando partido (Golpes: 2):  85%|████████▌ | 128/150 [05:59<01:01,  2.79s/frames]"
     ]
    },
    {
     "name": "stdout",
     "output_type": "stream",
     "text": [
      "\n",
      "0: 384x640 5 persons, 1 sports ball, 1 tennis racket, 996.1ms\n",
      "Speed: 2.4ms preprocess, 996.1ms inference, 0.9ms postprocess per image at shape (1, 3, 384, 640)\n",
      "\n",
      "0: 640x1088 1 ball, 468.6ms\n",
      "Speed: 7.6ms preprocess, 468.6ms inference, 1.0ms postprocess per image at shape (1, 3, 640, 1088)\n"
     ]
    },
    {
     "name": "stderr",
     "output_type": "stream",
     "text": [
      "Analizando partido (Golpes: 2):  86%|████████▌ | 129/150 [06:02<00:59,  2.82s/frames]"
     ]
    },
    {
     "name": "stdout",
     "output_type": "stream",
     "text": [
      "\n",
      "0: 384x640 5 persons, 1 sports ball, 2 tennis rackets, 1025.1ms\n",
      "Speed: 2.1ms preprocess, 1025.1ms inference, 1.0ms postprocess per image at shape (1, 3, 384, 640)\n",
      "\n",
      "0: 640x1088 1 ball, 484.8ms\n",
      "Speed: 6.9ms preprocess, 484.8ms inference, 1.0ms postprocess per image at shape (1, 3, 640, 1088)\n"
     ]
    },
    {
     "name": "stderr",
     "output_type": "stream",
     "text": [
      "Analizando partido (Golpes: 2):  87%|████████▋ | 130/150 [06:05<00:56,  2.83s/frames]"
     ]
    },
    {
     "name": "stdout",
     "output_type": "stream",
     "text": [
      "\n",
      "0: 384x640 5 persons, 1 sports ball, 2 tennis rackets, 1022.1ms\n",
      "Speed: 2.1ms preprocess, 1022.1ms inference, 0.9ms postprocess per image at shape (1, 3, 384, 640)\n",
      "\n",
      "0: 640x1088 1 ball, 470.3ms\n",
      "Speed: 7.7ms preprocess, 470.3ms inference, 1.0ms postprocess per image at shape (1, 3, 640, 1088)\n"
     ]
    },
    {
     "name": "stderr",
     "output_type": "stream",
     "text": [
      "Analizando partido (Golpes: 2):  87%|████████▋ | 131/150 [06:07<00:53,  2.81s/frames]"
     ]
    },
    {
     "name": "stdout",
     "output_type": "stream",
     "text": [
      "\n",
      "0: 384x640 5 persons, 1 car, 1 tennis racket, 954.7ms\n",
      "Speed: 2.3ms preprocess, 954.7ms inference, 1.1ms postprocess per image at shape (1, 3, 384, 640)\n",
      "\n",
      "0: 640x1088 1 ball, 499.5ms\n",
      "Speed: 7.0ms preprocess, 499.5ms inference, 1.0ms postprocess per image at shape (1, 3, 640, 1088)\n"
     ]
    },
    {
     "name": "stderr",
     "output_type": "stream",
     "text": [
      "Analizando partido (Golpes: 2):  88%|████████▊ | 132/150 [06:10<00:51,  2.83s/frames]"
     ]
    },
    {
     "name": "stdout",
     "output_type": "stream",
     "text": [
      "\n",
      "0: 384x640 5 persons, 1 tennis racket, 968.7ms\n",
      "Speed: 2.3ms preprocess, 968.7ms inference, 0.9ms postprocess per image at shape (1, 3, 384, 640)\n",
      "\n",
      "0: 640x1088 (no detections), 484.6ms\n",
      "Speed: 7.9ms preprocess, 484.6ms inference, 0.7ms postprocess per image at shape (1, 3, 640, 1088)\n"
     ]
    },
    {
     "name": "stderr",
     "output_type": "stream",
     "text": [
      "Analizando partido (Golpes: 2):  89%|████████▊ | 133/150 [06:13<00:47,  2.80s/frames]"
     ]
    },
    {
     "name": "stdout",
     "output_type": "stream",
     "text": [
      "\n",
      "0: 384x640 4 persons, 1 tennis racket, 994.9ms\n",
      "Speed: 2.2ms preprocess, 994.9ms inference, 0.9ms postprocess per image at shape (1, 3, 384, 640)\n",
      "\n",
      "0: 640x1088 1 ball, 478.0ms\n",
      "Speed: 7.4ms preprocess, 478.0ms inference, 0.9ms postprocess per image at shape (1, 3, 640, 1088)\n"
     ]
    },
    {
     "name": "stderr",
     "output_type": "stream",
     "text": [
      "Analizando partido (Golpes: 2):  89%|████████▉ | 134/150 [06:16<00:44,  2.77s/frames]"
     ]
    },
    {
     "name": "stdout",
     "output_type": "stream",
     "text": [
      "\n",
      "0: 384x640 5 persons, 1 car, 1 tennis racket, 1045.5ms\n",
      "Speed: 2.3ms preprocess, 1045.5ms inference, 1.4ms postprocess per image at shape (1, 3, 384, 640)\n",
      "\n",
      "0: 640x1088 (no detections), 496.6ms\n",
      "Speed: 6.3ms preprocess, 496.6ms inference, 0.8ms postprocess per image at shape (1, 3, 640, 1088)\n"
     ]
    },
    {
     "name": "stderr",
     "output_type": "stream",
     "text": [
      "Analizando partido (Golpes: 2):  90%|█████████ | 135/150 [06:19<00:41,  2.78s/frames]"
     ]
    },
    {
     "name": "stdout",
     "output_type": "stream",
     "text": [
      "\n",
      "0: 384x640 5 persons, 1 tennis racket, 996.9ms\n",
      "Speed: 1.8ms preprocess, 996.9ms inference, 0.9ms postprocess per image at shape (1, 3, 384, 640)\n",
      "\n",
      "0: 640x1088 (no detections), 564.5ms\n",
      "Speed: 6.5ms preprocess, 564.5ms inference, 0.6ms postprocess per image at shape (1, 3, 640, 1088)\n"
     ]
    },
    {
     "name": "stderr",
     "output_type": "stream",
     "text": [
      "Analizando partido (Golpes: 2):  91%|█████████ | 136/150 [06:22<00:39,  2.83s/frames]"
     ]
    },
    {
     "name": "stdout",
     "output_type": "stream",
     "text": [
      "\n",
      "0: 384x640 4 persons, 1 car, 2 tennis rackets, 1157.8ms\n",
      "Speed: 2.4ms preprocess, 1157.8ms inference, 1.2ms postprocess per image at shape (1, 3, 384, 640)\n",
      "\n",
      "0: 640x1088 (no detections), 491.8ms\n",
      "Speed: 7.7ms preprocess, 491.8ms inference, 0.6ms postprocess per image at shape (1, 3, 640, 1088)\n"
     ]
    },
    {
     "name": "stderr",
     "output_type": "stream",
     "text": [
      "Analizando partido (Golpes: 2):  91%|█████████▏| 137/150 [06:24<00:37,  2.86s/frames]"
     ]
    },
    {
     "name": "stdout",
     "output_type": "stream",
     "text": [
      "\n",
      "0: 384x640 5 persons, 1 tennis racket, 992.5ms\n",
      "Speed: 2.3ms preprocess, 992.5ms inference, 0.9ms postprocess per image at shape (1, 3, 384, 640)\n",
      "\n",
      "0: 640x1088 1 ball, 488.3ms\n",
      "Speed: 7.8ms preprocess, 488.3ms inference, 0.9ms postprocess per image at shape (1, 3, 640, 1088)\n"
     ]
    },
    {
     "name": "stderr",
     "output_type": "stream",
     "text": [
      "Analizando partido (Golpes: 2):  92%|█████████▏| 138/150 [06:27<00:34,  2.84s/frames]"
     ]
    },
    {
     "name": "stdout",
     "output_type": "stream",
     "text": [
      "\n",
      "0: 384x640 5 persons, 1 tennis racket, 1022.5ms\n",
      "Speed: 2.1ms preprocess, 1022.5ms inference, 1.0ms postprocess per image at shape (1, 3, 384, 640)\n",
      "\n",
      "0: 640x1088 1 ball, 471.3ms\n",
      "Speed: 6.7ms preprocess, 471.3ms inference, 1.1ms postprocess per image at shape (1, 3, 640, 1088)\n"
     ]
    },
    {
     "name": "stderr",
     "output_type": "stream",
     "text": [
      "Analizando partido (Golpes: 2):  93%|█████████▎| 139/150 [06:30<00:31,  2.87s/frames]"
     ]
    },
    {
     "name": "stdout",
     "output_type": "stream",
     "text": [
      "\n",
      "0: 384x640 5 persons, 1 tennis racket, 1009.0ms\n",
      "Speed: 2.0ms preprocess, 1009.0ms inference, 1.0ms postprocess per image at shape (1, 3, 384, 640)\n",
      "\n",
      "0: 640x1088 1 ball, 496.9ms\n",
      "Speed: 6.9ms preprocess, 496.9ms inference, 1.1ms postprocess per image at shape (1, 3, 640, 1088)\n"
     ]
    },
    {
     "name": "stderr",
     "output_type": "stream",
     "text": [
      "Analizando partido (Golpes: 2):  93%|█████████▎| 140/150 [06:33<00:28,  2.83s/frames]"
     ]
    },
    {
     "name": "stdout",
     "output_type": "stream",
     "text": [
      "\n",
      "0: 384x640 5 persons, 1 tennis racket, 1015.4ms\n",
      "Speed: 2.0ms preprocess, 1015.4ms inference, 0.9ms postprocess per image at shape (1, 3, 384, 640)\n",
      "\n",
      "0: 640x1088 1 ball, 478.1ms\n",
      "Speed: 6.6ms preprocess, 478.1ms inference, 0.9ms postprocess per image at shape (1, 3, 640, 1088)\n"
     ]
    },
    {
     "name": "stderr",
     "output_type": "stream",
     "text": [
      "Analizando partido (Golpes: 2):  94%|█████████▍| 141/150 [06:36<00:25,  2.80s/frames]"
     ]
    },
    {
     "name": "stdout",
     "output_type": "stream",
     "text": [
      "\n",
      "0: 384x640 5 persons, 2 tennis rackets, 1138.1ms\n",
      "Speed: 1.9ms preprocess, 1138.1ms inference, 1.0ms postprocess per image at shape (1, 3, 384, 640)\n",
      "\n",
      "0: 640x1088 1 ball, 470.7ms\n",
      "Speed: 7.4ms preprocess, 470.7ms inference, 1.1ms postprocess per image at shape (1, 3, 640, 1088)\n"
     ]
    },
    {
     "name": "stderr",
     "output_type": "stream",
     "text": [
      "Analizando partido (Golpes: 2):  95%|█████████▍| 142/150 [06:39<00:22,  2.82s/frames]"
     ]
    },
    {
     "name": "stdout",
     "output_type": "stream",
     "text": [
      "\n",
      "0: 384x640 5 persons, 1 car, 1 tennis racket, 998.2ms\n",
      "Speed: 1.9ms preprocess, 998.2ms inference, 1.0ms postprocess per image at shape (1, 3, 384, 640)\n",
      "\n",
      "0: 640x1088 1 ball, 472.5ms\n",
      "Speed: 7.6ms preprocess, 472.5ms inference, 0.9ms postprocess per image at shape (1, 3, 640, 1088)\n"
     ]
    },
    {
     "name": "stderr",
     "output_type": "stream",
     "text": [
      "Analizando partido (Golpes: 2):  95%|█████████▌| 143/150 [06:41<00:19,  2.85s/frames]"
     ]
    },
    {
     "name": "stdout",
     "output_type": "stream",
     "text": [
      "\n",
      "0: 384x640 5 persons, 1 car, 2 tennis rackets, 991.6ms\n",
      "Speed: 2.7ms preprocess, 991.6ms inference, 1.2ms postprocess per image at shape (1, 3, 384, 640)\n",
      "\n",
      "0: 640x1088 (no detections), 481.6ms\n",
      "Speed: 6.5ms preprocess, 481.6ms inference, 0.6ms postprocess per image at shape (1, 3, 640, 1088)\n"
     ]
    },
    {
     "name": "stderr",
     "output_type": "stream",
     "text": [
      "Analizando partido (Golpes: 2):  96%|█████████▌| 144/150 [06:44<00:16,  2.81s/frames]"
     ]
    },
    {
     "name": "stdout",
     "output_type": "stream",
     "text": [
      "\n",
      "0: 384x640 5 persons, 1 car, 1 tennis racket, 1047.3ms\n",
      "Speed: 2.1ms preprocess, 1047.3ms inference, 1.4ms postprocess per image at shape (1, 3, 384, 640)\n",
      "\n",
      "0: 640x1088 1 ball, 472.1ms\n",
      "Speed: 7.7ms preprocess, 472.1ms inference, 1.0ms postprocess per image at shape (1, 3, 640, 1088)\n"
     ]
    },
    {
     "name": "stderr",
     "output_type": "stream",
     "text": [
      "Analizando partido (Golpes: 2):  97%|█████████▋| 145/150 [06:47<00:14,  2.80s/frames]"
     ]
    },
    {
     "name": "stdout",
     "output_type": "stream",
     "text": [
      "\n",
      "0: 384x640 5 persons, 1 car, 1 tennis racket, 988.9ms\n",
      "Speed: 1.7ms preprocess, 988.9ms inference, 1.2ms postprocess per image at shape (1, 3, 384, 640)\n",
      "\n",
      "0: 640x1088 1 ball, 468.4ms\n",
      "Speed: 7.2ms preprocess, 468.4ms inference, 0.9ms postprocess per image at shape (1, 3, 640, 1088)\n"
     ]
    },
    {
     "name": "stderr",
     "output_type": "stream",
     "text": [
      "Analizando partido (Golpes: 2):  97%|█████████▋| 146/150 [06:50<00:11,  2.82s/frames]"
     ]
    },
    {
     "name": "stdout",
     "output_type": "stream",
     "text": [
      "\n",
      "0: 384x640 6 persons, 1 car, 1 tennis racket, 993.8ms\n",
      "Speed: 1.9ms preprocess, 993.8ms inference, 1.0ms postprocess per image at shape (1, 3, 384, 640)\n",
      "\n",
      "0: 640x1088 (no detections), 488.5ms\n",
      "Speed: 7.3ms preprocess, 488.5ms inference, 0.6ms postprocess per image at shape (1, 3, 640, 1088)\n"
     ]
    },
    {
     "name": "stderr",
     "output_type": "stream",
     "text": [
      "Analizando partido (Golpes: 2):  98%|█████████▊| 147/150 [06:53<00:08,  2.83s/frames]"
     ]
    },
    {
     "name": "stdout",
     "output_type": "stream",
     "text": [
      "\n",
      "0: 384x640 6 persons, 1 car, 1 tennis racket, 966.0ms\n",
      "Speed: 2.1ms preprocess, 966.0ms inference, 0.9ms postprocess per image at shape (1, 3, 384, 640)\n",
      "\n",
      "0: 640x1088 2 balls, 493.9ms\n",
      "Speed: 7.5ms preprocess, 493.9ms inference, 1.0ms postprocess per image at shape (1, 3, 640, 1088)\n"
     ]
    },
    {
     "name": "stderr",
     "output_type": "stream",
     "text": [
      "Analizando partido (Golpes: 2):  99%|█████████▊| 148/150 [06:55<00:05,  2.79s/frames]"
     ]
    },
    {
     "name": "stdout",
     "output_type": "stream",
     "text": [
      "\n",
      "0: 384x640 6 persons, 1 car, 1 tennis racket, 970.1ms\n",
      "Speed: 1.9ms preprocess, 970.1ms inference, 0.9ms postprocess per image at shape (1, 3, 384, 640)\n",
      "\n",
      "0: 640x1088 2 balls, 463.1ms\n",
      "Speed: 7.1ms preprocess, 463.1ms inference, 1.0ms postprocess per image at shape (1, 3, 640, 1088)\n"
     ]
    },
    {
     "name": "stderr",
     "output_type": "stream",
     "text": [
      "Analizando partido (Golpes: 2):  99%|█████████▉| 149/150 [06:58<00:02,  2.75s/frames]"
     ]
    },
    {
     "name": "stdout",
     "output_type": "stream",
     "text": [
      "\n",
      "0: 384x640 6 persons, 1 car, 2 tennis rackets, 998.6ms\n",
      "Speed: 3.2ms preprocess, 998.6ms inference, 1.0ms postprocess per image at shape (1, 3, 384, 640)\n",
      "\n",
      "0: 640x1088 2 balls, 454.3ms\n",
      "Speed: 6.9ms preprocess, 454.3ms inference, 0.9ms postprocess per image at shape (1, 3, 640, 1088)\n"
     ]
    },
    {
     "name": "stderr",
     "output_type": "stream",
     "text": [
      "Analizando partido (Golpes: 2): 100%|██████████| 150/150 [07:01<00:00,  2.81s/frames]"
     ]
    },
    {
     "name": "stdout",
     "output_type": "stream",
     "text": [
      "\n",
      "==================================================\n",
      "ESTADÍSTICAS DEL PARTIDO\n",
      "==================================================\n",
      "Total de golpes detectados: 2\n",
      "Duración del video: 5.00 segundos\n",
      "FPS: 30.00\n",
      "Total de frames: 150\n",
      "\n",
      "Golpes por jugador:\n",
      "  Jugador 2: 2 golpes\n",
      "==================================================\n",
      "Video procesado guardado en: data/gpteado.mp4\n"
     ]
    },
    {
     "name": "stderr",
     "output_type": "stream",
     "text": [
      "\n"
     ]
    },
    {
     "data": {
      "text/plain": [
       "MatchStatistics(total_hits=2, hits_per_player={2: 2}, total_frames=150, video_duration=5.0, fps=30.0)"
      ]
     },
     "execution_count": 3,
     "metadata": {},
     "output_type": "execute_result"
    }
   ],
   "source": [
    "match_processor = PadelMatchProcessor()\n",
    "match_processor.process_video_with_output(\"data/video_cortado_5s.mp4\",\"data/gpteado.mp4\")"
   ]
  },
  {
   "cell_type": "markdown",
   "id": "aa50839e",
   "metadata": {},
   "source": [
    "- El jugador 0 dio 1 golpe\n",
    "- el jugador 1 dio 2 golpes\n",
    "- el jugador 2 dio 1 golpe\n",
    "- el jugador 3 dio 2 golpe"
   ]
  },
  {
   "cell_type": "code",
   "execution_count": 4,
   "id": "3a481d1f",
   "metadata": {},
   "outputs": [],
   "source": [
    "#match_processor = PadelMatchProcessor()\n",
    "#match_processor.process_video(\"data/video_cortado_10s.mp4\")\n",
    "#match_processor.print_statistics()"
   ]
  },
  {
   "cell_type": "markdown",
   "id": "beeb7e49",
   "metadata": {},
   "source": [
    "- Jugador 0: 1 golpe\n",
    "- Jugador 1: 4 golpes\n",
    "- Jugador 2: 1 golpe\n",
    "- Jugador 3: 4 golpes"
   ]
  },
  {
   "cell_type": "markdown",
   "id": "d062702e",
   "metadata": {},
   "source": []
  },
  {
   "cell_type": "code",
   "execution_count": 5,
   "id": "2b687625",
   "metadata": {},
   "outputs": [],
   "source": [
    "#match_processor.print_statistics()"
   ]
  }
 ],
 "metadata": {
  "kernelspec": {
   "display_name": "padel-ia-fICo6y9j",
   "language": "python",
   "name": "python3"
  },
  "language_info": {
   "codemirror_mode": {
    "name": "ipython",
    "version": 3
   },
   "file_extension": ".py",
   "mimetype": "text/x-python",
   "name": "python",
   "nbconvert_exporter": "python",
   "pygments_lexer": "ipython3",
   "version": "3.12.3"
  }
 },
 "nbformat": 4,
 "nbformat_minor": 5
}
